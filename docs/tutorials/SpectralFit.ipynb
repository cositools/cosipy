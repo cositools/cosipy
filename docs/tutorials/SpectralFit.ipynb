{
 "cells": [
  {
   "cell_type": "markdown",
   "id": "74a86fb5-4e54-4e3f-b349-3e60fbdd0279",
   "metadata": {},
   "source": [
    "# Spectral fitting example"
   ]
  },
  {
   "cell_type": "markdown",
   "id": "e7df3443-3ce1-43f3-90b5-1bceb7bc9af0",
   "metadata": {},
   "source": [
    "**To run this, you need FlatContinuumIsotropic.LowRes.binnedimaging.imagingresponse.area.nside8.cosipy.h5.zip in cosipy/cosipy/test_data. To fit the megalib simulation, you need grb_bkg_binned_data.hdf5, grb_binned_data.hdf5, & bkg_binned_data.hdf5 in cosipy/docs/tutorials/data, and to fit the source injector data, you need GRBdata.h5, GRBsignal.h5, and GRBbkg.h5 in cosipy/docs/tutorials/data.**"
   ]
  },
  {
   "cell_type": "markdown",
   "id": "ba543558-7de9-494c-8b72-8cdd368676e9",
   "metadata": {},
   "source": [
    "The goal of this notebook is to get familiar with 3ML and get a concrete idea on the spectral fitting will work. \n",
    "\n",
    "[3ML](https://threeml.readthedocs.io/) is a high-level interface that allows multiple dataset form different instruments to be used coherently to fit the parameters of source model. A source model typically consists on a list of sources with a parametrized spectral shapes, sky locations and, for extended sources, shape. Polarization is also possible. A \"coherent\" analysis, in this context, means that the source model parameters are fitted using all available datasets simultanously, rather than performing individual fits and finding a well-suited common model a posteriori. \n",
    "\n",
    "In order for a dataset to be included in 3ML, each instrument needs to provide a \"plugin\". Each plugin is responsible for reading the data, convolving the source model (provided by 3ML) with the instrument response, and returning a likelihood. In our case, we'll compute a binned Poisson likelihood:\n",
    "\n",
    "$$\n",
    "\\log \\mathcal{L}(\\mathbf{x}) = \\sum_i \\log \\frac{\\lambda_i(\\mathbf{x})^{d_i} \\exp (-\\lambda_i)}{d_i!}\n",
    "$$\n",
    "\n",
    "where $d_i$ are the counts on each bin and $\\lambda_i$ are the _expected_ counts, given a source model with parameters $\\mathbf{x}$. \n",
    "\n",
    "In this example, we will fit a single point source with a known location. We'll assume the background is known and fixed. Finally, we will fit a power law:\n",
    "\n",
    "$$\n",
    "F(E) = K \\left(\\frac{E}{E_{piv}}\\right)^{-index}\n",
    "$$\n",
    "\n",
    "\n",
    "where $K$ (normalization) and the spectral index are the only free parameters, while $E_{piv}$ is the pivot energy which is fixed (and arbitrary).\n",
    "\n",
    "Considering these assumptions:\n",
    "\n",
    "$$\n",
    "\\lambda_i(\\mathbf{x}) = b_i + s_i(\\mathbf{x}) = b_i + s_i(\\mathrm{norm}, \\mathrm{index})\n",
    "$$\n",
    "\n",
    "where $b_i$ are the estimated counts due to background on each bin, and $s_i$ are the corresponding expected counts from the source.\n",
    "\n",
    "The goal is then to find the values of $\\mathbf{x} = [\\mathrm{norm}, \\mathrm{index}]$ that maximize $\\mathcal{L}$. These are the best estimation of the parameters.\n",
    "\n",
    "The final module needs to also fit the background, handle multiple point-like and extended sources, as well as all the spectral models supported by 3ML. Eventually, it will also fit the polarization angle. However, this simple example already contains all the necessary pieces to do a fit."
   ]
  },
  {
   "cell_type": "code",
   "execution_count": 1,
   "id": "ce42ab82-3bbd-4729-8f84-a4e32eb3bb24",
   "metadata": {},
   "outputs": [
    {
     "data": {
      "text/html": [
       "<pre style=\"white-space:pre;overflow-x:auto;line-height:normal;font-family:Menlo,'DejaVu Sans Mono',consolas,'Courier New',monospace\"><span style=\"color: #00ff00; text-decoration-color: #00ff00\">17:01:30 </span><span style=\"color: #af5fd7; text-decoration-color: #af5fd7\">WARNING </span> <span style=\"color: #c6c6c6; text-decoration-color: #c6c6c6; font-weight: bold\"> The naima package is not available. Models that depend on it will not be         </span><a href=\"file:///Users/eneights/opt/anaconda3/envs/cosipy/lib/python3.9/site-packages/astromodels/functions/functions_1D/functions.py\" target=\"_blank\"><span style=\"color: #7f7f7f; text-decoration-color: #7f7f7f\">functions.py</span></a><span style=\"color: #7f7f7f; text-decoration-color: #7f7f7f\">:</span><a href=\"file:///Users/eneights/opt/anaconda3/envs/cosipy/lib/python3.9/site-packages/astromodels/functions/functions_1D/functions.py#48\" target=\"_blank\"><span style=\"color: #7f7f7f; text-decoration-color: #7f7f7f\">48</span></a>\n",
       "<span style=\"color: #00ff00; text-decoration-color: #00ff00\">         </span>         <span style=\"color: #c6c6c6; text-decoration-color: #c6c6c6; font-weight: bold\">available                                                                         </span><span style=\"color: #7f7f7f; text-decoration-color: #7f7f7f\">               </span>\n",
       "</pre>\n"
      ],
      "text/plain": [
       "\u001b[38;5;46m17:01:30\u001b[0m\u001b[38;5;46m \u001b[0m\u001b[38;5;134mWARNING \u001b[0m \u001b[1;38;5;251m The naima package is not available. Models that depend on it will not be        \u001b[0m\u001b[1;38;5;251m \u001b[0m\u001b]8;id=273023;file:///Users/eneights/opt/anaconda3/envs/cosipy/lib/python3.9/site-packages/astromodels/functions/functions_1D/functions.py\u001b\\\u001b[2mfunctions.py\u001b[0m\u001b]8;;\u001b\\\u001b[2m:\u001b[0m\u001b]8;id=54130;file:///Users/eneights/opt/anaconda3/envs/cosipy/lib/python3.9/site-packages/astromodels/functions/functions_1D/functions.py#48\u001b\\\u001b[2m48\u001b[0m\u001b]8;;\u001b\\\n",
       "\u001b[38;5;46m         \u001b[0m         \u001b[1;38;5;251mavailable                                                                        \u001b[0m\u001b[1;38;5;251m \u001b[0m\u001b[2m               \u001b[0m\n"
      ]
     },
     "metadata": {},
     "output_type": "display_data"
    },
    {
     "data": {
      "text/html": [
       "<pre style=\"white-space:pre;overflow-x:auto;line-height:normal;font-family:Menlo,'DejaVu Sans Mono',consolas,'Courier New',monospace\"><span style=\"color: #00ff00; text-decoration-color: #00ff00\">         </span><span style=\"color: #af5fd7; text-decoration-color: #af5fd7\">WARNING </span> <span style=\"color: #c6c6c6; text-decoration-color: #c6c6c6; font-weight: bold\"> The GSL library or the pygsl wrapper cannot be loaded. Models that depend on it  </span><a href=\"file:///Users/eneights/opt/anaconda3/envs/cosipy/lib/python3.9/site-packages/astromodels/functions/functions_1D/functions.py\" target=\"_blank\"><span style=\"color: #7f7f7f; text-decoration-color: #7f7f7f\">functions.py</span></a><span style=\"color: #7f7f7f; text-decoration-color: #7f7f7f\">:</span><a href=\"file:///Users/eneights/opt/anaconda3/envs/cosipy/lib/python3.9/site-packages/astromodels/functions/functions_1D/functions.py#69\" target=\"_blank\"><span style=\"color: #7f7f7f; text-decoration-color: #7f7f7f\">69</span></a>\n",
       "<span style=\"color: #00ff00; text-decoration-color: #00ff00\">         </span>         <span style=\"color: #c6c6c6; text-decoration-color: #c6c6c6; font-weight: bold\">will not be available.                                                            </span><span style=\"color: #7f7f7f; text-decoration-color: #7f7f7f\">               </span>\n",
       "</pre>\n"
      ],
      "text/plain": [
       "\u001b[38;5;46m        \u001b[0m\u001b[38;5;46m \u001b[0m\u001b[38;5;134mWARNING \u001b[0m \u001b[1;38;5;251m The GSL library or the pygsl wrapper cannot be loaded. Models that depend on it \u001b[0m\u001b[1;38;5;251m \u001b[0m\u001b]8;id=279323;file:///Users/eneights/opt/anaconda3/envs/cosipy/lib/python3.9/site-packages/astromodels/functions/functions_1D/functions.py\u001b\\\u001b[2mfunctions.py\u001b[0m\u001b]8;;\u001b\\\u001b[2m:\u001b[0m\u001b]8;id=247730;file:///Users/eneights/opt/anaconda3/envs/cosipy/lib/python3.9/site-packages/astromodels/functions/functions_1D/functions.py#69\u001b\\\u001b[2m69\u001b[0m\u001b]8;;\u001b\\\n",
       "\u001b[38;5;46m         \u001b[0m         \u001b[1;38;5;251mwill not be available.                                                           \u001b[0m\u001b[1;38;5;251m \u001b[0m\u001b[2m               \u001b[0m\n"
      ]
     },
     "metadata": {},
     "output_type": "display_data"
    },
    {
     "data": {
      "text/html": [
       "<pre style=\"white-space:pre;overflow-x:auto;line-height:normal;font-family:Menlo,'DejaVu Sans Mono',consolas,'Courier New',monospace\"><span style=\"color: #00ff00; text-decoration-color: #00ff00\">         </span><span style=\"color: #af5fd7; text-decoration-color: #af5fd7\">WARNING </span> <span style=\"color: #c6c6c6; text-decoration-color: #c6c6c6; font-weight: bold\"> We have set the min_value of K to </span><span style=\"color: #c0c0c0; text-decoration-color: #c0c0c0; font-weight: bold\">1e-99</span><span style=\"color: #c6c6c6; text-decoration-color: #c6c6c6; font-weight: bold\"> because there was a postive transform   </span><a href=\"file:///Users/eneights/opt/anaconda3/envs/cosipy/lib/python3.9/site-packages/astromodels/core/parameter.py\" target=\"_blank\"><span style=\"color: #7f7f7f; text-decoration-color: #7f7f7f\">parameter.py</span></a><span style=\"color: #7f7f7f; text-decoration-color: #7f7f7f\">:</span><a href=\"file:///Users/eneights/opt/anaconda3/envs/cosipy/lib/python3.9/site-packages/astromodels/core/parameter.py#704\" target=\"_blank\"><span style=\"color: #7f7f7f; text-decoration-color: #7f7f7f\">704</span></a>\n",
       "</pre>\n"
      ],
      "text/plain": [
       "\u001b[38;5;46m        \u001b[0m\u001b[38;5;46m \u001b[0m\u001b[38;5;134mWARNING \u001b[0m \u001b[1;38;5;251m We have set the min_value of K to \u001b[0m\u001b[1;37m1e-99\u001b[0m\u001b[1;38;5;251m because there was a postive transform  \u001b[0m\u001b[1;38;5;251m \u001b[0m\u001b]8;id=623736;file:///Users/eneights/opt/anaconda3/envs/cosipy/lib/python3.9/site-packages/astromodels/core/parameter.py\u001b\\\u001b[2mparameter.py\u001b[0m\u001b]8;;\u001b\\\u001b[2m:\u001b[0m\u001b]8;id=269162;file:///Users/eneights/opt/anaconda3/envs/cosipy/lib/python3.9/site-packages/astromodels/core/parameter.py#704\u001b\\\u001b[2m704\u001b[0m\u001b]8;;\u001b\\\n"
      ]
     },
     "metadata": {},
     "output_type": "display_data"
    },
    {
     "data": {
      "text/html": [
       "<pre style=\"white-space:pre;overflow-x:auto;line-height:normal;font-family:Menlo,'DejaVu Sans Mono',consolas,'Courier New',monospace\"><span style=\"color: #00ff00; text-decoration-color: #00ff00\">         </span><span style=\"color: #af5fd7; text-decoration-color: #af5fd7\">WARNING </span> <span style=\"color: #c6c6c6; text-decoration-color: #c6c6c6; font-weight: bold\"> We have set the min_value of K to </span><span style=\"color: #c0c0c0; text-decoration-color: #c0c0c0; font-weight: bold\">1e-99</span><span style=\"color: #c6c6c6; text-decoration-color: #c6c6c6; font-weight: bold\"> because there was a postive transform   </span><a href=\"file:///Users/eneights/opt/anaconda3/envs/cosipy/lib/python3.9/site-packages/astromodels/core/parameter.py\" target=\"_blank\"><span style=\"color: #7f7f7f; text-decoration-color: #7f7f7f\">parameter.py</span></a><span style=\"color: #7f7f7f; text-decoration-color: #7f7f7f\">:</span><a href=\"file:///Users/eneights/opt/anaconda3/envs/cosipy/lib/python3.9/site-packages/astromodels/core/parameter.py#704\" target=\"_blank\"><span style=\"color: #7f7f7f; text-decoration-color: #7f7f7f\">704</span></a>\n",
       "</pre>\n"
      ],
      "text/plain": [
       "\u001b[38;5;46m        \u001b[0m\u001b[38;5;46m \u001b[0m\u001b[38;5;134mWARNING \u001b[0m \u001b[1;38;5;251m We have set the min_value of K to \u001b[0m\u001b[1;37m1e-99\u001b[0m\u001b[1;38;5;251m because there was a postive transform  \u001b[0m\u001b[1;38;5;251m \u001b[0m\u001b]8;id=940257;file:///Users/eneights/opt/anaconda3/envs/cosipy/lib/python3.9/site-packages/astromodels/core/parameter.py\u001b\\\u001b[2mparameter.py\u001b[0m\u001b]8;;\u001b\\\u001b[2m:\u001b[0m\u001b]8;id=6532;file:///Users/eneights/opt/anaconda3/envs/cosipy/lib/python3.9/site-packages/astromodels/core/parameter.py#704\u001b\\\u001b[2m704\u001b[0m\u001b]8;;\u001b\\\n"
      ]
     },
     "metadata": {},
     "output_type": "display_data"
    },
    {
     "data": {
      "text/html": [
       "<pre style=\"white-space:pre;overflow-x:auto;line-height:normal;font-family:Menlo,'DejaVu Sans Mono',consolas,'Courier New',monospace\"><span style=\"color: #00ff00; text-decoration-color: #00ff00\">         </span><span style=\"color: #af5fd7; text-decoration-color: #af5fd7\">WARNING </span> <span style=\"color: #c6c6c6; text-decoration-color: #c6c6c6; font-weight: bold\"> We have set the min_value of K to </span><span style=\"color: #c0c0c0; text-decoration-color: #c0c0c0; font-weight: bold\">1e-99</span><span style=\"color: #c6c6c6; text-decoration-color: #c6c6c6; font-weight: bold\"> because there was a postive transform   </span><a href=\"file:///Users/eneights/opt/anaconda3/envs/cosipy/lib/python3.9/site-packages/astromodels/core/parameter.py\" target=\"_blank\"><span style=\"color: #7f7f7f; text-decoration-color: #7f7f7f\">parameter.py</span></a><span style=\"color: #7f7f7f; text-decoration-color: #7f7f7f\">:</span><a href=\"file:///Users/eneights/opt/anaconda3/envs/cosipy/lib/python3.9/site-packages/astromodels/core/parameter.py#704\" target=\"_blank\"><span style=\"color: #7f7f7f; text-decoration-color: #7f7f7f\">704</span></a>\n",
       "</pre>\n"
      ],
      "text/plain": [
       "\u001b[38;5;46m        \u001b[0m\u001b[38;5;46m \u001b[0m\u001b[38;5;134mWARNING \u001b[0m \u001b[1;38;5;251m We have set the min_value of K to \u001b[0m\u001b[1;37m1e-99\u001b[0m\u001b[1;38;5;251m because there was a postive transform  \u001b[0m\u001b[1;38;5;251m \u001b[0m\u001b]8;id=340359;file:///Users/eneights/opt/anaconda3/envs/cosipy/lib/python3.9/site-packages/astromodels/core/parameter.py\u001b\\\u001b[2mparameter.py\u001b[0m\u001b]8;;\u001b\\\u001b[2m:\u001b[0m\u001b]8;id=403524;file:///Users/eneights/opt/anaconda3/envs/cosipy/lib/python3.9/site-packages/astromodels/core/parameter.py#704\u001b\\\u001b[2m704\u001b[0m\u001b]8;;\u001b\\\n"
      ]
     },
     "metadata": {},
     "output_type": "display_data"
    },
    {
     "data": {
      "text/html": [
       "<pre style=\"white-space:pre;overflow-x:auto;line-height:normal;font-family:Menlo,'DejaVu Sans Mono',consolas,'Courier New',monospace\"><span style=\"color: #00ff00; text-decoration-color: #00ff00\">         </span><span style=\"color: #af5fd7; text-decoration-color: #af5fd7\">WARNING </span> <span style=\"color: #c6c6c6; text-decoration-color: #c6c6c6; font-weight: bold\"> We have set the min_value of K to </span><span style=\"color: #c0c0c0; text-decoration-color: #c0c0c0; font-weight: bold\">1e-99</span><span style=\"color: #c6c6c6; text-decoration-color: #c6c6c6; font-weight: bold\"> because there was a postive transform   </span><a href=\"file:///Users/eneights/opt/anaconda3/envs/cosipy/lib/python3.9/site-packages/astromodels/core/parameter.py\" target=\"_blank\"><span style=\"color: #7f7f7f; text-decoration-color: #7f7f7f\">parameter.py</span></a><span style=\"color: #7f7f7f; text-decoration-color: #7f7f7f\">:</span><a href=\"file:///Users/eneights/opt/anaconda3/envs/cosipy/lib/python3.9/site-packages/astromodels/core/parameter.py#704\" target=\"_blank\"><span style=\"color: #7f7f7f; text-decoration-color: #7f7f7f\">704</span></a>\n",
       "</pre>\n"
      ],
      "text/plain": [
       "\u001b[38;5;46m        \u001b[0m\u001b[38;5;46m \u001b[0m\u001b[38;5;134mWARNING \u001b[0m \u001b[1;38;5;251m We have set the min_value of K to \u001b[0m\u001b[1;37m1e-99\u001b[0m\u001b[1;38;5;251m because there was a postive transform  \u001b[0m\u001b[1;38;5;251m \u001b[0m\u001b]8;id=810012;file:///Users/eneights/opt/anaconda3/envs/cosipy/lib/python3.9/site-packages/astromodels/core/parameter.py\u001b\\\u001b[2mparameter.py\u001b[0m\u001b]8;;\u001b\\\u001b[2m:\u001b[0m\u001b]8;id=202609;file:///Users/eneights/opt/anaconda3/envs/cosipy/lib/python3.9/site-packages/astromodels/core/parameter.py#704\u001b\\\u001b[2m704\u001b[0m\u001b]8;;\u001b\\\n"
      ]
     },
     "metadata": {},
     "output_type": "display_data"
    },
    {
     "data": {
      "text/html": [
       "<pre style=\"white-space:pre;overflow-x:auto;line-height:normal;font-family:Menlo,'DejaVu Sans Mono',consolas,'Courier New',monospace\"><span style=\"color: #00ff00; text-decoration-color: #00ff00\">         </span><span style=\"color: #af5fd7; text-decoration-color: #af5fd7\">WARNING </span> <span style=\"color: #c6c6c6; text-decoration-color: #c6c6c6; font-weight: bold\"> We have set the min_value of F to </span><span style=\"color: #c0c0c0; text-decoration-color: #c0c0c0; font-weight: bold\">1e-99</span><span style=\"color: #c6c6c6; text-decoration-color: #c6c6c6; font-weight: bold\"> because there was a postive transform   </span><a href=\"file:///Users/eneights/opt/anaconda3/envs/cosipy/lib/python3.9/site-packages/astromodels/core/parameter.py\" target=\"_blank\"><span style=\"color: #7f7f7f; text-decoration-color: #7f7f7f\">parameter.py</span></a><span style=\"color: #7f7f7f; text-decoration-color: #7f7f7f\">:</span><a href=\"file:///Users/eneights/opt/anaconda3/envs/cosipy/lib/python3.9/site-packages/astromodels/core/parameter.py#704\" target=\"_blank\"><span style=\"color: #7f7f7f; text-decoration-color: #7f7f7f\">704</span></a>\n",
       "</pre>\n"
      ],
      "text/plain": [
       "\u001b[38;5;46m        \u001b[0m\u001b[38;5;46m \u001b[0m\u001b[38;5;134mWARNING \u001b[0m \u001b[1;38;5;251m We have set the min_value of F to \u001b[0m\u001b[1;37m1e-99\u001b[0m\u001b[1;38;5;251m because there was a postive transform  \u001b[0m\u001b[1;38;5;251m \u001b[0m\u001b]8;id=533539;file:///Users/eneights/opt/anaconda3/envs/cosipy/lib/python3.9/site-packages/astromodels/core/parameter.py\u001b\\\u001b[2mparameter.py\u001b[0m\u001b]8;;\u001b\\\u001b[2m:\u001b[0m\u001b]8;id=488793;file:///Users/eneights/opt/anaconda3/envs/cosipy/lib/python3.9/site-packages/astromodels/core/parameter.py#704\u001b\\\u001b[2m704\u001b[0m\u001b]8;;\u001b\\\n"
      ]
     },
     "metadata": {},
     "output_type": "display_data"
    },
    {
     "data": {
      "text/html": [
       "<pre style=\"white-space:pre;overflow-x:auto;line-height:normal;font-family:Menlo,'DejaVu Sans Mono',consolas,'Courier New',monospace\"><span style=\"color: #00ff00; text-decoration-color: #00ff00\">         </span><span style=\"color: #af5fd7; text-decoration-color: #af5fd7\">WARNING </span> <span style=\"color: #c6c6c6; text-decoration-color: #c6c6c6; font-weight: bold\"> We have set the min_value of K to </span><span style=\"color: #c0c0c0; text-decoration-color: #c0c0c0; font-weight: bold\">1e-99</span><span style=\"color: #c6c6c6; text-decoration-color: #c6c6c6; font-weight: bold\"> because there was a postive transform   </span><a href=\"file:///Users/eneights/opt/anaconda3/envs/cosipy/lib/python3.9/site-packages/astromodels/core/parameter.py\" target=\"_blank\"><span style=\"color: #7f7f7f; text-decoration-color: #7f7f7f\">parameter.py</span></a><span style=\"color: #7f7f7f; text-decoration-color: #7f7f7f\">:</span><a href=\"file:///Users/eneights/opt/anaconda3/envs/cosipy/lib/python3.9/site-packages/astromodels/core/parameter.py#704\" target=\"_blank\"><span style=\"color: #7f7f7f; text-decoration-color: #7f7f7f\">704</span></a>\n",
       "</pre>\n"
      ],
      "text/plain": [
       "\u001b[38;5;46m        \u001b[0m\u001b[38;5;46m \u001b[0m\u001b[38;5;134mWARNING \u001b[0m \u001b[1;38;5;251m We have set the min_value of K to \u001b[0m\u001b[1;37m1e-99\u001b[0m\u001b[1;38;5;251m because there was a postive transform  \u001b[0m\u001b[1;38;5;251m \u001b[0m\u001b]8;id=344663;file:///Users/eneights/opt/anaconda3/envs/cosipy/lib/python3.9/site-packages/astromodels/core/parameter.py\u001b\\\u001b[2mparameter.py\u001b[0m\u001b]8;;\u001b\\\u001b[2m:\u001b[0m\u001b]8;id=99222;file:///Users/eneights/opt/anaconda3/envs/cosipy/lib/python3.9/site-packages/astromodels/core/parameter.py#704\u001b\\\u001b[2m704\u001b[0m\u001b]8;;\u001b\\\n"
      ]
     },
     "metadata": {},
     "output_type": "display_data"
    },
    {
     "data": {
      "text/html": [
       "<pre style=\"white-space:pre;overflow-x:auto;line-height:normal;font-family:Menlo,'DejaVu Sans Mono',consolas,'Courier New',monospace\"><span style=\"color: #00ff00; text-decoration-color: #00ff00\">17:01:30 </span><span style=\"color: #00ffaf; text-decoration-color: #00ffaf\">INFO    </span> <span style=\"color: #c6c6c6; text-decoration-color: #c6c6c6; font-weight: bold\"> Starting 3ML!                                                                     </span><a href=\"file:///Users/eneights/opt/anaconda3/envs/cosipy/lib/python3.9/site-packages/threeML/__init__.py\" target=\"_blank\"><span style=\"color: #7f7f7f; text-decoration-color: #7f7f7f\">__init__.py</span></a><span style=\"color: #7f7f7f; text-decoration-color: #7f7f7f\">:</span><a href=\"file:///Users/eneights/opt/anaconda3/envs/cosipy/lib/python3.9/site-packages/threeML/__init__.py#35\" target=\"_blank\"><span style=\"color: #7f7f7f; text-decoration-color: #7f7f7f\">35</span></a>\n",
       "</pre>\n"
      ],
      "text/plain": [
       "\u001b[38;5;46m17:01:30\u001b[0m\u001b[38;5;46m \u001b[0m\u001b[38;5;49mINFO    \u001b[0m \u001b[1;38;5;251m Starting 3ML!                                                                    \u001b[0m\u001b[1;38;5;251m \u001b[0m\u001b]8;id=123790;file:///Users/eneights/opt/anaconda3/envs/cosipy/lib/python3.9/site-packages/threeML/__init__.py\u001b\\\u001b[2m__init__.py\u001b[0m\u001b]8;;\u001b\\\u001b[2m:\u001b[0m\u001b]8;id=189971;file:///Users/eneights/opt/anaconda3/envs/cosipy/lib/python3.9/site-packages/threeML/__init__.py#35\u001b\\\u001b[2m35\u001b[0m\u001b]8;;\u001b\\\n"
      ]
     },
     "metadata": {},
     "output_type": "display_data"
    },
    {
     "data": {
      "text/html": [
       "<pre style=\"white-space:pre;overflow-x:auto;line-height:normal;font-family:Menlo,'DejaVu Sans Mono',consolas,'Courier New',monospace\"><span style=\"color: #00ff00; text-decoration-color: #00ff00\">         </span><span style=\"color: #af5fd7; text-decoration-color: #af5fd7\">WARNING </span> <span style=\"color: #c6c6c6; text-decoration-color: #c6c6c6; font-weight: bold\"> WARNINGs here are </span><span style=\"color: #800000; text-decoration-color: #800000; font-weight: bold\">NOT</span><span style=\"color: #c6c6c6; text-decoration-color: #c6c6c6; font-weight: bold\"> errors                                                      </span><a href=\"file:///Users/eneights/opt/anaconda3/envs/cosipy/lib/python3.9/site-packages/threeML/__init__.py\" target=\"_blank\"><span style=\"color: #7f7f7f; text-decoration-color: #7f7f7f\">__init__.py</span></a><span style=\"color: #7f7f7f; text-decoration-color: #7f7f7f\">:</span><a href=\"file:///Users/eneights/opt/anaconda3/envs/cosipy/lib/python3.9/site-packages/threeML/__init__.py#36\" target=\"_blank\"><span style=\"color: #7f7f7f; text-decoration-color: #7f7f7f\">36</span></a>\n",
       "</pre>\n"
      ],
      "text/plain": [
       "\u001b[38;5;46m        \u001b[0m\u001b[38;5;46m \u001b[0m\u001b[38;5;134mWARNING \u001b[0m \u001b[1;38;5;251m WARNINGs here are \u001b[0m\u001b[1;31mNOT\u001b[0m\u001b[1;38;5;251m errors                                                     \u001b[0m\u001b[1;38;5;251m \u001b[0m\u001b]8;id=729067;file:///Users/eneights/opt/anaconda3/envs/cosipy/lib/python3.9/site-packages/threeML/__init__.py\u001b\\\u001b[2m__init__.py\u001b[0m\u001b]8;;\u001b\\\u001b[2m:\u001b[0m\u001b]8;id=747062;file:///Users/eneights/opt/anaconda3/envs/cosipy/lib/python3.9/site-packages/threeML/__init__.py#36\u001b\\\u001b[2m36\u001b[0m\u001b]8;;\u001b\\\n"
      ]
     },
     "metadata": {},
     "output_type": "display_data"
    },
    {
     "data": {
      "text/html": [
       "<pre style=\"white-space:pre;overflow-x:auto;line-height:normal;font-family:Menlo,'DejaVu Sans Mono',consolas,'Courier New',monospace\"><span style=\"color: #00ff00; text-decoration-color: #00ff00\">         </span><span style=\"color: #af5fd7; text-decoration-color: #af5fd7\">WARNING </span> <span style=\"color: #c6c6c6; text-decoration-color: #c6c6c6; font-weight: bold\"> but are inform you about optional packages that can be installed                  </span><a href=\"file:///Users/eneights/opt/anaconda3/envs/cosipy/lib/python3.9/site-packages/threeML/__init__.py\" target=\"_blank\"><span style=\"color: #7f7f7f; text-decoration-color: #7f7f7f\">__init__.py</span></a><span style=\"color: #7f7f7f; text-decoration-color: #7f7f7f\">:</span><a href=\"file:///Users/eneights/opt/anaconda3/envs/cosipy/lib/python3.9/site-packages/threeML/__init__.py#37\" target=\"_blank\"><span style=\"color: #7f7f7f; text-decoration-color: #7f7f7f\">37</span></a>\n",
       "</pre>\n"
      ],
      "text/plain": [
       "\u001b[38;5;46m        \u001b[0m\u001b[38;5;46m \u001b[0m\u001b[38;5;134mWARNING \u001b[0m \u001b[1;38;5;251m but are inform you about optional packages that can be installed                 \u001b[0m\u001b[1;38;5;251m \u001b[0m\u001b]8;id=445537;file:///Users/eneights/opt/anaconda3/envs/cosipy/lib/python3.9/site-packages/threeML/__init__.py\u001b\\\u001b[2m__init__.py\u001b[0m\u001b]8;;\u001b\\\u001b[2m:\u001b[0m\u001b]8;id=196429;file:///Users/eneights/opt/anaconda3/envs/cosipy/lib/python3.9/site-packages/threeML/__init__.py#37\u001b\\\u001b[2m37\u001b[0m\u001b]8;;\u001b\\\n"
      ]
     },
     "metadata": {},
     "output_type": "display_data"
    },
    {
     "data": {
      "text/html": [
       "<pre style=\"white-space:pre;overflow-x:auto;line-height:normal;font-family:Menlo,'DejaVu Sans Mono',consolas,'Courier New',monospace\"><span style=\"color: #00ff00; text-decoration-color: #00ff00\">         </span><span style=\"color: #af5fd7; text-decoration-color: #af5fd7\">WARNING </span> <span style=\"color: #c6c6c6; text-decoration-color: #c6c6c6; font-weight: bold\"> </span><span style=\"color: #800000; text-decoration-color: #800000; font-weight: bold\"> to disable these messages, turn off start_warning in your config file</span><span style=\"color: #c6c6c6; text-decoration-color: #c6c6c6; font-weight: bold\">            </span><a href=\"file:///Users/eneights/opt/anaconda3/envs/cosipy/lib/python3.9/site-packages/threeML/__init__.py\" target=\"_blank\"><span style=\"color: #7f7f7f; text-decoration-color: #7f7f7f\">__init__.py</span></a><span style=\"color: #7f7f7f; text-decoration-color: #7f7f7f\">:</span><a href=\"file:///Users/eneights/opt/anaconda3/envs/cosipy/lib/python3.9/site-packages/threeML/__init__.py#40\" target=\"_blank\"><span style=\"color: #7f7f7f; text-decoration-color: #7f7f7f\">40</span></a>\n",
       "</pre>\n"
      ],
      "text/plain": [
       "\u001b[38;5;46m        \u001b[0m\u001b[38;5;46m \u001b[0m\u001b[38;5;134mWARNING \u001b[0m \u001b[1;38;5;251m \u001b[0m\u001b[1;31m to disable these messages, turn off start_warning in your config file\u001b[0m\u001b[1;38;5;251m           \u001b[0m\u001b[1;38;5;251m \u001b[0m\u001b]8;id=993073;file:///Users/eneights/opt/anaconda3/envs/cosipy/lib/python3.9/site-packages/threeML/__init__.py\u001b\\\u001b[2m__init__.py\u001b[0m\u001b]8;;\u001b\\\u001b[2m:\u001b[0m\u001b]8;id=248901;file:///Users/eneights/opt/anaconda3/envs/cosipy/lib/python3.9/site-packages/threeML/__init__.py#40\u001b\\\u001b[2m40\u001b[0m\u001b]8;;\u001b\\\n"
      ]
     },
     "metadata": {},
     "output_type": "display_data"
    },
    {
     "data": {
      "text/html": [
       "<pre style=\"white-space:pre;overflow-x:auto;line-height:normal;font-family:Menlo,'DejaVu Sans Mono',consolas,'Courier New',monospace\"><span style=\"color: #00ff00; text-decoration-color: #00ff00\">         </span><span style=\"color: #af5fd7; text-decoration-color: #af5fd7\">WARNING </span> <span style=\"color: #c6c6c6; text-decoration-color: #c6c6c6; font-weight: bold\"> ROOT minimizer not available                                                </span><a href=\"file:///Users/eneights/opt/anaconda3/envs/cosipy/lib/python3.9/site-packages/threeML/minimizer/minimization.py\" target=\"_blank\"><span style=\"color: #7f7f7f; text-decoration-color: #7f7f7f\">minimization.py</span></a><span style=\"color: #7f7f7f; text-decoration-color: #7f7f7f\">:</span><a href=\"file:///Users/eneights/opt/anaconda3/envs/cosipy/lib/python3.9/site-packages/threeML/minimizer/minimization.py#1345\" target=\"_blank\"><span style=\"color: #7f7f7f; text-decoration-color: #7f7f7f\">1345</span></a>\n",
       "</pre>\n"
      ],
      "text/plain": [
       "\u001b[38;5;46m        \u001b[0m\u001b[38;5;46m \u001b[0m\u001b[38;5;134mWARNING \u001b[0m \u001b[1;38;5;251m ROOT minimizer not available                                               \u001b[0m\u001b[1;38;5;251m \u001b[0m\u001b]8;id=272102;file:///Users/eneights/opt/anaconda3/envs/cosipy/lib/python3.9/site-packages/threeML/minimizer/minimization.py\u001b\\\u001b[2mminimization.py\u001b[0m\u001b]8;;\u001b\\\u001b[2m:\u001b[0m\u001b]8;id=246876;file:///Users/eneights/opt/anaconda3/envs/cosipy/lib/python3.9/site-packages/threeML/minimizer/minimization.py#1345\u001b\\\u001b[2m1345\u001b[0m\u001b]8;;\u001b\\\n"
      ]
     },
     "metadata": {},
     "output_type": "display_data"
    },
    {
     "data": {
      "text/html": [
       "<pre style=\"white-space:pre;overflow-x:auto;line-height:normal;font-family:Menlo,'DejaVu Sans Mono',consolas,'Courier New',monospace\"><span style=\"color: #00ff00; text-decoration-color: #00ff00\">         </span><span style=\"color: #af5fd7; text-decoration-color: #af5fd7\">WARNING </span> <span style=\"color: #c6c6c6; text-decoration-color: #c6c6c6; font-weight: bold\"> Multinest minimizer not available                                           </span><a href=\"file:///Users/eneights/opt/anaconda3/envs/cosipy/lib/python3.9/site-packages/threeML/minimizer/minimization.py\" target=\"_blank\"><span style=\"color: #7f7f7f; text-decoration-color: #7f7f7f\">minimization.py</span></a><span style=\"color: #7f7f7f; text-decoration-color: #7f7f7f\">:</span><a href=\"file:///Users/eneights/opt/anaconda3/envs/cosipy/lib/python3.9/site-packages/threeML/minimizer/minimization.py#1357\" target=\"_blank\"><span style=\"color: #7f7f7f; text-decoration-color: #7f7f7f\">1357</span></a>\n",
       "</pre>\n"
      ],
      "text/plain": [
       "\u001b[38;5;46m        \u001b[0m\u001b[38;5;46m \u001b[0m\u001b[38;5;134mWARNING \u001b[0m \u001b[1;38;5;251m Multinest minimizer not available                                          \u001b[0m\u001b[1;38;5;251m \u001b[0m\u001b]8;id=337744;file:///Users/eneights/opt/anaconda3/envs/cosipy/lib/python3.9/site-packages/threeML/minimizer/minimization.py\u001b\\\u001b[2mminimization.py\u001b[0m\u001b]8;;\u001b\\\u001b[2m:\u001b[0m\u001b]8;id=745872;file:///Users/eneights/opt/anaconda3/envs/cosipy/lib/python3.9/site-packages/threeML/minimizer/minimization.py#1357\u001b\\\u001b[2m1357\u001b[0m\u001b]8;;\u001b\\\n"
      ]
     },
     "metadata": {},
     "output_type": "display_data"
    },
    {
     "data": {
      "text/html": [
       "<pre style=\"white-space:pre;overflow-x:auto;line-height:normal;font-family:Menlo,'DejaVu Sans Mono',consolas,'Courier New',monospace\"><span style=\"color: #00ff00; text-decoration-color: #00ff00\">         </span><span style=\"color: #af5fd7; text-decoration-color: #af5fd7\">WARNING </span> <span style=\"color: #c6c6c6; text-decoration-color: #c6c6c6; font-weight: bold\"> PyGMO is not available                                                      </span><a href=\"file:///Users/eneights/opt/anaconda3/envs/cosipy/lib/python3.9/site-packages/threeML/minimizer/minimization.py\" target=\"_blank\"><span style=\"color: #7f7f7f; text-decoration-color: #7f7f7f\">minimization.py</span></a><span style=\"color: #7f7f7f; text-decoration-color: #7f7f7f\">:</span><a href=\"file:///Users/eneights/opt/anaconda3/envs/cosipy/lib/python3.9/site-packages/threeML/minimizer/minimization.py#1369\" target=\"_blank\"><span style=\"color: #7f7f7f; text-decoration-color: #7f7f7f\">1369</span></a>\n",
       "</pre>\n"
      ],
      "text/plain": [
       "\u001b[38;5;46m        \u001b[0m\u001b[38;5;46m \u001b[0m\u001b[38;5;134mWARNING \u001b[0m \u001b[1;38;5;251m PyGMO is not available                                                     \u001b[0m\u001b[1;38;5;251m \u001b[0m\u001b]8;id=725030;file:///Users/eneights/opt/anaconda3/envs/cosipy/lib/python3.9/site-packages/threeML/minimizer/minimization.py\u001b\\\u001b[2mminimization.py\u001b[0m\u001b]8;;\u001b\\\u001b[2m:\u001b[0m\u001b]8;id=851407;file:///Users/eneights/opt/anaconda3/envs/cosipy/lib/python3.9/site-packages/threeML/minimizer/minimization.py#1369\u001b\\\u001b[2m1369\u001b[0m\u001b]8;;\u001b\\\n"
      ]
     },
     "metadata": {},
     "output_type": "display_data"
    },
    {
     "data": {
      "text/html": [
       "<pre style=\"white-space:pre;overflow-x:auto;line-height:normal;font-family:Menlo,'DejaVu Sans Mono',consolas,'Courier New',monospace\"><span style=\"color: #00ff00; text-decoration-color: #00ff00\">         </span><span style=\"color: #af5fd7; text-decoration-color: #af5fd7\">WARNING </span> <span style=\"color: #c6c6c6; text-decoration-color: #c6c6c6; font-weight: bold\"> The cthreeML package is not installed. You will not be able to use plugins which  </span><a href=\"file:///Users/eneights/opt/anaconda3/envs/cosipy/lib/python3.9/site-packages/threeML/__init__.py\" target=\"_blank\"><span style=\"color: #7f7f7f; text-decoration-color: #7f7f7f\">__init__.py</span></a><span style=\"color: #7f7f7f; text-decoration-color: #7f7f7f\">:</span><a href=\"file:///Users/eneights/opt/anaconda3/envs/cosipy/lib/python3.9/site-packages/threeML/__init__.py#94\" target=\"_blank\"><span style=\"color: #7f7f7f; text-decoration-color: #7f7f7f\">94</span></a>\n",
       "<span style=\"color: #00ff00; text-decoration-color: #00ff00\">         </span>         <span style=\"color: #c6c6c6; text-decoration-color: #c6c6c6; font-weight: bold\">require the C/C++ interface (currently HAWC)                                       </span><span style=\"color: #7f7f7f; text-decoration-color: #7f7f7f\">              </span>\n",
       "</pre>\n"
      ],
      "text/plain": [
       "\u001b[38;5;46m        \u001b[0m\u001b[38;5;46m \u001b[0m\u001b[38;5;134mWARNING \u001b[0m \u001b[1;38;5;251m The cthreeML package is not installed. You will not be able to use plugins which \u001b[0m\u001b[1;38;5;251m \u001b[0m\u001b]8;id=144394;file:///Users/eneights/opt/anaconda3/envs/cosipy/lib/python3.9/site-packages/threeML/__init__.py\u001b\\\u001b[2m__init__.py\u001b[0m\u001b]8;;\u001b\\\u001b[2m:\u001b[0m\u001b]8;id=441089;file:///Users/eneights/opt/anaconda3/envs/cosipy/lib/python3.9/site-packages/threeML/__init__.py#94\u001b\\\u001b[2m94\u001b[0m\u001b]8;;\u001b\\\n",
       "\u001b[38;5;46m         \u001b[0m         \u001b[1;38;5;251mrequire the C/C++ interface \u001b[0m\u001b[1;38;5;251m(\u001b[0m\u001b[1;38;5;251mcurrently HAWC\u001b[0m\u001b[1;38;5;251m)\u001b[0m\u001b[1;38;5;251m                                      \u001b[0m\u001b[1;38;5;251m \u001b[0m\u001b[2m              \u001b[0m\n"
      ]
     },
     "metadata": {},
     "output_type": "display_data"
    },
    {
     "data": {
      "text/html": [
       "<pre style=\"white-space:pre;overflow-x:auto;line-height:normal;font-family:Menlo,'DejaVu Sans Mono',consolas,'Courier New',monospace\"><span style=\"color: #00ff00; text-decoration-color: #00ff00\">         </span><span style=\"color: #af5fd7; text-decoration-color: #af5fd7\">WARNING </span> <span style=\"color: #c6c6c6; text-decoration-color: #c6c6c6; font-weight: bold\"> Could not import plugin HAWCLike.py. Do you have the relative instrument         </span><a href=\"file:///Users/eneights/opt/anaconda3/envs/cosipy/lib/python3.9/site-packages/threeML/__init__.py\" target=\"_blank\"><span style=\"color: #7f7f7f; text-decoration-color: #7f7f7f\">__init__.py</span></a><span style=\"color: #7f7f7f; text-decoration-color: #7f7f7f\">:</span><a href=\"file:///Users/eneights/opt/anaconda3/envs/cosipy/lib/python3.9/site-packages/threeML/__init__.py#144\" target=\"_blank\"><span style=\"color: #7f7f7f; text-decoration-color: #7f7f7f\">144</span></a>\n",
       "<span style=\"color: #00ff00; text-decoration-color: #00ff00\">         </span>         <span style=\"color: #c6c6c6; text-decoration-color: #c6c6c6; font-weight: bold\">software installed and configured?                                                </span><span style=\"color: #7f7f7f; text-decoration-color: #7f7f7f\">               </span>\n",
       "</pre>\n"
      ],
      "text/plain": [
       "\u001b[38;5;46m        \u001b[0m\u001b[38;5;46m \u001b[0m\u001b[38;5;134mWARNING \u001b[0m \u001b[1;38;5;251m Could not import plugin HAWCLike.py. Do you have the relative instrument        \u001b[0m\u001b[1;38;5;251m \u001b[0m\u001b]8;id=330652;file:///Users/eneights/opt/anaconda3/envs/cosipy/lib/python3.9/site-packages/threeML/__init__.py\u001b\\\u001b[2m__init__.py\u001b[0m\u001b]8;;\u001b\\\u001b[2m:\u001b[0m\u001b]8;id=436232;file:///Users/eneights/opt/anaconda3/envs/cosipy/lib/python3.9/site-packages/threeML/__init__.py#144\u001b\\\u001b[2m144\u001b[0m\u001b]8;;\u001b\\\n",
       "\u001b[38;5;46m         \u001b[0m         \u001b[1;38;5;251msoftware installed and configured?                                               \u001b[0m\u001b[1;38;5;251m \u001b[0m\u001b[2m               \u001b[0m\n"
      ]
     },
     "metadata": {},
     "output_type": "display_data"
    },
    {
     "data": {
      "text/html": [
       "<pre style=\"white-space:pre;overflow-x:auto;line-height:normal;font-family:Menlo,'DejaVu Sans Mono',consolas,'Courier New',monospace\"><span style=\"color: #00ff00; text-decoration-color: #00ff00\">         </span><span style=\"color: #af5fd7; text-decoration-color: #af5fd7\">WARNING </span> <span style=\"color: #c6c6c6; text-decoration-color: #c6c6c6; font-weight: bold\"> Could not import plugin FermiLATLike.py. Do you have the relative instrument     </span><a href=\"file:///Users/eneights/opt/anaconda3/envs/cosipy/lib/python3.9/site-packages/threeML/__init__.py\" target=\"_blank\"><span style=\"color: #7f7f7f; text-decoration-color: #7f7f7f\">__init__.py</span></a><span style=\"color: #7f7f7f; text-decoration-color: #7f7f7f\">:</span><a href=\"file:///Users/eneights/opt/anaconda3/envs/cosipy/lib/python3.9/site-packages/threeML/__init__.py#144\" target=\"_blank\"><span style=\"color: #7f7f7f; text-decoration-color: #7f7f7f\">144</span></a>\n",
       "<span style=\"color: #00ff00; text-decoration-color: #00ff00\">         </span>         <span style=\"color: #c6c6c6; text-decoration-color: #c6c6c6; font-weight: bold\">software installed and configured?                                                </span><span style=\"color: #7f7f7f; text-decoration-color: #7f7f7f\">               </span>\n",
       "</pre>\n"
      ],
      "text/plain": [
       "\u001b[38;5;46m        \u001b[0m\u001b[38;5;46m \u001b[0m\u001b[38;5;134mWARNING \u001b[0m \u001b[1;38;5;251m Could not import plugin FermiLATLike.py. Do you have the relative instrument    \u001b[0m\u001b[1;38;5;251m \u001b[0m\u001b]8;id=830351;file:///Users/eneights/opt/anaconda3/envs/cosipy/lib/python3.9/site-packages/threeML/__init__.py\u001b\\\u001b[2m__init__.py\u001b[0m\u001b]8;;\u001b\\\u001b[2m:\u001b[0m\u001b]8;id=848155;file:///Users/eneights/opt/anaconda3/envs/cosipy/lib/python3.9/site-packages/threeML/__init__.py#144\u001b\\\u001b[2m144\u001b[0m\u001b]8;;\u001b\\\n",
       "\u001b[38;5;46m         \u001b[0m         \u001b[1;38;5;251msoftware installed and configured?                                               \u001b[0m\u001b[1;38;5;251m \u001b[0m\u001b[2m               \u001b[0m\n"
      ]
     },
     "metadata": {},
     "output_type": "display_data"
    },
    {
     "data": {
      "text/html": [
       "<pre style=\"white-space:pre;overflow-x:auto;line-height:normal;font-family:Menlo,'DejaVu Sans Mono',consolas,'Courier New',monospace\"><span style=\"color: #00ff00; text-decoration-color: #00ff00\">17:01:31 </span><span style=\"color: #af5fd7; text-decoration-color: #af5fd7\">WARNING </span> <span style=\"color: #c6c6c6; text-decoration-color: #c6c6c6; font-weight: bold\"> No fermitools installed                                              </span><a href=\"file:///Users/eneights/opt/anaconda3/envs/cosipy/lib/python3.9/site-packages/threeML/utils/data_builders/fermi/lat_transient_builder.py\" target=\"_blank\"><span style=\"color: #7f7f7f; text-decoration-color: #7f7f7f\">lat_transient_builder.py</span></a><span style=\"color: #7f7f7f; text-decoration-color: #7f7f7f\">:</span><a href=\"file:///Users/eneights/opt/anaconda3/envs/cosipy/lib/python3.9/site-packages/threeML/utils/data_builders/fermi/lat_transient_builder.py#44\" target=\"_blank\"><span style=\"color: #7f7f7f; text-decoration-color: #7f7f7f\">44</span></a>\n",
       "</pre>\n"
      ],
      "text/plain": [
       "\u001b[38;5;46m17:01:31\u001b[0m\u001b[38;5;46m \u001b[0m\u001b[38;5;134mWARNING \u001b[0m \u001b[1;38;5;251m No fermitools installed                                             \u001b[0m\u001b[1;38;5;251m \u001b[0m\u001b]8;id=868076;file:///Users/eneights/opt/anaconda3/envs/cosipy/lib/python3.9/site-packages/threeML/utils/data_builders/fermi/lat_transient_builder.py\u001b\\\u001b[2mlat_transient_builder.py\u001b[0m\u001b]8;;\u001b\\\u001b[2m:\u001b[0m\u001b]8;id=965815;file:///Users/eneights/opt/anaconda3/envs/cosipy/lib/python3.9/site-packages/threeML/utils/data_builders/fermi/lat_transient_builder.py#44\u001b\\\u001b[2m44\u001b[0m\u001b]8;;\u001b\\\n"
      ]
     },
     "metadata": {},
     "output_type": "display_data"
    },
    {
     "data": {
      "text/html": [
       "<pre style=\"white-space:pre;overflow-x:auto;line-height:normal;font-family:Menlo,'DejaVu Sans Mono',consolas,'Courier New',monospace\"><span style=\"color: #00ff00; text-decoration-color: #00ff00\">17:01:31 </span><span style=\"color: #af5fd7; text-decoration-color: #af5fd7\">WARNING </span> <span style=\"color: #c6c6c6; text-decoration-color: #c6c6c6; font-weight: bold\"> Env. variable OMP_NUM_THREADS is not set. Please set it to </span><span style=\"color: #c0c0c0; text-decoration-color: #c0c0c0; font-weight: bold\">1</span><span style=\"color: #c6c6c6; text-decoration-color: #c6c6c6; font-weight: bold\"> for optimal         </span><a href=\"file:///Users/eneights/opt/anaconda3/envs/cosipy/lib/python3.9/site-packages/threeML/__init__.py\" target=\"_blank\"><span style=\"color: #7f7f7f; text-decoration-color: #7f7f7f\">__init__.py</span></a><span style=\"color: #7f7f7f; text-decoration-color: #7f7f7f\">:</span><a href=\"file:///Users/eneights/opt/anaconda3/envs/cosipy/lib/python3.9/site-packages/threeML/__init__.py#387\" target=\"_blank\"><span style=\"color: #7f7f7f; text-decoration-color: #7f7f7f\">387</span></a>\n",
       "<span style=\"color: #00ff00; text-decoration-color: #00ff00\">         </span>         <span style=\"color: #c6c6c6; text-decoration-color: #c6c6c6; font-weight: bold\">performances in 3ML                                                               </span><span style=\"color: #7f7f7f; text-decoration-color: #7f7f7f\">               </span>\n",
       "</pre>\n"
      ],
      "text/plain": [
       "\u001b[38;5;46m17:01:31\u001b[0m\u001b[38;5;46m \u001b[0m\u001b[38;5;134mWARNING \u001b[0m \u001b[1;38;5;251m Env. variable OMP_NUM_THREADS is not set. Please set it to \u001b[0m\u001b[1;37m1\u001b[0m\u001b[1;38;5;251m for optimal        \u001b[0m\u001b[1;38;5;251m \u001b[0m\u001b]8;id=363124;file:///Users/eneights/opt/anaconda3/envs/cosipy/lib/python3.9/site-packages/threeML/__init__.py\u001b\\\u001b[2m__init__.py\u001b[0m\u001b]8;;\u001b\\\u001b[2m:\u001b[0m\u001b]8;id=400112;file:///Users/eneights/opt/anaconda3/envs/cosipy/lib/python3.9/site-packages/threeML/__init__.py#387\u001b\\\u001b[2m387\u001b[0m\u001b]8;;\u001b\\\n",
       "\u001b[38;5;46m         \u001b[0m         \u001b[1;38;5;251mperformances in 3ML                                                              \u001b[0m\u001b[1;38;5;251m \u001b[0m\u001b[2m               \u001b[0m\n"
      ]
     },
     "metadata": {},
     "output_type": "display_data"
    },
    {
     "data": {
      "text/html": [
       "<pre style=\"white-space:pre;overflow-x:auto;line-height:normal;font-family:Menlo,'DejaVu Sans Mono',consolas,'Courier New',monospace\"><span style=\"color: #00ff00; text-decoration-color: #00ff00\">         </span><span style=\"color: #af5fd7; text-decoration-color: #af5fd7\">WARNING </span> <span style=\"color: #c6c6c6; text-decoration-color: #c6c6c6; font-weight: bold\"> Env. variable MKL_NUM_THREADS is not set. Please set it to </span><span style=\"color: #c0c0c0; text-decoration-color: #c0c0c0; font-weight: bold\">1</span><span style=\"color: #c6c6c6; text-decoration-color: #c6c6c6; font-weight: bold\"> for optimal         </span><a href=\"file:///Users/eneights/opt/anaconda3/envs/cosipy/lib/python3.9/site-packages/threeML/__init__.py\" target=\"_blank\"><span style=\"color: #7f7f7f; text-decoration-color: #7f7f7f\">__init__.py</span></a><span style=\"color: #7f7f7f; text-decoration-color: #7f7f7f\">:</span><a href=\"file:///Users/eneights/opt/anaconda3/envs/cosipy/lib/python3.9/site-packages/threeML/__init__.py#387\" target=\"_blank\"><span style=\"color: #7f7f7f; text-decoration-color: #7f7f7f\">387</span></a>\n",
       "<span style=\"color: #00ff00; text-decoration-color: #00ff00\">         </span>         <span style=\"color: #c6c6c6; text-decoration-color: #c6c6c6; font-weight: bold\">performances in 3ML                                                               </span><span style=\"color: #7f7f7f; text-decoration-color: #7f7f7f\">               </span>\n",
       "</pre>\n"
      ],
      "text/plain": [
       "\u001b[38;5;46m        \u001b[0m\u001b[38;5;46m \u001b[0m\u001b[38;5;134mWARNING \u001b[0m \u001b[1;38;5;251m Env. variable MKL_NUM_THREADS is not set. Please set it to \u001b[0m\u001b[1;37m1\u001b[0m\u001b[1;38;5;251m for optimal        \u001b[0m\u001b[1;38;5;251m \u001b[0m\u001b]8;id=710481;file:///Users/eneights/opt/anaconda3/envs/cosipy/lib/python3.9/site-packages/threeML/__init__.py\u001b\\\u001b[2m__init__.py\u001b[0m\u001b]8;;\u001b\\\u001b[2m:\u001b[0m\u001b]8;id=855170;file:///Users/eneights/opt/anaconda3/envs/cosipy/lib/python3.9/site-packages/threeML/__init__.py#387\u001b\\\u001b[2m387\u001b[0m\u001b]8;;\u001b\\\n",
       "\u001b[38;5;46m         \u001b[0m         \u001b[1;38;5;251mperformances in 3ML                                                              \u001b[0m\u001b[1;38;5;251m \u001b[0m\u001b[2m               \u001b[0m\n"
      ]
     },
     "metadata": {},
     "output_type": "display_data"
    },
    {
     "data": {
      "text/html": [
       "<pre style=\"white-space:pre;overflow-x:auto;line-height:normal;font-family:Menlo,'DejaVu Sans Mono',consolas,'Courier New',monospace\"><span style=\"color: #00ff00; text-decoration-color: #00ff00\">         </span><span style=\"color: #af5fd7; text-decoration-color: #af5fd7\">WARNING </span> <span style=\"color: #c6c6c6; text-decoration-color: #c6c6c6; font-weight: bold\"> Env. variable NUMEXPR_NUM_THREADS is not set. Please set it to </span><span style=\"color: #c0c0c0; text-decoration-color: #c0c0c0; font-weight: bold\">1</span><span style=\"color: #c6c6c6; text-decoration-color: #c6c6c6; font-weight: bold\"> for optimal     </span><a href=\"file:///Users/eneights/opt/anaconda3/envs/cosipy/lib/python3.9/site-packages/threeML/__init__.py\" target=\"_blank\"><span style=\"color: #7f7f7f; text-decoration-color: #7f7f7f\">__init__.py</span></a><span style=\"color: #7f7f7f; text-decoration-color: #7f7f7f\">:</span><a href=\"file:///Users/eneights/opt/anaconda3/envs/cosipy/lib/python3.9/site-packages/threeML/__init__.py#387\" target=\"_blank\"><span style=\"color: #7f7f7f; text-decoration-color: #7f7f7f\">387</span></a>\n",
       "<span style=\"color: #00ff00; text-decoration-color: #00ff00\">         </span>         <span style=\"color: #c6c6c6; text-decoration-color: #c6c6c6; font-weight: bold\">performances in 3ML                                                               </span><span style=\"color: #7f7f7f; text-decoration-color: #7f7f7f\">               </span>\n",
       "</pre>\n"
      ],
      "text/plain": [
       "\u001b[38;5;46m        \u001b[0m\u001b[38;5;46m \u001b[0m\u001b[38;5;134mWARNING \u001b[0m \u001b[1;38;5;251m Env. variable NUMEXPR_NUM_THREADS is not set. Please set it to \u001b[0m\u001b[1;37m1\u001b[0m\u001b[1;38;5;251m for optimal    \u001b[0m\u001b[1;38;5;251m \u001b[0m\u001b]8;id=992145;file:///Users/eneights/opt/anaconda3/envs/cosipy/lib/python3.9/site-packages/threeML/__init__.py\u001b\\\u001b[2m__init__.py\u001b[0m\u001b]8;;\u001b\\\u001b[2m:\u001b[0m\u001b]8;id=987697;file:///Users/eneights/opt/anaconda3/envs/cosipy/lib/python3.9/site-packages/threeML/__init__.py#387\u001b\\\u001b[2m387\u001b[0m\u001b]8;;\u001b\\\n",
       "\u001b[38;5;46m         \u001b[0m         \u001b[1;38;5;251mperformances in 3ML                                                              \u001b[0m\u001b[1;38;5;251m \u001b[0m\u001b[2m               \u001b[0m\n"
      ]
     },
     "metadata": {},
     "output_type": "display_data"
    }
   ],
   "source": [
    "from cosipy import COSILike, test_data, BinnedData\n",
    "from cosipy.coordinates.orientation import Orientation_file\n",
    "from scoords import SpacecraftFrame, Attitude\n",
    "\n",
    "from histpy import Histogram\n",
    "\n",
    "from astropy.time import Time\n",
    "import astropy.units as u\n",
    "\n",
    "import numpy as np\n",
    "import matplotlib.pyplot as plt\n",
    "\n",
    "from threeML import Band, PointSource, Model, JointLikelihood, DataList\n",
    "from astromodels import Parameter"
   ]
  },
  {
   "cell_type": "markdown",
   "id": "8d1c0168-9823-4eb7-930e-5dc61d6448ca",
   "metadata": {},
   "source": [
    "## Read in data (megalib simulation)"
   ]
  },
  {
   "cell_type": "markdown",
   "id": "d898bbd7-9ed0-4a27-bd5a-67414178733d",
   "metadata": {},
   "source": [
    "Read in the spacecraft orientation file & select times for GRB"
   ]
  },
  {
   "cell_type": "code",
   "execution_count": 2,
   "id": "ed2c03a0-63e3-4044-9e16-50f0f17996af",
   "metadata": {},
   "outputs": [],
   "source": [
    "ori = Orientation_file.parse_from_file(\"data/20280301_first_2hrs.ori\")\n",
    "Timemin = Time(1835481433.0,format = 'unix')\n",
    "Timemax = Time(1835481435.0,format = 'unix')\n",
    "sc_orientation = ori.source_interval(Timemin, Timemax)"
   ]
  },
  {
   "cell_type": "markdown",
   "id": "f579870f-c854-450d-84e8-f1d5ef0753d1",
   "metadata": {},
   "source": [
    "Create BinnedData objects for the GRB only, GRB+background, and background only"
   ]
  },
  {
   "cell_type": "code",
   "execution_count": 3,
   "id": "3b5faaa1-1874-4d43-a6ae-7e1b0aaabb26",
   "metadata": {},
   "outputs": [],
   "source": [
    "grb = BinnedData(\"data/grb.yaml\")\n",
    "grb_bkg = BinnedData(\"data/grb.yaml\")\n",
    "bkg = BinnedData(\"data/background.yaml\")"
   ]
  },
  {
   "cell_type": "markdown",
   "id": "c114af4f-f485-48ee-a6de-4d56688ed6fe",
   "metadata": {},
   "source": [
    "Read in .tra files for the GRB & background. This does not need to be done if you already have .hdf5 files"
   ]
  },
  {
   "cell_type": "code",
   "execution_count": 4,
   "id": "8113f8c1-1b36-44e6-90e2-2e6cd8a49a05",
   "metadata": {},
   "outputs": [],
   "source": [
    "# grb.read_tra(output_name=\"data/grb_unbinned_data\")\n",
    "# bkg.read_tra(output_name=\"data/bkg_unbinned_data\")"
   ]
  },
  {
   "cell_type": "markdown",
   "id": "ffa9d2b7-8b23-4f85-ac91-d1270371514d",
   "metadata": {},
   "source": [
    "Combine unbinned GRB & background .hdf5 files. This does not need to be done if you already have a combined .hdf5 file"
   ]
  },
  {
   "cell_type": "code",
   "execution_count": 5,
   "id": "6d8dcc1c-4637-444b-98f7-6c48542deff9",
   "metadata": {},
   "outputs": [],
   "source": [
    "# grb_bkg.combine_unbinned_data([\"data/grb_unbinned_data.hdf5\",\"data/bkg_unbinned_data.hdf5\"], output_name=\"data/grb_bkg_unbinned_data\")"
   ]
  },
  {
   "cell_type": "markdown",
   "id": "6caa5da6-e02d-414f-acef-e2e81635a1ed",
   "metadata": {},
   "source": [
    "Apply time cuts (as defined in .yaml files) to unbinned .hdf5 files for GRB only, GRB+background, and background only. This does not need to be done if you already have .hdf5 files with time cuts"
   ]
  },
  {
   "cell_type": "code",
   "execution_count": 6,
   "id": "e9bdf1dc-62da-46f1-a42b-1a2a760621b2",
   "metadata": {},
   "outputs": [],
   "source": [
    "# grb.select_data(unbinned_data=\"data/grb_unbinned_data.hdf5\", output_name=\"grb_selected_unbinned_data\")\n",
    "# grb_bkg.select_data(unbinned_data=\"data/grb_bkg_unbinned_data.hdf5\", output_name=\"data/grb_bkg_selected_unbinned_data\")\n",
    "# bkg.select_data(unbinned_data=\"data/bkg_unbinned_data.hdf5\", output_name=\"data/bkg_selected_unbinned_data\")"
   ]
  },
  {
   "cell_type": "markdown",
   "id": "b5496739-b9d5-4e47-9e51-2099fe889876",
   "metadata": {},
   "source": [
    "Bin GRB only, GRB+background, and background only files. This does not need to be done if you already have binned .hdf5 files"
   ]
  },
  {
   "cell_type": "code",
   "execution_count": 7,
   "id": "037bf805-b845-4252-a6dc-a3a26b02e7e2",
   "metadata": {
    "scrolled": true,
    "tags": []
   },
   "outputs": [],
   "source": [
    "# grb.get_binned_data(unbinned_data=\"data/grb_selected_unbinned_data.hdf5\", make_binning_plots=True, output_name=\"data/grb_binned_data\")\n",
    "# grb_bkg.get_binned_data(unbinned_data=\"data/grb_bkg_selected_unbinned_data.hdf5\", make_binning_plots=True, output_name=\"data/grb_bkg_binned_data\")\n",
    "# bkg.get_binned_data(unbinned_data=\"data/bkg_selected_unbinned_data.hdf5\", make_binning_plots=True, output_name=\"data/bkg_binned_data\")"
   ]
  },
  {
   "cell_type": "markdown",
   "id": "7e3aa93b-558d-4ec7-b695-a06f3bba6af0",
   "metadata": {},
   "source": [
    "Create spectra and lightcurves for GRB only, GRB+background, and background only"
   ]
  },
  {
   "cell_type": "code",
   "execution_count": 8,
   "id": "4b712927-ecc3-4f5d-962f-8afb72a808e7",
   "metadata": {
    "scrolled": true,
    "tags": []
   },
   "outputs": [],
   "source": [
    "# grb.get_raw_spectrum(binned_data=\"data/grb_binned_data.hdf5\", output_name=\"data/grb_sp\")\n",
    "# grb.get_raw_lightcurve(binned_data=\"data/grb_binned_data.hdf5\", output_name=\"data/grb_lc\")\n",
    "# grb_bkg.get_raw_spectrum(binned_data=\"data/grb_bkg_binned_data.hdf5\", output_name=\"data/grb_bkg_sp\")\n",
    "# grb_bkg.get_raw_lightcurve(binned_data=\"data/grb_bkg_binned_data.hdf5\", output_name=\"data/grb_bkg_lc\")\n",
    "# bkg.get_raw_spectrum(binned_data=\"data/bkg_binned_data.hdf5\", output_name=\"data/bkg_sp\")\n",
    "# bkg.get_raw_lightcurve(binned_data=\"data/bkg_binned_data.hdf5\", output_name=\"data/bkg_lc\")"
   ]
  },
  {
   "cell_type": "markdown",
   "id": "cf8b5ab1-7452-493e-b516-73fa72e455e5",
   "metadata": {},
   "source": [
    "Load binned .hdf5 files if you already have them"
   ]
  },
  {
   "cell_type": "code",
   "execution_count": 9,
   "id": "620159d2-f01a-453e-9e4c-075c99740086",
   "metadata": {},
   "outputs": [],
   "source": [
    "grb.load_binned_data_from_hdf5(binned_data=\"data/grb_binned_data.hdf5\")\n",
    "grb_bkg.load_binned_data_from_hdf5(binned_data=\"data/grb_bkg_binned_data.hdf5\")\n",
    "bkg.load_binned_data_from_hdf5(binned_data=\"data/bkg_binned_data.hdf5\")"
   ]
  },
  {
   "cell_type": "markdown",
   "id": "31b5dbd7-8a50-43db-af66-7b8601f7e2fd",
   "metadata": {
    "tags": []
   },
   "source": [
    "## Perform spectral fit (megalib simulation)"
   ]
  },
  {
   "cell_type": "markdown",
   "id": "7441f3f1-ebe6-467f-b8ab-1baa70f20b15",
   "metadata": {},
   "source": [
    "Define inputs needed by COSI plugin, optionally set background parameter (fits amplitude of background), and instantiate threeML plugin"
   ]
  },
  {
   "cell_type": "code",
   "execution_count": 10,
   "id": "a9f21e74-5f62-4030-9815-6c77ebaab16f",
   "metadata": {},
   "outputs": [],
   "source": [
    "dr = test_data.path / \"FlatContinuumIsotropic.LowRes.binnedimaging.imagingresponse.area.nside8.cosipy.h5\" # path to detector response\n",
    "\n",
    "bkg_par = Parameter(\"background_cosi\",                                        # background parameter\n",
    "                    2.8e-4,                                                   # initial value of parameter\n",
    "                    min_value=0,                                              # minimum value of parameter\n",
    "                    max_value=5,                                              # maximum value of parameter\n",
    "                    delta=0.05,                                               # initial step used by fitting engine\n",
    "                    desc=\"Background parameter for cosi\")\n",
    "\n",
    "cosi = COSILike(\"cosi\",                                                       # COSI 3ML plugin\n",
    "                dr = dr,                                                      # detector response\n",
    "                data = grb_bkg.binned_data.project('Em', 'Phi', 'PsiChi'),    # data \n",
    "                bkg = bkg.binned_data.project('Em', 'Phi', 'PsiChi'),         # background model \n",
    "                sc_orientation = sc_orientation,                              # spacecraft orientation\n",
    "                nuisance_param = bkg_par)                                     # background parameter"
   ]
  },
  {
   "cell_type": "markdown",
   "id": "e6d55283-abb0-4295-9e5c-80a5c717f0ba",
   "metadata": {},
   "source": [
    "Define a point source at the known location with a power law spectrum and add it to the model"
   ]
  },
  {
   "cell_type": "code",
   "execution_count": 20,
   "id": "98b2d026-c24d-4cfe-8b7b-41415fce5d16",
   "metadata": {},
   "outputs": [],
   "source": [
    "spectrum = Band()\n",
    "alpha = -1.                                        # Setting parameters to something reasonable helps the fitting to converge\n",
    "beta = -3.\n",
    "xp = 1000 * u.keV\n",
    "piv = 500 * u.keV\n",
    "K = 0.00247 / u.cm / u.cm / u.s / u.keV\n",
    "spectrum.alpha.value = alpha\n",
    "spectrum.beta.value = beta\n",
    "spectrum.xp.value = xp.value\n",
    "spectrum.K.value = K.value\n",
    "spectrum.piv.value = piv.value\n",
    "spectrum.xp.unit = xp.unit\n",
    "spectrum.K.unit = K.unit\n",
    "spectrum.piv.unit = piv.unit\n",
    "\n",
    "source = PointSource(\"source\",                     # Name of source (arbitrary, but needs to be unique)\n",
    "                     l = 51.,                      # Longitude (deg)\n",
    "                     b = -17.,                     # Latitude (deg)\n",
    "                     spectral_shape = spectrum)    # Spectral model\n",
    "\n",
    "model = Model(source)                              # Model with single source. If we had multiple sources, we would do Model(source1, source2, ...)\n",
    "\n",
    "# Optional: if you want to call get_log_like manually, then you also need to set the model manually\n",
    "# 3ML does this internally during the fit though\n",
    "cosi.set_model(model)"
   ]
  },
  {
   "cell_type": "markdown",
   "id": "27ded6d5-4551-4623-8483-b3f4e8b02040",
   "metadata": {},
   "source": [
    "Gather all plugins and combine with model in JointLikelihood object, then perform maximum likelihood fit"
   ]
  },
  {
   "cell_type": "code",
   "execution_count": 12,
   "id": "d56d3ad6-7226-437a-a037-57fbcd80d196",
   "metadata": {
    "scrolled": true,
    "tags": []
   },
   "outputs": [
    {
     "data": {
      "text/html": [
       "<pre style=\"white-space:pre;overflow-x:auto;line-height:normal;font-family:Menlo,'DejaVu Sans Mono',consolas,'Courier New',monospace\"><span style=\"color: #00ff00; text-decoration-color: #00ff00\">17:02:02 </span><span style=\"color: #00ffaf; text-decoration-color: #00ffaf\">INFO    </span> <span style=\"color: #c6c6c6; text-decoration-color: #c6c6c6; font-weight: bold\"> set the minimizer to minuit                                             </span><a href=\"file:///Users/eneights/opt/anaconda3/envs/cosipy/lib/python3.9/site-packages/threeML/classicMLE/joint_likelihood.py\" target=\"_blank\"><span style=\"color: #7f7f7f; text-decoration-color: #7f7f7f\">joint_likelihood.py</span></a><span style=\"color: #7f7f7f; text-decoration-color: #7f7f7f\">:</span><a href=\"file:///Users/eneights/opt/anaconda3/envs/cosipy/lib/python3.9/site-packages/threeML/classicMLE/joint_likelihood.py#1042\" target=\"_blank\"><span style=\"color: #7f7f7f; text-decoration-color: #7f7f7f\">1042</span></a>\n",
       "</pre>\n"
      ],
      "text/plain": [
       "\u001b[38;5;46m17:02:02\u001b[0m\u001b[38;5;46m \u001b[0m\u001b[38;5;49mINFO    \u001b[0m \u001b[1;38;5;251m set the minimizer to minuit                                            \u001b[0m\u001b[1;38;5;251m \u001b[0m\u001b]8;id=641558;file:///Users/eneights/opt/anaconda3/envs/cosipy/lib/python3.9/site-packages/threeML/classicMLE/joint_likelihood.py\u001b\\\u001b[2mjoint_likelihood.py\u001b[0m\u001b]8;;\u001b\\\u001b[2m:\u001b[0m\u001b]8;id=342197;file:///Users/eneights/opt/anaconda3/envs/cosipy/lib/python3.9/site-packages/threeML/classicMLE/joint_likelihood.py#1042\u001b\\\u001b[2m1042\u001b[0m\u001b]8;;\u001b\\\n"
      ]
     },
     "metadata": {},
     "output_type": "display_data"
    },
    {
     "name": "stderr",
     "output_type": "stream",
     "text": [
      "\n",
      "WARNING RuntimeWarning: divide by zero encountered in log\n",
      "\n",
      "\n",
      "WARNING RuntimeWarning: invalid value encountered in multiply\n",
      "\n",
      "\n",
      "WARNING RuntimeWarning: divide by zero encountered in log\n",
      "\n",
      "\n",
      "WARNING RuntimeWarning: invalid value encountered in multiply\n",
      "\n",
      "\n",
      "WARNING RuntimeWarning: divide by zero encountered in log\n",
      "\n",
      "\n",
      "WARNING RuntimeWarning: invalid value encountered in multiply\n",
      "\n",
      "\n",
      "WARNING RuntimeWarning: divide by zero encountered in log\n",
      "\n",
      "\n",
      "WARNING RuntimeWarning: invalid value encountered in multiply\n",
      "\n",
      "\n",
      "WARNING RuntimeWarning: divide by zero encountered in log\n",
      "\n",
      "\n",
      "WARNING RuntimeWarning: invalid value encountered in multiply\n",
      "\n",
      "\n",
      "WARNING RuntimeWarning: divide by zero encountered in log\n",
      "\n",
      "\n",
      "WARNING RuntimeWarning: invalid value encountered in multiply\n",
      "\n",
      "\n",
      "WARNING RuntimeWarning: divide by zero encountered in log\n",
      "\n",
      "\n",
      "WARNING RuntimeWarning: invalid value encountered in multiply\n",
      "\n",
      "\n",
      "WARNING RuntimeWarning: divide by zero encountered in log\n",
      "\n",
      "\n",
      "WARNING RuntimeWarning: invalid value encountered in multiply\n",
      "\n",
      "\n",
      "WARNING RuntimeWarning: divide by zero encountered in log\n",
      "\n",
      "\n",
      "WARNING RuntimeWarning: invalid value encountered in multiply\n",
      "\n",
      "\n",
      "WARNING RuntimeWarning: divide by zero encountered in log\n",
      "\n",
      "\n",
      "WARNING RuntimeWarning: invalid value encountered in multiply\n",
      "\n",
      "\n",
      "WARNING RuntimeWarning: divide by zero encountered in log\n",
      "\n",
      "\n",
      "WARNING RuntimeWarning: invalid value encountered in multiply\n",
      "\n",
      "\n",
      "WARNING RuntimeWarning: divide by zero encountered in log\n",
      "\n",
      "\n",
      "WARNING RuntimeWarning: invalid value encountered in multiply\n",
      "\n",
      "\n",
      "WARNING RuntimeWarning: divide by zero encountered in log\n",
      "\n",
      "\n",
      "WARNING RuntimeWarning: invalid value encountered in multiply\n",
      "\n",
      "\n",
      "WARNING RuntimeWarning: divide by zero encountered in log\n",
      "\n",
      "\n",
      "WARNING RuntimeWarning: invalid value encountered in multiply\n",
      "\n",
      "\n",
      "WARNING RuntimeWarning: divide by zero encountered in log\n",
      "\n",
      "\n",
      "WARNING RuntimeWarning: invalid value encountered in multiply\n",
      "\n",
      "\n",
      "WARNING RuntimeWarning: divide by zero encountered in log\n",
      "\n",
      "\n",
      "WARNING RuntimeWarning: invalid value encountered in multiply\n",
      "\n",
      "\n",
      "WARNING RuntimeWarning: divide by zero encountered in log\n",
      "\n",
      "\n",
      "WARNING RuntimeWarning: invalid value encountered in multiply\n",
      "\n",
      "\n",
      "WARNING RuntimeWarning: divide by zero encountered in log\n",
      "\n",
      "\n",
      "WARNING RuntimeWarning: invalid value encountered in multiply\n",
      "\n",
      "\n",
      "WARNING RuntimeWarning: divide by zero encountered in log\n",
      "\n",
      "\n",
      "WARNING RuntimeWarning: invalid value encountered in multiply\n",
      "\n",
      "\n",
      "WARNING RuntimeWarning: divide by zero encountered in log\n",
      "\n",
      "\n",
      "WARNING RuntimeWarning: invalid value encountered in multiply\n",
      "\n",
      "\n",
      "WARNING RuntimeWarning: divide by zero encountered in log\n",
      "\n",
      "\n",
      "WARNING RuntimeWarning: invalid value encountered in multiply\n",
      "\n",
      "\n",
      "WARNING RuntimeWarning: divide by zero encountered in log\n",
      "\n",
      "\n",
      "WARNING RuntimeWarning: invalid value encountered in multiply\n",
      "\n",
      "\n",
      "WARNING RuntimeWarning: divide by zero encountered in log\n",
      "\n",
      "\n",
      "WARNING RuntimeWarning: invalid value encountered in multiply\n",
      "\n",
      "\n",
      "WARNING RuntimeWarning: divide by zero encountered in log\n",
      "\n",
      "\n",
      "WARNING RuntimeWarning: invalid value encountered in multiply\n",
      "\n",
      "\n",
      "WARNING RuntimeWarning: divide by zero encountered in log\n",
      "\n",
      "\n",
      "WARNING RuntimeWarning: invalid value encountered in multiply\n",
      "\n",
      "\n",
      "WARNING RuntimeWarning: divide by zero encountered in log\n",
      "\n",
      "\n",
      "WARNING RuntimeWarning: invalid value encountered in multiply\n",
      "\n",
      "\n",
      "WARNING RuntimeWarning: divide by zero encountered in log\n",
      "\n",
      "\n",
      "WARNING RuntimeWarning: invalid value encountered in multiply\n",
      "\n",
      "\n",
      "WARNING RuntimeWarning: divide by zero encountered in log\n",
      "\n",
      "\n",
      "WARNING RuntimeWarning: invalid value encountered in multiply\n",
      "\n",
      "\n",
      "WARNING RuntimeWarning: divide by zero encountered in log\n",
      "\n",
      "\n",
      "WARNING RuntimeWarning: invalid value encountered in multiply\n",
      "\n",
      "\n",
      "WARNING RuntimeWarning: divide by zero encountered in log\n",
      "\n",
      "\n",
      "WARNING RuntimeWarning: invalid value encountered in multiply\n",
      "\n",
      "\n",
      "WARNING RuntimeWarning: divide by zero encountered in log\n",
      "\n",
      "\n",
      "WARNING RuntimeWarning: invalid value encountered in multiply\n",
      "\n",
      "\n",
      "WARNING RuntimeWarning: divide by zero encountered in log\n",
      "\n",
      "\n",
      "WARNING RuntimeWarning: invalid value encountered in multiply\n",
      "\n",
      "\n",
      "WARNING RuntimeWarning: divide by zero encountered in log\n",
      "\n",
      "\n",
      "WARNING RuntimeWarning: invalid value encountered in multiply\n",
      "\n",
      "\n",
      "WARNING RuntimeWarning: divide by zero encountered in log\n",
      "\n",
      "\n",
      "WARNING RuntimeWarning: invalid value encountered in multiply\n",
      "\n",
      "\n",
      "WARNING RuntimeWarning: divide by zero encountered in log\n",
      "\n",
      "\n",
      "WARNING RuntimeWarning: invalid value encountered in multiply\n",
      "\n",
      "\n",
      "WARNING RuntimeWarning: divide by zero encountered in log\n",
      "\n",
      "\n",
      "WARNING RuntimeWarning: invalid value encountered in multiply\n",
      "\n",
      "\n",
      "WARNING RuntimeWarning: divide by zero encountered in log\n",
      "\n",
      "\n",
      "WARNING RuntimeWarning: invalid value encountered in multiply\n",
      "\n",
      "\n",
      "WARNING RuntimeWarning: divide by zero encountered in log\n",
      "\n",
      "\n",
      "WARNING RuntimeWarning: invalid value encountered in multiply\n",
      "\n",
      "\n",
      "WARNING RuntimeWarning: divide by zero encountered in log\n",
      "\n",
      "\n",
      "WARNING RuntimeWarning: invalid value encountered in multiply\n",
      "\n",
      "\n",
      "WARNING RuntimeWarning: divide by zero encountered in log\n",
      "\n",
      "\n",
      "WARNING RuntimeWarning: invalid value encountered in multiply\n",
      "\n",
      "\n",
      "WARNING RuntimeWarning: divide by zero encountered in log\n",
      "\n",
      "\n",
      "WARNING RuntimeWarning: invalid value encountered in multiply\n",
      "\n",
      "\n",
      "WARNING RuntimeWarning: divide by zero encountered in log\n",
      "\n",
      "\n",
      "WARNING RuntimeWarning: invalid value encountered in multiply\n",
      "\n",
      "\n",
      "WARNING RuntimeWarning: divide by zero encountered in log\n",
      "\n",
      "\n",
      "WARNING RuntimeWarning: invalid value encountered in multiply\n",
      "\n",
      "\n",
      "WARNING RuntimeWarning: divide by zero encountered in log\n",
      "\n",
      "\n",
      "WARNING RuntimeWarning: invalid value encountered in multiply\n",
      "\n",
      "\n",
      "WARNING RuntimeWarning: divide by zero encountered in log\n",
      "\n",
      "\n",
      "WARNING RuntimeWarning: invalid value encountered in multiply\n",
      "\n",
      "\n",
      "WARNING RuntimeWarning: divide by zero encountered in log\n",
      "\n",
      "\n",
      "WARNING RuntimeWarning: invalid value encountered in multiply\n",
      "\n",
      "\n",
      "WARNING RuntimeWarning: divide by zero encountered in log\n",
      "\n",
      "\n",
      "WARNING RuntimeWarning: invalid value encountered in multiply\n",
      "\n",
      "\n",
      "WARNING RuntimeWarning: divide by zero encountered in log\n",
      "\n",
      "\n",
      "WARNING RuntimeWarning: invalid value encountered in multiply\n",
      "\n",
      "\n",
      "WARNING RuntimeWarning: divide by zero encountered in log\n",
      "\n",
      "\n",
      "WARNING RuntimeWarning: invalid value encountered in multiply\n",
      "\n",
      "\n",
      "WARNING RuntimeWarning: divide by zero encountered in log\n",
      "\n",
      "\n",
      "WARNING RuntimeWarning: invalid value encountered in multiply\n",
      "\n",
      "\n",
      "WARNING RuntimeWarning: divide by zero encountered in log\n",
      "\n",
      "\n",
      "WARNING RuntimeWarning: invalid value encountered in multiply\n",
      "\n",
      "\n",
      "WARNING RuntimeWarning: divide by zero encountered in log\n",
      "\n",
      "\n",
      "WARNING RuntimeWarning: invalid value encountered in multiply\n",
      "\n",
      "\n",
      "WARNING RuntimeWarning: divide by zero encountered in log\n",
      "\n",
      "\n",
      "WARNING RuntimeWarning: invalid value encountered in multiply\n",
      "\n",
      "\n",
      "WARNING RuntimeWarning: divide by zero encountered in log\n",
      "\n",
      "\n",
      "WARNING RuntimeWarning: invalid value encountered in multiply\n",
      "\n",
      "\n",
      "WARNING RuntimeWarning: divide by zero encountered in log\n",
      "\n",
      "\n",
      "WARNING RuntimeWarning: invalid value encountered in multiply\n",
      "\n",
      "\n",
      "WARNING RuntimeWarning: divide by zero encountered in log\n",
      "\n",
      "\n",
      "WARNING RuntimeWarning: invalid value encountered in multiply\n",
      "\n",
      "\n",
      "WARNING RuntimeWarning: divide by zero encountered in log\n",
      "\n",
      "\n",
      "WARNING RuntimeWarning: invalid value encountered in multiply\n",
      "\n",
      "\n",
      "WARNING RuntimeWarning: divide by zero encountered in log\n",
      "\n",
      "\n",
      "WARNING RuntimeWarning: invalid value encountered in multiply\n",
      "\n",
      "\n",
      "WARNING RuntimeWarning: divide by zero encountered in log\n",
      "\n",
      "\n",
      "WARNING RuntimeWarning: invalid value encountered in multiply\n",
      "\n",
      "\n",
      "WARNING RuntimeWarning: divide by zero encountered in log\n",
      "\n",
      "\n",
      "WARNING RuntimeWarning: invalid value encountered in multiply\n",
      "\n",
      "\n",
      "WARNING RuntimeWarning: divide by zero encountered in log\n",
      "\n",
      "\n",
      "WARNING RuntimeWarning: invalid value encountered in multiply\n",
      "\n",
      "\n",
      "WARNING RuntimeWarning: divide by zero encountered in log\n",
      "\n",
      "\n",
      "WARNING RuntimeWarning: invalid value encountered in multiply\n",
      "\n",
      "\n",
      "WARNING RuntimeWarning: divide by zero encountered in log\n",
      "\n",
      "\n",
      "WARNING RuntimeWarning: invalid value encountered in multiply\n",
      "\n",
      "\n",
      "WARNING RuntimeWarning: divide by zero encountered in log\n",
      "\n",
      "\n",
      "WARNING RuntimeWarning: invalid value encountered in multiply\n",
      "\n",
      "\n",
      "WARNING RuntimeWarning: divide by zero encountered in log\n",
      "\n",
      "\n",
      "WARNING RuntimeWarning: invalid value encountered in multiply\n",
      "\n",
      "\n",
      "WARNING RuntimeWarning: divide by zero encountered in log\n",
      "\n",
      "\n",
      "WARNING RuntimeWarning: invalid value encountered in multiply\n",
      "\n",
      "\n",
      "WARNING RuntimeWarning: divide by zero encountered in log\n",
      "\n",
      "\n",
      "WARNING RuntimeWarning: invalid value encountered in multiply\n",
      "\n",
      "\n",
      "WARNING RuntimeWarning: divide by zero encountered in log\n",
      "\n",
      "\n",
      "WARNING RuntimeWarning: invalid value encountered in multiply\n",
      "\n",
      "\n",
      "WARNING RuntimeWarning: divide by zero encountered in log\n",
      "\n",
      "\n",
      "WARNING RuntimeWarning: invalid value encountered in multiply\n",
      "\n",
      "\n",
      "WARNING RuntimeWarning: divide by zero encountered in log\n",
      "\n",
      "\n",
      "WARNING RuntimeWarning: invalid value encountered in multiply\n",
      "\n",
      "\n",
      "WARNING RuntimeWarning: divide by zero encountered in log\n",
      "\n",
      "\n",
      "WARNING RuntimeWarning: invalid value encountered in multiply\n",
      "\n",
      "\n",
      "WARNING RuntimeWarning: divide by zero encountered in log\n",
      "\n",
      "\n",
      "WARNING RuntimeWarning: invalid value encountered in multiply\n",
      "\n",
      "\n",
      "WARNING RuntimeWarning: divide by zero encountered in log\n",
      "\n",
      "\n",
      "WARNING RuntimeWarning: invalid value encountered in multiply\n",
      "\n",
      "\n",
      "WARNING RuntimeWarning: divide by zero encountered in log\n",
      "\n",
      "\n",
      "WARNING RuntimeWarning: invalid value encountered in multiply\n",
      "\n",
      "\n",
      "WARNING RuntimeWarning: divide by zero encountered in log\n",
      "\n",
      "\n",
      "WARNING RuntimeWarning: invalid value encountered in multiply\n",
      "\n",
      "\n",
      "WARNING RuntimeWarning: divide by zero encountered in log\n",
      "\n",
      "\n",
      "WARNING RuntimeWarning: invalid value encountered in multiply\n",
      "\n",
      "\n",
      "WARNING RuntimeWarning: divide by zero encountered in log\n",
      "\n",
      "\n",
      "WARNING RuntimeWarning: invalid value encountered in multiply\n",
      "\n",
      "\n",
      "WARNING RuntimeWarning: divide by zero encountered in log\n",
      "\n",
      "\n",
      "WARNING RuntimeWarning: invalid value encountered in multiply\n",
      "\n",
      "\n",
      "WARNING RuntimeWarning: divide by zero encountered in log\n",
      "\n",
      "\n",
      "WARNING RuntimeWarning: invalid value encountered in multiply\n",
      "\n",
      "\n",
      "WARNING RuntimeWarning: divide by zero encountered in log\n",
      "\n",
      "\n",
      "WARNING RuntimeWarning: invalid value encountered in multiply\n",
      "\n",
      "\n",
      "WARNING RuntimeWarning: divide by zero encountered in log\n",
      "\n",
      "\n",
      "WARNING RuntimeWarning: invalid value encountered in multiply\n",
      "\n",
      "\n",
      "WARNING RuntimeWarning: divide by zero encountered in log\n",
      "\n",
      "\n",
      "WARNING RuntimeWarning: invalid value encountered in multiply\n",
      "\n",
      "\n",
      "WARNING RuntimeWarning: divide by zero encountered in log\n",
      "\n",
      "\n",
      "WARNING RuntimeWarning: invalid value encountered in multiply\n",
      "\n",
      "\n",
      "WARNING RuntimeWarning: divide by zero encountered in log\n",
      "\n",
      "\n",
      "WARNING RuntimeWarning: invalid value encountered in multiply\n",
      "\n",
      "\n",
      "WARNING RuntimeWarning: divide by zero encountered in log\n",
      "\n",
      "\n",
      "WARNING RuntimeWarning: invalid value encountered in multiply\n",
      "\n",
      "\n",
      "WARNING RuntimeWarning: divide by zero encountered in log\n",
      "\n",
      "\n",
      "WARNING RuntimeWarning: invalid value encountered in multiply\n",
      "\n",
      "\n",
      "WARNING RuntimeWarning: divide by zero encountered in log\n",
      "\n",
      "\n",
      "WARNING RuntimeWarning: invalid value encountered in multiply\n",
      "\n",
      "\n",
      "WARNING RuntimeWarning: divide by zero encountered in log\n",
      "\n",
      "\n",
      "WARNING RuntimeWarning: invalid value encountered in multiply\n",
      "\n",
      "\n",
      "WARNING RuntimeWarning: divide by zero encountered in log\n",
      "\n",
      "\n",
      "WARNING RuntimeWarning: invalid value encountered in multiply\n",
      "\n",
      "\n",
      "WARNING RuntimeWarning: divide by zero encountered in log\n",
      "\n",
      "\n",
      "WARNING RuntimeWarning: invalid value encountered in multiply\n",
      "\n",
      "\n",
      "WARNING RuntimeWarning: divide by zero encountered in log\n",
      "\n",
      "\n",
      "WARNING RuntimeWarning: invalid value encountered in multiply\n",
      "\n",
      "\n",
      "WARNING RuntimeWarning: divide by zero encountered in log\n",
      "\n",
      "\n",
      "WARNING RuntimeWarning: invalid value encountered in multiply\n",
      "\n",
      "\n",
      "WARNING RuntimeWarning: divide by zero encountered in log\n",
      "\n",
      "\n",
      "WARNING RuntimeWarning: invalid value encountered in multiply\n",
      "\n",
      "\n",
      "WARNING RuntimeWarning: divide by zero encountered in log\n",
      "\n",
      "\n",
      "WARNING RuntimeWarning: invalid value encountered in multiply\n",
      "\n",
      "\n",
      "WARNING RuntimeWarning: divide by zero encountered in log\n",
      "\n",
      "\n",
      "WARNING RuntimeWarning: invalid value encountered in multiply\n",
      "\n",
      "\n",
      "WARNING RuntimeWarning: divide by zero encountered in log\n",
      "\n",
      "\n",
      "WARNING RuntimeWarning: invalid value encountered in multiply\n",
      "\n",
      "\n",
      "WARNING RuntimeWarning: divide by zero encountered in log\n",
      "\n",
      "\n",
      "WARNING RuntimeWarning: invalid value encountered in multiply\n",
      "\n",
      "\n",
      "WARNING RuntimeWarning: divide by zero encountered in log\n",
      "\n",
      "\n",
      "WARNING RuntimeWarning: invalid value encountered in multiply\n",
      "\n",
      "\n",
      "WARNING RuntimeWarning: divide by zero encountered in log\n",
      "\n",
      "\n",
      "WARNING RuntimeWarning: invalid value encountered in multiply\n",
      "\n",
      "\n",
      "WARNING RuntimeWarning: divide by zero encountered in log\n",
      "\n",
      "\n",
      "WARNING RuntimeWarning: invalid value encountered in multiply\n",
      "\n",
      "\n",
      "WARNING RuntimeWarning: divide by zero encountered in log\n",
      "\n",
      "\n",
      "WARNING RuntimeWarning: invalid value encountered in multiply\n",
      "\n",
      "\n",
      "WARNING RuntimeWarning: divide by zero encountered in log\n",
      "\n",
      "\n",
      "WARNING RuntimeWarning: invalid value encountered in multiply\n",
      "\n",
      "\n",
      "WARNING RuntimeWarning: divide by zero encountered in log\n",
      "\n",
      "\n",
      "WARNING RuntimeWarning: invalid value encountered in multiply\n",
      "\n",
      "\n",
      "WARNING RuntimeWarning: divide by zero encountered in log\n",
      "\n",
      "\n",
      "WARNING RuntimeWarning: invalid value encountered in multiply\n",
      "\n",
      "\n",
      "WARNING RuntimeWarning: divide by zero encountered in log\n",
      "\n",
      "\n",
      "WARNING RuntimeWarning: invalid value encountered in multiply\n",
      "\n",
      "\n",
      "WARNING RuntimeWarning: divide by zero encountered in log\n",
      "\n",
      "\n",
      "WARNING RuntimeWarning: invalid value encountered in multiply\n",
      "\n",
      "\n",
      "WARNING RuntimeWarning: divide by zero encountered in log\n",
      "\n",
      "\n",
      "WARNING RuntimeWarning: invalid value encountered in multiply\n",
      "\n",
      "\n",
      "WARNING RuntimeWarning: divide by zero encountered in log\n",
      "\n",
      "\n",
      "WARNING RuntimeWarning: invalid value encountered in multiply\n",
      "\n",
      "\n",
      "WARNING RuntimeWarning: divide by zero encountered in log\n",
      "\n",
      "\n",
      "WARNING RuntimeWarning: invalid value encountered in multiply\n",
      "\n",
      "\n",
      "WARNING RuntimeWarning: divide by zero encountered in log\n",
      "\n",
      "\n",
      "WARNING RuntimeWarning: invalid value encountered in multiply\n",
      "\n",
      "\n",
      "WARNING RuntimeWarning: divide by zero encountered in log\n",
      "\n",
      "\n",
      "WARNING RuntimeWarning: invalid value encountered in multiply\n",
      "\n",
      "\n",
      "WARNING RuntimeWarning: divide by zero encountered in log\n",
      "\n",
      "\n",
      "WARNING RuntimeWarning: invalid value encountered in multiply\n",
      "\n",
      "\n",
      "WARNING RuntimeWarning: divide by zero encountered in log\n",
      "\n",
      "\n",
      "WARNING RuntimeWarning: invalid value encountered in multiply\n",
      "\n",
      "\n",
      "WARNING RuntimeWarning: divide by zero encountered in log\n",
      "\n",
      "\n",
      "WARNING RuntimeWarning: invalid value encountered in multiply\n",
      "\n",
      "\n",
      "WARNING RuntimeWarning: divide by zero encountered in log\n",
      "\n",
      "\n",
      "WARNING RuntimeWarning: invalid value encountered in multiply\n",
      "\n",
      "\n",
      "WARNING RuntimeWarning: divide by zero encountered in log\n",
      "\n",
      "\n",
      "WARNING RuntimeWarning: invalid value encountered in multiply\n",
      "\n",
      "\n",
      "WARNING RuntimeWarning: divide by zero encountered in log\n",
      "\n",
      "\n",
      "WARNING RuntimeWarning: invalid value encountered in multiply\n",
      "\n",
      "\n",
      "WARNING RuntimeWarning: divide by zero encountered in log\n",
      "\n",
      "\n",
      "WARNING RuntimeWarning: invalid value encountered in multiply\n",
      "\n",
      "\n",
      "WARNING RuntimeWarning: divide by zero encountered in log\n",
      "\n",
      "\n",
      "WARNING RuntimeWarning: invalid value encountered in multiply\n",
      "\n",
      "\n",
      "WARNING RuntimeWarning: divide by zero encountered in log\n",
      "\n",
      "\n",
      "WARNING RuntimeWarning: invalid value encountered in multiply\n",
      "\n",
      "\n",
      "WARNING RuntimeWarning: divide by zero encountered in log\n",
      "\n",
      "\n",
      "WARNING RuntimeWarning: invalid value encountered in multiply\n",
      "\n",
      "\n",
      "WARNING RuntimeWarning: divide by zero encountered in log\n",
      "\n",
      "\n",
      "WARNING RuntimeWarning: invalid value encountered in multiply\n",
      "\n",
      "\n",
      "WARNING RuntimeWarning: divide by zero encountered in log\n",
      "\n",
      "\n",
      "WARNING RuntimeWarning: invalid value encountered in multiply\n",
      "\n",
      "\n",
      "WARNING RuntimeWarning: divide by zero encountered in log\n",
      "\n",
      "\n",
      "WARNING RuntimeWarning: invalid value encountered in multiply\n",
      "\n",
      "\n",
      "WARNING RuntimeWarning: divide by zero encountered in log\n",
      "\n",
      "\n",
      "WARNING RuntimeWarning: invalid value encountered in multiply\n",
      "\n",
      "\n",
      "WARNING RuntimeWarning: divide by zero encountered in log\n",
      "\n",
      "\n",
      "WARNING RuntimeWarning: invalid value encountered in multiply\n",
      "\n",
      "\n",
      "WARNING RuntimeWarning: divide by zero encountered in log\n",
      "\n",
      "\n",
      "WARNING RuntimeWarning: invalid value encountered in multiply\n",
      "\n",
      "\n",
      "WARNING RuntimeWarning: divide by zero encountered in log\n",
      "\n",
      "\n",
      "WARNING RuntimeWarning: invalid value encountered in multiply\n",
      "\n",
      "\n",
      "WARNING RuntimeWarning: divide by zero encountered in log\n",
      "\n",
      "\n",
      "WARNING RuntimeWarning: invalid value encountered in multiply\n",
      "\n",
      "\n",
      "WARNING RuntimeWarning: divide by zero encountered in log\n",
      "\n",
      "\n",
      "WARNING RuntimeWarning: invalid value encountered in multiply\n",
      "\n",
      "\n",
      "WARNING RuntimeWarning: divide by zero encountered in log\n",
      "\n",
      "\n",
      "WARNING RuntimeWarning: invalid value encountered in multiply\n",
      "\n",
      "\n",
      "WARNING RuntimeWarning: divide by zero encountered in log\n",
      "\n",
      "\n",
      "WARNING RuntimeWarning: invalid value encountered in multiply\n",
      "\n",
      "\n",
      "WARNING RuntimeWarning: divide by zero encountered in log\n",
      "\n",
      "\n",
      "WARNING RuntimeWarning: invalid value encountered in multiply\n",
      "\n",
      "\n",
      "WARNING RuntimeWarning: divide by zero encountered in log\n",
      "\n",
      "\n",
      "WARNING RuntimeWarning: invalid value encountered in multiply\n",
      "\n",
      "\n",
      "WARNING RuntimeWarning: divide by zero encountered in log\n",
      "\n",
      "\n",
      "WARNING RuntimeWarning: invalid value encountered in multiply\n",
      "\n",
      "\n",
      "WARNING RuntimeWarning: divide by zero encountered in log\n",
      "\n",
      "\n",
      "WARNING RuntimeWarning: invalid value encountered in multiply\n",
      "\n",
      "\n",
      "WARNING RuntimeWarning: divide by zero encountered in log\n",
      "\n",
      "\n",
      "WARNING RuntimeWarning: invalid value encountered in multiply\n",
      "\n",
      "\n",
      "WARNING RuntimeWarning: divide by zero encountered in log\n",
      "\n",
      "\n",
      "WARNING RuntimeWarning: invalid value encountered in multiply\n",
      "\n",
      "\n",
      "WARNING RuntimeWarning: divide by zero encountered in log\n",
      "\n",
      "\n",
      "WARNING RuntimeWarning: invalid value encountered in multiply\n",
      "\n",
      "\n",
      "WARNING RuntimeWarning: divide by zero encountered in log\n",
      "\n",
      "\n",
      "WARNING RuntimeWarning: invalid value encountered in multiply\n",
      "\n",
      "\n",
      "WARNING RuntimeWarning: divide by zero encountered in log\n",
      "\n",
      "\n",
      "WARNING RuntimeWarning: invalid value encountered in multiply\n",
      "\n",
      "\n",
      "WARNING RuntimeWarning: divide by zero encountered in log\n",
      "\n",
      "\n",
      "WARNING RuntimeWarning: invalid value encountered in multiply\n",
      "\n",
      "\n",
      "WARNING RuntimeWarning: divide by zero encountered in log\n",
      "\n",
      "\n",
      "WARNING RuntimeWarning: invalid value encountered in multiply\n",
      "\n",
      "\n",
      "WARNING RuntimeWarning: divide by zero encountered in log\n",
      "\n",
      "\n",
      "WARNING RuntimeWarning: invalid value encountered in multiply\n",
      "\n",
      "\n",
      "WARNING RuntimeWarning: divide by zero encountered in log\n",
      "\n",
      "\n",
      "WARNING RuntimeWarning: invalid value encountered in multiply\n",
      "\n",
      "\n",
      "WARNING RuntimeWarning: divide by zero encountered in log\n",
      "\n",
      "\n",
      "WARNING RuntimeWarning: invalid value encountered in multiply\n",
      "\n",
      "\n",
      "WARNING RuntimeWarning: divide by zero encountered in log\n",
      "\n",
      "\n",
      "WARNING RuntimeWarning: invalid value encountered in multiply\n",
      "\n",
      "\n",
      "WARNING RuntimeWarning: divide by zero encountered in log\n",
      "\n",
      "\n",
      "WARNING RuntimeWarning: invalid value encountered in multiply\n",
      "\n",
      "\n",
      "WARNING RuntimeWarning: divide by zero encountered in log\n",
      "\n",
      "\n",
      "WARNING RuntimeWarning: invalid value encountered in multiply\n",
      "\n",
      "\n",
      "WARNING RuntimeWarning: divide by zero encountered in log\n",
      "\n",
      "\n",
      "WARNING RuntimeWarning: invalid value encountered in multiply\n",
      "\n",
      "\n",
      "WARNING RuntimeWarning: divide by zero encountered in log\n",
      "\n",
      "\n",
      "WARNING RuntimeWarning: invalid value encountered in multiply\n",
      "\n",
      "\n",
      "WARNING RuntimeWarning: divide by zero encountered in log\n",
      "\n",
      "\n",
      "WARNING RuntimeWarning: invalid value encountered in multiply\n",
      "\n",
      "\n",
      "WARNING RuntimeWarning: divide by zero encountered in log\n",
      "\n",
      "\n",
      "WARNING RuntimeWarning: invalid value encountered in multiply\n",
      "\n",
      "\n",
      "WARNING RuntimeWarning: divide by zero encountered in log\n",
      "\n",
      "\n",
      "WARNING RuntimeWarning: invalid value encountered in multiply\n",
      "\n",
      "\n",
      "WARNING RuntimeWarning: divide by zero encountered in log\n",
      "\n",
      "\n",
      "WARNING RuntimeWarning: invalid value encountered in multiply\n",
      "\n",
      "\n",
      "WARNING RuntimeWarning: divide by zero encountered in log\n",
      "\n",
      "\n",
      "WARNING RuntimeWarning: invalid value encountered in multiply\n",
      "\n",
      "\n",
      "WARNING RuntimeWarning: divide by zero encountered in log\n",
      "\n",
      "\n",
      "WARNING RuntimeWarning: invalid value encountered in multiply\n",
      "\n",
      "\n",
      "WARNING RuntimeWarning: divide by zero encountered in log\n",
      "\n",
      "\n",
      "WARNING RuntimeWarning: invalid value encountered in multiply\n",
      "\n",
      "\n",
      "WARNING RuntimeWarning: divide by zero encountered in log\n",
      "\n",
      "\n",
      "WARNING RuntimeWarning: invalid value encountered in multiply\n",
      "\n",
      "\n",
      "WARNING RuntimeWarning: divide by zero encountered in log\n",
      "\n",
      "\n",
      "WARNING RuntimeWarning: invalid value encountered in multiply\n",
      "\n",
      "\n",
      "WARNING RuntimeWarning: divide by zero encountered in log\n",
      "\n",
      "\n",
      "WARNING RuntimeWarning: invalid value encountered in multiply\n",
      "\n",
      "\n",
      "WARNING RuntimeWarning: divide by zero encountered in log\n",
      "\n",
      "\n",
      "WARNING RuntimeWarning: invalid value encountered in multiply\n",
      "\n",
      "\n",
      "WARNING RuntimeWarning: divide by zero encountered in log\n",
      "\n",
      "\n",
      "WARNING RuntimeWarning: invalid value encountered in multiply\n",
      "\n",
      "\n",
      "WARNING RuntimeWarning: divide by zero encountered in log\n",
      "\n",
      "\n",
      "WARNING RuntimeWarning: invalid value encountered in multiply\n",
      "\n",
      "\n",
      "WARNING RuntimeWarning: divide by zero encountered in log\n",
      "\n",
      "\n",
      "WARNING RuntimeWarning: invalid value encountered in multiply\n",
      "\n",
      "\n",
      "WARNING RuntimeWarning: divide by zero encountered in log\n",
      "\n",
      "\n",
      "WARNING RuntimeWarning: invalid value encountered in multiply\n",
      "\n",
      "\n",
      "WARNING RuntimeWarning: divide by zero encountered in log\n",
      "\n",
      "\n",
      "WARNING RuntimeWarning: invalid value encountered in multiply\n",
      "\n",
      "\n",
      "WARNING RuntimeWarning: divide by zero encountered in log\n",
      "\n",
      "\n",
      "WARNING RuntimeWarning: invalid value encountered in multiply\n",
      "\n",
      "\n",
      "WARNING RuntimeWarning: divide by zero encountered in log\n",
      "\n",
      "\n",
      "WARNING RuntimeWarning: invalid value encountered in multiply\n",
      "\n",
      "\n",
      "WARNING RuntimeWarning: divide by zero encountered in log\n",
      "\n",
      "\n",
      "WARNING RuntimeWarning: invalid value encountered in multiply\n",
      "\n",
      "\n",
      "WARNING RuntimeWarning: divide by zero encountered in log\n",
      "\n",
      "\n",
      "WARNING RuntimeWarning: invalid value encountered in multiply\n",
      "\n",
      "\n",
      "WARNING RuntimeWarning: divide by zero encountered in log\n",
      "\n",
      "\n",
      "WARNING RuntimeWarning: invalid value encountered in multiply\n",
      "\n",
      "\n",
      "WARNING RuntimeWarning: divide by zero encountered in log\n",
      "\n",
      "\n",
      "WARNING RuntimeWarning: invalid value encountered in multiply\n",
      "\n",
      "\n",
      "WARNING RuntimeWarning: divide by zero encountered in log\n",
      "\n",
      "\n",
      "WARNING RuntimeWarning: invalid value encountered in multiply\n",
      "\n",
      "\n",
      "WARNING RuntimeWarning: divide by zero encountered in log\n",
      "\n",
      "\n",
      "WARNING RuntimeWarning: invalid value encountered in multiply\n",
      "\n",
      "\n",
      "WARNING RuntimeWarning: divide by zero encountered in log\n",
      "\n",
      "\n",
      "WARNING RuntimeWarning: invalid value encountered in multiply\n",
      "\n",
      "\n",
      "WARNING RuntimeWarning: divide by zero encountered in log\n",
      "\n",
      "\n",
      "WARNING RuntimeWarning: invalid value encountered in multiply\n",
      "\n",
      "\n",
      "WARNING RuntimeWarning: divide by zero encountered in log\n",
      "\n",
      "\n",
      "WARNING RuntimeWarning: invalid value encountered in multiply\n",
      "\n",
      "\n",
      "WARNING RuntimeWarning: divide by zero encountered in log\n",
      "\n",
      "\n",
      "WARNING RuntimeWarning: invalid value encountered in multiply\n",
      "\n",
      "\n",
      "WARNING RuntimeWarning: divide by zero encountered in log\n",
      "\n",
      "\n",
      "WARNING RuntimeWarning: invalid value encountered in multiply\n",
      "\n",
      "\n",
      "WARNING RuntimeWarning: divide by zero encountered in log\n",
      "\n",
      "\n",
      "WARNING RuntimeWarning: invalid value encountered in multiply\n",
      "\n",
      "\n",
      "WARNING RuntimeWarning: divide by zero encountered in log\n",
      "\n",
      "\n",
      "WARNING RuntimeWarning: invalid value encountered in multiply\n",
      "\n",
      "\n",
      "WARNING RuntimeWarning: divide by zero encountered in log\n",
      "\n",
      "\n",
      "WARNING RuntimeWarning: invalid value encountered in multiply\n",
      "\n",
      "\n",
      "WARNING RuntimeWarning: divide by zero encountered in log\n",
      "\n",
      "\n",
      "WARNING RuntimeWarning: invalid value encountered in multiply\n",
      "\n",
      "\n",
      "WARNING RuntimeWarning: divide by zero encountered in log\n",
      "\n",
      "\n",
      "WARNING RuntimeWarning: invalid value encountered in multiply\n",
      "\n",
      "\n",
      "WARNING RuntimeWarning: divide by zero encountered in log\n",
      "\n",
      "\n",
      "WARNING RuntimeWarning: invalid value encountered in multiply\n",
      "\n",
      "\n",
      "WARNING RuntimeWarning: divide by zero encountered in log\n",
      "\n",
      "\n",
      "WARNING RuntimeWarning: invalid value encountered in multiply\n",
      "\n",
      "\n",
      "WARNING RuntimeWarning: divide by zero encountered in log\n",
      "\n",
      "\n",
      "WARNING RuntimeWarning: invalid value encountered in multiply\n",
      "\n",
      "\n",
      "WARNING RuntimeWarning: divide by zero encountered in log\n",
      "\n",
      "\n",
      "WARNING RuntimeWarning: invalid value encountered in multiply\n",
      "\n",
      "\n",
      "WARNING RuntimeWarning: divide by zero encountered in log\n",
      "\n",
      "\n",
      "WARNING RuntimeWarning: invalid value encountered in multiply\n",
      "\n",
      "\n",
      "WARNING RuntimeWarning: divide by zero encountered in log\n",
      "\n",
      "\n",
      "WARNING RuntimeWarning: invalid value encountered in multiply\n",
      "\n",
      "\n",
      "WARNING RuntimeWarning: divide by zero encountered in log\n",
      "\n",
      "\n",
      "WARNING RuntimeWarning: invalid value encountered in multiply\n",
      "\n",
      "\n",
      "WARNING RuntimeWarning: divide by zero encountered in log\n",
      "\n",
      "\n",
      "WARNING RuntimeWarning: invalid value encountered in multiply\n",
      "\n",
      "\n",
      "WARNING RuntimeWarning: divide by zero encountered in log\n",
      "\n",
      "\n",
      "WARNING RuntimeWarning: invalid value encountered in multiply\n",
      "\n",
      "\n",
      "WARNING RuntimeWarning: divide by zero encountered in log\n",
      "\n",
      "\n",
      "WARNING RuntimeWarning: invalid value encountered in multiply\n",
      "\n",
      "\n",
      "WARNING RuntimeWarning: divide by zero encountered in log\n",
      "\n",
      "\n",
      "WARNING RuntimeWarning: invalid value encountered in multiply\n",
      "\n",
      "\n",
      "WARNING RuntimeWarning: divide by zero encountered in log\n",
      "\n",
      "\n",
      "WARNING RuntimeWarning: invalid value encountered in multiply\n",
      "\n",
      "\n",
      "WARNING RuntimeWarning: divide by zero encountered in log\n",
      "\n",
      "\n",
      "WARNING RuntimeWarning: invalid value encountered in multiply\n",
      "\n",
      "\n",
      "WARNING RuntimeWarning: divide by zero encountered in log\n",
      "\n",
      "\n",
      "WARNING RuntimeWarning: invalid value encountered in multiply\n",
      "\n",
      "\n",
      "WARNING RuntimeWarning: divide by zero encountered in log\n",
      "\n",
      "\n",
      "WARNING RuntimeWarning: invalid value encountered in multiply\n",
      "\n",
      "\n",
      "WARNING RuntimeWarning: divide by zero encountered in log\n",
      "\n",
      "\n",
      "WARNING RuntimeWarning: invalid value encountered in multiply\n",
      "\n",
      "\n",
      "WARNING RuntimeWarning: divide by zero encountered in log\n",
      "\n",
      "\n",
      "WARNING RuntimeWarning: invalid value encountered in multiply\n",
      "\n",
      "\n",
      "WARNING RuntimeWarning: divide by zero encountered in log\n",
      "\n",
      "\n",
      "WARNING RuntimeWarning: invalid value encountered in multiply\n",
      "\n",
      "\n",
      "WARNING RuntimeWarning: divide by zero encountered in log\n",
      "\n",
      "\n",
      "WARNING RuntimeWarning: invalid value encountered in multiply\n",
      "\n",
      "\n",
      "WARNING RuntimeWarning: divide by zero encountered in log\n",
      "\n",
      "\n",
      "WARNING RuntimeWarning: invalid value encountered in multiply\n",
      "\n",
      "\n",
      "WARNING RuntimeWarning: divide by zero encountered in log\n",
      "\n",
      "\n",
      "WARNING RuntimeWarning: invalid value encountered in multiply\n",
      "\n",
      "\n",
      "WARNING RuntimeWarning: divide by zero encountered in log\n",
      "\n",
      "\n",
      "WARNING RuntimeWarning: invalid value encountered in multiply\n",
      "\n",
      "\n",
      "WARNING RuntimeWarning: divide by zero encountered in log\n",
      "\n",
      "\n",
      "WARNING RuntimeWarning: invalid value encountered in multiply\n",
      "\n",
      "\n",
      "WARNING RuntimeWarning: divide by zero encountered in log\n",
      "\n",
      "\n",
      "WARNING RuntimeWarning: invalid value encountered in multiply\n",
      "\n",
      "\n",
      "WARNING RuntimeWarning: divide by zero encountered in log\n",
      "\n",
      "\n",
      "WARNING RuntimeWarning: invalid value encountered in multiply\n",
      "\n",
      "\n",
      "WARNING RuntimeWarning: divide by zero encountered in log\n",
      "\n",
      "\n",
      "WARNING RuntimeWarning: invalid value encountered in multiply\n",
      "\n",
      "\n",
      "WARNING RuntimeWarning: divide by zero encountered in log\n",
      "\n",
      "\n",
      "WARNING RuntimeWarning: invalid value encountered in multiply\n",
      "\n",
      "\n",
      "WARNING RuntimeWarning: divide by zero encountered in log\n",
      "\n",
      "\n",
      "WARNING RuntimeWarning: invalid value encountered in multiply\n",
      "\n",
      "\n",
      "WARNING RuntimeWarning: divide by zero encountered in log\n",
      "\n",
      "\n",
      "WARNING RuntimeWarning: invalid value encountered in multiply\n",
      "\n",
      "\n",
      "WARNING RuntimeWarning: divide by zero encountered in log\n",
      "\n",
      "\n",
      "WARNING RuntimeWarning: invalid value encountered in multiply\n",
      "\n",
      "\n",
      "WARNING RuntimeWarning: divide by zero encountered in log\n",
      "\n",
      "\n",
      "WARNING RuntimeWarning: invalid value encountered in multiply\n",
      "\n",
      "\n",
      "WARNING RuntimeWarning: divide by zero encountered in log\n",
      "\n",
      "\n",
      "WARNING RuntimeWarning: invalid value encountered in multiply\n",
      "\n",
      "\n",
      "WARNING RuntimeWarning: divide by zero encountered in log\n",
      "\n",
      "\n",
      "WARNING RuntimeWarning: invalid value encountered in multiply\n",
      "\n",
      "\n",
      "WARNING RuntimeWarning: divide by zero encountered in log\n",
      "\n",
      "\n",
      "WARNING RuntimeWarning: invalid value encountered in multiply\n",
      "\n",
      "\n",
      "WARNING RuntimeWarning: divide by zero encountered in log\n",
      "\n",
      "\n",
      "WARNING RuntimeWarning: invalid value encountered in multiply\n",
      "\n",
      "\n",
      "WARNING RuntimeWarning: divide by zero encountered in log\n",
      "\n",
      "\n",
      "WARNING RuntimeWarning: invalid value encountered in multiply\n",
      "\n",
      "\n",
      "WARNING RuntimeWarning: divide by zero encountered in log\n",
      "\n",
      "\n",
      "WARNING RuntimeWarning: invalid value encountered in multiply\n",
      "\n",
      "\n",
      "WARNING RuntimeWarning: divide by zero encountered in log\n",
      "\n",
      "\n",
      "WARNING RuntimeWarning: invalid value encountered in multiply\n",
      "\n",
      "\n",
      "WARNING RuntimeWarning: divide by zero encountered in log\n",
      "\n",
      "\n",
      "WARNING RuntimeWarning: invalid value encountered in multiply\n",
      "\n",
      "\n",
      "WARNING RuntimeWarning: divide by zero encountered in log\n",
      "\n",
      "\n",
      "WARNING RuntimeWarning: invalid value encountered in multiply\n",
      "\n",
      "\n",
      "WARNING RuntimeWarning: divide by zero encountered in log\n",
      "\n",
      "\n",
      "WARNING RuntimeWarning: invalid value encountered in multiply\n",
      "\n",
      "\n",
      "WARNING RuntimeWarning: divide by zero encountered in log\n",
      "\n",
      "\n",
      "WARNING RuntimeWarning: invalid value encountered in multiply\n",
      "\n",
      "\n",
      "WARNING RuntimeWarning: divide by zero encountered in log\n",
      "\n",
      "\n",
      "WARNING RuntimeWarning: invalid value encountered in multiply\n",
      "\n",
      "\n",
      "WARNING RuntimeWarning: divide by zero encountered in log\n",
      "\n",
      "\n",
      "WARNING RuntimeWarning: invalid value encountered in multiply\n",
      "\n",
      "\n",
      "WARNING RuntimeWarning: divide by zero encountered in log\n",
      "\n",
      "\n",
      "WARNING RuntimeWarning: invalid value encountered in multiply\n",
      "\n",
      "\n",
      "WARNING RuntimeWarning: divide by zero encountered in log\n",
      "\n",
      "\n",
      "WARNING RuntimeWarning: invalid value encountered in multiply\n",
      "\n",
      "\n",
      "WARNING RuntimeWarning: divide by zero encountered in log\n",
      "\n",
      "\n",
      "WARNING RuntimeWarning: invalid value encountered in multiply\n",
      "\n",
      "\n",
      "WARNING RuntimeWarning: divide by zero encountered in log\n",
      "\n",
      "\n",
      "WARNING RuntimeWarning: invalid value encountered in multiply\n",
      "\n",
      "\n",
      "WARNING RuntimeWarning: divide by zero encountered in log\n",
      "\n",
      "\n",
      "WARNING RuntimeWarning: invalid value encountered in multiply\n",
      "\n"
     ]
    },
    {
     "data": {
      "text/html": [
       "<pre style=\"white-space:pre;overflow-x:auto;line-height:normal;font-family:Menlo,'DejaVu Sans Mono',consolas,'Courier New',monospace\"><span style=\"color: #00ff00; text-decoration-color: #00ff00\">17:02:19 </span><span style=\"color: #af5fd7; text-decoration-color: #af5fd7\">WARNING </span> <span style=\"color: #c6c6c6; text-decoration-color: #c6c6c6; font-weight: bold\"> get_number_of_data_points not implemented, values for statistical        </span><a href=\"file:///Users/eneights/opt/anaconda3/envs/cosipy/lib/python3.9/site-packages/threeML/plugin_prototype.py\" target=\"_blank\"><span style=\"color: #7f7f7f; text-decoration-color: #7f7f7f\">plugin_prototype.py</span></a><span style=\"color: #7f7f7f; text-decoration-color: #7f7f7f\">:</span><a href=\"file:///Users/eneights/opt/anaconda3/envs/cosipy/lib/python3.9/site-packages/threeML/plugin_prototype.py#128\" target=\"_blank\"><span style=\"color: #7f7f7f; text-decoration-color: #7f7f7f\">128</span></a>\n",
       "<span style=\"color: #00ff00; text-decoration-color: #00ff00\">         </span>         <span style=\"color: #c6c6c6; text-decoration-color: #c6c6c6; font-weight: bold\">measurements such as AIC or BIC are unreliable                            </span><span style=\"color: #7f7f7f; text-decoration-color: #7f7f7f\">                       </span>\n",
       "</pre>\n"
      ],
      "text/plain": [
       "\u001b[38;5;46m17:02:19\u001b[0m\u001b[38;5;46m \u001b[0m\u001b[38;5;134mWARNING \u001b[0m \u001b[1;38;5;251m get_number_of_data_points not implemented, values for statistical       \u001b[0m\u001b[1;38;5;251m \u001b[0m\u001b]8;id=872792;file:///Users/eneights/opt/anaconda3/envs/cosipy/lib/python3.9/site-packages/threeML/plugin_prototype.py\u001b\\\u001b[2mplugin_prototype.py\u001b[0m\u001b]8;;\u001b\\\u001b[2m:\u001b[0m\u001b]8;id=813795;file:///Users/eneights/opt/anaconda3/envs/cosipy/lib/python3.9/site-packages/threeML/plugin_prototype.py#128\u001b\\\u001b[2m128\u001b[0m\u001b]8;;\u001b\\\n",
       "\u001b[38;5;46m         \u001b[0m         \u001b[1;38;5;251mmeasurements such as AIC or BIC are unreliable                           \u001b[0m\u001b[1;38;5;251m \u001b[0m\u001b[2m                       \u001b[0m\n"
      ]
     },
     "metadata": {},
     "output_type": "display_data"
    },
    {
     "data": {
      "text/html": [
       "<pre style=\"white-space:pre;overflow-x:auto;line-height:normal;font-family:Menlo,'DejaVu Sans Mono',consolas,'Courier New',monospace\"><span style=\"color: #00ffaf; text-decoration-color: #00ffaf; font-weight: bold; text-decoration: underline\">Best fit values:</span>\n",
       "\n",
       "</pre>\n"
      ],
      "text/plain": [
       "\u001b[1;4;38;5;49mBest fit values:\u001b[0m\n",
       "\n"
      ]
     },
     "metadata": {},
     "output_type": "display_data"
    },
    {
     "data": {
      "text/html": [
       "<div>\n",
       "<style scoped>\n",
       "    .dataframe tbody tr th:only-of-type {\n",
       "        vertical-align: middle;\n",
       "    }\n",
       "\n",
       "    .dataframe tbody tr th {\n",
       "        vertical-align: top;\n",
       "    }\n",
       "\n",
       "    .dataframe thead th {\n",
       "        text-align: right;\n",
       "    }\n",
       "</style>\n",
       "<table border=\"1\" class=\"dataframe\">\n",
       "  <thead>\n",
       "    <tr style=\"text-align: right;\">\n",
       "      <th></th>\n",
       "      <th>result</th>\n",
       "      <th>unit</th>\n",
       "    </tr>\n",
       "    <tr>\n",
       "      <th>parameter</th>\n",
       "      <th></th>\n",
       "      <th></th>\n",
       "    </tr>\n",
       "  </thead>\n",
       "  <tbody>\n",
       "    <tr>\n",
       "      <th>source.spectrum.main.Band.K</th>\n",
       "      <td>(2.69 +/- 0.10) x 10^-3</td>\n",
       "      <td>1 / (cm2 keV s)</td>\n",
       "    </tr>\n",
       "    <tr>\n",
       "      <th>source.spectrum.main.Band.alpha</th>\n",
       "      <td>(-6.82 +/- 0.34) x 10^-1</td>\n",
       "      <td></td>\n",
       "    </tr>\n",
       "    <tr>\n",
       "      <th>source.spectrum.main.Band.xp</th>\n",
       "      <td>(9.99 +/- 0.24) x 10^2</td>\n",
       "      <td>keV</td>\n",
       "    </tr>\n",
       "    <tr>\n",
       "      <th>source.spectrum.main.Band.beta</th>\n",
       "      <td>-2.44 +/- 0.05</td>\n",
       "      <td></td>\n",
       "    </tr>\n",
       "    <tr>\n",
       "      <th>background_cosi</th>\n",
       "      <td>(3.200 +/- 0.025) x 10^-4</td>\n",
       "      <td></td>\n",
       "    </tr>\n",
       "  </tbody>\n",
       "</table>\n",
       "</div>"
      ],
      "text/plain": [
       "                                                    result             unit\n",
       "parameter                                                                  \n",
       "source.spectrum.main.Band.K        (2.69 +/- 0.10) x 10^-3  1 / (cm2 keV s)\n",
       "source.spectrum.main.Band.alpha   (-6.82 +/- 0.34) x 10^-1                 \n",
       "source.spectrum.main.Band.xp        (9.99 +/- 0.24) x 10^2              keV\n",
       "source.spectrum.main.Band.beta              -2.44 +/- 0.05                 \n",
       "background_cosi                  (3.200 +/- 0.025) x 10^-4                 "
      ]
     },
     "metadata": {},
     "output_type": "display_data"
    },
    {
     "data": {
      "text/html": [
       "<pre style=\"white-space:pre;overflow-x:auto;line-height:normal;font-family:Menlo,'DejaVu Sans Mono',consolas,'Courier New',monospace\">\n",
       "<span style=\"color: #00ffaf; text-decoration-color: #00ffaf; font-weight: bold; text-decoration: underline\">Correlation matrix:</span>\n",
       "\n",
       "</pre>\n"
      ],
      "text/plain": [
       "\n",
       "\u001b[1;4;38;5;49mCorrelation matrix:\u001b[0m\n",
       "\n"
      ]
     },
     "metadata": {},
     "output_type": "display_data"
    },
    {
     "data": {
      "text/html": [
       "<div><table id=\"table11194356064\">\n",
       "<tr><td>1.00</td><td>0.95</td><td>-0.95</td><td>0.53</td><td>0.04</td></tr>\n",
       "<tr><td>0.95</td><td>1.00</td><td>-0.84</td><td>0.45</td><td>0.18</td></tr>\n",
       "<tr><td>-0.95</td><td>-0.84</td><td>1.00</td><td>-0.65</td><td>-0.02</td></tr>\n",
       "<tr><td>0.53</td><td>0.45</td><td>-0.65</td><td>1.00</td><td>0.01</td></tr>\n",
       "<tr><td>0.04</td><td>0.18</td><td>-0.02</td><td>0.01</td><td>1.00</td></tr>\n",
       "</table></div>"
      ],
      "text/plain": [
       " 1.00  0.95 -0.95  0.53  0.04\n",
       " 0.95  1.00 -0.84  0.45  0.18\n",
       "-0.95 -0.84  1.00 -0.65 -0.02\n",
       " 0.53  0.45 -0.65  1.00  0.01\n",
       " 0.04  0.18 -0.02  0.01  1.00"
      ]
     },
     "metadata": {},
     "output_type": "display_data"
    },
    {
     "data": {
      "text/html": [
       "<pre style=\"white-space:pre;overflow-x:auto;line-height:normal;font-family:Menlo,'DejaVu Sans Mono',consolas,'Courier New',monospace\">\n",
       "<span style=\"color: #00ffaf; text-decoration-color: #00ffaf; font-weight: bold; text-decoration: underline\">Values of -log(likelihood) at the minimum:</span>\n",
       "\n",
       "</pre>\n"
      ],
      "text/plain": [
       "\n",
       "\u001b[1;4;38;5;49mValues of -\u001b[0m\u001b[1;4;38;5;49mlog\u001b[0m\u001b[1;4;38;5;49m(\u001b[0m\u001b[1;4;38;5;49mlikelihood\u001b[0m\u001b[1;4;38;5;49m)\u001b[0m\u001b[1;4;38;5;49m at the minimum:\u001b[0m\n",
       "\n"
      ]
     },
     "metadata": {},
     "output_type": "display_data"
    },
    {
     "data": {
      "text/html": [
       "<div>\n",
       "<style scoped>\n",
       "    .dataframe tbody tr th:only-of-type {\n",
       "        vertical-align: middle;\n",
       "    }\n",
       "\n",
       "    .dataframe tbody tr th {\n",
       "        vertical-align: top;\n",
       "    }\n",
       "\n",
       "    .dataframe thead th {\n",
       "        text-align: right;\n",
       "    }\n",
       "</style>\n",
       "<table border=\"1\" class=\"dataframe\">\n",
       "  <thead>\n",
       "    <tr style=\"text-align: right;\">\n",
       "      <th></th>\n",
       "      <th>-log(likelihood)</th>\n",
       "    </tr>\n",
       "  </thead>\n",
       "  <tbody>\n",
       "    <tr>\n",
       "      <th>cosi</th>\n",
       "      <td>-42580.609624</td>\n",
       "    </tr>\n",
       "    <tr>\n",
       "      <th>total</th>\n",
       "      <td>-42580.609624</td>\n",
       "    </tr>\n",
       "  </tbody>\n",
       "</table>\n",
       "</div>"
      ],
      "text/plain": [
       "       -log(likelihood)\n",
       "cosi      -42580.609624\n",
       "total     -42580.609624"
      ]
     },
     "metadata": {},
     "output_type": "display_data"
    },
    {
     "data": {
      "text/html": [
       "<pre style=\"white-space:pre;overflow-x:auto;line-height:normal;font-family:Menlo,'DejaVu Sans Mono',consolas,'Courier New',monospace\">\n",
       "<span style=\"color: #00ffaf; text-decoration-color: #00ffaf; font-weight: bold; text-decoration: underline\">Values of statistical measures:</span>\n",
       "\n",
       "</pre>\n"
      ],
      "text/plain": [
       "\n",
       "\u001b[1;4;38;5;49mValues of statistical measures:\u001b[0m\n",
       "\n"
      ]
     },
     "metadata": {},
     "output_type": "display_data"
    },
    {
     "data": {
      "text/html": [
       "<div>\n",
       "<style scoped>\n",
       "    .dataframe tbody tr th:only-of-type {\n",
       "        vertical-align: middle;\n",
       "    }\n",
       "\n",
       "    .dataframe tbody tr th {\n",
       "        vertical-align: top;\n",
       "    }\n",
       "\n",
       "    .dataframe thead th {\n",
       "        text-align: right;\n",
       "    }\n",
       "</style>\n",
       "<table border=\"1\" class=\"dataframe\">\n",
       "  <thead>\n",
       "    <tr style=\"text-align: right;\">\n",
       "      <th></th>\n",
       "      <th>statistical measures</th>\n",
       "    </tr>\n",
       "  </thead>\n",
       "  <tbody>\n",
       "    <tr>\n",
       "      <th>AIC</th>\n",
       "      <td>-85163.219248</td>\n",
       "    </tr>\n",
       "    <tr>\n",
       "      <th>BIC</th>\n",
       "      <td>-85161.219248</td>\n",
       "    </tr>\n",
       "  </tbody>\n",
       "</table>\n",
       "</div>"
      ],
      "text/plain": [
       "     statistical measures\n",
       "AIC         -85163.219248\n",
       "BIC         -85161.219248"
      ]
     },
     "metadata": {},
     "output_type": "display_data"
    },
    {
     "data": {
      "text/plain": [
       "(                                      value  negative_error  positive_error  \\\n",
       " source.spectrum.main.Band.K        0.002691       -0.000097        0.000105   \n",
       " source.spectrum.main.Band.alpha   -0.681554       -0.033321        0.034036   \n",
       " source.spectrum.main.Band.xp     999.384409      -24.889743       23.794920   \n",
       " source.spectrum.main.Band.beta    -2.443410       -0.054113        0.053337   \n",
       " background_cosi                    0.000320       -0.000002        0.000002   \n",
       " \n",
       "                                      error             unit  \n",
       " source.spectrum.main.Band.K       0.000101  1 / (cm2 keV s)  \n",
       " source.spectrum.main.Band.alpha   0.033678                   \n",
       " source.spectrum.main.Band.xp     24.342332              keV  \n",
       " source.spectrum.main.Band.beta    0.053725                   \n",
       " background_cosi                   0.000002                   ,\n",
       "        -log(likelihood)\n",
       " cosi      -42580.609624\n",
       " total     -42580.609624)"
      ]
     },
     "execution_count": 12,
     "metadata": {},
     "output_type": "execute_result"
    }
   ],
   "source": [
    "plugins = DataList(cosi) # If we had multiple instruments, we would do e.g. DataList(cosi, lat, hawc, ...)\n",
    "\n",
    "like = JointLikelihood(model, plugins, verbose = False)\n",
    "\n",
    "like.fit()"
   ]
  },
  {
   "cell_type": "markdown",
   "id": "44542198-aba8-4a37-b9d0-31930718c2bb",
   "metadata": {},
   "source": [
    "## 3ML error propagation and plotting (megalib simulation)"
   ]
  },
  {
   "cell_type": "markdown",
   "id": "4ad20f51-3d3f-43e1-a6a3-037bf3ee9f8f",
   "metadata": {},
   "source": [
    "Define injected spectral parameters "
   ]
  },
  {
   "cell_type": "code",
   "execution_count": 13,
   "id": "02e57ec8-4459-4f99-b62f-73a63aba83f3",
   "metadata": {},
   "outputs": [],
   "source": [
    "K_inj = 1.236       # 1/keV/cm2/s\n",
    "piv_inj = 1.        # keV\n",
    "alpha_inj = -1.\n",
    "beta_inj = -3.\n",
    "xp_inj = 1000.      # keV "
   ]
  },
  {
   "cell_type": "markdown",
   "id": "d626f871-fbdf-40b8-b865-140e3ea4b5c3",
   "metadata": {},
   "source": [
    "The summary of the results above tell you the optimal values of the parameters, as well as the errors. You typically want to propagate these into the error in the flux at different energies, and plot the spectrum. Let's do that:"
   ]
  },
  {
   "cell_type": "code",
   "execution_count": 14,
   "id": "f8dbd36f-4b16-4bec-8835-8f6f876ab169",
   "metadata": {
    "scrolled": true,
    "tags": []
   },
   "outputs": [
    {
     "data": {
      "text/html": [
       "<pre style=\"white-space:pre;overflow-x:auto;line-height:normal;font-family:Menlo,'DejaVu Sans Mono',consolas,'Courier New',monospace\"><span style=\"color: #00ffaf; text-decoration-color: #00ffaf; font-weight: bold; text-decoration: underline\">Best fit values:</span>\n",
       "\n",
       "</pre>\n"
      ],
      "text/plain": [
       "\u001b[1;4;38;5;49mBest fit values:\u001b[0m\n",
       "\n"
      ]
     },
     "metadata": {},
     "output_type": "display_data"
    },
    {
     "data": {
      "text/html": [
       "<div>\n",
       "<style scoped>\n",
       "    .dataframe tbody tr th:only-of-type {\n",
       "        vertical-align: middle;\n",
       "    }\n",
       "\n",
       "    .dataframe tbody tr th {\n",
       "        vertical-align: top;\n",
       "    }\n",
       "\n",
       "    .dataframe thead th {\n",
       "        text-align: right;\n",
       "    }\n",
       "</style>\n",
       "<table border=\"1\" class=\"dataframe\">\n",
       "  <thead>\n",
       "    <tr style=\"text-align: right;\">\n",
       "      <th></th>\n",
       "      <th>result</th>\n",
       "      <th>unit</th>\n",
       "    </tr>\n",
       "    <tr>\n",
       "      <th>parameter</th>\n",
       "      <th></th>\n",
       "      <th></th>\n",
       "    </tr>\n",
       "  </thead>\n",
       "  <tbody>\n",
       "    <tr>\n",
       "      <th>source.spectrum.main.Band.K</th>\n",
       "      <td>(2.69 +/- 0.10) x 10^-3</td>\n",
       "      <td>1 / (cm2 keV s)</td>\n",
       "    </tr>\n",
       "    <tr>\n",
       "      <th>source.spectrum.main.Band.alpha</th>\n",
       "      <td>(-6.82 +/- 0.34) x 10^-1</td>\n",
       "      <td></td>\n",
       "    </tr>\n",
       "    <tr>\n",
       "      <th>source.spectrum.main.Band.xp</th>\n",
       "      <td>(9.99 +/- 0.24) x 10^2</td>\n",
       "      <td>keV</td>\n",
       "    </tr>\n",
       "    <tr>\n",
       "      <th>source.spectrum.main.Band.beta</th>\n",
       "      <td>-2.44 +/- 0.05</td>\n",
       "      <td></td>\n",
       "    </tr>\n",
       "    <tr>\n",
       "      <th>background_cosi</th>\n",
       "      <td>(3.200 +/- 0.025) x 10^-4</td>\n",
       "      <td></td>\n",
       "    </tr>\n",
       "  </tbody>\n",
       "</table>\n",
       "</div>"
      ],
      "text/plain": [
       "                                                    result             unit\n",
       "parameter                                                                  \n",
       "source.spectrum.main.Band.K        (2.69 +/- 0.10) x 10^-3  1 / (cm2 keV s)\n",
       "source.spectrum.main.Band.alpha   (-6.82 +/- 0.34) x 10^-1                 \n",
       "source.spectrum.main.Band.xp        (9.99 +/- 0.24) x 10^2              keV\n",
       "source.spectrum.main.Band.beta              -2.44 +/- 0.05                 \n",
       "background_cosi                  (3.200 +/- 0.025) x 10^-4                 "
      ]
     },
     "metadata": {},
     "output_type": "display_data"
    },
    {
     "data": {
      "text/html": [
       "<pre style=\"white-space:pre;overflow-x:auto;line-height:normal;font-family:Menlo,'DejaVu Sans Mono',consolas,'Courier New',monospace\">\n",
       "<span style=\"color: #00ffaf; text-decoration-color: #00ffaf; font-weight: bold; text-decoration: underline\">Correlation matrix:</span>\n",
       "\n",
       "</pre>\n"
      ],
      "text/plain": [
       "\n",
       "\u001b[1;4;38;5;49mCorrelation matrix:\u001b[0m\n",
       "\n"
      ]
     },
     "metadata": {},
     "output_type": "display_data"
    },
    {
     "data": {
      "text/html": [
       "<div><table id=\"table11194356064\">\n",
       "<tr><td>1.00</td><td>0.95</td><td>-0.95</td><td>0.53</td><td>0.04</td></tr>\n",
       "<tr><td>0.95</td><td>1.00</td><td>-0.84</td><td>0.45</td><td>0.18</td></tr>\n",
       "<tr><td>-0.95</td><td>-0.84</td><td>1.00</td><td>-0.65</td><td>-0.02</td></tr>\n",
       "<tr><td>0.53</td><td>0.45</td><td>-0.65</td><td>1.00</td><td>0.01</td></tr>\n",
       "<tr><td>0.04</td><td>0.18</td><td>-0.02</td><td>0.01</td><td>1.00</td></tr>\n",
       "</table></div>"
      ],
      "text/plain": [
       " 1.00  0.95 -0.95  0.53  0.04\n",
       " 0.95  1.00 -0.84  0.45  0.18\n",
       "-0.95 -0.84  1.00 -0.65 -0.02\n",
       " 0.53  0.45 -0.65  1.00  0.01\n",
       " 0.04  0.18 -0.02  0.01  1.00"
      ]
     },
     "metadata": {},
     "output_type": "display_data"
    },
    {
     "data": {
      "text/html": [
       "<pre style=\"white-space:pre;overflow-x:auto;line-height:normal;font-family:Menlo,'DejaVu Sans Mono',consolas,'Courier New',monospace\">\n",
       "<span style=\"color: #00ffaf; text-decoration-color: #00ffaf; font-weight: bold; text-decoration: underline\">Values of -log(likelihood) at the minimum:</span>\n",
       "\n",
       "</pre>\n"
      ],
      "text/plain": [
       "\n",
       "\u001b[1;4;38;5;49mValues of -\u001b[0m\u001b[1;4;38;5;49mlog\u001b[0m\u001b[1;4;38;5;49m(\u001b[0m\u001b[1;4;38;5;49mlikelihood\u001b[0m\u001b[1;4;38;5;49m)\u001b[0m\u001b[1;4;38;5;49m at the minimum:\u001b[0m\n",
       "\n"
      ]
     },
     "metadata": {},
     "output_type": "display_data"
    },
    {
     "data": {
      "text/html": [
       "<div>\n",
       "<style scoped>\n",
       "    .dataframe tbody tr th:only-of-type {\n",
       "        vertical-align: middle;\n",
       "    }\n",
       "\n",
       "    .dataframe tbody tr th {\n",
       "        vertical-align: top;\n",
       "    }\n",
       "\n",
       "    .dataframe thead th {\n",
       "        text-align: right;\n",
       "    }\n",
       "</style>\n",
       "<table border=\"1\" class=\"dataframe\">\n",
       "  <thead>\n",
       "    <tr style=\"text-align: right;\">\n",
       "      <th></th>\n",
       "      <th>-log(likelihood)</th>\n",
       "    </tr>\n",
       "  </thead>\n",
       "  <tbody>\n",
       "    <tr>\n",
       "      <th>cosi</th>\n",
       "      <td>-42580.609624</td>\n",
       "    </tr>\n",
       "    <tr>\n",
       "      <th>total</th>\n",
       "      <td>-42580.609624</td>\n",
       "    </tr>\n",
       "  </tbody>\n",
       "</table>\n",
       "</div>"
      ],
      "text/plain": [
       "       -log(likelihood)\n",
       "cosi      -42580.609624\n",
       "total     -42580.609624"
      ]
     },
     "metadata": {},
     "output_type": "display_data"
    },
    {
     "data": {
      "text/html": [
       "<pre style=\"white-space:pre;overflow-x:auto;line-height:normal;font-family:Menlo,'DejaVu Sans Mono',consolas,'Courier New',monospace\">\n",
       "<span style=\"color: #00ffaf; text-decoration-color: #00ffaf; font-weight: bold; text-decoration: underline\">Values of statistical measures:</span>\n",
       "\n",
       "</pre>\n"
      ],
      "text/plain": [
       "\n",
       "\u001b[1;4;38;5;49mValues of statistical measures:\u001b[0m\n",
       "\n"
      ]
     },
     "metadata": {},
     "output_type": "display_data"
    },
    {
     "data": {
      "text/html": [
       "<div>\n",
       "<style scoped>\n",
       "    .dataframe tbody tr th:only-of-type {\n",
       "        vertical-align: middle;\n",
       "    }\n",
       "\n",
       "    .dataframe tbody tr th {\n",
       "        vertical-align: top;\n",
       "    }\n",
       "\n",
       "    .dataframe thead th {\n",
       "        text-align: right;\n",
       "    }\n",
       "</style>\n",
       "<table border=\"1\" class=\"dataframe\">\n",
       "  <thead>\n",
       "    <tr style=\"text-align: right;\">\n",
       "      <th></th>\n",
       "      <th>statistical measures</th>\n",
       "    </tr>\n",
       "  </thead>\n",
       "  <tbody>\n",
       "    <tr>\n",
       "      <th>AIC</th>\n",
       "      <td>-85163.219248</td>\n",
       "    </tr>\n",
       "    <tr>\n",
       "      <th>BIC</th>\n",
       "      <td>-85161.219248</td>\n",
       "    </tr>\n",
       "  </tbody>\n",
       "</table>\n",
       "</div>"
      ],
      "text/plain": [
       "     statistical measures\n",
       "AIC         -85163.219248\n",
       "BIC         -85161.219248"
      ]
     },
     "metadata": {},
     "output_type": "display_data"
    },
    {
     "name": "stdout",
     "output_type": "stream",
     "text": [
      "None\n",
      "  * source (point source):\n",
      "    * position:\n",
      "      * l:\n",
      "        * value: 51.0\n",
      "        * desc: Galactic longitude\n",
      "        * min_value: 0.0\n",
      "        * max_value: 360.0\n",
      "        * unit: deg\n",
      "        * is_normalization: false\n",
      "      * b:\n",
      "        * value: -17.0\n",
      "        * desc: Galactic latitude\n",
      "        * min_value: -90.0\n",
      "        * max_value: 90.0\n",
      "        * unit: deg\n",
      "        * is_normalization: false\n",
      "      * equinox: J2000\n",
      "    * spectrum:\n",
      "      * main:\n",
      "        * Band:\n",
      "          * K:\n",
      "            * value: 0.0026911089140221243\n",
      "            * desc: Differential flux at the pivot energy\n",
      "            * min_value: 1.0e-99\n",
      "            * max_value: null\n",
      "            * unit: keV-1 s-1 cm-2\n",
      "            * is_normalization: true\n",
      "          * alpha:\n",
      "            * value: -0.6815543660196952\n",
      "            * desc: low-energy photon index\n",
      "            * min_value: -1.5\n",
      "            * max_value: 3.0\n",
      "            * unit: ''\n",
      "            * is_normalization: false\n",
      "          * xp:\n",
      "            * value: 999.3844090115989\n",
      "            * desc: peak in the x * x * N (nuFnu if x is a energy)\n",
      "            * min_value: 10.0\n",
      "            * max_value: null\n",
      "            * unit: keV\n",
      "            * is_normalization: false\n",
      "          * beta:\n",
      "            * value: -2.443410219802676\n",
      "            * desc: high-energy photon index\n",
      "            * min_value: -5.0\n",
      "            * max_value: -1.6\n",
      "            * unit: ''\n",
      "            * is_normalization: false\n",
      "          * piv:\n",
      "            * value: 500.0\n",
      "            * desc: pivot energy\n",
      "            * min_value: null\n",
      "            * max_value: null\n",
      "            * unit: keV\n",
      "            * is_normalization: false\n",
      "        * polarization: {}\n",
      "\n"
     ]
    },
    {
     "data": {
      "text/plain": [
       "<matplotlib.legend.Legend at 0x29d6b9460>"
      ]
     },
     "execution_count": 14,
     "metadata": {},
     "output_type": "execute_result"
    },
    {
     "data": {
      "image/png": "[encoded data removed]",
      "text/plain": [
       "<Figure size 640x480 with 1 Axes>"
      ]
     },
     "metadata": {},
     "output_type": "display_data"
    }
   ],
   "source": [
    "# Propagate the errors to the \"evaluate_at\" method of the spectrum\n",
    "results = like.results\n",
    "\n",
    "print(results.display())\n",
    "\n",
    "parameters = {par.name:results.get_variates(par.path)\n",
    "              for par in results.optimized_model[\"source\"].parameters.values()\n",
    "              if par.free}\n",
    "\n",
    "if 'l' in parameters:\n",
    "    del parameters['l']\n",
    "if 'b' in parameters:\n",
    "    del parameters['b']\n",
    "\n",
    "results_err = results.propagate(results.optimized_model[\"source\"].spectrum.main.shape.evaluate_at, **parameters)\n",
    "\n",
    "print(results.optimized_model[\"source\"])\n",
    "\n",
    "# Evaluate at multiple energy values, for plotting\n",
    "energy = np.geomspace(200*u.keV,5*u.MeV).to_value(u.keV)\n",
    "\n",
    "flux_lo = np.zeros_like(energy)\n",
    "flux_median = np.zeros_like(energy)\n",
    "flux_hi = np.zeros_like(energy)\n",
    "\n",
    "for i, e in enumerate(energy):\n",
    "    flux = results_err(e)\n",
    "    flux_median[i] = flux.median\n",
    "    flux_lo[i], flux_hi[i] = flux.equal_tail_interval(cl=0.68)\n",
    "    \n",
    "# Plot\n",
    "fig,ax = plt.subplots()\n",
    "\n",
    "ax.plot(energy, energy*energy*flux_median, label = \"Measured (best)\")\n",
    "\n",
    "ax.fill_between(energy, energy*energy*flux_lo, energy*energy*flux_hi, alpha = .5, label = \"Measured (errors)\")\n",
    "\n",
    "# Plot injected spectrum\n",
    "def band_megalib(energy, alpha, beta, E0):\n",
    "    if energy == 0 or alpha - beta < 0:\n",
    "        return 0.0\n",
    "    else:\n",
    "        ebreak = (alpha - beta) * E0\n",
    "        if energy <= ebreak:\n",
    "            return energy**alpha * np.exp(-energy/E0)\n",
    "        else:\n",
    "            return ebreak**(alpha-beta) * np.exp(beta-alpha) * energy**beta\n",
    "\n",
    "flux_inj = np.zeros_like(energy)\n",
    "\n",
    "for i, e in enumerate(energy):\n",
    "    flux_inj[i] = K_inj * band_megalib(e, alpha_inj, beta_inj, xp_inj)\n",
    "ax.plot(energy, energy*energy*flux_inj, color = 'black', ls = \":\", label = \"Injected\")\n",
    "\n",
    "ax.set_xscale(\"log\")\n",
    "ax.set_yscale(\"log\")\n",
    "\n",
    "ax.set_xlim(1e2, 1e4)\n",
    "ax.set_ylim(10, 1e5)\n",
    "\n",
    "ax.set_xlabel(\"Energy [keV]\")\n",
    "ax.set_ylabel(r\"$E^2 \\frac{dN}{dE}$ [keV cm$^{-2}$ s$^{-1}$]\")\n",
    "\n",
    "ax.legend()"
   ]
  },
  {
   "cell_type": "markdown",
   "id": "63e03510-814c-44f9-804a-5b9db2ef9bd6",
   "metadata": {},
   "source": [
    "Create TS map for troubleshooting"
   ]
  },
  {
   "cell_type": "code",
   "execution_count": 22,
   "id": "bd93f97e-e8f8-4209-8294-3b5f9d109d64",
   "metadata": {
    "scrolled": true,
    "tags": []
   },
   "outputs": [
    {
     "name": "stdout",
     "output_type": "stream",
     "text": [
      "i =  0/29  j =  2/30"
     ]
    },
    {
     "name": "stderr",
     "output_type": "stream",
     "text": [
      "\n",
      "WARNING RuntimeWarning: divide by zero encountered in log\n",
      "\n",
      "\n",
      "WARNING RuntimeWarning: invalid value encountered in multiply\n",
      "\n",
      "\n",
      "WARNING RuntimeWarning: divide by zero encountered in log\n",
      "\n",
      "\n",
      "WARNING RuntimeWarning: invalid value encountered in multiply\n",
      "\n",
      "\n",
      "WARNING RuntimeWarning: divide by zero encountered in log\n",
      "\n",
      "\n",
      "WARNING RuntimeWarning: invalid value encountered in multiply\n",
      "\n"
     ]
    },
    {
     "name": "stdout",
     "output_type": "stream",
     "text": [
      "i =  0/29  j =  5/30"
     ]
    },
    {
     "name": "stderr",
     "output_type": "stream",
     "text": [
      "\n",
      "WARNING RuntimeWarning: divide by zero encountered in log\n",
      "\n",
      "\n",
      "WARNING RuntimeWarning: invalid value encountered in multiply\n",
      "\n",
      "\n",
      "WARNING RuntimeWarning: divide by zero encountered in log\n",
      "\n",
      "\n",
      "WARNING RuntimeWarning: invalid value encountered in multiply\n",
      "\n",
      "\n",
      "WARNING RuntimeWarning: divide by zero encountered in log\n",
      "\n",
      "\n",
      "WARNING RuntimeWarning: invalid value encountered in multiply\n",
      "\n"
     ]
    },
    {
     "name": "stdout",
     "output_type": "stream",
     "text": [
      "i =  0/29  j =  8/30"
     ]
    },
    {
     "name": "stderr",
     "output_type": "stream",
     "text": [
      "\n",
      "WARNING RuntimeWarning: divide by zero encountered in log\n",
      "\n",
      "\n",
      "WARNING RuntimeWarning: invalid value encountered in multiply\n",
      "\n",
      "\n",
      "WARNING RuntimeWarning: divide by zero encountered in log\n",
      "\n",
      "\n",
      "WARNING RuntimeWarning: invalid value encountered in multiply\n",
      "\n",
      "\n",
      "WARNING RuntimeWarning: divide by zero encountered in log\n",
      "\n",
      "\n",
      "WARNING RuntimeWarning: invalid value encountered in multiply\n",
      "\n"
     ]
    },
    {
     "name": "stdout",
     "output_type": "stream",
     "text": [
      "i =  0/29  j = 11/30"
     ]
    },
    {
     "name": "stderr",
     "output_type": "stream",
     "text": [
      "\n",
      "WARNING RuntimeWarning: divide by zero encountered in log\n",
      "\n",
      "\n",
      "WARNING RuntimeWarning: invalid value encountered in multiply\n",
      "\n",
      "\n",
      "WARNING RuntimeWarning: divide by zero encountered in log\n",
      "\n",
      "\n",
      "WARNING RuntimeWarning: invalid value encountered in multiply\n",
      "\n",
      "\n",
      "WARNING RuntimeWarning: divide by zero encountered in log\n",
      "\n",
      "\n",
      "WARNING RuntimeWarning: invalid value encountered in multiply\n",
      "\n"
     ]
    },
    {
     "name": "stdout",
     "output_type": "stream",
     "text": [
      "i =  0/29  j = 14/30"
     ]
    },
    {
     "name": "stderr",
     "output_type": "stream",
     "text": [
      "\n",
      "WARNING RuntimeWarning: divide by zero encountered in log\n",
      "\n",
      "\n",
      "WARNING RuntimeWarning: invalid value encountered in multiply\n",
      "\n",
      "\n",
      "WARNING RuntimeWarning: divide by zero encountered in log\n",
      "\n",
      "\n",
      "WARNING RuntimeWarning: invalid value encountered in multiply\n",
      "\n",
      "\n",
      "WARNING RuntimeWarning: divide by zero encountered in log\n",
      "\n",
      "\n",
      "WARNING RuntimeWarning: invalid value encountered in multiply\n",
      "\n"
     ]
    },
    {
     "name": "stdout",
     "output_type": "stream",
     "text": [
      "i =  0/29  j = 17/30"
     ]
    },
    {
     "name": "stderr",
     "output_type": "stream",
     "text": [
      "\n",
      "WARNING RuntimeWarning: divide by zero encountered in log\n",
      "\n",
      "\n",
      "WARNING RuntimeWarning: invalid value encountered in multiply\n",
      "\n",
      "\n",
      "WARNING RuntimeWarning: divide by zero encountered in log\n",
      "\n",
      "\n",
      "WARNING RuntimeWarning: invalid value encountered in multiply\n",
      "\n",
      "\n",
      "WARNING RuntimeWarning: divide by zero encountered in log\n",
      "\n",
      "\n",
      "WARNING RuntimeWarning: invalid value encountered in multiply\n",
      "\n"
     ]
    },
    {
     "name": "stdout",
     "output_type": "stream",
     "text": [
      "i =  0/29  j = 21/30"
     ]
    },
    {
     "name": "stderr",
     "output_type": "stream",
     "text": [
      "\n",
      "WARNING RuntimeWarning: divide by zero encountered in log\n",
      "\n",
      "\n",
      "WARNING RuntimeWarning: invalid value encountered in multiply\n",
      "\n",
      "\n",
      "WARNING RuntimeWarning: divide by zero encountered in log\n",
      "\n",
      "\n",
      "WARNING RuntimeWarning: invalid value encountered in multiply\n",
      "\n",
      "\n",
      "WARNING RuntimeWarning: divide by zero encountered in log\n",
      "\n",
      "\n",
      "WARNING RuntimeWarning: invalid value encountered in multiply\n",
      "\n",
      "\n",
      "WARNING RuntimeWarning: divide by zero encountered in log\n",
      "\n",
      "\n",
      "WARNING RuntimeWarning: invalid value encountered in multiply\n",
      "\n",
      "\n",
      "WARNING RuntimeWarning: divide by zero encountered in log\n",
      "\n",
      "\n",
      "WARNING RuntimeWarning: invalid value encountered in multiply\n",
      "\n",
      "\n",
      "WARNING RuntimeWarning: divide by zero encountered in log\n",
      "\n",
      "\n",
      "WARNING RuntimeWarning: invalid value encountered in multiply\n",
      "\n"
     ]
    },
    {
     "name": "stdout",
     "output_type": "stream",
     "text": [
      "i =  0/29  j = 24/30"
     ]
    },
    {
     "name": "stderr",
     "output_type": "stream",
     "text": [
      "\n",
      "WARNING RuntimeWarning: divide by zero encountered in log\n",
      "\n",
      "\n",
      "WARNING RuntimeWarning: invalid value encountered in multiply\n",
      "\n",
      "\n",
      "WARNING RuntimeWarning: divide by zero encountered in log\n",
      "\n",
      "\n",
      "WARNING RuntimeWarning: invalid value encountered in multiply\n",
      "\n",
      "\n",
      "WARNING RuntimeWarning: divide by zero encountered in log\n",
      "\n",
      "\n",
      "WARNING RuntimeWarning: invalid value encountered in multiply\n",
      "\n"
     ]
    },
    {
     "name": "stdout",
     "output_type": "stream",
     "text": [
      "i =  0/29  j = 27/30"
     ]
    },
    {
     "name": "stderr",
     "output_type": "stream",
     "text": [
      "\n",
      "WARNING RuntimeWarning: divide by zero encountered in log\n",
      "\n",
      "\n",
      "WARNING RuntimeWarning: invalid value encountered in multiply\n",
      "\n",
      "\n",
      "WARNING RuntimeWarning: divide by zero encountered in log\n",
      "\n",
      "\n",
      "WARNING RuntimeWarning: invalid value encountered in multiply\n",
      "\n",
      "\n",
      "WARNING RuntimeWarning: divide by zero encountered in log\n",
      "\n",
      "\n",
      "WARNING RuntimeWarning: invalid value encountered in multiply\n",
      "\n"
     ]
    },
    {
     "name": "stdout",
     "output_type": "stream",
     "text": [
      "i =  1/29  j =  0/30"
     ]
    },
    {
     "name": "stderr",
     "output_type": "stream",
     "text": [
      "\n",
      "WARNING RuntimeWarning: divide by zero encountered in log\n",
      "\n",
      "\n",
      "WARNING RuntimeWarning: invalid value encountered in multiply\n",
      "\n",
      "\n",
      "WARNING RuntimeWarning: divide by zero encountered in log\n",
      "\n",
      "\n",
      "WARNING RuntimeWarning: invalid value encountered in multiply\n",
      "\n",
      "\n",
      "WARNING RuntimeWarning: divide by zero encountered in log\n",
      "\n",
      "\n",
      "WARNING RuntimeWarning: invalid value encountered in multiply\n",
      "\n"
     ]
    },
    {
     "name": "stdout",
     "output_type": "stream",
     "text": [
      "i =  1/29  j =  3/30"
     ]
    },
    {
     "name": "stderr",
     "output_type": "stream",
     "text": [
      "\n",
      "WARNING RuntimeWarning: divide by zero encountered in log\n",
      "\n",
      "\n",
      "WARNING RuntimeWarning: invalid value encountered in multiply\n",
      "\n",
      "\n",
      "WARNING RuntimeWarning: divide by zero encountered in log\n",
      "\n",
      "\n",
      "WARNING RuntimeWarning: invalid value encountered in multiply\n",
      "\n",
      "\n",
      "WARNING RuntimeWarning: divide by zero encountered in log\n",
      "\n",
      "\n",
      "WARNING RuntimeWarning: invalid value encountered in multiply\n",
      "\n"
     ]
    },
    {
     "name": "stdout",
     "output_type": "stream",
     "text": [
      "i =  1/29  j =  6/30"
     ]
    },
    {
     "name": "stderr",
     "output_type": "stream",
     "text": [
      "\n",
      "WARNING RuntimeWarning: divide by zero encountered in log\n",
      "\n",
      "\n",
      "WARNING RuntimeWarning: invalid value encountered in multiply\n",
      "\n",
      "\n",
      "WARNING RuntimeWarning: divide by zero encountered in log\n",
      "\n",
      "\n",
      "WARNING RuntimeWarning: invalid value encountered in multiply\n",
      "\n",
      "\n",
      "WARNING RuntimeWarning: divide by zero encountered in log\n",
      "\n",
      "\n",
      "WARNING RuntimeWarning: invalid value encountered in multiply\n",
      "\n"
     ]
    },
    {
     "name": "stdout",
     "output_type": "stream",
     "text": [
      "i =  1/29  j = 10/30"
     ]
    },
    {
     "name": "stderr",
     "output_type": "stream",
     "text": [
      "\n",
      "WARNING RuntimeWarning: divide by zero encountered in log\n",
      "\n",
      "\n",
      "WARNING RuntimeWarning: invalid value encountered in multiply\n",
      "\n",
      "\n",
      "WARNING RuntimeWarning: divide by zero encountered in log\n",
      "\n",
      "\n",
      "WARNING RuntimeWarning: invalid value encountered in multiply\n",
      "\n",
      "\n",
      "WARNING RuntimeWarning: divide by zero encountered in log\n",
      "\n",
      "\n",
      "WARNING RuntimeWarning: invalid value encountered in multiply\n",
      "\n"
     ]
    },
    {
     "name": "stdout",
     "output_type": "stream",
     "text": [
      "i =  1/29  j = 14/30"
     ]
    },
    {
     "name": "stderr",
     "output_type": "stream",
     "text": [
      "\n",
      "WARNING RuntimeWarning: divide by zero encountered in log\n",
      "\n",
      "\n",
      "WARNING RuntimeWarning: invalid value encountered in multiply\n",
      "\n",
      "\n",
      "WARNING RuntimeWarning: divide by zero encountered in log\n",
      "\n",
      "\n",
      "WARNING RuntimeWarning: invalid value encountered in multiply\n",
      "\n",
      "\n",
      "WARNING RuntimeWarning: divide by zero encountered in log\n",
      "\n",
      "\n",
      "WARNING RuntimeWarning: invalid value encountered in multiply\n",
      "\n"
     ]
    },
    {
     "name": "stdout",
     "output_type": "stream",
     "text": [
      "i =  1/29  j = 17/30"
     ]
    },
    {
     "name": "stderr",
     "output_type": "stream",
     "text": [
      "\n",
      "WARNING RuntimeWarning: divide by zero encountered in log\n",
      "\n",
      "\n",
      "WARNING RuntimeWarning: invalid value encountered in multiply\n",
      "\n",
      "\n",
      "WARNING RuntimeWarning: divide by zero encountered in log\n",
      "\n",
      "\n",
      "WARNING RuntimeWarning: invalid value encountered in multiply\n",
      "\n",
      "\n",
      "WARNING RuntimeWarning: divide by zero encountered in log\n",
      "\n",
      "\n",
      "WARNING RuntimeWarning: invalid value encountered in multiply\n",
      "\n"
     ]
    },
    {
     "name": "stdout",
     "output_type": "stream",
     "text": [
      "i =  1/29  j = 21/30"
     ]
    },
    {
     "name": "stderr",
     "output_type": "stream",
     "text": [
      "\n",
      "WARNING RuntimeWarning: divide by zero encountered in log\n",
      "\n",
      "\n",
      "WARNING RuntimeWarning: invalid value encountered in multiply\n",
      "\n",
      "\n",
      "WARNING RuntimeWarning: divide by zero encountered in log\n",
      "\n",
      "\n",
      "WARNING RuntimeWarning: invalid value encountered in multiply\n",
      "\n",
      "\n",
      "WARNING RuntimeWarning: divide by zero encountered in log\n",
      "\n",
      "\n",
      "WARNING RuntimeWarning: invalid value encountered in multiply\n",
      "\n",
      "\n",
      "WARNING RuntimeWarning: divide by zero encountered in log\n",
      "\n",
      "\n",
      "WARNING RuntimeWarning: invalid value encountered in multiply\n",
      "\n"
     ]
    },
    {
     "name": "stdout",
     "output_type": "stream",
     "text": [
      "i =  1/29  j = 25/30"
     ]
    },
    {
     "name": "stderr",
     "output_type": "stream",
     "text": [
      "\n",
      "WARNING RuntimeWarning: divide by zero encountered in log\n",
      "\n",
      "\n",
      "WARNING RuntimeWarning: invalid value encountered in multiply\n",
      "\n",
      "\n",
      "WARNING RuntimeWarning: divide by zero encountered in log\n",
      "\n",
      "\n",
      "WARNING RuntimeWarning: invalid value encountered in multiply\n",
      "\n",
      "\n",
      "WARNING RuntimeWarning: divide by zero encountered in log\n",
      "\n",
      "\n",
      "WARNING RuntimeWarning: invalid value encountered in multiply\n",
      "\n",
      "\n",
      "WARNING RuntimeWarning: divide by zero encountered in log\n",
      "\n",
      "\n",
      "WARNING RuntimeWarning: invalid value encountered in multiply\n",
      "\n",
      "\n",
      "WARNING RuntimeWarning: divide by zero encountered in log\n",
      "\n",
      "\n",
      "WARNING RuntimeWarning: invalid value encountered in multiply\n",
      "\n",
      "\n",
      "WARNING RuntimeWarning: divide by zero encountered in log\n",
      "\n",
      "\n",
      "WARNING RuntimeWarning: invalid value encountered in multiply\n",
      "\n",
      "\n",
      "WARNING RuntimeWarning: divide by zero encountered in log\n",
      "\n",
      "\n",
      "WARNING RuntimeWarning: invalid value encountered in multiply\n",
      "\n"
     ]
    },
    {
     "name": "stdout",
     "output_type": "stream",
     "text": [
      "i =  2/29  j =  1/30"
     ]
    },
    {
     "name": "stderr",
     "output_type": "stream",
     "text": [
      "\n",
      "WARNING RuntimeWarning: divide by zero encountered in log\n",
      "\n",
      "\n",
      "WARNING RuntimeWarning: invalid value encountered in multiply\n",
      "\n",
      "\n",
      "WARNING RuntimeWarning: divide by zero encountered in log\n",
      "\n",
      "\n",
      "WARNING RuntimeWarning: invalid value encountered in multiply\n",
      "\n",
      "\n",
      "WARNING RuntimeWarning: divide by zero encountered in log\n",
      "\n",
      "\n",
      "WARNING RuntimeWarning: invalid value encountered in multiply\n",
      "\n"
     ]
    },
    {
     "name": "stdout",
     "output_type": "stream",
     "text": [
      "i =  2/29  j =  4/30"
     ]
    },
    {
     "name": "stderr",
     "output_type": "stream",
     "text": [
      "\n",
      "WARNING RuntimeWarning: divide by zero encountered in log\n",
      "\n",
      "\n",
      "WARNING RuntimeWarning: invalid value encountered in multiply\n",
      "\n",
      "\n",
      "WARNING RuntimeWarning: divide by zero encountered in log\n",
      "\n",
      "\n",
      "WARNING RuntimeWarning: invalid value encountered in multiply\n",
      "\n",
      "\n",
      "WARNING RuntimeWarning: divide by zero encountered in log\n",
      "\n",
      "\n",
      "WARNING RuntimeWarning: invalid value encountered in multiply\n",
      "\n"
     ]
    },
    {
     "name": "stdout",
     "output_type": "stream",
     "text": [
      "i =  2/29  j =  8/30"
     ]
    },
    {
     "name": "stderr",
     "output_type": "stream",
     "text": [
      "\n",
      "WARNING RuntimeWarning: divide by zero encountered in log\n",
      "\n",
      "\n",
      "WARNING RuntimeWarning: invalid value encountered in multiply\n",
      "\n",
      "\n",
      "WARNING RuntimeWarning: divide by zero encountered in log\n",
      "\n",
      "\n",
      "WARNING RuntimeWarning: invalid value encountered in multiply\n",
      "\n",
      "\n",
      "WARNING RuntimeWarning: divide by zero encountered in log\n",
      "\n",
      "\n",
      "WARNING RuntimeWarning: invalid value encountered in multiply\n",
      "\n",
      "\n",
      "WARNING RuntimeWarning: divide by zero encountered in log\n",
      "\n",
      "\n",
      "WARNING RuntimeWarning: invalid value encountered in multiply\n",
      "\n"
     ]
    },
    {
     "name": "stdout",
     "output_type": "stream",
     "text": [
      "i =  2/29  j = 12/30"
     ]
    },
    {
     "name": "stderr",
     "output_type": "stream",
     "text": [
      "\n",
      "WARNING RuntimeWarning: divide by zero encountered in log\n",
      "\n",
      "\n",
      "WARNING RuntimeWarning: invalid value encountered in multiply\n",
      "\n",
      "\n",
      "WARNING RuntimeWarning: divide by zero encountered in log\n",
      "\n",
      "\n",
      "WARNING RuntimeWarning: invalid value encountered in multiply\n",
      "\n",
      "\n",
      "WARNING RuntimeWarning: divide by zero encountered in log\n",
      "\n",
      "\n",
      "WARNING RuntimeWarning: invalid value encountered in multiply\n",
      "\n",
      "\n",
      "WARNING RuntimeWarning: divide by zero encountered in log\n",
      "\n",
      "\n",
      "WARNING RuntimeWarning: invalid value encountered in multiply\n",
      "\n",
      "\n",
      "WARNING RuntimeWarning: divide by zero encountered in log\n",
      "\n",
      "\n",
      "WARNING RuntimeWarning: invalid value encountered in multiply\n",
      "\n",
      "\n",
      "WARNING RuntimeWarning: divide by zero encountered in log\n",
      "\n",
      "\n",
      "WARNING RuntimeWarning: invalid value encountered in multiply\n",
      "\n"
     ]
    },
    {
     "name": "stdout",
     "output_type": "stream",
     "text": [
      "i =  2/29  j = 15/30"
     ]
    },
    {
     "name": "stderr",
     "output_type": "stream",
     "text": [
      "\n",
      "WARNING RuntimeWarning: divide by zero encountered in log\n",
      "\n",
      "\n",
      "WARNING RuntimeWarning: invalid value encountered in multiply\n",
      "\n",
      "\n",
      "WARNING RuntimeWarning: divide by zero encountered in log\n",
      "\n",
      "\n",
      "WARNING RuntimeWarning: invalid value encountered in multiply\n",
      "\n",
      "\n",
      "WARNING RuntimeWarning: divide by zero encountered in log\n",
      "\n",
      "\n",
      "WARNING RuntimeWarning: invalid value encountered in multiply\n",
      "\n"
     ]
    },
    {
     "name": "stdout",
     "output_type": "stream",
     "text": [
      "i =  2/29  j = 18/30"
     ]
    },
    {
     "name": "stderr",
     "output_type": "stream",
     "text": [
      "\n",
      "WARNING RuntimeWarning: divide by zero encountered in log\n",
      "\n",
      "\n",
      "WARNING RuntimeWarning: invalid value encountered in multiply\n",
      "\n",
      "\n",
      "WARNING RuntimeWarning: divide by zero encountered in log\n",
      "\n",
      "\n",
      "WARNING RuntimeWarning: invalid value encountered in multiply\n",
      "\n",
      "\n",
      "WARNING RuntimeWarning: divide by zero encountered in log\n",
      "\n",
      "\n",
      "WARNING RuntimeWarning: invalid value encountered in multiply\n",
      "\n"
     ]
    },
    {
     "name": "stdout",
     "output_type": "stream",
     "text": [
      "i =  2/29  j = 22/30"
     ]
    },
    {
     "name": "stderr",
     "output_type": "stream",
     "text": [
      "\n",
      "WARNING RuntimeWarning: divide by zero encountered in log\n",
      "\n",
      "\n",
      "WARNING RuntimeWarning: invalid value encountered in multiply\n",
      "\n",
      "\n",
      "WARNING RuntimeWarning: divide by zero encountered in log\n",
      "\n",
      "\n",
      "WARNING RuntimeWarning: invalid value encountered in multiply\n",
      "\n",
      "\n",
      "WARNING RuntimeWarning: divide by zero encountered in log\n",
      "\n",
      "\n",
      "WARNING RuntimeWarning: invalid value encountered in multiply\n",
      "\n"
     ]
    },
    {
     "name": "stdout",
     "output_type": "stream",
     "text": [
      "i =  2/29  j = 25/30"
     ]
    },
    {
     "name": "stderr",
     "output_type": "stream",
     "text": [
      "\n",
      "WARNING RuntimeWarning: divide by zero encountered in log\n",
      "\n",
      "\n",
      "WARNING RuntimeWarning: invalid value encountered in multiply\n",
      "\n",
      "\n",
      "WARNING RuntimeWarning: divide by zero encountered in log\n",
      "\n",
      "\n",
      "WARNING RuntimeWarning: invalid value encountered in multiply\n",
      "\n",
      "\n",
      "WARNING RuntimeWarning: divide by zero encountered in log\n",
      "\n",
      "\n",
      "WARNING RuntimeWarning: invalid value encountered in multiply\n",
      "\n"
     ]
    },
    {
     "name": "stdout",
     "output_type": "stream",
     "text": [
      "i =  2/29  j = 28/30"
     ]
    },
    {
     "name": "stderr",
     "output_type": "stream",
     "text": [
      "\n",
      "WARNING RuntimeWarning: divide by zero encountered in log\n",
      "\n",
      "\n",
      "WARNING RuntimeWarning: invalid value encountered in multiply\n",
      "\n",
      "\n",
      "WARNING RuntimeWarning: divide by zero encountered in log\n",
      "\n",
      "\n",
      "WARNING RuntimeWarning: invalid value encountered in multiply\n",
      "\n",
      "\n",
      "WARNING RuntimeWarning: divide by zero encountered in log\n",
      "\n",
      "\n",
      "WARNING RuntimeWarning: invalid value encountered in multiply\n",
      "\n"
     ]
    },
    {
     "name": "stdout",
     "output_type": "stream",
     "text": [
      "i =  3/29  j =  2/30"
     ]
    },
    {
     "name": "stderr",
     "output_type": "stream",
     "text": [
      "\n",
      "WARNING RuntimeWarning: divide by zero encountered in log\n",
      "\n",
      "\n",
      "WARNING RuntimeWarning: invalid value encountered in multiply\n",
      "\n",
      "\n",
      "WARNING RuntimeWarning: divide by zero encountered in log\n",
      "\n",
      "\n",
      "WARNING RuntimeWarning: invalid value encountered in multiply\n",
      "\n",
      "\n",
      "WARNING RuntimeWarning: divide by zero encountered in log\n",
      "\n",
      "\n",
      "WARNING RuntimeWarning: invalid value encountered in multiply\n",
      "\n",
      "\n",
      "WARNING RuntimeWarning: divide by zero encountered in log\n",
      "\n"
     ]
    },
    {
     "name": "stdout",
     "output_type": "stream",
     "text": [
      "i =  3/29  j =  6/30"
     ]
    },
    {
     "name": "stderr",
     "output_type": "stream",
     "text": [
      "\n",
      "WARNING RuntimeWarning: invalid value encountered in multiply\n",
      "\n",
      "\n",
      "WARNING RuntimeWarning: divide by zero encountered in log\n",
      "\n",
      "\n",
      "WARNING RuntimeWarning: invalid value encountered in multiply\n",
      "\n",
      "\n",
      "WARNING RuntimeWarning: divide by zero encountered in log\n",
      "\n",
      "\n",
      "WARNING RuntimeWarning: invalid value encountered in multiply\n",
      "\n",
      "\n",
      "WARNING RuntimeWarning: divide by zero encountered in log\n",
      "\n",
      "\n",
      "WARNING RuntimeWarning: invalid value encountered in multiply\n",
      "\n"
     ]
    },
    {
     "name": "stdout",
     "output_type": "stream",
     "text": [
      "i =  3/29  j =  9/30"
     ]
    },
    {
     "name": "stderr",
     "output_type": "stream",
     "text": [
      "\n",
      "WARNING RuntimeWarning: divide by zero encountered in log\n",
      "\n",
      "\n",
      "WARNING RuntimeWarning: invalid value encountered in multiply\n",
      "\n",
      "\n",
      "WARNING RuntimeWarning: divide by zero encountered in log\n",
      "\n",
      "\n",
      "WARNING RuntimeWarning: invalid value encountered in multiply\n",
      "\n",
      "\n",
      "WARNING RuntimeWarning: divide by zero encountered in log\n",
      "\n",
      "\n",
      "WARNING RuntimeWarning: invalid value encountered in multiply\n",
      "\n"
     ]
    },
    {
     "name": "stdout",
     "output_type": "stream",
     "text": [
      "i =  3/29  j = 13/30"
     ]
    },
    {
     "name": "stderr",
     "output_type": "stream",
     "text": [
      "\n",
      "WARNING RuntimeWarning: divide by zero encountered in log\n",
      "\n",
      "\n",
      "WARNING RuntimeWarning: invalid value encountered in multiply\n",
      "\n",
      "\n",
      "WARNING RuntimeWarning: divide by zero encountered in log\n",
      "\n",
      "\n",
      "WARNING RuntimeWarning: invalid value encountered in multiply\n",
      "\n",
      "\n",
      "WARNING RuntimeWarning: divide by zero encountered in log\n",
      "\n",
      "\n",
      "WARNING RuntimeWarning: invalid value encountered in multiply\n",
      "\n",
      "\n",
      "WARNING RuntimeWarning: divide by zero encountered in log\n",
      "\n",
      "\n",
      "WARNING RuntimeWarning: invalid value encountered in multiply\n",
      "\n"
     ]
    },
    {
     "name": "stdout",
     "output_type": "stream",
     "text": [
      "i =  3/29  j = 17/30"
     ]
    },
    {
     "name": "stderr",
     "output_type": "stream",
     "text": [
      "\n",
      "WARNING RuntimeWarning: divide by zero encountered in log\n",
      "\n",
      "\n",
      "WARNING RuntimeWarning: invalid value encountered in multiply\n",
      "\n",
      "\n",
      "WARNING RuntimeWarning: divide by zero encountered in log\n",
      "\n",
      "\n",
      "WARNING RuntimeWarning: invalid value encountered in multiply\n",
      "\n",
      "\n",
      "WARNING RuntimeWarning: divide by zero encountered in log\n",
      "\n",
      "\n",
      "WARNING RuntimeWarning: invalid value encountered in multiply\n",
      "\n",
      "\n",
      "WARNING RuntimeWarning: divide by zero encountered in log\n",
      "\n",
      "\n",
      "WARNING RuntimeWarning: invalid value encountered in multiply\n",
      "\n",
      "\n",
      "WARNING RuntimeWarning: divide by zero encountered in log\n",
      "\n",
      "\n",
      "WARNING RuntimeWarning: invalid value encountered in multiply\n",
      "\n",
      "\n",
      "WARNING RuntimeWarning: divide by zero encountered in log\n",
      "\n",
      "\n",
      "WARNING RuntimeWarning: invalid value encountered in multiply\n",
      "\n"
     ]
    },
    {
     "name": "stdout",
     "output_type": "stream",
     "text": [
      "i =  3/29  j = 20/30"
     ]
    },
    {
     "name": "stderr",
     "output_type": "stream",
     "text": [
      "\n",
      "WARNING RuntimeWarning: divide by zero encountered in log\n",
      "\n",
      "\n",
      "WARNING RuntimeWarning: invalid value encountered in multiply\n",
      "\n",
      "\n",
      "WARNING RuntimeWarning: divide by zero encountered in log\n",
      "\n",
      "\n",
      "WARNING RuntimeWarning: invalid value encountered in multiply\n",
      "\n",
      "\n",
      "WARNING RuntimeWarning: divide by zero encountered in log\n",
      "\n",
      "\n",
      "WARNING RuntimeWarning: invalid value encountered in multiply\n",
      "\n"
     ]
    },
    {
     "name": "stdout",
     "output_type": "stream",
     "text": [
      "i =  3/29  j = 23/30"
     ]
    },
    {
     "name": "stderr",
     "output_type": "stream",
     "text": [
      "\n",
      "WARNING RuntimeWarning: divide by zero encountered in log\n",
      "\n",
      "\n",
      "WARNING RuntimeWarning: invalid value encountered in multiply\n",
      "\n",
      "\n",
      "WARNING RuntimeWarning: divide by zero encountered in log\n",
      "\n",
      "\n",
      "WARNING RuntimeWarning: invalid value encountered in multiply\n",
      "\n",
      "\n",
      "WARNING RuntimeWarning: divide by zero encountered in log\n",
      "\n",
      "\n",
      "WARNING RuntimeWarning: invalid value encountered in multiply\n",
      "\n"
     ]
    },
    {
     "name": "stdout",
     "output_type": "stream",
     "text": [
      "i =  3/29  j = 26/30"
     ]
    },
    {
     "name": "stderr",
     "output_type": "stream",
     "text": [
      "\n",
      "WARNING RuntimeWarning: divide by zero encountered in log\n",
      "\n",
      "\n",
      "WARNING RuntimeWarning: invalid value encountered in multiply\n",
      "\n",
      "\n",
      "WARNING RuntimeWarning: divide by zero encountered in log\n",
      "\n",
      "\n",
      "WARNING RuntimeWarning: invalid value encountered in multiply\n",
      "\n",
      "\n",
      "WARNING RuntimeWarning: divide by zero encountered in log\n",
      "\n",
      "\n",
      "WARNING RuntimeWarning: invalid value encountered in multiply\n",
      "\n"
     ]
    },
    {
     "name": "stdout",
     "output_type": "stream",
     "text": [
      "i =  3/29  j = 29/30"
     ]
    },
    {
     "name": "stderr",
     "output_type": "stream",
     "text": [
      "\n",
      "WARNING RuntimeWarning: divide by zero encountered in log\n",
      "\n",
      "\n",
      "WARNING RuntimeWarning: invalid value encountered in multiply\n",
      "\n",
      "\n",
      "WARNING RuntimeWarning: divide by zero encountered in log\n",
      "\n",
      "\n",
      "WARNING RuntimeWarning: invalid value encountered in multiply\n",
      "\n",
      "\n",
      "WARNING RuntimeWarning: divide by zero encountered in log\n",
      "\n",
      "\n",
      "WARNING RuntimeWarning: invalid value encountered in multiply\n",
      "\n"
     ]
    },
    {
     "name": "stdout",
     "output_type": "stream",
     "text": [
      "i =  4/29  j =  2/30"
     ]
    },
    {
     "name": "stderr",
     "output_type": "stream",
     "text": [
      "\n",
      "WARNING RuntimeWarning: divide by zero encountered in log\n",
      "\n",
      "\n",
      "WARNING RuntimeWarning: invalid value encountered in multiply\n",
      "\n",
      "\n",
      "WARNING RuntimeWarning: divide by zero encountered in log\n",
      "\n",
      "\n",
      "WARNING RuntimeWarning: invalid value encountered in multiply\n",
      "\n",
      "\n",
      "WARNING RuntimeWarning: divide by zero encountered in log\n",
      "\n",
      "\n",
      "WARNING RuntimeWarning: invalid value encountered in multiply\n",
      "\n"
     ]
    },
    {
     "name": "stdout",
     "output_type": "stream",
     "text": [
      "i =  4/29  j =  5/30"
     ]
    },
    {
     "name": "stderr",
     "output_type": "stream",
     "text": [
      "\n",
      "WARNING RuntimeWarning: divide by zero encountered in log\n",
      "\n",
      "\n",
      "WARNING RuntimeWarning: invalid value encountered in multiply\n",
      "\n",
      "\n",
      "WARNING RuntimeWarning: divide by zero encountered in log\n",
      "\n",
      "\n",
      "WARNING RuntimeWarning: invalid value encountered in multiply\n",
      "\n",
      "\n",
      "WARNING RuntimeWarning: divide by zero encountered in log\n",
      "\n",
      "\n",
      "WARNING RuntimeWarning: invalid value encountered in multiply\n",
      "\n"
     ]
    },
    {
     "name": "stdout",
     "output_type": "stream",
     "text": [
      "i =  4/29  j =  8/30"
     ]
    },
    {
     "name": "stderr",
     "output_type": "stream",
     "text": [
      "\n",
      "WARNING RuntimeWarning: divide by zero encountered in log\n",
      "\n",
      "\n",
      "WARNING RuntimeWarning: invalid value encountered in multiply\n",
      "\n",
      "\n",
      "WARNING RuntimeWarning: divide by zero encountered in log\n",
      "\n",
      "\n",
      "WARNING RuntimeWarning: invalid value encountered in multiply\n",
      "\n",
      "\n",
      "WARNING RuntimeWarning: divide by zero encountered in log\n",
      "\n",
      "\n",
      "WARNING RuntimeWarning: invalid value encountered in multiply\n",
      "\n"
     ]
    },
    {
     "name": "stdout",
     "output_type": "stream",
     "text": [
      "i =  4/29  j = 11/30"
     ]
    },
    {
     "name": "stderr",
     "output_type": "stream",
     "text": [
      "\n",
      "WARNING RuntimeWarning: divide by zero encountered in log\n",
      "\n",
      "\n",
      "WARNING RuntimeWarning: invalid value encountered in multiply\n",
      "\n",
      "\n",
      "WARNING RuntimeWarning: divide by zero encountered in log\n",
      "\n",
      "\n",
      "WARNING RuntimeWarning: invalid value encountered in multiply\n",
      "\n",
      "\n",
      "WARNING RuntimeWarning: divide by zero encountered in log\n",
      "\n",
      "\n",
      "WARNING RuntimeWarning: invalid value encountered in multiply\n",
      "\n"
     ]
    },
    {
     "name": "stdout",
     "output_type": "stream",
     "text": [
      "i =  4/29  j = 14/30"
     ]
    },
    {
     "name": "stderr",
     "output_type": "stream",
     "text": [
      "\n",
      "WARNING RuntimeWarning: divide by zero encountered in log\n",
      "\n",
      "\n",
      "WARNING RuntimeWarning: invalid value encountered in multiply\n",
      "\n",
      "\n",
      "WARNING RuntimeWarning: divide by zero encountered in log\n",
      "\n",
      "\n",
      "WARNING RuntimeWarning: invalid value encountered in multiply\n",
      "\n",
      "\n",
      "WARNING RuntimeWarning: divide by zero encountered in log\n",
      "\n",
      "\n",
      "WARNING RuntimeWarning: invalid value encountered in multiply\n",
      "\n"
     ]
    },
    {
     "name": "stdout",
     "output_type": "stream",
     "text": [
      "i =  4/29  j = 18/30"
     ]
    },
    {
     "name": "stderr",
     "output_type": "stream",
     "text": [
      "\n",
      "WARNING RuntimeWarning: divide by zero encountered in log\n",
      "\n",
      "\n",
      "WARNING RuntimeWarning: invalid value encountered in multiply\n",
      "\n",
      "\n",
      "WARNING RuntimeWarning: divide by zero encountered in log\n",
      "\n",
      "\n",
      "WARNING RuntimeWarning: invalid value encountered in multiply\n",
      "\n",
      "\n",
      "WARNING RuntimeWarning: divide by zero encountered in log\n",
      "\n",
      "\n",
      "WARNING RuntimeWarning: invalid value encountered in multiply\n",
      "\n"
     ]
    },
    {
     "name": "stdout",
     "output_type": "stream",
     "text": [
      "i =  4/29  j = 21/30"
     ]
    },
    {
     "name": "stderr",
     "output_type": "stream",
     "text": [
      "\n",
      "WARNING RuntimeWarning: divide by zero encountered in log\n",
      "\n",
      "\n",
      "WARNING RuntimeWarning: invalid value encountered in multiply\n",
      "\n",
      "\n",
      "WARNING RuntimeWarning: divide by zero encountered in log\n",
      "\n",
      "\n",
      "WARNING RuntimeWarning: invalid value encountered in multiply\n",
      "\n",
      "\n",
      "WARNING RuntimeWarning: divide by zero encountered in log\n",
      "\n",
      "\n",
      "WARNING RuntimeWarning: invalid value encountered in multiply\n",
      "\n"
     ]
    },
    {
     "name": "stdout",
     "output_type": "stream",
     "text": [
      "i =  4/29  j = 24/30"
     ]
    },
    {
     "name": "stderr",
     "output_type": "stream",
     "text": [
      "\n",
      "WARNING RuntimeWarning: divide by zero encountered in log\n",
      "\n",
      "\n",
      "WARNING RuntimeWarning: invalid value encountered in multiply\n",
      "\n",
      "\n",
      "WARNING RuntimeWarning: divide by zero encountered in log\n",
      "\n",
      "\n",
      "WARNING RuntimeWarning: invalid value encountered in multiply\n",
      "\n",
      "\n",
      "WARNING RuntimeWarning: divide by zero encountered in log\n",
      "\n",
      "\n",
      "WARNING RuntimeWarning: invalid value encountered in multiply\n",
      "\n"
     ]
    },
    {
     "name": "stdout",
     "output_type": "stream",
     "text": [
      "i =  4/29  j = 27/30"
     ]
    },
    {
     "name": "stderr",
     "output_type": "stream",
     "text": [
      "\n",
      "WARNING RuntimeWarning: divide by zero encountered in log\n",
      "\n",
      "\n",
      "WARNING RuntimeWarning: invalid value encountered in multiply\n",
      "\n",
      "\n",
      "WARNING RuntimeWarning: divide by zero encountered in log\n",
      "\n",
      "\n",
      "WARNING RuntimeWarning: invalid value encountered in multiply\n",
      "\n",
      "\n",
      "WARNING RuntimeWarning: divide by zero encountered in log\n",
      "\n",
      "\n",
      "WARNING RuntimeWarning: invalid value encountered in multiply\n",
      "\n"
     ]
    },
    {
     "name": "stdout",
     "output_type": "stream",
     "text": [
      "i =  5/29  j =  0/30"
     ]
    },
    {
     "name": "stderr",
     "output_type": "stream",
     "text": [
      "\n",
      "WARNING RuntimeWarning: divide by zero encountered in log\n",
      "\n",
      "\n",
      "WARNING RuntimeWarning: invalid value encountered in multiply\n",
      "\n",
      "\n",
      "WARNING RuntimeWarning: divide by zero encountered in log\n",
      "\n",
      "\n",
      "WARNING RuntimeWarning: invalid value encountered in multiply\n",
      "\n",
      "\n",
      "WARNING RuntimeWarning: divide by zero encountered in log\n",
      "\n",
      "\n",
      "WARNING RuntimeWarning: invalid value encountered in multiply\n",
      "\n"
     ]
    },
    {
     "name": "stdout",
     "output_type": "stream",
     "text": [
      "i =  5/29  j =  3/30"
     ]
    },
    {
     "name": "stderr",
     "output_type": "stream",
     "text": [
      "\n",
      "WARNING RuntimeWarning: divide by zero encountered in log\n",
      "\n",
      "\n",
      "WARNING RuntimeWarning: invalid value encountered in multiply\n",
      "\n",
      "\n",
      "WARNING RuntimeWarning: divide by zero encountered in log\n",
      "\n",
      "\n",
      "WARNING RuntimeWarning: invalid value encountered in multiply\n",
      "\n",
      "\n",
      "WARNING RuntimeWarning: divide by zero encountered in log\n",
      "\n",
      "\n",
      "WARNING RuntimeWarning: invalid value encountered in multiply\n",
      "\n"
     ]
    },
    {
     "name": "stdout",
     "output_type": "stream",
     "text": [
      "i =  5/29  j =  6/30"
     ]
    },
    {
     "name": "stderr",
     "output_type": "stream",
     "text": [
      "\n",
      "WARNING RuntimeWarning: divide by zero encountered in log\n",
      "\n",
      "\n",
      "WARNING RuntimeWarning: invalid value encountered in multiply\n",
      "\n",
      "\n",
      "WARNING RuntimeWarning: divide by zero encountered in log\n",
      "\n",
      "\n",
      "WARNING RuntimeWarning: invalid value encountered in multiply\n",
      "\n",
      "\n",
      "WARNING RuntimeWarning: divide by zero encountered in log\n",
      "\n",
      "\n",
      "WARNING RuntimeWarning: invalid value encountered in multiply\n",
      "\n"
     ]
    },
    {
     "name": "stdout",
     "output_type": "stream",
     "text": [
      "i =  5/29  j =  9/30"
     ]
    },
    {
     "name": "stderr",
     "output_type": "stream",
     "text": [
      "\n",
      "WARNING RuntimeWarning: divide by zero encountered in log\n",
      "\n",
      "\n",
      "WARNING RuntimeWarning: invalid value encountered in multiply\n",
      "\n",
      "\n",
      "WARNING RuntimeWarning: divide by zero encountered in log\n",
      "\n",
      "\n",
      "WARNING RuntimeWarning: invalid value encountered in multiply\n",
      "\n",
      "\n",
      "WARNING RuntimeWarning: divide by zero encountered in log\n",
      "\n",
      "\n",
      "WARNING RuntimeWarning: invalid value encountered in multiply\n",
      "\n"
     ]
    },
    {
     "name": "stdout",
     "output_type": "stream",
     "text": [
      "i =  5/29  j = 12/30"
     ]
    },
    {
     "name": "stderr",
     "output_type": "stream",
     "text": [
      "\n",
      "WARNING RuntimeWarning: divide by zero encountered in log\n",
      "\n",
      "\n",
      "WARNING RuntimeWarning: invalid value encountered in multiply\n",
      "\n",
      "\n",
      "WARNING RuntimeWarning: divide by zero encountered in log\n",
      "\n",
      "\n",
      "WARNING RuntimeWarning: invalid value encountered in multiply\n",
      "\n",
      "\n",
      "WARNING RuntimeWarning: divide by zero encountered in log\n",
      "\n",
      "\n",
      "WARNING RuntimeWarning: invalid value encountered in multiply\n",
      "\n"
     ]
    },
    {
     "name": "stdout",
     "output_type": "stream",
     "text": [
      "i =  5/29  j = 15/30"
     ]
    },
    {
     "name": "stderr",
     "output_type": "stream",
     "text": [
      "\n",
      "WARNING RuntimeWarning: divide by zero encountered in log\n",
      "\n",
      "\n",
      "WARNING RuntimeWarning: invalid value encountered in multiply\n",
      "\n",
      "\n",
      "WARNING RuntimeWarning: divide by zero encountered in log\n",
      "\n",
      "\n",
      "WARNING RuntimeWarning: invalid value encountered in multiply\n",
      "\n",
      "\n",
      "WARNING RuntimeWarning: divide by zero encountered in log\n",
      "\n",
      "\n",
      "WARNING RuntimeWarning: invalid value encountered in multiply\n",
      "\n"
     ]
    },
    {
     "name": "stdout",
     "output_type": "stream",
     "text": [
      "i =  5/29  j = 18/30"
     ]
    },
    {
     "name": "stderr",
     "output_type": "stream",
     "text": [
      "\n",
      "WARNING RuntimeWarning: divide by zero encountered in log\n",
      "\n",
      "\n",
      "WARNING RuntimeWarning: invalid value encountered in multiply\n",
      "\n",
      "\n",
      "WARNING RuntimeWarning: divide by zero encountered in log\n",
      "\n",
      "\n",
      "WARNING RuntimeWarning: invalid value encountered in multiply\n",
      "\n",
      "\n",
      "WARNING RuntimeWarning: divide by zero encountered in log\n",
      "\n",
      "\n",
      "WARNING RuntimeWarning: invalid value encountered in multiply\n",
      "\n"
     ]
    },
    {
     "name": "stdout",
     "output_type": "stream",
     "text": [
      "i =  5/29  j = 21/30"
     ]
    },
    {
     "name": "stderr",
     "output_type": "stream",
     "text": [
      "\n",
      "WARNING RuntimeWarning: divide by zero encountered in log\n",
      "\n",
      "\n",
      "WARNING RuntimeWarning: invalid value encountered in multiply\n",
      "\n",
      "\n",
      "WARNING RuntimeWarning: divide by zero encountered in log\n",
      "\n",
      "\n",
      "WARNING RuntimeWarning: invalid value encountered in multiply\n",
      "\n",
      "\n",
      "WARNING RuntimeWarning: divide by zero encountered in log\n",
      "\n",
      "\n",
      "WARNING RuntimeWarning: invalid value encountered in multiply\n",
      "\n"
     ]
    },
    {
     "name": "stdout",
     "output_type": "stream",
     "text": [
      "i =  5/29  j = 24/30"
     ]
    },
    {
     "name": "stderr",
     "output_type": "stream",
     "text": [
      "\n",
      "WARNING RuntimeWarning: divide by zero encountered in log\n",
      "\n",
      "\n",
      "WARNING RuntimeWarning: invalid value encountered in multiply\n",
      "\n",
      "\n",
      "WARNING RuntimeWarning: divide by zero encountered in log\n",
      "\n",
      "\n",
      "WARNING RuntimeWarning: invalid value encountered in multiply\n",
      "\n",
      "\n",
      "WARNING RuntimeWarning: divide by zero encountered in log\n",
      "\n",
      "\n",
      "WARNING RuntimeWarning: invalid value encountered in multiply\n",
      "\n"
     ]
    },
    {
     "name": "stdout",
     "output_type": "stream",
     "text": [
      "i =  5/29  j = 27/30"
     ]
    },
    {
     "name": "stderr",
     "output_type": "stream",
     "text": [
      "\n",
      "WARNING RuntimeWarning: divide by zero encountered in log\n",
      "\n",
      "\n",
      "WARNING RuntimeWarning: invalid value encountered in multiply\n",
      "\n",
      "\n",
      "WARNING RuntimeWarning: divide by zero encountered in log\n",
      "\n",
      "\n",
      "WARNING RuntimeWarning: invalid value encountered in multiply\n",
      "\n",
      "\n",
      "WARNING RuntimeWarning: divide by zero encountered in log\n",
      "\n",
      "\n",
      "WARNING RuntimeWarning: invalid value encountered in multiply\n",
      "\n",
      "\n",
      "WARNING RuntimeWarning: divide by zero encountered in log\n",
      "\n",
      "\n",
      "WARNING RuntimeWarning: invalid value encountered in multiply\n",
      "\n"
     ]
    },
    {
     "name": "stdout",
     "output_type": "stream",
     "text": [
      "i =  6/29  j =  1/30"
     ]
    },
    {
     "name": "stderr",
     "output_type": "stream",
     "text": [
      "\n",
      "WARNING RuntimeWarning: divide by zero encountered in log\n",
      "\n",
      "\n",
      "WARNING RuntimeWarning: invalid value encountered in multiply\n",
      "\n",
      "\n",
      "WARNING RuntimeWarning: divide by zero encountered in log\n",
      "\n",
      "\n",
      "WARNING RuntimeWarning: invalid value encountered in multiply\n",
      "\n",
      "\n",
      "WARNING RuntimeWarning: divide by zero encountered in log\n",
      "\n",
      "\n",
      "WARNING RuntimeWarning: invalid value encountered in multiply\n",
      "\n"
     ]
    },
    {
     "name": "stdout",
     "output_type": "stream",
     "text": [
      "i =  6/29  j =  4/30"
     ]
    },
    {
     "name": "stderr",
     "output_type": "stream",
     "text": [
      "\n",
      "WARNING RuntimeWarning: divide by zero encountered in log\n",
      "\n",
      "\n",
      "WARNING RuntimeWarning: invalid value encountered in multiply\n",
      "\n",
      "\n",
      "WARNING RuntimeWarning: divide by zero encountered in log\n",
      "\n",
      "\n",
      "WARNING RuntimeWarning: invalid value encountered in multiply\n",
      "\n",
      "\n",
      "WARNING RuntimeWarning: divide by zero encountered in log\n",
      "\n",
      "\n",
      "WARNING RuntimeWarning: invalid value encountered in multiply\n",
      "\n"
     ]
    },
    {
     "name": "stdout",
     "output_type": "stream",
     "text": [
      "i =  6/29  j =  8/30"
     ]
    },
    {
     "name": "stderr",
     "output_type": "stream",
     "text": [
      "\n",
      "WARNING RuntimeWarning: divide by zero encountered in log\n",
      "\n",
      "\n",
      "WARNING RuntimeWarning: invalid value encountered in multiply\n",
      "\n",
      "\n",
      "WARNING RuntimeWarning: divide by zero encountered in log\n",
      "\n",
      "\n",
      "WARNING RuntimeWarning: invalid value encountered in multiply\n",
      "\n",
      "\n",
      "WARNING RuntimeWarning: divide by zero encountered in log\n",
      "\n",
      "\n",
      "WARNING RuntimeWarning: invalid value encountered in multiply\n",
      "\n"
     ]
    },
    {
     "name": "stdout",
     "output_type": "stream",
     "text": [
      "i =  6/29  j = 11/30"
     ]
    },
    {
     "name": "stderr",
     "output_type": "stream",
     "text": [
      "\n",
      "WARNING RuntimeWarning: divide by zero encountered in log\n",
      "\n",
      "\n",
      "WARNING RuntimeWarning: invalid value encountered in multiply\n",
      "\n",
      "\n",
      "WARNING RuntimeWarning: divide by zero encountered in log\n",
      "\n",
      "\n",
      "WARNING RuntimeWarning: invalid value encountered in multiply\n",
      "\n",
      "\n",
      "WARNING RuntimeWarning: divide by zero encountered in log\n",
      "\n",
      "\n",
      "WARNING RuntimeWarning: invalid value encountered in multiply\n",
      "\n"
     ]
    },
    {
     "name": "stdout",
     "output_type": "stream",
     "text": [
      "i =  6/29  j = 14/30"
     ]
    },
    {
     "name": "stderr",
     "output_type": "stream",
     "text": [
      "\n",
      "WARNING RuntimeWarning: divide by zero encountered in log\n",
      "\n",
      "\n",
      "WARNING RuntimeWarning: invalid value encountered in multiply\n",
      "\n",
      "\n",
      "WARNING RuntimeWarning: divide by zero encountered in log\n",
      "\n",
      "\n",
      "WARNING RuntimeWarning: invalid value encountered in multiply\n",
      "\n",
      "\n",
      "WARNING RuntimeWarning: divide by zero encountered in log\n",
      "\n",
      "\n",
      "WARNING RuntimeWarning: invalid value encountered in multiply\n",
      "\n"
     ]
    },
    {
     "name": "stdout",
     "output_type": "stream",
     "text": [
      "i =  6/29  j = 17/30"
     ]
    },
    {
     "name": "stderr",
     "output_type": "stream",
     "text": [
      "\n",
      "WARNING RuntimeWarning: divide by zero encountered in log\n",
      "\n",
      "\n",
      "WARNING RuntimeWarning: invalid value encountered in multiply\n",
      "\n",
      "\n",
      "WARNING RuntimeWarning: divide by zero encountered in log\n",
      "\n",
      "\n",
      "WARNING RuntimeWarning: invalid value encountered in multiply\n",
      "\n",
      "\n",
      "WARNING RuntimeWarning: divide by zero encountered in log\n",
      "\n",
      "\n",
      "WARNING RuntimeWarning: invalid value encountered in multiply\n",
      "\n"
     ]
    },
    {
     "name": "stdout",
     "output_type": "stream",
     "text": [
      "i =  6/29  j = 20/30"
     ]
    },
    {
     "name": "stderr",
     "output_type": "stream",
     "text": [
      "\n",
      "WARNING RuntimeWarning: divide by zero encountered in log\n",
      "\n",
      "\n",
      "WARNING RuntimeWarning: invalid value encountered in multiply\n",
      "\n",
      "\n",
      "WARNING RuntimeWarning: divide by zero encountered in log\n",
      "\n",
      "\n",
      "WARNING RuntimeWarning: invalid value encountered in multiply\n",
      "\n",
      "\n",
      "WARNING RuntimeWarning: divide by zero encountered in log\n",
      "\n",
      "\n",
      "WARNING RuntimeWarning: invalid value encountered in multiply\n",
      "\n"
     ]
    },
    {
     "name": "stdout",
     "output_type": "stream",
     "text": [
      "i =  6/29  j = 23/30"
     ]
    },
    {
     "name": "stderr",
     "output_type": "stream",
     "text": [
      "\n",
      "WARNING RuntimeWarning: divide by zero encountered in log\n",
      "\n",
      "\n",
      "WARNING RuntimeWarning: invalid value encountered in multiply\n",
      "\n",
      "\n",
      "WARNING RuntimeWarning: divide by zero encountered in log\n",
      "\n",
      "\n",
      "WARNING RuntimeWarning: invalid value encountered in multiply\n",
      "\n",
      "\n",
      "WARNING RuntimeWarning: divide by zero encountered in log\n",
      "\n",
      "\n",
      "WARNING RuntimeWarning: invalid value encountered in multiply\n",
      "\n"
     ]
    },
    {
     "name": "stdout",
     "output_type": "stream",
     "text": [
      "i =  6/29  j = 26/30"
     ]
    },
    {
     "name": "stderr",
     "output_type": "stream",
     "text": [
      "\n",
      "WARNING RuntimeWarning: divide by zero encountered in log\n",
      "\n",
      "\n",
      "WARNING RuntimeWarning: invalid value encountered in multiply\n",
      "\n",
      "\n",
      "WARNING RuntimeWarning: divide by zero encountered in log\n",
      "\n",
      "\n",
      "WARNING RuntimeWarning: invalid value encountered in multiply\n",
      "\n",
      "\n",
      "WARNING RuntimeWarning: divide by zero encountered in log\n",
      "\n",
      "\n",
      "WARNING RuntimeWarning: invalid value encountered in multiply\n",
      "\n"
     ]
    },
    {
     "name": "stdout",
     "output_type": "stream",
     "text": [
      "i =  6/29  j = 29/30"
     ]
    },
    {
     "name": "stderr",
     "output_type": "stream",
     "text": [
      "\n",
      "WARNING RuntimeWarning: divide by zero encountered in log\n",
      "\n",
      "\n",
      "WARNING RuntimeWarning: invalid value encountered in multiply\n",
      "\n",
      "\n",
      "WARNING RuntimeWarning: divide by zero encountered in log\n",
      "\n",
      "\n",
      "WARNING RuntimeWarning: invalid value encountered in multiply\n",
      "\n",
      "\n",
      "WARNING RuntimeWarning: divide by zero encountered in log\n",
      "\n",
      "\n",
      "WARNING RuntimeWarning: invalid value encountered in multiply\n",
      "\n"
     ]
    },
    {
     "name": "stdout",
     "output_type": "stream",
     "text": [
      "i =  7/29  j =  2/30"
     ]
    },
    {
     "name": "stderr",
     "output_type": "stream",
     "text": [
      "\n",
      "WARNING RuntimeWarning: divide by zero encountered in log\n",
      "\n",
      "\n",
      "WARNING RuntimeWarning: invalid value encountered in multiply\n",
      "\n",
      "\n",
      "WARNING RuntimeWarning: divide by zero encountered in log\n",
      "\n",
      "\n",
      "WARNING RuntimeWarning: invalid value encountered in multiply\n",
      "\n",
      "\n",
      "WARNING RuntimeWarning: divide by zero encountered in log\n",
      "\n",
      "\n",
      "WARNING RuntimeWarning: invalid value encountered in multiply\n",
      "\n"
     ]
    },
    {
     "name": "stdout",
     "output_type": "stream",
     "text": [
      "i =  7/29  j =  5/30"
     ]
    },
    {
     "name": "stderr",
     "output_type": "stream",
     "text": [
      "\n",
      "WARNING RuntimeWarning: divide by zero encountered in log\n",
      "\n",
      "\n",
      "WARNING RuntimeWarning: invalid value encountered in multiply\n",
      "\n",
      "\n",
      "WARNING RuntimeWarning: divide by zero encountered in log\n",
      "\n",
      "\n",
      "WARNING RuntimeWarning: invalid value encountered in multiply\n",
      "\n",
      "\n",
      "WARNING RuntimeWarning: divide by zero encountered in log\n",
      "\n",
      "\n",
      "WARNING RuntimeWarning: invalid value encountered in multiply\n",
      "\n"
     ]
    },
    {
     "name": "stdout",
     "output_type": "stream",
     "text": [
      "i =  7/29  j =  8/30"
     ]
    },
    {
     "name": "stderr",
     "output_type": "stream",
     "text": [
      "\n",
      "WARNING RuntimeWarning: divide by zero encountered in log\n",
      "\n",
      "\n",
      "WARNING RuntimeWarning: invalid value encountered in multiply\n",
      "\n",
      "\n",
      "WARNING RuntimeWarning: divide by zero encountered in log\n",
      "\n",
      "\n",
      "WARNING RuntimeWarning: invalid value encountered in multiply\n",
      "\n",
      "\n",
      "WARNING RuntimeWarning: divide by zero encountered in log\n",
      "\n",
      "\n",
      "WARNING RuntimeWarning: invalid value encountered in multiply\n",
      "\n"
     ]
    },
    {
     "name": "stdout",
     "output_type": "stream",
     "text": [
      "i =  7/29  j = 11/30"
     ]
    },
    {
     "name": "stderr",
     "output_type": "stream",
     "text": [
      "\n",
      "WARNING RuntimeWarning: divide by zero encountered in log\n",
      "\n",
      "\n",
      "WARNING RuntimeWarning: invalid value encountered in multiply\n",
      "\n",
      "\n",
      "WARNING RuntimeWarning: divide by zero encountered in log\n",
      "\n",
      "\n",
      "WARNING RuntimeWarning: invalid value encountered in multiply\n",
      "\n",
      "\n",
      "WARNING RuntimeWarning: divide by zero encountered in log\n",
      "\n",
      "\n",
      "WARNING RuntimeWarning: invalid value encountered in multiply\n",
      "\n"
     ]
    },
    {
     "name": "stdout",
     "output_type": "stream",
     "text": [
      "i =  7/29  j = 14/30"
     ]
    },
    {
     "name": "stderr",
     "output_type": "stream",
     "text": [
      "\n",
      "WARNING RuntimeWarning: divide by zero encountered in log\n",
      "\n",
      "\n",
      "WARNING RuntimeWarning: invalid value encountered in multiply\n",
      "\n",
      "\n",
      "WARNING RuntimeWarning: divide by zero encountered in log\n",
      "\n",
      "\n",
      "WARNING RuntimeWarning: invalid value encountered in multiply\n",
      "\n",
      "\n",
      "WARNING RuntimeWarning: divide by zero encountered in log\n",
      "\n",
      "\n",
      "WARNING RuntimeWarning: invalid value encountered in multiply\n",
      "\n"
     ]
    },
    {
     "name": "stdout",
     "output_type": "stream",
     "text": [
      "i =  7/29  j = 17/30"
     ]
    },
    {
     "name": "stderr",
     "output_type": "stream",
     "text": [
      "\n",
      "WARNING RuntimeWarning: divide by zero encountered in log\n",
      "\n",
      "\n",
      "WARNING RuntimeWarning: invalid value encountered in multiply\n",
      "\n",
      "\n",
      "WARNING RuntimeWarning: divide by zero encountered in log\n",
      "\n",
      "\n",
      "WARNING RuntimeWarning: invalid value encountered in multiply\n",
      "\n",
      "\n",
      "WARNING RuntimeWarning: divide by zero encountered in log\n",
      "\n",
      "\n",
      "WARNING RuntimeWarning: invalid value encountered in multiply\n",
      "\n"
     ]
    },
    {
     "name": "stdout",
     "output_type": "stream",
     "text": [
      "i =  7/29  j = 20/30"
     ]
    },
    {
     "name": "stderr",
     "output_type": "stream",
     "text": [
      "\n",
      "WARNING RuntimeWarning: divide by zero encountered in log\n",
      "\n",
      "\n",
      "WARNING RuntimeWarning: invalid value encountered in multiply\n",
      "\n",
      "\n",
      "WARNING RuntimeWarning: divide by zero encountered in log\n",
      "\n",
      "\n",
      "WARNING RuntimeWarning: invalid value encountered in multiply\n",
      "\n",
      "\n",
      "WARNING RuntimeWarning: divide by zero encountered in log\n",
      "\n",
      "\n",
      "WARNING RuntimeWarning: invalid value encountered in multiply\n",
      "\n"
     ]
    },
    {
     "name": "stdout",
     "output_type": "stream",
     "text": [
      "i =  7/29  j = 23/30"
     ]
    },
    {
     "name": "stderr",
     "output_type": "stream",
     "text": [
      "\n",
      "WARNING RuntimeWarning: divide by zero encountered in log\n",
      "\n",
      "\n",
      "WARNING RuntimeWarning: invalid value encountered in multiply\n",
      "\n",
      "\n",
      "WARNING RuntimeWarning: divide by zero encountered in log\n",
      "\n",
      "\n",
      "WARNING RuntimeWarning: invalid value encountered in multiply\n",
      "\n",
      "\n",
      "WARNING RuntimeWarning: divide by zero encountered in log\n",
      "\n",
      "\n",
      "WARNING RuntimeWarning: invalid value encountered in multiply\n",
      "\n"
     ]
    },
    {
     "name": "stdout",
     "output_type": "stream",
     "text": [
      "i =  7/29  j = 26/30"
     ]
    },
    {
     "name": "stderr",
     "output_type": "stream",
     "text": [
      "\n",
      "WARNING RuntimeWarning: divide by zero encountered in log\n",
      "\n",
      "\n",
      "WARNING RuntimeWarning: invalid value encountered in multiply\n",
      "\n",
      "\n",
      "WARNING RuntimeWarning: divide by zero encountered in log\n",
      "\n",
      "\n",
      "WARNING RuntimeWarning: invalid value encountered in multiply\n",
      "\n",
      "\n",
      "WARNING RuntimeWarning: divide by zero encountered in log\n",
      "\n",
      "\n",
      "WARNING RuntimeWarning: invalid value encountered in multiply\n",
      "\n"
     ]
    },
    {
     "name": "stdout",
     "output_type": "stream",
     "text": [
      "i =  7/29  j = 29/30"
     ]
    },
    {
     "name": "stderr",
     "output_type": "stream",
     "text": [
      "\n",
      "WARNING RuntimeWarning: divide by zero encountered in log\n",
      "\n",
      "\n",
      "WARNING RuntimeWarning: invalid value encountered in multiply\n",
      "\n",
      "\n",
      "WARNING RuntimeWarning: divide by zero encountered in log\n",
      "\n",
      "\n",
      "WARNING RuntimeWarning: invalid value encountered in multiply\n",
      "\n",
      "\n",
      "WARNING RuntimeWarning: divide by zero encountered in log\n",
      "\n",
      "\n",
      "WARNING RuntimeWarning: invalid value encountered in multiply\n",
      "\n"
     ]
    },
    {
     "name": "stdout",
     "output_type": "stream",
     "text": [
      "i =  8/29  j =  2/30"
     ]
    },
    {
     "name": "stderr",
     "output_type": "stream",
     "text": [
      "\n",
      "WARNING RuntimeWarning: divide by zero encountered in log\n",
      "\n",
      "\n",
      "WARNING RuntimeWarning: invalid value encountered in multiply\n",
      "\n",
      "\n",
      "WARNING RuntimeWarning: divide by zero encountered in log\n",
      "\n",
      "\n",
      "WARNING RuntimeWarning: invalid value encountered in multiply\n",
      "\n",
      "\n",
      "WARNING RuntimeWarning: divide by zero encountered in log\n",
      "\n",
      "\n",
      "WARNING RuntimeWarning: invalid value encountered in multiply\n",
      "\n"
     ]
    },
    {
     "name": "stdout",
     "output_type": "stream",
     "text": [
      "i =  8/29  j =  5/30"
     ]
    },
    {
     "name": "stderr",
     "output_type": "stream",
     "text": [
      "\n",
      "WARNING RuntimeWarning: divide by zero encountered in log\n",
      "\n",
      "\n",
      "WARNING RuntimeWarning: invalid value encountered in multiply\n",
      "\n",
      "\n",
      "WARNING RuntimeWarning: divide by zero encountered in log\n",
      "\n",
      "\n",
      "WARNING RuntimeWarning: invalid value encountered in multiply\n",
      "\n",
      "\n",
      "WARNING RuntimeWarning: divide by zero encountered in log\n",
      "\n",
      "\n",
      "WARNING RuntimeWarning: invalid value encountered in multiply\n",
      "\n"
     ]
    },
    {
     "name": "stdout",
     "output_type": "stream",
     "text": [
      "i =  8/29  j =  8/30"
     ]
    },
    {
     "name": "stderr",
     "output_type": "stream",
     "text": [
      "\n",
      "WARNING RuntimeWarning: divide by zero encountered in log\n",
      "\n",
      "\n",
      "WARNING RuntimeWarning: invalid value encountered in multiply\n",
      "\n",
      "\n",
      "WARNING RuntimeWarning: divide by zero encountered in log\n",
      "\n",
      "\n",
      "WARNING RuntimeWarning: invalid value encountered in multiply\n",
      "\n",
      "\n",
      "WARNING RuntimeWarning: divide by zero encountered in log\n",
      "\n",
      "\n",
      "WARNING RuntimeWarning: invalid value encountered in multiply\n",
      "\n"
     ]
    },
    {
     "name": "stdout",
     "output_type": "stream",
     "text": [
      "i =  8/29  j = 11/30"
     ]
    },
    {
     "name": "stderr",
     "output_type": "stream",
     "text": [
      "\n",
      "WARNING RuntimeWarning: divide by zero encountered in log\n",
      "\n",
      "\n",
      "WARNING RuntimeWarning: invalid value encountered in multiply\n",
      "\n",
      "\n",
      "WARNING RuntimeWarning: divide by zero encountered in log\n",
      "\n",
      "\n",
      "WARNING RuntimeWarning: invalid value encountered in multiply\n",
      "\n",
      "\n",
      "WARNING RuntimeWarning: divide by zero encountered in log\n",
      "\n",
      "\n",
      "WARNING RuntimeWarning: invalid value encountered in multiply\n",
      "\n"
     ]
    },
    {
     "name": "stdout",
     "output_type": "stream",
     "text": [
      "i =  8/29  j = 14/30"
     ]
    },
    {
     "name": "stderr",
     "output_type": "stream",
     "text": [
      "\n",
      "WARNING RuntimeWarning: divide by zero encountered in log\n",
      "\n",
      "\n",
      "WARNING RuntimeWarning: invalid value encountered in multiply\n",
      "\n",
      "\n",
      "WARNING RuntimeWarning: divide by zero encountered in log\n",
      "\n",
      "\n",
      "WARNING RuntimeWarning: invalid value encountered in multiply\n",
      "\n",
      "\n",
      "WARNING RuntimeWarning: divide by zero encountered in log\n",
      "\n",
      "\n",
      "WARNING RuntimeWarning: invalid value encountered in multiply\n",
      "\n"
     ]
    },
    {
     "name": "stdout",
     "output_type": "stream",
     "text": [
      "i =  8/29  j = 17/30"
     ]
    },
    {
     "name": "stderr",
     "output_type": "stream",
     "text": [
      "\n",
      "WARNING RuntimeWarning: divide by zero encountered in log\n",
      "\n",
      "\n",
      "WARNING RuntimeWarning: invalid value encountered in multiply\n",
      "\n",
      "\n",
      "WARNING RuntimeWarning: divide by zero encountered in log\n",
      "\n",
      "\n",
      "WARNING RuntimeWarning: invalid value encountered in multiply\n",
      "\n",
      "\n",
      "WARNING RuntimeWarning: divide by zero encountered in log\n",
      "\n",
      "\n",
      "WARNING RuntimeWarning: invalid value encountered in multiply\n",
      "\n"
     ]
    },
    {
     "name": "stdout",
     "output_type": "stream",
     "text": [
      "i =  8/29  j = 20/30"
     ]
    },
    {
     "name": "stderr",
     "output_type": "stream",
     "text": [
      "\n",
      "WARNING RuntimeWarning: divide by zero encountered in log\n",
      "\n",
      "\n",
      "WARNING RuntimeWarning: invalid value encountered in multiply\n",
      "\n",
      "\n",
      "WARNING RuntimeWarning: divide by zero encountered in log\n",
      "\n",
      "\n",
      "WARNING RuntimeWarning: invalid value encountered in multiply\n",
      "\n",
      "\n",
      "WARNING RuntimeWarning: divide by zero encountered in log\n",
      "\n",
      "\n",
      "WARNING RuntimeWarning: invalid value encountered in multiply\n",
      "\n"
     ]
    },
    {
     "name": "stdout",
     "output_type": "stream",
     "text": [
      "i =  8/29  j = 23/30"
     ]
    },
    {
     "name": "stderr",
     "output_type": "stream",
     "text": [
      "\n",
      "WARNING RuntimeWarning: divide by zero encountered in log\n",
      "\n",
      "\n",
      "WARNING RuntimeWarning: invalid value encountered in multiply\n",
      "\n",
      "\n",
      "WARNING RuntimeWarning: divide by zero encountered in log\n",
      "\n",
      "\n",
      "WARNING RuntimeWarning: invalid value encountered in multiply\n",
      "\n",
      "\n",
      "WARNING RuntimeWarning: divide by zero encountered in log\n",
      "\n",
      "\n",
      "WARNING RuntimeWarning: invalid value encountered in multiply\n",
      "\n"
     ]
    },
    {
     "name": "stdout",
     "output_type": "stream",
     "text": [
      "i =  8/29  j = 26/30"
     ]
    },
    {
     "name": "stderr",
     "output_type": "stream",
     "text": [
      "\n",
      "WARNING RuntimeWarning: divide by zero encountered in log\n",
      "\n",
      "\n",
      "WARNING RuntimeWarning: invalid value encountered in multiply\n",
      "\n",
      "\n",
      "WARNING RuntimeWarning: divide by zero encountered in log\n",
      "\n",
      "\n",
      "WARNING RuntimeWarning: invalid value encountered in multiply\n",
      "\n",
      "\n",
      "WARNING RuntimeWarning: divide by zero encountered in log\n",
      "\n",
      "\n",
      "WARNING RuntimeWarning: invalid value encountered in multiply\n",
      "\n"
     ]
    },
    {
     "name": "stdout",
     "output_type": "stream",
     "text": [
      "i =  8/29  j = 29/30"
     ]
    },
    {
     "name": "stderr",
     "output_type": "stream",
     "text": [
      "\n",
      "WARNING RuntimeWarning: divide by zero encountered in log\n",
      "\n",
      "\n",
      "WARNING RuntimeWarning: invalid value encountered in multiply\n",
      "\n",
      "\n",
      "WARNING RuntimeWarning: divide by zero encountered in log\n",
      "\n",
      "\n",
      "WARNING RuntimeWarning: invalid value encountered in multiply\n",
      "\n",
      "\n",
      "WARNING RuntimeWarning: divide by zero encountered in log\n",
      "\n",
      "\n",
      "WARNING RuntimeWarning: invalid value encountered in multiply\n",
      "\n"
     ]
    },
    {
     "name": "stdout",
     "output_type": "stream",
     "text": [
      "i =  9/29  j =  2/30"
     ]
    },
    {
     "name": "stderr",
     "output_type": "stream",
     "text": [
      "\n",
      "WARNING RuntimeWarning: divide by zero encountered in log\n",
      "\n",
      "\n",
      "WARNING RuntimeWarning: invalid value encountered in multiply\n",
      "\n",
      "\n",
      "WARNING RuntimeWarning: divide by zero encountered in log\n",
      "\n",
      "\n",
      "WARNING RuntimeWarning: invalid value encountered in multiply\n",
      "\n",
      "\n",
      "WARNING RuntimeWarning: divide by zero encountered in log\n",
      "\n",
      "\n",
      "WARNING RuntimeWarning: invalid value encountered in multiply\n",
      "\n"
     ]
    },
    {
     "name": "stdout",
     "output_type": "stream",
     "text": [
      "i =  9/29  j =  5/30"
     ]
    },
    {
     "name": "stderr",
     "output_type": "stream",
     "text": [
      "\n",
      "WARNING RuntimeWarning: divide by zero encountered in log\n",
      "\n",
      "\n",
      "WARNING RuntimeWarning: invalid value encountered in multiply\n",
      "\n",
      "\n",
      "WARNING RuntimeWarning: divide by zero encountered in log\n",
      "\n",
      "\n",
      "WARNING RuntimeWarning: invalid value encountered in multiply\n",
      "\n",
      "\n",
      "WARNING RuntimeWarning: divide by zero encountered in log\n",
      "\n",
      "\n",
      "WARNING RuntimeWarning: invalid value encountered in multiply\n",
      "\n"
     ]
    },
    {
     "name": "stdout",
     "output_type": "stream",
     "text": [
      "i =  9/29  j =  8/30"
     ]
    },
    {
     "name": "stderr",
     "output_type": "stream",
     "text": [
      "\n",
      "WARNING RuntimeWarning: divide by zero encountered in log\n",
      "\n",
      "\n",
      "WARNING RuntimeWarning: invalid value encountered in multiply\n",
      "\n",
      "\n",
      "WARNING RuntimeWarning: divide by zero encountered in log\n",
      "\n",
      "\n",
      "WARNING RuntimeWarning: invalid value encountered in multiply\n",
      "\n",
      "\n",
      "WARNING RuntimeWarning: divide by zero encountered in log\n",
      "\n",
      "\n",
      "WARNING RuntimeWarning: invalid value encountered in multiply\n",
      "\n"
     ]
    },
    {
     "name": "stdout",
     "output_type": "stream",
     "text": [
      "i =  9/29  j = 11/30"
     ]
    },
    {
     "name": "stderr",
     "output_type": "stream",
     "text": [
      "\n",
      "WARNING RuntimeWarning: divide by zero encountered in log\n",
      "\n",
      "\n",
      "WARNING RuntimeWarning: invalid value encountered in multiply\n",
      "\n",
      "\n",
      "WARNING RuntimeWarning: divide by zero encountered in log\n",
      "\n",
      "\n",
      "WARNING RuntimeWarning: invalid value encountered in multiply\n",
      "\n",
      "\n",
      "WARNING RuntimeWarning: divide by zero encountered in log\n",
      "\n",
      "\n",
      "WARNING RuntimeWarning: invalid value encountered in multiply\n",
      "\n"
     ]
    },
    {
     "name": "stdout",
     "output_type": "stream",
     "text": [
      "i =  9/29  j = 14/30"
     ]
    },
    {
     "name": "stderr",
     "output_type": "stream",
     "text": [
      "\n",
      "WARNING RuntimeWarning: divide by zero encountered in log\n",
      "\n",
      "\n",
      "WARNING RuntimeWarning: invalid value encountered in multiply\n",
      "\n",
      "\n",
      "WARNING RuntimeWarning: divide by zero encountered in log\n",
      "\n",
      "\n",
      "WARNING RuntimeWarning: invalid value encountered in multiply\n",
      "\n",
      "\n",
      "WARNING RuntimeWarning: divide by zero encountered in log\n",
      "\n",
      "\n",
      "WARNING RuntimeWarning: invalid value encountered in multiply\n",
      "\n"
     ]
    },
    {
     "name": "stdout",
     "output_type": "stream",
     "text": [
      "i =  9/29  j = 17/30"
     ]
    },
    {
     "name": "stderr",
     "output_type": "stream",
     "text": [
      "\n",
      "WARNING RuntimeWarning: divide by zero encountered in log\n",
      "\n",
      "\n",
      "WARNING RuntimeWarning: invalid value encountered in multiply\n",
      "\n",
      "\n",
      "WARNING RuntimeWarning: divide by zero encountered in log\n",
      "\n",
      "\n",
      "WARNING RuntimeWarning: invalid value encountered in multiply\n",
      "\n",
      "\n",
      "WARNING RuntimeWarning: divide by zero encountered in log\n",
      "\n",
      "\n",
      "WARNING RuntimeWarning: invalid value encountered in multiply\n",
      "\n"
     ]
    },
    {
     "name": "stdout",
     "output_type": "stream",
     "text": [
      "i =  9/29  j = 20/30"
     ]
    },
    {
     "name": "stderr",
     "output_type": "stream",
     "text": [
      "\n",
      "WARNING RuntimeWarning: divide by zero encountered in log\n",
      "\n",
      "\n",
      "WARNING RuntimeWarning: invalid value encountered in multiply\n",
      "\n",
      "\n",
      "WARNING RuntimeWarning: divide by zero encountered in log\n",
      "\n",
      "\n",
      "WARNING RuntimeWarning: invalid value encountered in multiply\n",
      "\n",
      "\n",
      "WARNING RuntimeWarning: divide by zero encountered in log\n",
      "\n",
      "\n",
      "WARNING RuntimeWarning: invalid value encountered in multiply\n",
      "\n"
     ]
    },
    {
     "name": "stdout",
     "output_type": "stream",
     "text": [
      "i =  9/29  j = 23/30"
     ]
    },
    {
     "name": "stderr",
     "output_type": "stream",
     "text": [
      "\n",
      "WARNING RuntimeWarning: divide by zero encountered in log\n",
      "\n",
      "\n",
      "WARNING RuntimeWarning: invalid value encountered in multiply\n",
      "\n",
      "\n",
      "WARNING RuntimeWarning: divide by zero encountered in log\n",
      "\n",
      "\n",
      "WARNING RuntimeWarning: invalid value encountered in multiply\n",
      "\n",
      "\n",
      "WARNING RuntimeWarning: divide by zero encountered in log\n",
      "\n",
      "\n",
      "WARNING RuntimeWarning: invalid value encountered in multiply\n",
      "\n"
     ]
    },
    {
     "name": "stdout",
     "output_type": "stream",
     "text": [
      "i =  9/29  j = 26/30"
     ]
    },
    {
     "name": "stderr",
     "output_type": "stream",
     "text": [
      "\n",
      "WARNING RuntimeWarning: divide by zero encountered in log\n",
      "\n",
      "\n",
      "WARNING RuntimeWarning: invalid value encountered in multiply\n",
      "\n",
      "\n",
      "WARNING RuntimeWarning: divide by zero encountered in log\n",
      "\n",
      "\n",
      "WARNING RuntimeWarning: invalid value encountered in multiply\n",
      "\n",
      "\n",
      "WARNING RuntimeWarning: divide by zero encountered in log\n",
      "\n",
      "\n",
      "WARNING RuntimeWarning: invalid value encountered in multiply\n",
      "\n"
     ]
    },
    {
     "name": "stdout",
     "output_type": "stream",
     "text": [
      "i =  9/29  j = 29/30"
     ]
    },
    {
     "name": "stderr",
     "output_type": "stream",
     "text": [
      "\n",
      "WARNING RuntimeWarning: divide by zero encountered in log\n",
      "\n",
      "\n",
      "WARNING RuntimeWarning: invalid value encountered in multiply\n",
      "\n",
      "\n",
      "WARNING RuntimeWarning: divide by zero encountered in log\n",
      "\n",
      "\n",
      "WARNING RuntimeWarning: invalid value encountered in multiply\n",
      "\n",
      "\n",
      "WARNING RuntimeWarning: divide by zero encountered in log\n",
      "\n",
      "\n",
      "WARNING RuntimeWarning: invalid value encountered in multiply\n",
      "\n"
     ]
    },
    {
     "name": "stdout",
     "output_type": "stream",
     "text": [
      "i = 10/29  j =  2/30"
     ]
    },
    {
     "name": "stderr",
     "output_type": "stream",
     "text": [
      "\n",
      "WARNING RuntimeWarning: divide by zero encountered in log\n",
      "\n",
      "\n",
      "WARNING RuntimeWarning: invalid value encountered in multiply\n",
      "\n",
      "\n",
      "WARNING RuntimeWarning: divide by zero encountered in log\n",
      "\n",
      "\n",
      "WARNING RuntimeWarning: invalid value encountered in multiply\n",
      "\n",
      "\n",
      "WARNING RuntimeWarning: divide by zero encountered in log\n",
      "\n",
      "\n",
      "WARNING RuntimeWarning: invalid value encountered in multiply\n",
      "\n"
     ]
    },
    {
     "name": "stdout",
     "output_type": "stream",
     "text": [
      "i = 10/29  j =  5/30"
     ]
    },
    {
     "name": "stderr",
     "output_type": "stream",
     "text": [
      "\n",
      "WARNING RuntimeWarning: divide by zero encountered in log\n",
      "\n",
      "\n",
      "WARNING RuntimeWarning: invalid value encountered in multiply\n",
      "\n",
      "\n",
      "WARNING RuntimeWarning: divide by zero encountered in log\n",
      "\n",
      "\n",
      "WARNING RuntimeWarning: invalid value encountered in multiply\n",
      "\n",
      "\n",
      "WARNING RuntimeWarning: divide by zero encountered in log\n",
      "\n",
      "\n",
      "WARNING RuntimeWarning: invalid value encountered in multiply\n",
      "\n"
     ]
    },
    {
     "name": "stdout",
     "output_type": "stream",
     "text": [
      "i = 10/29  j =  8/30"
     ]
    },
    {
     "name": "stderr",
     "output_type": "stream",
     "text": [
      "\n",
      "WARNING RuntimeWarning: divide by zero encountered in log\n",
      "\n",
      "\n",
      "WARNING RuntimeWarning: invalid value encountered in multiply\n",
      "\n",
      "\n",
      "WARNING RuntimeWarning: divide by zero encountered in log\n",
      "\n",
      "\n",
      "WARNING RuntimeWarning: invalid value encountered in multiply\n",
      "\n",
      "\n",
      "WARNING RuntimeWarning: divide by zero encountered in log\n",
      "\n",
      "\n",
      "WARNING RuntimeWarning: invalid value encountered in multiply\n",
      "\n"
     ]
    },
    {
     "name": "stdout",
     "output_type": "stream",
     "text": [
      "i = 10/29  j = 11/30"
     ]
    },
    {
     "name": "stderr",
     "output_type": "stream",
     "text": [
      "\n",
      "WARNING RuntimeWarning: divide by zero encountered in log\n",
      "\n",
      "\n",
      "WARNING RuntimeWarning: invalid value encountered in multiply\n",
      "\n",
      "\n",
      "WARNING RuntimeWarning: divide by zero encountered in log\n",
      "\n",
      "\n",
      "WARNING RuntimeWarning: invalid value encountered in multiply\n",
      "\n",
      "\n",
      "WARNING RuntimeWarning: divide by zero encountered in log\n",
      "\n",
      "\n",
      "WARNING RuntimeWarning: invalid value encountered in multiply\n",
      "\n"
     ]
    },
    {
     "name": "stdout",
     "output_type": "stream",
     "text": [
      "i = 10/29  j = 14/30"
     ]
    },
    {
     "name": "stderr",
     "output_type": "stream",
     "text": [
      "\n",
      "WARNING RuntimeWarning: divide by zero encountered in log\n",
      "\n",
      "\n",
      "WARNING RuntimeWarning: invalid value encountered in multiply\n",
      "\n",
      "\n",
      "WARNING RuntimeWarning: divide by zero encountered in log\n",
      "\n",
      "\n",
      "WARNING RuntimeWarning: invalid value encountered in multiply\n",
      "\n",
      "\n",
      "WARNING RuntimeWarning: divide by zero encountered in log\n",
      "\n",
      "\n",
      "WARNING RuntimeWarning: invalid value encountered in multiply\n",
      "\n"
     ]
    },
    {
     "name": "stdout",
     "output_type": "stream",
     "text": [
      "i = 10/29  j = 17/30"
     ]
    },
    {
     "name": "stderr",
     "output_type": "stream",
     "text": [
      "\n",
      "WARNING RuntimeWarning: divide by zero encountered in log\n",
      "\n",
      "\n",
      "WARNING RuntimeWarning: invalid value encountered in multiply\n",
      "\n",
      "\n",
      "WARNING RuntimeWarning: divide by zero encountered in log\n",
      "\n",
      "\n",
      "WARNING RuntimeWarning: invalid value encountered in multiply\n",
      "\n",
      "\n",
      "WARNING RuntimeWarning: divide by zero encountered in log\n",
      "\n",
      "\n",
      "WARNING RuntimeWarning: invalid value encountered in multiply\n",
      "\n"
     ]
    },
    {
     "name": "stdout",
     "output_type": "stream",
     "text": [
      "i = 10/29  j = 21/30"
     ]
    },
    {
     "name": "stderr",
     "output_type": "stream",
     "text": [
      "\n",
      "WARNING RuntimeWarning: divide by zero encountered in log\n",
      "\n",
      "\n",
      "WARNING RuntimeWarning: invalid value encountered in multiply\n",
      "\n",
      "\n",
      "WARNING RuntimeWarning: divide by zero encountered in log\n",
      "\n",
      "\n",
      "WARNING RuntimeWarning: invalid value encountered in multiply\n",
      "\n",
      "\n",
      "WARNING RuntimeWarning: divide by zero encountered in log\n",
      "\n",
      "\n",
      "WARNING RuntimeWarning: invalid value encountered in multiply\n",
      "\n",
      "\n",
      "WARNING RuntimeWarning: divide by zero encountered in log\n",
      "\n",
      "\n",
      "WARNING RuntimeWarning: invalid value encountered in multiply\n",
      "\n",
      "\n",
      "WARNING RuntimeWarning: divide by zero encountered in log\n",
      "\n",
      "\n",
      "WARNING RuntimeWarning: invalid value encountered in multiply\n",
      "\n",
      "\n",
      "WARNING RuntimeWarning: divide by zero encountered in log\n",
      "\n",
      "\n",
      "WARNING RuntimeWarning: invalid value encountered in multiply\n",
      "\n"
     ]
    },
    {
     "name": "stdout",
     "output_type": "stream",
     "text": [
      "i = 10/29  j = 25/30"
     ]
    },
    {
     "name": "stderr",
     "output_type": "stream",
     "text": [
      "\n",
      "WARNING RuntimeWarning: divide by zero encountered in log\n",
      "\n",
      "\n",
      "WARNING RuntimeWarning: invalid value encountered in multiply\n",
      "\n",
      "\n",
      "WARNING RuntimeWarning: divide by zero encountered in log\n",
      "\n",
      "\n",
      "WARNING RuntimeWarning: invalid value encountered in multiply\n",
      "\n",
      "\n",
      "WARNING RuntimeWarning: divide by zero encountered in log\n",
      "\n",
      "\n",
      "WARNING RuntimeWarning: invalid value encountered in multiply\n",
      "\n",
      "\n",
      "WARNING RuntimeWarning: divide by zero encountered in log\n",
      "\n"
     ]
    },
    {
     "name": "stdout",
     "output_type": "stream",
     "text": [
      "i = 10/29  j = 28/30"
     ]
    },
    {
     "name": "stderr",
     "output_type": "stream",
     "text": [
      "\n",
      "WARNING RuntimeWarning: invalid value encountered in multiply\n",
      "\n",
      "\n",
      "WARNING RuntimeWarning: divide by zero encountered in log\n",
      "\n",
      "\n",
      "WARNING RuntimeWarning: invalid value encountered in multiply\n",
      "\n",
      "\n",
      "WARNING RuntimeWarning: divide by zero encountered in log\n",
      "\n",
      "\n",
      "WARNING RuntimeWarning: invalid value encountered in multiply\n",
      "\n"
     ]
    },
    {
     "name": "stdout",
     "output_type": "stream",
     "text": [
      "i = 11/29  j =  2/30"
     ]
    },
    {
     "name": "stderr",
     "output_type": "stream",
     "text": [
      "\n",
      "WARNING RuntimeWarning: divide by zero encountered in log\n",
      "\n",
      "\n",
      "WARNING RuntimeWarning: invalid value encountered in multiply\n",
      "\n",
      "\n",
      "WARNING RuntimeWarning: divide by zero encountered in log\n",
      "\n",
      "\n",
      "WARNING RuntimeWarning: invalid value encountered in multiply\n",
      "\n",
      "\n",
      "WARNING RuntimeWarning: divide by zero encountered in log\n",
      "\n",
      "\n",
      "WARNING RuntimeWarning: invalid value encountered in multiply\n",
      "\n",
      "\n",
      "WARNING RuntimeWarning: divide by zero encountered in log\n",
      "\n"
     ]
    },
    {
     "name": "stdout",
     "output_type": "stream",
     "text": [
      "i = 11/29  j =  6/30"
     ]
    },
    {
     "name": "stderr",
     "output_type": "stream",
     "text": [
      "\n",
      "WARNING RuntimeWarning: invalid value encountered in multiply\n",
      "\n",
      "\n",
      "WARNING RuntimeWarning: divide by zero encountered in log\n",
      "\n",
      "\n",
      "WARNING RuntimeWarning: invalid value encountered in multiply\n",
      "\n",
      "\n",
      "WARNING RuntimeWarning: divide by zero encountered in log\n",
      "\n",
      "\n",
      "WARNING RuntimeWarning: invalid value encountered in multiply\n",
      "\n",
      "\n",
      "WARNING RuntimeWarning: divide by zero encountered in log\n",
      "\n",
      "\n",
      "WARNING RuntimeWarning: invalid value encountered in multiply\n",
      "\n",
      "\n",
      "WARNING RuntimeWarning: divide by zero encountered in log\n",
      "\n",
      "\n",
      "WARNING RuntimeWarning: invalid value encountered in multiply\n",
      "\n",
      "\n",
      "WARNING RuntimeWarning: divide by zero encountered in log\n",
      "\n",
      "\n",
      "WARNING RuntimeWarning: invalid value encountered in multiply\n",
      "\n",
      "\n",
      "WARNING RuntimeWarning: divide by zero encountered in log\n",
      "\n"
     ]
    },
    {
     "name": "stdout",
     "output_type": "stream",
     "text": [
      "i = 11/29  j = 10/30"
     ]
    },
    {
     "name": "stderr",
     "output_type": "stream",
     "text": [
      "\n",
      "WARNING RuntimeWarning: invalid value encountered in multiply\n",
      "\n",
      "\n",
      "WARNING RuntimeWarning: divide by zero encountered in log\n",
      "\n",
      "\n",
      "WARNING RuntimeWarning: invalid value encountered in multiply\n",
      "\n",
      "\n",
      "WARNING RuntimeWarning: divide by zero encountered in log\n",
      "\n",
      "\n",
      "WARNING RuntimeWarning: invalid value encountered in multiply\n",
      "\n"
     ]
    },
    {
     "name": "stdout",
     "output_type": "stream",
     "text": [
      "i = 11/29  j = 14/30"
     ]
    },
    {
     "name": "stderr",
     "output_type": "stream",
     "text": [
      "\n",
      "WARNING RuntimeWarning: divide by zero encountered in log\n",
      "\n",
      "\n",
      "WARNING RuntimeWarning: invalid value encountered in multiply\n",
      "\n",
      "\n",
      "WARNING RuntimeWarning: divide by zero encountered in log\n",
      "\n",
      "\n",
      "WARNING RuntimeWarning: invalid value encountered in multiply\n",
      "\n",
      "\n",
      "WARNING RuntimeWarning: divide by zero encountered in log\n",
      "\n",
      "\n",
      "WARNING RuntimeWarning: invalid value encountered in multiply\n",
      "\n"
     ]
    },
    {
     "name": "stdout",
     "output_type": "stream",
     "text": [
      "i = 11/29  j = 18/30"
     ]
    },
    {
     "name": "stderr",
     "output_type": "stream",
     "text": [
      "\n",
      "WARNING RuntimeWarning: divide by zero encountered in log\n",
      "\n",
      "\n",
      "WARNING RuntimeWarning: invalid value encountered in multiply\n",
      "\n",
      "\n",
      "WARNING RuntimeWarning: divide by zero encountered in log\n",
      "\n",
      "\n",
      "WARNING RuntimeWarning: invalid value encountered in multiply\n",
      "\n",
      "\n",
      "WARNING RuntimeWarning: divide by zero encountered in log\n",
      "\n",
      "\n",
      "WARNING RuntimeWarning: invalid value encountered in multiply\n",
      "\n",
      "\n",
      "WARNING RuntimeWarning: divide by zero encountered in log\n",
      "\n",
      "\n",
      "WARNING RuntimeWarning: invalid value encountered in multiply\n",
      "\n",
      "\n",
      "WARNING RuntimeWarning: divide by zero encountered in log\n",
      "\n",
      "\n",
      "WARNING RuntimeWarning: invalid value encountered in multiply\n",
      "\n",
      "\n",
      "WARNING RuntimeWarning: divide by zero encountered in log\n",
      "\n",
      "\n",
      "WARNING RuntimeWarning: invalid value encountered in multiply\n",
      "\n"
     ]
    },
    {
     "name": "stdout",
     "output_type": "stream",
     "text": [
      "i = 11/29  j = 22/30"
     ]
    },
    {
     "name": "stderr",
     "output_type": "stream",
     "text": [
      "\n",
      "WARNING RuntimeWarning: divide by zero encountered in log\n",
      "\n",
      "\n",
      "WARNING RuntimeWarning: invalid value encountered in multiply\n",
      "\n",
      "\n",
      "WARNING RuntimeWarning: divide by zero encountered in log\n",
      "\n",
      "\n",
      "WARNING RuntimeWarning: invalid value encountered in multiply\n",
      "\n",
      "\n",
      "WARNING RuntimeWarning: divide by zero encountered in log\n",
      "\n",
      "\n",
      "WARNING RuntimeWarning: invalid value encountered in multiply\n",
      "\n"
     ]
    },
    {
     "name": "stdout",
     "output_type": "stream",
     "text": [
      "i = 11/29  j = 26/30"
     ]
    },
    {
     "name": "stderr",
     "output_type": "stream",
     "text": [
      "\n",
      "WARNING RuntimeWarning: divide by zero encountered in log\n",
      "\n",
      "\n",
      "WARNING RuntimeWarning: invalid value encountered in multiply\n",
      "\n",
      "\n",
      "WARNING RuntimeWarning: divide by zero encountered in log\n",
      "\n",
      "\n",
      "WARNING RuntimeWarning: invalid value encountered in multiply\n",
      "\n",
      "\n",
      "WARNING RuntimeWarning: divide by zero encountered in log\n",
      "\n",
      "\n",
      "WARNING RuntimeWarning: invalid value encountered in multiply\n",
      "\n"
     ]
    },
    {
     "name": "stdout",
     "output_type": "stream",
     "text": [
      "i = 11/29  j = 29/30"
     ]
    },
    {
     "name": "stderr",
     "output_type": "stream",
     "text": [
      "\n",
      "WARNING RuntimeWarning: divide by zero encountered in log\n",
      "\n",
      "\n",
      "WARNING RuntimeWarning: invalid value encountered in multiply\n",
      "\n",
      "\n",
      "WARNING RuntimeWarning: divide by zero encountered in log\n",
      "\n",
      "\n",
      "WARNING RuntimeWarning: invalid value encountered in multiply\n",
      "\n",
      "\n",
      "WARNING RuntimeWarning: divide by zero encountered in log\n",
      "\n",
      "\n",
      "WARNING RuntimeWarning: invalid value encountered in multiply\n",
      "\n"
     ]
    },
    {
     "name": "stdout",
     "output_type": "stream",
     "text": [
      "i = 12/29  j =  2/30"
     ]
    },
    {
     "name": "stderr",
     "output_type": "stream",
     "text": [
      "\n",
      "WARNING RuntimeWarning: divide by zero encountered in log\n",
      "\n",
      "\n",
      "WARNING RuntimeWarning: invalid value encountered in multiply\n",
      "\n",
      "\n",
      "WARNING RuntimeWarning: divide by zero encountered in log\n",
      "\n",
      "\n",
      "WARNING RuntimeWarning: invalid value encountered in multiply\n",
      "\n",
      "\n",
      "WARNING RuntimeWarning: divide by zero encountered in log\n",
      "\n",
      "\n",
      "WARNING RuntimeWarning: invalid value encountered in multiply\n",
      "\n"
     ]
    },
    {
     "name": "stdout",
     "output_type": "stream",
     "text": [
      "i = 12/29  j =  6/30"
     ]
    },
    {
     "name": "stderr",
     "output_type": "stream",
     "text": [
      "\n",
      "WARNING RuntimeWarning: divide by zero encountered in log\n",
      "\n",
      "\n",
      "WARNING RuntimeWarning: invalid value encountered in multiply\n",
      "\n",
      "\n",
      "WARNING RuntimeWarning: divide by zero encountered in log\n",
      "\n",
      "\n",
      "WARNING RuntimeWarning: invalid value encountered in multiply\n",
      "\n",
      "\n",
      "WARNING RuntimeWarning: divide by zero encountered in log\n",
      "\n",
      "\n",
      "WARNING RuntimeWarning: invalid value encountered in multiply\n",
      "\n",
      "\n",
      "WARNING RuntimeWarning: divide by zero encountered in log\n",
      "\n",
      "\n",
      "WARNING RuntimeWarning: invalid value encountered in multiply\n",
      "\n",
      "\n",
      "WARNING RuntimeWarning: divide by zero encountered in log\n",
      "\n",
      "\n",
      "WARNING RuntimeWarning: invalid value encountered in multiply\n",
      "\n",
      "\n",
      "WARNING RuntimeWarning: divide by zero encountered in log\n",
      "\n",
      "\n",
      "WARNING RuntimeWarning: invalid value encountered in multiply\n",
      "\n"
     ]
    },
    {
     "name": "stdout",
     "output_type": "stream",
     "text": [
      "i = 12/29  j = 10/30"
     ]
    },
    {
     "name": "stderr",
     "output_type": "stream",
     "text": [
      "\n",
      "WARNING RuntimeWarning: divide by zero encountered in log\n",
      "\n",
      "\n",
      "WARNING RuntimeWarning: invalid value encountered in multiply\n",
      "\n",
      "\n",
      "WARNING RuntimeWarning: divide by zero encountered in log\n",
      "\n",
      "\n",
      "WARNING RuntimeWarning: invalid value encountered in multiply\n",
      "\n",
      "\n",
      "WARNING RuntimeWarning: divide by zero encountered in log\n",
      "\n",
      "\n",
      "WARNING RuntimeWarning: invalid value encountered in multiply\n",
      "\n",
      "\n",
      "WARNING RuntimeWarning: divide by zero encountered in log\n",
      "\n",
      "\n",
      "WARNING RuntimeWarning: invalid value encountered in multiply\n",
      "\n"
     ]
    },
    {
     "name": "stdout",
     "output_type": "stream",
     "text": [
      "i = 12/29  j = 14/30"
     ]
    },
    {
     "name": "stderr",
     "output_type": "stream",
     "text": [
      "\n",
      "WARNING RuntimeWarning: divide by zero encountered in log\n",
      "\n",
      "\n",
      "WARNING RuntimeWarning: invalid value encountered in multiply\n",
      "\n",
      "\n",
      "WARNING RuntimeWarning: divide by zero encountered in log\n",
      "\n",
      "\n",
      "WARNING RuntimeWarning: invalid value encountered in multiply\n",
      "\n",
      "\n",
      "WARNING RuntimeWarning: divide by zero encountered in log\n",
      "\n",
      "\n",
      "WARNING RuntimeWarning: invalid value encountered in multiply\n",
      "\n"
     ]
    },
    {
     "name": "stdout",
     "output_type": "stream",
     "text": [
      "i = 12/29  j = 18/30"
     ]
    },
    {
     "name": "stderr",
     "output_type": "stream",
     "text": [
      "\n",
      "WARNING RuntimeWarning: divide by zero encountered in log\n",
      "\n",
      "\n",
      "WARNING RuntimeWarning: invalid value encountered in multiply\n",
      "\n",
      "\n",
      "WARNING RuntimeWarning: divide by zero encountered in log\n",
      "\n",
      "\n",
      "WARNING RuntimeWarning: invalid value encountered in multiply\n",
      "\n",
      "\n",
      "WARNING RuntimeWarning: divide by zero encountered in log\n",
      "\n",
      "\n",
      "WARNING RuntimeWarning: invalid value encountered in multiply\n",
      "\n"
     ]
    },
    {
     "name": "stdout",
     "output_type": "stream",
     "text": [
      "i = 12/29  j = 22/30"
     ]
    },
    {
     "name": "stderr",
     "output_type": "stream",
     "text": [
      "\n",
      "WARNING RuntimeWarning: divide by zero encountered in log\n",
      "\n",
      "\n",
      "WARNING RuntimeWarning: invalid value encountered in multiply\n",
      "\n",
      "\n",
      "WARNING RuntimeWarning: divide by zero encountered in log\n",
      "\n",
      "\n",
      "WARNING RuntimeWarning: invalid value encountered in multiply\n",
      "\n",
      "\n",
      "WARNING RuntimeWarning: divide by zero encountered in log\n",
      "\n",
      "\n",
      "WARNING RuntimeWarning: invalid value encountered in multiply\n",
      "\n",
      "\n",
      "WARNING RuntimeWarning: divide by zero encountered in log\n",
      "\n",
      "\n",
      "WARNING RuntimeWarning: invalid value encountered in multiply\n",
      "\n",
      "\n",
      "WARNING RuntimeWarning: divide by zero encountered in log\n",
      "\n",
      "\n",
      "WARNING RuntimeWarning: invalid value encountered in multiply\n",
      "\n",
      "\n",
      "WARNING RuntimeWarning: divide by zero encountered in log\n",
      "\n",
      "\n",
      "WARNING RuntimeWarning: invalid value encountered in multiply\n",
      "\n"
     ]
    },
    {
     "name": "stdout",
     "output_type": "stream",
     "text": [
      "i = 12/29  j = 25/30"
     ]
    },
    {
     "name": "stderr",
     "output_type": "stream",
     "text": [
      "\n",
      "WARNING RuntimeWarning: divide by zero encountered in log\n",
      "\n",
      "\n",
      "WARNING RuntimeWarning: invalid value encountered in multiply\n",
      "\n",
      "\n",
      "WARNING RuntimeWarning: divide by zero encountered in log\n",
      "\n",
      "\n",
      "WARNING RuntimeWarning: invalid value encountered in multiply\n",
      "\n",
      "\n",
      "WARNING RuntimeWarning: divide by zero encountered in log\n",
      "\n",
      "\n",
      "WARNING RuntimeWarning: invalid value encountered in multiply\n",
      "\n"
     ]
    },
    {
     "name": "stdout",
     "output_type": "stream",
     "text": [
      "i = 12/29  j = 28/30"
     ]
    },
    {
     "name": "stderr",
     "output_type": "stream",
     "text": [
      "\n",
      "WARNING RuntimeWarning: divide by zero encountered in log\n",
      "\n",
      "\n",
      "WARNING RuntimeWarning: invalid value encountered in multiply\n",
      "\n",
      "\n",
      "WARNING RuntimeWarning: divide by zero encountered in log\n",
      "\n",
      "\n",
      "WARNING RuntimeWarning: invalid value encountered in multiply\n",
      "\n",
      "\n",
      "WARNING RuntimeWarning: divide by zero encountered in log\n",
      "\n",
      "\n",
      "WARNING RuntimeWarning: invalid value encountered in multiply\n",
      "\n"
     ]
    },
    {
     "name": "stdout",
     "output_type": "stream",
     "text": [
      "i = 13/29  j =  1/30"
     ]
    },
    {
     "name": "stderr",
     "output_type": "stream",
     "text": [
      "\n",
      "WARNING RuntimeWarning: divide by zero encountered in log\n",
      "\n",
      "\n",
      "WARNING RuntimeWarning: invalid value encountered in multiply\n",
      "\n",
      "\n",
      "WARNING RuntimeWarning: divide by zero encountered in log\n",
      "\n",
      "\n",
      "WARNING RuntimeWarning: invalid value encountered in multiply\n",
      "\n",
      "\n",
      "WARNING RuntimeWarning: divide by zero encountered in log\n",
      "\n",
      "\n",
      "WARNING RuntimeWarning: invalid value encountered in multiply\n",
      "\n"
     ]
    },
    {
     "name": "stdout",
     "output_type": "stream",
     "text": [
      "i = 13/29  j =  4/30"
     ]
    },
    {
     "name": "stderr",
     "output_type": "stream",
     "text": [
      "\n",
      "WARNING RuntimeWarning: divide by zero encountered in log\n",
      "\n",
      "\n",
      "WARNING RuntimeWarning: invalid value encountered in multiply\n",
      "\n",
      "\n",
      "WARNING RuntimeWarning: divide by zero encountered in log\n",
      "\n",
      "\n",
      "WARNING RuntimeWarning: invalid value encountered in multiply\n",
      "\n",
      "\n",
      "WARNING RuntimeWarning: divide by zero encountered in log\n",
      "\n",
      "\n",
      "WARNING RuntimeWarning: invalid value encountered in multiply\n",
      "\n"
     ]
    },
    {
     "name": "stdout",
     "output_type": "stream",
     "text": [
      "i = 13/29  j =  7/30"
     ]
    },
    {
     "name": "stderr",
     "output_type": "stream",
     "text": [
      "\n",
      "WARNING RuntimeWarning: divide by zero encountered in log\n",
      "\n",
      "\n",
      "WARNING RuntimeWarning: invalid value encountered in multiply\n",
      "\n",
      "\n",
      "WARNING RuntimeWarning: divide by zero encountered in log\n",
      "\n",
      "\n",
      "WARNING RuntimeWarning: invalid value encountered in multiply\n",
      "\n",
      "\n",
      "WARNING RuntimeWarning: divide by zero encountered in log\n",
      "\n",
      "\n",
      "WARNING RuntimeWarning: invalid value encountered in multiply\n",
      "\n"
     ]
    },
    {
     "name": "stdout",
     "output_type": "stream",
     "text": [
      "i = 13/29  j = 10/30"
     ]
    },
    {
     "name": "stderr",
     "output_type": "stream",
     "text": [
      "\n",
      "WARNING RuntimeWarning: divide by zero encountered in log\n",
      "\n",
      "\n",
      "WARNING RuntimeWarning: invalid value encountered in multiply\n",
      "\n",
      "\n",
      "WARNING RuntimeWarning: divide by zero encountered in log\n",
      "\n",
      "\n",
      "WARNING RuntimeWarning: invalid value encountered in multiply\n",
      "\n",
      "\n",
      "WARNING RuntimeWarning: divide by zero encountered in log\n",
      "\n",
      "\n",
      "WARNING RuntimeWarning: invalid value encountered in multiply\n",
      "\n"
     ]
    },
    {
     "name": "stdout",
     "output_type": "stream",
     "text": [
      "i = 13/29  j = 13/30"
     ]
    },
    {
     "name": "stderr",
     "output_type": "stream",
     "text": [
      "\n",
      "WARNING RuntimeWarning: divide by zero encountered in log\n",
      "\n",
      "\n",
      "WARNING RuntimeWarning: invalid value encountered in multiply\n",
      "\n",
      "\n",
      "WARNING RuntimeWarning: divide by zero encountered in log\n",
      "\n",
      "\n",
      "WARNING RuntimeWarning: invalid value encountered in multiply\n",
      "\n",
      "\n",
      "WARNING RuntimeWarning: divide by zero encountered in log\n",
      "\n",
      "\n",
      "WARNING RuntimeWarning: invalid value encountered in multiply\n",
      "\n"
     ]
    },
    {
     "name": "stdout",
     "output_type": "stream",
     "text": [
      "i = 13/29  j = 16/30"
     ]
    },
    {
     "name": "stderr",
     "output_type": "stream",
     "text": [
      "\n",
      "WARNING RuntimeWarning: divide by zero encountered in log\n",
      "\n",
      "\n",
      "WARNING RuntimeWarning: invalid value encountered in multiply\n",
      "\n",
      "\n",
      "WARNING RuntimeWarning: divide by zero encountered in log\n",
      "\n",
      "\n",
      "WARNING RuntimeWarning: invalid value encountered in multiply\n",
      "\n",
      "\n",
      "WARNING RuntimeWarning: divide by zero encountered in log\n",
      "\n",
      "\n",
      "WARNING RuntimeWarning: invalid value encountered in multiply\n",
      "\n"
     ]
    },
    {
     "name": "stdout",
     "output_type": "stream",
     "text": [
      "i = 13/29  j = 19/30"
     ]
    },
    {
     "name": "stderr",
     "output_type": "stream",
     "text": [
      "\n",
      "WARNING RuntimeWarning: divide by zero encountered in log\n",
      "\n",
      "\n",
      "WARNING RuntimeWarning: invalid value encountered in multiply\n",
      "\n",
      "\n",
      "WARNING RuntimeWarning: divide by zero encountered in log\n",
      "\n",
      "\n",
      "WARNING RuntimeWarning: invalid value encountered in multiply\n",
      "\n",
      "\n",
      "WARNING RuntimeWarning: divide by zero encountered in log\n",
      "\n",
      "\n",
      "WARNING RuntimeWarning: invalid value encountered in multiply\n",
      "\n"
     ]
    },
    {
     "name": "stdout",
     "output_type": "stream",
     "text": [
      "i = 13/29  j = 22/30"
     ]
    },
    {
     "name": "stderr",
     "output_type": "stream",
     "text": [
      "\n",
      "WARNING RuntimeWarning: divide by zero encountered in log\n",
      "\n",
      "\n",
      "WARNING RuntimeWarning: invalid value encountered in multiply\n",
      "\n",
      "\n",
      "WARNING RuntimeWarning: divide by zero encountered in log\n",
      "\n",
      "\n",
      "WARNING RuntimeWarning: invalid value encountered in multiply\n",
      "\n",
      "\n",
      "WARNING RuntimeWarning: divide by zero encountered in log\n",
      "\n",
      "\n",
      "WARNING RuntimeWarning: invalid value encountered in multiply\n",
      "\n"
     ]
    },
    {
     "name": "stdout",
     "output_type": "stream",
     "text": [
      "i = 13/29  j = 25/30"
     ]
    },
    {
     "name": "stderr",
     "output_type": "stream",
     "text": [
      "\n",
      "WARNING RuntimeWarning: divide by zero encountered in log\n",
      "\n",
      "\n",
      "WARNING RuntimeWarning: invalid value encountered in multiply\n",
      "\n",
      "\n",
      "WARNING RuntimeWarning: divide by zero encountered in log\n",
      "\n",
      "\n",
      "WARNING RuntimeWarning: invalid value encountered in multiply\n",
      "\n",
      "\n",
      "WARNING RuntimeWarning: divide by zero encountered in log\n",
      "\n",
      "\n",
      "WARNING RuntimeWarning: invalid value encountered in multiply\n",
      "\n"
     ]
    },
    {
     "name": "stdout",
     "output_type": "stream",
     "text": [
      "i = 13/29  j = 28/30"
     ]
    },
    {
     "name": "stderr",
     "output_type": "stream",
     "text": [
      "\n",
      "WARNING RuntimeWarning: divide by zero encountered in log\n",
      "\n",
      "\n",
      "WARNING RuntimeWarning: invalid value encountered in multiply\n",
      "\n",
      "\n",
      "WARNING RuntimeWarning: divide by zero encountered in log\n",
      "\n",
      "\n",
      "WARNING RuntimeWarning: invalid value encountered in multiply\n",
      "\n",
      "\n",
      "WARNING RuntimeWarning: divide by zero encountered in log\n",
      "\n",
      "\n",
      "WARNING RuntimeWarning: invalid value encountered in multiply\n",
      "\n"
     ]
    },
    {
     "name": "stdout",
     "output_type": "stream",
     "text": [
      "i = 14/29  j =  1/30"
     ]
    },
    {
     "name": "stderr",
     "output_type": "stream",
     "text": [
      "\n",
      "WARNING RuntimeWarning: divide by zero encountered in log\n",
      "\n",
      "\n",
      "WARNING RuntimeWarning: invalid value encountered in multiply\n",
      "\n",
      "\n",
      "WARNING RuntimeWarning: divide by zero encountered in log\n",
      "\n",
      "\n",
      "WARNING RuntimeWarning: invalid value encountered in multiply\n",
      "\n",
      "\n",
      "WARNING RuntimeWarning: divide by zero encountered in log\n",
      "\n",
      "\n",
      "WARNING RuntimeWarning: invalid value encountered in multiply\n",
      "\n"
     ]
    },
    {
     "name": "stdout",
     "output_type": "stream",
     "text": [
      "i = 14/29  j =  4/30"
     ]
    },
    {
     "name": "stderr",
     "output_type": "stream",
     "text": [
      "\n",
      "WARNING RuntimeWarning: divide by zero encountered in log\n",
      "\n",
      "\n",
      "WARNING RuntimeWarning: invalid value encountered in multiply\n",
      "\n",
      "\n",
      "WARNING RuntimeWarning: divide by zero encountered in log\n",
      "\n",
      "\n",
      "WARNING RuntimeWarning: invalid value encountered in multiply\n",
      "\n",
      "\n",
      "WARNING RuntimeWarning: divide by zero encountered in log\n",
      "\n",
      "\n",
      "WARNING RuntimeWarning: invalid value encountered in multiply\n",
      "\n"
     ]
    },
    {
     "name": "stdout",
     "output_type": "stream",
     "text": [
      "i = 14/29  j =  7/30"
     ]
    },
    {
     "name": "stderr",
     "output_type": "stream",
     "text": [
      "\n",
      "WARNING RuntimeWarning: divide by zero encountered in log\n",
      "\n",
      "\n",
      "WARNING RuntimeWarning: invalid value encountered in multiply\n",
      "\n",
      "\n",
      "WARNING RuntimeWarning: divide by zero encountered in log\n",
      "\n",
      "\n",
      "WARNING RuntimeWarning: invalid value encountered in multiply\n",
      "\n",
      "\n",
      "WARNING RuntimeWarning: divide by zero encountered in log\n",
      "\n",
      "\n",
      "WARNING RuntimeWarning: invalid value encountered in multiply\n",
      "\n"
     ]
    },
    {
     "name": "stdout",
     "output_type": "stream",
     "text": [
      "i = 14/29  j = 11/30"
     ]
    },
    {
     "name": "stderr",
     "output_type": "stream",
     "text": [
      "\n",
      "WARNING RuntimeWarning: divide by zero encountered in log\n",
      "\n",
      "\n",
      "WARNING RuntimeWarning: invalid value encountered in multiply\n",
      "\n",
      "\n",
      "WARNING RuntimeWarning: divide by zero encountered in log\n",
      "\n",
      "\n",
      "WARNING RuntimeWarning: invalid value encountered in multiply\n",
      "\n",
      "\n",
      "WARNING RuntimeWarning: divide by zero encountered in log\n",
      "\n",
      "\n",
      "WARNING RuntimeWarning: invalid value encountered in multiply\n",
      "\n"
     ]
    },
    {
     "name": "stdout",
     "output_type": "stream",
     "text": [
      "i = 14/29  j = 14/30"
     ]
    },
    {
     "name": "stderr",
     "output_type": "stream",
     "text": [
      "\n",
      "WARNING RuntimeWarning: divide by zero encountered in log\n",
      "\n",
      "\n",
      "WARNING RuntimeWarning: invalid value encountered in multiply\n",
      "\n",
      "\n",
      "WARNING RuntimeWarning: divide by zero encountered in log\n",
      "\n",
      "\n",
      "WARNING RuntimeWarning: invalid value encountered in multiply\n",
      "\n",
      "\n",
      "WARNING RuntimeWarning: divide by zero encountered in log\n",
      "\n",
      "\n",
      "WARNING RuntimeWarning: invalid value encountered in multiply\n",
      "\n"
     ]
    },
    {
     "name": "stdout",
     "output_type": "stream",
     "text": [
      "i = 14/29  j = 17/30"
     ]
    },
    {
     "name": "stderr",
     "output_type": "stream",
     "text": [
      "\n",
      "WARNING RuntimeWarning: divide by zero encountered in log\n",
      "\n",
      "\n",
      "WARNING RuntimeWarning: invalid value encountered in multiply\n",
      "\n",
      "\n",
      "WARNING RuntimeWarning: divide by zero encountered in log\n",
      "\n",
      "\n",
      "WARNING RuntimeWarning: invalid value encountered in multiply\n",
      "\n",
      "\n",
      "WARNING RuntimeWarning: divide by zero encountered in log\n",
      "\n",
      "\n",
      "WARNING RuntimeWarning: invalid value encountered in multiply\n",
      "\n"
     ]
    },
    {
     "name": "stdout",
     "output_type": "stream",
     "text": [
      "i = 14/29  j = 20/30"
     ]
    },
    {
     "name": "stderr",
     "output_type": "stream",
     "text": [
      "\n",
      "WARNING RuntimeWarning: divide by zero encountered in log\n",
      "\n",
      "\n",
      "WARNING RuntimeWarning: invalid value encountered in multiply\n",
      "\n",
      "\n",
      "WARNING RuntimeWarning: divide by zero encountered in log\n",
      "\n",
      "\n",
      "WARNING RuntimeWarning: invalid value encountered in multiply\n",
      "\n",
      "\n",
      "WARNING RuntimeWarning: divide by zero encountered in log\n",
      "\n",
      "\n",
      "WARNING RuntimeWarning: invalid value encountered in multiply\n",
      "\n"
     ]
    },
    {
     "name": "stdout",
     "output_type": "stream",
     "text": [
      "i = 14/29  j = 23/30"
     ]
    },
    {
     "name": "stderr",
     "output_type": "stream",
     "text": [
      "\n",
      "WARNING RuntimeWarning: divide by zero encountered in log\n",
      "\n",
      "\n",
      "WARNING RuntimeWarning: invalid value encountered in multiply\n",
      "\n",
      "\n",
      "WARNING RuntimeWarning: divide by zero encountered in log\n",
      "\n",
      "\n",
      "WARNING RuntimeWarning: invalid value encountered in multiply\n",
      "\n",
      "\n",
      "WARNING RuntimeWarning: divide by zero encountered in log\n",
      "\n",
      "\n",
      "WARNING RuntimeWarning: invalid value encountered in multiply\n",
      "\n"
     ]
    },
    {
     "name": "stdout",
     "output_type": "stream",
     "text": [
      "i = 14/29  j = 26/30"
     ]
    },
    {
     "name": "stderr",
     "output_type": "stream",
     "text": [
      "\n",
      "WARNING RuntimeWarning: divide by zero encountered in log\n",
      "\n",
      "\n",
      "WARNING RuntimeWarning: invalid value encountered in multiply\n",
      "\n",
      "\n",
      "WARNING RuntimeWarning: divide by zero encountered in log\n",
      "\n",
      "\n",
      "WARNING RuntimeWarning: invalid value encountered in multiply\n",
      "\n",
      "\n",
      "WARNING RuntimeWarning: divide by zero encountered in log\n",
      "\n",
      "\n",
      "WARNING RuntimeWarning: invalid value encountered in multiply\n",
      "\n"
     ]
    },
    {
     "name": "stdout",
     "output_type": "stream",
     "text": [
      "i = 14/29  j = 29/30"
     ]
    },
    {
     "name": "stderr",
     "output_type": "stream",
     "text": [
      "\n",
      "WARNING RuntimeWarning: divide by zero encountered in log\n",
      "\n",
      "\n",
      "WARNING RuntimeWarning: invalid value encountered in multiply\n",
      "\n",
      "\n",
      "WARNING RuntimeWarning: divide by zero encountered in log\n",
      "\n",
      "\n",
      "WARNING RuntimeWarning: invalid value encountered in multiply\n",
      "\n",
      "\n",
      "WARNING RuntimeWarning: divide by zero encountered in log\n",
      "\n",
      "\n",
      "WARNING RuntimeWarning: invalid value encountered in multiply\n",
      "\n"
     ]
    },
    {
     "name": "stdout",
     "output_type": "stream",
     "text": [
      "i = 15/29  j =  2/30"
     ]
    },
    {
     "name": "stderr",
     "output_type": "stream",
     "text": [
      "\n",
      "WARNING RuntimeWarning: divide by zero encountered in log\n",
      "\n",
      "\n",
      "WARNING RuntimeWarning: invalid value encountered in multiply\n",
      "\n",
      "\n",
      "WARNING RuntimeWarning: divide by zero encountered in log\n",
      "\n",
      "\n",
      "WARNING RuntimeWarning: invalid value encountered in multiply\n",
      "\n",
      "\n",
      "WARNING RuntimeWarning: divide by zero encountered in log\n",
      "\n",
      "\n",
      "WARNING RuntimeWarning: invalid value encountered in multiply\n",
      "\n"
     ]
    },
    {
     "name": "stdout",
     "output_type": "stream",
     "text": [
      "i = 15/29  j =  5/30"
     ]
    },
    {
     "name": "stderr",
     "output_type": "stream",
     "text": [
      "\n",
      "WARNING RuntimeWarning: divide by zero encountered in log\n",
      "\n",
      "\n",
      "WARNING RuntimeWarning: invalid value encountered in multiply\n",
      "\n",
      "\n",
      "WARNING RuntimeWarning: divide by zero encountered in log\n",
      "\n",
      "\n",
      "WARNING RuntimeWarning: invalid value encountered in multiply\n",
      "\n",
      "\n",
      "WARNING RuntimeWarning: divide by zero encountered in log\n",
      "\n",
      "\n",
      "WARNING RuntimeWarning: invalid value encountered in multiply\n",
      "\n"
     ]
    },
    {
     "name": "stdout",
     "output_type": "stream",
     "text": [
      "i = 15/29  j =  8/30"
     ]
    },
    {
     "name": "stderr",
     "output_type": "stream",
     "text": [
      "\n",
      "WARNING RuntimeWarning: divide by zero encountered in log\n",
      "\n",
      "\n",
      "WARNING RuntimeWarning: invalid value encountered in multiply\n",
      "\n",
      "\n",
      "WARNING RuntimeWarning: divide by zero encountered in log\n",
      "\n",
      "\n",
      "WARNING RuntimeWarning: invalid value encountered in multiply\n",
      "\n",
      "\n",
      "WARNING RuntimeWarning: divide by zero encountered in log\n",
      "\n",
      "\n",
      "WARNING RuntimeWarning: invalid value encountered in multiply\n",
      "\n"
     ]
    },
    {
     "name": "stdout",
     "output_type": "stream",
     "text": [
      "i = 15/29  j = 11/30"
     ]
    },
    {
     "name": "stderr",
     "output_type": "stream",
     "text": [
      "\n",
      "WARNING RuntimeWarning: divide by zero encountered in log\n",
      "\n",
      "\n",
      "WARNING RuntimeWarning: invalid value encountered in multiply\n",
      "\n",
      "\n",
      "WARNING RuntimeWarning: divide by zero encountered in log\n",
      "\n",
      "\n",
      "WARNING RuntimeWarning: invalid value encountered in multiply\n",
      "\n",
      "\n",
      "WARNING RuntimeWarning: divide by zero encountered in log\n",
      "\n",
      "\n",
      "WARNING RuntimeWarning: invalid value encountered in multiply\n",
      "\n"
     ]
    },
    {
     "name": "stdout",
     "output_type": "stream",
     "text": [
      "i = 15/29  j = 14/30"
     ]
    },
    {
     "name": "stderr",
     "output_type": "stream",
     "text": [
      "\n",
      "WARNING RuntimeWarning: divide by zero encountered in log\n",
      "\n",
      "\n",
      "WARNING RuntimeWarning: invalid value encountered in multiply\n",
      "\n",
      "\n",
      "WARNING RuntimeWarning: divide by zero encountered in log\n",
      "\n",
      "\n",
      "WARNING RuntimeWarning: invalid value encountered in multiply\n",
      "\n",
      "\n",
      "WARNING RuntimeWarning: divide by zero encountered in log\n",
      "\n",
      "\n",
      "WARNING RuntimeWarning: invalid value encountered in multiply\n",
      "\n"
     ]
    },
    {
     "name": "stdout",
     "output_type": "stream",
     "text": [
      "i = 15/29  j = 17/30"
     ]
    },
    {
     "name": "stderr",
     "output_type": "stream",
     "text": [
      "\n",
      "WARNING RuntimeWarning: divide by zero encountered in log\n",
      "\n",
      "\n",
      "WARNING RuntimeWarning: invalid value encountered in multiply\n",
      "\n",
      "\n",
      "WARNING RuntimeWarning: divide by zero encountered in log\n",
      "\n",
      "\n",
      "WARNING RuntimeWarning: invalid value encountered in multiply\n",
      "\n",
      "\n",
      "WARNING RuntimeWarning: divide by zero encountered in log\n",
      "\n",
      "\n",
      "WARNING RuntimeWarning: invalid value encountered in multiply\n",
      "\n"
     ]
    },
    {
     "name": "stdout",
     "output_type": "stream",
     "text": [
      "i = 15/29  j = 20/30"
     ]
    },
    {
     "name": "stderr",
     "output_type": "stream",
     "text": [
      "\n",
      "WARNING RuntimeWarning: divide by zero encountered in log\n",
      "\n",
      "\n",
      "WARNING RuntimeWarning: invalid value encountered in multiply\n",
      "\n",
      "\n",
      "WARNING RuntimeWarning: divide by zero encountered in log\n",
      "\n",
      "\n",
      "WARNING RuntimeWarning: invalid value encountered in multiply\n",
      "\n",
      "\n",
      "WARNING RuntimeWarning: divide by zero encountered in log\n",
      "\n",
      "\n",
      "WARNING RuntimeWarning: invalid value encountered in multiply\n",
      "\n"
     ]
    },
    {
     "name": "stdout",
     "output_type": "stream",
     "text": [
      "i = 15/29  j = 23/30"
     ]
    },
    {
     "name": "stderr",
     "output_type": "stream",
     "text": [
      "\n",
      "WARNING RuntimeWarning: divide by zero encountered in log\n",
      "\n",
      "\n",
      "WARNING RuntimeWarning: invalid value encountered in multiply\n",
      "\n",
      "\n",
      "WARNING RuntimeWarning: divide by zero encountered in log\n",
      "\n",
      "\n",
      "WARNING RuntimeWarning: invalid value encountered in multiply\n",
      "\n",
      "\n",
      "WARNING RuntimeWarning: divide by zero encountered in log\n",
      "\n",
      "\n",
      "WARNING RuntimeWarning: invalid value encountered in multiply\n",
      "\n"
     ]
    },
    {
     "name": "stdout",
     "output_type": "stream",
     "text": [
      "i = 15/29  j = 26/30"
     ]
    },
    {
     "name": "stderr",
     "output_type": "stream",
     "text": [
      "\n",
      "WARNING RuntimeWarning: divide by zero encountered in log\n",
      "\n",
      "\n",
      "WARNING RuntimeWarning: invalid value encountered in multiply\n",
      "\n",
      "\n",
      "WARNING RuntimeWarning: divide by zero encountered in log\n",
      "\n",
      "\n",
      "WARNING RuntimeWarning: invalid value encountered in multiply\n",
      "\n",
      "\n",
      "WARNING RuntimeWarning: divide by zero encountered in log\n",
      "\n",
      "\n",
      "WARNING RuntimeWarning: invalid value encountered in multiply\n",
      "\n"
     ]
    },
    {
     "name": "stdout",
     "output_type": "stream",
     "text": [
      "i = 15/29  j = 29/30"
     ]
    },
    {
     "name": "stderr",
     "output_type": "stream",
     "text": [
      "\n",
      "WARNING RuntimeWarning: divide by zero encountered in log\n",
      "\n",
      "\n",
      "WARNING RuntimeWarning: invalid value encountered in multiply\n",
      "\n",
      "\n",
      "WARNING RuntimeWarning: divide by zero encountered in log\n",
      "\n",
      "\n",
      "WARNING RuntimeWarning: invalid value encountered in multiply\n",
      "\n",
      "\n",
      "WARNING RuntimeWarning: divide by zero encountered in log\n",
      "\n",
      "\n",
      "WARNING RuntimeWarning: invalid value encountered in multiply\n",
      "\n"
     ]
    },
    {
     "name": "stdout",
     "output_type": "stream",
     "text": [
      "i = 16/29  j =  2/30"
     ]
    },
    {
     "name": "stderr",
     "output_type": "stream",
     "text": [
      "\n",
      "WARNING RuntimeWarning: divide by zero encountered in log\n",
      "\n",
      "\n",
      "WARNING RuntimeWarning: invalid value encountered in multiply\n",
      "\n",
      "\n",
      "WARNING RuntimeWarning: divide by zero encountered in log\n",
      "\n",
      "\n",
      "WARNING RuntimeWarning: invalid value encountered in multiply\n",
      "\n",
      "\n",
      "WARNING RuntimeWarning: divide by zero encountered in log\n",
      "\n",
      "\n",
      "WARNING RuntimeWarning: invalid value encountered in multiply\n",
      "\n"
     ]
    },
    {
     "name": "stdout",
     "output_type": "stream",
     "text": [
      "i = 16/29  j =  5/30"
     ]
    },
    {
     "name": "stderr",
     "output_type": "stream",
     "text": [
      "\n",
      "WARNING RuntimeWarning: divide by zero encountered in log\n",
      "\n",
      "\n",
      "WARNING RuntimeWarning: invalid value encountered in multiply\n",
      "\n",
      "\n",
      "WARNING RuntimeWarning: divide by zero encountered in log\n",
      "\n",
      "\n",
      "WARNING RuntimeWarning: invalid value encountered in multiply\n",
      "\n",
      "\n",
      "WARNING RuntimeWarning: divide by zero encountered in log\n",
      "\n",
      "\n",
      "WARNING RuntimeWarning: invalid value encountered in multiply\n",
      "\n"
     ]
    },
    {
     "name": "stdout",
     "output_type": "stream",
     "text": [
      "i = 16/29  j =  8/30"
     ]
    },
    {
     "name": "stderr",
     "output_type": "stream",
     "text": [
      "\n",
      "WARNING RuntimeWarning: divide by zero encountered in log\n",
      "\n",
      "\n",
      "WARNING RuntimeWarning: invalid value encountered in multiply\n",
      "\n",
      "\n",
      "WARNING RuntimeWarning: divide by zero encountered in log\n",
      "\n",
      "\n",
      "WARNING RuntimeWarning: invalid value encountered in multiply\n",
      "\n",
      "\n",
      "WARNING RuntimeWarning: divide by zero encountered in log\n",
      "\n",
      "\n",
      "WARNING RuntimeWarning: invalid value encountered in multiply\n",
      "\n"
     ]
    },
    {
     "name": "stdout",
     "output_type": "stream",
     "text": [
      "i = 16/29  j = 11/30"
     ]
    },
    {
     "name": "stderr",
     "output_type": "stream",
     "text": [
      "\n",
      "WARNING RuntimeWarning: divide by zero encountered in log\n",
      "\n",
      "\n",
      "WARNING RuntimeWarning: invalid value encountered in multiply\n",
      "\n",
      "\n",
      "WARNING RuntimeWarning: divide by zero encountered in log\n",
      "\n",
      "\n",
      "WARNING RuntimeWarning: invalid value encountered in multiply\n",
      "\n",
      "\n",
      "WARNING RuntimeWarning: divide by zero encountered in log\n",
      "\n",
      "\n",
      "WARNING RuntimeWarning: invalid value encountered in multiply\n",
      "\n"
     ]
    },
    {
     "name": "stdout",
     "output_type": "stream",
     "text": [
      "i = 16/29  j = 14/30"
     ]
    },
    {
     "name": "stderr",
     "output_type": "stream",
     "text": [
      "\n",
      "WARNING RuntimeWarning: divide by zero encountered in log\n",
      "\n",
      "\n",
      "WARNING RuntimeWarning: invalid value encountered in multiply\n",
      "\n",
      "\n",
      "WARNING RuntimeWarning: divide by zero encountered in log\n",
      "\n",
      "\n",
      "WARNING RuntimeWarning: invalid value encountered in multiply\n",
      "\n",
      "\n",
      "WARNING RuntimeWarning: divide by zero encountered in log\n",
      "\n",
      "\n",
      "WARNING RuntimeWarning: invalid value encountered in multiply\n",
      "\n"
     ]
    },
    {
     "name": "stdout",
     "output_type": "stream",
     "text": [
      "i = 16/29  j = 17/30"
     ]
    },
    {
     "name": "stderr",
     "output_type": "stream",
     "text": [
      "\n",
      "WARNING RuntimeWarning: divide by zero encountered in log\n",
      "\n",
      "\n",
      "WARNING RuntimeWarning: invalid value encountered in multiply\n",
      "\n",
      "\n",
      "WARNING RuntimeWarning: divide by zero encountered in log\n",
      "\n",
      "\n",
      "WARNING RuntimeWarning: invalid value encountered in multiply\n",
      "\n",
      "\n",
      "WARNING RuntimeWarning: divide by zero encountered in log\n",
      "\n",
      "\n",
      "WARNING RuntimeWarning: invalid value encountered in multiply\n",
      "\n"
     ]
    },
    {
     "name": "stdout",
     "output_type": "stream",
     "text": [
      "i = 16/29  j = 20/30"
     ]
    },
    {
     "name": "stderr",
     "output_type": "stream",
     "text": [
      "\n",
      "WARNING RuntimeWarning: divide by zero encountered in log\n",
      "\n",
      "\n",
      "WARNING RuntimeWarning: invalid value encountered in multiply\n",
      "\n",
      "\n",
      "WARNING RuntimeWarning: divide by zero encountered in log\n",
      "\n",
      "\n",
      "WARNING RuntimeWarning: invalid value encountered in multiply\n",
      "\n",
      "\n",
      "WARNING RuntimeWarning: divide by zero encountered in log\n",
      "\n",
      "\n",
      "WARNING RuntimeWarning: invalid value encountered in multiply\n",
      "\n"
     ]
    },
    {
     "name": "stdout",
     "output_type": "stream",
     "text": [
      "i = 16/29  j = 23/30"
     ]
    },
    {
     "name": "stderr",
     "output_type": "stream",
     "text": [
      "\n",
      "WARNING RuntimeWarning: divide by zero encountered in log\n",
      "\n",
      "\n",
      "WARNING RuntimeWarning: invalid value encountered in multiply\n",
      "\n",
      "\n",
      "WARNING RuntimeWarning: divide by zero encountered in log\n",
      "\n",
      "\n",
      "WARNING RuntimeWarning: invalid value encountered in multiply\n",
      "\n",
      "\n",
      "WARNING RuntimeWarning: divide by zero encountered in log\n",
      "\n",
      "\n",
      "WARNING RuntimeWarning: invalid value encountered in multiply\n",
      "\n"
     ]
    },
    {
     "name": "stdout",
     "output_type": "stream",
     "text": [
      "i = 16/29  j = 26/30"
     ]
    },
    {
     "name": "stderr",
     "output_type": "stream",
     "text": [
      "\n",
      "WARNING RuntimeWarning: divide by zero encountered in log\n",
      "\n",
      "\n",
      "WARNING RuntimeWarning: invalid value encountered in multiply\n",
      "\n",
      "\n",
      "WARNING RuntimeWarning: divide by zero encountered in log\n",
      "\n",
      "\n",
      "WARNING RuntimeWarning: invalid value encountered in multiply\n",
      "\n",
      "\n",
      "WARNING RuntimeWarning: divide by zero encountered in log\n",
      "\n",
      "\n",
      "WARNING RuntimeWarning: invalid value encountered in multiply\n",
      "\n"
     ]
    },
    {
     "name": "stdout",
     "output_type": "stream",
     "text": [
      "i = 16/29  j = 29/30"
     ]
    },
    {
     "name": "stderr",
     "output_type": "stream",
     "text": [
      "\n",
      "WARNING RuntimeWarning: divide by zero encountered in log\n",
      "\n",
      "\n",
      "WARNING RuntimeWarning: invalid value encountered in multiply\n",
      "\n",
      "\n",
      "WARNING RuntimeWarning: divide by zero encountered in log\n",
      "\n",
      "\n",
      "WARNING RuntimeWarning: invalid value encountered in multiply\n",
      "\n",
      "\n",
      "WARNING RuntimeWarning: divide by zero encountered in log\n",
      "\n",
      "\n",
      "WARNING RuntimeWarning: invalid value encountered in multiply\n",
      "\n"
     ]
    },
    {
     "name": "stdout",
     "output_type": "stream",
     "text": [
      "i = 17/29  j =  2/30"
     ]
    },
    {
     "name": "stderr",
     "output_type": "stream",
     "text": [
      "\n",
      "WARNING RuntimeWarning: divide by zero encountered in log\n",
      "\n",
      "\n",
      "WARNING RuntimeWarning: invalid value encountered in multiply\n",
      "\n",
      "\n",
      "WARNING RuntimeWarning: divide by zero encountered in log\n",
      "\n",
      "\n",
      "WARNING RuntimeWarning: invalid value encountered in multiply\n",
      "\n",
      "\n",
      "WARNING RuntimeWarning: divide by zero encountered in log\n",
      "\n",
      "\n",
      "WARNING RuntimeWarning: invalid value encountered in multiply\n",
      "\n"
     ]
    },
    {
     "name": "stdout",
     "output_type": "stream",
     "text": [
      "i = 17/29  j =  5/30"
     ]
    },
    {
     "name": "stderr",
     "output_type": "stream",
     "text": [
      "\n",
      "WARNING RuntimeWarning: divide by zero encountered in log\n",
      "\n",
      "\n",
      "WARNING RuntimeWarning: invalid value encountered in multiply\n",
      "\n",
      "\n",
      "WARNING RuntimeWarning: divide by zero encountered in log\n",
      "\n",
      "\n",
      "WARNING RuntimeWarning: invalid value encountered in multiply\n",
      "\n",
      "\n",
      "WARNING RuntimeWarning: divide by zero encountered in log\n",
      "\n",
      "\n",
      "WARNING RuntimeWarning: invalid value encountered in multiply\n",
      "\n"
     ]
    },
    {
     "name": "stdout",
     "output_type": "stream",
     "text": [
      "i = 17/29  j =  8/30"
     ]
    },
    {
     "name": "stderr",
     "output_type": "stream",
     "text": [
      "\n",
      "WARNING RuntimeWarning: divide by zero encountered in log\n",
      "\n",
      "\n",
      "WARNING RuntimeWarning: invalid value encountered in multiply\n",
      "\n",
      "\n",
      "WARNING RuntimeWarning: divide by zero encountered in log\n",
      "\n",
      "\n",
      "WARNING RuntimeWarning: invalid value encountered in multiply\n",
      "\n",
      "\n",
      "WARNING RuntimeWarning: divide by zero encountered in log\n",
      "\n",
      "\n",
      "WARNING RuntimeWarning: invalid value encountered in multiply\n",
      "\n"
     ]
    },
    {
     "name": "stdout",
     "output_type": "stream",
     "text": [
      "i = 17/29  j = 11/30"
     ]
    },
    {
     "name": "stderr",
     "output_type": "stream",
     "text": [
      "\n",
      "WARNING RuntimeWarning: divide by zero encountered in log\n",
      "\n",
      "\n",
      "WARNING RuntimeWarning: invalid value encountered in multiply\n",
      "\n",
      "\n",
      "WARNING RuntimeWarning: divide by zero encountered in log\n",
      "\n",
      "\n",
      "WARNING RuntimeWarning: invalid value encountered in multiply\n",
      "\n",
      "\n",
      "WARNING RuntimeWarning: divide by zero encountered in log\n",
      "\n",
      "\n",
      "WARNING RuntimeWarning: invalid value encountered in multiply\n",
      "\n"
     ]
    },
    {
     "name": "stdout",
     "output_type": "stream",
     "text": [
      "i = 17/29  j = 14/30"
     ]
    },
    {
     "name": "stderr",
     "output_type": "stream",
     "text": [
      "\n",
      "WARNING RuntimeWarning: divide by zero encountered in log\n",
      "\n",
      "\n",
      "WARNING RuntimeWarning: invalid value encountered in multiply\n",
      "\n",
      "\n",
      "WARNING RuntimeWarning: divide by zero encountered in log\n",
      "\n",
      "\n",
      "WARNING RuntimeWarning: invalid value encountered in multiply\n",
      "\n",
      "\n",
      "WARNING RuntimeWarning: divide by zero encountered in log\n",
      "\n",
      "\n",
      "WARNING RuntimeWarning: invalid value encountered in multiply\n",
      "\n"
     ]
    },
    {
     "name": "stdout",
     "output_type": "stream",
     "text": [
      "i = 17/29  j = 17/30"
     ]
    },
    {
     "name": "stderr",
     "output_type": "stream",
     "text": [
      "\n",
      "WARNING RuntimeWarning: divide by zero encountered in log\n",
      "\n",
      "\n",
      "WARNING RuntimeWarning: invalid value encountered in multiply\n",
      "\n",
      "\n",
      "WARNING RuntimeWarning: divide by zero encountered in log\n",
      "\n",
      "\n",
      "WARNING RuntimeWarning: invalid value encountered in multiply\n",
      "\n",
      "\n",
      "WARNING RuntimeWarning: divide by zero encountered in log\n",
      "\n",
      "\n",
      "WARNING RuntimeWarning: invalid value encountered in multiply\n",
      "\n"
     ]
    },
    {
     "name": "stdout",
     "output_type": "stream",
     "text": [
      "i = 17/29  j = 20/30"
     ]
    },
    {
     "name": "stderr",
     "output_type": "stream",
     "text": [
      "\n",
      "WARNING RuntimeWarning: divide by zero encountered in log\n",
      "\n",
      "\n",
      "WARNING RuntimeWarning: invalid value encountered in multiply\n",
      "\n",
      "\n",
      "WARNING RuntimeWarning: divide by zero encountered in log\n",
      "\n",
      "\n",
      "WARNING RuntimeWarning: invalid value encountered in multiply\n",
      "\n",
      "\n",
      "WARNING RuntimeWarning: divide by zero encountered in log\n",
      "\n",
      "\n",
      "WARNING RuntimeWarning: invalid value encountered in multiply\n",
      "\n"
     ]
    },
    {
     "name": "stdout",
     "output_type": "stream",
     "text": [
      "i = 17/29  j = 23/30"
     ]
    },
    {
     "name": "stderr",
     "output_type": "stream",
     "text": [
      "\n",
      "WARNING RuntimeWarning: divide by zero encountered in log\n",
      "\n",
      "\n",
      "WARNING RuntimeWarning: invalid value encountered in multiply\n",
      "\n",
      "\n",
      "WARNING RuntimeWarning: divide by zero encountered in log\n",
      "\n",
      "\n",
      "WARNING RuntimeWarning: invalid value encountered in multiply\n",
      "\n",
      "\n",
      "WARNING RuntimeWarning: divide by zero encountered in log\n",
      "\n",
      "\n",
      "WARNING RuntimeWarning: invalid value encountered in multiply\n",
      "\n"
     ]
    },
    {
     "name": "stdout",
     "output_type": "stream",
     "text": [
      "i = 17/29  j = 26/30"
     ]
    },
    {
     "name": "stderr",
     "output_type": "stream",
     "text": [
      "\n",
      "WARNING RuntimeWarning: divide by zero encountered in log\n",
      "\n",
      "\n",
      "WARNING RuntimeWarning: invalid value encountered in multiply\n",
      "\n",
      "\n",
      "WARNING RuntimeWarning: divide by zero encountered in log\n",
      "\n",
      "\n",
      "WARNING RuntimeWarning: invalid value encountered in multiply\n",
      "\n",
      "\n",
      "WARNING RuntimeWarning: divide by zero encountered in log\n",
      "\n",
      "\n",
      "WARNING RuntimeWarning: invalid value encountered in multiply\n",
      "\n"
     ]
    },
    {
     "name": "stdout",
     "output_type": "stream",
     "text": [
      "i = 17/29  j = 29/30"
     ]
    },
    {
     "name": "stderr",
     "output_type": "stream",
     "text": [
      "\n",
      "WARNING RuntimeWarning: divide by zero encountered in log\n",
      "\n",
      "\n",
      "WARNING RuntimeWarning: invalid value encountered in multiply\n",
      "\n",
      "\n",
      "WARNING RuntimeWarning: divide by zero encountered in log\n",
      "\n",
      "\n",
      "WARNING RuntimeWarning: invalid value encountered in multiply\n",
      "\n",
      "\n",
      "WARNING RuntimeWarning: divide by zero encountered in log\n",
      "\n",
      "\n",
      "WARNING RuntimeWarning: invalid value encountered in multiply\n",
      "\n"
     ]
    },
    {
     "name": "stdout",
     "output_type": "stream",
     "text": [
      "i = 18/29  j =  2/30"
     ]
    },
    {
     "name": "stderr",
     "output_type": "stream",
     "text": [
      "\n",
      "WARNING RuntimeWarning: divide by zero encountered in log\n",
      "\n",
      "\n",
      "WARNING RuntimeWarning: invalid value encountered in multiply\n",
      "\n",
      "\n",
      "WARNING RuntimeWarning: divide by zero encountered in log\n",
      "\n",
      "\n",
      "WARNING RuntimeWarning: invalid value encountered in multiply\n",
      "\n",
      "\n",
      "WARNING RuntimeWarning: divide by zero encountered in log\n",
      "\n",
      "\n",
      "WARNING RuntimeWarning: invalid value encountered in multiply\n",
      "\n"
     ]
    },
    {
     "name": "stdout",
     "output_type": "stream",
     "text": [
      "i = 18/29  j =  5/30"
     ]
    },
    {
     "name": "stderr",
     "output_type": "stream",
     "text": [
      "\n",
      "WARNING RuntimeWarning: divide by zero encountered in log\n",
      "\n",
      "\n",
      "WARNING RuntimeWarning: invalid value encountered in multiply\n",
      "\n",
      "\n",
      "WARNING RuntimeWarning: divide by zero encountered in log\n",
      "\n",
      "\n",
      "WARNING RuntimeWarning: invalid value encountered in multiply\n",
      "\n",
      "\n",
      "WARNING RuntimeWarning: divide by zero encountered in log\n",
      "\n",
      "\n",
      "WARNING RuntimeWarning: invalid value encountered in multiply\n",
      "\n"
     ]
    },
    {
     "name": "stdout",
     "output_type": "stream",
     "text": [
      "i = 18/29  j =  8/30"
     ]
    },
    {
     "name": "stderr",
     "output_type": "stream",
     "text": [
      "\n",
      "WARNING RuntimeWarning: divide by zero encountered in log\n",
      "\n",
      "\n",
      "WARNING RuntimeWarning: invalid value encountered in multiply\n",
      "\n",
      "\n",
      "WARNING RuntimeWarning: divide by zero encountered in log\n",
      "\n",
      "\n",
      "WARNING RuntimeWarning: invalid value encountered in multiply\n",
      "\n",
      "\n",
      "WARNING RuntimeWarning: divide by zero encountered in log\n",
      "\n",
      "\n",
      "WARNING RuntimeWarning: invalid value encountered in multiply\n",
      "\n"
     ]
    },
    {
     "name": "stdout",
     "output_type": "stream",
     "text": [
      "i = 18/29  j = 11/30"
     ]
    },
    {
     "name": "stderr",
     "output_type": "stream",
     "text": [
      "\n",
      "WARNING RuntimeWarning: divide by zero encountered in log\n",
      "\n",
      "\n",
      "WARNING RuntimeWarning: invalid value encountered in multiply\n",
      "\n",
      "\n",
      "WARNING RuntimeWarning: divide by zero encountered in log\n",
      "\n",
      "\n",
      "WARNING RuntimeWarning: invalid value encountered in multiply\n",
      "\n",
      "\n",
      "WARNING RuntimeWarning: divide by zero encountered in log\n",
      "\n",
      "\n",
      "WARNING RuntimeWarning: invalid value encountered in multiply\n",
      "\n"
     ]
    },
    {
     "name": "stdout",
     "output_type": "stream",
     "text": [
      "i = 18/29  j = 14/30"
     ]
    },
    {
     "name": "stderr",
     "output_type": "stream",
     "text": [
      "\n",
      "WARNING RuntimeWarning: divide by zero encountered in log\n",
      "\n",
      "\n",
      "WARNING RuntimeWarning: invalid value encountered in multiply\n",
      "\n",
      "\n",
      "WARNING RuntimeWarning: divide by zero encountered in log\n",
      "\n",
      "\n",
      "WARNING RuntimeWarning: invalid value encountered in multiply\n",
      "\n",
      "\n",
      "WARNING RuntimeWarning: divide by zero encountered in log\n",
      "\n",
      "\n",
      "WARNING RuntimeWarning: invalid value encountered in multiply\n",
      "\n"
     ]
    },
    {
     "name": "stdout",
     "output_type": "stream",
     "text": [
      "i = 18/29  j = 17/30"
     ]
    },
    {
     "name": "stderr",
     "output_type": "stream",
     "text": [
      "\n",
      "WARNING RuntimeWarning: divide by zero encountered in log\n",
      "\n",
      "\n",
      "WARNING RuntimeWarning: invalid value encountered in multiply\n",
      "\n",
      "\n",
      "WARNING RuntimeWarning: divide by zero encountered in log\n",
      "\n",
      "\n",
      "WARNING RuntimeWarning: invalid value encountered in multiply\n",
      "\n",
      "\n",
      "WARNING RuntimeWarning: divide by zero encountered in log\n",
      "\n",
      "\n",
      "WARNING RuntimeWarning: invalid value encountered in multiply\n",
      "\n"
     ]
    },
    {
     "name": "stdout",
     "output_type": "stream",
     "text": [
      "i = 18/29  j = 20/30"
     ]
    },
    {
     "name": "stderr",
     "output_type": "stream",
     "text": [
      "\n",
      "WARNING RuntimeWarning: divide by zero encountered in log\n",
      "\n",
      "\n",
      "WARNING RuntimeWarning: invalid value encountered in multiply\n",
      "\n",
      "\n",
      "WARNING RuntimeWarning: divide by zero encountered in log\n",
      "\n",
      "\n",
      "WARNING RuntimeWarning: invalid value encountered in multiply\n",
      "\n",
      "\n",
      "WARNING RuntimeWarning: divide by zero encountered in log\n",
      "\n",
      "\n",
      "WARNING RuntimeWarning: invalid value encountered in multiply\n",
      "\n"
     ]
    },
    {
     "name": "stdout",
     "output_type": "stream",
     "text": [
      "i = 18/29  j = 23/30"
     ]
    },
    {
     "name": "stderr",
     "output_type": "stream",
     "text": [
      "\n",
      "WARNING RuntimeWarning: divide by zero encountered in log\n",
      "\n",
      "\n",
      "WARNING RuntimeWarning: invalid value encountered in multiply\n",
      "\n",
      "\n",
      "WARNING RuntimeWarning: divide by zero encountered in log\n",
      "\n",
      "\n",
      "WARNING RuntimeWarning: invalid value encountered in multiply\n",
      "\n",
      "\n",
      "WARNING RuntimeWarning: divide by zero encountered in log\n",
      "\n",
      "\n",
      "WARNING RuntimeWarning: invalid value encountered in multiply\n",
      "\n"
     ]
    },
    {
     "name": "stdout",
     "output_type": "stream",
     "text": [
      "i = 18/29  j = 26/30"
     ]
    },
    {
     "name": "stderr",
     "output_type": "stream",
     "text": [
      "\n",
      "WARNING RuntimeWarning: divide by zero encountered in log\n",
      "\n",
      "\n",
      "WARNING RuntimeWarning: invalid value encountered in multiply\n",
      "\n",
      "\n",
      "WARNING RuntimeWarning: divide by zero encountered in log\n",
      "\n",
      "\n",
      "WARNING RuntimeWarning: invalid value encountered in multiply\n",
      "\n",
      "\n",
      "WARNING RuntimeWarning: divide by zero encountered in log\n",
      "\n",
      "\n",
      "WARNING RuntimeWarning: invalid value encountered in multiply\n",
      "\n"
     ]
    },
    {
     "name": "stdout",
     "output_type": "stream",
     "text": [
      "i = 18/29  j = 29/30"
     ]
    },
    {
     "name": "stderr",
     "output_type": "stream",
     "text": [
      "\n",
      "WARNING RuntimeWarning: divide by zero encountered in log\n",
      "\n",
      "\n",
      "WARNING RuntimeWarning: invalid value encountered in multiply\n",
      "\n",
      "\n",
      "WARNING RuntimeWarning: divide by zero encountered in log\n",
      "\n",
      "\n",
      "WARNING RuntimeWarning: invalid value encountered in multiply\n",
      "\n",
      "\n",
      "WARNING RuntimeWarning: divide by zero encountered in log\n",
      "\n",
      "\n",
      "WARNING RuntimeWarning: invalid value encountered in multiply\n",
      "\n"
     ]
    },
    {
     "name": "stdout",
     "output_type": "stream",
     "text": [
      "i = 19/29  j =  2/30"
     ]
    },
    {
     "name": "stderr",
     "output_type": "stream",
     "text": [
      "\n",
      "WARNING RuntimeWarning: divide by zero encountered in log\n",
      "\n",
      "\n",
      "WARNING RuntimeWarning: invalid value encountered in multiply\n",
      "\n",
      "\n",
      "WARNING RuntimeWarning: divide by zero encountered in log\n",
      "\n",
      "\n",
      "WARNING RuntimeWarning: invalid value encountered in multiply\n",
      "\n",
      "\n",
      "WARNING RuntimeWarning: divide by zero encountered in log\n",
      "\n",
      "\n",
      "WARNING RuntimeWarning: invalid value encountered in multiply\n",
      "\n"
     ]
    },
    {
     "name": "stdout",
     "output_type": "stream",
     "text": [
      "i = 19/29  j =  5/30"
     ]
    },
    {
     "name": "stderr",
     "output_type": "stream",
     "text": [
      "\n",
      "WARNING RuntimeWarning: divide by zero encountered in log\n",
      "\n",
      "\n",
      "WARNING RuntimeWarning: invalid value encountered in multiply\n",
      "\n",
      "\n",
      "WARNING RuntimeWarning: divide by zero encountered in log\n",
      "\n",
      "\n",
      "WARNING RuntimeWarning: invalid value encountered in multiply\n",
      "\n",
      "\n",
      "WARNING RuntimeWarning: divide by zero encountered in log\n",
      "\n",
      "\n",
      "WARNING RuntimeWarning: invalid value encountered in multiply\n",
      "\n"
     ]
    },
    {
     "name": "stdout",
     "output_type": "stream",
     "text": [
      "i = 19/29  j =  8/30"
     ]
    },
    {
     "name": "stderr",
     "output_type": "stream",
     "text": [
      "\n",
      "WARNING RuntimeWarning: divide by zero encountered in log\n",
      "\n",
      "\n",
      "WARNING RuntimeWarning: invalid value encountered in multiply\n",
      "\n",
      "\n",
      "WARNING RuntimeWarning: divide by zero encountered in log\n",
      "\n",
      "\n",
      "WARNING RuntimeWarning: invalid value encountered in multiply\n",
      "\n",
      "\n",
      "WARNING RuntimeWarning: divide by zero encountered in log\n",
      "\n",
      "\n",
      "WARNING RuntimeWarning: invalid value encountered in multiply\n",
      "\n"
     ]
    },
    {
     "name": "stdout",
     "output_type": "stream",
     "text": [
      "i = 19/29  j = 11/30"
     ]
    },
    {
     "name": "stderr",
     "output_type": "stream",
     "text": [
      "\n",
      "WARNING RuntimeWarning: divide by zero encountered in log\n",
      "\n",
      "\n",
      "WARNING RuntimeWarning: invalid value encountered in multiply\n",
      "\n",
      "\n",
      "WARNING RuntimeWarning: divide by zero encountered in log\n",
      "\n",
      "\n",
      "WARNING RuntimeWarning: invalid value encountered in multiply\n",
      "\n",
      "\n",
      "WARNING RuntimeWarning: divide by zero encountered in log\n",
      "\n",
      "\n",
      "WARNING RuntimeWarning: invalid value encountered in multiply\n",
      "\n"
     ]
    },
    {
     "name": "stdout",
     "output_type": "stream",
     "text": [
      "i = 19/29  j = 14/30"
     ]
    },
    {
     "name": "stderr",
     "output_type": "stream",
     "text": [
      "\n",
      "WARNING RuntimeWarning: divide by zero encountered in log\n",
      "\n",
      "\n",
      "WARNING RuntimeWarning: invalid value encountered in multiply\n",
      "\n",
      "\n",
      "WARNING RuntimeWarning: divide by zero encountered in log\n",
      "\n",
      "\n",
      "WARNING RuntimeWarning: invalid value encountered in multiply\n",
      "\n",
      "\n",
      "WARNING RuntimeWarning: divide by zero encountered in log\n",
      "\n",
      "\n",
      "WARNING RuntimeWarning: invalid value encountered in multiply\n",
      "\n"
     ]
    },
    {
     "name": "stdout",
     "output_type": "stream",
     "text": [
      "i = 19/29  j = 17/30"
     ]
    },
    {
     "name": "stderr",
     "output_type": "stream",
     "text": [
      "\n",
      "WARNING RuntimeWarning: divide by zero encountered in log\n",
      "\n",
      "\n",
      "WARNING RuntimeWarning: invalid value encountered in multiply\n",
      "\n",
      "\n",
      "WARNING RuntimeWarning: divide by zero encountered in log\n",
      "\n",
      "\n",
      "WARNING RuntimeWarning: invalid value encountered in multiply\n",
      "\n",
      "\n",
      "WARNING RuntimeWarning: divide by zero encountered in log\n",
      "\n",
      "\n",
      "WARNING RuntimeWarning: invalid value encountered in multiply\n",
      "\n"
     ]
    },
    {
     "name": "stdout",
     "output_type": "stream",
     "text": [
      "i = 19/29  j = 20/30"
     ]
    },
    {
     "name": "stderr",
     "output_type": "stream",
     "text": [
      "\n",
      "WARNING RuntimeWarning: divide by zero encountered in log\n",
      "\n",
      "\n",
      "WARNING RuntimeWarning: invalid value encountered in multiply\n",
      "\n",
      "\n",
      "WARNING RuntimeWarning: divide by zero encountered in log\n",
      "\n",
      "\n",
      "WARNING RuntimeWarning: invalid value encountered in multiply\n",
      "\n",
      "\n",
      "WARNING RuntimeWarning: divide by zero encountered in log\n",
      "\n",
      "\n",
      "WARNING RuntimeWarning: invalid value encountered in multiply\n",
      "\n"
     ]
    },
    {
     "name": "stdout",
     "output_type": "stream",
     "text": [
      "i = 19/29  j = 23/30"
     ]
    },
    {
     "name": "stderr",
     "output_type": "stream",
     "text": [
      "\n",
      "WARNING RuntimeWarning: divide by zero encountered in log\n",
      "\n",
      "\n",
      "WARNING RuntimeWarning: invalid value encountered in multiply\n",
      "\n",
      "\n",
      "WARNING RuntimeWarning: divide by zero encountered in log\n",
      "\n",
      "\n",
      "WARNING RuntimeWarning: invalid value encountered in multiply\n",
      "\n",
      "\n",
      "WARNING RuntimeWarning: divide by zero encountered in log\n",
      "\n",
      "\n",
      "WARNING RuntimeWarning: invalid value encountered in multiply\n",
      "\n"
     ]
    },
    {
     "name": "stdout",
     "output_type": "stream",
     "text": [
      "i = 19/29  j = 26/30"
     ]
    },
    {
     "name": "stderr",
     "output_type": "stream",
     "text": [
      "\n",
      "WARNING RuntimeWarning: divide by zero encountered in log\n",
      "\n",
      "\n",
      "WARNING RuntimeWarning: invalid value encountered in multiply\n",
      "\n",
      "\n",
      "WARNING RuntimeWarning: divide by zero encountered in log\n",
      "\n",
      "\n",
      "WARNING RuntimeWarning: invalid value encountered in multiply\n",
      "\n",
      "\n",
      "WARNING RuntimeWarning: divide by zero encountered in log\n",
      "\n",
      "\n",
      "WARNING RuntimeWarning: invalid value encountered in multiply\n",
      "\n"
     ]
    },
    {
     "name": "stdout",
     "output_type": "stream",
     "text": [
      "i = 19/29  j = 29/30"
     ]
    },
    {
     "name": "stderr",
     "output_type": "stream",
     "text": [
      "\n",
      "WARNING RuntimeWarning: divide by zero encountered in log\n",
      "\n",
      "\n",
      "WARNING RuntimeWarning: invalid value encountered in multiply\n",
      "\n",
      "\n",
      "WARNING RuntimeWarning: divide by zero encountered in log\n",
      "\n",
      "\n",
      "WARNING RuntimeWarning: invalid value encountered in multiply\n",
      "\n",
      "\n",
      "WARNING RuntimeWarning: divide by zero encountered in log\n",
      "\n",
      "\n",
      "WARNING RuntimeWarning: invalid value encountered in multiply\n",
      "\n"
     ]
    },
    {
     "name": "stdout",
     "output_type": "stream",
     "text": [
      "i = 20/29  j =  2/30"
     ]
    },
    {
     "name": "stderr",
     "output_type": "stream",
     "text": [
      "\n",
      "WARNING RuntimeWarning: divide by zero encountered in log\n",
      "\n",
      "\n",
      "WARNING RuntimeWarning: invalid value encountered in multiply\n",
      "\n",
      "\n",
      "WARNING RuntimeWarning: divide by zero encountered in log\n",
      "\n",
      "\n",
      "WARNING RuntimeWarning: invalid value encountered in multiply\n",
      "\n",
      "\n",
      "WARNING RuntimeWarning: divide by zero encountered in log\n",
      "\n",
      "\n",
      "WARNING RuntimeWarning: invalid value encountered in multiply\n",
      "\n"
     ]
    },
    {
     "name": "stdout",
     "output_type": "stream",
     "text": [
      "i = 20/29  j =  5/30"
     ]
    },
    {
     "name": "stderr",
     "output_type": "stream",
     "text": [
      "\n",
      "WARNING RuntimeWarning: divide by zero encountered in log\n",
      "\n",
      "\n",
      "WARNING RuntimeWarning: invalid value encountered in multiply\n",
      "\n",
      "\n",
      "WARNING RuntimeWarning: divide by zero encountered in log\n",
      "\n",
      "\n",
      "WARNING RuntimeWarning: invalid value encountered in multiply\n",
      "\n",
      "\n",
      "WARNING RuntimeWarning: divide by zero encountered in log\n",
      "\n",
      "\n",
      "WARNING RuntimeWarning: invalid value encountered in multiply\n",
      "\n"
     ]
    },
    {
     "name": "stdout",
     "output_type": "stream",
     "text": [
      "i = 20/29  j =  8/30"
     ]
    },
    {
     "name": "stderr",
     "output_type": "stream",
     "text": [
      "\n",
      "WARNING RuntimeWarning: divide by zero encountered in log\n",
      "\n",
      "\n",
      "WARNING RuntimeWarning: invalid value encountered in multiply\n",
      "\n",
      "\n",
      "WARNING RuntimeWarning: divide by zero encountered in log\n",
      "\n",
      "\n",
      "WARNING RuntimeWarning: invalid value encountered in multiply\n",
      "\n",
      "\n",
      "WARNING RuntimeWarning: divide by zero encountered in log\n",
      "\n",
      "\n",
      "WARNING RuntimeWarning: invalid value encountered in multiply\n",
      "\n"
     ]
    },
    {
     "name": "stdout",
     "output_type": "stream",
     "text": [
      "i = 20/29  j = 11/30"
     ]
    },
    {
     "name": "stderr",
     "output_type": "stream",
     "text": [
      "\n",
      "WARNING RuntimeWarning: divide by zero encountered in log\n",
      "\n",
      "\n",
      "WARNING RuntimeWarning: invalid value encountered in multiply\n",
      "\n",
      "\n",
      "WARNING RuntimeWarning: divide by zero encountered in log\n",
      "\n",
      "\n",
      "WARNING RuntimeWarning: invalid value encountered in multiply\n",
      "\n",
      "\n",
      "WARNING RuntimeWarning: divide by zero encountered in log\n",
      "\n",
      "\n",
      "WARNING RuntimeWarning: invalid value encountered in multiply\n",
      "\n"
     ]
    },
    {
     "name": "stdout",
     "output_type": "stream",
     "text": [
      "i = 20/29  j = 14/30"
     ]
    },
    {
     "name": "stderr",
     "output_type": "stream",
     "text": [
      "\n",
      "WARNING RuntimeWarning: divide by zero encountered in log\n",
      "\n",
      "\n",
      "WARNING RuntimeWarning: invalid value encountered in multiply\n",
      "\n",
      "\n",
      "WARNING RuntimeWarning: divide by zero encountered in log\n",
      "\n",
      "\n",
      "WARNING RuntimeWarning: invalid value encountered in multiply\n",
      "\n",
      "\n",
      "WARNING RuntimeWarning: divide by zero encountered in log\n",
      "\n",
      "\n",
      "WARNING RuntimeWarning: invalid value encountered in multiply\n",
      "\n"
     ]
    },
    {
     "name": "stdout",
     "output_type": "stream",
     "text": [
      "i = 20/29  j = 17/30"
     ]
    },
    {
     "name": "stderr",
     "output_type": "stream",
     "text": [
      "\n",
      "WARNING RuntimeWarning: divide by zero encountered in log\n",
      "\n",
      "\n",
      "WARNING RuntimeWarning: invalid value encountered in multiply\n",
      "\n",
      "\n",
      "WARNING RuntimeWarning: divide by zero encountered in log\n",
      "\n",
      "\n",
      "WARNING RuntimeWarning: invalid value encountered in multiply\n",
      "\n",
      "\n",
      "WARNING RuntimeWarning: divide by zero encountered in log\n",
      "\n",
      "\n",
      "WARNING RuntimeWarning: invalid value encountered in multiply\n",
      "\n"
     ]
    },
    {
     "name": "stdout",
     "output_type": "stream",
     "text": [
      "i = 20/29  j = 20/30"
     ]
    },
    {
     "name": "stderr",
     "output_type": "stream",
     "text": [
      "\n",
      "WARNING RuntimeWarning: divide by zero encountered in log\n",
      "\n",
      "\n",
      "WARNING RuntimeWarning: invalid value encountered in multiply\n",
      "\n",
      "\n",
      "WARNING RuntimeWarning: divide by zero encountered in log\n",
      "\n",
      "\n",
      "WARNING RuntimeWarning: invalid value encountered in multiply\n",
      "\n",
      "\n",
      "WARNING RuntimeWarning: divide by zero encountered in log\n",
      "\n",
      "\n",
      "WARNING RuntimeWarning: invalid value encountered in multiply\n",
      "\n"
     ]
    },
    {
     "name": "stdout",
     "output_type": "stream",
     "text": [
      "i = 20/29  j = 23/30"
     ]
    },
    {
     "name": "stderr",
     "output_type": "stream",
     "text": [
      "\n",
      "WARNING RuntimeWarning: divide by zero encountered in log\n",
      "\n",
      "\n",
      "WARNING RuntimeWarning: invalid value encountered in multiply\n",
      "\n",
      "\n",
      "WARNING RuntimeWarning: divide by zero encountered in log\n",
      "\n",
      "\n",
      "WARNING RuntimeWarning: invalid value encountered in multiply\n",
      "\n",
      "\n",
      "WARNING RuntimeWarning: divide by zero encountered in log\n",
      "\n",
      "\n",
      "WARNING RuntimeWarning: invalid value encountered in multiply\n",
      "\n"
     ]
    },
    {
     "name": "stdout",
     "output_type": "stream",
     "text": [
      "i = 20/29  j = 26/30"
     ]
    },
    {
     "name": "stderr",
     "output_type": "stream",
     "text": [
      "\n",
      "WARNING RuntimeWarning: divide by zero encountered in log\n",
      "\n",
      "\n",
      "WARNING RuntimeWarning: invalid value encountered in multiply\n",
      "\n",
      "\n",
      "WARNING RuntimeWarning: divide by zero encountered in log\n",
      "\n",
      "\n",
      "WARNING RuntimeWarning: invalid value encountered in multiply\n",
      "\n",
      "\n",
      "WARNING RuntimeWarning: divide by zero encountered in log\n",
      "\n",
      "\n",
      "WARNING RuntimeWarning: invalid value encountered in multiply\n",
      "\n"
     ]
    },
    {
     "name": "stdout",
     "output_type": "stream",
     "text": [
      "i = 20/29  j = 29/30"
     ]
    },
    {
     "name": "stderr",
     "output_type": "stream",
     "text": [
      "\n",
      "WARNING RuntimeWarning: divide by zero encountered in log\n",
      "\n",
      "\n",
      "WARNING RuntimeWarning: invalid value encountered in multiply\n",
      "\n",
      "\n",
      "WARNING RuntimeWarning: divide by zero encountered in log\n",
      "\n",
      "\n",
      "WARNING RuntimeWarning: invalid value encountered in multiply\n",
      "\n",
      "\n",
      "WARNING RuntimeWarning: divide by zero encountered in log\n",
      "\n",
      "\n",
      "WARNING RuntimeWarning: invalid value encountered in multiply\n",
      "\n"
     ]
    },
    {
     "name": "stdout",
     "output_type": "stream",
     "text": [
      "i = 21/29  j =  2/30"
     ]
    },
    {
     "name": "stderr",
     "output_type": "stream",
     "text": [
      "\n",
      "WARNING RuntimeWarning: divide by zero encountered in log\n",
      "\n",
      "\n",
      "WARNING RuntimeWarning: invalid value encountered in multiply\n",
      "\n",
      "\n",
      "WARNING RuntimeWarning: divide by zero encountered in log\n",
      "\n",
      "\n",
      "WARNING RuntimeWarning: invalid value encountered in multiply\n",
      "\n",
      "\n",
      "WARNING RuntimeWarning: divide by zero encountered in log\n",
      "\n",
      "\n",
      "WARNING RuntimeWarning: invalid value encountered in multiply\n",
      "\n"
     ]
    },
    {
     "name": "stdout",
     "output_type": "stream",
     "text": [
      "i = 21/29  j =  5/30"
     ]
    },
    {
     "name": "stderr",
     "output_type": "stream",
     "text": [
      "\n",
      "WARNING RuntimeWarning: divide by zero encountered in log\n",
      "\n",
      "\n",
      "WARNING RuntimeWarning: invalid value encountered in multiply\n",
      "\n",
      "\n",
      "WARNING RuntimeWarning: divide by zero encountered in log\n",
      "\n",
      "\n",
      "WARNING RuntimeWarning: invalid value encountered in multiply\n",
      "\n",
      "\n",
      "WARNING RuntimeWarning: divide by zero encountered in log\n",
      "\n",
      "\n",
      "WARNING RuntimeWarning: invalid value encountered in multiply\n",
      "\n"
     ]
    },
    {
     "name": "stdout",
     "output_type": "stream",
     "text": [
      "i = 21/29  j =  9/30"
     ]
    },
    {
     "name": "stderr",
     "output_type": "stream",
     "text": [
      "\n",
      "WARNING RuntimeWarning: divide by zero encountered in log\n",
      "\n",
      "\n",
      "WARNING RuntimeWarning: invalid value encountered in multiply\n",
      "\n",
      "\n",
      "WARNING RuntimeWarning: divide by zero encountered in log\n",
      "\n",
      "\n",
      "WARNING RuntimeWarning: invalid value encountered in multiply\n",
      "\n",
      "\n",
      "WARNING RuntimeWarning: divide by zero encountered in log\n",
      "\n",
      "\n",
      "WARNING RuntimeWarning: invalid value encountered in multiply\n",
      "\n"
     ]
    },
    {
     "name": "stdout",
     "output_type": "stream",
     "text": [
      "i = 21/29  j = 12/30"
     ]
    },
    {
     "name": "stderr",
     "output_type": "stream",
     "text": [
      "\n",
      "WARNING RuntimeWarning: divide by zero encountered in log\n",
      "\n",
      "\n",
      "WARNING RuntimeWarning: invalid value encountered in multiply\n",
      "\n",
      "\n",
      "WARNING RuntimeWarning: divide by zero encountered in log\n",
      "\n",
      "\n",
      "WARNING RuntimeWarning: invalid value encountered in multiply\n",
      "\n",
      "\n",
      "WARNING RuntimeWarning: divide by zero encountered in log\n",
      "\n",
      "\n",
      "WARNING RuntimeWarning: invalid value encountered in multiply\n",
      "\n"
     ]
    },
    {
     "name": "stdout",
     "output_type": "stream",
     "text": [
      "i = 21/29  j = 15/30"
     ]
    },
    {
     "name": "stderr",
     "output_type": "stream",
     "text": [
      "\n",
      "WARNING RuntimeWarning: divide by zero encountered in log\n",
      "\n",
      "\n",
      "WARNING RuntimeWarning: invalid value encountered in multiply\n",
      "\n",
      "\n",
      "WARNING RuntimeWarning: divide by zero encountered in log\n",
      "\n",
      "\n",
      "WARNING RuntimeWarning: invalid value encountered in multiply\n",
      "\n",
      "\n",
      "WARNING RuntimeWarning: divide by zero encountered in log\n",
      "\n",
      "\n",
      "WARNING RuntimeWarning: invalid value encountered in multiply\n",
      "\n"
     ]
    },
    {
     "name": "stdout",
     "output_type": "stream",
     "text": [
      "i = 21/29  j = 18/30"
     ]
    },
    {
     "name": "stderr",
     "output_type": "stream",
     "text": [
      "\n",
      "WARNING RuntimeWarning: divide by zero encountered in log\n",
      "\n",
      "\n",
      "WARNING RuntimeWarning: invalid value encountered in multiply\n",
      "\n",
      "\n",
      "WARNING RuntimeWarning: divide by zero encountered in log\n",
      "\n",
      "\n",
      "WARNING RuntimeWarning: invalid value encountered in multiply\n",
      "\n",
      "\n",
      "WARNING RuntimeWarning: divide by zero encountered in log\n",
      "\n",
      "\n",
      "WARNING RuntimeWarning: invalid value encountered in multiply\n",
      "\n"
     ]
    },
    {
     "name": "stdout",
     "output_type": "stream",
     "text": [
      "i = 21/29  j = 21/30"
     ]
    },
    {
     "name": "stderr",
     "output_type": "stream",
     "text": [
      "\n",
      "WARNING RuntimeWarning: divide by zero encountered in log\n",
      "\n",
      "\n",
      "WARNING RuntimeWarning: invalid value encountered in multiply\n",
      "\n",
      "\n",
      "WARNING RuntimeWarning: divide by zero encountered in log\n",
      "\n",
      "\n",
      "WARNING RuntimeWarning: invalid value encountered in multiply\n",
      "\n",
      "\n",
      "WARNING RuntimeWarning: divide by zero encountered in log\n",
      "\n",
      "\n",
      "WARNING RuntimeWarning: invalid value encountered in multiply\n",
      "\n"
     ]
    },
    {
     "name": "stdout",
     "output_type": "stream",
     "text": [
      "i = 21/29  j = 24/30"
     ]
    },
    {
     "name": "stderr",
     "output_type": "stream",
     "text": [
      "\n",
      "WARNING RuntimeWarning: divide by zero encountered in log\n",
      "\n",
      "\n",
      "WARNING RuntimeWarning: invalid value encountered in multiply\n",
      "\n",
      "\n",
      "WARNING RuntimeWarning: divide by zero encountered in log\n",
      "\n",
      "\n",
      "WARNING RuntimeWarning: invalid value encountered in multiply\n",
      "\n",
      "\n",
      "WARNING RuntimeWarning: divide by zero encountered in log\n",
      "\n",
      "\n",
      "WARNING RuntimeWarning: invalid value encountered in multiply\n",
      "\n"
     ]
    },
    {
     "name": "stdout",
     "output_type": "stream",
     "text": [
      "i = 21/29  j = 27/30"
     ]
    },
    {
     "name": "stderr",
     "output_type": "stream",
     "text": [
      "\n",
      "WARNING RuntimeWarning: divide by zero encountered in log\n",
      "\n",
      "\n",
      "WARNING RuntimeWarning: invalid value encountered in multiply\n",
      "\n",
      "\n",
      "WARNING RuntimeWarning: divide by zero encountered in log\n",
      "\n",
      "\n",
      "WARNING RuntimeWarning: invalid value encountered in multiply\n",
      "\n",
      "\n",
      "WARNING RuntimeWarning: divide by zero encountered in log\n",
      "\n",
      "\n",
      "WARNING RuntimeWarning: invalid value encountered in multiply\n",
      "\n"
     ]
    },
    {
     "name": "stdout",
     "output_type": "stream",
     "text": [
      "i = 22/29  j =  1/30"
     ]
    },
    {
     "name": "stderr",
     "output_type": "stream",
     "text": [
      "\n",
      "WARNING RuntimeWarning: divide by zero encountered in log\n",
      "\n",
      "\n",
      "WARNING RuntimeWarning: invalid value encountered in multiply\n",
      "\n",
      "\n",
      "WARNING RuntimeWarning: divide by zero encountered in log\n",
      "\n",
      "\n",
      "WARNING RuntimeWarning: invalid value encountered in multiply\n",
      "\n",
      "\n",
      "WARNING RuntimeWarning: divide by zero encountered in log\n",
      "\n",
      "\n",
      "WARNING RuntimeWarning: invalid value encountered in multiply\n",
      "\n",
      "\n",
      "WARNING RuntimeWarning: divide by zero encountered in log\n",
      "\n",
      "\n",
      "WARNING RuntimeWarning: invalid value encountered in multiply\n",
      "\n",
      "\n",
      "WARNING RuntimeWarning: divide by zero encountered in log\n",
      "\n",
      "\n",
      "WARNING RuntimeWarning: invalid value encountered in multiply\n",
      "\n",
      "\n",
      "WARNING RuntimeWarning: divide by zero encountered in log\n",
      "\n",
      "\n",
      "WARNING RuntimeWarning: invalid value encountered in multiply\n",
      "\n"
     ]
    },
    {
     "name": "stdout",
     "output_type": "stream",
     "text": [
      "i = 22/29  j =  5/30"
     ]
    },
    {
     "name": "stderr",
     "output_type": "stream",
     "text": [
      "\n",
      "WARNING RuntimeWarning: divide by zero encountered in log\n",
      "\n",
      "\n",
      "WARNING RuntimeWarning: invalid value encountered in multiply\n",
      "\n",
      "\n",
      "WARNING RuntimeWarning: divide by zero encountered in log\n",
      "\n",
      "\n",
      "WARNING RuntimeWarning: invalid value encountered in multiply\n",
      "\n",
      "\n",
      "WARNING RuntimeWarning: divide by zero encountered in log\n",
      "\n",
      "\n",
      "WARNING RuntimeWarning: invalid value encountered in multiply\n",
      "\n"
     ]
    },
    {
     "name": "stdout",
     "output_type": "stream",
     "text": [
      "i = 22/29  j =  8/30"
     ]
    },
    {
     "name": "stderr",
     "output_type": "stream",
     "text": [
      "\n",
      "WARNING RuntimeWarning: divide by zero encountered in log\n",
      "\n",
      "\n",
      "WARNING RuntimeWarning: invalid value encountered in multiply\n",
      "\n",
      "\n",
      "WARNING RuntimeWarning: divide by zero encountered in log\n",
      "\n",
      "\n",
      "WARNING RuntimeWarning: invalid value encountered in multiply\n",
      "\n",
      "\n",
      "WARNING RuntimeWarning: divide by zero encountered in log\n",
      "\n",
      "\n",
      "WARNING RuntimeWarning: invalid value encountered in multiply\n",
      "\n"
     ]
    },
    {
     "name": "stdout",
     "output_type": "stream",
     "text": [
      "i = 22/29  j = 11/30"
     ]
    },
    {
     "name": "stderr",
     "output_type": "stream",
     "text": [
      "\n",
      "WARNING RuntimeWarning: divide by zero encountered in log\n",
      "\n",
      "\n",
      "WARNING RuntimeWarning: invalid value encountered in multiply\n",
      "\n",
      "\n",
      "WARNING RuntimeWarning: divide by zero encountered in log\n",
      "\n",
      "\n",
      "WARNING RuntimeWarning: invalid value encountered in multiply\n",
      "\n",
      "\n",
      "WARNING RuntimeWarning: divide by zero encountered in log\n",
      "\n",
      "\n",
      "WARNING RuntimeWarning: invalid value encountered in multiply\n",
      "\n"
     ]
    },
    {
     "name": "stdout",
     "output_type": "stream",
     "text": [
      "i = 22/29  j = 14/30"
     ]
    },
    {
     "name": "stderr",
     "output_type": "stream",
     "text": [
      "\n",
      "WARNING RuntimeWarning: divide by zero encountered in log\n",
      "\n",
      "\n",
      "WARNING RuntimeWarning: invalid value encountered in multiply\n",
      "\n",
      "\n",
      "WARNING RuntimeWarning: divide by zero encountered in log\n",
      "\n",
      "\n",
      "WARNING RuntimeWarning: invalid value encountered in multiply\n",
      "\n",
      "\n",
      "WARNING RuntimeWarning: divide by zero encountered in log\n",
      "\n",
      "\n",
      "WARNING RuntimeWarning: invalid value encountered in multiply\n",
      "\n"
     ]
    },
    {
     "name": "stdout",
     "output_type": "stream",
     "text": [
      "i = 22/29  j = 17/30"
     ]
    },
    {
     "name": "stderr",
     "output_type": "stream",
     "text": [
      "\n",
      "WARNING RuntimeWarning: divide by zero encountered in log\n",
      "\n",
      "\n",
      "WARNING RuntimeWarning: invalid value encountered in multiply\n",
      "\n",
      "\n",
      "WARNING RuntimeWarning: divide by zero encountered in log\n",
      "\n",
      "\n",
      "WARNING RuntimeWarning: invalid value encountered in multiply\n",
      "\n",
      "\n",
      "WARNING RuntimeWarning: divide by zero encountered in log\n",
      "\n",
      "\n",
      "WARNING RuntimeWarning: invalid value encountered in multiply\n",
      "\n"
     ]
    },
    {
     "name": "stdout",
     "output_type": "stream",
     "text": [
      "i = 22/29  j = 20/30"
     ]
    },
    {
     "name": "stderr",
     "output_type": "stream",
     "text": [
      "\n",
      "WARNING RuntimeWarning: divide by zero encountered in log\n",
      "\n",
      "\n",
      "WARNING RuntimeWarning: invalid value encountered in multiply\n",
      "\n",
      "\n",
      "WARNING RuntimeWarning: divide by zero encountered in log\n",
      "\n",
      "\n",
      "WARNING RuntimeWarning: invalid value encountered in multiply\n",
      "\n",
      "\n",
      "WARNING RuntimeWarning: divide by zero encountered in log\n",
      "\n",
      "\n",
      "WARNING RuntimeWarning: invalid value encountered in multiply\n",
      "\n"
     ]
    },
    {
     "name": "stdout",
     "output_type": "stream",
     "text": [
      "i = 22/29  j = 23/30"
     ]
    },
    {
     "name": "stderr",
     "output_type": "stream",
     "text": [
      "\n",
      "WARNING RuntimeWarning: divide by zero encountered in log\n",
      "\n",
      "\n",
      "WARNING RuntimeWarning: invalid value encountered in multiply\n",
      "\n",
      "\n",
      "WARNING RuntimeWarning: divide by zero encountered in log\n",
      "\n",
      "\n",
      "WARNING RuntimeWarning: invalid value encountered in multiply\n",
      "\n",
      "\n",
      "WARNING RuntimeWarning: divide by zero encountered in log\n",
      "\n",
      "\n",
      "WARNING RuntimeWarning: invalid value encountered in multiply\n",
      "\n"
     ]
    },
    {
     "name": "stdout",
     "output_type": "stream",
     "text": [
      "i = 22/29  j = 26/30"
     ]
    },
    {
     "name": "stderr",
     "output_type": "stream",
     "text": [
      "\n",
      "WARNING RuntimeWarning: divide by zero encountered in log\n",
      "\n",
      "\n",
      "WARNING RuntimeWarning: invalid value encountered in multiply\n",
      "\n",
      "\n",
      "WARNING RuntimeWarning: divide by zero encountered in log\n",
      "\n",
      "\n",
      "WARNING RuntimeWarning: invalid value encountered in multiply\n",
      "\n",
      "\n",
      "WARNING RuntimeWarning: divide by zero encountered in log\n",
      "\n",
      "\n",
      "WARNING RuntimeWarning: invalid value encountered in multiply\n",
      "\n"
     ]
    },
    {
     "name": "stdout",
     "output_type": "stream",
     "text": [
      "i = 22/29  j = 29/30"
     ]
    },
    {
     "name": "stderr",
     "output_type": "stream",
     "text": [
      "\n",
      "WARNING RuntimeWarning: divide by zero encountered in log\n",
      "\n",
      "\n",
      "WARNING RuntimeWarning: invalid value encountered in multiply\n",
      "\n",
      "\n",
      "WARNING RuntimeWarning: divide by zero encountered in log\n",
      "\n",
      "\n",
      "WARNING RuntimeWarning: invalid value encountered in multiply\n",
      "\n",
      "\n",
      "WARNING RuntimeWarning: divide by zero encountered in log\n",
      "\n",
      "\n",
      "WARNING RuntimeWarning: invalid value encountered in multiply\n",
      "\n"
     ]
    },
    {
     "name": "stdout",
     "output_type": "stream",
     "text": [
      "i = 23/29  j =  2/30"
     ]
    },
    {
     "name": "stderr",
     "output_type": "stream",
     "text": [
      "\n",
      "WARNING RuntimeWarning: divide by zero encountered in log\n",
      "\n",
      "\n",
      "WARNING RuntimeWarning: invalid value encountered in multiply\n",
      "\n",
      "\n",
      "WARNING RuntimeWarning: divide by zero encountered in log\n",
      "\n",
      "\n",
      "WARNING RuntimeWarning: invalid value encountered in multiply\n",
      "\n",
      "\n",
      "WARNING RuntimeWarning: divide by zero encountered in log\n",
      "\n",
      "\n",
      "WARNING RuntimeWarning: invalid value encountered in multiply\n",
      "\n"
     ]
    },
    {
     "name": "stdout",
     "output_type": "stream",
     "text": [
      "i = 23/29  j =  5/30"
     ]
    },
    {
     "name": "stderr",
     "output_type": "stream",
     "text": [
      "\n",
      "WARNING RuntimeWarning: divide by zero encountered in log\n",
      "\n",
      "\n",
      "WARNING RuntimeWarning: invalid value encountered in multiply\n",
      "\n",
      "\n",
      "WARNING RuntimeWarning: divide by zero encountered in log\n",
      "\n",
      "\n",
      "WARNING RuntimeWarning: invalid value encountered in multiply\n",
      "\n",
      "\n",
      "WARNING RuntimeWarning: divide by zero encountered in log\n",
      "\n",
      "\n",
      "WARNING RuntimeWarning: invalid value encountered in multiply\n",
      "\n"
     ]
    },
    {
     "name": "stdout",
     "output_type": "stream",
     "text": [
      "i = 23/29  j =  8/30"
     ]
    },
    {
     "name": "stderr",
     "output_type": "stream",
     "text": [
      "\n",
      "WARNING RuntimeWarning: divide by zero encountered in log\n",
      "\n",
      "\n",
      "WARNING RuntimeWarning: invalid value encountered in multiply\n",
      "\n",
      "\n",
      "WARNING RuntimeWarning: divide by zero encountered in log\n",
      "\n",
      "\n",
      "WARNING RuntimeWarning: invalid value encountered in multiply\n",
      "\n",
      "\n",
      "WARNING RuntimeWarning: divide by zero encountered in log\n",
      "\n",
      "\n",
      "WARNING RuntimeWarning: invalid value encountered in multiply\n",
      "\n"
     ]
    },
    {
     "name": "stdout",
     "output_type": "stream",
     "text": [
      "i = 23/29  j = 11/30"
     ]
    },
    {
     "name": "stderr",
     "output_type": "stream",
     "text": [
      "\n",
      "WARNING RuntimeWarning: divide by zero encountered in log\n",
      "\n",
      "\n",
      "WARNING RuntimeWarning: invalid value encountered in multiply\n",
      "\n",
      "\n",
      "WARNING RuntimeWarning: divide by zero encountered in log\n",
      "\n",
      "\n",
      "WARNING RuntimeWarning: invalid value encountered in multiply\n",
      "\n",
      "\n",
      "WARNING RuntimeWarning: divide by zero encountered in log\n",
      "\n",
      "\n",
      "WARNING RuntimeWarning: invalid value encountered in multiply\n",
      "\n"
     ]
    },
    {
     "name": "stdout",
     "output_type": "stream",
     "text": [
      "i = 23/29  j = 14/30"
     ]
    },
    {
     "name": "stderr",
     "output_type": "stream",
     "text": [
      "\n",
      "WARNING RuntimeWarning: divide by zero encountered in log\n",
      "\n",
      "\n",
      "WARNING RuntimeWarning: invalid value encountered in multiply\n",
      "\n",
      "\n",
      "WARNING RuntimeWarning: divide by zero encountered in log\n",
      "\n",
      "\n",
      "WARNING RuntimeWarning: invalid value encountered in multiply\n",
      "\n",
      "\n",
      "WARNING RuntimeWarning: divide by zero encountered in log\n",
      "\n",
      "\n",
      "WARNING RuntimeWarning: invalid value encountered in multiply\n",
      "\n"
     ]
    },
    {
     "name": "stdout",
     "output_type": "stream",
     "text": [
      "i = 23/29  j = 17/30"
     ]
    },
    {
     "name": "stderr",
     "output_type": "stream",
     "text": [
      "\n",
      "WARNING RuntimeWarning: divide by zero encountered in log\n",
      "\n",
      "\n",
      "WARNING RuntimeWarning: invalid value encountered in multiply\n",
      "\n",
      "\n",
      "WARNING RuntimeWarning: divide by zero encountered in log\n",
      "\n",
      "\n",
      "WARNING RuntimeWarning: invalid value encountered in multiply\n",
      "\n",
      "\n",
      "WARNING RuntimeWarning: divide by zero encountered in log\n",
      "\n",
      "\n",
      "WARNING RuntimeWarning: invalid value encountered in multiply\n",
      "\n"
     ]
    },
    {
     "name": "stdout",
     "output_type": "stream",
     "text": [
      "i = 23/29  j = 20/30"
     ]
    },
    {
     "name": "stderr",
     "output_type": "stream",
     "text": [
      "\n",
      "WARNING RuntimeWarning: divide by zero encountered in log\n",
      "\n",
      "\n",
      "WARNING RuntimeWarning: invalid value encountered in multiply\n",
      "\n",
      "\n",
      "WARNING RuntimeWarning: divide by zero encountered in log\n",
      "\n",
      "\n",
      "WARNING RuntimeWarning: invalid value encountered in multiply\n",
      "\n",
      "\n",
      "WARNING RuntimeWarning: divide by zero encountered in log\n",
      "\n",
      "\n",
      "WARNING RuntimeWarning: invalid value encountered in multiply\n",
      "\n"
     ]
    },
    {
     "name": "stdout",
     "output_type": "stream",
     "text": [
      "i = 23/29  j = 23/30"
     ]
    },
    {
     "name": "stderr",
     "output_type": "stream",
     "text": [
      "\n",
      "WARNING RuntimeWarning: divide by zero encountered in log\n",
      "\n",
      "\n",
      "WARNING RuntimeWarning: invalid value encountered in multiply\n",
      "\n",
      "\n",
      "WARNING RuntimeWarning: divide by zero encountered in log\n",
      "\n",
      "\n",
      "WARNING RuntimeWarning: invalid value encountered in multiply\n",
      "\n",
      "\n",
      "WARNING RuntimeWarning: divide by zero encountered in log\n",
      "\n",
      "\n",
      "WARNING RuntimeWarning: invalid value encountered in multiply\n",
      "\n"
     ]
    },
    {
     "name": "stdout",
     "output_type": "stream",
     "text": [
      "i = 23/29  j = 26/30"
     ]
    },
    {
     "name": "stderr",
     "output_type": "stream",
     "text": [
      "\n",
      "WARNING RuntimeWarning: divide by zero encountered in log\n",
      "\n",
      "\n",
      "WARNING RuntimeWarning: invalid value encountered in multiply\n",
      "\n",
      "\n",
      "WARNING RuntimeWarning: divide by zero encountered in log\n",
      "\n",
      "\n",
      "WARNING RuntimeWarning: invalid value encountered in multiply\n",
      "\n",
      "\n",
      "WARNING RuntimeWarning: divide by zero encountered in log\n",
      "\n",
      "\n",
      "WARNING RuntimeWarning: invalid value encountered in multiply\n",
      "\n"
     ]
    },
    {
     "name": "stdout",
     "output_type": "stream",
     "text": [
      "i = 23/29  j = 29/30"
     ]
    },
    {
     "name": "stderr",
     "output_type": "stream",
     "text": [
      "\n",
      "WARNING RuntimeWarning: divide by zero encountered in log\n",
      "\n",
      "\n",
      "WARNING RuntimeWarning: invalid value encountered in multiply\n",
      "\n",
      "\n",
      "WARNING RuntimeWarning: divide by zero encountered in log\n",
      "\n",
      "\n",
      "WARNING RuntimeWarning: invalid value encountered in multiply\n",
      "\n",
      "\n",
      "WARNING RuntimeWarning: divide by zero encountered in log\n",
      "\n",
      "\n",
      "WARNING RuntimeWarning: invalid value encountered in multiply\n",
      "\n"
     ]
    },
    {
     "name": "stdout",
     "output_type": "stream",
     "text": [
      "i = 24/29  j =  2/30"
     ]
    },
    {
     "name": "stderr",
     "output_type": "stream",
     "text": [
      "\n",
      "WARNING RuntimeWarning: divide by zero encountered in log\n",
      "\n",
      "\n",
      "WARNING RuntimeWarning: invalid value encountered in multiply\n",
      "\n",
      "\n",
      "WARNING RuntimeWarning: divide by zero encountered in log\n",
      "\n",
      "\n",
      "WARNING RuntimeWarning: invalid value encountered in multiply\n",
      "\n",
      "\n",
      "WARNING RuntimeWarning: divide by zero encountered in log\n",
      "\n",
      "\n",
      "WARNING RuntimeWarning: invalid value encountered in multiply\n",
      "\n"
     ]
    },
    {
     "name": "stdout",
     "output_type": "stream",
     "text": [
      "i = 24/29  j =  5/30"
     ]
    },
    {
     "name": "stderr",
     "output_type": "stream",
     "text": [
      "\n",
      "WARNING RuntimeWarning: divide by zero encountered in log\n",
      "\n",
      "\n",
      "WARNING RuntimeWarning: invalid value encountered in multiply\n",
      "\n",
      "\n",
      "WARNING RuntimeWarning: divide by zero encountered in log\n",
      "\n",
      "\n",
      "WARNING RuntimeWarning: invalid value encountered in multiply\n",
      "\n",
      "\n",
      "WARNING RuntimeWarning: divide by zero encountered in log\n",
      "\n",
      "\n",
      "WARNING RuntimeWarning: invalid value encountered in multiply\n",
      "\n"
     ]
    },
    {
     "name": "stdout",
     "output_type": "stream",
     "text": [
      "i = 24/29  j =  8/30"
     ]
    },
    {
     "name": "stderr",
     "output_type": "stream",
     "text": [
      "\n",
      "WARNING RuntimeWarning: divide by zero encountered in log\n",
      "\n",
      "\n",
      "WARNING RuntimeWarning: invalid value encountered in multiply\n",
      "\n",
      "\n",
      "WARNING RuntimeWarning: divide by zero encountered in log\n",
      "\n",
      "\n",
      "WARNING RuntimeWarning: invalid value encountered in multiply\n",
      "\n",
      "\n",
      "WARNING RuntimeWarning: divide by zero encountered in log\n",
      "\n",
      "\n",
      "WARNING RuntimeWarning: invalid value encountered in multiply\n",
      "\n"
     ]
    },
    {
     "name": "stdout",
     "output_type": "stream",
     "text": [
      "i = 24/29  j = 11/30"
     ]
    },
    {
     "name": "stderr",
     "output_type": "stream",
     "text": [
      "\n",
      "WARNING RuntimeWarning: divide by zero encountered in log\n",
      "\n",
      "\n",
      "WARNING RuntimeWarning: invalid value encountered in multiply\n",
      "\n",
      "\n",
      "WARNING RuntimeWarning: divide by zero encountered in log\n",
      "\n",
      "\n",
      "WARNING RuntimeWarning: invalid value encountered in multiply\n",
      "\n",
      "\n",
      "WARNING RuntimeWarning: divide by zero encountered in log\n",
      "\n",
      "\n",
      "WARNING RuntimeWarning: invalid value encountered in multiply\n",
      "\n"
     ]
    },
    {
     "name": "stdout",
     "output_type": "stream",
     "text": [
      "i = 24/29  j = 14/30"
     ]
    },
    {
     "name": "stderr",
     "output_type": "stream",
     "text": [
      "\n",
      "WARNING RuntimeWarning: divide by zero encountered in log\n",
      "\n",
      "\n",
      "WARNING RuntimeWarning: invalid value encountered in multiply\n",
      "\n",
      "\n",
      "WARNING RuntimeWarning: divide by zero encountered in log\n",
      "\n",
      "\n",
      "WARNING RuntimeWarning: invalid value encountered in multiply\n",
      "\n",
      "\n",
      "WARNING RuntimeWarning: divide by zero encountered in log\n",
      "\n",
      "\n",
      "WARNING RuntimeWarning: invalid value encountered in multiply\n",
      "\n"
     ]
    },
    {
     "name": "stdout",
     "output_type": "stream",
     "text": [
      "i = 24/29  j = 17/30"
     ]
    },
    {
     "name": "stderr",
     "output_type": "stream",
     "text": [
      "\n",
      "WARNING RuntimeWarning: divide by zero encountered in log\n",
      "\n",
      "\n",
      "WARNING RuntimeWarning: invalid value encountered in multiply\n",
      "\n",
      "\n",
      "WARNING RuntimeWarning: divide by zero encountered in log\n",
      "\n",
      "\n",
      "WARNING RuntimeWarning: invalid value encountered in multiply\n",
      "\n",
      "\n",
      "WARNING RuntimeWarning: divide by zero encountered in log\n",
      "\n",
      "\n",
      "WARNING RuntimeWarning: invalid value encountered in multiply\n",
      "\n"
     ]
    },
    {
     "name": "stdout",
     "output_type": "stream",
     "text": [
      "i = 24/29  j = 21/30"
     ]
    },
    {
     "name": "stderr",
     "output_type": "stream",
     "text": [
      "\n",
      "WARNING RuntimeWarning: divide by zero encountered in log\n",
      "\n",
      "\n",
      "WARNING RuntimeWarning: invalid value encountered in multiply\n",
      "\n",
      "\n",
      "WARNING RuntimeWarning: divide by zero encountered in log\n",
      "\n",
      "\n",
      "WARNING RuntimeWarning: invalid value encountered in multiply\n",
      "\n",
      "\n",
      "WARNING RuntimeWarning: divide by zero encountered in log\n",
      "\n",
      "\n",
      "WARNING RuntimeWarning: invalid value encountered in multiply\n",
      "\n"
     ]
    },
    {
     "name": "stdout",
     "output_type": "stream",
     "text": [
      "i = 24/29  j = 25/30"
     ]
    },
    {
     "name": "stderr",
     "output_type": "stream",
     "text": [
      "\n",
      "WARNING RuntimeWarning: divide by zero encountered in log\n",
      "\n",
      "\n",
      "WARNING RuntimeWarning: invalid value encountered in multiply\n",
      "\n",
      "\n",
      "WARNING RuntimeWarning: divide by zero encountered in log\n",
      "\n",
      "\n",
      "WARNING RuntimeWarning: invalid value encountered in multiply\n",
      "\n",
      "\n",
      "WARNING RuntimeWarning: divide by zero encountered in log\n",
      "\n",
      "\n",
      "WARNING RuntimeWarning: invalid value encountered in multiply\n",
      "\n",
      "\n",
      "WARNING RuntimeWarning: divide by zero encountered in log\n",
      "\n",
      "\n",
      "WARNING RuntimeWarning: invalid value encountered in multiply\n",
      "\n",
      "\n",
      "WARNING RuntimeWarning: divide by zero encountered in log\n",
      "\n",
      "\n",
      "WARNING RuntimeWarning: invalid value encountered in multiply\n",
      "\n",
      "\n",
      "WARNING RuntimeWarning: divide by zero encountered in log\n",
      "\n",
      "\n",
      "WARNING RuntimeWarning: invalid value encountered in multiply\n",
      "\n",
      "\n",
      "WARNING RuntimeWarning: divide by zero encountered in log\n",
      "\n",
      "\n",
      "WARNING RuntimeWarning: invalid value encountered in multiply\n",
      "\n"
     ]
    },
    {
     "name": "stdout",
     "output_type": "stream",
     "text": [
      "i = 24/29  j = 29/30"
     ]
    },
    {
     "name": "stderr",
     "output_type": "stream",
     "text": [
      "\n",
      "WARNING RuntimeWarning: divide by zero encountered in log\n",
      "\n",
      "\n",
      "WARNING RuntimeWarning: invalid value encountered in multiply\n",
      "\n",
      "\n",
      "WARNING RuntimeWarning: divide by zero encountered in log\n",
      "\n",
      "\n",
      "WARNING RuntimeWarning: invalid value encountered in multiply\n",
      "\n",
      "\n",
      "WARNING RuntimeWarning: divide by zero encountered in log\n",
      "\n",
      "\n",
      "WARNING RuntimeWarning: invalid value encountered in multiply\n",
      "\n"
     ]
    },
    {
     "name": "stdout",
     "output_type": "stream",
     "text": [
      "i = 25/29  j =  3/30"
     ]
    },
    {
     "name": "stderr",
     "output_type": "stream",
     "text": [
      "\n",
      "WARNING RuntimeWarning: divide by zero encountered in log\n",
      "\n",
      "\n",
      "WARNING RuntimeWarning: invalid value encountered in multiply\n",
      "\n",
      "\n",
      "WARNING RuntimeWarning: divide by zero encountered in log\n",
      "\n",
      "\n",
      "WARNING RuntimeWarning: invalid value encountered in multiply\n",
      "\n",
      "\n",
      "WARNING RuntimeWarning: divide by zero encountered in log\n",
      "\n",
      "\n",
      "WARNING RuntimeWarning: invalid value encountered in multiply\n",
      "\n",
      "\n",
      "WARNING RuntimeWarning: divide by zero encountered in log\n",
      "\n"
     ]
    },
    {
     "name": "stdout",
     "output_type": "stream",
     "text": [
      "i = 25/29  j =  7/30"
     ]
    },
    {
     "name": "stderr",
     "output_type": "stream",
     "text": [
      "\n",
      "WARNING RuntimeWarning: invalid value encountered in multiply\n",
      "\n",
      "\n",
      "WARNING RuntimeWarning: divide by zero encountered in log\n",
      "\n",
      "\n",
      "WARNING RuntimeWarning: invalid value encountered in multiply\n",
      "\n",
      "\n",
      "WARNING RuntimeWarning: divide by zero encountered in log\n",
      "\n",
      "\n",
      "WARNING RuntimeWarning: invalid value encountered in multiply\n",
      "\n",
      "\n",
      "WARNING RuntimeWarning: divide by zero encountered in log\n",
      "\n",
      "\n",
      "WARNING RuntimeWarning: invalid value encountered in multiply\n",
      "\n"
     ]
    },
    {
     "name": "stdout",
     "output_type": "stream",
     "text": [
      "i = 25/29  j = 11/30"
     ]
    },
    {
     "name": "stderr",
     "output_type": "stream",
     "text": [
      "\n",
      "WARNING RuntimeWarning: divide by zero encountered in log\n",
      "\n",
      "\n",
      "WARNING RuntimeWarning: invalid value encountered in multiply\n",
      "\n",
      "\n",
      "WARNING RuntimeWarning: divide by zero encountered in log\n",
      "\n",
      "\n",
      "WARNING RuntimeWarning: invalid value encountered in multiply\n",
      "\n",
      "\n",
      "WARNING RuntimeWarning: divide by zero encountered in log\n",
      "\n",
      "\n",
      "WARNING RuntimeWarning: invalid value encountered in multiply\n",
      "\n",
      "\n",
      "WARNING RuntimeWarning: divide by zero encountered in log\n",
      "\n",
      "\n",
      "WARNING RuntimeWarning: invalid value encountered in multiply\n",
      "\n"
     ]
    },
    {
     "name": "stdout",
     "output_type": "stream",
     "text": [
      "i = 25/29  j = 15/30"
     ]
    },
    {
     "name": "stderr",
     "output_type": "stream",
     "text": [
      "\n",
      "WARNING RuntimeWarning: divide by zero encountered in log\n",
      "\n",
      "\n",
      "WARNING RuntimeWarning: invalid value encountered in multiply\n",
      "\n",
      "\n",
      "WARNING RuntimeWarning: divide by zero encountered in log\n",
      "\n",
      "\n",
      "WARNING RuntimeWarning: invalid value encountered in multiply\n",
      "\n",
      "\n",
      "WARNING RuntimeWarning: divide by zero encountered in log\n",
      "\n",
      "\n",
      "WARNING RuntimeWarning: invalid value encountered in multiply\n",
      "\n",
      "\n",
      "WARNING RuntimeWarning: divide by zero encountered in log\n",
      "\n",
      "\n",
      "WARNING RuntimeWarning: invalid value encountered in multiply\n",
      "\n"
     ]
    },
    {
     "name": "stdout",
     "output_type": "stream",
     "text": [
      "i = 25/29  j = 19/30"
     ]
    },
    {
     "name": "stderr",
     "output_type": "stream",
     "text": [
      "\n",
      "WARNING RuntimeWarning: divide by zero encountered in log\n",
      "\n",
      "\n",
      "WARNING RuntimeWarning: invalid value encountered in multiply\n",
      "\n",
      "\n",
      "WARNING RuntimeWarning: divide by zero encountered in log\n",
      "\n",
      "\n",
      "WARNING RuntimeWarning: invalid value encountered in multiply\n",
      "\n",
      "\n",
      "WARNING RuntimeWarning: divide by zero encountered in log\n",
      "\n",
      "\n",
      "WARNING RuntimeWarning: invalid value encountered in multiply\n",
      "\n"
     ]
    },
    {
     "name": "stdout",
     "output_type": "stream",
     "text": [
      "i = 25/29  j = 22/30"
     ]
    },
    {
     "name": "stderr",
     "output_type": "stream",
     "text": [
      "\n",
      "WARNING RuntimeWarning: divide by zero encountered in log\n",
      "\n",
      "\n",
      "WARNING RuntimeWarning: invalid value encountered in multiply\n",
      "\n",
      "\n",
      "WARNING RuntimeWarning: divide by zero encountered in log\n",
      "\n",
      "\n",
      "WARNING RuntimeWarning: invalid value encountered in multiply\n",
      "\n",
      "\n",
      "WARNING RuntimeWarning: divide by zero encountered in log\n",
      "\n",
      "\n",
      "WARNING RuntimeWarning: invalid value encountered in multiply\n",
      "\n"
     ]
    },
    {
     "name": "stdout",
     "output_type": "stream",
     "text": [
      "i = 25/29  j = 26/30"
     ]
    },
    {
     "name": "stderr",
     "output_type": "stream",
     "text": [
      "\n",
      "WARNING RuntimeWarning: divide by zero encountered in log\n",
      "\n",
      "\n",
      "WARNING RuntimeWarning: invalid value encountered in multiply\n",
      "\n",
      "\n",
      "WARNING RuntimeWarning: divide by zero encountered in log\n",
      "\n",
      "\n",
      "WARNING RuntimeWarning: invalid value encountered in multiply\n",
      "\n",
      "\n",
      "WARNING RuntimeWarning: divide by zero encountered in log\n",
      "\n",
      "\n",
      "WARNING RuntimeWarning: invalid value encountered in multiply\n",
      "\n",
      "\n",
      "WARNING RuntimeWarning: divide by zero encountered in log\n",
      "\n",
      "\n",
      "WARNING RuntimeWarning: invalid value encountered in multiply\n",
      "\n",
      "\n",
      "WARNING RuntimeWarning: divide by zero encountered in log\n",
      "\n",
      "\n",
      "WARNING RuntimeWarning: invalid value encountered in multiply\n",
      "\n",
      "\n",
      "WARNING RuntimeWarning: divide by zero encountered in log\n",
      "\n",
      "\n",
      "WARNING RuntimeWarning: invalid value encountered in multiply\n",
      "\n",
      "\n",
      "WARNING RuntimeWarning: divide by zero encountered in log\n",
      "\n",
      "\n",
      "WARNING RuntimeWarning: invalid value encountered in multiply\n",
      "\n"
     ]
    },
    {
     "name": "stdout",
     "output_type": "stream",
     "text": [
      "i = 26/29  j =  0/30"
     ]
    },
    {
     "name": "stderr",
     "output_type": "stream",
     "text": [
      "\n",
      "WARNING RuntimeWarning: divide by zero encountered in log\n",
      "\n",
      "\n",
      "WARNING RuntimeWarning: invalid value encountered in multiply\n",
      "\n",
      "\n",
      "WARNING RuntimeWarning: divide by zero encountered in log\n",
      "\n",
      "\n",
      "WARNING RuntimeWarning: invalid value encountered in multiply\n",
      "\n",
      "\n",
      "WARNING RuntimeWarning: divide by zero encountered in log\n",
      "\n",
      "\n",
      "WARNING RuntimeWarning: invalid value encountered in multiply\n",
      "\n",
      "\n",
      "WARNING RuntimeWarning: divide by zero encountered in log\n",
      "\n",
      "\n",
      "WARNING RuntimeWarning: invalid value encountered in multiply\n",
      "\n"
     ]
    },
    {
     "name": "stdout",
     "output_type": "stream",
     "text": [
      "i = 26/29  j =  4/30"
     ]
    },
    {
     "name": "stderr",
     "output_type": "stream",
     "text": [
      "\n",
      "WARNING RuntimeWarning: divide by zero encountered in log\n",
      "\n",
      "\n",
      "WARNING RuntimeWarning: invalid value encountered in multiply\n",
      "\n",
      "\n",
      "WARNING RuntimeWarning: divide by zero encountered in log\n",
      "\n",
      "\n",
      "WARNING RuntimeWarning: invalid value encountered in multiply\n",
      "\n",
      "\n",
      "WARNING RuntimeWarning: divide by zero encountered in log\n",
      "\n",
      "\n",
      "WARNING RuntimeWarning: invalid value encountered in multiply\n",
      "\n"
     ]
    },
    {
     "name": "stdout",
     "output_type": "stream",
     "text": [
      "i = 26/29  j =  7/30"
     ]
    },
    {
     "name": "stderr",
     "output_type": "stream",
     "text": [
      "\n",
      "WARNING RuntimeWarning: divide by zero encountered in log\n",
      "\n",
      "\n",
      "WARNING RuntimeWarning: invalid value encountered in multiply\n",
      "\n",
      "\n",
      "WARNING RuntimeWarning: divide by zero encountered in log\n",
      "\n",
      "\n",
      "WARNING RuntimeWarning: invalid value encountered in multiply\n",
      "\n",
      "\n",
      "WARNING RuntimeWarning: divide by zero encountered in log\n",
      "\n",
      "\n",
      "WARNING RuntimeWarning: invalid value encountered in multiply\n",
      "\n"
     ]
    },
    {
     "name": "stdout",
     "output_type": "stream",
     "text": [
      "i = 26/29  j = 10/30"
     ]
    },
    {
     "name": "stderr",
     "output_type": "stream",
     "text": [
      "\n",
      "WARNING RuntimeWarning: divide by zero encountered in log\n",
      "\n",
      "\n",
      "WARNING RuntimeWarning: invalid value encountered in multiply\n",
      "\n",
      "\n",
      "WARNING RuntimeWarning: divide by zero encountered in log\n",
      "\n",
      "\n",
      "WARNING RuntimeWarning: invalid value encountered in multiply\n",
      "\n",
      "\n",
      "WARNING RuntimeWarning: divide by zero encountered in log\n",
      "\n",
      "\n",
      "WARNING RuntimeWarning: invalid value encountered in multiply\n",
      "\n"
     ]
    },
    {
     "name": "stdout",
     "output_type": "stream",
     "text": [
      "i = 26/29  j = 14/30"
     ]
    },
    {
     "name": "stderr",
     "output_type": "stream",
     "text": [
      "\n",
      "WARNING RuntimeWarning: divide by zero encountered in log\n",
      "\n",
      "\n",
      "WARNING RuntimeWarning: invalid value encountered in multiply\n",
      "\n",
      "\n",
      "WARNING RuntimeWarning: divide by zero encountered in log\n",
      "\n",
      "\n",
      "WARNING RuntimeWarning: invalid value encountered in multiply\n",
      "\n",
      "\n",
      "WARNING RuntimeWarning: divide by zero encountered in log\n",
      "\n",
      "\n",
      "WARNING RuntimeWarning: invalid value encountered in multiply\n",
      "\n"
     ]
    },
    {
     "name": "stdout",
     "output_type": "stream",
     "text": [
      "i = 26/29  j = 17/30"
     ]
    },
    {
     "name": "stderr",
     "output_type": "stream",
     "text": [
      "\n",
      "WARNING RuntimeWarning: divide by zero encountered in log\n",
      "\n",
      "\n",
      "WARNING RuntimeWarning: invalid value encountered in multiply\n",
      "\n",
      "\n",
      "WARNING RuntimeWarning: divide by zero encountered in log\n",
      "\n",
      "\n",
      "WARNING RuntimeWarning: invalid value encountered in multiply\n",
      "\n",
      "\n",
      "WARNING RuntimeWarning: divide by zero encountered in log\n",
      "\n",
      "\n",
      "WARNING RuntimeWarning: invalid value encountered in multiply\n",
      "\n"
     ]
    },
    {
     "name": "stdout",
     "output_type": "stream",
     "text": [
      "i = 26/29  j = 21/30"
     ]
    },
    {
     "name": "stderr",
     "output_type": "stream",
     "text": [
      "\n",
      "WARNING RuntimeWarning: divide by zero encountered in log\n",
      "\n",
      "\n",
      "WARNING RuntimeWarning: invalid value encountered in multiply\n",
      "\n",
      "\n",
      "WARNING RuntimeWarning: divide by zero encountered in log\n",
      "\n",
      "\n",
      "WARNING RuntimeWarning: invalid value encountered in multiply\n",
      "\n",
      "\n",
      "WARNING RuntimeWarning: divide by zero encountered in log\n",
      "\n",
      "\n",
      "WARNING RuntimeWarning: invalid value encountered in multiply\n",
      "\n"
     ]
    },
    {
     "name": "stdout",
     "output_type": "stream",
     "text": [
      "i = 26/29  j = 24/30"
     ]
    },
    {
     "name": "stderr",
     "output_type": "stream",
     "text": [
      "\n",
      "WARNING RuntimeWarning: divide by zero encountered in log\n",
      "\n",
      "\n",
      "WARNING RuntimeWarning: invalid value encountered in multiply\n",
      "\n",
      "\n",
      "WARNING RuntimeWarning: divide by zero encountered in log\n",
      "\n",
      "\n",
      "WARNING RuntimeWarning: invalid value encountered in multiply\n",
      "\n",
      "\n",
      "WARNING RuntimeWarning: divide by zero encountered in log\n",
      "\n",
      "\n",
      "WARNING RuntimeWarning: invalid value encountered in multiply\n",
      "\n"
     ]
    },
    {
     "name": "stdout",
     "output_type": "stream",
     "text": [
      "i = 26/29  j = 27/30"
     ]
    },
    {
     "name": "stderr",
     "output_type": "stream",
     "text": [
      "\n",
      "WARNING RuntimeWarning: divide by zero encountered in log\n",
      "\n",
      "\n",
      "WARNING RuntimeWarning: invalid value encountered in multiply\n",
      "\n",
      "\n",
      "WARNING RuntimeWarning: divide by zero encountered in log\n",
      "\n",
      "\n",
      "WARNING RuntimeWarning: invalid value encountered in multiply\n",
      "\n",
      "\n",
      "WARNING RuntimeWarning: divide by zero encountered in log\n",
      "\n",
      "\n",
      "WARNING RuntimeWarning: invalid value encountered in multiply\n",
      "\n"
     ]
    },
    {
     "name": "stdout",
     "output_type": "stream",
     "text": [
      "i = 27/29  j =  1/30"
     ]
    },
    {
     "name": "stderr",
     "output_type": "stream",
     "text": [
      "\n",
      "WARNING RuntimeWarning: divide by zero encountered in log\n",
      "\n",
      "\n",
      "WARNING RuntimeWarning: invalid value encountered in multiply\n",
      "\n",
      "\n",
      "WARNING RuntimeWarning: divide by zero encountered in log\n",
      "\n",
      "\n",
      "WARNING RuntimeWarning: invalid value encountered in multiply\n",
      "\n",
      "\n",
      "WARNING RuntimeWarning: divide by zero encountered in log\n",
      "\n",
      "\n",
      "WARNING RuntimeWarning: invalid value encountered in multiply\n",
      "\n",
      "\n",
      "WARNING RuntimeWarning: divide by zero encountered in log\n",
      "\n",
      "\n",
      "WARNING RuntimeWarning: invalid value encountered in multiply\n",
      "\n"
     ]
    },
    {
     "name": "stdout",
     "output_type": "stream",
     "text": [
      "i = 27/29  j =  5/30"
     ]
    },
    {
     "name": "stderr",
     "output_type": "stream",
     "text": [
      "\n",
      "WARNING RuntimeWarning: divide by zero encountered in log\n",
      "\n",
      "\n",
      "WARNING RuntimeWarning: invalid value encountered in multiply\n",
      "\n",
      "\n",
      "WARNING RuntimeWarning: divide by zero encountered in log\n",
      "\n",
      "\n",
      "WARNING RuntimeWarning: invalid value encountered in multiply\n",
      "\n",
      "\n",
      "WARNING RuntimeWarning: divide by zero encountered in log\n",
      "\n",
      "\n",
      "WARNING RuntimeWarning: invalid value encountered in multiply\n",
      "\n",
      "\n",
      "WARNING RuntimeWarning: divide by zero encountered in log\n",
      "\n",
      "\n",
      "WARNING RuntimeWarning: invalid value encountered in multiply\n",
      "\n"
     ]
    },
    {
     "name": "stdout",
     "output_type": "stream",
     "text": [
      "i = 27/29  j =  9/30"
     ]
    },
    {
     "name": "stderr",
     "output_type": "stream",
     "text": [
      "\n",
      "WARNING RuntimeWarning: divide by zero encountered in log\n",
      "\n",
      "\n",
      "WARNING RuntimeWarning: invalid value encountered in multiply\n",
      "\n",
      "\n",
      "WARNING RuntimeWarning: divide by zero encountered in log\n",
      "\n",
      "\n",
      "WARNING RuntimeWarning: invalid value encountered in multiply\n",
      "\n",
      "\n",
      "WARNING RuntimeWarning: divide by zero encountered in log\n",
      "\n",
      "\n",
      "WARNING RuntimeWarning: invalid value encountered in multiply\n",
      "\n",
      "\n",
      "WARNING RuntimeWarning: divide by zero encountered in log\n",
      "\n",
      "\n",
      "WARNING RuntimeWarning: invalid value encountered in multiply\n",
      "\n"
     ]
    },
    {
     "name": "stdout",
     "output_type": "stream",
     "text": [
      "i = 27/29  j = 13/30"
     ]
    },
    {
     "name": "stderr",
     "output_type": "stream",
     "text": [
      "\n",
      "WARNING RuntimeWarning: divide by zero encountered in log\n",
      "\n",
      "\n",
      "WARNING RuntimeWarning: invalid value encountered in multiply\n",
      "\n",
      "\n",
      "WARNING RuntimeWarning: divide by zero encountered in log\n",
      "\n",
      "\n",
      "WARNING RuntimeWarning: invalid value encountered in multiply\n",
      "\n",
      "\n",
      "WARNING RuntimeWarning: divide by zero encountered in log\n",
      "\n",
      "\n",
      "WARNING RuntimeWarning: invalid value encountered in multiply\n",
      "\n",
      "\n",
      "WARNING RuntimeWarning: divide by zero encountered in log\n",
      "\n",
      "\n",
      "WARNING RuntimeWarning: invalid value encountered in multiply\n",
      "\n"
     ]
    },
    {
     "name": "stdout",
     "output_type": "stream",
     "text": [
      "i = 27/29  j = 17/30"
     ]
    },
    {
     "name": "stderr",
     "output_type": "stream",
     "text": [
      "\n",
      "WARNING RuntimeWarning: divide by zero encountered in log\n",
      "\n",
      "\n",
      "WARNING RuntimeWarning: invalid value encountered in multiply\n",
      "\n",
      "\n",
      "WARNING RuntimeWarning: divide by zero encountered in log\n",
      "\n",
      "\n",
      "WARNING RuntimeWarning: invalid value encountered in multiply\n",
      "\n",
      "\n",
      "WARNING RuntimeWarning: divide by zero encountered in log\n",
      "\n",
      "\n",
      "WARNING RuntimeWarning: invalid value encountered in multiply\n",
      "\n",
      "\n",
      "WARNING RuntimeWarning: divide by zero encountered in log\n",
      "\n",
      "\n",
      "WARNING RuntimeWarning: invalid value encountered in multiply\n",
      "\n",
      "\n",
      "WARNING RuntimeWarning: divide by zero encountered in log\n",
      "\n",
      "\n",
      "WARNING RuntimeWarning: invalid value encountered in multiply\n",
      "\n",
      "\n",
      "WARNING RuntimeWarning: divide by zero encountered in log\n",
      "\n",
      "\n",
      "WARNING RuntimeWarning: invalid value encountered in multiply\n",
      "\n",
      "\n",
      "WARNING RuntimeWarning: divide by zero encountered in log\n",
      "\n",
      "\n",
      "WARNING RuntimeWarning: invalid value encountered in multiply\n",
      "\n"
     ]
    },
    {
     "name": "stdout",
     "output_type": "stream",
     "text": [
      "i = 27/29  j = 21/30"
     ]
    },
    {
     "name": "stderr",
     "output_type": "stream",
     "text": [
      "\n",
      "WARNING RuntimeWarning: divide by zero encountered in log\n",
      "\n",
      "\n",
      "WARNING RuntimeWarning: invalid value encountered in multiply\n",
      "\n",
      "\n",
      "WARNING RuntimeWarning: divide by zero encountered in log\n",
      "\n",
      "\n",
      "WARNING RuntimeWarning: invalid value encountered in multiply\n",
      "\n",
      "\n",
      "WARNING RuntimeWarning: divide by zero encountered in log\n",
      "\n",
      "\n",
      "WARNING RuntimeWarning: invalid value encountered in multiply\n",
      "\n"
     ]
    },
    {
     "name": "stdout",
     "output_type": "stream",
     "text": [
      "i = 27/29  j = 24/30"
     ]
    },
    {
     "name": "stderr",
     "output_type": "stream",
     "text": [
      "\n",
      "WARNING RuntimeWarning: divide by zero encountered in log\n",
      "\n",
      "\n",
      "WARNING RuntimeWarning: invalid value encountered in multiply\n",
      "\n",
      "\n",
      "WARNING RuntimeWarning: divide by zero encountered in log\n",
      "\n",
      "\n",
      "WARNING RuntimeWarning: invalid value encountered in multiply\n",
      "\n",
      "\n",
      "WARNING RuntimeWarning: divide by zero encountered in log\n",
      "\n",
      "\n",
      "WARNING RuntimeWarning: invalid value encountered in multiply\n",
      "\n"
     ]
    },
    {
     "name": "stdout",
     "output_type": "stream",
     "text": [
      "i = 27/29  j = 27/30"
     ]
    },
    {
     "name": "stderr",
     "output_type": "stream",
     "text": [
      "\n",
      "WARNING RuntimeWarning: divide by zero encountered in log\n",
      "\n",
      "\n",
      "WARNING RuntimeWarning: invalid value encountered in multiply\n",
      "\n",
      "\n",
      "WARNING RuntimeWarning: divide by zero encountered in log\n",
      "\n",
      "\n",
      "WARNING RuntimeWarning: invalid value encountered in multiply\n",
      "\n",
      "\n",
      "WARNING RuntimeWarning: divide by zero encountered in log\n",
      "\n",
      "\n",
      "WARNING RuntimeWarning: invalid value encountered in multiply\n",
      "\n"
     ]
    },
    {
     "name": "stdout",
     "output_type": "stream",
     "text": [
      "i = 28/29  j =  0/30"
     ]
    },
    {
     "name": "stderr",
     "output_type": "stream",
     "text": [
      "\n",
      "WARNING RuntimeWarning: divide by zero encountered in log\n",
      "\n",
      "\n",
      "WARNING RuntimeWarning: invalid value encountered in multiply\n",
      "\n",
      "\n",
      "WARNING RuntimeWarning: divide by zero encountered in log\n",
      "\n",
      "\n",
      "WARNING RuntimeWarning: invalid value encountered in multiply\n",
      "\n",
      "\n",
      "WARNING RuntimeWarning: divide by zero encountered in log\n",
      "\n",
      "\n",
      "WARNING RuntimeWarning: invalid value encountered in multiply\n",
      "\n"
     ]
    },
    {
     "name": "stdout",
     "output_type": "stream",
     "text": [
      "i = 28/29  j =  3/30"
     ]
    },
    {
     "name": "stderr",
     "output_type": "stream",
     "text": [
      "\n",
      "WARNING RuntimeWarning: divide by zero encountered in log\n",
      "\n",
      "\n",
      "WARNING RuntimeWarning: invalid value encountered in multiply\n",
      "\n",
      "\n",
      "WARNING RuntimeWarning: divide by zero encountered in log\n",
      "\n",
      "\n",
      "WARNING RuntimeWarning: invalid value encountered in multiply\n",
      "\n",
      "\n",
      "WARNING RuntimeWarning: divide by zero encountered in log\n",
      "\n",
      "\n",
      "WARNING RuntimeWarning: invalid value encountered in multiply\n",
      "\n"
     ]
    },
    {
     "name": "stdout",
     "output_type": "stream",
     "text": [
      "i = 28/29  j =  7/30"
     ]
    },
    {
     "name": "stderr",
     "output_type": "stream",
     "text": [
      "\n",
      "WARNING RuntimeWarning: divide by zero encountered in log\n",
      "\n",
      "\n",
      "WARNING RuntimeWarning: invalid value encountered in multiply\n",
      "\n",
      "\n",
      "WARNING RuntimeWarning: divide by zero encountered in log\n",
      "\n",
      "\n",
      "WARNING RuntimeWarning: invalid value encountered in multiply\n",
      "\n",
      "\n",
      "WARNING RuntimeWarning: divide by zero encountered in log\n",
      "\n",
      "\n",
      "WARNING RuntimeWarning: invalid value encountered in multiply\n",
      "\n"
     ]
    },
    {
     "name": "stdout",
     "output_type": "stream",
     "text": [
      "i = 28/29  j = 10/30"
     ]
    },
    {
     "name": "stderr",
     "output_type": "stream",
     "text": [
      "\n",
      "WARNING RuntimeWarning: divide by zero encountered in log\n",
      "\n",
      "\n",
      "WARNING RuntimeWarning: invalid value encountered in multiply\n",
      "\n",
      "\n",
      "WARNING RuntimeWarning: divide by zero encountered in log\n",
      "\n",
      "\n",
      "WARNING RuntimeWarning: invalid value encountered in multiply\n",
      "\n",
      "\n",
      "WARNING RuntimeWarning: divide by zero encountered in log\n",
      "\n",
      "\n",
      "WARNING RuntimeWarning: invalid value encountered in multiply\n",
      "\n"
     ]
    },
    {
     "name": "stdout",
     "output_type": "stream",
     "text": [
      "i = 28/29  j = 13/30"
     ]
    },
    {
     "name": "stderr",
     "output_type": "stream",
     "text": [
      "\n",
      "WARNING RuntimeWarning: divide by zero encountered in log\n",
      "\n",
      "\n",
      "WARNING RuntimeWarning: invalid value encountered in multiply\n",
      "\n",
      "\n",
      "WARNING RuntimeWarning: divide by zero encountered in log\n",
      "\n",
      "\n",
      "WARNING RuntimeWarning: invalid value encountered in multiply\n",
      "\n",
      "\n",
      "WARNING RuntimeWarning: divide by zero encountered in log\n",
      "\n",
      "\n",
      "WARNING RuntimeWarning: invalid value encountered in multiply\n",
      "\n"
     ]
    },
    {
     "name": "stdout",
     "output_type": "stream",
     "text": [
      "i = 28/29  j = 16/30"
     ]
    },
    {
     "name": "stderr",
     "output_type": "stream",
     "text": [
      "\n",
      "WARNING RuntimeWarning: divide by zero encountered in log\n",
      "\n",
      "\n",
      "WARNING RuntimeWarning: invalid value encountered in multiply\n",
      "\n",
      "\n",
      "WARNING RuntimeWarning: divide by zero encountered in log\n",
      "\n",
      "\n",
      "WARNING RuntimeWarning: invalid value encountered in multiply\n",
      "\n",
      "\n",
      "WARNING RuntimeWarning: divide by zero encountered in log\n",
      "\n",
      "\n",
      "WARNING RuntimeWarning: invalid value encountered in multiply\n",
      "\n"
     ]
    },
    {
     "name": "stdout",
     "output_type": "stream",
     "text": [
      "i = 28/29  j = 19/30"
     ]
    },
    {
     "name": "stderr",
     "output_type": "stream",
     "text": [
      "\n",
      "WARNING RuntimeWarning: divide by zero encountered in log\n",
      "\n",
      "\n",
      "WARNING RuntimeWarning: invalid value encountered in multiply\n",
      "\n",
      "\n",
      "WARNING RuntimeWarning: divide by zero encountered in log\n",
      "\n",
      "\n",
      "WARNING RuntimeWarning: invalid value encountered in multiply\n",
      "\n",
      "\n",
      "WARNING RuntimeWarning: divide by zero encountered in log\n",
      "\n",
      "\n",
      "WARNING RuntimeWarning: invalid value encountered in multiply\n",
      "\n"
     ]
    },
    {
     "name": "stdout",
     "output_type": "stream",
     "text": [
      "i = 28/29  j = 22/30"
     ]
    },
    {
     "name": "stderr",
     "output_type": "stream",
     "text": [
      "\n",
      "WARNING RuntimeWarning: divide by zero encountered in log\n",
      "\n",
      "\n",
      "WARNING RuntimeWarning: invalid value encountered in multiply\n",
      "\n",
      "\n",
      "WARNING RuntimeWarning: divide by zero encountered in log\n",
      "\n",
      "\n",
      "WARNING RuntimeWarning: invalid value encountered in multiply\n",
      "\n",
      "\n",
      "WARNING RuntimeWarning: divide by zero encountered in log\n",
      "\n",
      "\n",
      "WARNING RuntimeWarning: invalid value encountered in multiply\n",
      "\n"
     ]
    },
    {
     "name": "stdout",
     "output_type": "stream",
     "text": [
      "i = 28/29  j = 25/30"
     ]
    },
    {
     "name": "stderr",
     "output_type": "stream",
     "text": [
      "\n",
      "WARNING RuntimeWarning: divide by zero encountered in log\n",
      "\n",
      "\n",
      "WARNING RuntimeWarning: invalid value encountered in multiply\n",
      "\n",
      "\n",
      "WARNING RuntimeWarning: divide by zero encountered in log\n",
      "\n",
      "\n",
      "WARNING RuntimeWarning: invalid value encountered in multiply\n",
      "\n",
      "\n",
      "WARNING RuntimeWarning: divide by zero encountered in log\n",
      "\n",
      "\n",
      "WARNING RuntimeWarning: invalid value encountered in multiply\n",
      "\n"
     ]
    },
    {
     "name": "stdout",
     "output_type": "stream",
     "text": [
      "i = 28/29  j = 29/30"
     ]
    },
    {
     "name": "stderr",
     "output_type": "stream",
     "text": [
      "\n",
      "WARNING RuntimeWarning: divide by zero encountered in log\n",
      "\n",
      "\n",
      "WARNING RuntimeWarning: invalid value encountered in multiply\n",
      "\n",
      "\n",
      "WARNING RuntimeWarning: divide by zero encountered in log\n",
      "\n",
      "\n",
      "WARNING RuntimeWarning: invalid value encountered in multiply\n",
      "\n",
      "\n",
      "WARNING RuntimeWarning: divide by zero encountered in log\n",
      "\n",
      "\n",
      "WARNING RuntimeWarning: invalid value encountered in multiply\n",
      "\n"
     ]
    }
   ],
   "source": [
    "from histpy import Axis\n",
    "from scipy import stats\n",
    "\n",
    "K_range = (1e-10,10)\n",
    "xp_range = (10,1100)\n",
    "log_like = Histogram([Axis(np.geomspace(*xp_range, 30), label = \"xp\"), \n",
    "                      Axis(np.geomspace(*K_range, 31), label = \"K\")])\n",
    "for i in range(log_like.axes['xp'].nbins):\n",
    "    for j in range(log_like.axes['K'].nbins):\n",
    "        # Progress\n",
    "        print(f\"\\ri = {i:2d}/{log_like.axes['xp'].nbins}  j = {j:2d}/{log_like.axes['K'].nbins}\", end = \"\")\n",
    "        # Change the spectrum parameters\n",
    "        spectrum.K.value = log_like.axes['K'].centers[j]\n",
    "        spectrum.xp.value = log_like.axes['xp'].centers[i]\n",
    "        # Recompute the likelihood\n",
    "        log_like[i,j] = cosi.get_log_like()"
   ]
  },
  {
   "cell_type": "code",
   "execution_count": 23,
   "id": "b4ff2f20-99c2-4246-a195-6741b5134db3",
   "metadata": {},
   "outputs": [
    {
     "name": "stderr",
     "output_type": "stream",
     "text": [
      "\n",
      "WARNING RuntimeWarning: divide by zero encountered in log\n",
      "\n",
      "\n",
      "WARNING RuntimeWarning: invalid value encountered in multiply\n",
      "\n"
     ]
    }
   ],
   "source": [
    "# Set the normalization to 0, that is, background-only null-hypothesis\n",
    "spectrum.K.value = spectrum.K.min_value # min_value is a very small value, approx 0. However, it can't be exactly 0 for some internal numerical reason\n",
    "\n",
    "# Compute the likelihood\n",
    "log_like0 = cosi.get_log_like()"
   ]
  },
  {
   "cell_type": "code",
   "execution_count": 24,
   "id": "47abc1ad-683a-484a-a569-95586325b018",
   "metadata": {},
   "outputs": [
    {
     "name": "stdout",
     "output_type": "stream",
     "text": [
      "Expected significance: inf sigma\n"
     ]
    }
   ],
   "source": [
    "ts = 2*(log_like - log_like0)\n",
    "\n",
    "# Getting the maximum\n",
    "# Note that, in our case, since log_like0 is a constant,\n",
    "# max(TS) = 2\n",
    "argmax = np.unravel_index(np.argmax(ts), ts.nbins)\n",
    "\n",
    "ts_max = ts[argmax]\n",
    "\n",
    "# And converting to significance based on Wilk's theorem\n",
    "print(f\"Expected significance: {stats.norm.isf(stats.chi2.sf(ts_max, df = 2)):.1f} sigma\")"
   ]
  },
  {
   "cell_type": "code",
   "execution_count": 25,
   "id": "cb0ab04a-1d6d-46aa-984b-b77974b636bc",
   "metadata": {},
   "outputs": [
    {
     "data": {
      "text/plain": [
       "<matplotlib.legend.Legend at 0x29b304a60>"
      ]
     },
     "execution_count": 25,
     "metadata": {},
     "output_type": "execute_result"
    },
    {
     "data": {
      "image/png": "[encoded data removed]",
      "text/plain": [
       "<Figure size 640x480 with 2 Axes>"
      ]
     },
     "metadata": {},
     "output_type": "display_data"
    }
   ],
   "source": [
    "fig,ax = plt.subplots()\n",
    "\n",
    "_,plot = ts.plot(ax, vmin = 0, colorbar = False)\n",
    "\n",
    "ax.scatter([ts.axes['xp'].centers[argmax[0]]],[ts.axes['K'].centers[argmax[1]]], label = \"Max TS\")\n",
    "ax.scatter([xp_inj],[K_inj/piv.value], marker = \"x\", label = \"Injected\")\n",
    "# Here we also use Wilk's theorem to find the DeltaTS that corresponse to a 90% containment confidence\n",
    "ts_thresh = ts_max - stats.chi2.isf(1-.9, df = 2)\n",
    "contours = ax.contour(ts.axes['xp'].centers, \n",
    "                        ts.axes['K'].centers, \n",
    "                        ts.contents.transpose(), \n",
    "                        [ts_thresh], colors = 'red')\n",
    "contours.collections[0].set_label(\"90% cont.\")\n",
    "\n",
    "cbar = fig.colorbar(plot)\n",
    "cbar.ax.set_ylabel(\"TS\")\n",
    "\n",
    "ax.set_xscale(\"log\")\n",
    "ax.set_yscale(\"log\")\n",
    "\n",
    "ax.legend()"
   ]
  },
  {
   "cell_type": "markdown",
   "id": "c03c6065-294a-461f-a418-c8add967ceab",
   "metadata": {},
   "source": [
    "Plot slice of simulated data & expectation given model in psichi for troubleshooting"
   ]
  },
  {
   "cell_type": "code",
   "execution_count": 27,
   "id": "0895247b-da0e-4a4c-95e7-a54a620416d4",
   "metadata": {},
   "outputs": [
    {
     "data": {
      "text/plain": [
       "<matplotlib.collections.PathCollection at 0x29e19e400>"
      ]
     },
     "execution_count": 27,
     "metadata": {},
     "output_type": "execute_result"
    },
    {
     "data": {
      "image/png": "[encoded data removed]",
      "text/plain": [
       "<Figure size 600x600 with 2 Axes>"
      ]
     },
     "metadata": {},
     "output_type": "display_data"
    },
    {
     "data": {
      "image/png": "[encoded data removed]",
      "text/plain": [
       "<Figure size 600x600 with 2 Axes>"
      ]
     },
     "metadata": {},
     "output_type": "display_data"
    }
   ],
   "source": [
    "from mhealpy import HealpixMap, HealpixBase\n",
    "from cosipy.response.FullDetectorResponse import FullDetectorResponse\n",
    "\n",
    "spectrum.alpha.value = alpha\n",
    "spectrum.beta.value = beta\n",
    "spectrum.xp.value = xp.value\n",
    "spectrum.K.value = K.value\n",
    "spectrum.piv.value = piv.value\n",
    "\n",
    "h = grb.binned_data.project('Em', 'Phi', 'PsiChi').slice[{'Em':2, 'Phi':4}].project('PsiChi')\n",
    "m = HealpixMap(base = HealpixBase(npix = h.nbins), data = h.contents.todense())\n",
    "\n",
    "_,ax = m.plot('mollview')\n",
    "\n",
    "ax.scatter(0, 70, transform=ax.get_transform('world'), color = 'red')\n",
    "\n",
    "dwell_time_map = cosi._get_dwell_time_map(source.position.sky_coord)\n",
    "psr = FullDetectorResponse.open(dr).get_point_source_response(dwell_time_map)\n",
    "\n",
    "expectation = psr.get_expectation(spectrum).project(['Em', 'Phi', 'PsiChi']).slice[{'Em':2, 'Phi':4}].project('PsiChi') + 2.8e-4 * bkg.binned_data.project('Em', 'Phi', 'PsiChi').slice[{'Em':2, 'Phi':4}].project('PsiChi')\n",
    "\n",
    "em = HealpixMap(base = HealpixBase(npix = expectation.nbins), data = expectation.contents.todense())\n",
    "\n",
    "_,ax2 = em.plot('mollview')\n",
    "\n",
    "ax2.scatter(0, 70, transform=ax2.get_transform('world'), color = 'red')"
   ]
  },
  {
   "cell_type": "markdown",
   "id": "38ff74d7-4a43-4714-90c9-97339a3041d6",
   "metadata": {},
   "source": [
    "## Read in data (source injector)"
   ]
  },
  {
   "cell_type": "markdown",
   "id": "4bf93759-120a-4396-8801-6a3c1ba391d3",
   "metadata": {},
   "source": [
    "Load .h5 files from source injector"
   ]
  },
  {
   "cell_type": "code",
   "execution_count": 28,
   "id": "e594e07b-d98d-4631-8066-958d1235ac33",
   "metadata": {},
   "outputs": [],
   "source": [
    "grb2 = Histogram.open(\"data/GRBsignal.h5\")\n",
    "grb_bkg2 = Histogram.open(\"data/GRBdata.h5\")\n",
    "bkg2 = Histogram.open(\"data/GRBbkg.h5\")"
   ]
  },
  {
   "cell_type": "markdown",
   "id": "668fb2d0-db2c-49e5-97a0-3a7103ea73e5",
   "metadata": {},
   "source": [
    "## Perform spectral fit (source injector)"
   ]
  },
  {
   "cell_type": "markdown",
   "id": "1dd90d93-cd79-41fe-a8a6-77ed555a5d9d",
   "metadata": {},
   "source": [
    "Define inputs needed by COSI plugin, optionally set background parameter (fits amplitude of background), and instantiate threeML plugin"
   ]
  },
  {
   "cell_type": "code",
   "execution_count": 29,
   "id": "b2f9546e-aa8e-4d89-8392-ac28fbfe3ec4",
   "metadata": {},
   "outputs": [],
   "source": [
    "bkg_par2 = Parameter(\"background_cosi\",                                       # background parameter\n",
    "                    1,                                                        # initial value of parameter\n",
    "                    min_value=0,                                              # minimum value of parameter\n",
    "                    max_value=5,                                              # maximum value of parameter\n",
    "                    delta=0.05,                                               # initial step used by fitting engine\n",
    "                    desc=\"Background parameter for cosi\")\n",
    "\n",
    "cosi2 = COSILike(\"cosi\",                                                      # COSI 3ML plugin\n",
    "                dr = dr,                                                      # detector response\n",
    "                data = grb_bkg2,                                              # data \n",
    "                bkg = bkg2,                                                   # background model \n",
    "                sc_orientation = sc_orientation,                              # spacecraft orientation\n",
    "                nuisance_param = bkg_par2)                                    # background parameter"
   ]
  },
  {
   "cell_type": "markdown",
   "id": "51be7304-f0e7-4130-b888-5fa24c18c759",
   "metadata": {},
   "source": [
    "Define a point source at the known location with a power law spectrum and add it to the model"
   ]
  },
  {
   "cell_type": "code",
   "execution_count": 30,
   "id": "9ef11912-3cf6-44e2-afc1-83210f1de23a",
   "metadata": {},
   "outputs": [],
   "source": [
    "spectrum2 = Band()\n",
    "alpha = -1.                                        # Setting parameters to something reasonable helps the fitting to converge\n",
    "beta = -3.\n",
    "xp = 1000 * u.keV\n",
    "piv = 500 * u.keV\n",
    "K = 0.00247 / u.cm / u.cm / u.s / u.keV\n",
    "spectrum2.alpha.value = alpha\n",
    "spectrum2.beta.value = beta\n",
    "spectrum2.xp.value = xp.value\n",
    "spectrum2.K.value = K.value\n",
    "spectrum2.piv.value = piv.value\n",
    "spectrum2.xp.unit = xp.unit\n",
    "spectrum2.K.unit = K.unit\n",
    "spectrum2.piv.unit = piv.unit\n",
    "\n",
    "source2 = PointSource(\"source\",                    # Name of source (arbitrary, but needs to be unique)\n",
    "                     l = 51.,                      # Longitude (deg)\n",
    "                     b = -17.,                     # Latitude (deg)\n",
    "                     spectral_shape = spectrum2)   # Spectral model\n",
    "\n",
    "model2 = Model(source2)                             # Model with single source. If we had multiple sources, we would do Model(source1, source2, ...)\n",
    "\n",
    "# Optional: if you want to call get_log_like manually, then you also need to set the model manually\n",
    "# 3ML does this internally during the fit though\n",
    "cosi2.set_model(model2)"
   ]
  },
  {
   "cell_type": "markdown",
   "id": "0fea039f-c771-4d4a-9421-df4fbf59dfd4",
   "metadata": {},
   "source": [
    "Gather all plugins and combine with model in JointLikelihood object, then perform maximum likelihood fit"
   ]
  },
  {
   "cell_type": "code",
   "execution_count": 31,
   "id": "570634fb-46ed-4bfe-8ae9-5f667c4899c9",
   "metadata": {
    "scrolled": true,
    "tags": []
   },
   "outputs": [
    {
     "data": {
      "text/html": [
       "<pre style=\"white-space:pre;overflow-x:auto;line-height:normal;font-family:Menlo,'DejaVu Sans Mono',consolas,'Courier New',monospace\"><span style=\"color: #00ff00; text-decoration-color: #00ff00\">17:06:49 </span><span style=\"color: #00ffaf; text-decoration-color: #00ffaf\">INFO    </span> <span style=\"color: #c6c6c6; text-decoration-color: #c6c6c6; font-weight: bold\"> set the minimizer to minuit                                             </span><a href=\"file:///Users/eneights/opt/anaconda3/envs/cosipy/lib/python3.9/site-packages/threeML/classicMLE/joint_likelihood.py\" target=\"_blank\"><span style=\"color: #7f7f7f; text-decoration-color: #7f7f7f\">joint_likelihood.py</span></a><span style=\"color: #7f7f7f; text-decoration-color: #7f7f7f\">:</span><a href=\"file:///Users/eneights/opt/anaconda3/envs/cosipy/lib/python3.9/site-packages/threeML/classicMLE/joint_likelihood.py#1042\" target=\"_blank\"><span style=\"color: #7f7f7f; text-decoration-color: #7f7f7f\">1042</span></a>\n",
       "</pre>\n"
      ],
      "text/plain": [
       "\u001b[38;5;46m17:06:49\u001b[0m\u001b[38;5;46m \u001b[0m\u001b[38;5;49mINFO    \u001b[0m \u001b[1;38;5;251m set the minimizer to minuit                                            \u001b[0m\u001b[1;38;5;251m \u001b[0m\u001b]8;id=996190;file:///Users/eneights/opt/anaconda3/envs/cosipy/lib/python3.9/site-packages/threeML/classicMLE/joint_likelihood.py\u001b\\\u001b[2mjoint_likelihood.py\u001b[0m\u001b]8;;\u001b\\\u001b[2m:\u001b[0m\u001b]8;id=650768;file:///Users/eneights/opt/anaconda3/envs/cosipy/lib/python3.9/site-packages/threeML/classicMLE/joint_likelihood.py#1042\u001b\\\u001b[2m1042\u001b[0m\u001b]8;;\u001b\\\n"
      ]
     },
     "metadata": {},
     "output_type": "display_data"
    },
    {
     "name": "stderr",
     "output_type": "stream",
     "text": [
      "\n",
      "WARNING RuntimeWarning: divide by zero encountered in log\n",
      "\n",
      "\n",
      "WARNING RuntimeWarning: invalid value encountered in multiply\n",
      "\n",
      "\n",
      "WARNING RuntimeWarning: divide by zero encountered in log\n",
      "\n",
      "\n",
      "WARNING RuntimeWarning: invalid value encountered in multiply\n",
      "\n",
      "\n",
      "WARNING RuntimeWarning: divide by zero encountered in log\n",
      "\n",
      "\n",
      "WARNING RuntimeWarning: invalid value encountered in multiply\n",
      "\n",
      "\n",
      "WARNING RuntimeWarning: divide by zero encountered in log\n",
      "\n",
      "\n",
      "WARNING RuntimeWarning: invalid value encountered in multiply\n",
      "\n",
      "\n",
      "WARNING RuntimeWarning: divide by zero encountered in log\n",
      "\n",
      "\n",
      "WARNING RuntimeWarning: invalid value encountered in multiply\n",
      "\n",
      "\n",
      "WARNING RuntimeWarning: divide by zero encountered in log\n",
      "\n",
      "\n",
      "WARNING RuntimeWarning: invalid value encountered in multiply\n",
      "\n",
      "\n",
      "WARNING RuntimeWarning: divide by zero encountered in log\n",
      "\n",
      "\n",
      "WARNING RuntimeWarning: invalid value encountered in multiply\n",
      "\n",
      "\n",
      "WARNING RuntimeWarning: divide by zero encountered in log\n",
      "\n",
      "\n",
      "WARNING RuntimeWarning: invalid value encountered in multiply\n",
      "\n",
      "\n",
      "WARNING RuntimeWarning: divide by zero encountered in log\n",
      "\n",
      "\n",
      "WARNING RuntimeWarning: invalid value encountered in multiply\n",
      "\n",
      "\n",
      "WARNING RuntimeWarning: divide by zero encountered in log\n",
      "\n",
      "\n",
      "WARNING RuntimeWarning: invalid value encountered in multiply\n",
      "\n",
      "\n",
      "WARNING RuntimeWarning: divide by zero encountered in log\n",
      "\n",
      "\n",
      "WARNING RuntimeWarning: invalid value encountered in multiply\n",
      "\n",
      "\n",
      "WARNING RuntimeWarning: divide by zero encountered in log\n",
      "\n",
      "\n",
      "WARNING RuntimeWarning: invalid value encountered in multiply\n",
      "\n",
      "\n",
      "WARNING RuntimeWarning: divide by zero encountered in log\n",
      "\n",
      "\n",
      "WARNING RuntimeWarning: invalid value encountered in multiply\n",
      "\n",
      "\n",
      "WARNING RuntimeWarning: divide by zero encountered in log\n",
      "\n",
      "\n",
      "WARNING RuntimeWarning: invalid value encountered in multiply\n",
      "\n",
      "\n",
      "WARNING RuntimeWarning: divide by zero encountered in log\n",
      "\n",
      "\n",
      "WARNING RuntimeWarning: invalid value encountered in multiply\n",
      "\n",
      "\n",
      "WARNING RuntimeWarning: divide by zero encountered in log\n",
      "\n",
      "\n",
      "WARNING RuntimeWarning: invalid value encountered in multiply\n",
      "\n",
      "\n",
      "WARNING RuntimeWarning: divide by zero encountered in log\n",
      "\n",
      "\n",
      "WARNING RuntimeWarning: invalid value encountered in multiply\n",
      "\n",
      "\n",
      "WARNING RuntimeWarning: divide by zero encountered in log\n",
      "\n",
      "\n",
      "WARNING RuntimeWarning: invalid value encountered in multiply\n",
      "\n",
      "\n",
      "WARNING RuntimeWarning: divide by zero encountered in log\n",
      "\n",
      "\n",
      "WARNING RuntimeWarning: invalid value encountered in multiply\n",
      "\n",
      "\n",
      "WARNING RuntimeWarning: divide by zero encountered in log\n",
      "\n",
      "\n",
      "WARNING RuntimeWarning: invalid value encountered in multiply\n",
      "\n",
      "\n",
      "WARNING RuntimeWarning: divide by zero encountered in log\n",
      "\n",
      "\n",
      "WARNING RuntimeWarning: invalid value encountered in multiply\n",
      "\n",
      "\n",
      "WARNING RuntimeWarning: divide by zero encountered in log\n",
      "\n",
      "\n",
      "WARNING RuntimeWarning: invalid value encountered in multiply\n",
      "\n",
      "\n",
      "WARNING RuntimeWarning: divide by zero encountered in log\n",
      "\n",
      "\n",
      "WARNING RuntimeWarning: invalid value encountered in multiply\n",
      "\n",
      "\n",
      "WARNING RuntimeWarning: divide by zero encountered in log\n",
      "\n",
      "\n",
      "WARNING RuntimeWarning: invalid value encountered in multiply\n",
      "\n",
      "\n",
      "WARNING RuntimeWarning: divide by zero encountered in log\n",
      "\n",
      "\n",
      "WARNING RuntimeWarning: invalid value encountered in multiply\n",
      "\n",
      "\n",
      "WARNING RuntimeWarning: divide by zero encountered in log\n",
      "\n",
      "\n",
      "WARNING RuntimeWarning: invalid value encountered in multiply\n",
      "\n",
      "\n",
      "WARNING RuntimeWarning: divide by zero encountered in log\n",
      "\n",
      "\n",
      "WARNING RuntimeWarning: invalid value encountered in multiply\n",
      "\n",
      "\n",
      "WARNING RuntimeWarning: divide by zero encountered in log\n",
      "\n",
      "\n",
      "WARNING RuntimeWarning: invalid value encountered in multiply\n",
      "\n",
      "\n",
      "WARNING RuntimeWarning: divide by zero encountered in log\n",
      "\n",
      "\n",
      "WARNING RuntimeWarning: invalid value encountered in multiply\n",
      "\n",
      "\n",
      "WARNING RuntimeWarning: divide by zero encountered in log\n",
      "\n",
      "\n",
      "WARNING RuntimeWarning: invalid value encountered in multiply\n",
      "\n",
      "\n",
      "WARNING RuntimeWarning: divide by zero encountered in log\n",
      "\n",
      "\n",
      "WARNING RuntimeWarning: invalid value encountered in multiply\n",
      "\n",
      "\n",
      "WARNING RuntimeWarning: divide by zero encountered in log\n",
      "\n",
      "\n",
      "WARNING RuntimeWarning: invalid value encountered in multiply\n",
      "\n",
      "\n",
      "WARNING RuntimeWarning: divide by zero encountered in log\n",
      "\n",
      "\n",
      "WARNING RuntimeWarning: invalid value encountered in multiply\n",
      "\n",
      "\n",
      "WARNING RuntimeWarning: divide by zero encountered in log\n",
      "\n",
      "\n",
      "WARNING RuntimeWarning: invalid value encountered in multiply\n",
      "\n",
      "\n",
      "WARNING RuntimeWarning: divide by zero encountered in log\n",
      "\n",
      "\n",
      "WARNING RuntimeWarning: invalid value encountered in multiply\n",
      "\n",
      "\n",
      "WARNING RuntimeWarning: divide by zero encountered in log\n",
      "\n",
      "\n",
      "WARNING RuntimeWarning: invalid value encountered in multiply\n",
      "\n",
      "\n",
      "WARNING RuntimeWarning: divide by zero encountered in log\n",
      "\n",
      "\n",
      "WARNING RuntimeWarning: invalid value encountered in multiply\n",
      "\n",
      "\n",
      "WARNING RuntimeWarning: divide by zero encountered in log\n",
      "\n",
      "\n",
      "WARNING RuntimeWarning: invalid value encountered in multiply\n",
      "\n",
      "\n",
      "WARNING RuntimeWarning: divide by zero encountered in log\n",
      "\n",
      "\n",
      "WARNING RuntimeWarning: invalid value encountered in multiply\n",
      "\n",
      "\n",
      "WARNING RuntimeWarning: divide by zero encountered in log\n",
      "\n",
      "\n",
      "WARNING RuntimeWarning: invalid value encountered in multiply\n",
      "\n",
      "\n",
      "WARNING RuntimeWarning: divide by zero encountered in log\n",
      "\n",
      "\n",
      "WARNING RuntimeWarning: invalid value encountered in multiply\n",
      "\n",
      "\n",
      "WARNING RuntimeWarning: divide by zero encountered in log\n",
      "\n",
      "\n",
      "WARNING RuntimeWarning: invalid value encountered in multiply\n",
      "\n",
      "\n",
      "WARNING RuntimeWarning: divide by zero encountered in log\n",
      "\n",
      "\n",
      "WARNING RuntimeWarning: invalid value encountered in multiply\n",
      "\n",
      "\n",
      "WARNING RuntimeWarning: divide by zero encountered in log\n",
      "\n",
      "\n",
      "WARNING RuntimeWarning: invalid value encountered in multiply\n",
      "\n",
      "\n",
      "WARNING RuntimeWarning: divide by zero encountered in log\n",
      "\n",
      "\n",
      "WARNING RuntimeWarning: invalid value encountered in multiply\n",
      "\n",
      "\n",
      "WARNING RuntimeWarning: divide by zero encountered in log\n",
      "\n",
      "\n",
      "WARNING RuntimeWarning: invalid value encountered in multiply\n",
      "\n",
      "\n",
      "WARNING RuntimeWarning: divide by zero encountered in log\n",
      "\n",
      "\n",
      "WARNING RuntimeWarning: invalid value encountered in multiply\n",
      "\n",
      "\n",
      "WARNING RuntimeWarning: divide by zero encountered in log\n",
      "\n",
      "\n",
      "WARNING RuntimeWarning: invalid value encountered in multiply\n",
      "\n",
      "\n",
      "WARNING RuntimeWarning: divide by zero encountered in log\n",
      "\n",
      "\n",
      "WARNING RuntimeWarning: invalid value encountered in multiply\n",
      "\n",
      "\n",
      "WARNING RuntimeWarning: divide by zero encountered in log\n",
      "\n",
      "\n",
      "WARNING RuntimeWarning: invalid value encountered in multiply\n",
      "\n",
      "\n",
      "WARNING RuntimeWarning: divide by zero encountered in log\n",
      "\n",
      "\n",
      "WARNING RuntimeWarning: invalid value encountered in multiply\n",
      "\n",
      "\n",
      "WARNING RuntimeWarning: divide by zero encountered in log\n",
      "\n",
      "\n",
      "WARNING RuntimeWarning: invalid value encountered in multiply\n",
      "\n",
      "\n",
      "WARNING RuntimeWarning: divide by zero encountered in log\n",
      "\n",
      "\n",
      "WARNING RuntimeWarning: invalid value encountered in multiply\n",
      "\n",
      "\n",
      "WARNING RuntimeWarning: divide by zero encountered in log\n",
      "\n",
      "\n",
      "WARNING RuntimeWarning: invalid value encountered in multiply\n",
      "\n",
      "\n",
      "WARNING RuntimeWarning: divide by zero encountered in log\n",
      "\n",
      "\n",
      "WARNING RuntimeWarning: invalid value encountered in multiply\n",
      "\n",
      "\n",
      "WARNING RuntimeWarning: divide by zero encountered in log\n",
      "\n",
      "\n",
      "WARNING RuntimeWarning: invalid value encountered in multiply\n",
      "\n",
      "\n",
      "WARNING RuntimeWarning: divide by zero encountered in log\n",
      "\n",
      "\n",
      "WARNING RuntimeWarning: invalid value encountered in multiply\n",
      "\n",
      "\n",
      "WARNING RuntimeWarning: divide by zero encountered in log\n",
      "\n",
      "\n",
      "WARNING RuntimeWarning: invalid value encountered in multiply\n",
      "\n",
      "\n",
      "WARNING RuntimeWarning: divide by zero encountered in log\n",
      "\n",
      "\n",
      "WARNING RuntimeWarning: invalid value encountered in multiply\n",
      "\n",
      "\n",
      "WARNING RuntimeWarning: divide by zero encountered in log\n",
      "\n",
      "\n",
      "WARNING RuntimeWarning: invalid value encountered in multiply\n",
      "\n",
      "\n",
      "WARNING RuntimeWarning: divide by zero encountered in log\n",
      "\n",
      "\n",
      "WARNING RuntimeWarning: invalid value encountered in multiply\n",
      "\n",
      "\n",
      "WARNING RuntimeWarning: divide by zero encountered in log\n",
      "\n",
      "\n",
      "WARNING RuntimeWarning: invalid value encountered in multiply\n",
      "\n",
      "\n",
      "WARNING RuntimeWarning: divide by zero encountered in log\n",
      "\n",
      "\n",
      "WARNING RuntimeWarning: invalid value encountered in multiply\n",
      "\n",
      "\n",
      "WARNING RuntimeWarning: divide by zero encountered in log\n",
      "\n",
      "\n",
      "WARNING RuntimeWarning: invalid value encountered in multiply\n",
      "\n",
      "\n",
      "WARNING RuntimeWarning: divide by zero encountered in log\n",
      "\n",
      "\n",
      "WARNING RuntimeWarning: invalid value encountered in multiply\n",
      "\n",
      "\n",
      "WARNING RuntimeWarning: divide by zero encountered in log\n",
      "\n",
      "\n",
      "WARNING RuntimeWarning: invalid value encountered in multiply\n",
      "\n",
      "\n",
      "WARNING RuntimeWarning: divide by zero encountered in log\n",
      "\n",
      "\n",
      "WARNING RuntimeWarning: invalid value encountered in multiply\n",
      "\n",
      "\n",
      "WARNING RuntimeWarning: divide by zero encountered in log\n",
      "\n",
      "\n",
      "WARNING RuntimeWarning: invalid value encountered in multiply\n",
      "\n",
      "\n",
      "WARNING RuntimeWarning: divide by zero encountered in log\n",
      "\n",
      "\n",
      "WARNING RuntimeWarning: invalid value encountered in multiply\n",
      "\n",
      "\n",
      "WARNING RuntimeWarning: divide by zero encountered in log\n",
      "\n",
      "\n",
      "WARNING RuntimeWarning: invalid value encountered in multiply\n",
      "\n",
      "\n",
      "WARNING RuntimeWarning: divide by zero encountered in log\n",
      "\n",
      "\n",
      "WARNING RuntimeWarning: invalid value encountered in multiply\n",
      "\n",
      "\n",
      "WARNING RuntimeWarning: divide by zero encountered in log\n",
      "\n",
      "\n",
      "WARNING RuntimeWarning: invalid value encountered in multiply\n",
      "\n",
      "\n",
      "WARNING RuntimeWarning: divide by zero encountered in log\n",
      "\n",
      "\n",
      "WARNING RuntimeWarning: invalid value encountered in multiply\n",
      "\n",
      "\n",
      "WARNING RuntimeWarning: divide by zero encountered in log\n",
      "\n",
      "\n",
      "WARNING RuntimeWarning: invalid value encountered in multiply\n",
      "\n",
      "\n",
      "WARNING RuntimeWarning: divide by zero encountered in log\n",
      "\n",
      "\n",
      "WARNING RuntimeWarning: invalid value encountered in multiply\n",
      "\n",
      "\n",
      "WARNING RuntimeWarning: divide by zero encountered in log\n",
      "\n",
      "\n",
      "WARNING RuntimeWarning: invalid value encountered in multiply\n",
      "\n",
      "\n",
      "WARNING RuntimeWarning: divide by zero encountered in log\n",
      "\n",
      "\n",
      "WARNING RuntimeWarning: invalid value encountered in multiply\n",
      "\n",
      "\n",
      "WARNING RuntimeWarning: divide by zero encountered in log\n",
      "\n",
      "\n",
      "WARNING RuntimeWarning: invalid value encountered in multiply\n",
      "\n",
      "\n",
      "WARNING RuntimeWarning: divide by zero encountered in log\n",
      "\n",
      "\n",
      "WARNING RuntimeWarning: invalid value encountered in multiply\n",
      "\n",
      "\n",
      "WARNING RuntimeWarning: divide by zero encountered in log\n",
      "\n",
      "\n",
      "WARNING RuntimeWarning: invalid value encountered in multiply\n",
      "\n",
      "\n",
      "WARNING RuntimeWarning: divide by zero encountered in log\n",
      "\n",
      "\n",
      "WARNING RuntimeWarning: invalid value encountered in multiply\n",
      "\n",
      "\n",
      "WARNING RuntimeWarning: divide by zero encountered in log\n",
      "\n",
      "\n",
      "WARNING RuntimeWarning: invalid value encountered in multiply\n",
      "\n",
      "\n",
      "WARNING RuntimeWarning: divide by zero encountered in log\n",
      "\n",
      "\n",
      "WARNING RuntimeWarning: invalid value encountered in multiply\n",
      "\n",
      "\n",
      "WARNING RuntimeWarning: divide by zero encountered in log\n",
      "\n",
      "\n",
      "WARNING RuntimeWarning: invalid value encountered in multiply\n",
      "\n",
      "\n",
      "WARNING RuntimeWarning: divide by zero encountered in log\n",
      "\n",
      "\n",
      "WARNING RuntimeWarning: invalid value encountered in multiply\n",
      "\n",
      "\n",
      "WARNING RuntimeWarning: divide by zero encountered in log\n",
      "\n",
      "\n",
      "WARNING RuntimeWarning: invalid value encountered in multiply\n",
      "\n",
      "\n",
      "WARNING RuntimeWarning: divide by zero encountered in log\n",
      "\n",
      "\n",
      "WARNING RuntimeWarning: invalid value encountered in multiply\n",
      "\n",
      "\n",
      "WARNING RuntimeWarning: divide by zero encountered in log\n",
      "\n",
      "\n",
      "WARNING RuntimeWarning: invalid value encountered in multiply\n",
      "\n",
      "\n",
      "WARNING RuntimeWarning: divide by zero encountered in log\n",
      "\n",
      "\n",
      "WARNING RuntimeWarning: invalid value encountered in multiply\n",
      "\n",
      "\n",
      "WARNING RuntimeWarning: divide by zero encountered in log\n",
      "\n",
      "\n",
      "WARNING RuntimeWarning: invalid value encountered in multiply\n",
      "\n",
      "\n",
      "WARNING RuntimeWarning: divide by zero encountered in log\n",
      "\n",
      "\n",
      "WARNING RuntimeWarning: invalid value encountered in multiply\n",
      "\n",
      "\n",
      "WARNING RuntimeWarning: divide by zero encountered in log\n",
      "\n",
      "\n",
      "WARNING RuntimeWarning: invalid value encountered in multiply\n",
      "\n",
      "\n",
      "WARNING RuntimeWarning: divide by zero encountered in log\n",
      "\n",
      "\n",
      "WARNING RuntimeWarning: invalid value encountered in multiply\n",
      "\n",
      "\n",
      "WARNING RuntimeWarning: divide by zero encountered in log\n",
      "\n",
      "\n",
      "WARNING RuntimeWarning: invalid value encountered in multiply\n",
      "\n",
      "\n",
      "WARNING RuntimeWarning: divide by zero encountered in log\n",
      "\n",
      "\n",
      "WARNING RuntimeWarning: invalid value encountered in multiply\n",
      "\n",
      "\n",
      "WARNING RuntimeWarning: divide by zero encountered in log\n",
      "\n",
      "\n",
      "WARNING RuntimeWarning: invalid value encountered in multiply\n",
      "\n",
      "\n",
      "WARNING RuntimeWarning: divide by zero encountered in log\n",
      "\n",
      "\n",
      "WARNING RuntimeWarning: invalid value encountered in multiply\n",
      "\n",
      "\n",
      "WARNING RuntimeWarning: divide by zero encountered in log\n",
      "\n",
      "\n",
      "WARNING RuntimeWarning: invalid value encountered in multiply\n",
      "\n",
      "\n",
      "WARNING RuntimeWarning: divide by zero encountered in log\n",
      "\n",
      "\n",
      "WARNING RuntimeWarning: invalid value encountered in multiply\n",
      "\n",
      "\n",
      "WARNING RuntimeWarning: divide by zero encountered in log\n",
      "\n",
      "\n",
      "WARNING RuntimeWarning: invalid value encountered in multiply\n",
      "\n",
      "\n",
      "WARNING RuntimeWarning: divide by zero encountered in log\n",
      "\n",
      "\n",
      "WARNING RuntimeWarning: invalid value encountered in multiply\n",
      "\n",
      "\n",
      "WARNING RuntimeWarning: divide by zero encountered in log\n",
      "\n",
      "\n",
      "WARNING RuntimeWarning: invalid value encountered in multiply\n",
      "\n",
      "\n",
      "WARNING RuntimeWarning: divide by zero encountered in log\n",
      "\n",
      "\n",
      "WARNING RuntimeWarning: invalid value encountered in multiply\n",
      "\n",
      "\n",
      "WARNING RuntimeWarning: divide by zero encountered in log\n",
      "\n",
      "\n",
      "WARNING RuntimeWarning: invalid value encountered in multiply\n",
      "\n",
      "\n",
      "WARNING RuntimeWarning: divide by zero encountered in log\n",
      "\n",
      "\n",
      "WARNING RuntimeWarning: invalid value encountered in multiply\n",
      "\n",
      "\n",
      "WARNING RuntimeWarning: divide by zero encountered in log\n",
      "\n",
      "\n",
      "WARNING RuntimeWarning: invalid value encountered in multiply\n",
      "\n",
      "\n",
      "WARNING RuntimeWarning: divide by zero encountered in log\n",
      "\n",
      "\n",
      "WARNING RuntimeWarning: invalid value encountered in multiply\n",
      "\n",
      "\n",
      "WARNING RuntimeWarning: divide by zero encountered in log\n",
      "\n",
      "\n",
      "WARNING RuntimeWarning: invalid value encountered in multiply\n",
      "\n",
      "\n",
      "WARNING RuntimeWarning: divide by zero encountered in log\n",
      "\n",
      "\n",
      "WARNING RuntimeWarning: invalid value encountered in multiply\n",
      "\n"
     ]
    },
    {
     "data": {
      "text/html": [
       "<pre style=\"white-space:pre;overflow-x:auto;line-height:normal;font-family:Menlo,'DejaVu Sans Mono',consolas,'Courier New',monospace\"><span style=\"color: #00ff00; text-decoration-color: #00ff00\">17:06:57 </span><span style=\"color: #af5fd7; text-decoration-color: #af5fd7\">WARNING </span> <span style=\"color: #c6c6c6; text-decoration-color: #c6c6c6; font-weight: bold\"> get_number_of_data_points not implemented, values for statistical        </span><a href=\"file:///Users/eneights/opt/anaconda3/envs/cosipy/lib/python3.9/site-packages/threeML/plugin_prototype.py\" target=\"_blank\"><span style=\"color: #7f7f7f; text-decoration-color: #7f7f7f\">plugin_prototype.py</span></a><span style=\"color: #7f7f7f; text-decoration-color: #7f7f7f\">:</span><a href=\"file:///Users/eneights/opt/anaconda3/envs/cosipy/lib/python3.9/site-packages/threeML/plugin_prototype.py#128\" target=\"_blank\"><span style=\"color: #7f7f7f; text-decoration-color: #7f7f7f\">128</span></a>\n",
       "<span style=\"color: #00ff00; text-decoration-color: #00ff00\">         </span>         <span style=\"color: #c6c6c6; text-decoration-color: #c6c6c6; font-weight: bold\">measurements such as AIC or BIC are unreliable                            </span><span style=\"color: #7f7f7f; text-decoration-color: #7f7f7f\">                       </span>\n",
       "</pre>\n"
      ],
      "text/plain": [
       "\u001b[38;5;46m17:06:57\u001b[0m\u001b[38;5;46m \u001b[0m\u001b[38;5;134mWARNING \u001b[0m \u001b[1;38;5;251m get_number_of_data_points not implemented, values for statistical       \u001b[0m\u001b[1;38;5;251m \u001b[0m\u001b]8;id=591195;file:///Users/eneights/opt/anaconda3/envs/cosipy/lib/python3.9/site-packages/threeML/plugin_prototype.py\u001b\\\u001b[2mplugin_prototype.py\u001b[0m\u001b]8;;\u001b\\\u001b[2m:\u001b[0m\u001b]8;id=444323;file:///Users/eneights/opt/anaconda3/envs/cosipy/lib/python3.9/site-packages/threeML/plugin_prototype.py#128\u001b\\\u001b[2m128\u001b[0m\u001b]8;;\u001b\\\n",
       "\u001b[38;5;46m         \u001b[0m         \u001b[1;38;5;251mmeasurements such as AIC or BIC are unreliable                           \u001b[0m\u001b[1;38;5;251m \u001b[0m\u001b[2m                       \u001b[0m\n"
      ]
     },
     "metadata": {},
     "output_type": "display_data"
    },
    {
     "data": {
      "text/html": [
       "<pre style=\"white-space:pre;overflow-x:auto;line-height:normal;font-family:Menlo,'DejaVu Sans Mono',consolas,'Courier New',monospace\"><span style=\"color: #00ffaf; text-decoration-color: #00ffaf; font-weight: bold; text-decoration: underline\">Best fit values:</span>\n",
       "\n",
       "</pre>\n"
      ],
      "text/plain": [
       "\u001b[1;4;38;5;49mBest fit values:\u001b[0m\n",
       "\n"
      ]
     },
     "metadata": {},
     "output_type": "display_data"
    },
    {
     "data": {
      "text/html": [
       "<div>\n",
       "<style scoped>\n",
       "    .dataframe tbody tr th:only-of-type {\n",
       "        vertical-align: middle;\n",
       "    }\n",
       "\n",
       "    .dataframe tbody tr th {\n",
       "        vertical-align: top;\n",
       "    }\n",
       "\n",
       "    .dataframe thead th {\n",
       "        text-align: right;\n",
       "    }\n",
       "</style>\n",
       "<table border=\"1\" class=\"dataframe\">\n",
       "  <thead>\n",
       "    <tr style=\"text-align: right;\">\n",
       "      <th></th>\n",
       "      <th>result</th>\n",
       "      <th>unit</th>\n",
       "    </tr>\n",
       "    <tr>\n",
       "      <th>parameter</th>\n",
       "      <th></th>\n",
       "      <th></th>\n",
       "    </tr>\n",
       "  </thead>\n",
       "  <tbody>\n",
       "    <tr>\n",
       "      <th>source.spectrum.main.Band.K</th>\n",
       "      <td>(2.47 -0.05 +0.06) x 10^-3</td>\n",
       "      <td>1 / (cm2 keV s)</td>\n",
       "    </tr>\n",
       "    <tr>\n",
       "      <th>source.spectrum.main.Band.alpha</th>\n",
       "      <td>-1.000 +/- 0.020</td>\n",
       "      <td></td>\n",
       "    </tr>\n",
       "    <tr>\n",
       "      <th>source.spectrum.main.Band.xp</th>\n",
       "      <td>(1.000 -0.017 +0.018) x 10^3</td>\n",
       "      <td>keV</td>\n",
       "    </tr>\n",
       "    <tr>\n",
       "      <th>source.spectrum.main.Band.beta</th>\n",
       "      <td>-3.00 +/- 0.12</td>\n",
       "      <td></td>\n",
       "    </tr>\n",
       "    <tr>\n",
       "      <th>background_cosi</th>\n",
       "      <td>1.00 +/- 0.16</td>\n",
       "      <td></td>\n",
       "    </tr>\n",
       "  </tbody>\n",
       "</table>\n",
       "</div>"
      ],
      "text/plain": [
       "                                                       result             unit\n",
       "parameter                                                                     \n",
       "source.spectrum.main.Band.K        (2.47 -0.05 +0.06) x 10^-3  1 / (cm2 keV s)\n",
       "source.spectrum.main.Band.alpha              -1.000 +/- 0.020                 \n",
       "source.spectrum.main.Band.xp     (1.000 -0.017 +0.018) x 10^3              keV\n",
       "source.spectrum.main.Band.beta                 -3.00 +/- 0.12                 \n",
       "background_cosi                                 1.00 +/- 0.16                 "
      ]
     },
     "metadata": {},
     "output_type": "display_data"
    },
    {
     "data": {
      "text/html": [
       "<pre style=\"white-space:pre;overflow-x:auto;line-height:normal;font-family:Menlo,'DejaVu Sans Mono',consolas,'Courier New',monospace\">\n",
       "<span style=\"color: #00ffaf; text-decoration-color: #00ffaf; font-weight: bold; text-decoration: underline\">Correlation matrix:</span>\n",
       "\n",
       "</pre>\n"
      ],
      "text/plain": [
       "\n",
       "\u001b[1;4;38;5;49mCorrelation matrix:\u001b[0m\n",
       "\n"
      ]
     },
     "metadata": {},
     "output_type": "display_data"
    },
    {
     "data": {
      "text/html": [
       "<div><table id=\"table11243054320\">\n",
       "<tr><td>1.00</td><td>0.94</td><td>-0.90</td><td>0.53</td><td>-0.05</td></tr>\n",
       "<tr><td>0.94</td><td>1.00</td><td>-0.77</td><td>0.46</td><td>0.09</td></tr>\n",
       "<tr><td>-0.90</td><td>-0.77</td><td>1.00</td><td>-0.62</td><td>0.00</td></tr>\n",
       "<tr><td>0.53</td><td>0.46</td><td>-0.62</td><td>1.00</td><td>-0.02</td></tr>\n",
       "<tr><td>-0.05</td><td>0.09</td><td>0.00</td><td>-0.02</td><td>1.00</td></tr>\n",
       "</table></div>"
      ],
      "text/plain": [
       " 1.00  0.94 -0.90  0.53 -0.05\n",
       " 0.94  1.00 -0.77  0.46  0.09\n",
       "-0.90 -0.77  1.00 -0.62  0.00\n",
       " 0.53  0.46 -0.62  1.00 -0.02\n",
       "-0.05  0.09  0.00 -0.02  1.00"
      ]
     },
     "metadata": {},
     "output_type": "display_data"
    },
    {
     "data": {
      "text/html": [
       "<pre style=\"white-space:pre;overflow-x:auto;line-height:normal;font-family:Menlo,'DejaVu Sans Mono',consolas,'Courier New',monospace\">\n",
       "<span style=\"color: #00ffaf; text-decoration-color: #00ffaf; font-weight: bold; text-decoration: underline\">Values of -log(likelihood) at the minimum:</span>\n",
       "\n",
       "</pre>\n"
      ],
      "text/plain": [
       "\n",
       "\u001b[1;4;38;5;49mValues of -\u001b[0m\u001b[1;4;38;5;49mlog\u001b[0m\u001b[1;4;38;5;49m(\u001b[0m\u001b[1;4;38;5;49mlikelihood\u001b[0m\u001b[1;4;38;5;49m)\u001b[0m\u001b[1;4;38;5;49m at the minimum:\u001b[0m\n",
       "\n"
      ]
     },
     "metadata": {},
     "output_type": "display_data"
    },
    {
     "data": {
      "text/html": [
       "<div>\n",
       "<style scoped>\n",
       "    .dataframe tbody tr th:only-of-type {\n",
       "        vertical-align: middle;\n",
       "    }\n",
       "\n",
       "    .dataframe tbody tr th {\n",
       "        vertical-align: top;\n",
       "    }\n",
       "\n",
       "    .dataframe thead th {\n",
       "        text-align: right;\n",
       "    }\n",
       "</style>\n",
       "<table border=\"1\" class=\"dataframe\">\n",
       "  <thead>\n",
       "    <tr style=\"text-align: right;\">\n",
       "      <th></th>\n",
       "      <th>-log(likelihood)</th>\n",
       "    </tr>\n",
       "  </thead>\n",
       "  <tbody>\n",
       "    <tr>\n",
       "      <th>cosi</th>\n",
       "      <td>-25804.500658</td>\n",
       "    </tr>\n",
       "    <tr>\n",
       "      <th>total</th>\n",
       "      <td>-25804.500658</td>\n",
       "    </tr>\n",
       "  </tbody>\n",
       "</table>\n",
       "</div>"
      ],
      "text/plain": [
       "       -log(likelihood)\n",
       "cosi      -25804.500658\n",
       "total     -25804.500658"
      ]
     },
     "metadata": {},
     "output_type": "display_data"
    },
    {
     "data": {
      "text/html": [
       "<pre style=\"white-space:pre;overflow-x:auto;line-height:normal;font-family:Menlo,'DejaVu Sans Mono',consolas,'Courier New',monospace\">\n",
       "<span style=\"color: #00ffaf; text-decoration-color: #00ffaf; font-weight: bold; text-decoration: underline\">Values of statistical measures:</span>\n",
       "\n",
       "</pre>\n"
      ],
      "text/plain": [
       "\n",
       "\u001b[1;4;38;5;49mValues of statistical measures:\u001b[0m\n",
       "\n"
      ]
     },
     "metadata": {},
     "output_type": "display_data"
    },
    {
     "data": {
      "text/html": [
       "<div>\n",
       "<style scoped>\n",
       "    .dataframe tbody tr th:only-of-type {\n",
       "        vertical-align: middle;\n",
       "    }\n",
       "\n",
       "    .dataframe tbody tr th {\n",
       "        vertical-align: top;\n",
       "    }\n",
       "\n",
       "    .dataframe thead th {\n",
       "        text-align: right;\n",
       "    }\n",
       "</style>\n",
       "<table border=\"1\" class=\"dataframe\">\n",
       "  <thead>\n",
       "    <tr style=\"text-align: right;\">\n",
       "      <th></th>\n",
       "      <th>statistical measures</th>\n",
       "    </tr>\n",
       "  </thead>\n",
       "  <tbody>\n",
       "    <tr>\n",
       "      <th>AIC</th>\n",
       "      <td>-51611.001317</td>\n",
       "    </tr>\n",
       "    <tr>\n",
       "      <th>BIC</th>\n",
       "      <td>-51609.001317</td>\n",
       "    </tr>\n",
       "  </tbody>\n",
       "</table>\n",
       "</div>"
      ],
      "text/plain": [
       "     statistical measures\n",
       "AIC         -51611.001317\n",
       "BIC         -51609.001317"
      ]
     },
     "metadata": {},
     "output_type": "display_data"
    },
    {
     "data": {
      "text/plain": [
       "(                                      value  negative_error  positive_error  \\\n",
       " source.spectrum.main.Band.K         0.00247       -0.000055        0.000055   \n",
       " source.spectrum.main.Band.alpha    -1.00000       -0.019215        0.019117   \n",
       " source.spectrum.main.Band.xp     1000.00000      -17.048129       17.510390   \n",
       " source.spectrum.main.Band.beta     -3.00000       -0.120826        0.119061   \n",
       " background_cosi                     1.00000       -0.157846        0.164867   \n",
       " \n",
       "                                      error             unit  \n",
       " source.spectrum.main.Band.K       0.000055  1 / (cm2 keV s)  \n",
       " source.spectrum.main.Band.alpha   0.019166                   \n",
       " source.spectrum.main.Band.xp     17.279260              keV  \n",
       " source.spectrum.main.Band.beta    0.119943                   \n",
       " background_cosi                   0.161357                   ,\n",
       "        -log(likelihood)\n",
       " cosi      -25804.500658\n",
       " total     -25804.500658)"
      ]
     },
     "execution_count": 31,
     "metadata": {},
     "output_type": "execute_result"
    }
   ],
   "source": [
    "plugins2 = DataList(cosi2) # If we had multiple instruments, we would do e.g. DataList(cosi, lat, hawc, ...)\n",
    "\n",
    "like2 = JointLikelihood(model2, plugins2, verbose = False)\n",
    "\n",
    "like2.fit()"
   ]
  },
  {
   "cell_type": "markdown",
   "id": "81922edd-a15f-4c00-b026-a67dc873752a",
   "metadata": {},
   "source": [
    "## 3ML error propagation and plotting (source injector)"
   ]
  },
  {
   "cell_type": "markdown",
   "id": "9f380727-dfff-487f-87ac-ea400807bffd",
   "metadata": {},
   "source": [
    "Define injected spectral parameters "
   ]
  },
  {
   "cell_type": "code",
   "execution_count": 32,
   "id": "6496bbad-bd98-4972-8be8-a8c965685542",
   "metadata": {},
   "outputs": [],
   "source": [
    "K_inj2 = 0.00247     # 1/keV/cm2/s\n",
    "piv_inj2 = 500.      # keV\n",
    "alpha_inj2 = -1.\n",
    "beta_inj2 = -3.\n",
    "xp_inj2 = 1000.      # keV "
   ]
  },
  {
   "cell_type": "markdown",
   "id": "73d1add7-8dd6-43e7-84ff-56203d9b01c8",
   "metadata": {},
   "source": [
    "The summary of the results above tell you the optimal values of the parameters, as well as the errors. You typically want to propagate these into the error in the flux at different energies, and plot the spectrum. Let's do that:"
   ]
  },
  {
   "cell_type": "code",
   "execution_count": 33,
   "id": "79cc2097-e59f-4b7d-920a-b9964b3fec9a",
   "metadata": {
    "scrolled": true,
    "tags": []
   },
   "outputs": [
    {
     "data": {
      "text/html": [
       "<pre style=\"white-space:pre;overflow-x:auto;line-height:normal;font-family:Menlo,'DejaVu Sans Mono',consolas,'Courier New',monospace\"><span style=\"color: #00ffaf; text-decoration-color: #00ffaf; font-weight: bold; text-decoration: underline\">Best fit values:</span>\n",
       "\n",
       "</pre>\n"
      ],
      "text/plain": [
       "\u001b[1;4;38;5;49mBest fit values:\u001b[0m\n",
       "\n"
      ]
     },
     "metadata": {},
     "output_type": "display_data"
    },
    {
     "data": {
      "text/html": [
       "<div>\n",
       "<style scoped>\n",
       "    .dataframe tbody tr th:only-of-type {\n",
       "        vertical-align: middle;\n",
       "    }\n",
       "\n",
       "    .dataframe tbody tr th {\n",
       "        vertical-align: top;\n",
       "    }\n",
       "\n",
       "    .dataframe thead th {\n",
       "        text-align: right;\n",
       "    }\n",
       "</style>\n",
       "<table border=\"1\" class=\"dataframe\">\n",
       "  <thead>\n",
       "    <tr style=\"text-align: right;\">\n",
       "      <th></th>\n",
       "      <th>result</th>\n",
       "      <th>unit</th>\n",
       "    </tr>\n",
       "    <tr>\n",
       "      <th>parameter</th>\n",
       "      <th></th>\n",
       "      <th></th>\n",
       "    </tr>\n",
       "  </thead>\n",
       "  <tbody>\n",
       "    <tr>\n",
       "      <th>source.spectrum.main.Band.K</th>\n",
       "      <td>(2.47 -0.05 +0.06) x 10^-3</td>\n",
       "      <td>1 / (cm2 keV s)</td>\n",
       "    </tr>\n",
       "    <tr>\n",
       "      <th>source.spectrum.main.Band.alpha</th>\n",
       "      <td>-1.000 +/- 0.020</td>\n",
       "      <td></td>\n",
       "    </tr>\n",
       "    <tr>\n",
       "      <th>source.spectrum.main.Band.xp</th>\n",
       "      <td>(1.000 -0.017 +0.018) x 10^3</td>\n",
       "      <td>keV</td>\n",
       "    </tr>\n",
       "    <tr>\n",
       "      <th>source.spectrum.main.Band.beta</th>\n",
       "      <td>-3.00 +/- 0.12</td>\n",
       "      <td></td>\n",
       "    </tr>\n",
       "    <tr>\n",
       "      <th>background_cosi</th>\n",
       "      <td>1.00 +/- 0.16</td>\n",
       "      <td></td>\n",
       "    </tr>\n",
       "  </tbody>\n",
       "</table>\n",
       "</div>"
      ],
      "text/plain": [
       "                                                       result             unit\n",
       "parameter                                                                     \n",
       "source.spectrum.main.Band.K        (2.47 -0.05 +0.06) x 10^-3  1 / (cm2 keV s)\n",
       "source.spectrum.main.Band.alpha              -1.000 +/- 0.020                 \n",
       "source.spectrum.main.Band.xp     (1.000 -0.017 +0.018) x 10^3              keV\n",
       "source.spectrum.main.Band.beta                 -3.00 +/- 0.12                 \n",
       "background_cosi                                 1.00 +/- 0.16                 "
      ]
     },
     "metadata": {},
     "output_type": "display_data"
    },
    {
     "data": {
      "text/html": [
       "<pre style=\"white-space:pre;overflow-x:auto;line-height:normal;font-family:Menlo,'DejaVu Sans Mono',consolas,'Courier New',monospace\">\n",
       "<span style=\"color: #00ffaf; text-decoration-color: #00ffaf; font-weight: bold; text-decoration: underline\">Correlation matrix:</span>\n",
       "\n",
       "</pre>\n"
      ],
      "text/plain": [
       "\n",
       "\u001b[1;4;38;5;49mCorrelation matrix:\u001b[0m\n",
       "\n"
      ]
     },
     "metadata": {},
     "output_type": "display_data"
    },
    {
     "data": {
      "text/html": [
       "<div><table id=\"table11243183984\">\n",
       "<tr><td>1.00</td><td>0.94</td><td>-0.90</td><td>0.53</td><td>-0.05</td></tr>\n",
       "<tr><td>0.94</td><td>1.00</td><td>-0.77</td><td>0.46</td><td>0.09</td></tr>\n",
       "<tr><td>-0.90</td><td>-0.77</td><td>1.00</td><td>-0.62</td><td>0.00</td></tr>\n",
       "<tr><td>0.53</td><td>0.46</td><td>-0.62</td><td>1.00</td><td>-0.02</td></tr>\n",
       "<tr><td>-0.05</td><td>0.09</td><td>0.00</td><td>-0.02</td><td>1.00</td></tr>\n",
       "</table></div>"
      ],
      "text/plain": [
       " 1.00  0.94 -0.90  0.53 -0.05\n",
       " 0.94  1.00 -0.77  0.46  0.09\n",
       "-0.90 -0.77  1.00 -0.62  0.00\n",
       " 0.53  0.46 -0.62  1.00 -0.02\n",
       "-0.05  0.09  0.00 -0.02  1.00"
      ]
     },
     "metadata": {},
     "output_type": "display_data"
    },
    {
     "data": {
      "text/html": [
       "<pre style=\"white-space:pre;overflow-x:auto;line-height:normal;font-family:Menlo,'DejaVu Sans Mono',consolas,'Courier New',monospace\">\n",
       "<span style=\"color: #00ffaf; text-decoration-color: #00ffaf; font-weight: bold; text-decoration: underline\">Values of -log(likelihood) at the minimum:</span>\n",
       "\n",
       "</pre>\n"
      ],
      "text/plain": [
       "\n",
       "\u001b[1;4;38;5;49mValues of -\u001b[0m\u001b[1;4;38;5;49mlog\u001b[0m\u001b[1;4;38;5;49m(\u001b[0m\u001b[1;4;38;5;49mlikelihood\u001b[0m\u001b[1;4;38;5;49m)\u001b[0m\u001b[1;4;38;5;49m at the minimum:\u001b[0m\n",
       "\n"
      ]
     },
     "metadata": {},
     "output_type": "display_data"
    },
    {
     "data": {
      "text/html": [
       "<div>\n",
       "<style scoped>\n",
       "    .dataframe tbody tr th:only-of-type {\n",
       "        vertical-align: middle;\n",
       "    }\n",
       "\n",
       "    .dataframe tbody tr th {\n",
       "        vertical-align: top;\n",
       "    }\n",
       "\n",
       "    .dataframe thead th {\n",
       "        text-align: right;\n",
       "    }\n",
       "</style>\n",
       "<table border=\"1\" class=\"dataframe\">\n",
       "  <thead>\n",
       "    <tr style=\"text-align: right;\">\n",
       "      <th></th>\n",
       "      <th>-log(likelihood)</th>\n",
       "    </tr>\n",
       "  </thead>\n",
       "  <tbody>\n",
       "    <tr>\n",
       "      <th>cosi</th>\n",
       "      <td>-25804.500658</td>\n",
       "    </tr>\n",
       "    <tr>\n",
       "      <th>total</th>\n",
       "      <td>-25804.500658</td>\n",
       "    </tr>\n",
       "  </tbody>\n",
       "</table>\n",
       "</div>"
      ],
      "text/plain": [
       "       -log(likelihood)\n",
       "cosi      -25804.500658\n",
       "total     -25804.500658"
      ]
     },
     "metadata": {},
     "output_type": "display_data"
    },
    {
     "data": {
      "text/html": [
       "<pre style=\"white-space:pre;overflow-x:auto;line-height:normal;font-family:Menlo,'DejaVu Sans Mono',consolas,'Courier New',monospace\">\n",
       "<span style=\"color: #00ffaf; text-decoration-color: #00ffaf; font-weight: bold; text-decoration: underline\">Values of statistical measures:</span>\n",
       "\n",
       "</pre>\n"
      ],
      "text/plain": [
       "\n",
       "\u001b[1;4;38;5;49mValues of statistical measures:\u001b[0m\n",
       "\n"
      ]
     },
     "metadata": {},
     "output_type": "display_data"
    },
    {
     "data": {
      "text/html": [
       "<div>\n",
       "<style scoped>\n",
       "    .dataframe tbody tr th:only-of-type {\n",
       "        vertical-align: middle;\n",
       "    }\n",
       "\n",
       "    .dataframe tbody tr th {\n",
       "        vertical-align: top;\n",
       "    }\n",
       "\n",
       "    .dataframe thead th {\n",
       "        text-align: right;\n",
       "    }\n",
       "</style>\n",
       "<table border=\"1\" class=\"dataframe\">\n",
       "  <thead>\n",
       "    <tr style=\"text-align: right;\">\n",
       "      <th></th>\n",
       "      <th>statistical measures</th>\n",
       "    </tr>\n",
       "  </thead>\n",
       "  <tbody>\n",
       "    <tr>\n",
       "      <th>AIC</th>\n",
       "      <td>-51611.001317</td>\n",
       "    </tr>\n",
       "    <tr>\n",
       "      <th>BIC</th>\n",
       "      <td>-51609.001317</td>\n",
       "    </tr>\n",
       "  </tbody>\n",
       "</table>\n",
       "</div>"
      ],
      "text/plain": [
       "     statistical measures\n",
       "AIC         -51611.001317\n",
       "BIC         -51609.001317"
      ]
     },
     "metadata": {},
     "output_type": "display_data"
    },
    {
     "name": "stdout",
     "output_type": "stream",
     "text": [
      "None\n",
      "  * source (point source):\n",
      "    * position:\n",
      "      * l:\n",
      "        * value: 51.0\n",
      "        * desc: Galactic longitude\n",
      "        * min_value: 0.0\n",
      "        * max_value: 360.0\n",
      "        * unit: deg\n",
      "        * is_normalization: false\n",
      "      * b:\n",
      "        * value: -17.0\n",
      "        * desc: Galactic latitude\n",
      "        * min_value: -90.0\n",
      "        * max_value: 90.0\n",
      "        * unit: deg\n",
      "        * is_normalization: false\n",
      "      * equinox: J2000\n",
      "    * spectrum:\n",
      "      * main:\n",
      "        * Band:\n",
      "          * K:\n",
      "            * value: 0.0024700000000000407\n",
      "            * desc: Differential flux at the pivot energy\n",
      "            * min_value: 1.0e-99\n",
      "            * max_value: null\n",
      "            * unit: keV-1 s-1 cm-2\n",
      "            * is_normalization: true\n",
      "          * alpha:\n",
      "            * value: -1.0\n",
      "            * desc: low-energy photon index\n",
      "            * min_value: -1.5\n",
      "            * max_value: 3.0\n",
      "            * unit: ''\n",
      "            * is_normalization: false\n",
      "          * xp:\n",
      "            * value: 1000.000000000001\n",
      "            * desc: peak in the x * x * N (nuFnu if x is a energy)\n",
      "            * min_value: 10.0\n",
      "            * max_value: null\n",
      "            * unit: keV\n",
      "            * is_normalization: false\n",
      "          * beta:\n",
      "            * value: -3.0\n",
      "            * desc: high-energy photon index\n",
      "            * min_value: -5.0\n",
      "            * max_value: -1.6\n",
      "            * unit: ''\n",
      "            * is_normalization: false\n",
      "          * piv:\n",
      "            * value: 500.0\n",
      "            * desc: pivot energy\n",
      "            * min_value: null\n",
      "            * max_value: null\n",
      "            * unit: keV\n",
      "            * is_normalization: false\n",
      "        * polarization: {}\n",
      "\n"
     ]
    },
    {
     "data": {
      "text/plain": [
       "<matplotlib.legend.Legend at 0x29fd08970>"
      ]
     },
     "execution_count": 33,
     "metadata": {},
     "output_type": "execute_result"
    },
    {
     "data": {
      "image/png": "[encoded data removed]",
      "text/plain": [
       "<Figure size 640x480 with 1 Axes>"
      ]
     },
     "metadata": {},
     "output_type": "display_data"
    }
   ],
   "source": [
    "# Propagate the errors to the \"evaluate_at\" method of the spectrum\n",
    "results = like2.results\n",
    "\n",
    "print(results.display())\n",
    "\n",
    "parameters = {par.name:results.get_variates(par.path)\n",
    "               for par in results.optimized_model[\"source\"].parameters.values()\n",
    "               if par.free}\n",
    "\n",
    "if 'l' in parameters:\n",
    "    del parameters['l']\n",
    "if 'b' in parameters:\n",
    "    del parameters['b']\n",
    "\n",
    "results_err = results.propagate(results.optimized_model[\"source\"].spectrum.main.shape.evaluate_at, **parameters)\n",
    "\n",
    "print(results.optimized_model[\"source\"])\n",
    "\n",
    "# Evaluate at multiple energy values, for plotting\n",
    "energy = np.geomspace(200*u.keV,5*u.MeV).to_value(u.keV)\n",
    "\n",
    "flux_lo = np.zeros_like(energy)\n",
    "flux_median = np.zeros_like(energy)\n",
    "flux_hi = np.zeros_like(energy)\n",
    "\n",
    "for i, e in enumerate(energy):\n",
    "    flux = results_err(e)\n",
    "    flux_median[i] = flux.median\n",
    "    flux_lo[i], flux_hi[i] = flux.equal_tail_interval(cl=0.68)\n",
    "    \n",
    "# Plot\n",
    "fig,ax = plt.subplots()\n",
    "\n",
    "ax.plot(energy, energy*energy*flux_median, label = \"Measured (best)\")\n",
    "\n",
    "ax.fill_between(energy, energy*energy*flux_lo, energy*energy*flux_hi, alpha = .5, label = \"Measured (errors)\")\n",
    "\n",
    "# Plot injected spectrum\n",
    "def band_megalib(energy, alpha, beta, E0):\n",
    "    if energy == 0 or alpha - beta < 0:\n",
    "        return 0.0\n",
    "    else:\n",
    "        ebreak = (alpha - beta) * E0\n",
    "        if energy <= ebreak:\n",
    "            return energy**alpha * np.exp(-energy/E0)\n",
    "        else:\n",
    "            return ebreak**(alpha-beta) * np.exp(beta-alpha) * energy**beta\n",
    "\n",
    "flux_inj = np.zeros_like(energy)\n",
    "\n",
    "for i, e in enumerate(energy):\n",
    "    flux_inj[i] = K_inj * band_megalib(e, alpha_inj, beta_inj, xp_inj)\n",
    "ax.plot(energy, energy*energy*flux_inj, color = 'black', ls = \":\", label = \"Injected\")\n",
    "\n",
    "ax.set_xscale(\"log\")\n",
    "ax.set_yscale(\"log\")\n",
    "\n",
    "ax.set_xlim(1e2, 1e4)\n",
    "ax.set_ylim(10, 1e5)\n",
    "\n",
    "ax.set_xlabel(\"Energy [keV]\")\n",
    "ax.set_ylabel(r\"$E^2 \\frac{dN}{dE}$ [keV cm$^{-2}$ s$^{-1}$]\")\n",
    "\n",
    "ax.legend()"
   ]
  },
  {
   "cell_type": "code",
   "execution_count": null,
   "id": "601e2721-9b8a-40be-8536-7b3086591a22",
   "metadata": {},
   "outputs": [],
   "source": []
  }
 ],
 "metadata": {
  "kernelspec": {
   "display_name": "Python 3 (ipykernel)",
   "language": "python",
   "name": "python3"
  },
  "language_info": {
   "codemirror_mode": {
    "name": "ipython",
    "version": 3
   },
   "file_extension": ".py",
   "mimetype": "text/x-python",
   "name": "python",
   "nbconvert_exporter": "python",
   "pygments_lexer": "ipython3",
   "version": "3.9.15"
  }
 },
 "nbformat": 4,
 "nbformat_minor": 5
}
