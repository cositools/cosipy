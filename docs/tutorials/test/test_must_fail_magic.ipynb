{
 "cells": [
  {
   "cell_type": "markdown",
   "id": "b82642d2-a68f-41d2-8a63-3fee53880c71",
   "metadata": {},
   "source": [
    "# Test magic removal"
   ]
  },
  {
   "cell_type": "markdown",
   "id": "b42b3af6-b4e6-4809-bbcb-8917202d5c44",
   "metadata": {},
   "source": [
    "Magic cells are run in a subprocess, which catches exceptions and makes it look like the notebook succeeded "
   ]
  },
  {
   "cell_type": "code",
   "execution_count": null,
   "id": "7e9ae042-38d3-4f51-9fd9-0f630bdc1e48",
   "metadata": {},
   "outputs": [],
   "source": [
    "%%time\n",
    "# This should fail since \"five\" has not been defined.\n",
    "5*five"
   ]
  },
  {
   "cell_type": "code",
   "execution_count": null,
   "id": "eb67f11c-b8cc-42ef-ac81-ac01fd6a88da",
   "metadata": {},
   "outputs": [],
   "source": [
    "%%time\n",
    "# It shouldn't make it to this cell\n",
    "5*5"
   ]
  },
  {
   "cell_type": "code",
   "execution_count": null,
   "id": "ac335794-7781-410e-9b60-d0dfe2ef6ad3",
   "metadata": {},
   "outputs": [],
   "source": []
  }
 ],
 "metadata": {
  "kernelspec": {
   "display_name": "Python [conda env:cosipy]",
   "language": "python",
   "name": "conda-env-cosipy-py"
  },
  "language_info": {
   "codemirror_mode": {
    "name": "ipython",
    "version": 3
   },
   "file_extension": ".py",
   "mimetype": "text/x-python",
   "name": "python",
   "nbconvert_exporter": "python",
   "pygments_lexer": "ipython3",
   "version": "3.10.16"
  }
 },
 "nbformat": 4,
 "nbformat_minor": 5
}
