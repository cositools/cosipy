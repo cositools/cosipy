{
 "cells": [
  {
   "cell_type": "markdown",
   "id": "9c556bd4-f4b9-4d7b-958e-e027e2a79c84",
   "metadata": {},
   "source": [
    "# Just a test"
   ]
  },
  {
   "cell_type": "code",
   "execution_count": null,
   "id": "b92a0162-1157-4765-b848-e06697b7d2bb",
   "metadata": {},
   "outputs": [],
   "source": [
    "from cosipy.util import fetch_wasabi_file\n",
    "fetch_wasabi_file(\"test_files/test_multipart_file.txt\", checksum = '1652d89e2e9196cc772ad277dae43cdd')"
   ]
  },
  {
   "cell_type": "code",
   "execution_count": null,
   "id": "b7f8a79f-c79b-465e-84b7-76af1f8c3117",
   "metadata": {},
   "outputs": [],
   "source": [
    "with open('test_multipart_file.txt', 'r') as f:\n",
    "    print(f.read())"
   ]
  }
 ],
 "metadata": {
  "kernelspec": {
   "display_name": "Python [conda env:cosipy]",
   "language": "python",
   "name": "conda-env-cosipy-py"
  },
  "language_info": {
   "codemirror_mode": {
    "name": "ipython",
    "version": 3
   },
   "file_extension": ".py",
   "mimetype": "text/x-python",
   "name": "python",
   "nbconvert_exporter": "python",
   "pygments_lexer": "ipython3",
   "version": "3.10.16"
  }
 },
 "nbformat": 4,
 "nbformat_minor": 5
}
