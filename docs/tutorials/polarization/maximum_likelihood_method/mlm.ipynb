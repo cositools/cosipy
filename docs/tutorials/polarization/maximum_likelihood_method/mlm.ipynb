{
 "cells": [
  {
   "cell_type": "markdown",
   "id": "4e111ad9-5599-451c-83a5-f89a79b0dd42",
   "metadata": {},
   "source": [
    "# Polarization example - Maximum likelihood method"
   ]
  },
  {
   "cell_type": "markdown",
   "id": "f9b8addd-aaa4-488c-8041-385881689986",
   "metadata": {},
   "source": [
    "This notebook fits the polarization fraction and angle of a Data Challenge 3 GRB (GRB 080802386) simulated using MEGAlib and combined with albedo photon background. It's assumed that the start time, duration, localization, and spectrum of the GRB are already known. The GRB was simulated with 80% polarization at an angle of 90 degrees in the IAU convention, and was 20 degrees off-axis. "
   ]
  },
  {
   "cell_type": "code",
   "execution_count": 11,
   "id": "26c12d83-7afc-4000-8b8f-d353e0b08d12",
   "metadata": {},
   "outputs": [],
   "source": [
    "from cosipy import UnBinnedData, BinnedData, COSILike\n",
    "from cosipy.spacecraftfile import SpacecraftFile\n",
    "from cosipy.polarization.conventions import MEGAlibRelativeX, MEGAlibRelativeY, MEGAlibRelativeZ, IAUPolarizationConvention\n",
    "from cosipy.threeml.custom_functions import Band_Eflux\n",
    "from astropy.time import Time\n",
    "import numpy as np\n",
    "from astropy.coordinates import Angle, SkyCoord\n",
    "from astropy import units as u\n",
    "from cosipy.util import fetch_wasabi_file\n",
    "from threeML import LinearPolarization, SpectralComponent, PointSource, Model, JointLikelihood, DataList\n",
    "from astromodels import Parameter"
   ]
  },
  {
   "cell_type": "markdown",
   "id": "5a52ee92",
   "metadata": {},
   "source": [
    "### Read in data"
   ]
  },
  {
   "cell_type": "code",
   "execution_count": null,
   "id": "ac0ad83d",
   "metadata": {},
   "outputs": [],
   "source": [
    "grb_background_local = UnBinnedData('grb.yaml')\n",
    "grb_background_local.select_data_time(unbinned_data='/Users/eneights/work/COSI/data-challenges/data_challenge_4/data/simulations/polarization_tutorial_grb_background.fits.gz', output_name='grb_background_source_interval')\n",
    "grb_background_local = BinnedData('grb.yaml')\n",
    "grb_background_local.get_binned_data(unbinned_data='grb_background_source_interval.fits.gz', output_name='grb_background_binned_local', psichi_binning='local')\n",
    "grb_background_local.load_binned_data_from_hdf5('grb_background_binned_local.hdf5')\n",
    "\n",
    "background_before_local = UnBinnedData('background_before.yaml')\n",
    "background_before_local.select_data_time(unbinned_data='/Users/eneights/work/COSI/data-challenges/data_challenge_4/data/simulations/polarization_tutorial_grb_background.fits.gz', output_name='background_before')\n",
    "background_before_local = BinnedData('background_before.yaml')\n",
    "background_before_local.get_binned_data(unbinned_data='background_before.fits.gz', output_name='background_before_binned_local', psichi_binning='local')\n",
    "background_before_local.load_binned_data_from_hdf5('background_before_binned_local.hdf5')\n",
    "\n",
    "background_after_local = UnBinnedData('background_after.yaml')\n",
    "background_after_local.select_data_time(unbinned_data='/Users/eneights/work/COSI/data-challenges/data_challenge_4/data/simulations/polarization_tutorial_grb_background.fits.gz', output_name='background_after')\n",
    "background_after_local = BinnedData('background_after.yaml')\n",
    "background_after_local.get_binned_data(unbinned_data='background_after.fits.gz', output_name='background_after_binned_local', psichi_binning='local')\n",
    "background_after_local.load_binned_data_from_hdf5('background_after_binned_local.hdf5')\n",
    "\n",
    "grb_background_galactic = BinnedData('grb.yaml')\n",
    "grb_background_galactic.get_binned_data(unbinned_data='grb_background_source_interval.fits.gz', output_name='grb_background_binned_galactic', psichi_binning='galactic')\n",
    "grb_background_galactic.load_binned_data_from_hdf5('grb_background_binned_galactic.hdf5')\n",
    "\n",
    "background_before_galactic = BinnedData('background_before.yaml')\n",
    "background_before_galactic.get_binned_data(unbinned_data='background_before.fits.gz', output_name='background_before_binned_galactic', psichi_binning='galactic')\n",
    "background_before_galactic.load_binned_data_from_hdf5('background_before_binned_galactic.hdf5')\n",
    "\n",
    "background_after_galactic = BinnedData('background_after.yaml')\n",
    "background_after_galactic.get_binned_data(unbinned_data='background_after.fits.gz', output_name='background_after_binned_galactic', psichi_binning='galactic')\n",
    "background_after_galactic.load_binned_data_from_hdf5('background_after_binned_galactic.hdf5')"
   ]
  },
  {
   "cell_type": "markdown",
   "id": "b983b194",
   "metadata": {},
   "source": [
    "Define the path to the detector response and read in the orientation file. The orientation is cut down to the time interval of the source."
   ]
  },
  {
   "cell_type": "code",
   "execution_count": 8,
   "id": "36712258",
   "metadata": {},
   "outputs": [],
   "source": [
    "response_file = '/Users/eneights/work/COSI/data-challenges/data_challenge_4/data/responses/ResponseContinuum.o3.pol.e200_10000.b4.p12.s10396905069491.m441.filtered.nonsparse.binnedpolarization.11D_nside8.area.h5'\n",
    "\n",
    "sc_orientation = SpacecraftFile.parse_from_file('/Users/eneights/work/COSI/data-challenges/data_challenge_4/data/orientations/DC3.ori')\n",
    "sc_orientation = sc_orientation.source_interval(Time(1835493492.2, format = 'unix'), Time(1835493492.8, format = 'unix'))"
   ]
  },
  {
   "cell_type": "markdown",
   "id": "c6951d6c",
   "metadata": {},
   "source": [
    "Define the GRB position and spectrum."
   ]
  },
  {
   "cell_type": "code",
   "execution_count": null,
   "id": "26cec39d",
   "metadata": {},
   "outputs": [],
   "source": [
    "source_direction = SkyCoord(l=23.53, b=-53.44, frame='galactic', unit=u.deg)\n",
    "attitude = sc_orientation.get_attitude()[0]\n",
    "\n",
    "a = 100. * u.keV\n",
    "b = 10000. * u.keV\n",
    "alpha = -0.7368949\n",
    "beta = -2.095031\n",
    "ebreak = 622.389 * u.keV\n",
    "K = 300. / u.cm / u.cm / u.s\n",
    "\n",
    "spectrum = Band_Eflux(a = a.value,\n",
    "                      b = b.value,\n",
    "                      alpha = alpha,\n",
    "                      beta = beta,\n",
    "                      E0 = ebreak.value,\n",
    "                      K = K.value)\n",
    "\n",
    "spectrum.a.unit = a.unit\n",
    "spectrum.b.unit = b.unit\n",
    "spectrum.E0.unit = ebreak.unit\n",
    "spectrum.K.unit = K.unit\n",
    "\n",
    "polarization = LinearPolarization(80, 80) # polarization degree, polarization angle (in same convention as response for data in local frame and IAU convention for data in galactic frame)\n",
    "spectral_component = SpectralComponent('grb', spectrum, polarization)\n",
    "\n",
    "source = PointSource('source',                                                          # Name of source (arbitrary, but needs to be unique)\n",
    "                     l = source_direction.l.deg,               # Longitude (deg)\n",
    "                     b = source_direction.b.deg,               # Latitude (deg)\n",
    "                     components = [spectral_component])                                 # Spectral model\n",
    "\n",
    "source.components['grb'].shape.K.fix = True\n",
    "source.components['grb'].shape.E0.fix = True\n",
    "source.components['grb'].shape.alpha.fix = True\n",
    "source.components['grb'].shape.beta.fix = True\n",
    "\n",
    "model = Model(source)"
   ]
  },
  {
   "cell_type": "code",
   "execution_count": 29,
   "id": "a393b0fc",
   "metadata": {},
   "outputs": [
    {
     "name": "stderr",
     "output_type": "stream",
     "text": [
      "The response must have the same polarization convention as the provided polarization angle, or the result will be incorrect!\n"
     ]
    },
    {
     "data": {
      "text/html": [
       "<pre style=\"white-space:pre;overflow-x:auto;line-height:normal;font-family:Menlo,'DejaVu Sans Mono',consolas,'Courier New',monospace\"><span style=\"color: #00ff00; text-decoration-color: #00ff00\">09:27:34 </span><span style=\"color: #00ffaf; text-decoration-color: #00ffaf\">INFO    </span> <span style=\"color: #c6c6c6; text-decoration-color: #c6c6c6; font-weight: bold\"> set the minimizer to minuit                                             </span><a href=\"file:///Users/eneights/software/miniforge3/envs/cosipy-fork/lib/python3.10/site-packages/threeML/classicMLE/joint_likelihood.py\" target=\"_blank\"><span style=\"color: #7f7f7f; text-decoration-color: #7f7f7f\">joint_likelihood.py</span></a><span style=\"color: #7f7f7f; text-decoration-color: #7f7f7f\">:</span><a href=\"file:///Users/eneights/software/miniforge3/envs/cosipy-fork/lib/python3.10/site-packages/threeML/classicMLE/joint_likelihood.py#1045\" target=\"_blank\"><span style=\"color: #7f7f7f; text-decoration-color: #7f7f7f\">1045</span></a>\n",
       "</pre>\n"
      ],
      "text/plain": [
       "\u001b[38;5;46m09:27:34\u001b[0m\u001b[38;5;46m \u001b[0m\u001b[38;5;49mINFO    \u001b[0m \u001b[1;38;5;251m set the minimizer to minuit                                            \u001b[0m\u001b[1;38;5;251m \u001b[0m\u001b]8;id=740192;file:///Users/eneights/software/miniforge3/envs/cosipy-fork/lib/python3.10/site-packages/threeML/classicMLE/joint_likelihood.py\u001b\\\u001b[2mjoint_likelihood.py\u001b[0m\u001b]8;;\u001b\\\u001b[2m:\u001b[0m\u001b]8;id=359590;file:///Users/eneights/software/miniforge3/envs/cosipy-fork/lib/python3.10/site-packages/threeML/classicMLE/joint_likelihood.py#1045\u001b\\\u001b[2m1045\u001b[0m\u001b]8;;\u001b\\\n"
      ]
     },
     "metadata": {},
     "output_type": "display_data"
    }
   ],
   "source": [
    "bkg_par = Parameter(\"background_cosi\",                                                                          # background parameter\n",
    "                    0.0016,                                                                                        # initial value of parameter\n",
    "                    min_value=0,                                                                                # minimum value of parameter\n",
    "                    max_value=1,                                                                                # maximum value of parameter\n",
    "                    delta=1e-5,                                                                                 # initial step used by fitting engine\n",
    "                    desc=\"Background parameter for cosi\")\n",
    "\n",
    "cosi = COSILike(\"cosi\",                                                                                         # COSI 3ML plugin\n",
    "                dr = response_file,                                                                                        # detector response\n",
    "                data = grb_background_local.binned_data.project('Em', 'Phi', 'PsiChi'),                                      # data (source+background)\n",
    "                bkg = (background_before_local.binned_data.project('Em', 'Phi', 'PsiChi') + background_after_local.binned_data.project('Em', 'Phi', 'PsiChi')) * 0.0016,    # background model \n",
    "                sc_orientation = sc_orientation,\n",
    "                response_pa_convention = 'RelativeZ')\n",
    "                #nuisance_param = bkg_par)\n",
    "\n",
    "plugins = DataList(cosi)\n",
    "\n",
    "like = JointLikelihood(model, plugins, verbose = False)"
   ]
  },
  {
   "cell_type": "markdown",
   "id": "bbb6ffe2",
   "metadata": {},
   "source": [
    "### Polarization fit in local frame"
   ]
  },
  {
   "cell_type": "code",
   "execution_count": 30,
   "id": "41cbf55e",
   "metadata": {},
   "outputs": [
    {
     "name": "stderr",
     "output_type": "stream",
     "text": [
      "The response must have the same polarization convention as the provided polarization angle, or the result will be incorrect!\n",
      "Adding 1e-12 to each bin of the expectation to avoid log-likelihood = -inf.\n",
      "The response must have the same polarization convention as the provided polarization angle, or the result will be incorrect!\n",
      "The response must have the same polarization convention as the provided polarization angle, or the result will be incorrect!\n",
      "The response must have the same polarization convention as the provided polarization angle, or the result will be incorrect!\n",
      "The response must have the same polarization convention as the provided polarization angle, or the result will be incorrect!\n",
      "The response must have the same polarization convention as the provided polarization angle, or the result will be incorrect!\n",
      "The response must have the same polarization convention as the provided polarization angle, or the result will be incorrect!\n",
      "The response must have the same polarization convention as the provided polarization angle, or the result will be incorrect!\n",
      "The response must have the same polarization convention as the provided polarization angle, or the result will be incorrect!\n",
      "The response must have the same polarization convention as the provided polarization angle, or the result will be incorrect!\n",
      "The response must have the same polarization convention as the provided polarization angle, or the result will be incorrect!\n",
      "The response must have the same polarization convention as the provided polarization angle, or the result will be incorrect!\n",
      "The response must have the same polarization convention as the provided polarization angle, or the result will be incorrect!\n",
      "The response must have the same polarization convention as the provided polarization angle, or the result will be incorrect!\n",
      "The response must have the same polarization convention as the provided polarization angle, or the result will be incorrect!\n",
      "The response must have the same polarization convention as the provided polarization angle, or the result will be incorrect!\n",
      "The response must have the same polarization convention as the provided polarization angle, or the result will be incorrect!\n",
      "The response must have the same polarization convention as the provided polarization angle, or the result will be incorrect!\n",
      "The response must have the same polarization convention as the provided polarization angle, or the result will be incorrect!\n",
      "The response must have the same polarization convention as the provided polarization angle, or the result will be incorrect!\n",
      "The response must have the same polarization convention as the provided polarization angle, or the result will be incorrect!\n",
      "The response must have the same polarization convention as the provided polarization angle, or the result will be incorrect!\n",
      "The response must have the same polarization convention as the provided polarization angle, or the result will be incorrect!\n",
      "The response must have the same polarization convention as the provided polarization angle, or the result will be incorrect!\n",
      "The response must have the same polarization convention as the provided polarization angle, or the result will be incorrect!\n",
      "The response must have the same polarization convention as the provided polarization angle, or the result will be incorrect!\n",
      "The response must have the same polarization convention as the provided polarization angle, or the result will be incorrect!\n",
      "The response must have the same polarization convention as the provided polarization angle, or the result will be incorrect!\n",
      "The response must have the same polarization convention as the provided polarization angle, or the result will be incorrect!\n",
      "The response must have the same polarization convention as the provided polarization angle, or the result will be incorrect!\n",
      "The response must have the same polarization convention as the provided polarization angle, or the result will be incorrect!\n",
      "The response must have the same polarization convention as the provided polarization angle, or the result will be incorrect!\n",
      "The response must have the same polarization convention as the provided polarization angle, or the result will be incorrect!\n",
      "The response must have the same polarization convention as the provided polarization angle, or the result will be incorrect!\n",
      "The response must have the same polarization convention as the provided polarization angle, or the result will be incorrect!\n",
      "The response must have the same polarization convention as the provided polarization angle, or the result will be incorrect!\n",
      "The response must have the same polarization convention as the provided polarization angle, or the result will be incorrect!\n",
      "The response must have the same polarization convention as the provided polarization angle, or the result will be incorrect!\n",
      "The response must have the same polarization convention as the provided polarization angle, or the result will be incorrect!\n",
      "The response must have the same polarization convention as the provided polarization angle, or the result will be incorrect!\n",
      "The response must have the same polarization convention as the provided polarization angle, or the result will be incorrect!\n",
      "The response must have the same polarization convention as the provided polarization angle, or the result will be incorrect!\n",
      "The response must have the same polarization convention as the provided polarization angle, or the result will be incorrect!\n",
      "The response must have the same polarization convention as the provided polarization angle, or the result will be incorrect!\n",
      "The response must have the same polarization convention as the provided polarization angle, or the result will be incorrect!\n",
      "The response must have the same polarization convention as the provided polarization angle, or the result will be incorrect!\n",
      "The response must have the same polarization convention as the provided polarization angle, or the result will be incorrect!\n",
      "The response must have the same polarization convention as the provided polarization angle, or the result will be incorrect!\n",
      "The response must have the same polarization convention as the provided polarization angle, or the result will be incorrect!\n",
      "The response must have the same polarization convention as the provided polarization angle, or the result will be incorrect!\n",
      "The response must have the same polarization convention as the provided polarization angle, or the result will be incorrect!\n",
      "The response must have the same polarization convention as the provided polarization angle, or the result will be incorrect!\n",
      "The response must have the same polarization convention as the provided polarization angle, or the result will be incorrect!\n",
      "The response must have the same polarization convention as the provided polarization angle, or the result will be incorrect!\n",
      "The response must have the same polarization convention as the provided polarization angle, or the result will be incorrect!\n",
      "The response must have the same polarization convention as the provided polarization angle, or the result will be incorrect!\n",
      "The response must have the same polarization convention as the provided polarization angle, or the result will be incorrect!\n",
      "The response must have the same polarization convention as the provided polarization angle, or the result will be incorrect!\n",
      "The response must have the same polarization convention as the provided polarization angle, or the result will be incorrect!\n",
      "The response must have the same polarization convention as the provided polarization angle, or the result will be incorrect!\n",
      "The response must have the same polarization convention as the provided polarization angle, or the result will be incorrect!\n",
      "The response must have the same polarization convention as the provided polarization angle, or the result will be incorrect!\n",
      "The response must have the same polarization convention as the provided polarization angle, or the result will be incorrect!\n",
      "The response must have the same polarization convention as the provided polarization angle, or the result will be incorrect!\n",
      "The response must have the same polarization convention as the provided polarization angle, or the result will be incorrect!\n",
      "The response must have the same polarization convention as the provided polarization angle, or the result will be incorrect!\n",
      "The response must have the same polarization convention as the provided polarization angle, or the result will be incorrect!\n",
      "The response must have the same polarization convention as the provided polarization angle, or the result will be incorrect!\n",
      "The response must have the same polarization convention as the provided polarization angle, or the result will be incorrect!\n",
      "The response must have the same polarization convention as the provided polarization angle, or the result will be incorrect!\n",
      "The response must have the same polarization convention as the provided polarization angle, or the result will be incorrect!\n",
      "The response must have the same polarization convention as the provided polarization angle, or the result will be incorrect!\n",
      "The response must have the same polarization convention as the provided polarization angle, or the result will be incorrect!\n",
      "The response must have the same polarization convention as the provided polarization angle, or the result will be incorrect!\n",
      "The response must have the same polarization convention as the provided polarization angle, or the result will be incorrect!\n",
      "The response must have the same polarization convention as the provided polarization angle, or the result will be incorrect!\n",
      "The response must have the same polarization convention as the provided polarization angle, or the result will be incorrect!\n",
      "The response must have the same polarization convention as the provided polarization angle, or the result will be incorrect!\n",
      "The response must have the same polarization convention as the provided polarization angle, or the result will be incorrect!\n",
      "The response must have the same polarization convention as the provided polarization angle, or the result will be incorrect!\n",
      "The response must have the same polarization convention as the provided polarization angle, or the result will be incorrect!\n",
      "The response must have the same polarization convention as the provided polarization angle, or the result will be incorrect!\n",
      "The response must have the same polarization convention as the provided polarization angle, or the result will be incorrect!\n",
      "The response must have the same polarization convention as the provided polarization angle, or the result will be incorrect!\n",
      "The response must have the same polarization convention as the provided polarization angle, or the result will be incorrect!\n",
      "The response must have the same polarization convention as the provided polarization angle, or the result will be incorrect!\n",
      "The response must have the same polarization convention as the provided polarization angle, or the result will be incorrect!\n",
      "The response must have the same polarization convention as the provided polarization angle, or the result will be incorrect!\n",
      "The response must have the same polarization convention as the provided polarization angle, or the result will be incorrect!\n",
      "The response must have the same polarization convention as the provided polarization angle, or the result will be incorrect!\n",
      "The response must have the same polarization convention as the provided polarization angle, or the result will be incorrect!\n",
      "The response must have the same polarization convention as the provided polarization angle, or the result will be incorrect!\n",
      "The response must have the same polarization convention as the provided polarization angle, or the result will be incorrect!\n",
      "The response must have the same polarization convention as the provided polarization angle, or the result will be incorrect!\n",
      "The response must have the same polarization convention as the provided polarization angle, or the result will be incorrect!\n",
      "The response must have the same polarization convention as the provided polarization angle, or the result will be incorrect!\n",
      "The response must have the same polarization convention as the provided polarization angle, or the result will be incorrect!\n",
      "The response must have the same polarization convention as the provided polarization angle, or the result will be incorrect!\n",
      "The response must have the same polarization convention as the provided polarization angle, or the result will be incorrect!\n",
      "The response must have the same polarization convention as the provided polarization angle, or the result will be incorrect!\n",
      "The response must have the same polarization convention as the provided polarization angle, or the result will be incorrect!\n",
      "The response must have the same polarization convention as the provided polarization angle, or the result will be incorrect!\n",
      "The response must have the same polarization convention as the provided polarization angle, or the result will be incorrect!\n",
      "The response must have the same polarization convention as the provided polarization angle, or the result will be incorrect!\n",
      "The response must have the same polarization convention as the provided polarization angle, or the result will be incorrect!\n",
      "The response must have the same polarization convention as the provided polarization angle, or the result will be incorrect!\n",
      "The response must have the same polarization convention as the provided polarization angle, or the result will be incorrect!\n",
      "The response must have the same polarization convention as the provided polarization angle, or the result will be incorrect!\n",
      "The response must have the same polarization convention as the provided polarization angle, or the result will be incorrect!\n",
      "The response must have the same polarization convention as the provided polarization angle, or the result will be incorrect!\n",
      "The response must have the same polarization convention as the provided polarization angle, or the result will be incorrect!\n",
      "The response must have the same polarization convention as the provided polarization angle, or the result will be incorrect!\n",
      "The response must have the same polarization convention as the provided polarization angle, or the result will be incorrect!\n",
      "The response must have the same polarization convention as the provided polarization angle, or the result will be incorrect!\n",
      "The response must have the same polarization convention as the provided polarization angle, or the result will be incorrect!\n",
      "The response must have the same polarization convention as the provided polarization angle, or the result will be incorrect!\n",
      "The response must have the same polarization convention as the provided polarization angle, or the result will be incorrect!\n",
      "The response must have the same polarization convention as the provided polarization angle, or the result will be incorrect!\n",
      "The response must have the same polarization convention as the provided polarization angle, or the result will be incorrect!\n",
      "The response must have the same polarization convention as the provided polarization angle, or the result will be incorrect!\n",
      "The response must have the same polarization convention as the provided polarization angle, or the result will be incorrect!\n",
      "The response must have the same polarization convention as the provided polarization angle, or the result will be incorrect!\n"
     ]
    },
    {
     "data": {
      "text/html": [
       "<pre style=\"white-space:pre;overflow-x:auto;line-height:normal;font-family:Menlo,'DejaVu Sans Mono',consolas,'Courier New',monospace\"><span style=\"color: #00ff00; text-decoration-color: #00ff00\">09:30:07 </span><span style=\"color: #af5fd7; text-decoration-color: #af5fd7\">WARNING </span> <span style=\"color: #c6c6c6; text-decoration-color: #c6c6c6; font-weight: bold\"> get_number_of_data_points not implemented, values for statistical        </span><a href=\"file:///Users/eneights/software/miniforge3/envs/cosipy-fork/lib/python3.10/site-packages/threeML/plugin_prototype.py\" target=\"_blank\"><span style=\"color: #7f7f7f; text-decoration-color: #7f7f7f\">plugin_prototype.py</span></a><span style=\"color: #7f7f7f; text-decoration-color: #7f7f7f\">:</span><a href=\"file:///Users/eneights/software/miniforge3/envs/cosipy-fork/lib/python3.10/site-packages/threeML/plugin_prototype.py#130\" target=\"_blank\"><span style=\"color: #7f7f7f; text-decoration-color: #7f7f7f\">130</span></a>\n",
       "<span style=\"color: #00ff00; text-decoration-color: #00ff00\">         </span>         <span style=\"color: #c6c6c6; text-decoration-color: #c6c6c6; font-weight: bold\">measurements such as AIC or BIC are unreliable                            </span><span style=\"color: #7f7f7f; text-decoration-color: #7f7f7f\">                       </span>\n",
       "</pre>\n"
      ],
      "text/plain": [
       "\u001b[38;5;46m09:30:07\u001b[0m\u001b[38;5;46m \u001b[0m\u001b[38;5;134mWARNING \u001b[0m \u001b[1;38;5;251m get_number_of_data_points not implemented, values for statistical       \u001b[0m\u001b[1;38;5;251m \u001b[0m\u001b]8;id=970920;file:///Users/eneights/software/miniforge3/envs/cosipy-fork/lib/python3.10/site-packages/threeML/plugin_prototype.py\u001b\\\u001b[2mplugin_prototype.py\u001b[0m\u001b]8;;\u001b\\\u001b[2m:\u001b[0m\u001b]8;id=655372;file:///Users/eneights/software/miniforge3/envs/cosipy-fork/lib/python3.10/site-packages/threeML/plugin_prototype.py#130\u001b\\\u001b[2m130\u001b[0m\u001b]8;;\u001b\\\n",
       "\u001b[38;5;46m         \u001b[0m         \u001b[1;38;5;251mmeasurements such as AIC or BIC are unreliable                           \u001b[0m\u001b[1;38;5;251m \u001b[0m\u001b[2m                       \u001b[0m\n"
      ]
     },
     "metadata": {},
     "output_type": "display_data"
    },
    {
     "data": {
      "text/html": [
       "<pre style=\"white-space:pre;overflow-x:auto;line-height:normal;font-family:Menlo,'DejaVu Sans Mono',consolas,'Courier New',monospace\"><span style=\"color: #00ffaf; text-decoration-color: #00ffaf; font-weight: bold; text-decoration: underline\">Best fit values:</span>\n",
       "\n",
       "</pre>\n"
      ],
      "text/plain": [
       "\u001b[1;4;38;5;49mBest fit values:\u001b[0m\n",
       "\n"
      ]
     },
     "metadata": {},
     "output_type": "display_data"
    },
    {
     "data": {
      "text/html": [
       "<div>\n",
       "<style scoped>\n",
       "    .dataframe tbody tr th:only-of-type {\n",
       "        vertical-align: middle;\n",
       "    }\n",
       "\n",
       "    .dataframe tbody tr th {\n",
       "        vertical-align: top;\n",
       "    }\n",
       "\n",
       "    .dataframe thead th {\n",
       "        text-align: right;\n",
       "    }\n",
       "</style>\n",
       "<table border=\"1\" class=\"dataframe\">\n",
       "  <thead>\n",
       "    <tr style=\"text-align: right;\">\n",
       "      <th></th>\n",
       "      <th>result</th>\n",
       "      <th>unit</th>\n",
       "    </tr>\n",
       "    <tr>\n",
       "      <th>parameter</th>\n",
       "      <th></th>\n",
       "      <th></th>\n",
       "    </tr>\n",
       "  </thead>\n",
       "  <tbody>\n",
       "    <tr>\n",
       "      <th>source.spectrum.grb.polarization.degree</th>\n",
       "      <td>(6.0 +/- 0.6) x 10</td>\n",
       "      <td></td>\n",
       "    </tr>\n",
       "    <tr>\n",
       "      <th>source.spectrum.grb.polarization.angle</th>\n",
       "      <td>(8.32 +/- 0.34) x 10</td>\n",
       "      <td>deg</td>\n",
       "    </tr>\n",
       "  </tbody>\n",
       "</table>\n",
       "</div>"
      ],
      "text/plain": [
       "                                                       result unit\n",
       "parameter                                                         \n",
       "source.spectrum.grb.polarization.degree    (6.0 +/- 0.6) x 10     \n",
       "source.spectrum.grb.polarization.angle   (8.32 +/- 0.34) x 10  deg"
      ]
     },
     "metadata": {},
     "output_type": "display_data"
    },
    {
     "data": {
      "text/html": [
       "<pre style=\"white-space:pre;overflow-x:auto;line-height:normal;font-family:Menlo,'DejaVu Sans Mono',consolas,'Courier New',monospace\">\n",
       "<span style=\"color: #00ffaf; text-decoration-color: #00ffaf; font-weight: bold; text-decoration: underline\">Correlation matrix:</span>\n",
       "\n",
       "</pre>\n"
      ],
      "text/plain": [
       "\n",
       "\u001b[1;4;38;5;49mCorrelation matrix:\u001b[0m\n",
       "\n"
      ]
     },
     "metadata": {},
     "output_type": "display_data"
    },
    {
     "data": {
      "text/html": [
       "<div><table id=\"table13729203104\">\n",
       "<tr><td>1.00</td><td>-0.79</td></tr>\n",
       "<tr><td>-0.79</td><td>1.00</td></tr>\n",
       "</table></div>"
      ],
      "text/plain": [
       " 1.00 -0.79\n",
       "-0.79  1.00"
      ]
     },
     "metadata": {},
     "output_type": "display_data"
    },
    {
     "data": {
      "text/html": [
       "<pre style=\"white-space:pre;overflow-x:auto;line-height:normal;font-family:Menlo,'DejaVu Sans Mono',consolas,'Courier New',monospace\">\n",
       "<span style=\"color: #00ffaf; text-decoration-color: #00ffaf; font-weight: bold; text-decoration: underline\">Values of -log(likelihood) at the minimum:</span>\n",
       "\n",
       "</pre>\n"
      ],
      "text/plain": [
       "\n",
       "\u001b[1;4;38;5;49mValues of -\u001b[0m\u001b[1;4;38;5;49mlog\u001b[0m\u001b[1;4;38;5;49m(\u001b[0m\u001b[1;4;38;5;49mlikelihood\u001b[0m\u001b[1;4;38;5;49m)\u001b[0m\u001b[1;4;38;5;49m at the minimum:\u001b[0m\n",
       "\n"
      ]
     },
     "metadata": {},
     "output_type": "display_data"
    },
    {
     "data": {
      "text/html": [
       "<div>\n",
       "<style scoped>\n",
       "    .dataframe tbody tr th:only-of-type {\n",
       "        vertical-align: middle;\n",
       "    }\n",
       "\n",
       "    .dataframe tbody tr th {\n",
       "        vertical-align: top;\n",
       "    }\n",
       "\n",
       "    .dataframe thead th {\n",
       "        text-align: right;\n",
       "    }\n",
       "</style>\n",
       "<table border=\"1\" class=\"dataframe\">\n",
       "  <thead>\n",
       "    <tr style=\"text-align: right;\">\n",
       "      <th></th>\n",
       "      <th>-log(likelihood)</th>\n",
       "    </tr>\n",
       "  </thead>\n",
       "  <tbody>\n",
       "    <tr>\n",
       "      <th>cosi</th>\n",
       "      <td>18747.564101</td>\n",
       "    </tr>\n",
       "    <tr>\n",
       "      <th>total</th>\n",
       "      <td>18747.564101</td>\n",
       "    </tr>\n",
       "  </tbody>\n",
       "</table>\n",
       "</div>"
      ],
      "text/plain": [
       "       -log(likelihood)\n",
       "cosi       18747.564101\n",
       "total      18747.564101"
      ]
     },
     "metadata": {},
     "output_type": "display_data"
    },
    {
     "data": {
      "text/html": [
       "<pre style=\"white-space:pre;overflow-x:auto;line-height:normal;font-family:Menlo,'DejaVu Sans Mono',consolas,'Courier New',monospace\">\n",
       "<span style=\"color: #00ffaf; text-decoration-color: #00ffaf; font-weight: bold; text-decoration: underline\">Values of statistical measures:</span>\n",
       "\n",
       "</pre>\n"
      ],
      "text/plain": [
       "\n",
       "\u001b[1;4;38;5;49mValues of statistical measures:\u001b[0m\n",
       "\n"
      ]
     },
     "metadata": {},
     "output_type": "display_data"
    },
    {
     "data": {
      "text/html": [
       "<div>\n",
       "<style scoped>\n",
       "    .dataframe tbody tr th:only-of-type {\n",
       "        vertical-align: middle;\n",
       "    }\n",
       "\n",
       "    .dataframe tbody tr th {\n",
       "        vertical-align: top;\n",
       "    }\n",
       "\n",
       "    .dataframe thead th {\n",
       "        text-align: right;\n",
       "    }\n",
       "</style>\n",
       "<table border=\"1\" class=\"dataframe\">\n",
       "  <thead>\n",
       "    <tr style=\"text-align: right;\">\n",
       "      <th></th>\n",
       "      <th>statistical measures</th>\n",
       "    </tr>\n",
       "  </thead>\n",
       "  <tbody>\n",
       "    <tr>\n",
       "      <th>AIC</th>\n",
       "      <td>37493.128202</td>\n",
       "    </tr>\n",
       "    <tr>\n",
       "      <th>BIC</th>\n",
       "      <td>37495.128202</td>\n",
       "    </tr>\n",
       "  </tbody>\n",
       "</table>\n",
       "</div>"
      ],
      "text/plain": [
       "     statistical measures\n",
       "AIC          37493.128202\n",
       "BIC          37495.128202"
      ]
     },
     "metadata": {},
     "output_type": "display_data"
    },
    {
     "data": {
      "text/plain": [
       "(                                             value  negative_error  \\\n",
       " source.spectrum.grb.polarization.degree  60.304226       -6.271626   \n",
       " source.spectrum.grb.polarization.angle   83.164307       -3.372013   \n",
       " \n",
       "                                          positive_error     error unit  \n",
       " source.spectrum.grb.polarization.degree        6.140856  6.206241       \n",
       " source.spectrum.grb.polarization.angle         3.432037  3.402025  deg  ,\n",
       "        -log(likelihood)\n",
       " cosi       18747.564101\n",
       " total      18747.564101)"
      ]
     },
     "execution_count": 30,
     "metadata": {},
     "output_type": "execute_result"
    }
   ],
   "source": [
    "like.fit()"
   ]
  },
  {
   "cell_type": "code",
   "execution_count": 32,
   "id": "b6c3feed",
   "metadata": {},
   "outputs": [],
   "source": [
    "spectrum = Band_Eflux(a = a.value,\n",
    "                      b = b.value,\n",
    "                      alpha = alpha,\n",
    "                      beta = beta,\n",
    "                      E0 = ebreak.value,\n",
    "                      K = K.value)\n",
    "\n",
    "spectrum.a.unit = a.unit\n",
    "spectrum.b.unit = b.unit\n",
    "spectrum.E0.unit = ebreak.unit\n",
    "spectrum.K.unit = K.unit\n",
    "\n",
    "polarization = LinearPolarization(80, 90) # convention of angle?? should be input into cosilike somewhere -- same as response for local frame, iau for galactic frame\n",
    "spectral_component = SpectralComponent('grb', spectrum, polarization)\n",
    "\n",
    "source = PointSource('source',                                                          # Name of source (arbitrary, but needs to be unique)\n",
    "                     l = source_direction.l.deg,               # Longitude (deg)\n",
    "                     b = source_direction.b.deg,               # Latitude (deg)\n",
    "                     components = [spectral_component])                                 # Spectral model\n",
    "\n",
    "source.components['grb'].shape.K.fix = True\n",
    "source.components['grb'].shape.E0.fix = True\n",
    "source.components['grb'].shape.alpha.fix = True\n",
    "source.components['grb'].shape.beta.fix = True\n",
    "\n",
    "model = Model(source)"
   ]
  },
  {
   "cell_type": "markdown",
   "id": "d98e8ebd",
   "metadata": {},
   "source": [
    "### Polarization fit in ICRS coordinates"
   ]
  },
  {
   "cell_type": "code",
   "execution_count": 33,
   "id": "8e852aae",
   "metadata": {},
   "outputs": [
    {
     "data": {
      "text/html": [
       "<pre style=\"white-space:pre;overflow-x:auto;line-height:normal;font-family:Menlo,'DejaVu Sans Mono',consolas,'Courier New',monospace\"><span style=\"color: #00ff00; text-decoration-color: #00ff00\">11:11:02 </span><span style=\"color: #00ffaf; text-decoration-color: #00ffaf\">INFO    </span> <span style=\"color: #c6c6c6; text-decoration-color: #c6c6c6; font-weight: bold\"> set the minimizer to minuit                                             </span><a href=\"file:///Users/eneights/software/miniforge3/envs/cosipy-fork/lib/python3.10/site-packages/threeML/classicMLE/joint_likelihood.py\" target=\"_blank\"><span style=\"color: #7f7f7f; text-decoration-color: #7f7f7f\">joint_likelihood.py</span></a><span style=\"color: #7f7f7f; text-decoration-color: #7f7f7f\">:</span><a href=\"file:///Users/eneights/software/miniforge3/envs/cosipy-fork/lib/python3.10/site-packages/threeML/classicMLE/joint_likelihood.py#1045\" target=\"_blank\"><span style=\"color: #7f7f7f; text-decoration-color: #7f7f7f\">1045</span></a>\n",
       "</pre>\n"
      ],
      "text/plain": [
       "\u001b[38;5;46m11:11:02\u001b[0m\u001b[38;5;46m \u001b[0m\u001b[38;5;49mINFO    \u001b[0m \u001b[1;38;5;251m set the minimizer to minuit                                            \u001b[0m\u001b[1;38;5;251m \u001b[0m\u001b]8;id=48516;file:///Users/eneights/software/miniforge3/envs/cosipy-fork/lib/python3.10/site-packages/threeML/classicMLE/joint_likelihood.py\u001b\\\u001b[2mjoint_likelihood.py\u001b[0m\u001b]8;;\u001b\\\u001b[2m:\u001b[0m\u001b]8;id=396566;file:///Users/eneights/software/miniforge3/envs/cosipy-fork/lib/python3.10/site-packages/threeML/classicMLE/joint_likelihood.py#1045\u001b\\\u001b[2m1045\u001b[0m\u001b]8;;\u001b\\\n"
      ]
     },
     "metadata": {},
     "output_type": "display_data"
    },
    {
     "name": "stderr",
     "output_type": "stream",
     "text": [
      "Adding 1e-12 to each bin of the expectation to avoid log-likelihood = -inf.\n"
     ]
    },
    {
     "data": {
      "text/html": [
       "<pre style=\"white-space:pre;overflow-x:auto;line-height:normal;font-family:Menlo,'DejaVu Sans Mono',consolas,'Courier New',monospace\"><span style=\"color: #00ff00; text-decoration-color: #00ff00\">12:25:23 </span><span style=\"color: #ff0000; text-decoration-color: #ff0000; font-weight: bold\">ERROR   </span> <span style=\"color: #c6c6c6; text-decoration-color: #c6c6c6; font-weight: bold\"> Last status:                                                             </span><a href=\"file:///Users/eneights/software/miniforge3/envs/cosipy-fork/lib/python3.10/site-packages/threeML/minimizer/minuit_minimizer.py\" target=\"_blank\"><span style=\"color: #7f7f7f; text-decoration-color: #7f7f7f\">minuit_minimizer.py</span></a><span style=\"color: #7f7f7f; text-decoration-color: #7f7f7f\">:</span><a href=\"file:///Users/eneights/software/miniforge3/envs/cosipy-fork/lib/python3.10/site-packages/threeML/minimizer/minuit_minimizer.py#166\" target=\"_blank\"><span style=\"color: #7f7f7f; text-decoration-color: #7f7f7f\">166</span></a>\n",
       "</pre>\n"
      ],
      "text/plain": [
       "\u001b[38;5;46m12:25:23\u001b[0m\u001b[38;5;46m \u001b[0m\u001b[1;5;91mERROR   \u001b[0m \u001b[1;38;5;251m Last status:                                                            \u001b[0m\u001b[1;38;5;251m \u001b[0m\u001b]8;id=182087;file:///Users/eneights/software/miniforge3/envs/cosipy-fork/lib/python3.10/site-packages/threeML/minimizer/minuit_minimizer.py\u001b\\\u001b[2mminuit_minimizer.py\u001b[0m\u001b]8;;\u001b\\\u001b[2m:\u001b[0m\u001b]8;id=867331;file:///Users/eneights/software/miniforge3/envs/cosipy-fork/lib/python3.10/site-packages/threeML/minimizer/minuit_minimizer.py#166\u001b\\\u001b[2m166\u001b[0m\u001b]8;;\u001b\\\n"
      ]
     },
     "metadata": {},
     "output_type": "display_data"
    },
    {
     "data": {
      "text/html": [
       "<pre style=\"white-space:pre;overflow-x:auto;line-height:normal;font-family:Menlo,'DejaVu Sans Mono',consolas,'Courier New',monospace\"><span style=\"color: #00ff00; text-decoration-color: #00ff00\">         </span><span style=\"color: #ff0000; text-decoration-color: #ff0000; font-weight: bold\">ERROR   </span> <span style=\"color: #c6c6c6; text-decoration-color: #c6c6c6; font-weight: bold\"> ┌─────────────────────────────────────────────────────────────────────── </span><a href=\"file:///Users/eneights/software/miniforge3/envs/cosipy-fork/lib/python3.10/site-packages/threeML/minimizer/minuit_minimizer.py\" target=\"_blank\"><span style=\"color: #7f7f7f; text-decoration-color: #7f7f7f\">minuit_minimizer.py</span></a><span style=\"color: #7f7f7f; text-decoration-color: #7f7f7f\">:</span><a href=\"file:///Users/eneights/software/miniforge3/envs/cosipy-fork/lib/python3.10/site-packages/threeML/minimizer/minuit_minimizer.py#169\" target=\"_blank\"><span style=\"color: #7f7f7f; text-decoration-color: #7f7f7f\">169</span></a>\n",
       "<span style=\"color: #00ff00; text-decoration-color: #00ff00\">         </span>         <span style=\"color: #c6c6c6; text-decoration-color: #c6c6c6; font-weight: bold\">──┐                                                                       </span><span style=\"color: #7f7f7f; text-decoration-color: #7f7f7f\">                       </span>\n",
       "</pre>\n"
      ],
      "text/plain": [
       "\u001b[38;5;46m        \u001b[0m\u001b[38;5;46m \u001b[0m\u001b[1;5;91mERROR   \u001b[0m \u001b[1;38;5;251m ┌───────────────────────────────────────────────────────────────────────\u001b[0m\u001b[1;38;5;251m \u001b[0m\u001b]8;id=463832;file:///Users/eneights/software/miniforge3/envs/cosipy-fork/lib/python3.10/site-packages/threeML/minimizer/minuit_minimizer.py\u001b\\\u001b[2mminuit_minimizer.py\u001b[0m\u001b]8;;\u001b\\\u001b[2m:\u001b[0m\u001b]8;id=652850;file:///Users/eneights/software/miniforge3/envs/cosipy-fork/lib/python3.10/site-packages/threeML/minimizer/minuit_minimizer.py#169\u001b\\\u001b[2m169\u001b[0m\u001b]8;;\u001b\\\n",
       "\u001b[38;5;46m         \u001b[0m         \u001b[1;38;5;251m──┐                                                                      \u001b[0m\u001b[1;38;5;251m \u001b[0m\u001b[2m                       \u001b[0m\n"
      ]
     },
     "metadata": {},
     "output_type": "display_data"
    },
    {
     "data": {
      "text/html": [
       "<pre style=\"white-space:pre;overflow-x:auto;line-height:normal;font-family:Menlo,'DejaVu Sans Mono',consolas,'Courier New',monospace\"><span style=\"color: #00ff00; text-decoration-color: #00ff00\">         </span><span style=\"color: #ff0000; text-decoration-color: #ff0000; font-weight: bold\">ERROR   </span> <span style=\"color: #c6c6c6; text-decoration-color: #c6c6c6; font-weight: bold\"> │                                Migrad                                  </span><a href=\"file:///Users/eneights/software/miniforge3/envs/cosipy-fork/lib/python3.10/site-packages/threeML/minimizer/minuit_minimizer.py\" target=\"_blank\"><span style=\"color: #7f7f7f; text-decoration-color: #7f7f7f\">minuit_minimizer.py</span></a><span style=\"color: #7f7f7f; text-decoration-color: #7f7f7f\">:</span><a href=\"file:///Users/eneights/software/miniforge3/envs/cosipy-fork/lib/python3.10/site-packages/threeML/minimizer/minuit_minimizer.py#169\" target=\"_blank\"><span style=\"color: #7f7f7f; text-decoration-color: #7f7f7f\">169</span></a>\n",
       "<span style=\"color: #00ff00; text-decoration-color: #00ff00\">         </span>         <span style=\"color: #c6c6c6; text-decoration-color: #c6c6c6; font-weight: bold\">│                                                                         </span><span style=\"color: #7f7f7f; text-decoration-color: #7f7f7f\">                       </span>\n",
       "</pre>\n"
      ],
      "text/plain": [
       "\u001b[38;5;46m        \u001b[0m\u001b[38;5;46m \u001b[0m\u001b[1;5;91mERROR   \u001b[0m \u001b[1;38;5;251m │                                Migrad                                 \u001b[0m\u001b[1;38;5;251m \u001b[0m\u001b]8;id=803436;file:///Users/eneights/software/miniforge3/envs/cosipy-fork/lib/python3.10/site-packages/threeML/minimizer/minuit_minimizer.py\u001b\\\u001b[2mminuit_minimizer.py\u001b[0m\u001b]8;;\u001b\\\u001b[2m:\u001b[0m\u001b]8;id=532038;file:///Users/eneights/software/miniforge3/envs/cosipy-fork/lib/python3.10/site-packages/threeML/minimizer/minuit_minimizer.py#169\u001b\\\u001b[2m169\u001b[0m\u001b]8;;\u001b\\\n",
       "\u001b[38;5;46m         \u001b[0m         \u001b[1;38;5;251m│                                                                        \u001b[0m\u001b[1;38;5;251m \u001b[0m\u001b[2m                       \u001b[0m\n"
      ]
     },
     "metadata": {},
     "output_type": "display_data"
    },
    {
     "data": {
      "text/html": [
       "<pre style=\"white-space:pre;overflow-x:auto;line-height:normal;font-family:Menlo,'DejaVu Sans Mono',consolas,'Courier New',monospace\"><span style=\"color: #00ff00; text-decoration-color: #00ff00\">         </span><span style=\"color: #ff0000; text-decoration-color: #ff0000; font-weight: bold\">ERROR   </span> <span style=\"color: #c6c6c6; text-decoration-color: #c6c6c6; font-weight: bold\"> ├──────────────────────────────────┬──────────────────────────────────── </span><a href=\"file:///Users/eneights/software/miniforge3/envs/cosipy-fork/lib/python3.10/site-packages/threeML/minimizer/minuit_minimizer.py\" target=\"_blank\"><span style=\"color: #7f7f7f; text-decoration-color: #7f7f7f\">minuit_minimizer.py</span></a><span style=\"color: #7f7f7f; text-decoration-color: #7f7f7f\">:</span><a href=\"file:///Users/eneights/software/miniforge3/envs/cosipy-fork/lib/python3.10/site-packages/threeML/minimizer/minuit_minimizer.py#169\" target=\"_blank\"><span style=\"color: #7f7f7f; text-decoration-color: #7f7f7f\">169</span></a>\n",
       "<span style=\"color: #00ff00; text-decoration-color: #00ff00\">         </span>         <span style=\"color: #c6c6c6; text-decoration-color: #c6c6c6; font-weight: bold\">──┤                                                                       </span><span style=\"color: #7f7f7f; text-decoration-color: #7f7f7f\">                       </span>\n",
       "</pre>\n"
      ],
      "text/plain": [
       "\u001b[38;5;46m        \u001b[0m\u001b[38;5;46m \u001b[0m\u001b[1;5;91mERROR   \u001b[0m \u001b[1;38;5;251m ├──────────────────────────────────┬────────────────────────────────────\u001b[0m\u001b[1;38;5;251m \u001b[0m\u001b]8;id=264800;file:///Users/eneights/software/miniforge3/envs/cosipy-fork/lib/python3.10/site-packages/threeML/minimizer/minuit_minimizer.py\u001b\\\u001b[2mminuit_minimizer.py\u001b[0m\u001b]8;;\u001b\\\u001b[2m:\u001b[0m\u001b]8;id=785176;file:///Users/eneights/software/miniforge3/envs/cosipy-fork/lib/python3.10/site-packages/threeML/minimizer/minuit_minimizer.py#169\u001b\\\u001b[2m169\u001b[0m\u001b]8;;\u001b\\\n",
       "\u001b[38;5;46m         \u001b[0m         \u001b[1;38;5;251m──┤                                                                      \u001b[0m\u001b[1;38;5;251m \u001b[0m\u001b[2m                       \u001b[0m\n"
      ]
     },
     "metadata": {},
     "output_type": "display_data"
    },
    {
     "data": {
      "text/html": [
       "<pre style=\"white-space:pre;overflow-x:auto;line-height:normal;font-family:Menlo,'DejaVu Sans Mono',consolas,'Courier New',monospace\"><span style=\"color: #00ff00; text-decoration-color: #00ff00\">         </span><span style=\"color: #ff0000; text-decoration-color: #ff0000; font-weight: bold\">ERROR   </span> <span style=\"color: #c6c6c6; text-decoration-color: #c6c6c6; font-weight: bold\"> │ FCN = </span><span style=\"color: #c0c0c0; text-decoration-color: #c0c0c0; font-weight: bold\">1.911e+04</span><span style=\"color: #c6c6c6; text-decoration-color: #c6c6c6; font-weight: bold\">                  │             Nfcn = </span><span style=\"color: #c0c0c0; text-decoration-color: #c0c0c0; font-weight: bold\">3445</span><span style=\"color: #c6c6c6; text-decoration-color: #c6c6c6; font-weight: bold\">             </span><a href=\"file:///Users/eneights/software/miniforge3/envs/cosipy-fork/lib/python3.10/site-packages/threeML/minimizer/minuit_minimizer.py\" target=\"_blank\"><span style=\"color: #7f7f7f; text-decoration-color: #7f7f7f\">minuit_minimizer.py</span></a><span style=\"color: #7f7f7f; text-decoration-color: #7f7f7f\">:</span><a href=\"file:///Users/eneights/software/miniforge3/envs/cosipy-fork/lib/python3.10/site-packages/threeML/minimizer/minuit_minimizer.py#169\" target=\"_blank\"><span style=\"color: #7f7f7f; text-decoration-color: #7f7f7f\">169</span></a>\n",
       "<span style=\"color: #00ff00; text-decoration-color: #00ff00\">         </span>         <span style=\"color: #c6c6c6; text-decoration-color: #c6c6c6; font-weight: bold\">│                                                                         </span><span style=\"color: #7f7f7f; text-decoration-color: #7f7f7f\">                       </span>\n",
       "</pre>\n"
      ],
      "text/plain": [
       "\u001b[38;5;46m        \u001b[0m\u001b[38;5;46m \u001b[0m\u001b[1;5;91mERROR   \u001b[0m \u001b[1;38;5;251m │ FCN = \u001b[0m\u001b[1;37m1.911e+04\u001b[0m\u001b[1;38;5;251m                  │             Nfcn = \u001b[0m\u001b[1;37m3445\u001b[0m\u001b[1;38;5;251m            \u001b[0m\u001b[1;38;5;251m \u001b[0m\u001b]8;id=151184;file:///Users/eneights/software/miniforge3/envs/cosipy-fork/lib/python3.10/site-packages/threeML/minimizer/minuit_minimizer.py\u001b\\\u001b[2mminuit_minimizer.py\u001b[0m\u001b]8;;\u001b\\\u001b[2m:\u001b[0m\u001b]8;id=287863;file:///Users/eneights/software/miniforge3/envs/cosipy-fork/lib/python3.10/site-packages/threeML/minimizer/minuit_minimizer.py#169\u001b\\\u001b[2m169\u001b[0m\u001b]8;;\u001b\\\n",
       "\u001b[38;5;46m         \u001b[0m         \u001b[1;38;5;251m│                                                                        \u001b[0m\u001b[1;38;5;251m \u001b[0m\u001b[2m                       \u001b[0m\n"
      ]
     },
     "metadata": {},
     "output_type": "display_data"
    },
    {
     "data": {
      "text/html": [
       "<pre style=\"white-space:pre;overflow-x:auto;line-height:normal;font-family:Menlo,'DejaVu Sans Mono',consolas,'Courier New',monospace\"><span style=\"color: #00ff00; text-decoration-color: #00ff00\">         </span><span style=\"color: #ff0000; text-decoration-color: #ff0000; font-weight: bold\">ERROR   </span> <span style=\"color: #c6c6c6; text-decoration-color: #c6c6c6; font-weight: bold\"> │ EDM = </span><span style=\"color: #c0c0c0; text-decoration-color: #c0c0c0; font-weight: bold\">1.4</span><span style=\"color: #c6c6c6; text-decoration-color: #c6c6c6; font-weight: bold\"> (Goal: </span><span style=\"color: #c0c0c0; text-decoration-color: #c0c0c0; font-weight: bold\">0.0001</span><span style=\"color: #c6c6c6; text-decoration-color: #c6c6c6; font-weight: bold\">)         │                                     </span><a href=\"file:///Users/eneights/software/miniforge3/envs/cosipy-fork/lib/python3.10/site-packages/threeML/minimizer/minuit_minimizer.py\" target=\"_blank\"><span style=\"color: #7f7f7f; text-decoration-color: #7f7f7f\">minuit_minimizer.py</span></a><span style=\"color: #7f7f7f; text-decoration-color: #7f7f7f\">:</span><a href=\"file:///Users/eneights/software/miniforge3/envs/cosipy-fork/lib/python3.10/site-packages/threeML/minimizer/minuit_minimizer.py#169\" target=\"_blank\"><span style=\"color: #7f7f7f; text-decoration-color: #7f7f7f\">169</span></a>\n",
       "<span style=\"color: #00ff00; text-decoration-color: #00ff00\">         </span>         <span style=\"color: #c6c6c6; text-decoration-color: #c6c6c6; font-weight: bold\">│                                                                         </span><span style=\"color: #7f7f7f; text-decoration-color: #7f7f7f\">                       </span>\n",
       "</pre>\n"
      ],
      "text/plain": [
       "\u001b[38;5;46m        \u001b[0m\u001b[38;5;46m \u001b[0m\u001b[1;5;91mERROR   \u001b[0m \u001b[1;38;5;251m │ EDM = \u001b[0m\u001b[1;37m1.4\u001b[0m\u001b[1;38;5;251m \u001b[0m\u001b[1;38;5;251m(\u001b[0m\u001b[1;38;5;251mGoal: \u001b[0m\u001b[1;37m0.0001\u001b[0m\u001b[1;38;5;251m)\u001b[0m\u001b[1;38;5;251m         │                                    \u001b[0m\u001b[1;38;5;251m \u001b[0m\u001b]8;id=833149;file:///Users/eneights/software/miniforge3/envs/cosipy-fork/lib/python3.10/site-packages/threeML/minimizer/minuit_minimizer.py\u001b\\\u001b[2mminuit_minimizer.py\u001b[0m\u001b]8;;\u001b\\\u001b[2m:\u001b[0m\u001b]8;id=8926;file:///Users/eneights/software/miniforge3/envs/cosipy-fork/lib/python3.10/site-packages/threeML/minimizer/minuit_minimizer.py#169\u001b\\\u001b[2m169\u001b[0m\u001b]8;;\u001b\\\n",
       "\u001b[38;5;46m         \u001b[0m         \u001b[1;38;5;251m│                                                                        \u001b[0m\u001b[1;38;5;251m \u001b[0m\u001b[2m                       \u001b[0m\n"
      ]
     },
     "metadata": {},
     "output_type": "display_data"
    },
    {
     "data": {
      "text/html": [
       "<pre style=\"white-space:pre;overflow-x:auto;line-height:normal;font-family:Menlo,'DejaVu Sans Mono',consolas,'Courier New',monospace\"><span style=\"color: #00ff00; text-decoration-color: #00ff00\">         </span><span style=\"color: #ff0000; text-decoration-color: #ff0000; font-weight: bold\">ERROR   </span> <span style=\"color: #c6c6c6; text-decoration-color: #c6c6c6; font-weight: bold\"> ├──────────────────────────────────┼──────────────────────────────────── </span><a href=\"file:///Users/eneights/software/miniforge3/envs/cosipy-fork/lib/python3.10/site-packages/threeML/minimizer/minuit_minimizer.py\" target=\"_blank\"><span style=\"color: #7f7f7f; text-decoration-color: #7f7f7f\">minuit_minimizer.py</span></a><span style=\"color: #7f7f7f; text-decoration-color: #7f7f7f\">:</span><a href=\"file:///Users/eneights/software/miniforge3/envs/cosipy-fork/lib/python3.10/site-packages/threeML/minimizer/minuit_minimizer.py#169\" target=\"_blank\"><span style=\"color: #7f7f7f; text-decoration-color: #7f7f7f\">169</span></a>\n",
       "<span style=\"color: #00ff00; text-decoration-color: #00ff00\">         </span>         <span style=\"color: #c6c6c6; text-decoration-color: #c6c6c6; font-weight: bold\">──┤                                                                       </span><span style=\"color: #7f7f7f; text-decoration-color: #7f7f7f\">                       </span>\n",
       "</pre>\n"
      ],
      "text/plain": [
       "\u001b[38;5;46m        \u001b[0m\u001b[38;5;46m \u001b[0m\u001b[1;5;91mERROR   \u001b[0m \u001b[1;38;5;251m ├──────────────────────────────────┼────────────────────────────────────\u001b[0m\u001b[1;38;5;251m \u001b[0m\u001b]8;id=720300;file:///Users/eneights/software/miniforge3/envs/cosipy-fork/lib/python3.10/site-packages/threeML/minimizer/minuit_minimizer.py\u001b\\\u001b[2mminuit_minimizer.py\u001b[0m\u001b]8;;\u001b\\\u001b[2m:\u001b[0m\u001b]8;id=584454;file:///Users/eneights/software/miniforge3/envs/cosipy-fork/lib/python3.10/site-packages/threeML/minimizer/minuit_minimizer.py#169\u001b\\\u001b[2m169\u001b[0m\u001b]8;;\u001b\\\n",
       "\u001b[38;5;46m         \u001b[0m         \u001b[1;38;5;251m──┤                                                                      \u001b[0m\u001b[1;38;5;251m \u001b[0m\u001b[2m                       \u001b[0m\n"
      ]
     },
     "metadata": {},
     "output_type": "display_data"
    },
    {
     "data": {
      "text/html": [
       "<pre style=\"white-space:pre;overflow-x:auto;line-height:normal;font-family:Menlo,'DejaVu Sans Mono',consolas,'Courier New',monospace\"><span style=\"color: #00ff00; text-decoration-color: #00ff00\">         </span><span style=\"color: #ff0000; text-decoration-color: #ff0000; font-weight: bold\">ERROR   </span> <span style=\"color: #c6c6c6; text-decoration-color: #c6c6c6; font-weight: bold\"> │         INVALID Minimum          │   ABOVE EDM threshold (goal x </span><span style=\"color: #c0c0c0; text-decoration-color: #c0c0c0; font-weight: bold\">10</span><span style=\"color: #c6c6c6; text-decoration-color: #c6c6c6; font-weight: bold\">)   </span><a href=\"file:///Users/eneights/software/miniforge3/envs/cosipy-fork/lib/python3.10/site-packages/threeML/minimizer/minuit_minimizer.py\" target=\"_blank\"><span style=\"color: #7f7f7f; text-decoration-color: #7f7f7f\">minuit_minimizer.py</span></a><span style=\"color: #7f7f7f; text-decoration-color: #7f7f7f\">:</span><a href=\"file:///Users/eneights/software/miniforge3/envs/cosipy-fork/lib/python3.10/site-packages/threeML/minimizer/minuit_minimizer.py#169\" target=\"_blank\"><span style=\"color: #7f7f7f; text-decoration-color: #7f7f7f\">169</span></a>\n",
       "<span style=\"color: #00ff00; text-decoration-color: #00ff00\">         </span>         <span style=\"color: #c6c6c6; text-decoration-color: #c6c6c6; font-weight: bold\">│                                                                         </span><span style=\"color: #7f7f7f; text-decoration-color: #7f7f7f\">                       </span>\n",
       "</pre>\n"
      ],
      "text/plain": [
       "\u001b[38;5;46m        \u001b[0m\u001b[38;5;46m \u001b[0m\u001b[1;5;91mERROR   \u001b[0m \u001b[1;38;5;251m │         INVALID Minimum          │   ABOVE EDM threshold \u001b[0m\u001b[1;38;5;251m(\u001b[0m\u001b[1;38;5;251mgoal x \u001b[0m\u001b[1;37m10\u001b[0m\u001b[1;38;5;251m)\u001b[0m\u001b[1;38;5;251m  \u001b[0m\u001b[1;38;5;251m \u001b[0m\u001b]8;id=231629;file:///Users/eneights/software/miniforge3/envs/cosipy-fork/lib/python3.10/site-packages/threeML/minimizer/minuit_minimizer.py\u001b\\\u001b[2mminuit_minimizer.py\u001b[0m\u001b]8;;\u001b\\\u001b[2m:\u001b[0m\u001b]8;id=22241;file:///Users/eneights/software/miniforge3/envs/cosipy-fork/lib/python3.10/site-packages/threeML/minimizer/minuit_minimizer.py#169\u001b\\\u001b[2m169\u001b[0m\u001b]8;;\u001b\\\n",
       "\u001b[38;5;46m         \u001b[0m         \u001b[1;38;5;251m│                                                                        \u001b[0m\u001b[1;38;5;251m \u001b[0m\u001b[2m                       \u001b[0m\n"
      ]
     },
     "metadata": {},
     "output_type": "display_data"
    },
    {
     "data": {
      "text/html": [
       "<pre style=\"white-space:pre;overflow-x:auto;line-height:normal;font-family:Menlo,'DejaVu Sans Mono',consolas,'Courier New',monospace\"><span style=\"color: #00ff00; text-decoration-color: #00ff00\">         </span><span style=\"color: #ff0000; text-decoration-color: #ff0000; font-weight: bold\">ERROR   </span> <span style=\"color: #c6c6c6; text-decoration-color: #c6c6c6; font-weight: bold\"> ├──────────────────────────────────┼──────────────────────────────────── </span><a href=\"file:///Users/eneights/software/miniforge3/envs/cosipy-fork/lib/python3.10/site-packages/threeML/minimizer/minuit_minimizer.py\" target=\"_blank\"><span style=\"color: #7f7f7f; text-decoration-color: #7f7f7f\">minuit_minimizer.py</span></a><span style=\"color: #7f7f7f; text-decoration-color: #7f7f7f\">:</span><a href=\"file:///Users/eneights/software/miniforge3/envs/cosipy-fork/lib/python3.10/site-packages/threeML/minimizer/minuit_minimizer.py#169\" target=\"_blank\"><span style=\"color: #7f7f7f; text-decoration-color: #7f7f7f\">169</span></a>\n",
       "<span style=\"color: #00ff00; text-decoration-color: #00ff00\">         </span>         <span style=\"color: #c6c6c6; text-decoration-color: #c6c6c6; font-weight: bold\">──┤                                                                       </span><span style=\"color: #7f7f7f; text-decoration-color: #7f7f7f\">                       </span>\n",
       "</pre>\n"
      ],
      "text/plain": [
       "\u001b[38;5;46m        \u001b[0m\u001b[38;5;46m \u001b[0m\u001b[1;5;91mERROR   \u001b[0m \u001b[1;38;5;251m ├──────────────────────────────────┼────────────────────────────────────\u001b[0m\u001b[1;38;5;251m \u001b[0m\u001b]8;id=305270;file:///Users/eneights/software/miniforge3/envs/cosipy-fork/lib/python3.10/site-packages/threeML/minimizer/minuit_minimizer.py\u001b\\\u001b[2mminuit_minimizer.py\u001b[0m\u001b]8;;\u001b\\\u001b[2m:\u001b[0m\u001b]8;id=559312;file:///Users/eneights/software/miniforge3/envs/cosipy-fork/lib/python3.10/site-packages/threeML/minimizer/minuit_minimizer.py#169\u001b\\\u001b[2m169\u001b[0m\u001b]8;;\u001b\\\n",
       "\u001b[38;5;46m         \u001b[0m         \u001b[1;38;5;251m──┤                                                                      \u001b[0m\u001b[1;38;5;251m \u001b[0m\u001b[2m                       \u001b[0m\n"
      ]
     },
     "metadata": {},
     "output_type": "display_data"
    },
    {
     "data": {
      "text/html": [
       "<pre style=\"white-space:pre;overflow-x:auto;line-height:normal;font-family:Menlo,'DejaVu Sans Mono',consolas,'Courier New',monospace\"><span style=\"color: #00ff00; text-decoration-color: #00ff00\">         </span><span style=\"color: #ff0000; text-decoration-color: #ff0000; font-weight: bold\">ERROR   </span> <span style=\"color: #c6c6c6; text-decoration-color: #c6c6c6; font-weight: bold\"> │      No parameters at limit      │           Below call limit          </span><a href=\"file:///Users/eneights/software/miniforge3/envs/cosipy-fork/lib/python3.10/site-packages/threeML/minimizer/minuit_minimizer.py\" target=\"_blank\"><span style=\"color: #7f7f7f; text-decoration-color: #7f7f7f\">minuit_minimizer.py</span></a><span style=\"color: #7f7f7f; text-decoration-color: #7f7f7f\">:</span><a href=\"file:///Users/eneights/software/miniforge3/envs/cosipy-fork/lib/python3.10/site-packages/threeML/minimizer/minuit_minimizer.py#169\" target=\"_blank\"><span style=\"color: #7f7f7f; text-decoration-color: #7f7f7f\">169</span></a>\n",
       "<span style=\"color: #00ff00; text-decoration-color: #00ff00\">         </span>         <span style=\"color: #c6c6c6; text-decoration-color: #c6c6c6; font-weight: bold\">│                                                                         </span><span style=\"color: #7f7f7f; text-decoration-color: #7f7f7f\">                       </span>\n",
       "</pre>\n"
      ],
      "text/plain": [
       "\u001b[38;5;46m        \u001b[0m\u001b[38;5;46m \u001b[0m\u001b[1;5;91mERROR   \u001b[0m \u001b[1;38;5;251m │      No parameters at limit      │           Below call limit         \u001b[0m\u001b[1;38;5;251m \u001b[0m\u001b]8;id=80144;file:///Users/eneights/software/miniforge3/envs/cosipy-fork/lib/python3.10/site-packages/threeML/minimizer/minuit_minimizer.py\u001b\\\u001b[2mminuit_minimizer.py\u001b[0m\u001b]8;;\u001b\\\u001b[2m:\u001b[0m\u001b]8;id=935977;file:///Users/eneights/software/miniforge3/envs/cosipy-fork/lib/python3.10/site-packages/threeML/minimizer/minuit_minimizer.py#169\u001b\\\u001b[2m169\u001b[0m\u001b]8;;\u001b\\\n",
       "\u001b[38;5;46m         \u001b[0m         \u001b[1;38;5;251m│                                                                        \u001b[0m\u001b[1;38;5;251m \u001b[0m\u001b[2m                       \u001b[0m\n"
      ]
     },
     "metadata": {},
     "output_type": "display_data"
    },
    {
     "data": {
      "text/html": [
       "<pre style=\"white-space:pre;overflow-x:auto;line-height:normal;font-family:Menlo,'DejaVu Sans Mono',consolas,'Courier New',monospace\"><span style=\"color: #00ff00; text-decoration-color: #00ff00\">         </span><span style=\"color: #ff0000; text-decoration-color: #ff0000; font-weight: bold\">ERROR   </span> <span style=\"color: #c6c6c6; text-decoration-color: #c6c6c6; font-weight: bold\"> ├──────────────────────────────────┼──────────────────────────────────── </span><a href=\"file:///Users/eneights/software/miniforge3/envs/cosipy-fork/lib/python3.10/site-packages/threeML/minimizer/minuit_minimizer.py\" target=\"_blank\"><span style=\"color: #7f7f7f; text-decoration-color: #7f7f7f\">minuit_minimizer.py</span></a><span style=\"color: #7f7f7f; text-decoration-color: #7f7f7f\">:</span><a href=\"file:///Users/eneights/software/miniforge3/envs/cosipy-fork/lib/python3.10/site-packages/threeML/minimizer/minuit_minimizer.py#169\" target=\"_blank\"><span style=\"color: #7f7f7f; text-decoration-color: #7f7f7f\">169</span></a>\n",
       "<span style=\"color: #00ff00; text-decoration-color: #00ff00\">         </span>         <span style=\"color: #c6c6c6; text-decoration-color: #c6c6c6; font-weight: bold\">──┤                                                                       </span><span style=\"color: #7f7f7f; text-decoration-color: #7f7f7f\">                       </span>\n",
       "</pre>\n"
      ],
      "text/plain": [
       "\u001b[38;5;46m        \u001b[0m\u001b[38;5;46m \u001b[0m\u001b[1;5;91mERROR   \u001b[0m \u001b[1;38;5;251m ├──────────────────────────────────┼────────────────────────────────────\u001b[0m\u001b[1;38;5;251m \u001b[0m\u001b]8;id=37920;file:///Users/eneights/software/miniforge3/envs/cosipy-fork/lib/python3.10/site-packages/threeML/minimizer/minuit_minimizer.py\u001b\\\u001b[2mminuit_minimizer.py\u001b[0m\u001b]8;;\u001b\\\u001b[2m:\u001b[0m\u001b]8;id=17116;file:///Users/eneights/software/miniforge3/envs/cosipy-fork/lib/python3.10/site-packages/threeML/minimizer/minuit_minimizer.py#169\u001b\\\u001b[2m169\u001b[0m\u001b]8;;\u001b\\\n",
       "\u001b[38;5;46m         \u001b[0m         \u001b[1;38;5;251m──┤                                                                      \u001b[0m\u001b[1;38;5;251m \u001b[0m\u001b[2m                       \u001b[0m\n"
      ]
     },
     "metadata": {},
     "output_type": "display_data"
    },
    {
     "data": {
      "text/html": [
       "<pre style=\"white-space:pre;overflow-x:auto;line-height:normal;font-family:Menlo,'DejaVu Sans Mono',consolas,'Courier New',monospace\"><span style=\"color: #00ff00; text-decoration-color: #00ff00\">         </span><span style=\"color: #ff0000; text-decoration-color: #ff0000; font-weight: bold\">ERROR   </span> <span style=\"color: #c6c6c6; text-decoration-color: #c6c6c6; font-weight: bold\"> │             Hesse ok             │         Covariance accurate         </span><a href=\"file:///Users/eneights/software/miniforge3/envs/cosipy-fork/lib/python3.10/site-packages/threeML/minimizer/minuit_minimizer.py\" target=\"_blank\"><span style=\"color: #7f7f7f; text-decoration-color: #7f7f7f\">minuit_minimizer.py</span></a><span style=\"color: #7f7f7f; text-decoration-color: #7f7f7f\">:</span><a href=\"file:///Users/eneights/software/miniforge3/envs/cosipy-fork/lib/python3.10/site-packages/threeML/minimizer/minuit_minimizer.py#169\" target=\"_blank\"><span style=\"color: #7f7f7f; text-decoration-color: #7f7f7f\">169</span></a>\n",
       "<span style=\"color: #00ff00; text-decoration-color: #00ff00\">         </span>         <span style=\"color: #c6c6c6; text-decoration-color: #c6c6c6; font-weight: bold\">│                                                                         </span><span style=\"color: #7f7f7f; text-decoration-color: #7f7f7f\">                       </span>\n",
       "</pre>\n"
      ],
      "text/plain": [
       "\u001b[38;5;46m        \u001b[0m\u001b[38;5;46m \u001b[0m\u001b[1;5;91mERROR   \u001b[0m \u001b[1;38;5;251m │             Hesse ok             │         Covariance accurate        \u001b[0m\u001b[1;38;5;251m \u001b[0m\u001b]8;id=96448;file:///Users/eneights/software/miniforge3/envs/cosipy-fork/lib/python3.10/site-packages/threeML/minimizer/minuit_minimizer.py\u001b\\\u001b[2mminuit_minimizer.py\u001b[0m\u001b]8;;\u001b\\\u001b[2m:\u001b[0m\u001b]8;id=420348;file:///Users/eneights/software/miniforge3/envs/cosipy-fork/lib/python3.10/site-packages/threeML/minimizer/minuit_minimizer.py#169\u001b\\\u001b[2m169\u001b[0m\u001b]8;;\u001b\\\n",
       "\u001b[38;5;46m         \u001b[0m         \u001b[1;38;5;251m│                                                                        \u001b[0m\u001b[1;38;5;251m \u001b[0m\u001b[2m                       \u001b[0m\n"
      ]
     },
     "metadata": {},
     "output_type": "display_data"
    },
    {
     "data": {
      "text/html": [
       "<pre style=\"white-space:pre;overflow-x:auto;line-height:normal;font-family:Menlo,'DejaVu Sans Mono',consolas,'Courier New',monospace\"><span style=\"color: #00ff00; text-decoration-color: #00ff00\">         </span><span style=\"color: #ff0000; text-decoration-color: #ff0000; font-weight: bold\">ERROR   </span> <span style=\"color: #c6c6c6; text-decoration-color: #c6c6c6; font-weight: bold\"> └──────────────────────────────────┴──────────────────────────────────── </span><a href=\"file:///Users/eneights/software/miniforge3/envs/cosipy-fork/lib/python3.10/site-packages/threeML/minimizer/minuit_minimizer.py\" target=\"_blank\"><span style=\"color: #7f7f7f; text-decoration-color: #7f7f7f\">minuit_minimizer.py</span></a><span style=\"color: #7f7f7f; text-decoration-color: #7f7f7f\">:</span><a href=\"file:///Users/eneights/software/miniforge3/envs/cosipy-fork/lib/python3.10/site-packages/threeML/minimizer/minuit_minimizer.py#169\" target=\"_blank\"><span style=\"color: #7f7f7f; text-decoration-color: #7f7f7f\">169</span></a>\n",
       "<span style=\"color: #00ff00; text-decoration-color: #00ff00\">         </span>         <span style=\"color: #c6c6c6; text-decoration-color: #c6c6c6; font-weight: bold\">──┘                                                                       </span><span style=\"color: #7f7f7f; text-decoration-color: #7f7f7f\">                       </span>\n",
       "</pre>\n"
      ],
      "text/plain": [
       "\u001b[38;5;46m        \u001b[0m\u001b[38;5;46m \u001b[0m\u001b[1;5;91mERROR   \u001b[0m \u001b[1;38;5;251m └──────────────────────────────────┴────────────────────────────────────\u001b[0m\u001b[1;38;5;251m \u001b[0m\u001b]8;id=348244;file:///Users/eneights/software/miniforge3/envs/cosipy-fork/lib/python3.10/site-packages/threeML/minimizer/minuit_minimizer.py\u001b\\\u001b[2mminuit_minimizer.py\u001b[0m\u001b]8;;\u001b\\\u001b[2m:\u001b[0m\u001b]8;id=848727;file:///Users/eneights/software/miniforge3/envs/cosipy-fork/lib/python3.10/site-packages/threeML/minimizer/minuit_minimizer.py#169\u001b\\\u001b[2m169\u001b[0m\u001b]8;;\u001b\\\n",
       "\u001b[38;5;46m         \u001b[0m         \u001b[1;38;5;251m──┘                                                                      \u001b[0m\u001b[1;38;5;251m \u001b[0m\u001b[2m                       \u001b[0m\n"
      ]
     },
     "metadata": {},
     "output_type": "display_data"
    },
    {
     "data": {
      "text/html": [
       "<pre style=\"white-space:pre;overflow-x:auto;line-height:normal;font-family:Menlo,'DejaVu Sans Mono',consolas,'Courier New',monospace\"><span style=\"color: #00ff00; text-decoration-color: #00ff00\">         </span><span style=\"color: #ff0000; text-decoration-color: #ff0000; font-weight: bold\">ERROR   </span> <span style=\"color: #c6c6c6; text-decoration-color: #c6c6c6; font-weight: bold\"> ┌───┬─────────────────────────────────────────┬───────────┬───────────┬─ </span><a href=\"file:///Users/eneights/software/miniforge3/envs/cosipy-fork/lib/python3.10/site-packages/threeML/minimizer/minuit_minimizer.py\" target=\"_blank\"><span style=\"color: #7f7f7f; text-decoration-color: #7f7f7f\">minuit_minimizer.py</span></a><span style=\"color: #7f7f7f; text-decoration-color: #7f7f7f\">:</span><a href=\"file:///Users/eneights/software/miniforge3/envs/cosipy-fork/lib/python3.10/site-packages/threeML/minimizer/minuit_minimizer.py#174\" target=\"_blank\"><span style=\"color: #7f7f7f; text-decoration-color: #7f7f7f\">174</span></a>\n",
       "<span style=\"color: #00ff00; text-decoration-color: #00ff00\">         </span>         <span style=\"color: #c6c6c6; text-decoration-color: #c6c6c6; font-weight: bold\">───────────┬────────────┬─────────┬─────────┬───────┐                     </span><span style=\"color: #7f7f7f; text-decoration-color: #7f7f7f\">                       </span>\n",
       "</pre>\n"
      ],
      "text/plain": [
       "\u001b[38;5;46m        \u001b[0m\u001b[38;5;46m \u001b[0m\u001b[1;5;91mERROR   \u001b[0m \u001b[1;38;5;251m ┌───┬─────────────────────────────────────────┬───────────┬───────────┬─\u001b[0m\u001b[1;38;5;251m \u001b[0m\u001b]8;id=796559;file:///Users/eneights/software/miniforge3/envs/cosipy-fork/lib/python3.10/site-packages/threeML/minimizer/minuit_minimizer.py\u001b\\\u001b[2mminuit_minimizer.py\u001b[0m\u001b]8;;\u001b\\\u001b[2m:\u001b[0m\u001b]8;id=262290;file:///Users/eneights/software/miniforge3/envs/cosipy-fork/lib/python3.10/site-packages/threeML/minimizer/minuit_minimizer.py#174\u001b\\\u001b[2m174\u001b[0m\u001b]8;;\u001b\\\n",
       "\u001b[38;5;46m         \u001b[0m         \u001b[1;38;5;251m───────────┬────────────┬─────────┬─────────┬───────┐                    \u001b[0m\u001b[1;38;5;251m \u001b[0m\u001b[2m                       \u001b[0m\n"
      ]
     },
     "metadata": {},
     "output_type": "display_data"
    },
    {
     "data": {
      "text/html": [
       "<pre style=\"white-space:pre;overflow-x:auto;line-height:normal;font-family:Menlo,'DejaVu Sans Mono',consolas,'Courier New',monospace\"><span style=\"color: #00ff00; text-decoration-color: #00ff00\">         </span><span style=\"color: #ff0000; text-decoration-color: #ff0000; font-weight: bold\">ERROR   </span> <span style=\"color: #c6c6c6; text-decoration-color: #c6c6c6; font-weight: bold\"> │   │ Name                                    │   Value   │ Hesse Err │  </span><a href=\"file:///Users/eneights/software/miniforge3/envs/cosipy-fork/lib/python3.10/site-packages/threeML/minimizer/minuit_minimizer.py\" target=\"_blank\"><span style=\"color: #7f7f7f; text-decoration-color: #7f7f7f\">minuit_minimizer.py</span></a><span style=\"color: #7f7f7f; text-decoration-color: #7f7f7f\">:</span><a href=\"file:///Users/eneights/software/miniforge3/envs/cosipy-fork/lib/python3.10/site-packages/threeML/minimizer/minuit_minimizer.py#174\" target=\"_blank\"><span style=\"color: #7f7f7f; text-decoration-color: #7f7f7f\">174</span></a>\n",
       "<span style=\"color: #00ff00; text-decoration-color: #00ff00\">         </span>         <span style=\"color: #c6c6c6; text-decoration-color: #c6c6c6; font-weight: bold\">Minos Err- │ Minos Err+ │ Limit-  │ Limit+  │ Fixed │                     </span><span style=\"color: #7f7f7f; text-decoration-color: #7f7f7f\">                       </span>\n",
       "</pre>\n"
      ],
      "text/plain": [
       "\u001b[38;5;46m        \u001b[0m\u001b[38;5;46m \u001b[0m\u001b[1;5;91mERROR   \u001b[0m \u001b[1;38;5;251m │   │ Name                                    │   Value   │ Hesse Err │ \u001b[0m\u001b[1;38;5;251m \u001b[0m\u001b]8;id=28686;file:///Users/eneights/software/miniforge3/envs/cosipy-fork/lib/python3.10/site-packages/threeML/minimizer/minuit_minimizer.py\u001b\\\u001b[2mminuit_minimizer.py\u001b[0m\u001b]8;;\u001b\\\u001b[2m:\u001b[0m\u001b]8;id=50714;file:///Users/eneights/software/miniforge3/envs/cosipy-fork/lib/python3.10/site-packages/threeML/minimizer/minuit_minimizer.py#174\u001b\\\u001b[2m174\u001b[0m\u001b]8;;\u001b\\\n",
       "\u001b[38;5;46m         \u001b[0m         \u001b[1;38;5;251mMinos Err- │ Minos Err+ │ Limit-  │ Limit+  │ Fixed │                    \u001b[0m\u001b[1;38;5;251m \u001b[0m\u001b[2m                       \u001b[0m\n"
      ]
     },
     "metadata": {},
     "output_type": "display_data"
    },
    {
     "data": {
      "text/html": [
       "<pre style=\"white-space:pre;overflow-x:auto;line-height:normal;font-family:Menlo,'DejaVu Sans Mono',consolas,'Courier New',monospace\"><span style=\"color: #00ff00; text-decoration-color: #00ff00\">         </span><span style=\"color: #ff0000; text-decoration-color: #ff0000; font-weight: bold\">ERROR   </span> <span style=\"color: #c6c6c6; text-decoration-color: #c6c6c6; font-weight: bold\"> ├───┼─────────────────────────────────────────┼───────────┼───────────┼─ </span><a href=\"file:///Users/eneights/software/miniforge3/envs/cosipy-fork/lib/python3.10/site-packages/threeML/minimizer/minuit_minimizer.py\" target=\"_blank\"><span style=\"color: #7f7f7f; text-decoration-color: #7f7f7f\">minuit_minimizer.py</span></a><span style=\"color: #7f7f7f; text-decoration-color: #7f7f7f\">:</span><a href=\"file:///Users/eneights/software/miniforge3/envs/cosipy-fork/lib/python3.10/site-packages/threeML/minimizer/minuit_minimizer.py#174\" target=\"_blank\"><span style=\"color: #7f7f7f; text-decoration-color: #7f7f7f\">174</span></a>\n",
       "<span style=\"color: #00ff00; text-decoration-color: #00ff00\">         </span>         <span style=\"color: #c6c6c6; text-decoration-color: #c6c6c6; font-weight: bold\">───────────┼────────────┼─────────┼─────────┼───────┤                     </span><span style=\"color: #7f7f7f; text-decoration-color: #7f7f7f\">                       </span>\n",
       "</pre>\n"
      ],
      "text/plain": [
       "\u001b[38;5;46m        \u001b[0m\u001b[38;5;46m \u001b[0m\u001b[1;5;91mERROR   \u001b[0m \u001b[1;38;5;251m ├───┼─────────────────────────────────────────┼───────────┼───────────┼─\u001b[0m\u001b[1;38;5;251m \u001b[0m\u001b]8;id=268308;file:///Users/eneights/software/miniforge3/envs/cosipy-fork/lib/python3.10/site-packages/threeML/minimizer/minuit_minimizer.py\u001b\\\u001b[2mminuit_minimizer.py\u001b[0m\u001b]8;;\u001b\\\u001b[2m:\u001b[0m\u001b]8;id=455215;file:///Users/eneights/software/miniforge3/envs/cosipy-fork/lib/python3.10/site-packages/threeML/minimizer/minuit_minimizer.py#174\u001b\\\u001b[2m174\u001b[0m\u001b]8;;\u001b\\\n",
       "\u001b[38;5;46m         \u001b[0m         \u001b[1;38;5;251m───────────┼────────────┼─────────┼─────────┼───────┤                    \u001b[0m\u001b[1;38;5;251m \u001b[0m\u001b[2m                       \u001b[0m\n"
      ]
     },
     "metadata": {},
     "output_type": "display_data"
    },
    {
     "data": {
      "text/html": [
       "<pre style=\"white-space:pre;overflow-x:auto;line-height:normal;font-family:Menlo,'DejaVu Sans Mono',consolas,'Courier New',monospace\"><span style=\"color: #00ff00; text-decoration-color: #00ff00\">         </span><span style=\"color: #ff0000; text-decoration-color: #ff0000; font-weight: bold\">ERROR   </span> <span style=\"color: #c6c6c6; text-decoration-color: #c6c6c6; font-weight: bold\"> │ </span><span style=\"color: #c0c0c0; text-decoration-color: #c0c0c0; font-weight: bold\">0</span><span style=\"color: #c6c6c6; text-decoration-color: #c6c6c6; font-weight: bold\"> │ source_spectrum_grb_polarization_degree │   </span><span style=\"color: #c0c0c0; text-decoration-color: #c0c0c0; font-weight: bold\">29.4</span><span style=\"color: #c6c6c6; text-decoration-color: #c6c6c6; font-weight: bold\">    │    </span><span style=\"color: #c0c0c0; text-decoration-color: #c0c0c0; font-weight: bold\">3.0</span><span style=\"color: #c6c6c6; text-decoration-color: #c6c6c6; font-weight: bold\">    │  </span><a href=\"file:///Users/eneights/software/miniforge3/envs/cosipy-fork/lib/python3.10/site-packages/threeML/minimizer/minuit_minimizer.py\" target=\"_blank\"><span style=\"color: #7f7f7f; text-decoration-color: #7f7f7f\">minuit_minimizer.py</span></a><span style=\"color: #7f7f7f; text-decoration-color: #7f7f7f\">:</span><a href=\"file:///Users/eneights/software/miniforge3/envs/cosipy-fork/lib/python3.10/site-packages/threeML/minimizer/minuit_minimizer.py#174\" target=\"_blank\"><span style=\"color: #7f7f7f; text-decoration-color: #7f7f7f\">174</span></a>\n",
       "<span style=\"color: #00ff00; text-decoration-color: #00ff00\">         </span>         <span style=\"color: #c6c6c6; text-decoration-color: #c6c6c6; font-weight: bold\">│            │    </span><span style=\"color: #c0c0c0; text-decoration-color: #c0c0c0; font-weight: bold\">0</span><span style=\"color: #c6c6c6; text-decoration-color: #c6c6c6; font-weight: bold\">    │   </span><span style=\"color: #c0c0c0; text-decoration-color: #c0c0c0; font-weight: bold\">100</span><span style=\"color: #c6c6c6; text-decoration-color: #c6c6c6; font-weight: bold\">   │       │                                </span><span style=\"color: #7f7f7f; text-decoration-color: #7f7f7f\">                       </span>\n",
       "</pre>\n"
      ],
      "text/plain": [
       "\u001b[38;5;46m        \u001b[0m\u001b[38;5;46m \u001b[0m\u001b[1;5;91mERROR   \u001b[0m \u001b[1;38;5;251m │ \u001b[0m\u001b[1;37m0\u001b[0m\u001b[1;38;5;251m │ source_spectrum_grb_polarization_degree │   \u001b[0m\u001b[1;37m29.4\u001b[0m\u001b[1;38;5;251m    │    \u001b[0m\u001b[1;37m3.0\u001b[0m\u001b[1;38;5;251m    │ \u001b[0m\u001b[1;38;5;251m \u001b[0m\u001b]8;id=423661;file:///Users/eneights/software/miniforge3/envs/cosipy-fork/lib/python3.10/site-packages/threeML/minimizer/minuit_minimizer.py\u001b\\\u001b[2mminuit_minimizer.py\u001b[0m\u001b]8;;\u001b\\\u001b[2m:\u001b[0m\u001b]8;id=423095;file:///Users/eneights/software/miniforge3/envs/cosipy-fork/lib/python3.10/site-packages/threeML/minimizer/minuit_minimizer.py#174\u001b\\\u001b[2m174\u001b[0m\u001b]8;;\u001b\\\n",
       "\u001b[38;5;46m         \u001b[0m         \u001b[1;38;5;251m│            │    \u001b[0m\u001b[1;37m0\u001b[0m\u001b[1;38;5;251m    │   \u001b[0m\u001b[1;37m100\u001b[0m\u001b[1;38;5;251m   │       │                               \u001b[0m\u001b[1;38;5;251m \u001b[0m\u001b[2m                       \u001b[0m\n"
      ]
     },
     "metadata": {},
     "output_type": "display_data"
    },
    {
     "data": {
      "text/html": [
       "<pre style=\"white-space:pre;overflow-x:auto;line-height:normal;font-family:Menlo,'DejaVu Sans Mono',consolas,'Courier New',monospace\"><span style=\"color: #00ff00; text-decoration-color: #00ff00\">         </span><span style=\"color: #ff0000; text-decoration-color: #ff0000; font-weight: bold\">ERROR   </span> <span style=\"color: #c6c6c6; text-decoration-color: #c6c6c6; font-weight: bold\"> │ </span><span style=\"color: #c0c0c0; text-decoration-color: #c0c0c0; font-weight: bold\">1</span><span style=\"color: #c6c6c6; text-decoration-color: #c6c6c6; font-weight: bold\"> │ source_spectrum_grb_polarization_angle  │  </span><span style=\"color: #c0c0c0; text-decoration-color: #c0c0c0; font-weight: bold\">89.9979</span><span style=\"color: #c6c6c6; text-decoration-color: #c6c6c6; font-weight: bold\">  │  </span><span style=\"color: #c0c0c0; text-decoration-color: #c0c0c0; font-weight: bold\">0.0014</span><span style=\"color: #c6c6c6; text-decoration-color: #c6c6c6; font-weight: bold\">   │  </span><a href=\"file:///Users/eneights/software/miniforge3/envs/cosipy-fork/lib/python3.10/site-packages/threeML/minimizer/minuit_minimizer.py\" target=\"_blank\"><span style=\"color: #7f7f7f; text-decoration-color: #7f7f7f\">minuit_minimizer.py</span></a><span style=\"color: #7f7f7f; text-decoration-color: #7f7f7f\">:</span><a href=\"file:///Users/eneights/software/miniforge3/envs/cosipy-fork/lib/python3.10/site-packages/threeML/minimizer/minuit_minimizer.py#174\" target=\"_blank\"><span style=\"color: #7f7f7f; text-decoration-color: #7f7f7f\">174</span></a>\n",
       "<span style=\"color: #00ff00; text-decoration-color: #00ff00\">         </span>         <span style=\"color: #c6c6c6; text-decoration-color: #c6c6c6; font-weight: bold\">│            │    </span><span style=\"color: #c0c0c0; text-decoration-color: #c0c0c0; font-weight: bold\">0</span><span style=\"color: #c6c6c6; text-decoration-color: #c6c6c6; font-weight: bold\">    │   </span><span style=\"color: #c0c0c0; text-decoration-color: #c0c0c0; font-weight: bold\">180</span><span style=\"color: #c6c6c6; text-decoration-color: #c6c6c6; font-weight: bold\">   │       │                                </span><span style=\"color: #7f7f7f; text-decoration-color: #7f7f7f\">                       </span>\n",
       "</pre>\n"
      ],
      "text/plain": [
       "\u001b[38;5;46m        \u001b[0m\u001b[38;5;46m \u001b[0m\u001b[1;5;91mERROR   \u001b[0m \u001b[1;38;5;251m │ \u001b[0m\u001b[1;37m1\u001b[0m\u001b[1;38;5;251m │ source_spectrum_grb_polarization_angle  │  \u001b[0m\u001b[1;37m89.9979\u001b[0m\u001b[1;38;5;251m  │  \u001b[0m\u001b[1;37m0.0014\u001b[0m\u001b[1;38;5;251m   │ \u001b[0m\u001b[1;38;5;251m \u001b[0m\u001b]8;id=454956;file:///Users/eneights/software/miniforge3/envs/cosipy-fork/lib/python3.10/site-packages/threeML/minimizer/minuit_minimizer.py\u001b\\\u001b[2mminuit_minimizer.py\u001b[0m\u001b]8;;\u001b\\\u001b[2m:\u001b[0m\u001b]8;id=360136;file:///Users/eneights/software/miniforge3/envs/cosipy-fork/lib/python3.10/site-packages/threeML/minimizer/minuit_minimizer.py#174\u001b\\\u001b[2m174\u001b[0m\u001b]8;;\u001b\\\n",
       "\u001b[38;5;46m         \u001b[0m         \u001b[1;38;5;251m│            │    \u001b[0m\u001b[1;37m0\u001b[0m\u001b[1;38;5;251m    │   \u001b[0m\u001b[1;37m180\u001b[0m\u001b[1;38;5;251m   │       │                               \u001b[0m\u001b[1;38;5;251m \u001b[0m\u001b[2m                       \u001b[0m\n"
      ]
     },
     "metadata": {},
     "output_type": "display_data"
    },
    {
     "data": {
      "text/html": [
       "<pre style=\"white-space:pre;overflow-x:auto;line-height:normal;font-family:Menlo,'DejaVu Sans Mono',consolas,'Courier New',monospace\"><span style=\"color: #00ff00; text-decoration-color: #00ff00\">         </span><span style=\"color: #ff0000; text-decoration-color: #ff0000; font-weight: bold\">ERROR   </span> <span style=\"color: #c6c6c6; text-decoration-color: #c6c6c6; font-weight: bold\"> └───┴─────────────────────────────────────────┴───────────┴───────────┴─ </span><a href=\"file:///Users/eneights/software/miniforge3/envs/cosipy-fork/lib/python3.10/site-packages/threeML/minimizer/minuit_minimizer.py\" target=\"_blank\"><span style=\"color: #7f7f7f; text-decoration-color: #7f7f7f\">minuit_minimizer.py</span></a><span style=\"color: #7f7f7f; text-decoration-color: #7f7f7f\">:</span><a href=\"file:///Users/eneights/software/miniforge3/envs/cosipy-fork/lib/python3.10/site-packages/threeML/minimizer/minuit_minimizer.py#174\" target=\"_blank\"><span style=\"color: #7f7f7f; text-decoration-color: #7f7f7f\">174</span></a>\n",
       "<span style=\"color: #00ff00; text-decoration-color: #00ff00\">         </span>         <span style=\"color: #c6c6c6; text-decoration-color: #c6c6c6; font-weight: bold\">───────────┴────────────┴─────────┴─────────┴───────┘                     </span><span style=\"color: #7f7f7f; text-decoration-color: #7f7f7f\">                       </span>\n",
       "</pre>\n"
      ],
      "text/plain": [
       "\u001b[38;5;46m        \u001b[0m\u001b[38;5;46m \u001b[0m\u001b[1;5;91mERROR   \u001b[0m \u001b[1;38;5;251m └───┴─────────────────────────────────────────┴───────────┴───────────┴─\u001b[0m\u001b[1;38;5;251m \u001b[0m\u001b]8;id=302610;file:///Users/eneights/software/miniforge3/envs/cosipy-fork/lib/python3.10/site-packages/threeML/minimizer/minuit_minimizer.py\u001b\\\u001b[2mminuit_minimizer.py\u001b[0m\u001b]8;;\u001b\\\u001b[2m:\u001b[0m\u001b]8;id=204486;file:///Users/eneights/software/miniforge3/envs/cosipy-fork/lib/python3.10/site-packages/threeML/minimizer/minuit_minimizer.py#174\u001b\\\u001b[2m174\u001b[0m\u001b]8;;\u001b\\\n",
       "\u001b[38;5;46m         \u001b[0m         \u001b[1;38;5;251m───────────┴────────────┴─────────┴─────────┴───────┘                    \u001b[0m\u001b[1;38;5;251m \u001b[0m\u001b[2m                       \u001b[0m\n"
      ]
     },
     "metadata": {},
     "output_type": "display_data"
    },
    {
     "ename": "FitFailed",
     "evalue": "MIGRAD call failed. This is usually due to unconstrained parameters.",
     "output_type": "error",
     "traceback": [
      "\u001b[0;31m---------------------------------------------------------------------------\u001b[0m",
      "\u001b[0;31mFitFailed\u001b[0m                                 Traceback (most recent call last)",
      "Cell \u001b[0;32mIn[33], line 13\u001b[0m\n\u001b[1;32m      9\u001b[0m plugins_galactic \u001b[38;5;241m=\u001b[39m DataList(cosi_galactic)\n\u001b[1;32m     11\u001b[0m like_galactic \u001b[38;5;241m=\u001b[39m JointLikelihood(model, plugins_galactic, verbose \u001b[38;5;241m=\u001b[39m \u001b[38;5;28;01mFalse\u001b[39;00m)\n\u001b[0;32m---> 13\u001b[0m \u001b[43mlike_galactic\u001b[49m\u001b[38;5;241;43m.\u001b[39;49m\u001b[43mfit\u001b[49m\u001b[43m(\u001b[49m\u001b[43m)\u001b[49m\n",
      "File \u001b[0;32m~/software/miniforge3/envs/cosipy-fork/lib/python3.10/site-packages/threeML/classicMLE/joint_likelihood.py:327\u001b[0m, in \u001b[0;36mJointLikelihood.fit\u001b[0;34m(self, quiet, compute_covariance, n_samples)\u001b[0m\n\u001b[1;32m    323\u001b[0m \u001b[38;5;66;03m# Perform the fit, but first flush stdout (so if we have verbose=True the messages there will follow\u001b[39;00m\n\u001b[1;32m    324\u001b[0m \u001b[38;5;66;03m# what is already in the buffer)\u001b[39;00m\n\u001b[1;32m    325\u001b[0m sys\u001b[38;5;241m.\u001b[39mstdout\u001b[38;5;241m.\u001b[39mflush()\n\u001b[0;32m--> 327\u001b[0m xs, log_likelihood_minimum \u001b[38;5;241m=\u001b[39m \u001b[38;5;28;43mself\u001b[39;49m\u001b[38;5;241;43m.\u001b[39;49m\u001b[43m_minimizer\u001b[49m\u001b[38;5;241;43m.\u001b[39;49m\u001b[43mminimize\u001b[49m\u001b[43m(\u001b[49m\n\u001b[1;32m    328\u001b[0m \u001b[43m    \u001b[49m\u001b[43mcompute_covar\u001b[49m\u001b[38;5;241;43m=\u001b[39;49m\u001b[43mcompute_covariance\u001b[49m\n\u001b[1;32m    329\u001b[0m \u001b[43m\u001b[49m\u001b[43m)\u001b[49m\n\u001b[1;32m    331\u001b[0m \u001b[38;5;28;01mif\u001b[39;00m log_likelihood_minimum \u001b[38;5;241m==\u001b[39m minimization\u001b[38;5;241m.\u001b[39mFIT_FAILED:\n\u001b[1;32m    332\u001b[0m     log\u001b[38;5;241m.\u001b[39merror(\u001b[38;5;124m\"\u001b[39m\u001b[38;5;124mThe fit failed to converge.\u001b[39m\u001b[38;5;124m\"\u001b[39m)\n",
      "File \u001b[0;32m~/software/miniforge3/envs/cosipy-fork/lib/python3.10/site-packages/threeML/minimizer/minimization.py:632\u001b[0m, in \u001b[0;36mMinimizer.minimize\u001b[0;34m(self, compute_covar)\u001b[0m\n\u001b[1;32m    628\u001b[0m \u001b[38;5;66;03m# Gather the best fit values from the minimizer and the covariance matrix (if provided)\u001b[39;00m\n\u001b[1;32m    630\u001b[0m \u001b[38;5;28;01mtry\u001b[39;00m:\n\u001b[0;32m--> 632\u001b[0m     internal_best_fit_values, function_minimum \u001b[38;5;241m=\u001b[39m \u001b[38;5;28;43mself\u001b[39;49m\u001b[38;5;241;43m.\u001b[39;49m\u001b[43m_minimize\u001b[49m\u001b[43m(\u001b[49m\u001b[43m)\u001b[49m\n\u001b[1;32m    634\u001b[0m \u001b[38;5;28;01mexcept\u001b[39;00m FitFailed:\n\u001b[1;32m    636\u001b[0m     \u001b[38;5;28;01mraise\u001b[39;00m\n",
      "File \u001b[0;32m~/software/miniforge3/envs/cosipy-fork/lib/python3.10/site-packages/threeML/minimizer/minuit_minimizer.py:210\u001b[0m, in \u001b[0;36mMinuitMinimizer._minimize\u001b[0;34m(self)\u001b[0m\n\u001b[1;32m    206\u001b[0m \u001b[38;5;28;01mif\u001b[39;00m \u001b[38;5;129;01mnot\u001b[39;00m \u001b[38;5;28mself\u001b[39m\u001b[38;5;241m.\u001b[39mminuit\u001b[38;5;241m.\u001b[39mvalid:\n\u001b[1;32m    208\u001b[0m     \u001b[38;5;28mself\u001b[39m\u001b[38;5;241m.\u001b[39m_print_current_status()\n\u001b[0;32m--> 210\u001b[0m     \u001b[38;5;28;01mraise\u001b[39;00m FitFailed(\n\u001b[1;32m    211\u001b[0m         \u001b[38;5;124m\"\u001b[39m\u001b[38;5;124mMIGRAD call failed. This is usually due to unconstrained parameters.\u001b[39m\u001b[38;5;124m\"\u001b[39m\n\u001b[1;32m    212\u001b[0m     )\n\u001b[1;32m    214\u001b[0m \u001b[38;5;28;01melse\u001b[39;00m:\n\u001b[1;32m    215\u001b[0m \n\u001b[1;32m    216\u001b[0m     \u001b[38;5;66;03m# Gather the optimized values for all parameters from the internal\u001b[39;00m\n\u001b[1;32m    217\u001b[0m     \u001b[38;5;66;03m# iminuit dictionary\u001b[39;00m\n\u001b[1;32m    219\u001b[0m     best_fit_values \u001b[38;5;241m=\u001b[39m []\n",
      "\u001b[0;31mFitFailed\u001b[0m: MIGRAD call failed. This is usually due to unconstrained parameters."
     ]
    }
   ],
   "source": [
    "cosi_galactic = COSILike(\"cosi\",                                                                                         # COSI 3ML plugin\n",
    "                dr = response_file,                                                                                        # detector response\n",
    "                data = grb_background_galactic.binned_data.project('Em', 'Phi', 'PsiChi'),                                      # data (source+background)\n",
    "                bkg = (background_before_galactic.binned_data.project('Em', 'Phi', 'PsiChi') + background_after_galactic.binned_data.project('Em', 'Phi', 'PsiChi')) * 0.0016,    # background model \n",
    "                sc_orientation = sc_orientation,\n",
    "                response_pa_convention = 'RelativeZ')\n",
    "                #nuisance_param = bkg_par)\n",
    "\n",
    "plugins_galactic = DataList(cosi_galactic)\n",
    "\n",
    "like_galactic = JointLikelihood(model, plugins_galactic, verbose = False)\n",
    "\n",
    "like_galactic.fit()"
   ]
  },
  {
   "cell_type": "code",
   "execution_count": null,
   "id": "4b421e55",
   "metadata": {},
   "outputs": [],
   "source": []
  }
 ],
 "metadata": {
  "kernelspec": {
   "display_name": "cosipy-fork",
   "language": "python",
   "name": "python3"
  },
  "language_info": {
   "codemirror_mode": {
    "name": "ipython",
    "version": 3
   },
   "file_extension": ".py",
   "mimetype": "text/x-python",
   "name": "python",
   "nbconvert_exporter": "python",
   "pygments_lexer": "ipython3",
   "version": "3.10.0"
  }
 },
 "nbformat": 4,
 "nbformat_minor": 5
}
