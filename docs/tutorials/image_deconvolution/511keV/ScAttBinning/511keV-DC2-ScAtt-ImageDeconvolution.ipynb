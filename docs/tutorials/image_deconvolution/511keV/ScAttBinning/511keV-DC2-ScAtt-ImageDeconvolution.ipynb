{
 "cells": [
  {
   "cell_type": "markdown",
   "id": "3edcfe0b-24d7-4321-b355-a6dc730c155d",
   "metadata": {
    "tags": []
   },
   "source": [
    "# DC2 Image Analysis, 511 keV, Image Deconvolution\n",
    "\n",
    "updated on 2024-05-30 (the commit 57352ad210f8e1a80cbab5d29730e8aaedf4f782)\n",
    "\n",
    "This notebook focuses on the image deconvolution with the spacecraft attitude (scatt) binning method for DC2.\n",
    "Using the 511 keV thin disk 3-month simulation data created for DC2, an example of the image analysis will be presented.\n",
    "If you have not run through 511keV-DC2-ScAtt-DataReduction.ipynb, please see it first."
   ]
  },
  {
   "cell_type": "code",
   "execution_count": 1,
   "id": "e751bbd5",
   "metadata": {},
   "outputs": [
    {
     "name": "stderr",
     "output_type": "stream",
     "text": [
      "\n",
      "WARNING: version mismatch between CFITSIO header (v4) and linked library (v4.01).\n",
      "\n"
     ]
    },
    {
     "name": "stdout",
     "output_type": "stream",
     "text": [
      "Welcome to JupyROOT 6.24/06\n"
     ]
    },
    {
     "data": {
      "text/html": [
       "<pre style=\"white-space:pre;overflow-x:auto;line-height:normal;font-family:Menlo,'DejaVu Sans Mono',consolas,'Courier New',monospace\"><span style=\"color: #00ff00; text-decoration-color: #00ff00\">19:57:29 </span><span style=\"color: #af5fd7; text-decoration-color: #af5fd7\">WARNING </span> <span style=\"color: #c6c6c6; text-decoration-color: #c6c6c6; font-weight: bold\"> The naima package is not available. Models that depend on it will not be         </span><a href=\"file:///Users/yoneda/Work/Exp/COSI/cosipy-2/cosipy-2-venv/lib/python3.10/site-packages/astromodels/functions/functions_1D/functions.py\" target=\"_blank\"><span style=\"color: #7f7f7f; text-decoration-color: #7f7f7f\">functions.py</span></a><span style=\"color: #7f7f7f; text-decoration-color: #7f7f7f\">:</span><a href=\"file:///Users/yoneda/Work/Exp/COSI/cosipy-2/cosipy-2-venv/lib/python3.10/site-packages/astromodels/functions/functions_1D/functions.py#48\" target=\"_blank\"><span style=\"color: #7f7f7f; text-decoration-color: #7f7f7f\">48</span></a>\n",
       "<span style=\"color: #00ff00; text-decoration-color: #00ff00\">         </span>         <span style=\"color: #c6c6c6; text-decoration-color: #c6c6c6; font-weight: bold\">available                                                                         </span><span style=\"color: #7f7f7f; text-decoration-color: #7f7f7f\">               </span>\n",
       "</pre>\n"
      ],
      "text/plain": [
       "\u001b[38;5;46m19:57:29\u001b[0m\u001b[38;5;46m \u001b[0m\u001b[38;5;134mWARNING \u001b[0m \u001b[1;38;5;251m The naima package is not available. Models that depend on it will not be        \u001b[0m\u001b[1;38;5;251m \u001b[0m\u001b]8;id=282280;file:///Users/yoneda/Work/Exp/COSI/cosipy-2/cosipy-2-venv/lib/python3.10/site-packages/astromodels/functions/functions_1D/functions.py\u001b\\\u001b[2mfunctions.py\u001b[0m\u001b]8;;\u001b\\\u001b[2m:\u001b[0m\u001b]8;id=590509;file:///Users/yoneda/Work/Exp/COSI/cosipy-2/cosipy-2-venv/lib/python3.10/site-packages/astromodels/functions/functions_1D/functions.py#48\u001b\\\u001b[2m48\u001b[0m\u001b]8;;\u001b\\\n",
       "\u001b[38;5;46m         \u001b[0m         \u001b[1;38;5;251mavailable                                                                        \u001b[0m\u001b[1;38;5;251m \u001b[0m\u001b[2m               \u001b[0m\n"
      ]
     },
     "metadata": {},
     "output_type": "display_data"
    },
    {
     "data": {
      "text/html": [
       "<pre style=\"white-space:pre;overflow-x:auto;line-height:normal;font-family:Menlo,'DejaVu Sans Mono',consolas,'Courier New',monospace\"><span style=\"color: #00ff00; text-decoration-color: #00ff00\">         </span><span style=\"color: #af5fd7; text-decoration-color: #af5fd7\">WARNING </span> <span style=\"color: #c6c6c6; text-decoration-color: #c6c6c6; font-weight: bold\"> The GSL library or the pygsl wrapper cannot be loaded. Models that depend on it  </span><a href=\"file:///Users/yoneda/Work/Exp/COSI/cosipy-2/cosipy-2-venv/lib/python3.10/site-packages/astromodels/functions/functions_1D/functions.py\" target=\"_blank\"><span style=\"color: #7f7f7f; text-decoration-color: #7f7f7f\">functions.py</span></a><span style=\"color: #7f7f7f; text-decoration-color: #7f7f7f\">:</span><a href=\"file:///Users/yoneda/Work/Exp/COSI/cosipy-2/cosipy-2-venv/lib/python3.10/site-packages/astromodels/functions/functions_1D/functions.py#69\" target=\"_blank\"><span style=\"color: #7f7f7f; text-decoration-color: #7f7f7f\">69</span></a>\n",
       "<span style=\"color: #00ff00; text-decoration-color: #00ff00\">         </span>         <span style=\"color: #c6c6c6; text-decoration-color: #c6c6c6; font-weight: bold\">will not be available.                                                            </span><span style=\"color: #7f7f7f; text-decoration-color: #7f7f7f\">               </span>\n",
       "</pre>\n"
      ],
      "text/plain": [
       "\u001b[38;5;46m        \u001b[0m\u001b[38;5;46m \u001b[0m\u001b[38;5;134mWARNING \u001b[0m \u001b[1;38;5;251m The GSL library or the pygsl wrapper cannot be loaded. Models that depend on it \u001b[0m\u001b[1;38;5;251m \u001b[0m\u001b]8;id=982940;file:///Users/yoneda/Work/Exp/COSI/cosipy-2/cosipy-2-venv/lib/python3.10/site-packages/astromodels/functions/functions_1D/functions.py\u001b\\\u001b[2mfunctions.py\u001b[0m\u001b]8;;\u001b\\\u001b[2m:\u001b[0m\u001b]8;id=977674;file:///Users/yoneda/Work/Exp/COSI/cosipy-2/cosipy-2-venv/lib/python3.10/site-packages/astromodels/functions/functions_1D/functions.py#69\u001b\\\u001b[2m69\u001b[0m\u001b]8;;\u001b\\\n",
       "\u001b[38;5;46m         \u001b[0m         \u001b[1;38;5;251mwill not be available.                                                           \u001b[0m\u001b[1;38;5;251m \u001b[0m\u001b[2m               \u001b[0m\n"
      ]
     },
     "metadata": {},
     "output_type": "display_data"
    },
    {
     "data": {
      "text/html": [
       "<pre style=\"white-space:pre;overflow-x:auto;line-height:normal;font-family:Menlo,'DejaVu Sans Mono',consolas,'Courier New',monospace\"><span style=\"color: #00ff00; text-decoration-color: #00ff00\">         </span><span style=\"color: #af5fd7; text-decoration-color: #af5fd7\">WARNING </span> <span style=\"color: #c6c6c6; text-decoration-color: #c6c6c6; font-weight: bold\"> The ebltable package is not available. Models that depend on it will not be     </span><a href=\"file:///Users/yoneda/Work/Exp/COSI/cosipy-2/cosipy-2-venv/lib/python3.10/site-packages/astromodels/functions/functions_1D/absorption.py\" target=\"_blank\"><span style=\"color: #7f7f7f; text-decoration-color: #7f7f7f\">absorption.py</span></a><span style=\"color: #7f7f7f; text-decoration-color: #7f7f7f\">:</span><a href=\"file:///Users/yoneda/Work/Exp/COSI/cosipy-2/cosipy-2-venv/lib/python3.10/site-packages/astromodels/functions/functions_1D/absorption.py#36\" target=\"_blank\"><span style=\"color: #7f7f7f; text-decoration-color: #7f7f7f\">36</span></a>\n",
       "<span style=\"color: #00ff00; text-decoration-color: #00ff00\">         </span>         <span style=\"color: #c6c6c6; text-decoration-color: #c6c6c6; font-weight: bold\">available                                                                        </span><span style=\"color: #7f7f7f; text-decoration-color: #7f7f7f\">                </span>\n",
       "</pre>\n"
      ],
      "text/plain": [
       "\u001b[38;5;46m        \u001b[0m\u001b[38;5;46m \u001b[0m\u001b[38;5;134mWARNING \u001b[0m \u001b[1;38;5;251m The ebltable package is not available. Models that depend on it will not be    \u001b[0m\u001b[1;38;5;251m \u001b[0m\u001b]8;id=102016;file:///Users/yoneda/Work/Exp/COSI/cosipy-2/cosipy-2-venv/lib/python3.10/site-packages/astromodels/functions/functions_1D/absorption.py\u001b\\\u001b[2mabsorption.py\u001b[0m\u001b]8;;\u001b\\\u001b[2m:\u001b[0m\u001b]8;id=771329;file:///Users/yoneda/Work/Exp/COSI/cosipy-2/cosipy-2-venv/lib/python3.10/site-packages/astromodels/functions/functions_1D/absorption.py#36\u001b\\\u001b[2m36\u001b[0m\u001b]8;;\u001b\\\n",
       "\u001b[38;5;46m         \u001b[0m         \u001b[1;38;5;251mavailable                                                                       \u001b[0m\u001b[1;38;5;251m \u001b[0m\u001b[2m                \u001b[0m\n"
      ]
     },
     "metadata": {},
     "output_type": "display_data"
    },
    {
     "data": {
      "text/html": [
       "<pre style=\"white-space:pre;overflow-x:auto;line-height:normal;font-family:Menlo,'DejaVu Sans Mono',consolas,'Courier New',monospace\"><span style=\"color: #00ff00; text-decoration-color: #00ff00\">         </span><span style=\"color: #af5fd7; text-decoration-color: #af5fd7\">WARNING </span> <span style=\"color: #c6c6c6; text-decoration-color: #c6c6c6; font-weight: bold\"> We have set the min_value of K to </span><span style=\"color: #c0c0c0; text-decoration-color: #c0c0c0; font-weight: bold\">1e-99</span><span style=\"color: #c6c6c6; text-decoration-color: #c6c6c6; font-weight: bold\"> because there was a postive transform   </span><a href=\"file:///Users/yoneda/Work/Exp/COSI/cosipy-2/cosipy-2-venv/lib/python3.10/site-packages/astromodels/core/parameter.py\" target=\"_blank\"><span style=\"color: #7f7f7f; text-decoration-color: #7f7f7f\">parameter.py</span></a><span style=\"color: #7f7f7f; text-decoration-color: #7f7f7f\">:</span><a href=\"file:///Users/yoneda/Work/Exp/COSI/cosipy-2/cosipy-2-venv/lib/python3.10/site-packages/astromodels/core/parameter.py#704\" target=\"_blank\"><span style=\"color: #7f7f7f; text-decoration-color: #7f7f7f\">704</span></a>\n",
       "</pre>\n"
      ],
      "text/plain": [
       "\u001b[38;5;46m        \u001b[0m\u001b[38;5;46m \u001b[0m\u001b[38;5;134mWARNING \u001b[0m \u001b[1;38;5;251m We have set the min_value of K to \u001b[0m\u001b[1;37m1e-99\u001b[0m\u001b[1;38;5;251m because there was a postive transform  \u001b[0m\u001b[1;38;5;251m \u001b[0m\u001b]8;id=306097;file:///Users/yoneda/Work/Exp/COSI/cosipy-2/cosipy-2-venv/lib/python3.10/site-packages/astromodels/core/parameter.py\u001b\\\u001b[2mparameter.py\u001b[0m\u001b]8;;\u001b\\\u001b[2m:\u001b[0m\u001b]8;id=170086;file:///Users/yoneda/Work/Exp/COSI/cosipy-2/cosipy-2-venv/lib/python3.10/site-packages/astromodels/core/parameter.py#704\u001b\\\u001b[2m704\u001b[0m\u001b]8;;\u001b\\\n"
      ]
     },
     "metadata": {},
     "output_type": "display_data"
    },
    {
     "data": {
      "text/html": [
       "<pre style=\"white-space:pre;overflow-x:auto;line-height:normal;font-family:Menlo,'DejaVu Sans Mono',consolas,'Courier New',monospace\"><span style=\"color: #00ff00; text-decoration-color: #00ff00\">         </span><span style=\"color: #af5fd7; text-decoration-color: #af5fd7\">WARNING </span> <span style=\"color: #c6c6c6; text-decoration-color: #c6c6c6; font-weight: bold\"> We have set the min_value of K to </span><span style=\"color: #c0c0c0; text-decoration-color: #c0c0c0; font-weight: bold\">1e-99</span><span style=\"color: #c6c6c6; text-decoration-color: #c6c6c6; font-weight: bold\"> because there was a postive transform   </span><a href=\"file:///Users/yoneda/Work/Exp/COSI/cosipy-2/cosipy-2-venv/lib/python3.10/site-packages/astromodels/core/parameter.py\" target=\"_blank\"><span style=\"color: #7f7f7f; text-decoration-color: #7f7f7f\">parameter.py</span></a><span style=\"color: #7f7f7f; text-decoration-color: #7f7f7f\">:</span><a href=\"file:///Users/yoneda/Work/Exp/COSI/cosipy-2/cosipy-2-venv/lib/python3.10/site-packages/astromodels/core/parameter.py#704\" target=\"_blank\"><span style=\"color: #7f7f7f; text-decoration-color: #7f7f7f\">704</span></a>\n",
       "</pre>\n"
      ],
      "text/plain": [
       "\u001b[38;5;46m        \u001b[0m\u001b[38;5;46m \u001b[0m\u001b[38;5;134mWARNING \u001b[0m \u001b[1;38;5;251m We have set the min_value of K to \u001b[0m\u001b[1;37m1e-99\u001b[0m\u001b[1;38;5;251m because there was a postive transform  \u001b[0m\u001b[1;38;5;251m \u001b[0m\u001b]8;id=626487;file:///Users/yoneda/Work/Exp/COSI/cosipy-2/cosipy-2-venv/lib/python3.10/site-packages/astromodels/core/parameter.py\u001b\\\u001b[2mparameter.py\u001b[0m\u001b]8;;\u001b\\\u001b[2m:\u001b[0m\u001b]8;id=215133;file:///Users/yoneda/Work/Exp/COSI/cosipy-2/cosipy-2-venv/lib/python3.10/site-packages/astromodels/core/parameter.py#704\u001b\\\u001b[2m704\u001b[0m\u001b]8;;\u001b\\\n"
      ]
     },
     "metadata": {},
     "output_type": "display_data"
    },
    {
     "data": {
      "text/html": [
       "<pre style=\"white-space:pre;overflow-x:auto;line-height:normal;font-family:Menlo,'DejaVu Sans Mono',consolas,'Courier New',monospace\"><span style=\"color: #00ff00; text-decoration-color: #00ff00\">         </span><span style=\"color: #af5fd7; text-decoration-color: #af5fd7\">WARNING </span> <span style=\"color: #c6c6c6; text-decoration-color: #c6c6c6; font-weight: bold\"> We have set the min_value of K to </span><span style=\"color: #c0c0c0; text-decoration-color: #c0c0c0; font-weight: bold\">1e-99</span><span style=\"color: #c6c6c6; text-decoration-color: #c6c6c6; font-weight: bold\"> because there was a postive transform   </span><a href=\"file:///Users/yoneda/Work/Exp/COSI/cosipy-2/cosipy-2-venv/lib/python3.10/site-packages/astromodels/core/parameter.py\" target=\"_blank\"><span style=\"color: #7f7f7f; text-decoration-color: #7f7f7f\">parameter.py</span></a><span style=\"color: #7f7f7f; text-decoration-color: #7f7f7f\">:</span><a href=\"file:///Users/yoneda/Work/Exp/COSI/cosipy-2/cosipy-2-venv/lib/python3.10/site-packages/astromodels/core/parameter.py#704\" target=\"_blank\"><span style=\"color: #7f7f7f; text-decoration-color: #7f7f7f\">704</span></a>\n",
       "</pre>\n"
      ],
      "text/plain": [
       "\u001b[38;5;46m        \u001b[0m\u001b[38;5;46m \u001b[0m\u001b[38;5;134mWARNING \u001b[0m \u001b[1;38;5;251m We have set the min_value of K to \u001b[0m\u001b[1;37m1e-99\u001b[0m\u001b[1;38;5;251m because there was a postive transform  \u001b[0m\u001b[1;38;5;251m \u001b[0m\u001b]8;id=632649;file:///Users/yoneda/Work/Exp/COSI/cosipy-2/cosipy-2-venv/lib/python3.10/site-packages/astromodels/core/parameter.py\u001b\\\u001b[2mparameter.py\u001b[0m\u001b]8;;\u001b\\\u001b[2m:\u001b[0m\u001b]8;id=392877;file:///Users/yoneda/Work/Exp/COSI/cosipy-2/cosipy-2-venv/lib/python3.10/site-packages/astromodels/core/parameter.py#704\u001b\\\u001b[2m704\u001b[0m\u001b]8;;\u001b\\\n"
      ]
     },
     "metadata": {},
     "output_type": "display_data"
    },
    {
     "data": {
      "text/html": [
       "<pre style=\"white-space:pre;overflow-x:auto;line-height:normal;font-family:Menlo,'DejaVu Sans Mono',consolas,'Courier New',monospace\"><span style=\"color: #00ff00; text-decoration-color: #00ff00\">         </span><span style=\"color: #af5fd7; text-decoration-color: #af5fd7\">WARNING </span> <span style=\"color: #c6c6c6; text-decoration-color: #c6c6c6; font-weight: bold\"> We have set the min_value of K to </span><span style=\"color: #c0c0c0; text-decoration-color: #c0c0c0; font-weight: bold\">1e-99</span><span style=\"color: #c6c6c6; text-decoration-color: #c6c6c6; font-weight: bold\"> because there was a postive transform   </span><a href=\"file:///Users/yoneda/Work/Exp/COSI/cosipy-2/cosipy-2-venv/lib/python3.10/site-packages/astromodels/core/parameter.py\" target=\"_blank\"><span style=\"color: #7f7f7f; text-decoration-color: #7f7f7f\">parameter.py</span></a><span style=\"color: #7f7f7f; text-decoration-color: #7f7f7f\">:</span><a href=\"file:///Users/yoneda/Work/Exp/COSI/cosipy-2/cosipy-2-venv/lib/python3.10/site-packages/astromodels/core/parameter.py#704\" target=\"_blank\"><span style=\"color: #7f7f7f; text-decoration-color: #7f7f7f\">704</span></a>\n",
       "</pre>\n"
      ],
      "text/plain": [
       "\u001b[38;5;46m        \u001b[0m\u001b[38;5;46m \u001b[0m\u001b[38;5;134mWARNING \u001b[0m \u001b[1;38;5;251m We have set the min_value of K to \u001b[0m\u001b[1;37m1e-99\u001b[0m\u001b[1;38;5;251m because there was a postive transform  \u001b[0m\u001b[1;38;5;251m \u001b[0m\u001b]8;id=218165;file:///Users/yoneda/Work/Exp/COSI/cosipy-2/cosipy-2-venv/lib/python3.10/site-packages/astromodels/core/parameter.py\u001b\\\u001b[2mparameter.py\u001b[0m\u001b]8;;\u001b\\\u001b[2m:\u001b[0m\u001b]8;id=517058;file:///Users/yoneda/Work/Exp/COSI/cosipy-2/cosipy-2-venv/lib/python3.10/site-packages/astromodels/core/parameter.py#704\u001b\\\u001b[2m704\u001b[0m\u001b]8;;\u001b\\\n"
      ]
     },
     "metadata": {},
     "output_type": "display_data"
    },
    {
     "data": {
      "text/html": [
       "<pre style=\"white-space:pre;overflow-x:auto;line-height:normal;font-family:Menlo,'DejaVu Sans Mono',consolas,'Courier New',monospace\"><span style=\"color: #00ff00; text-decoration-color: #00ff00\">         </span><span style=\"color: #af5fd7; text-decoration-color: #af5fd7\">WARNING </span> <span style=\"color: #c6c6c6; text-decoration-color: #c6c6c6; font-weight: bold\"> We have set the min_value of F to </span><span style=\"color: #c0c0c0; text-decoration-color: #c0c0c0; font-weight: bold\">1e-99</span><span style=\"color: #c6c6c6; text-decoration-color: #c6c6c6; font-weight: bold\"> because there was a postive transform   </span><a href=\"file:///Users/yoneda/Work/Exp/COSI/cosipy-2/cosipy-2-venv/lib/python3.10/site-packages/astromodels/core/parameter.py\" target=\"_blank\"><span style=\"color: #7f7f7f; text-decoration-color: #7f7f7f\">parameter.py</span></a><span style=\"color: #7f7f7f; text-decoration-color: #7f7f7f\">:</span><a href=\"file:///Users/yoneda/Work/Exp/COSI/cosipy-2/cosipy-2-venv/lib/python3.10/site-packages/astromodels/core/parameter.py#704\" target=\"_blank\"><span style=\"color: #7f7f7f; text-decoration-color: #7f7f7f\">704</span></a>\n",
       "</pre>\n"
      ],
      "text/plain": [
       "\u001b[38;5;46m        \u001b[0m\u001b[38;5;46m \u001b[0m\u001b[38;5;134mWARNING \u001b[0m \u001b[1;38;5;251m We have set the min_value of F to \u001b[0m\u001b[1;37m1e-99\u001b[0m\u001b[1;38;5;251m because there was a postive transform  \u001b[0m\u001b[1;38;5;251m \u001b[0m\u001b]8;id=831906;file:///Users/yoneda/Work/Exp/COSI/cosipy-2/cosipy-2-venv/lib/python3.10/site-packages/astromodels/core/parameter.py\u001b\\\u001b[2mparameter.py\u001b[0m\u001b]8;;\u001b\\\u001b[2m:\u001b[0m\u001b]8;id=256596;file:///Users/yoneda/Work/Exp/COSI/cosipy-2/cosipy-2-venv/lib/python3.10/site-packages/astromodels/core/parameter.py#704\u001b\\\u001b[2m704\u001b[0m\u001b]8;;\u001b\\\n"
      ]
     },
     "metadata": {},
     "output_type": "display_data"
    },
    {
     "data": {
      "text/html": [
       "<pre style=\"white-space:pre;overflow-x:auto;line-height:normal;font-family:Menlo,'DejaVu Sans Mono',consolas,'Courier New',monospace\"><span style=\"color: #00ff00; text-decoration-color: #00ff00\">         </span><span style=\"color: #af5fd7; text-decoration-color: #af5fd7\">WARNING </span> <span style=\"color: #c6c6c6; text-decoration-color: #c6c6c6; font-weight: bold\"> We have set the min_value of K to </span><span style=\"color: #c0c0c0; text-decoration-color: #c0c0c0; font-weight: bold\">1e-99</span><span style=\"color: #c6c6c6; text-decoration-color: #c6c6c6; font-weight: bold\"> because there was a postive transform   </span><a href=\"file:///Users/yoneda/Work/Exp/COSI/cosipy-2/cosipy-2-venv/lib/python3.10/site-packages/astromodels/core/parameter.py\" target=\"_blank\"><span style=\"color: #7f7f7f; text-decoration-color: #7f7f7f\">parameter.py</span></a><span style=\"color: #7f7f7f; text-decoration-color: #7f7f7f\">:</span><a href=\"file:///Users/yoneda/Work/Exp/COSI/cosipy-2/cosipy-2-venv/lib/python3.10/site-packages/astromodels/core/parameter.py#704\" target=\"_blank\"><span style=\"color: #7f7f7f; text-decoration-color: #7f7f7f\">704</span></a>\n",
       "</pre>\n"
      ],
      "text/plain": [
       "\u001b[38;5;46m        \u001b[0m\u001b[38;5;46m \u001b[0m\u001b[38;5;134mWARNING \u001b[0m \u001b[1;38;5;251m We have set the min_value of K to \u001b[0m\u001b[1;37m1e-99\u001b[0m\u001b[1;38;5;251m because there was a postive transform  \u001b[0m\u001b[1;38;5;251m \u001b[0m\u001b]8;id=24184;file:///Users/yoneda/Work/Exp/COSI/cosipy-2/cosipy-2-venv/lib/python3.10/site-packages/astromodels/core/parameter.py\u001b\\\u001b[2mparameter.py\u001b[0m\u001b]8;;\u001b\\\u001b[2m:\u001b[0m\u001b]8;id=691681;file:///Users/yoneda/Work/Exp/COSI/cosipy-2/cosipy-2-venv/lib/python3.10/site-packages/astromodels/core/parameter.py#704\u001b\\\u001b[2m704\u001b[0m\u001b]8;;\u001b\\\n"
      ]
     },
     "metadata": {},
     "output_type": "display_data"
    },
    {
     "data": {
      "text/html": [
       "<pre style=\"white-space:pre;overflow-x:auto;line-height:normal;font-family:Menlo,'DejaVu Sans Mono',consolas,'Courier New',monospace\"><span style=\"color: #00ff00; text-decoration-color: #00ff00\">19:57:29 </span><span style=\"color: #00ffaf; text-decoration-color: #00ffaf\">INFO    </span> <span style=\"color: #c6c6c6; text-decoration-color: #c6c6c6; font-weight: bold\"> Starting 3ML!                                                                     </span><a href=\"file:///Users/yoneda/Work/Exp/COSI/cosipy-2/cosipy-2-venv/lib/python3.10/site-packages/threeML/__init__.py\" target=\"_blank\"><span style=\"color: #7f7f7f; text-decoration-color: #7f7f7f\">__init__.py</span></a><span style=\"color: #7f7f7f; text-decoration-color: #7f7f7f\">:</span><a href=\"file:///Users/yoneda/Work/Exp/COSI/cosipy-2/cosipy-2-venv/lib/python3.10/site-packages/threeML/__init__.py#35\" target=\"_blank\"><span style=\"color: #7f7f7f; text-decoration-color: #7f7f7f\">35</span></a>\n",
       "</pre>\n"
      ],
      "text/plain": [
       "\u001b[38;5;46m19:57:29\u001b[0m\u001b[38;5;46m \u001b[0m\u001b[38;5;49mINFO    \u001b[0m \u001b[1;38;5;251m Starting 3ML!                                                                    \u001b[0m\u001b[1;38;5;251m \u001b[0m\u001b]8;id=432340;file:///Users/yoneda/Work/Exp/COSI/cosipy-2/cosipy-2-venv/lib/python3.10/site-packages/threeML/__init__.py\u001b\\\u001b[2m__init__.py\u001b[0m\u001b]8;;\u001b\\\u001b[2m:\u001b[0m\u001b]8;id=954759;file:///Users/yoneda/Work/Exp/COSI/cosipy-2/cosipy-2-venv/lib/python3.10/site-packages/threeML/__init__.py#35\u001b\\\u001b[2m35\u001b[0m\u001b]8;;\u001b\\\n"
      ]
     },
     "metadata": {},
     "output_type": "display_data"
    },
    {
     "data": {
      "text/html": [
       "<pre style=\"white-space:pre;overflow-x:auto;line-height:normal;font-family:Menlo,'DejaVu Sans Mono',consolas,'Courier New',monospace\"><span style=\"color: #00ff00; text-decoration-color: #00ff00\">         </span><span style=\"color: #af5fd7; text-decoration-color: #af5fd7\">WARNING </span> <span style=\"color: #c6c6c6; text-decoration-color: #c6c6c6; font-weight: bold\"> WARNINGs here are </span><span style=\"color: #800000; text-decoration-color: #800000; font-weight: bold\">NOT</span><span style=\"color: #c6c6c6; text-decoration-color: #c6c6c6; font-weight: bold\"> errors                                                      </span><a href=\"file:///Users/yoneda/Work/Exp/COSI/cosipy-2/cosipy-2-venv/lib/python3.10/site-packages/threeML/__init__.py\" target=\"_blank\"><span style=\"color: #7f7f7f; text-decoration-color: #7f7f7f\">__init__.py</span></a><span style=\"color: #7f7f7f; text-decoration-color: #7f7f7f\">:</span><a href=\"file:///Users/yoneda/Work/Exp/COSI/cosipy-2/cosipy-2-venv/lib/python3.10/site-packages/threeML/__init__.py#36\" target=\"_blank\"><span style=\"color: #7f7f7f; text-decoration-color: #7f7f7f\">36</span></a>\n",
       "</pre>\n"
      ],
      "text/plain": [
       "\u001b[38;5;46m        \u001b[0m\u001b[38;5;46m \u001b[0m\u001b[38;5;134mWARNING \u001b[0m \u001b[1;38;5;251m WARNINGs here are \u001b[0m\u001b[1;31mNOT\u001b[0m\u001b[1;38;5;251m errors                                                     \u001b[0m\u001b[1;38;5;251m \u001b[0m\u001b]8;id=647871;file:///Users/yoneda/Work/Exp/COSI/cosipy-2/cosipy-2-venv/lib/python3.10/site-packages/threeML/__init__.py\u001b\\\u001b[2m__init__.py\u001b[0m\u001b]8;;\u001b\\\u001b[2m:\u001b[0m\u001b]8;id=230195;file:///Users/yoneda/Work/Exp/COSI/cosipy-2/cosipy-2-venv/lib/python3.10/site-packages/threeML/__init__.py#36\u001b\\\u001b[2m36\u001b[0m\u001b]8;;\u001b\\\n"
      ]
     },
     "metadata": {},
     "output_type": "display_data"
    },
    {
     "data": {
      "text/html": [
       "<pre style=\"white-space:pre;overflow-x:auto;line-height:normal;font-family:Menlo,'DejaVu Sans Mono',consolas,'Courier New',monospace\"><span style=\"color: #00ff00; text-decoration-color: #00ff00\">         </span><span style=\"color: #af5fd7; text-decoration-color: #af5fd7\">WARNING </span> <span style=\"color: #c6c6c6; text-decoration-color: #c6c6c6; font-weight: bold\"> but are inform you about optional packages that can be installed                  </span><a href=\"file:///Users/yoneda/Work/Exp/COSI/cosipy-2/cosipy-2-venv/lib/python3.10/site-packages/threeML/__init__.py\" target=\"_blank\"><span style=\"color: #7f7f7f; text-decoration-color: #7f7f7f\">__init__.py</span></a><span style=\"color: #7f7f7f; text-decoration-color: #7f7f7f\">:</span><a href=\"file:///Users/yoneda/Work/Exp/COSI/cosipy-2/cosipy-2-venv/lib/python3.10/site-packages/threeML/__init__.py#37\" target=\"_blank\"><span style=\"color: #7f7f7f; text-decoration-color: #7f7f7f\">37</span></a>\n",
       "</pre>\n"
      ],
      "text/plain": [
       "\u001b[38;5;46m        \u001b[0m\u001b[38;5;46m \u001b[0m\u001b[38;5;134mWARNING \u001b[0m \u001b[1;38;5;251m but are inform you about optional packages that can be installed                 \u001b[0m\u001b[1;38;5;251m \u001b[0m\u001b]8;id=283058;file:///Users/yoneda/Work/Exp/COSI/cosipy-2/cosipy-2-venv/lib/python3.10/site-packages/threeML/__init__.py\u001b\\\u001b[2m__init__.py\u001b[0m\u001b]8;;\u001b\\\u001b[2m:\u001b[0m\u001b]8;id=909479;file:///Users/yoneda/Work/Exp/COSI/cosipy-2/cosipy-2-venv/lib/python3.10/site-packages/threeML/__init__.py#37\u001b\\\u001b[2m37\u001b[0m\u001b]8;;\u001b\\\n"
      ]
     },
     "metadata": {},
     "output_type": "display_data"
    },
    {
     "data": {
      "text/html": [
       "<pre style=\"white-space:pre;overflow-x:auto;line-height:normal;font-family:Menlo,'DejaVu Sans Mono',consolas,'Courier New',monospace\"><span style=\"color: #00ff00; text-decoration-color: #00ff00\">         </span><span style=\"color: #af5fd7; text-decoration-color: #af5fd7\">WARNING </span> <span style=\"color: #c6c6c6; text-decoration-color: #c6c6c6; font-weight: bold\"> </span><span style=\"color: #800000; text-decoration-color: #800000; font-weight: bold\"> to disable these messages, turn off start_warning in your config file</span><span style=\"color: #c6c6c6; text-decoration-color: #c6c6c6; font-weight: bold\">            </span><a href=\"file:///Users/yoneda/Work/Exp/COSI/cosipy-2/cosipy-2-venv/lib/python3.10/site-packages/threeML/__init__.py\" target=\"_blank\"><span style=\"color: #7f7f7f; text-decoration-color: #7f7f7f\">__init__.py</span></a><span style=\"color: #7f7f7f; text-decoration-color: #7f7f7f\">:</span><a href=\"file:///Users/yoneda/Work/Exp/COSI/cosipy-2/cosipy-2-venv/lib/python3.10/site-packages/threeML/__init__.py#40\" target=\"_blank\"><span style=\"color: #7f7f7f; text-decoration-color: #7f7f7f\">40</span></a>\n",
       "</pre>\n"
      ],
      "text/plain": [
       "\u001b[38;5;46m        \u001b[0m\u001b[38;5;46m \u001b[0m\u001b[38;5;134mWARNING \u001b[0m \u001b[1;38;5;251m \u001b[0m\u001b[1;31m to disable these messages, turn off start_warning in your config file\u001b[0m\u001b[1;38;5;251m           \u001b[0m\u001b[1;38;5;251m \u001b[0m\u001b]8;id=837842;file:///Users/yoneda/Work/Exp/COSI/cosipy-2/cosipy-2-venv/lib/python3.10/site-packages/threeML/__init__.py\u001b\\\u001b[2m__init__.py\u001b[0m\u001b]8;;\u001b\\\u001b[2m:\u001b[0m\u001b]8;id=22829;file:///Users/yoneda/Work/Exp/COSI/cosipy-2/cosipy-2-venv/lib/python3.10/site-packages/threeML/__init__.py#40\u001b\\\u001b[2m40\u001b[0m\u001b]8;;\u001b\\\n"
      ]
     },
     "metadata": {},
     "output_type": "display_data"
    },
    {
     "data": {
      "text/html": [
       "<pre style=\"white-space:pre;overflow-x:auto;line-height:normal;font-family:Menlo,'DejaVu Sans Mono',consolas,'Courier New',monospace\"><span style=\"color: #00ff00; text-decoration-color: #00ff00\">19:57:30 </span><span style=\"color: #af5fd7; text-decoration-color: #af5fd7\">WARNING </span> <span style=\"color: #c6c6c6; text-decoration-color: #c6c6c6; font-weight: bold\"> PyGMO is not available                                                      </span><a href=\"file:///Users/yoneda/Work/Exp/COSI/cosipy-2/cosipy-2-venv/lib/python3.10/site-packages/threeML/minimizer/minimization.py\" target=\"_blank\"><span style=\"color: #7f7f7f; text-decoration-color: #7f7f7f\">minimization.py</span></a><span style=\"color: #7f7f7f; text-decoration-color: #7f7f7f\">:</span><a href=\"file:///Users/yoneda/Work/Exp/COSI/cosipy-2/cosipy-2-venv/lib/python3.10/site-packages/threeML/minimizer/minimization.py#1369\" target=\"_blank\"><span style=\"color: #7f7f7f; text-decoration-color: #7f7f7f\">1369</span></a>\n",
       "</pre>\n"
      ],
      "text/plain": [
       "\u001b[38;5;46m19:57:30\u001b[0m\u001b[38;5;46m \u001b[0m\u001b[38;5;134mWARNING \u001b[0m \u001b[1;38;5;251m PyGMO is not available                                                     \u001b[0m\u001b[1;38;5;251m \u001b[0m\u001b]8;id=35669;file:///Users/yoneda/Work/Exp/COSI/cosipy-2/cosipy-2-venv/lib/python3.10/site-packages/threeML/minimizer/minimization.py\u001b\\\u001b[2mminimization.py\u001b[0m\u001b]8;;\u001b\\\u001b[2m:\u001b[0m\u001b]8;id=963875;file:///Users/yoneda/Work/Exp/COSI/cosipy-2/cosipy-2-venv/lib/python3.10/site-packages/threeML/minimizer/minimization.py#1369\u001b\\\u001b[2m1369\u001b[0m\u001b]8;;\u001b\\\n"
      ]
     },
     "metadata": {},
     "output_type": "display_data"
    },
    {
     "data": {
      "text/html": [
       "<pre style=\"white-space:pre;overflow-x:auto;line-height:normal;font-family:Menlo,'DejaVu Sans Mono',consolas,'Courier New',monospace\"><span style=\"color: #00ff00; text-decoration-color: #00ff00\">19:57:30 </span><span style=\"color: #af5fd7; text-decoration-color: #af5fd7\">WARNING </span> <span style=\"color: #c6c6c6; text-decoration-color: #c6c6c6; font-weight: bold\"> The cthreeML package is not installed. You will not be able to use plugins which  </span><a href=\"file:///Users/yoneda/Work/Exp/COSI/cosipy-2/cosipy-2-venv/lib/python3.10/site-packages/threeML/__init__.py\" target=\"_blank\"><span style=\"color: #7f7f7f; text-decoration-color: #7f7f7f\">__init__.py</span></a><span style=\"color: #7f7f7f; text-decoration-color: #7f7f7f\">:</span><a href=\"file:///Users/yoneda/Work/Exp/COSI/cosipy-2/cosipy-2-venv/lib/python3.10/site-packages/threeML/__init__.py#94\" target=\"_blank\"><span style=\"color: #7f7f7f; text-decoration-color: #7f7f7f\">94</span></a>\n",
       "<span style=\"color: #00ff00; text-decoration-color: #00ff00\">         </span>         <span style=\"color: #c6c6c6; text-decoration-color: #c6c6c6; font-weight: bold\">require the C/C++ interface (currently HAWC)                                       </span><span style=\"color: #7f7f7f; text-decoration-color: #7f7f7f\">              </span>\n",
       "</pre>\n"
      ],
      "text/plain": [
       "\u001b[38;5;46m19:57:30\u001b[0m\u001b[38;5;46m \u001b[0m\u001b[38;5;134mWARNING \u001b[0m \u001b[1;38;5;251m The cthreeML package is not installed. You will not be able to use plugins which \u001b[0m\u001b[1;38;5;251m \u001b[0m\u001b]8;id=623438;file:///Users/yoneda/Work/Exp/COSI/cosipy-2/cosipy-2-venv/lib/python3.10/site-packages/threeML/__init__.py\u001b\\\u001b[2m__init__.py\u001b[0m\u001b]8;;\u001b\\\u001b[2m:\u001b[0m\u001b]8;id=245900;file:///Users/yoneda/Work/Exp/COSI/cosipy-2/cosipy-2-venv/lib/python3.10/site-packages/threeML/__init__.py#94\u001b\\\u001b[2m94\u001b[0m\u001b]8;;\u001b\\\n",
       "\u001b[38;5;46m         \u001b[0m         \u001b[1;38;5;251mrequire the C/C++ interface \u001b[0m\u001b[1;38;5;251m(\u001b[0m\u001b[1;38;5;251mcurrently HAWC\u001b[0m\u001b[1;38;5;251m)\u001b[0m\u001b[1;38;5;251m                                      \u001b[0m\u001b[1;38;5;251m \u001b[0m\u001b[2m              \u001b[0m\n"
      ]
     },
     "metadata": {},
     "output_type": "display_data"
    },
    {
     "data": {
      "text/html": [
       "<pre style=\"white-space:pre;overflow-x:auto;line-height:normal;font-family:Menlo,'DejaVu Sans Mono',consolas,'Courier New',monospace\"><span style=\"color: #00ff00; text-decoration-color: #00ff00\">         </span><span style=\"color: #af5fd7; text-decoration-color: #af5fd7\">WARNING </span> <span style=\"color: #c6c6c6; text-decoration-color: #c6c6c6; font-weight: bold\"> Could not import plugin HAWCLike.py. Do you have the relative instrument         </span><a href=\"file:///Users/yoneda/Work/Exp/COSI/cosipy-2/cosipy-2-venv/lib/python3.10/site-packages/threeML/__init__.py\" target=\"_blank\"><span style=\"color: #7f7f7f; text-decoration-color: #7f7f7f\">__init__.py</span></a><span style=\"color: #7f7f7f; text-decoration-color: #7f7f7f\">:</span><a href=\"file:///Users/yoneda/Work/Exp/COSI/cosipy-2/cosipy-2-venv/lib/python3.10/site-packages/threeML/__init__.py#144\" target=\"_blank\"><span style=\"color: #7f7f7f; text-decoration-color: #7f7f7f\">144</span></a>\n",
       "<span style=\"color: #00ff00; text-decoration-color: #00ff00\">         </span>         <span style=\"color: #c6c6c6; text-decoration-color: #c6c6c6; font-weight: bold\">software installed and configured?                                                </span><span style=\"color: #7f7f7f; text-decoration-color: #7f7f7f\">               </span>\n",
       "</pre>\n"
      ],
      "text/plain": [
       "\u001b[38;5;46m        \u001b[0m\u001b[38;5;46m \u001b[0m\u001b[38;5;134mWARNING \u001b[0m \u001b[1;38;5;251m Could not import plugin HAWCLike.py. Do you have the relative instrument        \u001b[0m\u001b[1;38;5;251m \u001b[0m\u001b]8;id=830648;file:///Users/yoneda/Work/Exp/COSI/cosipy-2/cosipy-2-venv/lib/python3.10/site-packages/threeML/__init__.py\u001b\\\u001b[2m__init__.py\u001b[0m\u001b]8;;\u001b\\\u001b[2m:\u001b[0m\u001b]8;id=846287;file:///Users/yoneda/Work/Exp/COSI/cosipy-2/cosipy-2-venv/lib/python3.10/site-packages/threeML/__init__.py#144\u001b\\\u001b[2m144\u001b[0m\u001b]8;;\u001b\\\n",
       "\u001b[38;5;46m         \u001b[0m         \u001b[1;38;5;251msoftware installed and configured?                                               \u001b[0m\u001b[1;38;5;251m \u001b[0m\u001b[2m               \u001b[0m\n"
      ]
     },
     "metadata": {},
     "output_type": "display_data"
    },
    {
     "data": {
      "text/html": [
       "<pre style=\"white-space:pre;overflow-x:auto;line-height:normal;font-family:Menlo,'DejaVu Sans Mono',consolas,'Courier New',monospace\"><span style=\"color: #00ff00; text-decoration-color: #00ff00\">         </span><span style=\"color: #af5fd7; text-decoration-color: #af5fd7\">WARNING </span> <span style=\"color: #c6c6c6; text-decoration-color: #c6c6c6; font-weight: bold\"> Could not import plugin FermiLATLike.py. Do you have the relative instrument     </span><a href=\"file:///Users/yoneda/Work/Exp/COSI/cosipy-2/cosipy-2-venv/lib/python3.10/site-packages/threeML/__init__.py\" target=\"_blank\"><span style=\"color: #7f7f7f; text-decoration-color: #7f7f7f\">__init__.py</span></a><span style=\"color: #7f7f7f; text-decoration-color: #7f7f7f\">:</span><a href=\"file:///Users/yoneda/Work/Exp/COSI/cosipy-2/cosipy-2-venv/lib/python3.10/site-packages/threeML/__init__.py#144\" target=\"_blank\"><span style=\"color: #7f7f7f; text-decoration-color: #7f7f7f\">144</span></a>\n",
       "<span style=\"color: #00ff00; text-decoration-color: #00ff00\">         </span>         <span style=\"color: #c6c6c6; text-decoration-color: #c6c6c6; font-weight: bold\">software installed and configured?                                                </span><span style=\"color: #7f7f7f; text-decoration-color: #7f7f7f\">               </span>\n",
       "</pre>\n"
      ],
      "text/plain": [
       "\u001b[38;5;46m        \u001b[0m\u001b[38;5;46m \u001b[0m\u001b[38;5;134mWARNING \u001b[0m \u001b[1;38;5;251m Could not import plugin FermiLATLike.py. Do you have the relative instrument    \u001b[0m\u001b[1;38;5;251m \u001b[0m\u001b]8;id=399984;file:///Users/yoneda/Work/Exp/COSI/cosipy-2/cosipy-2-venv/lib/python3.10/site-packages/threeML/__init__.py\u001b\\\u001b[2m__init__.py\u001b[0m\u001b]8;;\u001b\\\u001b[2m:\u001b[0m\u001b]8;id=718991;file:///Users/yoneda/Work/Exp/COSI/cosipy-2/cosipy-2-venv/lib/python3.10/site-packages/threeML/__init__.py#144\u001b\\\u001b[2m144\u001b[0m\u001b]8;;\u001b\\\n",
       "\u001b[38;5;46m         \u001b[0m         \u001b[1;38;5;251msoftware installed and configured?                                               \u001b[0m\u001b[1;38;5;251m \u001b[0m\u001b[2m               \u001b[0m\n"
      ]
     },
     "metadata": {},
     "output_type": "display_data"
    },
    {
     "data": {
      "text/html": [
       "<pre style=\"white-space:pre;overflow-x:auto;line-height:normal;font-family:Menlo,'DejaVu Sans Mono',consolas,'Courier New',monospace\"><span style=\"color: #00ff00; text-decoration-color: #00ff00\">         </span><span style=\"color: #af5fd7; text-decoration-color: #af5fd7\">WARNING </span> <span style=\"color: #c6c6c6; text-decoration-color: #c6c6c6; font-weight: bold\"> No fermitools installed                                              </span><a href=\"file:///Users/yoneda/Work/Exp/COSI/cosipy-2/cosipy-2-venv/lib/python3.10/site-packages/threeML/utils/data_builders/fermi/lat_transient_builder.py\" target=\"_blank\"><span style=\"color: #7f7f7f; text-decoration-color: #7f7f7f\">lat_transient_builder.py</span></a><span style=\"color: #7f7f7f; text-decoration-color: #7f7f7f\">:</span><a href=\"file:///Users/yoneda/Work/Exp/COSI/cosipy-2/cosipy-2-venv/lib/python3.10/site-packages/threeML/utils/data_builders/fermi/lat_transient_builder.py#44\" target=\"_blank\"><span style=\"color: #7f7f7f; text-decoration-color: #7f7f7f\">44</span></a>\n",
       "</pre>\n"
      ],
      "text/plain": [
       "\u001b[38;5;46m        \u001b[0m\u001b[38;5;46m \u001b[0m\u001b[38;5;134mWARNING \u001b[0m \u001b[1;38;5;251m No fermitools installed                                             \u001b[0m\u001b[1;38;5;251m \u001b[0m\u001b]8;id=745176;file:///Users/yoneda/Work/Exp/COSI/cosipy-2/cosipy-2-venv/lib/python3.10/site-packages/threeML/utils/data_builders/fermi/lat_transient_builder.py\u001b\\\u001b[2mlat_transient_builder.py\u001b[0m\u001b]8;;\u001b\\\u001b[2m:\u001b[0m\u001b]8;id=192985;file:///Users/yoneda/Work/Exp/COSI/cosipy-2/cosipy-2-venv/lib/python3.10/site-packages/threeML/utils/data_builders/fermi/lat_transient_builder.py#44\u001b\\\u001b[2m44\u001b[0m\u001b]8;;\u001b\\\n"
      ]
     },
     "metadata": {},
     "output_type": "display_data"
    },
    {
     "data": {
      "text/html": [
       "<pre style=\"white-space:pre;overflow-x:auto;line-height:normal;font-family:Menlo,'DejaVu Sans Mono',consolas,'Courier New',monospace\"><span style=\"color: #00ff00; text-decoration-color: #00ff00\">         </span><span style=\"color: #af5fd7; text-decoration-color: #af5fd7\">WARNING </span> <span style=\"color: #c6c6c6; text-decoration-color: #c6c6c6; font-weight: bold\"> Env. variable OMP_NUM_THREADS is not set. Please set it to </span><span style=\"color: #c0c0c0; text-decoration-color: #c0c0c0; font-weight: bold\">1</span><span style=\"color: #c6c6c6; text-decoration-color: #c6c6c6; font-weight: bold\"> for optimal         </span><a href=\"file:///Users/yoneda/Work/Exp/COSI/cosipy-2/cosipy-2-venv/lib/python3.10/site-packages/threeML/__init__.py\" target=\"_blank\"><span style=\"color: #7f7f7f; text-decoration-color: #7f7f7f\">__init__.py</span></a><span style=\"color: #7f7f7f; text-decoration-color: #7f7f7f\">:</span><a href=\"file:///Users/yoneda/Work/Exp/COSI/cosipy-2/cosipy-2-venv/lib/python3.10/site-packages/threeML/__init__.py#387\" target=\"_blank\"><span style=\"color: #7f7f7f; text-decoration-color: #7f7f7f\">387</span></a>\n",
       "<span style=\"color: #00ff00; text-decoration-color: #00ff00\">         </span>         <span style=\"color: #c6c6c6; text-decoration-color: #c6c6c6; font-weight: bold\">performances in 3ML                                                               </span><span style=\"color: #7f7f7f; text-decoration-color: #7f7f7f\">               </span>\n",
       "</pre>\n"
      ],
      "text/plain": [
       "\u001b[38;5;46m        \u001b[0m\u001b[38;5;46m \u001b[0m\u001b[38;5;134mWARNING \u001b[0m \u001b[1;38;5;251m Env. variable OMP_NUM_THREADS is not set. Please set it to \u001b[0m\u001b[1;37m1\u001b[0m\u001b[1;38;5;251m for optimal        \u001b[0m\u001b[1;38;5;251m \u001b[0m\u001b]8;id=681980;file:///Users/yoneda/Work/Exp/COSI/cosipy-2/cosipy-2-venv/lib/python3.10/site-packages/threeML/__init__.py\u001b\\\u001b[2m__init__.py\u001b[0m\u001b]8;;\u001b\\\u001b[2m:\u001b[0m\u001b]8;id=539226;file:///Users/yoneda/Work/Exp/COSI/cosipy-2/cosipy-2-venv/lib/python3.10/site-packages/threeML/__init__.py#387\u001b\\\u001b[2m387\u001b[0m\u001b]8;;\u001b\\\n",
       "\u001b[38;5;46m         \u001b[0m         \u001b[1;38;5;251mperformances in 3ML                                                              \u001b[0m\u001b[1;38;5;251m \u001b[0m\u001b[2m               \u001b[0m\n"
      ]
     },
     "metadata": {},
     "output_type": "display_data"
    },
    {
     "data": {
      "text/html": [
       "<pre style=\"white-space:pre;overflow-x:auto;line-height:normal;font-family:Menlo,'DejaVu Sans Mono',consolas,'Courier New',monospace\"><span style=\"color: #00ff00; text-decoration-color: #00ff00\">         </span><span style=\"color: #af5fd7; text-decoration-color: #af5fd7\">WARNING </span> <span style=\"color: #c6c6c6; text-decoration-color: #c6c6c6; font-weight: bold\"> Env. variable MKL_NUM_THREADS is not set. Please set it to </span><span style=\"color: #c0c0c0; text-decoration-color: #c0c0c0; font-weight: bold\">1</span><span style=\"color: #c6c6c6; text-decoration-color: #c6c6c6; font-weight: bold\"> for optimal         </span><a href=\"file:///Users/yoneda/Work/Exp/COSI/cosipy-2/cosipy-2-venv/lib/python3.10/site-packages/threeML/__init__.py\" target=\"_blank\"><span style=\"color: #7f7f7f; text-decoration-color: #7f7f7f\">__init__.py</span></a><span style=\"color: #7f7f7f; text-decoration-color: #7f7f7f\">:</span><a href=\"file:///Users/yoneda/Work/Exp/COSI/cosipy-2/cosipy-2-venv/lib/python3.10/site-packages/threeML/__init__.py#387\" target=\"_blank\"><span style=\"color: #7f7f7f; text-decoration-color: #7f7f7f\">387</span></a>\n",
       "<span style=\"color: #00ff00; text-decoration-color: #00ff00\">         </span>         <span style=\"color: #c6c6c6; text-decoration-color: #c6c6c6; font-weight: bold\">performances in 3ML                                                               </span><span style=\"color: #7f7f7f; text-decoration-color: #7f7f7f\">               </span>\n",
       "</pre>\n"
      ],
      "text/plain": [
       "\u001b[38;5;46m        \u001b[0m\u001b[38;5;46m \u001b[0m\u001b[38;5;134mWARNING \u001b[0m \u001b[1;38;5;251m Env. variable MKL_NUM_THREADS is not set. Please set it to \u001b[0m\u001b[1;37m1\u001b[0m\u001b[1;38;5;251m for optimal        \u001b[0m\u001b[1;38;5;251m \u001b[0m\u001b]8;id=871586;file:///Users/yoneda/Work/Exp/COSI/cosipy-2/cosipy-2-venv/lib/python3.10/site-packages/threeML/__init__.py\u001b\\\u001b[2m__init__.py\u001b[0m\u001b]8;;\u001b\\\u001b[2m:\u001b[0m\u001b]8;id=910044;file:///Users/yoneda/Work/Exp/COSI/cosipy-2/cosipy-2-venv/lib/python3.10/site-packages/threeML/__init__.py#387\u001b\\\u001b[2m387\u001b[0m\u001b]8;;\u001b\\\n",
       "\u001b[38;5;46m         \u001b[0m         \u001b[1;38;5;251mperformances in 3ML                                                              \u001b[0m\u001b[1;38;5;251m \u001b[0m\u001b[2m               \u001b[0m\n"
      ]
     },
     "metadata": {},
     "output_type": "display_data"
    },
    {
     "data": {
      "text/html": [
       "<pre style=\"white-space:pre;overflow-x:auto;line-height:normal;font-family:Menlo,'DejaVu Sans Mono',consolas,'Courier New',monospace\"><span style=\"color: #00ff00; text-decoration-color: #00ff00\">         </span><span style=\"color: #af5fd7; text-decoration-color: #af5fd7\">WARNING </span> <span style=\"color: #c6c6c6; text-decoration-color: #c6c6c6; font-weight: bold\"> Env. variable NUMEXPR_NUM_THREADS is not set. Please set it to </span><span style=\"color: #c0c0c0; text-decoration-color: #c0c0c0; font-weight: bold\">1</span><span style=\"color: #c6c6c6; text-decoration-color: #c6c6c6; font-weight: bold\"> for optimal     </span><a href=\"file:///Users/yoneda/Work/Exp/COSI/cosipy-2/cosipy-2-venv/lib/python3.10/site-packages/threeML/__init__.py\" target=\"_blank\"><span style=\"color: #7f7f7f; text-decoration-color: #7f7f7f\">__init__.py</span></a><span style=\"color: #7f7f7f; text-decoration-color: #7f7f7f\">:</span><a href=\"file:///Users/yoneda/Work/Exp/COSI/cosipy-2/cosipy-2-venv/lib/python3.10/site-packages/threeML/__init__.py#387\" target=\"_blank\"><span style=\"color: #7f7f7f; text-decoration-color: #7f7f7f\">387</span></a>\n",
       "<span style=\"color: #00ff00; text-decoration-color: #00ff00\">         </span>         <span style=\"color: #c6c6c6; text-decoration-color: #c6c6c6; font-weight: bold\">performances in 3ML                                                               </span><span style=\"color: #7f7f7f; text-decoration-color: #7f7f7f\">               </span>\n",
       "</pre>\n"
      ],
      "text/plain": [
       "\u001b[38;5;46m        \u001b[0m\u001b[38;5;46m \u001b[0m\u001b[38;5;134mWARNING \u001b[0m \u001b[1;38;5;251m Env. variable NUMEXPR_NUM_THREADS is not set. Please set it to \u001b[0m\u001b[1;37m1\u001b[0m\u001b[1;38;5;251m for optimal    \u001b[0m\u001b[1;38;5;251m \u001b[0m\u001b]8;id=638888;file:///Users/yoneda/Work/Exp/COSI/cosipy-2/cosipy-2-venv/lib/python3.10/site-packages/threeML/__init__.py\u001b\\\u001b[2m__init__.py\u001b[0m\u001b]8;;\u001b\\\u001b[2m:\u001b[0m\u001b]8;id=115201;file:///Users/yoneda/Work/Exp/COSI/cosipy-2/cosipy-2-venv/lib/python3.10/site-packages/threeML/__init__.py#387\u001b\\\u001b[2m387\u001b[0m\u001b]8;;\u001b\\\n",
       "\u001b[38;5;46m         \u001b[0m         \u001b[1;38;5;251mperformances in 3ML                                                              \u001b[0m\u001b[1;38;5;251m \u001b[0m\u001b[2m               \u001b[0m\n"
      ]
     },
     "metadata": {},
     "output_type": "display_data"
    }
   ],
   "source": [
    "from histpy import Histogram, HealpixAxis, Axis, Axes\n",
    "from mhealpy import HealpixMap\n",
    "from astropy.coordinates import SkyCoord, cartesian_to_spherical, Galactic\n",
    "\n",
    "from cosipy.response import FullDetectorResponse\n",
    "from cosipy.spacecraftfile import SpacecraftFile\n",
    "from cosipy.ts_map.TSMap import TSMap\n",
    "from cosipy.data_io import UnBinnedData, BinnedData\n",
    "from cosipy.image_deconvolution import SpacecraftAttitudeExposureTable, CoordsysConversionMatrix, DataLoader, ImageDeconvolution\n",
    "\n",
    "# cosipy uses astropy units\n",
    "import astropy.units as u\n",
    "from astropy.units import Quantity\n",
    "from astropy.coordinates import SkyCoord\n",
    "from astropy.time import Time\n",
    "from astropy.table import Table\n",
    "from astropy.io import fits\n",
    "from scoords import Attitude, SpacecraftFrame\n",
    "\n",
    "#3ML is needed for spectral modeling\n",
    "from threeML import *\n",
    "from astromodels import Band\n",
    "\n",
    "#Other standard libraries\n",
    "import numpy as np\n",
    "import matplotlib.pyplot as plt\n",
    "from matplotlib.gridspec import GridSpec \n",
    "\n",
    "import healpy as hp\n",
    "from tqdm.autonotebook import tqdm\n",
    "\n",
    "%matplotlib inline"
   ]
  },
  {
   "cell_type": "markdown",
   "id": "00f20cda-81f8-4685-b9c4-f9423e5ebcf7",
   "metadata": {
    "tags": []
   },
   "source": [
    "## 0. Files needed for this notebook\n",
    "\n",
    "From wasabi\n",
    "- cosi-pipeline-public/COSI-SMEX/DC2/Responses/SMEXv12.511keV.HEALPixO4.binnedimaging.imagingresponse.nonsparse_nside16.area.h5\n",
    "\n",
    "From docs/tutorials/image_deconvolution/511keV/ScAttBinning\n",
    "- inputs_511keV_DC2.yaml\n",
    "- imagedeconvolution_parfile_scatt_511keV.yml\n",
    "\n",
    "As outputs from the notebook 511keV-DC2-ScAtt-DataReduction.ipynb\n",
    "- 511keV_scatt_binning_DC2_bkg.hdf5\n",
    "- 511keV_scatt_binning_DC2_event.hdf5\n",
    "- ccm.hdf5"
   ]
  },
  {
   "cell_type": "markdown",
   "id": "6c259412",
   "metadata": {},
   "source": [
    "## 1. Read the response matrix"
   ]
  },
  {
   "cell_type": "markdown",
   "id": "573a7c60",
   "metadata": {},
   "source": [
    "<span style=\"color:red\"> please modify \"path_data\" corresponding to your environment.</span>"
   ]
  },
  {
   "cell_type": "code",
   "execution_count": 2,
   "id": "fada24bc",
   "metadata": {},
   "outputs": [],
   "source": [
    "path_data = \"path/to/data/\""
   ]
  },
  {
   "cell_type": "code",
   "execution_count": 3,
   "id": "98a778c2-73cf-467b-96b6-affc42f17102",
   "metadata": {},
   "outputs": [],
   "source": [
    "response_path = path_data + \"SMEXv12.511keV.HEALPixO4.binnedimaging.imagingresponse.nonsparse_nside16.area.h5\"\n",
    "\n",
    "response = FullDetectorResponse.open(response_path)"
   ]
  },
  {
   "cell_type": "code",
   "execution_count": 4,
   "id": "eab660b4",
   "metadata": {},
   "outputs": [
    {
     "data": {
      "text/plain": [
       "FILENAME: '/Users/yoneda/Work/Exp/COSI/cosipy-2/data_challenge/DC2/prework/data/Responses/SMEXv12.511keV.HEALPixO4.binnedimaging.imagingresponse.nonsparse_nside16.area.h5'\n",
       "AXES:\n",
       "  NuLambda:\n",
       "    DESCRIPTION: 'Location of the simulated source in the spacecraft coordinates'\n",
       "    TYPE: 'healpix'\n",
       "    NPIX: 3072\n",
       "    NSIDE: 16\n",
       "    SCHEME: 'RING'\n",
       "  Ei:\n",
       "    DESCRIPTION: 'Initial simulated energy'\n",
       "    TYPE: 'log'\n",
       "    UNIT: 'keV'\n",
       "    NBINS: 1\n",
       "    EDGES: [509.0 keV, 513.0 keV]\n",
       "  Em:\n",
       "    DESCRIPTION: 'Measured energy'\n",
       "    TYPE: 'log'\n",
       "    UNIT: 'keV'\n",
       "    NBINS: 1\n",
       "    EDGES: [509.0 keV, 513.0 keV]\n",
       "  Phi:\n",
       "    DESCRIPTION: 'Compton angle'\n",
       "    TYPE: 'linear'\n",
       "    UNIT: 'deg'\n",
       "    NBINS: 60\n",
       "    EDGES: [0.0 deg, 3.0 deg, 6.0 deg, 9.0 deg, 12.0 deg, 15.0 deg, 18.0 deg, 21.0 deg, 24.0 deg, 27.0 deg, 30.0 deg, 33.0 deg, 36.0 deg, 39.0 deg, 42.0 deg, 45.0 deg, 48.0 deg, 51.0 deg, 54.0 deg, 57.0 deg, 60.0 deg, 63.0 deg, 66.0 deg, 69.0 deg, 72.0 deg, 75.0 deg, 78.0 deg, 81.0 deg, 84.0 deg, 87.0 deg, 90.0 deg, 93.0 deg, 96.0 deg, 99.0 deg, 102.0 deg, 105.0 deg, 108.0 deg, 111.0 deg, 114.0 deg, 117.0 deg, 120.0 deg, 123.0 deg, 126.0 deg, 129.0 deg, 132.0 deg, 135.0 deg, 138.0 deg, 141.0 deg, 144.0 deg, 147.0 deg, 150.0 deg, 153.0 deg, 156.0 deg, 159.0 deg, 162.0 deg, 165.0 deg, 168.0 deg, 171.0 deg, 174.0 deg, 177.0 deg, 180.0 deg]\n",
       "  PsiChi:\n",
       "    DESCRIPTION: 'Location in the Compton Data Space'\n",
       "    TYPE: 'healpix'\n",
       "    NPIX: 3072\n",
       "    NSIDE: 16\n",
       "    SCHEME: 'RING'\n"
      ]
     },
     "execution_count": 4,
     "metadata": {},
     "output_type": "execute_result"
    }
   ],
   "source": [
    "response"
   ]
  },
  {
   "cell_type": "markdown",
   "id": "26d6eb3a",
   "metadata": {},
   "source": [
    "## 2. Read binned 511keV binned files (source and background)"
   ]
  },
  {
   "cell_type": "code",
   "execution_count": 5,
   "id": "04e15347-6b38-42de-a7c5-cd99b2ae66ac",
   "metadata": {},
   "outputs": [
    {
     "name": "stdout",
     "output_type": "stream",
     "text": [
      "CPU times: user 145 ms, sys: 755 ms, total: 900 ms\n",
      "Wall time: 898 ms\n"
     ]
    }
   ],
   "source": [
    "%%time\n",
    "\n",
    "#  background \n",
    "data_bkg = BinnedData(\"inputs_511keV_DC2.yaml\")\n",
    "data_bkg.load_binned_data_from_hdf5(\"511keV_scatt_binning_DC2_bkg.hdf5\")\n",
    "\n",
    "##  signal + background\n",
    "data_511keV = BinnedData(\"inputs_511keV_DC2.yaml\")\n",
    "data_511keV.load_binned_data_from_hdf5(\"511keV_scatt_binning_DC2_event.hdf5\")"
   ]
  },
  {
   "cell_type": "markdown",
   "id": "a409aa7b-9bd8-443b-be46-ee5a053f8349",
   "metadata": {
    "tags": []
   },
   "source": [
    "## 3. Load the coordsys conversion matrix"
   ]
  },
  {
   "cell_type": "code",
   "execution_count": 6,
   "id": "daaf836a",
   "metadata": {},
   "outputs": [
    {
     "name": "stdout",
     "output_type": "stream",
     "text": [
      "CPU times: user 1.46 s, sys: 59.8 ms, total: 1.52 s\n",
      "Wall time: 1.53 s\n"
     ]
    }
   ],
   "source": [
    "%%time\n",
    "\n",
    "ccm = CoordsysConversionMatrix.open(\"ccm.hdf5\")"
   ]
  },
  {
   "cell_type": "markdown",
   "id": "31ec05ad-90b7-4fad-9ad0-98cfd6483d41",
   "metadata": {},
   "source": [
    "## 4. Imaging deconvolution"
   ]
  },
  {
   "cell_type": "markdown",
   "id": "6e88ca7f",
   "metadata": {},
   "source": [
    "### Brief overview of the image deconvolution\n",
    "\n",
    "Basically, we have to maximize the following likelihood function\n",
    "\n",
    "$$\n",
    "\\log L = \\sum_i X_i \\log \\epsilon_i - \\sum_i \\epsilon_i\n",
    "$$\n",
    "\n",
    "$X_i$: detected counts at $i$-th bin ( $i$ : index of the Compton Data Space)\n",
    "\n",
    "$\\epsilon_i = \\sum_j R_{ij} \\lambda_j + b_i$ : expected counts ( $j$ : index of the model space)\n",
    "\n",
    "$\\lambda_j$ : the model map (basically gamma-ray flux at $j$-th pixel)\n",
    "\n",
    "$b_i$ : the background at $i$-th bin\n",
    "\n",
    "$R_{ij}$ : the response matrix\n",
    "\n",
    "Since we have to optimize the flux in each pixel, and the number of parameters is large, we adopt an iterative approach to find a solution of the above equation. The simplest one is the ML-EM (Maximum Likelihood Expectation Maximization) algorithm. It is also known as the Richardson-Lucy algorithm.\n",
    "\n",
    "$$\n",
    "\\lambda_{j}^{k+1} = \\lambda_{j}^{k} + \\delta \\lambda_{j}^{k}\n",
    "$$\n",
    "$$\n",
    "\\delta \\lambda_{j}^{k} = \\frac{\\lambda_{j}^{k}}{\\sum_{i} R_{ij}} \\sum_{i} \\left(\\frac{ X_{i} }{\\epsilon_{i}} - 1 \\right) R_{ij} \n",
    "$$\n",
    "\n",
    "We refer to $\\delta \\lambda_{j}^{k}$ as the delta map.\n",
    "\n",
    "As for now, the two improved algorithms are implemented in COSIpy.\n",
    "\n",
    "- Accelerated ML-EM algorithm (Knoedlseder+99)\n",
    "\n",
    "$$\n",
    "\\lambda_{j}^{k+1} = \\lambda_{j}^{k} + \\alpha^{k} \\delta \\lambda_{j}^{k}\n",
    "$$\n",
    "$$\n",
    "\\alpha^{k} < \\mathrm{max}(- \\lambda_{j}^{k} / \\delta \\lambda_{j}^{k})\n",
    "$$\n",
    "\n",
    "Practically, in order not to accelerate the algorithm excessively, we set the maximum value of $\\alpha$ ($\\alpha_{\\mathrm{max}}$). Then, $\\alpha$ is calculated as:\n",
    "\n",
    "$$\n",
    "\\alpha^{k} = \\mathrm{min}(\\mathrm{max}(- \\lambda_{j}^{k} / \\delta \\lambda_{j}^{k}), \\alpha_{\\mathrm{max}})\n",
    "$$\n",
    "\n",
    "- Noise damping using gaussian smoothing (Knoedlseder+05, Siegert+20)\n",
    "\n",
    "$$\n",
    "\\lambda_{j}^{k+1} = \\lambda_{j}^{k} + \\alpha^{k} \\left[ w_j \\delta \\lambda_{j}^{k} \\right]_{\\mathrm{gauss}}\n",
    "$$\n",
    "$$\n",
    "w_j = \\left(\\sum_{i} R_{ij}\\right)^\\beta\n",
    "$$\n",
    "\n",
    "$\\left[ ... \\right]_{\\mathrm{gauss}}$ means that the differential image is smoothed by a gaussian filter."
   ]
  },
  {
   "cell_type": "markdown",
   "id": "e0a2582e",
   "metadata": {},
   "source": [
    "### 4-1. Prepare DataLoader containing all neccesary datasets"
   ]
  },
  {
   "cell_type": "code",
   "execution_count": 7,
   "id": "de8055f7-4aab-4a17-8751-42493f9e88d6",
   "metadata": {},
   "outputs": [],
   "source": [
    "dataloader = DataLoader.load(data_511keV.binned_data, \n",
    "                             data_bkg.binned_data, \n",
    "                             response, \n",
    "                             ccm,\n",
    "                             is_miniDC2_format = False)"
   ]
  },
  {
   "cell_type": "code",
   "execution_count": 8,
   "id": "59d48019",
   "metadata": {},
   "outputs": [
    {
     "name": "stderr",
     "output_type": "stream",
     "text": [
      "\n",
      "WARNING FutureWarning: Note that _modify_axes() in DataLoader was implemented for a temporary use. It will be removed in the future.\n",
      "\n",
      "\n",
      "WARNING UserWarning: Make sure to perform _modify_axes() only once after the data are loaded.\n",
      "\n"
     ]
    },
    {
     "name": "stdout",
     "output_type": "stream",
     "text": [
      "... checking the axis ScAtt of the event and background files...\n",
      "    --> pass (edges)\n",
      "    --> pass (unit)\n",
      "... checking the axis Em of the event and background files...\n",
      "    --> pass (edges)\n",
      "    --> pass (unit)\n",
      "... checking the axis Phi of the event and background files...\n",
      "    --> pass (edges)\n",
      "    --> pass (unit)\n",
      "... checking the axis PsiChi of the event and background files...\n",
      "    --> pass (edges)\n",
      "    --> pass (unit)\n",
      "...checking the axis Em of the event and response files...\n",
      "    --> pass (edges)\n",
      "...checking the axis Phi of the event and response files...\n",
      "    --> pass (edges)\n",
      "...checking the axis PsiChi of the event and response files...\n",
      "    --> pass (edges)\n",
      "The axes in the event and background files are redefined. Now they are consistent with those of the response file.\n"
     ]
    }
   ],
   "source": [
    "dataloader._modify_axes()"
   ]
  },
  {
   "cell_type": "markdown",
   "id": "241505ad",
   "metadata": {},
   "source": [
    "(In the future, we plan to remove the method \"_modify_axes.\")"
   ]
  },
  {
   "cell_type": "markdown",
   "id": "2a662f5e",
   "metadata": {},
   "source": [
    "### 4-2. Load the response file\n",
    "\n",
    "The response file will be loaded on the CPU memory. It requires a few GB. In the actual COSI satellite analysis, the response could be much larger, perhaps ~1TB wiht finer bin size. \n",
    "\n",
    "So loading it on the memory might be unrealistic in the future. The optimized (lazy) loading would be a next work."
   ]
  },
  {
   "cell_type": "code",
   "execution_count": 9,
   "id": "0ab4b84c",
   "metadata": {},
   "outputs": [
    {
     "name": "stdout",
     "output_type": "stream",
     "text": [
      "CPU times: user 13.5 s, sys: 1.27 s, total: 14.7 s\n",
      "Wall time: 14.8 s\n"
     ]
    }
   ],
   "source": [
    "%%time\n",
    "\n",
    "dataloader.load_full_detector_response_on_memory()"
   ]
  },
  {
   "cell_type": "markdown",
   "id": "5bc6a570",
   "metadata": {},
   "source": [
    "Here, we calculate an auxiliary matrix for the deconvolution. Basically, it is a response matrix projected into the model space ($\\sum_{i} R_{ij}$). Currently, it is mandatory to run this command for the image deconvolution."
   ]
  },
  {
   "cell_type": "code",
   "execution_count": 10,
   "id": "0a5c9a02",
   "metadata": {},
   "outputs": [
    {
     "name": "stdout",
     "output_type": "stream",
     "text": [
      "... (DataLoader) calculating a projected image response ...\n"
     ]
    }
   ],
   "source": [
    "dataloader.calc_image_response_projected()"
   ]
  },
  {
   "cell_type": "markdown",
   "id": "b1a0269e",
   "metadata": {},
   "source": [
    "### 4-3. Initialize the instance of the image deconvolution class\n",
    "\n",
    "First, we prepare an instance of the ImageDeconvolution class and then register the dataset and parameters for the deconvolution. After that, you can start the calculation."
   ]
  },
  {
   "cell_type": "markdown",
   "id": "79eb910c",
   "metadata": {},
   "source": [
    "<span style=\"color:red\"> please modify this parameter_filepath corresponding to your environment.</span>"
   ]
  },
  {
   "cell_type": "code",
   "execution_count": 11,
   "id": "5fa73486",
   "metadata": {},
   "outputs": [],
   "source": [
    "parameter_filepath = \"imagedeconvolution_parfile_scatt_511keV.yml\""
   ]
  },
  {
   "cell_type": "code",
   "execution_count": 12,
   "id": "a4b47308-3e13-400d-bebc-b5d1e093201d",
   "metadata": {},
   "outputs": [
    {
     "name": "stdout",
     "output_type": "stream",
     "text": [
      "data for image deconvolution was set ->  <cosipy.image_deconvolution.data_loader.DataLoader object at 0x2b83b0e80>\n",
      "parameter file for image deconvolution was set ->  imagedeconvolution_parfile_scatt_511keV.yml\n"
     ]
    }
   ],
   "source": [
    "image_deconvolution = ImageDeconvolution()\n",
    "\n",
    "# set dataloader to image_deconvolution\n",
    "image_deconvolution.set_data(dataloader)\n",
    "\n",
    "# set a parameter file for the image deconvolution\n",
    "image_deconvolution.read_parameterfile(parameter_filepath)"
   ]
  },
  {
   "cell_type": "markdown",
   "id": "a2345d9d",
   "metadata": {},
   "source": [
    "### Initialize image_deconvolution\n",
    "\n",
    "In this process, a model map is defined following the input parameters, and it is initialized. Also, it prepares ancillary data for the image deconvolution, e.g., the expected counts with the initial model map, gaussian smoothing filter etc.\n",
    "\n",
    "I describe parameters in the parameter file.\n",
    "\n",
    "#### model_property\n",
    "\n",
    "| Name | Unit | Description | Notes |\n",
    "| :---: | :---: | :---: | :---: |\n",
    "| coordinate | str | the coordinate system of the model map | As for now, it must be 'galactic' |\n",
    "| nside | int | NSIDE of the model map | it must be the same as NSIDE of 'lb' axis of the coordinate conversion matrix|\n",
    "| scheme | str | SCHEME of the model map | As for now, it must be 'ring' |\n",
    "| energy_edges | list of float [keV] | The definition of the energy bins of the model map | As for now, it must be the same as that of the response matrix |\n",
    "\n",
    "#### model_initialization\n",
    "\n",
    "| Name | Unit | Description | Notes |\n",
    "| :---: | :---: | :---: | :---: |\n",
    "| algorithm | str | the method name to initialize the model map | As for now, only 'flat' can be used |\n",
    "| parameter_flat:values | list of float [cm-2 s-1 sr-1] | the list of photon fluxes for each energy band | the length of the list should be the same as the length of \"energy_edges\" - 1 |\n",
    "\n",
    "#### deconvolution\n",
    "\n",
    "| Name | Unit | Description | Notes |\n",
    "| :---: | :---: | :---: | :---: |\n",
    "|algorithm | str | the name of the image deconvolution algorithm| As for now, only 'RL' is supported |\n",
    "|||||\n",
    "|parameter_RL:iteration | int | The maximum number of the iteration | |\n",
    "|parameter_RL:acceleration | bool | whether the accelerated ML-EM algorithm (Knoedlseder+99) is used | |\n",
    "|parameter_RL:alpha_max | float | the maximum value for the acceleration parameter | |\n",
    "|parameter_RL:save_results_each_iteration | bool | whether an updated model map, detal map, likelihood etc. are saved at the end of each iteration | |\n",
    "|parameter_RL:response_weighting | bool | whether a delta map is renormalized based on the exposure time on each pixel, namely $w_j = (\\sum_{i} R_{ij})^{\\beta}$ (see Knoedlseder+05, Siegert+20) | |\n",
    "|parameter_RL:response_weighting_index | float | $\\beta$ in the above equation | |\n",
    "|parameter_RL:smoothing | bool | whether a Gaussian filter is used (see Knoedlseder+05, Siegert+20)  | |\n",
    "|parameter_RL:smoothing_FWHM | float, degree | the FWHM of the Gaussian in the filter | |\n",
    "|parameter_RL:background_normalization_fitting | bool | whether the background normalization factor is optimized at each iteration | As for now, the single background normalization factor is used in all of the bins |\n",
    "|parameter_RL:background_normalization_range | list of float | the range of the normalization factor | should be positive |"
   ]
  },
  {
   "cell_type": "code",
   "execution_count": 13,
   "id": "879053e3-ac7b-4a0a-ad58-24e3fb137065",
   "metadata": {},
   "outputs": [
    {
     "name": "stdout",
     "output_type": "stream",
     "text": [
      "#### Initialization ####\n",
      "1. generating a model map\n",
      "---- parameters ----\n",
      "coordinate: galactic\n",
      "energy_edges:\n",
      "- 509.0\n",
      "- 513.0\n",
      "nside: 16\n",
      "scheme: ring\n",
      "\n",
      "2. initializing the model map ...\n",
      "---- parameters ----\n",
      "algorithm: flat\n",
      "parameter_flat:\n",
      "  values:\n",
      "  - 1e-4\n",
      "\n",
      "3. registering the deconvolution algorithm ...\n",
      "... calculating the expected events with the initial model map ...\n",
      "... calculating the response weighting filter...\n",
      "... calculating the gaussian filter...\n"
     ]
    },
    {
     "data": {
      "application/vnd.jupyter.widget-view+json": {
       "model_id": "7009ee9a7cdf498fab4981d1f8e0aa4f",
       "version_major": 2,
       "version_minor": 0
      },
      "text/plain": [
       "  0%|          | 0/3072 [00:00<?, ?it/s]"
      ]
     },
     "metadata": {},
     "output_type": "display_data"
    },
    {
     "name": "stdout",
     "output_type": "stream",
     "text": [
      "---- parameters ----\n",
      "algorithm: RL\n",
      "parameter_RL:\n",
      "  acceleration: true\n",
      "  alpha_max: 10.0\n",
      "  background_normalization_fitting: false\n",
      "  background_normalization_range:\n",
      "  - 0.01\n",
      "  - 10.0\n",
      "  iteration: 10\n",
      "  response_weighting: true\n",
      "  response_weighting_index: 0.5\n",
      "  save_results_each_iteration: false\n",
      "  smoothing: true\n",
      "  smoothing_FWHM: 2.0\n",
      "\n",
      "#### Done ####\n",
      "\n"
     ]
    }
   ],
   "source": [
    "image_deconvolution.initialize()"
   ]
  },
  {
   "cell_type": "markdown",
   "id": "5fa48a9c",
   "metadata": {},
   "source": [
    "### (You can change the parameters as follows)\n",
    "\n",
    "Note that when you modify the parameters, do not forget to run \"initialize\" again!"
   ]
  },
  {
   "cell_type": "code",
   "execution_count": 14,
   "id": "1a658d2a-4dee-4d05-83ae-d7ac06317c73",
   "metadata": {},
   "outputs": [
    {
     "name": "stdout",
     "output_type": "stream",
     "text": [
      "#### Initialization ####\n",
      "1. generating a model map\n",
      "---- parameters ----\n",
      "coordinate: galactic\n",
      "energy_edges:\n",
      "- 509.0\n",
      "- 513.0\n",
      "nside: 16\n",
      "scheme: ring\n",
      "\n",
      "2. initializing the model map ...\n",
      "---- parameters ----\n",
      "algorithm: flat\n",
      "parameter_flat:\n",
      "  values:\n",
      "  - 1e-4\n",
      "\n",
      "3. registering the deconvolution algorithm ...\n",
      "... calculating the expected events with the initial model map ...\n",
      "... calculating the response weighting filter...\n",
      "... calculating the gaussian filter...\n"
     ]
    },
    {
     "data": {
      "application/vnd.jupyter.widget-view+json": {
       "model_id": "1035d873912c4427b84a9d79d078648e",
       "version_major": 2,
       "version_minor": 0
      },
      "text/plain": [
       "  0%|          | 0/3072 [00:00<?, ?it/s]"
      ]
     },
     "metadata": {},
     "output_type": "display_data"
    },
    {
     "name": "stdout",
     "output_type": "stream",
     "text": [
      "---- parameters ----\n",
      "algorithm: RL\n",
      "parameter_RL:\n",
      "  acceleration: true\n",
      "  alpha_max: 10\n",
      "  background_normalization_fitting: true\n",
      "  background_normalization_range:\n",
      "  - 0.01\n",
      "  - 10.0\n",
      "  iteration: 30\n",
      "  response_weighting: true\n",
      "  response_weighting_index: 0.5\n",
      "  save_results_each_iteration: false\n",
      "  smoothing: true\n",
      "  smoothing_FWHM: 3.0\n",
      "\n",
      "#### Done ####\n",
      "\n"
     ]
    }
   ],
   "source": [
    "image_deconvolution.override_parameter(\"deconvolution:parameter_RL:iteration = 30\")\n",
    "image_deconvolution.override_parameter(\"deconvolution:parameter_RL:background_normalization_fitting = True\")\n",
    "image_deconvolution.override_parameter(\"deconvolution:parameter_RL:alpha_max = 10\")\n",
    "image_deconvolution.override_parameter(\"deconvolution:parameter_RL:smoothing_FWHM = 3.0\")\n",
    "\n",
    "image_deconvolution.initialize()"
   ]
  },
  {
   "cell_type": "markdown",
   "id": "f764066e",
   "metadata": {},
   "source": [
    "## 4-5. Start the image deconvolution\n",
    "\n",
    "**With MacBook Pro with M1 Max and 64 GB memory, it takes about 6 minutes for 30 iterations.**"
   ]
  },
  {
   "cell_type": "code",
   "execution_count": 15,
   "id": "a57fbf71-2fcc-48c4-9ac7-4c545dca67c9",
   "metadata": {
    "collapsed": true,
    "jupyter": {
     "outputs_hidden": true
    }
   },
   "outputs": [
    {
     "name": "stdout",
     "output_type": "stream",
     "text": [
      "#### Deconvolution Starts ####\n"
     ]
    },
    {
     "data": {
      "application/vnd.jupyter.widget-view+json": {
       "model_id": "eee791b8eeae46cfa0f6beff09567b80",
       "version_major": 2,
       "version_minor": 0
      },
      "text/plain": [
       "  0%|          | 0/30 [00:00<?, ?it/s]"
      ]
     },
     "metadata": {},
     "output_type": "display_data"
    },
    {
     "name": "stdout",
     "output_type": "stream",
     "text": [
      "  Iteration 1/30 \n",
      "--> pre-processing\n",
      "--> E-step\n",
      "... skip E-step ...\n",
      "--> M-step\n"
     ]
    },
    {
     "name": "stderr",
     "output_type": "stream",
     "text": [
      "\n",
      "WARNING RuntimeWarning: invalid value encountered in divide\n",
      "\n"
     ]
    },
    {
     "name": "stdout",
     "output_type": "stream",
     "text": [
      "--> post-processing\n",
      "... calculating the expected events with the updated model map ...\n",
      "--> checking stopping criteria\n",
      "--> --> continue\n",
      "--> registering results\n",
      "--> showing results\n",
      "    alpha: 2.1080675123468926\n",
      "    loglikelihood: -1551229.9897384003\n",
      "    background_normalization: 1.0050126418599186\n",
      "  Iteration 2/30 \n",
      "--> pre-processing\n",
      "--> E-step\n",
      "... skip E-step ...\n",
      "--> M-step\n",
      "--> post-processing\n",
      "... calculating the expected events with the updated model map ...\n",
      "--> checking stopping criteria\n",
      "--> --> continue\n",
      "--> registering results\n",
      "--> showing results\n",
      "    alpha: 1.0\n",
      "    loglikelihood: -1518524.4350935305\n",
      "    background_normalization: 0.9959848975232717\n",
      "  Iteration 3/30 \n",
      "--> pre-processing\n",
      "--> E-step\n",
      "... skip E-step ...\n",
      "--> M-step\n",
      "--> post-processing\n",
      "... calculating the expected events with the updated model map ...\n",
      "--> checking stopping criteria\n",
      "--> --> continue\n",
      "--> registering results\n",
      "--> showing results\n",
      "    alpha: 2.4897451545769558\n",
      "    loglikelihood: -1498271.6856874446\n",
      "    background_normalization: 0.9995574646275605\n",
      "  Iteration 4/30 \n",
      "--> pre-processing\n",
      "--> E-step\n",
      "... skip E-step ...\n",
      "--> M-step\n",
      "--> post-processing\n",
      "... calculating the expected events with the updated model map ...\n",
      "--> checking stopping criteria\n",
      "--> --> continue\n",
      "--> registering results\n",
      "--> showing results\n",
      "    alpha: 1.0\n",
      "    loglikelihood: -1495641.223640671\n",
      "    background_normalization: 1.0003614379338617\n",
      "  Iteration 5/30 \n",
      "--> pre-processing\n",
      "--> E-step\n",
      "... skip E-step ...\n",
      "--> M-step\n",
      "--> post-processing\n",
      "... calculating the expected events with the updated model map ...\n",
      "--> checking stopping criteria\n",
      "--> --> continue\n",
      "--> registering results\n",
      "--> showing results\n",
      "    alpha: 2.3852263040245143\n",
      "    loglikelihood: -1491867.0068859006\n",
      "    background_normalization: 0.9999174022405775\n",
      "  Iteration 6/30 \n",
      "--> pre-processing\n",
      "--> E-step\n",
      "... skip E-step ...\n",
      "--> M-step\n",
      "--> post-processing\n",
      "... calculating the expected events with the updated model map ...\n",
      "--> checking stopping criteria\n",
      "--> --> continue\n",
      "--> registering results\n",
      "--> showing results\n",
      "    alpha: 1.0\n",
      "    loglikelihood: -1490962.0551967723\n",
      "    background_normalization: 0.9997922600730897\n",
      "  Iteration 7/30 \n",
      "--> pre-processing\n",
      "--> E-step\n",
      "... skip E-step ...\n",
      "--> M-step\n",
      "--> post-processing\n",
      "... calculating the expected events with the updated model map ...\n",
      "--> checking stopping criteria\n",
      "--> --> continue\n",
      "--> registering results\n",
      "--> showing results\n",
      "    alpha: 4.387723182454277\n",
      "    loglikelihood: -1488251.8531485228\n",
      "    background_normalization: 0.9998434382258936\n",
      "  Iteration 8/30 \n",
      "--> pre-processing\n",
      "--> E-step\n",
      "... skip E-step ...\n",
      "--> M-step\n",
      "--> post-processing\n",
      "... calculating the expected events with the updated model map ...\n",
      "--> checking stopping criteria\n",
      "--> --> continue\n",
      "--> registering results\n",
      "--> showing results\n",
      "    alpha: 1.0\n",
      "    loglikelihood: -1487986.9690331523\n",
      "    background_normalization: 0.9998673306299208\n",
      "  Iteration 9/30 \n",
      "--> pre-processing\n",
      "--> E-step\n",
      "... skip E-step ...\n",
      "--> M-step\n",
      "--> post-processing\n",
      "... calculating the expected events with the updated model map ...\n",
      "--> checking stopping criteria\n",
      "--> --> continue\n",
      "--> registering results\n",
      "--> showing results\n",
      "    alpha: 2.84365305082598\n",
      "    loglikelihood: -1487367.9754518927\n",
      "    background_normalization: 0.9998507570475693\n",
      "  Iteration 10/30 \n",
      "--> pre-processing\n",
      "--> E-step\n",
      "... skip E-step ...\n",
      "--> M-step\n",
      "--> post-processing\n",
      "... calculating the expected events with the updated model map ...\n",
      "--> checking stopping criteria\n",
      "--> --> continue\n",
      "--> registering results\n",
      "--> showing results\n",
      "    alpha: 1.0\n",
      "    loglikelihood: -1487213.0444301045\n",
      "    background_normalization: 0.999845016787409\n",
      "  Iteration 11/30 \n",
      "--> pre-processing\n",
      "--> E-step\n",
      "... skip E-step ...\n",
      "--> M-step\n",
      "--> post-processing\n",
      "... calculating the expected events with the updated model map ...\n",
      "--> checking stopping criteria\n",
      "--> --> continue\n",
      "--> registering results\n",
      "--> showing results\n",
      "    alpha: 3.029781452012504\n",
      "    loglikelihood: -1486814.733209074\n",
      "    background_normalization: 0.9998478502709297\n",
      "  Iteration 12/30 \n",
      "--> pre-processing\n",
      "--> E-step\n",
      "... skip E-step ...\n",
      "--> M-step\n",
      "--> post-processing\n",
      "... calculating the expected events with the updated model map ...\n",
      "--> checking stopping criteria\n",
      "--> --> continue\n",
      "--> registering results\n",
      "--> showing results\n",
      "    alpha: 1.0\n",
      "    loglikelihood: -1486717.6336796205\n",
      "    background_normalization: 0.9998494906610335\n",
      "  Iteration 13/30 \n",
      "--> pre-processing\n",
      "--> E-step\n",
      "... skip E-step ...\n",
      "--> M-step\n",
      "--> post-processing\n",
      "... calculating the expected events with the updated model map ...\n",
      "--> checking stopping criteria\n",
      "--> --> continue\n",
      "--> registering results\n",
      "--> showing results\n",
      "    alpha: 5.922135415315305\n",
      "    loglikelihood: -1486247.159963537\n",
      "    background_normalization: 0.9998492133948298\n",
      "  Iteration 14/30 \n",
      "--> pre-processing\n",
      "--> E-step\n",
      "... skip E-step ...\n",
      "--> M-step\n",
      "--> post-processing\n",
      "... calculating the expected events with the updated model map ...\n",
      "--> checking stopping criteria\n",
      "--> --> continue\n",
      "--> registering results\n",
      "--> showing results\n",
      "    alpha: 1.0\n",
      "    loglikelihood: -1486199.5773373689\n",
      "    background_normalization: 0.999850492095108\n",
      "  Iteration 15/30 \n",
      "--> pre-processing\n",
      "--> E-step\n",
      "... skip E-step ...\n",
      "--> M-step\n",
      "--> post-processing\n",
      "... calculating the expected events with the updated model map ...\n",
      "--> checking stopping criteria\n",
      "--> --> continue\n",
      "--> registering results\n",
      "--> showing results\n",
      "    alpha: 2.413333597940371\n",
      "    loglikelihood: -1486095.1716069807\n",
      "    background_normalization: 0.9998509553200596\n",
      "  Iteration 16/30 \n",
      "--> pre-processing\n",
      "--> E-step\n",
      "... skip E-step ...\n",
      "--> M-step\n",
      "--> post-processing\n",
      "... calculating the expected events with the updated model map ...\n",
      "--> checking stopping criteria\n",
      "--> --> continue\n",
      "--> registering results\n",
      "--> showing results\n",
      "    alpha: 1.0\n",
      "    loglikelihood: -1486058.2106816785\n",
      "    background_normalization: 0.9998516356205347\n",
      "  Iteration 17/30 \n",
      "--> pre-processing\n",
      "--> E-step\n",
      "... skip E-step ...\n",
      "--> M-step\n",
      "--> post-processing\n",
      "... calculating the expected events with the updated model map ...\n",
      "--> checking stopping criteria\n",
      "--> --> continue\n",
      "--> registering results\n",
      "--> showing results\n",
      "    alpha: 5.920637223730822\n",
      "    loglikelihood: -1485867.1840291938\n",
      "    background_normalization: 0.9998518448651902\n",
      "  Iteration 18/30 \n",
      "--> pre-processing\n",
      "--> E-step\n",
      "... skip E-step ...\n",
      "--> M-step\n",
      "--> post-processing\n",
      "... calculating the expected events with the updated model map ...\n",
      "--> checking stopping criteria\n",
      "--> --> continue\n",
      "--> registering results\n",
      "--> showing results\n",
      "    alpha: 1.0\n",
      "    loglikelihood: -1485844.4772741494\n",
      "    background_normalization: 0.9998531878206062\n",
      "  Iteration 19/30 \n",
      "--> pre-processing\n",
      "--> E-step\n",
      "... skip E-step ...\n",
      "--> M-step\n",
      "--> post-processing\n",
      "... calculating the expected events with the updated model map ...\n",
      "--> checking stopping criteria\n",
      "--> --> continue\n",
      "--> registering results\n",
      "--> showing results\n",
      "    alpha: 4.990811101514476\n",
      "    loglikelihood: -1485741.977634585\n",
      "    background_normalization: 0.9998533758202576\n",
      "  Iteration 20/30 \n",
      "--> pre-processing\n",
      "--> E-step\n",
      "... skip E-step ...\n",
      "--> M-step\n",
      "--> post-processing\n",
      "... calculating the expected events with the updated model map ...\n",
      "--> checking stopping criteria\n",
      "--> --> continue\n",
      "--> registering results\n",
      "--> showing results\n",
      "    alpha: 1.0\n",
      "    loglikelihood: -1485725.872848677\n",
      "    background_normalization: 0.9998542774332588\n",
      "  Iteration 21/30 \n",
      "--> pre-processing\n",
      "--> E-step\n",
      "... skip E-step ...\n",
      "--> M-step\n",
      "--> post-processing\n",
      "... calculating the expected events with the updated model map ...\n",
      "--> checking stopping criteria\n",
      "--> --> continue\n",
      "--> registering results\n",
      "--> showing results\n",
      "    alpha: 5.46235887302799\n",
      "    loglikelihood: -1485645.6222511244\n",
      "    background_normalization: 0.9998544311046191\n",
      "  Iteration 22/30 \n",
      "--> pre-processing\n",
      "--> E-step\n",
      "... skip E-step ...\n",
      "--> M-step\n",
      "--> post-processing\n",
      "... calculating the expected events with the updated model map ...\n",
      "--> checking stopping criteria\n",
      "--> --> continue\n",
      "--> registering results\n",
      "--> showing results\n",
      "    alpha: 1.0\n",
      "    loglikelihood: -1485633.981373151\n",
      "    background_normalization: 0.9998552361866592\n",
      "  Iteration 23/30 \n",
      "--> pre-processing\n",
      "--> E-step\n",
      "... skip E-step ...\n",
      "--> M-step\n",
      "--> post-processing\n",
      "... calculating the expected events with the updated model map ...\n",
      "--> checking stopping criteria\n",
      "--> --> continue\n",
      "--> registering results\n",
      "--> showing results\n",
      "    alpha: 8.74679495209295\n",
      "    loglikelihood: -1485542.6143060997\n",
      "    background_normalization: 0.9998553638885181\n",
      "  Iteration 24/30 \n",
      "--> pre-processing\n",
      "--> E-step\n",
      "... skip E-step ...\n",
      "--> M-step\n",
      "--> post-processing\n",
      "... calculating the expected events with the updated model map ...\n",
      "--> checking stopping criteria\n",
      "--> --> continue\n",
      "--> registering results\n",
      "--> showing results\n",
      "    alpha: 1.0\n",
      "    loglikelihood: -1485535.1166664003\n",
      "    background_normalization: 0.9998564378573166\n",
      "  Iteration 25/30 \n",
      "--> pre-processing\n",
      "--> E-step\n",
      "... skip E-step ...\n",
      "--> M-step\n",
      "--> post-processing\n",
      "... calculating the expected events with the updated model map ...\n",
      "--> checking stopping criteria\n",
      "--> --> continue\n",
      "--> registering results\n",
      "--> showing results\n",
      "    alpha: 1.0\n",
      "    loglikelihood: -1485527.8837559712\n",
      "    background_normalization: 0.9998565351961678\n",
      "  Iteration 26/30 \n",
      "--> pre-processing\n",
      "--> E-step\n",
      "... skip E-step ...\n",
      "--> M-step\n",
      "--> post-processing\n",
      "... calculating the expected events with the updated model map ...\n",
      "--> checking stopping criteria\n",
      "--> --> continue\n",
      "--> registering results\n",
      "--> showing results\n",
      "    alpha: 1.0\n",
      "    loglikelihood: -1485520.902635937\n",
      "    background_normalization: 0.9998566280776212\n",
      "  Iteration 27/30 \n",
      "--> pre-processing\n",
      "--> E-step\n",
      "... skip E-step ...\n",
      "--> M-step\n",
      "--> post-processing\n",
      "... calculating the expected events with the updated model map ...\n",
      "--> checking stopping criteria\n",
      "--> --> continue\n",
      "--> registering results\n",
      "--> showing results\n",
      "    alpha: 1.0\n",
      "    loglikelihood: -1485514.1611448\n",
      "    background_normalization: 0.9998567194210692\n",
      "  Iteration 28/30 \n",
      "--> pre-processing\n",
      "--> E-step\n",
      "... skip E-step ...\n",
      "--> M-step\n",
      "--> post-processing\n",
      "... calculating the expected events with the updated model map ...\n",
      "--> checking stopping criteria\n",
      "--> --> continue\n",
      "--> registering results\n",
      "--> showing results\n",
      "    alpha: 1.0\n",
      "    loglikelihood: -1485507.647847124\n",
      "    background_normalization: 0.9998568088281191\n",
      "  Iteration 29/30 \n",
      "--> pre-processing\n",
      "--> E-step\n",
      "... skip E-step ...\n",
      "--> M-step\n",
      "--> post-processing\n",
      "... calculating the expected events with the updated model map ...\n",
      "--> checking stopping criteria\n",
      "--> --> continue\n",
      "--> registering results\n",
      "--> showing results\n",
      "    alpha: 3.039727994858752\n",
      "    loglikelihood: -1485488.7534399389\n",
      "    background_normalization: 0.9998568963286708\n",
      "  Iteration 30/30 \n",
      "--> pre-processing\n",
      "--> E-step\n",
      "... skip E-step ...\n",
      "--> M-step\n",
      "--> post-processing\n",
      "... calculating the expected events with the updated model map ...\n",
      "--> checking stopping criteria\n",
      "--> --> stop\n",
      "--> registering results\n",
      "--> showing results\n",
      "    alpha: 1.0\n",
      "    loglikelihood: -1485483.0743170334\n",
      "    background_normalization: 0.9998571557629257\n",
      "#### Done ####\n",
      "\n",
      "CPU times: user 25min 23s, sys: 3min 48s, total: 29min 12s\n",
      "Wall time: 4min 26s\n"
     ]
    }
   ],
   "source": [
    "%%time\n",
    "\n",
    "all_results = image_deconvolution.run_deconvolution()"
   ]
  },
  {
   "cell_type": "code",
   "execution_count": 16,
   "id": "cc64ea8d",
   "metadata": {
    "collapsed": true,
    "jupyter": {
     "outputs_hidden": true
    }
   },
   "outputs": [
    {
     "name": "stdout",
     "output_type": "stream",
     "text": [
      "[{'alpha': <Quantity 2.10806751>,\n",
      "  'background_normalization': 1.0050126418599186,\n",
      "  'delta_map': <cosipy.image_deconvolution.modelmap.ModelMap object at 0x36c55cb20>,\n",
      "  'iteration': 1,\n",
      "  'loglikelihood': -1551229.9897384003,\n",
      "  'model_map': <cosipy.image_deconvolution.modelmap.ModelMap object at 0x36c55cb50>,\n",
      "  'processed_delta_map': <cosipy.image_deconvolution.modelmap.ModelMap object at 0x36c55e260>},\n",
      " {'alpha': 1.0,\n",
      "  'background_normalization': 0.9959848975232717,\n",
      "  'delta_map': <cosipy.image_deconvolution.modelmap.ModelMap object at 0x36c55d750>,\n",
      "  'iteration': 2,\n",
      "  'loglikelihood': -1518524.4350935305,\n",
      "  'model_map': <cosipy.image_deconvolution.modelmap.ModelMap object at 0x36c55f010>,\n",
      "  'processed_delta_map': <cosipy.image_deconvolution.modelmap.ModelMap object at 0x36c55c100>},\n",
      " {'alpha': <Quantity 2.48974515>,\n",
      "  'background_normalization': 0.9995574646275605,\n",
      "  'delta_map': <cosipy.image_deconvolution.modelmap.ModelMap object at 0x36c55ece0>,\n",
      "  'iteration': 3,\n",
      "  'loglikelihood': -1498271.6856874446,\n",
      "  'model_map': <cosipy.image_deconvolution.modelmap.ModelMap object at 0x36c55ed10>,\n",
      "  'processed_delta_map': <cosipy.image_deconvolution.modelmap.ModelMap object at 0x36c55ef20>},\n",
      " {'alpha': 1.0,\n",
      "  'background_normalization': 1.0003614379338617,\n",
      "  'delta_map': <cosipy.image_deconvolution.modelmap.ModelMap object at 0x36c55e920>,\n",
      "  'iteration': 4,\n",
      "  'loglikelihood': -1495641.223640671,\n",
      "  'model_map': <cosipy.image_deconvolution.modelmap.ModelMap object at 0x36c55c370>,\n",
      "  'processed_delta_map': <cosipy.image_deconvolution.modelmap.ModelMap object at 0x36c55eb00>},\n",
      " {'alpha': <Quantity 2.3852263>,\n",
      "  'background_normalization': 0.9999174022405775,\n",
      "  'delta_map': <cosipy.image_deconvolution.modelmap.ModelMap object at 0x36c55e230>,\n",
      "  'iteration': 5,\n",
      "  'loglikelihood': -1491867.0068859006,\n",
      "  'model_map': <cosipy.image_deconvolution.modelmap.ModelMap object at 0x36c55f340>,\n",
      "  'processed_delta_map': <cosipy.image_deconvolution.modelmap.ModelMap object at 0x36c55f850>},\n",
      " {'alpha': 1.0,\n",
      "  'background_normalization': 0.9997922600730897,\n",
      "  'delta_map': <cosipy.image_deconvolution.modelmap.ModelMap object at 0x36c55f070>,\n",
      "  'iteration': 6,\n",
      "  'loglikelihood': -1490962.0551967723,\n",
      "  'model_map': <cosipy.image_deconvolution.modelmap.ModelMap object at 0x36c55e7a0>,\n",
      "  'processed_delta_map': <cosipy.image_deconvolution.modelmap.ModelMap object at 0x36c55db70>},\n",
      " {'alpha': <Quantity 4.38772318>,\n",
      "  'background_normalization': 0.9998434382258936,\n",
      "  'delta_map': <cosipy.image_deconvolution.modelmap.ModelMap object at 0x36c55ce50>,\n",
      "  'iteration': 7,\n",
      "  'loglikelihood': -1488251.8531485228,\n",
      "  'model_map': <cosipy.image_deconvolution.modelmap.ModelMap object at 0x36c55c820>,\n",
      "  'processed_delta_map': <cosipy.image_deconvolution.modelmap.ModelMap object at 0x36c55dfc0>},\n",
      " {'alpha': 1.0,\n",
      "  'background_normalization': 0.9998673306299208,\n",
      "  'delta_map': <cosipy.image_deconvolution.modelmap.ModelMap object at 0x36c55ebf0>,\n",
      "  'iteration': 8,\n",
      "  'loglikelihood': -1487986.9690331523,\n",
      "  'model_map': <cosipy.image_deconvolution.modelmap.ModelMap object at 0x36c55c3a0>,\n",
      "  'processed_delta_map': <cosipy.image_deconvolution.modelmap.ModelMap object at 0x36c55faf0>},\n",
      " {'alpha': <Quantity 2.84365305>,\n",
      "  'background_normalization': 0.9998507570475693,\n",
      "  'delta_map': <cosipy.image_deconvolution.modelmap.ModelMap object at 0x36c55f8e0>,\n",
      "  'iteration': 9,\n",
      "  'loglikelihood': -1487367.9754518927,\n",
      "  'model_map': <cosipy.image_deconvolution.modelmap.ModelMap object at 0x36c55fe20>,\n",
      "  'processed_delta_map': <cosipy.image_deconvolution.modelmap.ModelMap object at 0x36c55d9c0>},\n",
      " {'alpha': 1.0,\n",
      "  'background_normalization': 0.999845016787409,\n",
      "  'delta_map': <cosipy.image_deconvolution.modelmap.ModelMap object at 0x36c55c430>,\n",
      "  'iteration': 10,\n",
      "  'loglikelihood': -1487213.0444301045,\n",
      "  'model_map': <cosipy.image_deconvolution.modelmap.ModelMap object at 0x36c55cf10>,\n",
      "  'processed_delta_map': <cosipy.image_deconvolution.modelmap.ModelMap object at 0x36c55d480>},\n",
      " {'alpha': <Quantity 3.02978145>,\n",
      "  'background_normalization': 0.9998478502709297,\n",
      "  'delta_map': <cosipy.image_deconvolution.modelmap.ModelMap object at 0x36c55ec50>,\n",
      "  'iteration': 11,\n",
      "  'loglikelihood': -1486814.733209074,\n",
      "  'model_map': <cosipy.image_deconvolution.modelmap.ModelMap object at 0x36c55c9d0>,\n",
      "  'processed_delta_map': <cosipy.image_deconvolution.modelmap.ModelMap object at 0x36c55e0b0>},\n",
      " {'alpha': 1.0,\n",
      "  'background_normalization': 0.9998494906610335,\n",
      "  'delta_map': <cosipy.image_deconvolution.modelmap.ModelMap object at 0x36c55d9f0>,\n",
      "  'iteration': 12,\n",
      "  'loglikelihood': -1486717.6336796205,\n",
      "  'model_map': <cosipy.image_deconvolution.modelmap.ModelMap object at 0x36c55e6e0>,\n",
      "  'processed_delta_map': <cosipy.image_deconvolution.modelmap.ModelMap object at 0x36c55eb90>},\n",
      " {'alpha': <Quantity 5.92213542>,\n",
      "  'background_normalization': 0.9998492133948298,\n",
      "  'delta_map': <cosipy.image_deconvolution.modelmap.ModelMap object at 0x36c55d900>,\n",
      "  'iteration': 13,\n",
      "  'loglikelihood': -1486247.159963537,\n",
      "  'model_map': <cosipy.image_deconvolution.modelmap.ModelMap object at 0x36c55c5b0>,\n",
      "  'processed_delta_map': <cosipy.image_deconvolution.modelmap.ModelMap object at 0x36c55d510>},\n",
      " {'alpha': 1.0,\n",
      "  'background_normalization': 0.999850492095108,\n",
      "  'delta_map': <cosipy.image_deconvolution.modelmap.ModelMap object at 0x36c55ded0>,\n",
      "  'iteration': 14,\n",
      "  'loglikelihood': -1486199.5773373689,\n",
      "  'model_map': <cosipy.image_deconvolution.modelmap.ModelMap object at 0x36c55e0e0>,\n",
      "  'processed_delta_map': <cosipy.image_deconvolution.modelmap.ModelMap object at 0x36c4ab160>},\n",
      " {'alpha': <Quantity 2.4133336>,\n",
      "  'background_normalization': 0.9998509553200596,\n",
      "  'delta_map': <cosipy.image_deconvolution.modelmap.ModelMap object at 0x36c55ca60>,\n",
      "  'iteration': 15,\n",
      "  'loglikelihood': -1486095.1716069807,\n",
      "  'model_map': <cosipy.image_deconvolution.modelmap.ModelMap object at 0x36c55c850>,\n",
      "  'processed_delta_map': <cosipy.image_deconvolution.modelmap.ModelMap object at 0x36c4a94b0>},\n",
      " {'alpha': 1.0,\n",
      "  'background_normalization': 0.9998516356205347,\n",
      "  'delta_map': <cosipy.image_deconvolution.modelmap.ModelMap object at 0x36c4a8430>,\n",
      "  'iteration': 16,\n",
      "  'loglikelihood': -1486058.2106816785,\n",
      "  'model_map': <cosipy.image_deconvolution.modelmap.ModelMap object at 0x36c4a8b20>,\n",
      "  'processed_delta_map': <cosipy.image_deconvolution.modelmap.ModelMap object at 0x36c4aadd0>},\n",
      " {'alpha': <Quantity 5.92063722>,\n",
      "  'background_normalization': 0.9998518448651902,\n",
      "  'delta_map': <cosipy.image_deconvolution.modelmap.ModelMap object at 0x36c55c6a0>,\n",
      "  'iteration': 17,\n",
      "  'loglikelihood': -1485867.1840291938,\n",
      "  'model_map': <cosipy.image_deconvolution.modelmap.ModelMap object at 0x36c55eef0>,\n",
      "  'processed_delta_map': <cosipy.image_deconvolution.modelmap.ModelMap object at 0x36c4a83a0>},\n",
      " {'alpha': 1.0,\n",
      "  'background_normalization': 0.9998531878206062,\n",
      "  'delta_map': <cosipy.image_deconvolution.modelmap.ModelMap object at 0x36c4a93c0>,\n",
      "  'iteration': 18,\n",
      "  'loglikelihood': -1485844.4772741494,\n",
      "  'model_map': <cosipy.image_deconvolution.modelmap.ModelMap object at 0x36c4aba30>,\n",
      "  'processed_delta_map': <cosipy.image_deconvolution.modelmap.ModelMap object at 0x36c4a8880>},\n",
      " {'alpha': <Quantity 4.9908111>,\n",
      "  'background_normalization': 0.9998533758202576,\n",
      "  'delta_map': <cosipy.image_deconvolution.modelmap.ModelMap object at 0x36c4ab880>,\n",
      "  'iteration': 19,\n",
      "  'loglikelihood': -1485741.977634585,\n",
      "  'model_map': <cosipy.image_deconvolution.modelmap.ModelMap object at 0x36c4a9450>,\n",
      "  'processed_delta_map': <cosipy.image_deconvolution.modelmap.ModelMap object at 0x36c4a80a0>},\n",
      " {'alpha': 1.0,\n",
      "  'background_normalization': 0.9998542774332588,\n",
      "  'delta_map': <cosipy.image_deconvolution.modelmap.ModelMap object at 0x36c4a8370>,\n",
      "  'iteration': 20,\n",
      "  'loglikelihood': -1485725.872848677,\n",
      "  'model_map': <cosipy.image_deconvolution.modelmap.ModelMap object at 0x36c4a85e0>,\n",
      "  'processed_delta_map': <cosipy.image_deconvolution.modelmap.ModelMap object at 0x36c4a8fa0>},\n",
      " {'alpha': <Quantity 5.46235887>,\n",
      "  'background_normalization': 0.9998544311046191,\n",
      "  'delta_map': <cosipy.image_deconvolution.modelmap.ModelMap object at 0x36c4aad10>,\n",
      "  'iteration': 21,\n",
      "  'loglikelihood': -1485645.6222511244,\n",
      "  'model_map': <cosipy.image_deconvolution.modelmap.ModelMap object at 0x36c4aae30>,\n",
      "  'processed_delta_map': <cosipy.image_deconvolution.modelmap.ModelMap object at 0x36c4a9a20>},\n",
      " {'alpha': 1.0,\n",
      "  'background_normalization': 0.9998552361866592,\n",
      "  'delta_map': <cosipy.image_deconvolution.modelmap.ModelMap object at 0x36c4ab4c0>,\n",
      "  'iteration': 22,\n",
      "  'loglikelihood': -1485633.981373151,\n",
      "  'model_map': <cosipy.image_deconvolution.modelmap.ModelMap object at 0x36c4a81f0>,\n",
      "  'processed_delta_map': <cosipy.image_deconvolution.modelmap.ModelMap object at 0x36c4a8e20>},\n",
      " {'alpha': <Quantity 8.74679495>,\n",
      "  'background_normalization': 0.9998553638885181,\n",
      "  'delta_map': <cosipy.image_deconvolution.modelmap.ModelMap object at 0x36c4a88b0>,\n",
      "  'iteration': 23,\n",
      "  'loglikelihood': -1485542.6143060997,\n",
      "  'model_map': <cosipy.image_deconvolution.modelmap.ModelMap object at 0x36c4ab790>,\n",
      "  'processed_delta_map': <cosipy.image_deconvolution.modelmap.ModelMap object at 0x36c4a9510>},\n",
      " {'alpha': 1.0,\n",
      "  'background_normalization': 0.9998564378573166,\n",
      "  'delta_map': <cosipy.image_deconvolution.modelmap.ModelMap object at 0x36c4a84c0>,\n",
      "  'iteration': 24,\n",
      "  'loglikelihood': -1485535.1166664003,\n",
      "  'model_map': <cosipy.image_deconvolution.modelmap.ModelMap object at 0x36c55d7b0>,\n",
      "  'processed_delta_map': <cosipy.image_deconvolution.modelmap.ModelMap object at 0x36c4a8be0>},\n",
      " {'alpha': 1.0,\n",
      "  'background_normalization': 0.9998565351961678,\n",
      "  'delta_map': <cosipy.image_deconvolution.modelmap.ModelMap object at 0x36c55e560>,\n",
      "  'iteration': 25,\n",
      "  'loglikelihood': -1485527.8837559712,\n",
      "  'model_map': <cosipy.image_deconvolution.modelmap.ModelMap object at 0x36c55d120>,\n",
      "  'processed_delta_map': <cosipy.image_deconvolution.modelmap.ModelMap object at 0x36c478b20>},\n",
      " {'alpha': 1.0,\n",
      "  'background_normalization': 0.9998566280776212,\n",
      "  'delta_map': <cosipy.image_deconvolution.modelmap.ModelMap object at 0x36c4ab8e0>,\n",
      "  'iteration': 26,\n",
      "  'loglikelihood': -1485520.902635937,\n",
      "  'model_map': <cosipy.image_deconvolution.modelmap.ModelMap object at 0x36c4ab130>,\n",
      "  'processed_delta_map': <cosipy.image_deconvolution.modelmap.ModelMap object at 0x36c47a470>},\n",
      " {'alpha': 1.0,\n",
      "  'background_normalization': 0.9998567194210692,\n",
      "  'delta_map': <cosipy.image_deconvolution.modelmap.ModelMap object at 0x36c4ab9d0>,\n",
      "  'iteration': 27,\n",
      "  'loglikelihood': -1485514.1611448,\n",
      "  'model_map': <cosipy.image_deconvolution.modelmap.ModelMap object at 0x36c4a8fd0>,\n",
      "  'processed_delta_map': <cosipy.image_deconvolution.modelmap.ModelMap object at 0x36c478940>},\n",
      " {'alpha': 1.0,\n",
      "  'background_normalization': 0.9998568088281191,\n",
      "  'delta_map': <cosipy.image_deconvolution.modelmap.ModelMap object at 0x36c47a650>,\n",
      "  'iteration': 28,\n",
      "  'loglikelihood': -1485507.647847124,\n",
      "  'model_map': <cosipy.image_deconvolution.modelmap.ModelMap object at 0x36c55d420>,\n",
      "  'processed_delta_map': <cosipy.image_deconvolution.modelmap.ModelMap object at 0x36c4795d0>},\n",
      " {'alpha': <Quantity 3.03972799>,\n",
      "  'background_normalization': 0.9998568963286708,\n",
      "  'delta_map': <cosipy.image_deconvolution.modelmap.ModelMap object at 0x36c4782e0>,\n",
      "  'iteration': 29,\n",
      "  'loglikelihood': -1485488.7534399389,\n",
      "  'model_map': <cosipy.image_deconvolution.modelmap.ModelMap object at 0x36c4aafb0>,\n",
      "  'processed_delta_map': <cosipy.image_deconvolution.modelmap.ModelMap object at 0x36c47a260>},\n",
      " {'alpha': 1.0,\n",
      "  'background_normalization': 0.9998571557629257,\n",
      "  'delta_map': <cosipy.image_deconvolution.modelmap.ModelMap object at 0x36c47a830>,\n",
      "  'iteration': 30,\n",
      "  'loglikelihood': -1485483.0743170334,\n",
      "  'model_map': <cosipy.image_deconvolution.modelmap.ModelMap object at 0x36c47be20>,\n",
      "  'processed_delta_map': <cosipy.image_deconvolution.modelmap.ModelMap object at 0x36c4797e0>}]\n"
     ]
    }
   ],
   "source": [
    "import pprint\n",
    "\n",
    "pprint.pprint(all_results)"
   ]
  },
  {
   "cell_type": "markdown",
   "id": "9d32d0a8",
   "metadata": {},
   "source": [
    "## 5. Analyze the results\n",
    "Examples to see/analyze the results are shown below."
   ]
  },
  {
   "cell_type": "markdown",
   "id": "f577c7ac",
   "metadata": {},
   "source": [
    "### Log-likelihood\n",
    "\n",
    "Plotting the log-likelihood vs the number of iterations"
   ]
  },
  {
   "cell_type": "code",
   "execution_count": 17,
   "id": "445ee3d5",
   "metadata": {},
   "outputs": [
    {
     "data": {
      "image/png": "[encoded data removed]",
      "text/plain": [
       "<Figure size 640x480 with 1 Axes>"
      ]
     },
     "metadata": {},
     "output_type": "display_data"
    }
   ],
   "source": [
    "x, y = [], []\n",
    "\n",
    "for result in all_results:\n",
    "    x.append(result['iteration'])\n",
    "    y.append(result['loglikelihood'])\n",
    "    \n",
    "plt.plot(x, y)\n",
    "plt.grid()\n",
    "plt.xlabel(\"iteration\")\n",
    "plt.ylabel(\"loglikelihood\")\n",
    "plt.show()"
   ]
  },
  {
   "cell_type": "markdown",
   "id": "3f085706",
   "metadata": {},
   "source": [
    "### Alpha (the factor used for the acceleration)\n",
    "\n",
    "Plotting $\\alpha$ vs the number of iterations. $\\alpha$ is a parameter to accelerate the EM algorithm (see the beginning of Section 4). If it is too large, reconstructed images may have artifacts."
   ]
  },
  {
   "cell_type": "code",
   "execution_count": 18,
   "id": "1695af05",
   "metadata": {},
   "outputs": [
    {
     "data": {
      "image/png": "[encoded data removed]",
      "text/plain": [
       "<Figure size 640x480 with 1 Axes>"
      ]
     },
     "metadata": {},
     "output_type": "display_data"
    }
   ],
   "source": [
    "x, y = [], []\n",
    "\n",
    "for result in all_results:\n",
    "    x.append(result['iteration'])\n",
    "    y.append(result['alpha'])\n",
    "    \n",
    "plt.plot(x, y)\n",
    "plt.grid()\n",
    "plt.xlabel(\"iteration\")\n",
    "plt.ylabel(\"alpha\")\n",
    "plt.show()"
   ]
  },
  {
   "cell_type": "markdown",
   "id": "b3298aa5",
   "metadata": {},
   "source": [
    "### Background normalization\n",
    "\n",
    "Plotting the background nomalization factor vs the number of iterations. If the background model is accurate and the image is reconstructed perfectly, this factor should be close to 1."
   ]
  },
  {
   "cell_type": "code",
   "execution_count": 19,
   "id": "71ad8d7a",
   "metadata": {},
   "outputs": [
    {
     "data": {
      "image/png": "[encoded data removed]",
      "text/plain": [
       "<Figure size 640x480 with 1 Axes>"
      ]
     },
     "metadata": {},
     "output_type": "display_data"
    }
   ],
   "source": [
    "x, y = [], []\n",
    "\n",
    "for result in all_results:\n",
    "    x.append(result['iteration'])\n",
    "    y.append(result['background_normalization'])\n",
    "    \n",
    "plt.plot(x, y)\n",
    "plt.grid()\n",
    "plt.xlabel(\"iteration\")\n",
    "plt.ylabel(\"background_normalization\")\n",
    "plt.show()"
   ]
  },
  {
   "cell_type": "markdown",
   "id": "58e0d3a6",
   "metadata": {},
   "source": [
    "### The reconstructed images"
   ]
  },
  {
   "cell_type": "code",
   "execution_count": 20,
   "id": "94ab604d-12d9-4f81-b8d1-7dcbe793b6e8",
   "metadata": {
    "scrolled": true
   },
   "outputs": [],
   "source": [
    "def plot_reconstructed_image(result, source_position = None): # source_position should be (l,b) in degrees\n",
    "    iteration = result['iteration']\n",
    "    image = result['model_map']\n",
    "\n",
    "    for energy_index in range(image.axes['Ei'].nbins):\n",
    "        map_healpxmap = HealpixMap(data = image[:,energy_index], unit = image.unit)\n",
    "\n",
    "        _, ax = map_healpxmap.plot('mollview')        \n",
    "        \n",
    "        _.colorbar.set_label(str(image.unit))\n",
    "        \n",
    "        if source_position is not None:\n",
    "            ax.scatter(source_position[0]*u.deg, source_position[1]*u.deg, transform=ax.get_transform('world'), color = 'red')\n",
    "\n",
    "        plt.title(label = f\"iteration = {iteration}, energy_index = {energy_index} ({image.axes['Ei'].bounds[energy_index][0]}-{image.axes['Ei'].bounds[energy_index][1]})\")"
   ]
  },
  {
   "cell_type": "markdown",
   "id": "4b8cdf58",
   "metadata": {},
   "source": [
    "Plotting the reconstructed images in all of the energy bands at the 20th iteration"
   ]
  },
  {
   "cell_type": "code",
   "execution_count": 21,
   "id": "2769b6e5",
   "metadata": {},
   "outputs": [
    {
     "data": {
      "image/png": "[encoded data removed]",
      "text/plain": [
       "<Figure size 600x600 with 2 Axes>"
      ]
     },
     "metadata": {},
     "output_type": "display_data"
    }
   ],
   "source": [
    "iteration = 19\n",
    "\n",
    "plot_reconstructed_image(all_results[iteration])"
   ]
  },
  {
   "cell_type": "markdown",
   "id": "7ac96b22",
   "metadata": {},
   "source": [
    "An example to plot the image in the log scale"
   ]
  },
  {
   "cell_type": "code",
   "execution_count": 35,
   "id": "71f5f43f",
   "metadata": {},
   "outputs": [
    {
     "name": "stdout",
     "output_type": "stream",
     "text": [
      "total flux : 0.00264892824004895 1 / (cm2 s)\n"
     ]
    },
    {
     "data": {
      "image/png": "[encoded data removed]",
      "text/plain": [
       "<Figure size 850x540 with 2 Axes>"
      ]
     },
     "metadata": {},
     "output_type": "display_data"
    }
   ],
   "source": [
    "iteration_idx = 29\n",
    "\n",
    "result = all_results[iteration_idx]\n",
    "\n",
    "iteration = result['iteration']\n",
    "image = result['model_map']\n",
    "\n",
    "print(\"total flux :\", np.sum(image[:,0]) * image.axes['lb'].pixarea())\n",
    "\n",
    "data = image[:,0]\n",
    "data[data <= 0 * data.unit] = 1e-12 * data.unit\n",
    "\n",
    "hp.mollview(data, min = 1e-5, norm ='log', unit = str(data.unit), title = f'511 keV image at {iteration}th iteration', cmap = 'magma')\n",
    "\n",
    "plt.show()"
   ]
  },
  {
   "cell_type": "code",
   "execution_count": null,
   "id": "b2d8b10a-a35a-4172-a89f-c679d4a49231",
   "metadata": {},
   "outputs": [],
   "source": []
  }
 ],
 "metadata": {
  "kernelspec": {
   "display_name": "Python 3 (ipykernel)",
   "language": "python",
   "name": "python3"
  },
  "language_info": {
   "codemirror_mode": {
    "name": "ipython",
    "version": 3
   },
   "file_extension": ".py",
   "mimetype": "text/x-python",
   "name": "python",
   "nbconvert_exporter": "python",
   "pygments_lexer": "ipython3",
   "version": "3.10.6"
  }
 },
 "nbformat": 4,
 "nbformat_minor": 5
}
