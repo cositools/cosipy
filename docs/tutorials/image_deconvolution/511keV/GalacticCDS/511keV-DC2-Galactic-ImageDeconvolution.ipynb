{
 "cells": [
  {
   "cell_type": "markdown",
   "id": "3edcfe0b-24d7-4321-b355-a6dc730c155d",
   "metadata": {
    "tags": []
   },
   "source": [
    "# DC2 Image Analysis, 511 keV, Image Deconvolution using CDS in the Galactic coordinate system\n",
    "\n",
    "updated on 2024-07-29 (the commit 14fc4c42f8b33749bd2053603643ca693dbc3954)\n",
    "\n",
    "This notebook focuses on the image deconvolution with the Compton data space (CDS) in the Galactic coordinate system.\n",
    "An example of the image analysis will be presented using the 511keV thin disk 3-month simulation data created for DC2.\n",
    "\n",
    "In DC2, we have two options on the coordinate system to describe the Compton scattering direction ($\\chi\\psi$) in the image deconvolution. Please also check the notes written in [511keV-DC2-ScAtt-DataReduction.ipynb](https://github.com/cositools/cosipy/blob/main/docs/tutorials/image_deconvolution/511keV/ScAttBinning/511keV-DC2-ScAtt-DataReduction.ipynb)"
   ]
  },
  {
   "cell_type": "code",
   "execution_count": 1,
   "id": "9e65b271-b137-4fdb-a532-42161d1f2991",
   "metadata": {},
   "outputs": [],
   "source": [
    "import logging\n",
    "import sys\n",
    "logger = logging.getLogger('cosipy')\n",
    "logger.setLevel(logging.INFO)\n",
    "logger.addHandler(logging.StreamHandler(sys.stdout))"
   ]
  },
  {
   "cell_type": "code",
   "execution_count": 3,
   "id": "e751bbd5",
   "metadata": {
    "scrolled": true
   },
   "outputs": [],
   "source": [
    "from histpy import Histogram, HealpixAxis, Axis, Axes\n",
    "from mhealpy import HealpixMap\n",
    "from astropy.coordinates import SkyCoord, cartesian_to_spherical, Galactic\n",
    "\n",
    "from cosipy.response import FullDetectorResponse\n",
    "from cosipy.spacecraftfile import SpacecraftFile\n",
    "from cosipy.ts_map.TSMap import TSMap\n",
    "from cosipy.data_io import UnBinnedData, BinnedData\n",
    "from cosipy.image_deconvolution import SpacecraftAttitudeExposureTable, CoordsysConversionMatrix, DataIF_COSI_DC2, ImageDeconvolution\n",
    "from cosipy.util import fetch_wasabi_file\n",
    "\n",
    "# cosipy uses astropy units\n",
    "import astropy.units as u\n",
    "from astropy.units import Quantity\n",
    "from astropy.coordinates import SkyCoord\n",
    "from astropy.time import Time\n",
    "from astropy.table import Table\n",
    "from astropy.io import fits\n",
    "from scoords import Attitude, SpacecraftFrame\n",
    "\n",
    "#3ML is needed for spectral modeling\n",
    "from threeML import *\n",
    "from astromodels import Band\n",
    "\n",
    "#Other standard libraries\n",
    "import os\n",
    "import numpy as np\n",
    "import matplotlib.pyplot as plt\n",
    "from matplotlib.gridspec import GridSpec \n",
    "\n",
    "import healpy as hp\n",
    "from tqdm.autonotebook import tqdm\n",
    "\n",
    "%matplotlib inline"
   ]
  },
  {
   "cell_type": "markdown",
   "id": "00f20cda-81f8-4685-b9c4-f9423e5ebcf7",
   "metadata": {
    "tags": []
   },
   "source": [
    "# 0. Files needed for this notebook\n",
    "\n",
    "From wasabi\n",
    "- cosi-pipeline-public/COSI-SMEX/DC2/Responses/PointSourceReponse/psr_gal_511_DC2.h5.gz (please gunzip it)\n",
    "    - a pre-computed 511 keV line response file converted into the Galactic coordinate system\n",
    "- cosi-pipeline-public/COSI-SMEX/DC2/Data/Sources/511_thin_disk_3months_unbinned_data.fits.gz\n",
    "- cosi-pipeline-public/COSI-SMEX/DC2/Data/Backgrounds/albedo_photons_3months_unbinned_data.fits.gz\n",
    "    - In this notebook, only the albedo gamma-ray background is considered for a tutorial.\n",
    "    - If you want to consider all of the background components, please replace it with cosi-pipeline-public/COSI-SMEX/DC2/Data/Backgrounds/total_bg_3months_unbinned_data.fits.gz\n",
    "    - Note that total_bg_3months_unbinned_data.fits.gz is 14.15 GB.\n",
    "\n",
    "From docs/tutorials/image_deconvolution/511keV/GalacticCDS\n",
    "- inputs_511keV_DC2.yaml\n",
    "- imagedeconvolution_parfile_gal_511keV.yml"
   ]
  },
  {
   "cell_type": "markdown",
   "id": "cbb84ad7-5fcb-4a56-abc3-6acac81c0879",
   "metadata": {},
   "source": [
    "You can download the data and detector response from wasabi. You can skip this cell if you already have downloaded the files."
   ]
  },
  {
   "cell_type": "code",
   "execution_count": null,
   "id": "cafd42c7-7f7f-4e6e-acd7-8e76eb5160dc",
   "metadata": {},
   "outputs": [],
   "source": [
    "# Response file:\n",
    "# wasabi path: COSI-SMEX/DC2/Responses/PointSourceReponse/psr_gal_511_DC2.h5.gz\n",
    "# File size: 3.82 GB\n",
    "fetch_wasabi_file('COSI-SMEX/DC2/Responses/PointSourceReponse/psr_gal_511_DC2.h5.gz')\n",
    "os.system('gunzip psr_gal_511_DC2.h5.gz')"
   ]
  },
  {
   "cell_type": "code",
   "execution_count": null,
   "id": "ae368f5f-2d30-4ba6-a152-c5bbb4187471",
   "metadata": {},
   "outputs": [],
   "source": [
    "# Source file (511 keV thin disk model):\n",
    "# wasabi path: COSI-SMEX/DC2/Data/Sources/511_thin_disk_3months_unbinned_data.fits.gz\n",
    "# File size: 202.45 MB\n",
    "fetch_wasabi_file('COSI-SMEX/DC2/Data/Sources/511_thin_disk_3months_unbinned_data.fits.gz')"
   ]
  },
  {
   "cell_type": "code",
   "execution_count": null,
   "id": "dddb7361-a523-42b4-93fe-da0b3ce75deb",
   "metadata": {},
   "outputs": [],
   "source": [
    "# Background file (albedo gamma):\n",
    "# wasabi path: COSI-SMEX/DC2/Data/Backgrounds/albedo_photons_3months_unbinned_data.fits.gz\n",
    "# File size: 2.69 GB\n",
    "fetch_wasabi_file('COSI-SMEX/DC2/Data/Backgrounds/albedo_photons_3months_unbinned_data.fits.gz')"
   ]
  },
  {
   "cell_type": "markdown",
   "id": "26d6eb3a",
   "metadata": {},
   "source": [
    "# 1. Create binned event/background files in the Galactic coordinate system\n",
    "\n",
    "<span style=\"color:red\"> please modify \"path_data\" corresponding to your environment.</span>"
   ]
  },
  {
   "cell_type": "code",
   "execution_count": 4,
   "id": "fada24bc",
   "metadata": {},
   "outputs": [],
   "source": [
    "path_data = \"path/to/data/\""
   ]
  },
  {
   "cell_type": "markdown",
   "id": "90fec91e-8209-4f03-bbe3-b9acb78682b8",
   "metadata": {},
   "source": [
    "**Source**"
   ]
  },
  {
   "cell_type": "code",
   "execution_count": 4,
   "id": "9cae1835-e54b-4720-b3a6-196c42cbd1ce",
   "metadata": {},
   "outputs": [
    {
     "name": "stdout",
     "output_type": "stream",
     "text": [
      "binning data...\n",
      "Time unit: s\n",
      "Em unit: keV\n",
      "Phi unit: deg\n",
      "PsiChi unit: None\n",
      "CPU times: user 7.75 s, sys: 255 ms, total: 8 s\n",
      "Wall time: 8.06 s\n"
     ]
    }
   ],
   "source": [
    "%%time\n",
    "\n",
    "signal_filepath = path_data + \"511_thin_disk_3months_unbinned_data.fits.gz\"\n",
    "\n",
    "binned_signal = BinnedData(input_yaml = \"inputs_511keV_DC2.yaml\")\n",
    "\n",
    "binned_signal.get_binned_data(unbinned_data = signal_filepath, psichi_binning=\"galactic\")"
   ]
  },
  {
   "cell_type": "markdown",
   "id": "3544076d-3475-48d6-9aec-55dab18567c2",
   "metadata": {},
   "source": [
    "**Background**"
   ]
  },
  {
   "cell_type": "code",
   "execution_count": 5,
   "id": "801ba251-96e0-4243-8f55-1678823f1d58",
   "metadata": {},
   "outputs": [
    {
     "name": "stdout",
     "output_type": "stream",
     "text": [
      "binning data...\n",
      "Time unit: s\n",
      "Em unit: keV\n",
      "Phi unit: deg\n",
      "PsiChi unit: None\n",
      "CPU times: user 1min 51s, sys: 3.96 s, total: 1min 55s\n",
      "Wall time: 1min 55s\n"
     ]
    }
   ],
   "source": [
    "%%time\n",
    "\n",
    "bkg_filepath = path_data + \"albedo_photons_3months_unbinned_data.fits.gz\"\n",
    "\n",
    "binned_bkg = BinnedData(input_yaml = \"inputs_511keV_DC2.yaml\")\n",
    "\n",
    "binned_bkg.get_binned_data(unbinned_data = bkg_filepath, psichi_binning=\"galactic\")"
   ]
  },
  {
   "cell_type": "markdown",
   "id": "4eb8577f-d394-49b9-a13f-a527d4512f77",
   "metadata": {},
   "source": [
    "Convert the data into sparse matrices & add the signal to the background"
   ]
  },
  {
   "cell_type": "code",
   "execution_count": 7,
   "id": "f224b957-d0df-4b4b-98dd-90d3a5bda3fb",
   "metadata": {},
   "outputs": [],
   "source": [
    "signal = binned_signal.binned_data.to_dense()\n",
    "bkg = binned_bkg.binned_data.to_dense()\n",
    "event = signal + bkg"
   ]
  },
  {
   "cell_type": "markdown",
   "id": "217e40dd-5587-4c43-bb77-44ddba2a8dbb",
   "metadata": {},
   "source": [
    "Save the binned histograms"
   ]
  },
  {
   "cell_type": "code",
   "execution_count": 8,
   "id": "24289425-380b-4d26-a7c0-cbbd5c58e7b2",
   "metadata": {},
   "outputs": [],
   "source": [
    "signal.write(\"511keV_dc2_galactic_signal.hdf5\", overwrite = True)\n",
    "bkg.write(\"511keV_dc2_galactic_bkg.hdf5\", overwrite = True)\n",
    "event.write(\"511keV_dc2_galactic_event.hdf5\", overwrite = True)"
   ]
  },
  {
   "cell_type": "markdown",
   "id": "badfd194-59f0-46d4-90b3-73cce60207c8",
   "metadata": {},
   "source": [
    "Load the saved files"
   ]
  },
  {
   "cell_type": "code",
   "execution_count": 5,
   "id": "e0f3dcae-5d3c-45af-931d-057d5681859c",
   "metadata": {},
   "outputs": [],
   "source": [
    "signal = Histogram.open(\"511keV_dc2_galactic_signal.hdf5\")\n",
    "bkg = Histogram.open(\"511keV_dc2_galactic_bkg.hdf5\")\n",
    "event = Histogram.open(\"511keV_dc2_galactic_event.hdf5\")"
   ]
  },
  {
   "cell_type": "markdown",
   "id": "0e7bb933-0ec0-47af-a18c-ac241abfea82",
   "metadata": {},
   "source": [
    "In DC2, the number of time bins should be 1 when you perform the image deconvolution using the galactic CDS.\n",
    "It is because the pre-computed response files in the galactic coordinate have no time axis, and all of the events are assumed to be projected into a single galactic CDS.\n",
    "In the future, we plan to introduce more flexible binning."
   ]
  },
  {
   "cell_type": "code",
   "execution_count": 6,
   "id": "88efdbfa-aa5e-40b3-bdd6-2635946318e4",
   "metadata": {},
   "outputs": [
    {
     "data": {
      "text/latex": [
       "$[1.8354873 \\times 10^{9},~1.8434673 \\times 10^{9}] \\; \\mathrm{s}$"
      ],
      "text/plain": [
       "<Quantity [1.83548730e+09, 1.84346726e+09] s>"
      ]
     },
     "execution_count": 6,
     "metadata": {},
     "output_type": "execute_result"
    }
   ],
   "source": [
    "bkg.axes['Time'].edges"
   ]
  },
  {
   "cell_type": "markdown",
   "id": "6c259412",
   "metadata": {},
   "source": [
    "# 2. Load the response matrix"
   ]
  },
  {
   "cell_type": "code",
   "execution_count": 7,
   "id": "b5b295cf-0a96-4501-aa4e-4182a21dfe63",
   "metadata": {},
   "outputs": [
    {
     "name": "stdout",
     "output_type": "stream",
     "text": [
      "CPU times: user 3.3 s, sys: 23.2 s, total: 26.5 s\n",
      "Wall time: 38 s\n"
     ]
    }
   ],
   "source": [
    "%%time\n",
    "\n",
    "response_path = path_data + \"psr_gal_511_DC2.h5\"\n",
    "\n",
    "image_response = Histogram.open(response_path)"
   ]
  },
  {
   "cell_type": "code",
   "execution_count": 8,
   "id": "fbdbd818-8a58-4d25-a657-d43fc7f88ea4",
   "metadata": {},
   "outputs": [
    {
     "data": {
      "text/plain": [
       "array(['NuLambda', 'Ei', 'Em', 'Phi', 'PsiChi'], dtype='<U8')"
      ]
     },
     "execution_count": 8,
     "metadata": {},
     "output_type": "execute_result"
    }
   ],
   "source": [
    "image_response.axes.labels"
   ]
  },
  {
   "cell_type": "code",
   "execution_count": 9,
   "id": "d60c7d40-0486-44c2-921b-423b9017dbeb",
   "metadata": {},
   "outputs": [
    {
     "data": {
      "text/plain": [
       "(3072, 1, 1, 60, 3072)"
      ]
     },
     "execution_count": 9,
     "metadata": {},
     "output_type": "execute_result"
    }
   ],
   "source": [
    "image_response.contents.shape"
   ]
  },
  {
   "cell_type": "markdown",
   "id": "31ec05ad-90b7-4fad-9ad0-98cfd6483d41",
   "metadata": {},
   "source": [
    "# 3. Imaging deconvolution"
   ]
  },
  {
   "cell_type": "markdown",
   "id": "6e88ca7f",
   "metadata": {
    "jp-MarkdownHeadingCollapsed": true
   },
   "source": [
    "## Brief overview of the image deconvolution\n",
    "\n",
    "Basically, we have to maximize the following likelihood function\n",
    "\n",
    "$$\n",
    "\\log L = \\sum_i X_i \\log \\epsilon_i - \\sum_i \\epsilon_i\n",
    "$$\n",
    "\n",
    "$X_i$: detected counts at $i$-th bin ( $i$ : index of the Compton Data Space)\n",
    "\n",
    "$\\epsilon_i = \\sum_j R_{ij} \\lambda_j + b_i$ : expected counts ( $j$ : index of the model space)\n",
    "\n",
    "$\\lambda_j$ : the model map (basically gamma-ray flux at $j$-th pixel)\n",
    "\n",
    "$b_i$ : the background at $i$-th bin\n",
    "\n",
    "$R_{ij}$ : the response matrix\n",
    "\n",
    "Since we have to optimize the flux in each pixel, and the number of parameters is large, we adopt an iterative approach to find a solution of the above equation. The simplest one is the ML-EM (Maximum Likelihood Expectation Maximization) algorithm. It is also known as the Richardson-Lucy algorithm.\n",
    "\n",
    "$$\n",
    "\\lambda_{j}^{k+1} = \\lambda_{j}^{k} + \\delta \\lambda_{j}^{k}\n",
    "$$\n",
    "$$\n",
    "\\delta \\lambda_{j}^{k} = \\frac{\\lambda_{j}^{k}}{\\sum_{i} R_{ij}} \\sum_{i} \\left(\\frac{ X_{i} }{\\epsilon_{i}} - 1 \\right) R_{ij} \n",
    "$$\n",
    "\n",
    "We refer to $\\delta \\lambda_{j}^{k}$ as the delta map.\n",
    "\n",
    "As for now, the two improved algorithms are implemented in COSIpy.\n",
    "\n",
    "- Accelerated ML-EM algorithm (Knoedlseder+99)\n",
    "\n",
    "$$\n",
    "\\lambda_{j}^{k+1} = \\lambda_{j}^{k} + \\alpha^{k} \\delta \\lambda_{j}^{k}\n",
    "$$\n",
    "$$\n",
    "\\alpha^{k} < \\mathrm{max}(- \\lambda_{j}^{k} / \\delta \\lambda_{j}^{k})\n",
    "$$\n",
    "\n",
    "Practically, in order not to accelerate the algorithm excessively, we set the maximum value of $\\alpha$ ($\\alpha_{\\mathrm{max}}$). Then, $\\alpha$ is calculated as:\n",
    "\n",
    "$$\n",
    "\\alpha^{k} = \\mathrm{min}(\\mathrm{max}(- \\lambda_{j}^{k} / \\delta \\lambda_{j}^{k}), \\alpha_{\\mathrm{max}})\n",
    "$$\n",
    "\n",
    "- Noise damping using gaussian smoothing (Knoedlseder+05, Siegert+20)\n",
    "\n",
    "$$\n",
    "\\lambda_{j}^{k+1} = \\lambda_{j}^{k} + \\alpha^{k} \\left[ w_j \\delta \\lambda_{j}^{k} \\right]_{\\mathrm{gauss}}\n",
    "$$\n",
    "$$\n",
    "w_j = \\left(\\sum_{i} R_{ij}\\right)^\\beta\n",
    "$$\n",
    "\n",
    "$\\left[ ... \\right]_{\\mathrm{gauss}}$ means that the differential image is smoothed by a gaussian filter."
   ]
  },
  {
   "cell_type": "markdown",
   "id": "e0a2582e",
   "metadata": {},
   "source": [
    "## 3-1. Prepare DataInterface containing all necessary datasets"
   ]
  },
  {
   "cell_type": "code",
   "execution_count": 10,
   "id": "de8055f7-4aab-4a17-8751-42493f9e88d6",
   "metadata": {},
   "outputs": [
    {
     "name": "stdout",
     "output_type": "stream",
     "text": [
      "Note that _modify_axes() in DataLoader was implemented for a temporary use. It will be removed in the future.\n",
      "... checking the axis Em of the event and background files...\n",
      "    --> pass (edges)\n",
      "    --> pass (unit)\n",
      "... checking the axis Phi of the event and background files...\n",
      "    --> pass (edges)\n",
      "    --> pass (unit)\n",
      "... checking the axis PsiChi of the event and background files...\n",
      "    --> pass (edges)\n",
      "    --> pass (unit)\n",
      "...checking the axis Em of the event and response files...\n",
      "    --> pass (edges)\n",
      "...checking the axis Phi of the event and response files...\n",
      "    --> pass (edges)\n",
      "...checking the axis PsiChi of the event and response files...\n",
      "    --> pass (edges)\n",
      "The axes in the event and background files are redefined. Now they are consistent with those of the response file.\n",
      "Calculating an exposure map...\n",
      "Finished...\n",
      "CPU times: user 245 ms, sys: 337 ms, total: 582 ms\n",
      "Wall time: 601 ms\n"
     ]
    }
   ],
   "source": [
    "%%time\n",
    "\n",
    "data_interface = DataIF_COSI_DC2.load(name = \"511keV\",\n",
    "                                      event_binned_data = event.project(['Em', 'Phi', 'PsiChi']),\n",
    "                                      dict_bkg_binned_data = {\"albedo\": bkg.project(['Em', 'Phi', 'PsiChi'])},\n",
    "                                      rsp = image_response,\n",
    "                                      coordsys_conv_matrix=None,\n",
    "                                      is_miniDC2_format=False)"
   ]
  },
  {
   "cell_type": "markdown",
   "id": "b1a0269e",
   "metadata": {},
   "source": [
    "## 3-2. Initialize the instance of the image deconvolution class\n",
    "\n",
    "First, we prepare an instance of the ImageDeconvolution class and then register the dataset and parameters for the deconvolution. After that, you can start the calculation."
   ]
  },
  {
   "cell_type": "markdown",
   "id": "79eb910c",
   "metadata": {},
   "source": [
    "<span style=\"color:red\"> please modify this parameter_filepath corresponding to your environment.</span>"
   ]
  },
  {
   "cell_type": "code",
   "execution_count": 11,
   "id": "5fa73486",
   "metadata": {},
   "outputs": [],
   "source": [
    "parameter_filepath = \"imagedeconvolution_parfile_gal_511keV.yml\""
   ]
  },
  {
   "cell_type": "code",
   "execution_count": 13,
   "id": "a4b47308-3e13-400d-bebc-b5d1e093201d",
   "metadata": {},
   "outputs": [],
   "source": [
    "image_deconvolution = ImageDeconvolution()\n",
    "\n",
    "# set data_interface to image_deconvolution\n",
    "image_deconvolution.set_dataset([data_interface])\n",
    "\n",
    "# set a parameter file for the image deconvolution\n",
    "image_deconvolution.read_parameterfile(parameter_filepath)"
   ]
  },
  {
   "cell_type": "markdown",
   "id": "a2345d9d",
   "metadata": {},
   "source": [
    "### Initialize image_deconvolution\n",
    "\n",
    "In this process, a model map is defined following the input parameters, and it is initialized. Also, it prepares ancillary data for the image deconvolution, e.g., the expected counts with the initial model map, gaussian smoothing filter etc.\n",
    "\n",
    "I describe parameters in the parameter file.\n",
    "\n",
    "#### model_property\n",
    "\n",
    "| Name | Unit | Description | Notes |\n",
    "| :---: | :---: | :---: | :---: |\n",
    "| coordinate | str | the coordinate system of the model map | As for now, it must be 'galactic' |\n",
    "| nside | int | NSIDE of the model map | it must be the same as NSIDE of 'lb' axis of the coordinate conversion matrix|\n",
    "| scheme | str | SCHEME of the model map | As for now, it must be 'ring' |\n",
    "| energy_edges | list of float [keV] | The definition of the energy bins of the model map | As for now, it must be the same as that of the response matrix |\n",
    "\n",
    "#### model_initialization\n",
    "\n",
    "| Name | Unit | Description | Notes |\n",
    "| :---: | :---: | :---: | :---: |\n",
    "| algorithm | str | the method name to initialize the model map | As for now, only 'flat' can be used |\n",
    "| parameter_flat:values | list of float [cm-2 s-1 sr-1] | the list of photon fluxes for each energy band | the length of the list should be the same as the length of \"energy_edges\" - 1 |\n",
    "\n",
    "#### deconvolution\n",
    "\n",
    "| Name | Unit | Description | Notes |\n",
    "| :---: | :---: | :---: | :---: |\n",
    "|algorithm | str | the name of the image deconvolution algorithm| As for now, only 'RL' is supported |\n",
    "|||||\n",
    "|parameter_RL:iteration | int | The maximum number of the iteration | |\n",
    "|parameter_RL:acceleration | bool | whether the accelerated ML-EM algorithm (Knoedlseder+99) is used | |\n",
    "|parameter_RL:alpha_max | float | the maximum value for the acceleration parameter | |\n",
    "|parameter_RL:save_results_each_iteration | bool | whether an updated model map, detal map, likelihood etc. are saved at the end of each iteration | |\n",
    "|parameter_RL:response_weighting | bool | whether a delta map is renormalized based on the exposure time on each pixel, namely $w_j = (\\sum_{i} R_{ij})^{\\beta}$ (see Knoedlseder+05, Siegert+20) | |\n",
    "|parameter_RL:response_weighting_index | float | $\\beta$ in the above equation | |\n",
    "|parameter_RL:smoothing | bool | whether a Gaussian filter is used (see Knoedlseder+05, Siegert+20)  | |\n",
    "|parameter_RL:smoothing_FWHM | float, degree | the FWHM of the Gaussian in the filter | |\n",
    "|parameter_RL:background_normalization_fitting | bool | whether the background normalization factor is optimized at each iteration | As for now, the single background normalization factor is used in all of the bins |\n",
    "|parameter_RL:background_normalization_range | list of float | the range of the normalization factor | should be positive |"
   ]
  },
  {
   "cell_type": "code",
   "execution_count": 14,
   "id": "879053e3-ac7b-4a0a-ad58-24e3fb137065",
   "metadata": {},
   "outputs": [
    {
     "name": "stdout",
     "output_type": "stream",
     "text": [
      "#### Initialization Starts ####\n",
      "<< Instantiating the model class AllSkyImage >>\n",
      "---- parameters ----\n",
      "coordinate: galactic\n",
      "energy_edges:\n",
      "  unit: keV\n",
      "  value:\n",
      "  - 509.0\n",
      "  - 513.0\n",
      "nside: 16\n",
      "scheme: ring\n",
      "unit: cm-2 s-1 sr-1\n",
      "\n",
      "<< Setting initial values of the created model object >>\n",
      "---- parameters ----\n",
      "algorithm: flat\n",
      "parameter:\n",
      "  unit: cm-2 s-1 sr-1\n",
      "  value:\n",
      "  - 1e-4\n",
      "\n",
      "<< Registering the deconvolution algorithm >>\n",
      "Gaussian filter with FWHM of 2.0 deg will be applied to delta images ...\n",
      "---- parameters ----\n",
      "algorithm: RL\n",
      "parameter:\n",
      "  acceleration: true\n",
      "  alpha_max: 10.0\n",
      "  background_normalization_optimization: true\n",
      "  background_normalization_range:\n",
      "    albedo:\n",
      "    - 0.01\n",
      "    - 10.0\n",
      "  iteration_max: 10\n",
      "  response_weighting: true\n",
      "  response_weighting_index: 0.5\n",
      "  save_results: false\n",
      "  save_results_directory: ./results\n",
      "  smoothing: true\n",
      "  smoothing_FWHM:\n",
      "    unit: deg\n",
      "    value: 2.0\n",
      "\n",
      "#### Initialization Finished ####\n"
     ]
    }
   ],
   "source": [
    "image_deconvolution.initialize()"
   ]
  },
  {
   "cell_type": "markdown",
   "id": "5fa48a9c",
   "metadata": {},
   "source": [
    "### (You can change the parameters as follows)\n",
    "\n",
    "Note that when you modify the parameters, do not forget to run \"initialize\" again!"
   ]
  },
  {
   "cell_type": "code",
   "execution_count": 58,
   "id": "1a658d2a-4dee-4d05-83ae-d7ac06317c73",
   "metadata": {},
   "outputs": [
    {
     "name": "stdout",
     "output_type": "stream",
     "text": [
      "#### Initialization Starts ####\n",
      "<< Instantiating the model class AllSkyImage >>\n",
      "---- parameters ----\n",
      "coordinate: galactic\n",
      "energy_edges:\n",
      "  unit: keV\n",
      "  value:\n",
      "  - 509.0\n",
      "  - 513.0\n",
      "nside: 16\n",
      "scheme: ring\n",
      "unit: cm-2 s-1 sr-1\n",
      "\n",
      "<< Setting initial values of the created model object >>\n",
      "---- parameters ----\n",
      "algorithm: flat\n",
      "parameter:\n",
      "  unit: cm-2 s-1 sr-1\n",
      "  value:\n",
      "  - 1e-4\n",
      "\n",
      "<< Registering the deconvolution algorithm >>\n",
      "---- parameters ----\n",
      "algorithm: RL\n",
      "parameter:\n",
      "  acceleration: true\n",
      "  alpha_max: 2.0\n",
      "  background_normalization_optimization: true\n",
      "  background_normalization_range:\n",
      "    albedo:\n",
      "    - 0.01\n",
      "    - 10.0\n",
      "  iteration_max: 50\n",
      "  response_weighting: false\n",
      "  response_weighting_index: 0.5\n",
      "  save_results: false\n",
      "  save_results_directory: ./results\n",
      "  smoothing: false\n",
      "  smoothing_FWHM:\n",
      "    unit: deg\n",
      "    value: 2.0\n",
      "\n",
      "#### Initialization Finished ####\n"
     ]
    }
   ],
   "source": [
    "image_deconvolution.override_parameter(\"deconvolution:parameter:iteration_max = 50\")\n",
    "image_deconvolution.override_parameter(\"deconvolution:parameter:background_normalization_optimization = True\")\n",
    "image_deconvolution.override_parameter(\"deconvolution:parameter:alpha_max = 2.0\")\n",
    "image_deconvolution.override_parameter(\"deconvolution:parameter:smoothing = False\")\n",
    "image_deconvolution.override_parameter(\"deconvolution:parameter:response_weighting = False\")\n",
    "\n",
    "image_deconvolution.initialize()"
   ]
  },
  {
   "cell_type": "markdown",
   "id": "f764066e",
   "metadata": {},
   "source": [
    "## 3-3. Start the image deconvolution\n",
    "\n",
    "**With MacBook Pro with M1 Max and 64 GB memory, it takes about 1.5 minutes for 50 iterations.**"
   ]
  },
  {
   "cell_type": "code",
   "execution_count": 59,
   "id": "a57fbf71-2fcc-48c4-9ac7-4c545dca67c9",
   "metadata": {
    "collapsed": true,
    "jupyter": {
     "outputs_hidden": true
    },
    "scrolled": true
   },
   "outputs": [
    {
     "name": "stdout",
     "output_type": "stream",
     "text": [
      "#### Image Deconvolution Starts ####\n",
      "<< Initialization >>\n",
      "The expected count histograms were calculated with the initial model map.\n"
     ]
    },
    {
     "data": {
      "application/vnd.jupyter.widget-view+json": {
       "model_id": "89d1cd50288a4cc8b53a981ef6ad2c91",
       "version_major": 2,
       "version_minor": 0
      },
      "text/plain": [
       "  0%|          | 0/50 [00:00<?, ?it/s]"
      ]
     },
     "metadata": {},
     "output_type": "display_data"
    },
    {
     "name": "stdout",
     "output_type": "stream",
     "text": [
      "## Iteration 1/50 ##\n",
      "<< Pre-processing >>\n",
      "<< E-step >>\n",
      "<< M-step >>\n",
      "<< Post-processing >>\n"
     ]
    },
    {
     "name": "stderr",
     "output_type": "stream",
     "text": [
      "\n",
      "WARNING RuntimeWarning: invalid value encountered in divide\n",
      "\n"
     ]
    },
    {
     "name": "stdout",
     "output_type": "stream",
     "text": [
      "<< Registering Result >>\n",
      "  alpha: 2.0\n",
      "  background_normalization: {'albedo': 1.190086058358472}\n",
      "  loglikelihood: [389620.43700901093]\n",
      "<< Checking Stopping Criteria >>\n",
      "--> Continue\n",
      "## Iteration 2/50 ##\n",
      "<< Pre-processing >>\n",
      "<< E-step >>\n",
      "<< M-step >>\n",
      "<< Post-processing >>\n"
     ]
    },
    {
     "name": "stderr",
     "output_type": "stream",
     "text": [
      "\n",
      "WARNING RuntimeWarning: invalid value encountered in divide\n",
      "\n"
     ]
    },
    {
     "name": "stdout",
     "output_type": "stream",
     "text": [
      "<< Registering Result >>\n",
      "  alpha: 2.0\n",
      "  background_normalization: {'albedo': 1.1025288937649729}\n",
      "  loglikelihood: [397966.1184134454]\n",
      "<< Checking Stopping Criteria >>\n",
      "--> Continue\n",
      "## Iteration 3/50 ##\n",
      "<< Pre-processing >>\n",
      "<< E-step >>\n",
      "<< M-step >>\n",
      "<< Post-processing >>\n"
     ]
    },
    {
     "name": "stderr",
     "output_type": "stream",
     "text": [
      "\n",
      "WARNING RuntimeWarning: invalid value encountered in divide\n",
      "\n"
     ]
    },
    {
     "name": "stdout",
     "output_type": "stream",
     "text": [
      "<< Registering Result >>\n",
      "  alpha: 2.0\n",
      "  background_normalization: {'albedo': 1.0758137427893717}\n",
      "  loglikelihood: [404486.16370658483]\n",
      "<< Checking Stopping Criteria >>\n",
      "--> Continue\n",
      "## Iteration 4/50 ##\n",
      "<< Pre-processing >>\n",
      "<< E-step >>\n",
      "<< M-step >>\n",
      "<< Post-processing >>\n"
     ]
    },
    {
     "name": "stderr",
     "output_type": "stream",
     "text": [
      "\n",
      "WARNING RuntimeWarning: invalid value encountered in divide\n",
      "\n"
     ]
    },
    {
     "name": "stdout",
     "output_type": "stream",
     "text": [
      "<< Registering Result >>\n",
      "  alpha: 2.0\n",
      "  background_normalization: {'albedo': 1.0350780054934294}\n",
      "  loglikelihood: [409379.8773129297]\n",
      "<< Checking Stopping Criteria >>\n",
      "--> Continue\n",
      "## Iteration 5/50 ##\n",
      "<< Pre-processing >>\n",
      "<< E-step >>\n",
      "<< M-step >>\n",
      "<< Post-processing >>\n"
     ]
    },
    {
     "name": "stderr",
     "output_type": "stream",
     "text": [
      "\n",
      "WARNING RuntimeWarning: invalid value encountered in divide\n",
      "\n"
     ]
    },
    {
     "name": "stdout",
     "output_type": "stream",
     "text": [
      "<< Registering Result >>\n",
      "  alpha: 2.0\n",
      "  background_normalization: {'albedo': 1.0067984138659716}\n",
      "  loglikelihood: [412636.6223042265]\n",
      "<< Checking Stopping Criteria >>\n",
      "--> Continue\n",
      "## Iteration 6/50 ##\n",
      "<< Pre-processing >>\n",
      "<< E-step >>\n",
      "<< M-step >>\n",
      "<< Post-processing >>\n"
     ]
    },
    {
     "name": "stderr",
     "output_type": "stream",
     "text": [
      "\n",
      "WARNING RuntimeWarning: invalid value encountered in divide\n",
      "\n"
     ]
    },
    {
     "name": "stdout",
     "output_type": "stream",
     "text": [
      "<< Registering Result >>\n",
      "  alpha: 2.0\n",
      "  background_normalization: {'albedo': 0.985156644640505}\n",
      "  loglikelihood: [414652.8432038162]\n",
      "<< Checking Stopping Criteria >>\n",
      "--> Continue\n",
      "## Iteration 7/50 ##\n",
      "<< Pre-processing >>\n",
      "<< E-step >>\n",
      "<< M-step >>\n",
      "<< Post-processing >>\n"
     ]
    },
    {
     "name": "stderr",
     "output_type": "stream",
     "text": [
      "\n",
      "WARNING RuntimeWarning: invalid value encountered in divide\n",
      "\n"
     ]
    },
    {
     "name": "stdout",
     "output_type": "stream",
     "text": [
      "<< Registering Result >>\n",
      "  alpha: 2.0\n",
      "  background_normalization: {'albedo': 0.9720022993182517}\n",
      "  loglikelihood: [415871.5890431596]\n",
      "<< Checking Stopping Criteria >>\n",
      "--> Continue\n",
      "## Iteration 8/50 ##\n",
      "<< Pre-processing >>\n",
      "<< E-step >>\n",
      "<< M-step >>\n",
      "<< Post-processing >>\n"
     ]
    },
    {
     "name": "stderr",
     "output_type": "stream",
     "text": [
      "\n",
      "WARNING RuntimeWarning: invalid value encountered in divide\n",
      "\n"
     ]
    },
    {
     "name": "stdout",
     "output_type": "stream",
     "text": [
      "<< Registering Result >>\n",
      "  alpha: 2.0\n",
      "  background_normalization: {'albedo': 0.9647331909406436}\n",
      "  loglikelihood: [416634.49362002616]\n",
      "<< Checking Stopping Criteria >>\n",
      "--> Continue\n",
      "## Iteration 9/50 ##\n",
      "<< Pre-processing >>\n",
      "<< E-step >>\n",
      "<< M-step >>\n",
      "<< Post-processing >>\n"
     ]
    },
    {
     "name": "stderr",
     "output_type": "stream",
     "text": [
      "\n",
      "WARNING RuntimeWarning: invalid value encountered in divide\n",
      "\n"
     ]
    },
    {
     "name": "stdout",
     "output_type": "stream",
     "text": [
      "<< Registering Result >>\n",
      "  alpha: 2.0\n",
      "  background_normalization: {'albedo': 0.9618007024814391}\n",
      "  loglikelihood: [417146.494831466]\n",
      "<< Checking Stopping Criteria >>\n",
      "--> Continue\n",
      "## Iteration 10/50 ##\n",
      "<< Pre-processing >>\n",
      "<< E-step >>\n",
      "<< M-step >>\n",
      "<< Post-processing >>\n"
     ]
    },
    {
     "name": "stderr",
     "output_type": "stream",
     "text": [
      "\n",
      "WARNING RuntimeWarning: invalid value encountered in divide\n",
      "\n"
     ]
    },
    {
     "name": "stdout",
     "output_type": "stream",
     "text": [
      "<< Registering Result >>\n",
      "  alpha: 2.0\n",
      "  background_normalization: {'albedo': 0.9614669811731034}\n",
      "  loglikelihood: [417517.0766809179]\n",
      "<< Checking Stopping Criteria >>\n",
      "--> Continue\n",
      "## Iteration 11/50 ##\n",
      "<< Pre-processing >>\n",
      "<< E-step >>\n",
      "<< M-step >>\n",
      "<< Post-processing >>\n"
     ]
    },
    {
     "name": "stderr",
     "output_type": "stream",
     "text": [
      "\n",
      "WARNING RuntimeWarning: invalid value encountered in divide\n",
      "\n"
     ]
    },
    {
     "name": "stdout",
     "output_type": "stream",
     "text": [
      "<< Registering Result >>\n",
      "  alpha: 2.0\n",
      "  background_normalization: {'albedo': 0.9626309655788824}\n",
      "  loglikelihood: [417802.0571046409]\n",
      "<< Checking Stopping Criteria >>\n",
      "--> Continue\n",
      "## Iteration 12/50 ##\n",
      "<< Pre-processing >>\n",
      "<< E-step >>\n",
      "<< M-step >>\n",
      "<< Post-processing >>\n"
     ]
    },
    {
     "name": "stderr",
     "output_type": "stream",
     "text": [
      "\n",
      "WARNING RuntimeWarning: invalid value encountered in divide\n",
      "\n"
     ]
    },
    {
     "name": "stdout",
     "output_type": "stream",
     "text": [
      "<< Registering Result >>\n",
      "  alpha: 2.0\n",
      "  background_normalization: {'albedo': 0.964504736764119}\n",
      "  loglikelihood: [418030.60138296254]\n",
      "<< Checking Stopping Criteria >>\n",
      "--> Continue\n",
      "## Iteration 13/50 ##\n",
      "<< Pre-processing >>\n",
      "<< E-step >>\n",
      "<< M-step >>\n"
     ]
    },
    {
     "name": "stderr",
     "output_type": "stream",
     "text": [
      "\n",
      "WARNING RuntimeWarning: invalid value encountered in divide\n",
      "\n"
     ]
    },
    {
     "name": "stdout",
     "output_type": "stream",
     "text": [
      "<< Post-processing >>\n",
      "<< Registering Result >>\n",
      "  alpha: 2.0\n",
      "  background_normalization: {'albedo': 0.9666322970227703}\n",
      "  loglikelihood: [418219.05430964916]\n",
      "<< Checking Stopping Criteria >>\n",
      "--> Continue\n",
      "## Iteration 14/50 ##\n",
      "<< Pre-processing >>\n",
      "<< E-step >>\n",
      "<< M-step >>\n",
      "<< Post-processing >>\n"
     ]
    },
    {
     "name": "stderr",
     "output_type": "stream",
     "text": [
      "\n",
      "WARNING RuntimeWarning: invalid value encountered in divide\n",
      "\n"
     ]
    },
    {
     "name": "stdout",
     "output_type": "stream",
     "text": [
      "<< Registering Result >>\n",
      "  alpha: 2.0\n",
      "  background_normalization: {'albedo': 0.9687449645442028}\n",
      "  loglikelihood: [418377.4557194023]\n",
      "<< Checking Stopping Criteria >>\n",
      "--> Continue\n",
      "## Iteration 15/50 ##\n",
      "<< Pre-processing >>\n",
      "<< E-step >>\n",
      "<< M-step >>\n",
      "<< Post-processing >>\n"
     ]
    },
    {
     "name": "stderr",
     "output_type": "stream",
     "text": [
      "\n",
      "WARNING RuntimeWarning: invalid value encountered in divide\n",
      "\n"
     ]
    },
    {
     "name": "stdout",
     "output_type": "stream",
     "text": [
      "<< Registering Result >>\n",
      "  alpha: 2.0\n",
      "  background_normalization: {'albedo': 0.9707085679480218}\n",
      "  loglikelihood: [418512.5036855283]\n",
      "<< Checking Stopping Criteria >>\n",
      "--> Continue\n",
      "## Iteration 16/50 ##\n",
      "<< Pre-processing >>\n",
      "<< E-step >>\n",
      "<< M-step >>\n",
      "<< Post-processing >>\n"
     ]
    },
    {
     "name": "stderr",
     "output_type": "stream",
     "text": [
      "\n",
      "WARNING RuntimeWarning: invalid value encountered in divide\n",
      "\n"
     ]
    },
    {
     "name": "stdout",
     "output_type": "stream",
     "text": [
      "<< Registering Result >>\n",
      "  alpha: 2.0\n",
      "  background_normalization: {'albedo': 0.9724635379800977}\n",
      "  loglikelihood: [418628.95036220574]\n",
      "<< Checking Stopping Criteria >>\n",
      "--> Continue\n",
      "## Iteration 17/50 ##\n",
      "<< Pre-processing >>\n",
      "<< E-step >>\n",
      "<< M-step >>\n",
      "<< Post-processing >>\n"
     ]
    },
    {
     "name": "stderr",
     "output_type": "stream",
     "text": [
      "\n",
      "WARNING RuntimeWarning: invalid value encountered in divide\n",
      "\n"
     ]
    },
    {
     "name": "stdout",
     "output_type": "stream",
     "text": [
      "<< Registering Result >>\n",
      "  alpha: 2.0\n",
      "  background_normalization: {'albedo': 0.9739955171908574}\n",
      "  loglikelihood: [418730.3084008504]\n",
      "<< Checking Stopping Criteria >>\n",
      "--> Continue\n",
      "## Iteration 18/50 ##\n",
      "<< Pre-processing >>\n",
      "<< E-step >>\n",
      "<< M-step >>\n",
      "<< Post-processing >>\n"
     ]
    },
    {
     "name": "stderr",
     "output_type": "stream",
     "text": [
      "\n",
      "WARNING RuntimeWarning: invalid value encountered in divide\n",
      "\n"
     ]
    },
    {
     "name": "stdout",
     "output_type": "stream",
     "text": [
      "<< Registering Result >>\n",
      "  alpha: 2.0\n",
      "  background_normalization: {'albedo': 0.975313242988978}\n",
      "  loglikelihood: [418819.2471433951]\n",
      "<< Checking Stopping Criteria >>\n",
      "--> Continue\n",
      "## Iteration 19/50 ##\n",
      "<< Pre-processing >>\n",
      "<< E-step >>\n",
      "<< M-step >>\n",
      "<< Post-processing >>\n"
     ]
    },
    {
     "name": "stderr",
     "output_type": "stream",
     "text": [
      "\n",
      "WARNING RuntimeWarning: invalid value encountered in divide\n",
      "\n"
     ]
    },
    {
     "name": "stdout",
     "output_type": "stream",
     "text": [
      "<< Registering Result >>\n",
      "  alpha: 2.0\n",
      "  background_normalization: {'albedo': 0.9764369687276026}\n",
      "  loglikelihood: [418897.8365083168]\n",
      "<< Checking Stopping Criteria >>\n",
      "--> Continue\n",
      "## Iteration 20/50 ##\n",
      "<< Pre-processing >>\n",
      "<< E-step >>\n",
      "<< M-step >>\n",
      "<< Post-processing >>\n"
     ]
    },
    {
     "name": "stderr",
     "output_type": "stream",
     "text": [
      "\n",
      "WARNING RuntimeWarning: invalid value encountered in divide\n",
      "\n"
     ]
    },
    {
     "name": "stdout",
     "output_type": "stream",
     "text": [
      "<< Registering Result >>\n",
      "  alpha: 2.0\n",
      "  background_normalization: {'albedo': 0.9773911433114137}\n",
      "  loglikelihood: [418967.70833261264]\n",
      "<< Checking Stopping Criteria >>\n",
      "--> Continue\n",
      "## Iteration 21/50 ##\n",
      "<< Pre-processing >>\n",
      "<< E-step >>\n",
      "<< M-step >>\n",
      "<< Post-processing >>\n"
     ]
    },
    {
     "name": "stderr",
     "output_type": "stream",
     "text": [
      "\n",
      "WARNING RuntimeWarning: invalid value encountered in divide\n",
      "\n"
     ]
    },
    {
     "name": "stdout",
     "output_type": "stream",
     "text": [
      "<< Registering Result >>\n",
      "  alpha: 2.0\n",
      "  background_normalization: {'albedo': 0.9782006637147719}\n",
      "  loglikelihood: [419030.1679826325]\n",
      "<< Checking Stopping Criteria >>\n",
      "--> Continue\n",
      "## Iteration 22/50 ##\n",
      "<< Pre-processing >>\n",
      "<< E-step >>\n",
      "<< M-step >>\n",
      "<< Post-processing >>\n"
     ]
    },
    {
     "name": "stderr",
     "output_type": "stream",
     "text": [
      "\n",
      "WARNING RuntimeWarning: invalid value encountered in divide\n",
      "\n"
     ]
    },
    {
     "name": "stdout",
     "output_type": "stream",
     "text": [
      "<< Registering Result >>\n",
      "  alpha: 2.0\n",
      "  background_normalization: {'albedo': 0.9788888402984662}\n",
      "  loglikelihood: [419086.27369941166]\n",
      "<< Checking Stopping Criteria >>\n",
      "--> Continue\n",
      "## Iteration 23/50 ##\n",
      "<< Pre-processing >>\n",
      "<< E-step >>\n",
      "<< M-step >>\n",
      "<< Post-processing >>\n"
     ]
    },
    {
     "name": "stderr",
     "output_type": "stream",
     "text": [
      "\n",
      "WARNING RuntimeWarning: invalid value encountered in divide\n",
      "\n"
     ]
    },
    {
     "name": "stdout",
     "output_type": "stream",
     "text": [
      "<< Registering Result >>\n",
      "  alpha: 2.0\n",
      "  background_normalization: {'albedo': 0.9794765199076382}\n",
      "  loglikelihood: [419136.89394879853]\n",
      "<< Checking Stopping Criteria >>\n",
      "--> Continue\n",
      "## Iteration 24/50 ##\n",
      "<< Pre-processing >>\n",
      "<< E-step >>\n",
      "<< M-step >>\n",
      "<< Post-processing >>\n"
     ]
    },
    {
     "name": "stderr",
     "output_type": "stream",
     "text": [
      "\n",
      "WARNING RuntimeWarning: invalid value encountered in divide\n",
      "\n"
     ]
    },
    {
     "name": "stdout",
     "output_type": "stream",
     "text": [
      "<< Registering Result >>\n",
      "  alpha: 2.0\n",
      "  background_normalization: {'albedo': 0.9799817891961189}\n",
      "  loglikelihood: [419182.7493856037]\n",
      "<< Checking Stopping Criteria >>\n",
      "--> Continue\n",
      "## Iteration 25/50 ##\n",
      "<< Pre-processing >>\n",
      "<< E-step >>\n",
      "<< M-step >>\n",
      "<< Post-processing >>\n"
     ]
    },
    {
     "name": "stderr",
     "output_type": "stream",
     "text": [
      "\n",
      "WARNING RuntimeWarning: invalid value encountered in divide\n",
      "\n"
     ]
    },
    {
     "name": "stdout",
     "output_type": "stream",
     "text": [
      "<< Registering Result >>\n",
      "  alpha: 2.0\n",
      "  background_normalization: {'albedo': 0.9804200184058395}\n",
      "  loglikelihood: [419224.44389763917]\n",
      "<< Checking Stopping Criteria >>\n",
      "--> Continue\n",
      "## Iteration 26/50 ##\n",
      "<< Pre-processing >>\n",
      "<< E-step >>\n",
      "<< M-step >>\n",
      "<< Post-processing >>\n"
     ]
    },
    {
     "name": "stderr",
     "output_type": "stream",
     "text": [
      "\n",
      "WARNING RuntimeWarning: invalid value encountered in divide\n",
      "\n"
     ]
    },
    {
     "name": "stdout",
     "output_type": "stream",
     "text": [
      "<< Registering Result >>\n",
      "  alpha: 2.0\n",
      "  background_normalization: {'albedo': 0.9808040644678144}\n",
      "  loglikelihood: [419262.48783887096]\n",
      "<< Checking Stopping Criteria >>\n",
      "--> Continue\n",
      "## Iteration 27/50 ##\n",
      "<< Pre-processing >>\n",
      "<< E-step >>\n",
      "<< M-step >>\n",
      "<< Post-processing >>\n"
     ]
    },
    {
     "name": "stderr",
     "output_type": "stream",
     "text": [
      "\n",
      "WARNING RuntimeWarning: invalid value encountered in divide\n",
      "\n"
     ]
    },
    {
     "name": "stdout",
     "output_type": "stream",
     "text": [
      "<< Registering Result >>\n",
      "  alpha: 2.0\n",
      "  background_normalization: {'albedo': 0.9811445475083196}\n",
      "  loglikelihood: [419297.3156418806]\n",
      "<< Checking Stopping Criteria >>\n",
      "--> Continue\n",
      "## Iteration 28/50 ##\n",
      "<< Pre-processing >>\n",
      "<< E-step >>\n",
      "<< M-step >>\n",
      "<< Post-processing >>\n"
     ]
    },
    {
     "name": "stderr",
     "output_type": "stream",
     "text": [
      "\n",
      "WARNING RuntimeWarning: invalid value encountered in divide\n",
      "\n"
     ]
    },
    {
     "name": "stdout",
     "output_type": "stream",
     "text": [
      "<< Registering Result >>\n",
      "  alpha: 2.0\n",
      "  background_normalization: {'albedo': 0.9814501457708779}\n",
      "  loglikelihood: [419329.29936073]\n",
      "<< Checking Stopping Criteria >>\n",
      "--> Continue\n",
      "## Iteration 29/50 ##\n",
      "<< Pre-processing >>\n",
      "<< E-step >>\n",
      "<< M-step >>\n",
      "<< Post-processing >>\n"
     ]
    },
    {
     "name": "stderr",
     "output_type": "stream",
     "text": [
      "\n",
      "WARNING RuntimeWarning: invalid value encountered in divide\n",
      "\n"
     ]
    },
    {
     "name": "stdout",
     "output_type": "stream",
     "text": [
      "<< Registering Result >>\n",
      "  alpha: 2.0\n",
      "  background_normalization: {'albedo': 0.9817278823799748}\n",
      "  loglikelihood: [419358.7592438542]\n",
      "<< Checking Stopping Criteria >>\n",
      "--> Continue\n",
      "## Iteration 30/50 ##\n",
      "<< Pre-processing >>\n",
      "<< E-step >>\n",
      "<< M-step >>\n",
      "<< Post-processing >>\n"
     ]
    },
    {
     "name": "stderr",
     "output_type": "stream",
     "text": [
      "\n",
      "WARNING RuntimeWarning: invalid value encountered in divide\n",
      "\n"
     ]
    },
    {
     "name": "stdout",
     "output_type": "stream",
     "text": [
      "<< Registering Result >>\n",
      "  alpha: 2.0\n",
      "  background_normalization: {'albedo': 0.9819833894554746}\n",
      "  loglikelihood: [419385.9721169963]\n",
      "<< Checking Stopping Criteria >>\n",
      "--> Continue\n",
      "## Iteration 31/50 ##\n",
      "<< Pre-processing >>\n",
      "<< E-step >>\n",
      "<< M-step >>\n",
      "<< Post-processing >>\n"
     ]
    },
    {
     "name": "stderr",
     "output_type": "stream",
     "text": [
      "\n",
      "WARNING RuntimeWarning: invalid value encountered in divide\n",
      "\n"
     ]
    },
    {
     "name": "stdout",
     "output_type": "stream",
     "text": [
      "<< Registering Result >>\n",
      "  alpha: 2.0\n",
      "  background_normalization: {'albedo': 0.9822211437837377}\n",
      "  loglikelihood: [419411.1781302572]\n",
      "<< Checking Stopping Criteria >>\n",
      "--> Continue\n",
      "## Iteration 32/50 ##\n",
      "<< Pre-processing >>\n",
      "<< E-step >>\n",
      "<< M-step >>\n",
      "<< Post-processing >>\n"
     ]
    },
    {
     "name": "stderr",
     "output_type": "stream",
     "text": [
      "\n",
      "WARNING RuntimeWarning: invalid value encountered in divide\n",
      "\n"
     ]
    },
    {
     "name": "stdout",
     "output_type": "stream",
     "text": [
      "<< Registering Result >>\n",
      "  alpha: 2.0\n",
      "  background_normalization: {'albedo': 0.9824446724033365}\n",
      "  loglikelihood: [419434.58626423194]\n",
      "<< Checking Stopping Criteria >>\n",
      "--> Continue\n",
      "## Iteration 33/50 ##\n",
      "<< Pre-processing >>\n",
      "<< E-step >>\n",
      "<< M-step >>\n",
      "<< Post-processing >>\n"
     ]
    },
    {
     "name": "stderr",
     "output_type": "stream",
     "text": [
      "\n",
      "WARNING RuntimeWarning: invalid value encountered in divide\n",
      "\n"
     ]
    },
    {
     "name": "stdout",
     "output_type": "stream",
     "text": [
      "<< Registering Result >>\n",
      "  alpha: 2.0\n",
      "  background_normalization: {'albedo': 0.9826567290384426}\n",
      "  loglikelihood: [419456.37887861417]\n",
      "<< Checking Stopping Criteria >>\n",
      "--> Continue\n",
      "## Iteration 34/50 ##\n",
      "<< Pre-processing >>\n",
      "<< E-step >>\n",
      "<< M-step >>\n",
      "<< Post-processing >>\n"
     ]
    },
    {
     "name": "stderr",
     "output_type": "stream",
     "text": [
      "\n",
      "WARNING RuntimeWarning: invalid value encountered in divide\n",
      "\n"
     ]
    },
    {
     "name": "stdout",
     "output_type": "stream",
     "text": [
      "<< Registering Result >>\n",
      "  alpha: 2.0\n",
      "  background_normalization: {'albedo': 0.9828594435217093}\n",
      "  loglikelihood: [419476.7155086895]\n",
      "<< Checking Stopping Criteria >>\n",
      "--> Continue\n",
      "## Iteration 35/50 ##\n",
      "<< Pre-processing >>\n",
      "<< E-step >>\n",
      "<< M-step >>\n"
     ]
    },
    {
     "name": "stderr",
     "output_type": "stream",
     "text": [
      "\n",
      "WARNING RuntimeWarning: invalid value encountered in divide\n",
      "\n"
     ]
    },
    {
     "name": "stdout",
     "output_type": "stream",
     "text": [
      "<< Post-processing >>\n",
      "<< Registering Result >>\n",
      "  alpha: 2.0\n",
      "  background_normalization: {'albedo': 0.9830544469470661}\n",
      "  loglikelihood: [419495.73606062576]\n",
      "<< Checking Stopping Criteria >>\n",
      "--> Continue\n",
      "## Iteration 36/50 ##\n",
      "<< Pre-processing >>\n",
      "<< E-step >>\n",
      "<< M-step >>\n",
      "<< Post-processing >>\n"
     ]
    },
    {
     "name": "stderr",
     "output_type": "stream",
     "text": [
      "\n",
      "WARNING RuntimeWarning: invalid value encountered in divide\n",
      "\n"
     ]
    },
    {
     "name": "stdout",
     "output_type": "stream",
     "text": [
      "<< Registering Result >>\n",
      "  alpha: 2.0\n",
      "  background_normalization: {'albedo': 0.9832429754605946}\n",
      "  loglikelihood: [419513.56351841916]\n",
      "<< Checking Stopping Criteria >>\n",
      "--> Continue\n",
      "## Iteration 37/50 ##\n",
      "<< Pre-processing >>\n",
      "<< E-step >>\n",
      "<< M-step >>\n",
      "<< Post-processing >>\n"
     ]
    },
    {
     "name": "stderr",
     "output_type": "stream",
     "text": [
      "\n",
      "WARNING RuntimeWarning: invalid value encountered in divide\n",
      "\n"
     ]
    },
    {
     "name": "stdout",
     "output_type": "stream",
     "text": [
      "<< Registering Result >>\n",
      "  alpha: 2.0\n",
      "  background_normalization: {'albedo': 0.9834259555500988}\n",
      "  loglikelihood: [419530.3062484892]\n",
      "<< Checking Stopping Criteria >>\n",
      "--> Continue\n",
      "## Iteration 38/50 ##\n",
      "<< Pre-processing >>\n",
      "<< E-step >>\n",
      "<< M-step >>\n",
      "<< Post-processing >>\n"
     ]
    },
    {
     "name": "stderr",
     "output_type": "stream",
     "text": [
      "\n",
      "WARNING RuntimeWarning: invalid value encountered in divide\n",
      "\n"
     ]
    },
    {
     "name": "stdout",
     "output_type": "stream",
     "text": [
      "<< Registering Result >>\n",
      "  alpha: 2.0\n",
      "  background_normalization: {'albedo': 0.9836040735157432}\n",
      "  loglikelihood: [419546.0599689196]\n",
      "<< Checking Stopping Criteria >>\n",
      "--> Continue\n",
      "## Iteration 39/50 ##\n",
      "<< Pre-processing >>\n",
      "<< E-step >>\n",
      "<< M-step >>\n",
      "<< Post-processing >>\n"
     ]
    },
    {
     "name": "stderr",
     "output_type": "stream",
     "text": [
      "\n",
      "WARNING RuntimeWarning: invalid value encountered in divide\n",
      "\n"
     ]
    },
    {
     "name": "stdout",
     "output_type": "stream",
     "text": [
      "<< Registering Result >>\n",
      "  alpha: 2.0\n",
      "  background_normalization: {'albedo': 0.9837778315636565}\n",
      "  loglikelihood: [419560.909436545]\n",
      "<< Checking Stopping Criteria >>\n",
      "--> Continue\n",
      "## Iteration 40/50 ##\n",
      "<< Pre-processing >>\n",
      "<< E-step >>\n",
      "<< M-step >>\n",
      "<< Post-processing >>\n"
     ]
    },
    {
     "name": "stderr",
     "output_type": "stream",
     "text": [
      "\n",
      "WARNING RuntimeWarning: invalid value encountered in divide\n",
      "\n"
     ]
    },
    {
     "name": "stdout",
     "output_type": "stream",
     "text": [
      "<< Registering Result >>\n",
      "  alpha: 2.0\n",
      "  background_normalization: {'albedo': 0.9839475926980296}\n",
      "  loglikelihood: [419574.9298950087]\n",
      "<< Checking Stopping Criteria >>\n",
      "--> Continue\n",
      "## Iteration 41/50 ##\n",
      "<< Pre-processing >>\n",
      "<< E-step >>\n",
      "<< M-step >>\n",
      "<< Post-processing >>\n"
     ]
    },
    {
     "name": "stderr",
     "output_type": "stream",
     "text": [
      "\n",
      "WARNING RuntimeWarning: invalid value encountered in divide\n",
      "\n"
     ]
    },
    {
     "name": "stdout",
     "output_type": "stream",
     "text": [
      "<< Registering Result >>\n",
      "  alpha: 2.0\n",
      "  background_normalization: {'albedo': 0.9841136163173547}\n",
      "  loglikelihood: [419588.1883192825]\n",
      "<< Checking Stopping Criteria >>\n",
      "--> Continue\n",
      "## Iteration 42/50 ##\n",
      "<< Pre-processing >>\n",
      "<< E-step >>\n",
      "<< M-step >>\n",
      "<< Post-processing >>\n"
     ]
    },
    {
     "name": "stderr",
     "output_type": "stream",
     "text": [
      "\n",
      "WARNING RuntimeWarning: invalid value encountered in divide\n",
      "\n"
     ]
    },
    {
     "name": "stdout",
     "output_type": "stream",
     "text": [
      "<< Registering Result >>\n",
      "  alpha: 2.0\n",
      "  background_normalization: {'albedo': 0.9842760861622056}\n",
      "  loglikelihood: [419600.74448627164]\n",
      "<< Checking Stopping Criteria >>\n",
      "--> Continue\n",
      "## Iteration 43/50 ##\n",
      "<< Pre-processing >>\n",
      "<< E-step >>\n",
      "<< M-step >>\n",
      "<< Post-processing >>\n"
     ]
    },
    {
     "name": "stderr",
     "output_type": "stream",
     "text": [
      "\n",
      "WARNING RuntimeWarning: invalid value encountered in divide\n",
      "\n"
     ]
    },
    {
     "name": "stdout",
     "output_type": "stream",
     "text": [
      "<< Registering Result >>\n",
      "  alpha: 2.0\n",
      "  background_normalization: {'albedo': 0.9844351320221638}\n",
      "  loglikelihood: [419612.6518964899]\n",
      "<< Checking Stopping Criteria >>\n",
      "--> Continue\n",
      "## Iteration 44/50 ##\n",
      "<< Pre-processing >>\n",
      "<< E-step >>\n",
      "<< M-step >>\n",
      "<< Post-processing >>\n"
     ]
    },
    {
     "name": "stderr",
     "output_type": "stream",
     "text": [
      "\n",
      "WARNING RuntimeWarning: invalid value encountered in divide\n",
      "\n"
     ]
    },
    {
     "name": "stdout",
     "output_type": "stream",
     "text": [
      "<< Registering Result >>\n",
      "  alpha: 2.0\n",
      "  background_normalization: {'albedo': 0.984590846391934}\n",
      "  loglikelihood: [419623.9585680197]\n",
      "<< Checking Stopping Criteria >>\n",
      "--> Continue\n",
      "## Iteration 45/50 ##\n",
      "<< Pre-processing >>\n",
      "<< E-step >>\n",
      "<< M-step >>\n",
      "<< Post-processing >>\n"
     ]
    },
    {
     "name": "stderr",
     "output_type": "stream",
     "text": [
      "\n",
      "WARNING RuntimeWarning: invalid value encountered in divide\n",
      "\n"
     ]
    },
    {
     "name": "stdout",
     "output_type": "stream",
     "text": [
      "<< Registering Result >>\n",
      "  alpha: 2.0\n",
      "  background_normalization: {'albedo': 0.9847432970746457}\n",
      "  loglikelihood: [419634.70772087073]\n",
      "<< Checking Stopping Criteria >>\n",
      "--> Continue\n",
      "## Iteration 46/50 ##\n",
      "<< Pre-processing >>\n",
      "<< E-step >>\n",
      "<< M-step >>\n",
      "<< Post-processing >>\n"
     ]
    },
    {
     "name": "stderr",
     "output_type": "stream",
     "text": [
      "\n",
      "WARNING RuntimeWarning: invalid value encountered in divide\n",
      "\n"
     ]
    },
    {
     "name": "stdout",
     "output_type": "stream",
     "text": [
      "<< Registering Result >>\n",
      "  alpha: 2.0\n",
      "  background_normalization: {'albedo': 0.9848925365610207}\n",
      "  loglikelihood: [419644.93836726644]\n",
      "<< Checking Stopping Criteria >>\n",
      "--> Continue\n",
      "## Iteration 47/50 ##\n",
      "<< Pre-processing >>\n",
      "<< E-step >>\n",
      "<< M-step >>\n",
      "<< Post-processing >>\n"
     ]
    },
    {
     "name": "stderr",
     "output_type": "stream",
     "text": [
      "\n",
      "WARNING RuntimeWarning: invalid value encountered in divide\n",
      "\n"
     ]
    },
    {
     "name": "stdout",
     "output_type": "stream",
     "text": [
      "<< Registering Result >>\n",
      "  alpha: 2.0\n",
      "  background_normalization: {'albedo': 0.9850386088673744}\n",
      "  loglikelihood: [419654.68582116824]\n",
      "<< Checking Stopping Criteria >>\n",
      "--> Continue\n",
      "## Iteration 48/50 ##\n",
      "<< Pre-processing >>\n",
      "<< E-step >>\n",
      "<< M-step >>\n",
      "<< Post-processing >>\n"
     ]
    },
    {
     "name": "stderr",
     "output_type": "stream",
     "text": [
      "\n",
      "WARNING RuntimeWarning: invalid value encountered in divide\n",
      "\n"
     ]
    },
    {
     "name": "stdout",
     "output_type": "stream",
     "text": [
      "<< Registering Result >>\n",
      "  alpha: 2.0\n",
      "  background_normalization: {'albedo': 0.9851815543913989}\n",
      "  loglikelihood: [419663.9821384823]\n",
      "<< Checking Stopping Criteria >>\n",
      "--> Continue\n",
      "## Iteration 49/50 ##\n",
      "<< Pre-processing >>\n",
      "<< E-step >>\n",
      "<< M-step >>\n",
      "<< Post-processing >>\n"
     ]
    },
    {
     "name": "stderr",
     "output_type": "stream",
     "text": [
      "\n",
      "WARNING RuntimeWarning: invalid value encountered in divide\n",
      "\n"
     ]
    },
    {
     "name": "stdout",
     "output_type": "stream",
     "text": [
      "<< Registering Result >>\n",
      "  alpha: 2.0\n",
      "  background_normalization: {'albedo': 0.9853214132384271}\n",
      "  loglikelihood: [419672.85649777134]\n",
      "<< Checking Stopping Criteria >>\n",
      "--> Continue\n",
      "## Iteration 50/50 ##\n",
      "<< Pre-processing >>\n",
      "<< E-step >>\n",
      "<< M-step >>\n",
      "<< Post-processing >>\n"
     ]
    },
    {
     "name": "stderr",
     "output_type": "stream",
     "text": [
      "\n",
      "WARNING RuntimeWarning: invalid value encountered in divide\n",
      "\n"
     ]
    },
    {
     "name": "stdout",
     "output_type": "stream",
     "text": [
      "<< Registering Result >>\n",
      "  alpha: 2.0\n",
      "  background_normalization: {'albedo': 0.9854582273832847}\n",
      "  loglikelihood: [419681.33552991366]\n",
      "<< Checking Stopping Criteria >>\n",
      "--> Stop\n",
      "<< Finalization >>\n",
      "#### Image Deconvolution Finished ####\n",
      "CPU times: user 1min 59s, sys: 3min 16s, total: 5min 16s\n",
      "Wall time: 1min 14s\n"
     ]
    }
   ],
   "source": [
    "%%time\n",
    "\n",
    "image_deconvolution.run_deconvolution()"
   ]
  },
  {
   "cell_type": "code",
   "execution_count": 60,
   "id": "cc64ea8d",
   "metadata": {
    "collapsed": true,
    "jupyter": {
     "outputs_hidden": true
    },
    "scrolled": true
   },
   "outputs": [
    {
     "data": {
      "text/plain": [
       "[{'iteration': 1,\n",
       "  'model': <cosipy.image_deconvolution.allskyimage.AllSkyImageModel at 0xc934ca0e0>,\n",
       "  'delta_model': <cosipy.image_deconvolution.allskyimage.AllSkyImageModel at 0xc9360be80>,\n",
       "  'processed_delta_model': <cosipy.image_deconvolution.allskyimage.AllSkyImageModel at 0xc9360afb0>,\n",
       "  'background_normalization': {'albedo': 1.190086058358472},\n",
       "  'alpha': 2.0,\n",
       "  'loglikelihood': [389620.43700901093]},\n",
       " {'iteration': 2,\n",
       "  'model': <cosipy.image_deconvolution.allskyimage.AllSkyImageModel at 0xc92495e10>,\n",
       "  'delta_model': <cosipy.image_deconvolution.allskyimage.AllSkyImageModel at 0xc92497df0>,\n",
       "  'processed_delta_model': <cosipy.image_deconvolution.allskyimage.AllSkyImageModel at 0xc934c9720>,\n",
       "  'background_normalization': {'albedo': 1.1025288937649729},\n",
       "  'alpha': 2.0,\n",
       "  'loglikelihood': [397966.1184134454]},\n",
       " {'iteration': 3,\n",
       "  'model': <cosipy.image_deconvolution.allskyimage.AllSkyImageModel at 0xc934ca890>,\n",
       "  'delta_model': <cosipy.image_deconvolution.allskyimage.AllSkyImageModel at 0xc934ca1a0>,\n",
       "  'processed_delta_model': <cosipy.image_deconvolution.allskyimage.AllSkyImageModel at 0xc9366ff70>,\n",
       "  'background_normalization': {'albedo': 1.0758137427893717},\n",
       "  'alpha': 2.0,\n",
       "  'loglikelihood': [404486.16370658483]},\n",
       " {'iteration': 4,\n",
       "  'model': <cosipy.image_deconvolution.allskyimage.AllSkyImageModel at 0xc9360bbb0>,\n",
       "  'delta_model': <cosipy.image_deconvolution.allskyimage.AllSkyImageModel at 0xc9360bfa0>,\n",
       "  'processed_delta_model': <cosipy.image_deconvolution.allskyimage.AllSkyImageModel at 0xc9366d5a0>,\n",
       "  'background_normalization': {'albedo': 1.0350780054934294},\n",
       "  'alpha': 2.0,\n",
       "  'loglikelihood': [409379.8773129297]},\n",
       " {'iteration': 5,\n",
       "  'model': <cosipy.image_deconvolution.allskyimage.AllSkyImageModel at 0xc93609d50>,\n",
       "  'delta_model': <cosipy.image_deconvolution.allskyimage.AllSkyImageModel at 0xc9360b8e0>,\n",
       "  'processed_delta_model': <cosipy.image_deconvolution.allskyimage.AllSkyImageModel at 0xc9366f3d0>,\n",
       "  'background_normalization': {'albedo': 1.0067984138659716},\n",
       "  'alpha': 2.0,\n",
       "  'loglikelihood': [412636.6223042265]},\n",
       " {'iteration': 6,\n",
       "  'model': <cosipy.image_deconvolution.allskyimage.AllSkyImageModel at 0xc92495510>,\n",
       "  'delta_model': <cosipy.image_deconvolution.allskyimage.AllSkyImageModel at 0xc932ceaa0>,\n",
       "  'processed_delta_model': <cosipy.image_deconvolution.allskyimage.AllSkyImageModel at 0xc9366dea0>,\n",
       "  'background_normalization': {'albedo': 0.985156644640505},\n",
       "  'alpha': 2.0,\n",
       "  'loglikelihood': [414652.8432038162]},\n",
       " {'iteration': 7,\n",
       "  'model': <cosipy.image_deconvolution.allskyimage.AllSkyImageModel at 0xc9360b9a0>,\n",
       "  'delta_model': <cosipy.image_deconvolution.allskyimage.AllSkyImageModel at 0xc9360b9d0>,\n",
       "  'processed_delta_model': <cosipy.image_deconvolution.allskyimage.AllSkyImageModel at 0xc9366dc60>,\n",
       "  'background_normalization': {'albedo': 0.9720022993182517},\n",
       "  'alpha': 2.0,\n",
       "  'loglikelihood': [415871.5890431596]},\n",
       " {'iteration': 8,\n",
       "  'model': <cosipy.image_deconvolution.allskyimage.AllSkyImageModel at 0xc9360bee0>,\n",
       "  'delta_model': <cosipy.image_deconvolution.allskyimage.AllSkyImageModel at 0xc93609c30>,\n",
       "  'processed_delta_model': <cosipy.image_deconvolution.allskyimage.AllSkyImageModel at 0xc9366e170>,\n",
       "  'background_normalization': {'albedo': 0.9647331909406436},\n",
       "  'alpha': 2.0,\n",
       "  'loglikelihood': [416634.49362002616]},\n",
       " {'iteration': 9,\n",
       "  'model': <cosipy.image_deconvolution.allskyimage.AllSkyImageModel at 0xc9360bbe0>,\n",
       "  'delta_model': <cosipy.image_deconvolution.allskyimage.AllSkyImageModel at 0xc9360ba90>,\n",
       "  'processed_delta_model': <cosipy.image_deconvolution.allskyimage.AllSkyImageModel at 0xc9366f430>,\n",
       "  'background_normalization': {'albedo': 0.9618007024814391},\n",
       "  'alpha': 2.0,\n",
       "  'loglikelihood': [417146.494831466]},\n",
       " {'iteration': 10,\n",
       "  'model': <cosipy.image_deconvolution.allskyimage.AllSkyImageModel at 0xc92497550>,\n",
       "  'delta_model': <cosipy.image_deconvolution.allskyimage.AllSkyImageModel at 0xc9366fc70>,\n",
       "  'processed_delta_model': <cosipy.image_deconvolution.allskyimage.AllSkyImageModel at 0xc92497280>,\n",
       "  'background_normalization': {'albedo': 0.9614669811731034},\n",
       "  'alpha': 2.0,\n",
       "  'loglikelihood': [417517.0766809179]},\n",
       " {'iteration': 11,\n",
       "  'model': <cosipy.image_deconvolution.allskyimage.AllSkyImageModel at 0xc9366dd20>,\n",
       "  'delta_model': <cosipy.image_deconvolution.allskyimage.AllSkyImageModel at 0xc9366ea70>,\n",
       "  'processed_delta_model': <cosipy.image_deconvolution.allskyimage.AllSkyImageModel at 0xc9366f010>,\n",
       "  'background_normalization': {'albedo': 0.9626309655788824},\n",
       "  'alpha': 2.0,\n",
       "  'loglikelihood': [417802.0571046409]},\n",
       " {'iteration': 12,\n",
       "  'model': <cosipy.image_deconvolution.allskyimage.AllSkyImageModel at 0xc934c9b70>,\n",
       "  'delta_model': <cosipy.image_deconvolution.allskyimage.AllSkyImageModel at 0xc934c9f30>,\n",
       "  'processed_delta_model': <cosipy.image_deconvolution.allskyimage.AllSkyImageModel at 0xc9366c370>,\n",
       "  'background_normalization': {'albedo': 0.964504736764119},\n",
       "  'alpha': 2.0,\n",
       "  'loglikelihood': [418030.60138296254]},\n",
       " {'iteration': 13,\n",
       "  'model': <cosipy.image_deconvolution.allskyimage.AllSkyImageModel at 0xc9366d420>,\n",
       "  'delta_model': <cosipy.image_deconvolution.allskyimage.AllSkyImageModel at 0xc9366de10>,\n",
       "  'processed_delta_model': <cosipy.image_deconvolution.allskyimage.AllSkyImageModel at 0xc9366f460>,\n",
       "  'background_normalization': {'albedo': 0.9666322970227703},\n",
       "  'alpha': 2.0,\n",
       "  'loglikelihood': [418219.05430964916]},\n",
       " {'iteration': 14,\n",
       "  'model': <cosipy.image_deconvolution.allskyimage.AllSkyImageModel at 0xc9366cd90>,\n",
       "  'delta_model': <cosipy.image_deconvolution.allskyimage.AllSkyImageModel at 0xc9366d930>,\n",
       "  'processed_delta_model': <cosipy.image_deconvolution.allskyimage.AllSkyImageModel at 0xc9366d5d0>,\n",
       "  'background_normalization': {'albedo': 0.9687449645442028},\n",
       "  'alpha': 2.0,\n",
       "  'loglikelihood': [418377.4557194023]},\n",
       " {'iteration': 15,\n",
       "  'model': <cosipy.image_deconvolution.allskyimage.AllSkyImageModel at 0xc93596920>,\n",
       "  'delta_model': <cosipy.image_deconvolution.allskyimage.AllSkyImageModel at 0xc93596b90>,\n",
       "  'processed_delta_model': <cosipy.image_deconvolution.allskyimage.AllSkyImageModel at 0xc9366d210>,\n",
       "  'background_normalization': {'albedo': 0.9707085679480218},\n",
       "  'alpha': 2.0,\n",
       "  'loglikelihood': [418512.5036855283]},\n",
       " {'iteration': 16,\n",
       "  'model': <cosipy.image_deconvolution.allskyimage.AllSkyImageModel at 0xc9366e5c0>,\n",
       "  'delta_model': <cosipy.image_deconvolution.allskyimage.AllSkyImageModel at 0xc9366e230>,\n",
       "  'processed_delta_model': <cosipy.image_deconvolution.allskyimage.AllSkyImageModel at 0xc911dc400>,\n",
       "  'background_normalization': {'albedo': 0.9724635379800977},\n",
       "  'alpha': 2.0,\n",
       "  'loglikelihood': [418628.95036220574]},\n",
       " {'iteration': 17,\n",
       "  'model': <cosipy.image_deconvolution.allskyimage.AllSkyImageModel at 0xc935c3a00>,\n",
       "  'delta_model': <cosipy.image_deconvolution.allskyimage.AllSkyImageModel at 0xc935c3790>,\n",
       "  'processed_delta_model': <cosipy.image_deconvolution.allskyimage.AllSkyImageModel at 0xc93596b30>,\n",
       "  'background_normalization': {'albedo': 0.9739955171908574},\n",
       "  'alpha': 2.0,\n",
       "  'loglikelihood': [418730.3084008504]},\n",
       " {'iteration': 18,\n",
       "  'model': <cosipy.image_deconvolution.allskyimage.AllSkyImageModel at 0xc9360a6e0>,\n",
       "  'delta_model': <cosipy.image_deconvolution.allskyimage.AllSkyImageModel at 0xc92496620>,\n",
       "  'processed_delta_model': <cosipy.image_deconvolution.allskyimage.AllSkyImageModel at 0xc934c9db0>,\n",
       "  'background_normalization': {'albedo': 0.975313242988978},\n",
       "  'alpha': 2.0,\n",
       "  'loglikelihood': [418819.2471433951]},\n",
       " {'iteration': 19,\n",
       "  'model': <cosipy.image_deconvolution.allskyimage.AllSkyImageModel at 0xc935c3a90>,\n",
       "  'delta_model': <cosipy.image_deconvolution.allskyimage.AllSkyImageModel at 0xc935c28c0>,\n",
       "  'processed_delta_model': <cosipy.image_deconvolution.allskyimage.AllSkyImageModel at 0xc93597430>,\n",
       "  'background_normalization': {'albedo': 0.9764369687276026},\n",
       "  'alpha': 2.0,\n",
       "  'loglikelihood': [418897.8365083168]},\n",
       " {'iteration': 20,\n",
       "  'model': <cosipy.image_deconvolution.allskyimage.AllSkyImageModel at 0xc935c2f80>,\n",
       "  'delta_model': <cosipy.image_deconvolution.allskyimage.AllSkyImageModel at 0xc935c33a0>,\n",
       "  'processed_delta_model': <cosipy.image_deconvolution.allskyimage.AllSkyImageModel at 0xc935c3670>,\n",
       "  'background_normalization': {'albedo': 0.9773911433114137},\n",
       "  'alpha': 2.0,\n",
       "  'loglikelihood': [418967.70833261264]},\n",
       " {'iteration': 21,\n",
       "  'model': <cosipy.image_deconvolution.allskyimage.AllSkyImageModel at 0xc9372dbd0>,\n",
       "  'delta_model': <cosipy.image_deconvolution.allskyimage.AllSkyImageModel at 0xc9372d4e0>,\n",
       "  'processed_delta_model': <cosipy.image_deconvolution.allskyimage.AllSkyImageModel at 0xc9366fb20>,\n",
       "  'background_normalization': {'albedo': 0.9782006637147719},\n",
       "  'alpha': 2.0,\n",
       "  'loglikelihood': [419030.1679826325]},\n",
       " {'iteration': 22,\n",
       "  'model': <cosipy.image_deconvolution.allskyimage.AllSkyImageModel at 0xc93597640>,\n",
       "  'delta_model': <cosipy.image_deconvolution.allskyimage.AllSkyImageModel at 0xc93597f10>,\n",
       "  'processed_delta_model': <cosipy.image_deconvolution.allskyimage.AllSkyImageModel at 0xc93597b20>,\n",
       "  'background_normalization': {'albedo': 0.9788888402984662},\n",
       "  'alpha': 2.0,\n",
       "  'loglikelihood': [419086.27369941166]},\n",
       " {'iteration': 23,\n",
       "  'model': <cosipy.image_deconvolution.allskyimage.AllSkyImageModel at 0xc936a0a90>,\n",
       "  'delta_model': <cosipy.image_deconvolution.allskyimage.AllSkyImageModel at 0xc936a0b80>,\n",
       "  'processed_delta_model': <cosipy.image_deconvolution.allskyimage.AllSkyImageModel at 0xc9360a650>,\n",
       "  'background_normalization': {'albedo': 0.9794765199076382},\n",
       "  'alpha': 2.0,\n",
       "  'loglikelihood': [419136.89394879853]},\n",
       " {'iteration': 24,\n",
       "  'model': <cosipy.image_deconvolution.allskyimage.AllSkyImageModel at 0xc935971c0>,\n",
       "  'delta_model': <cosipy.image_deconvolution.allskyimage.AllSkyImageModel at 0xc935978b0>,\n",
       "  'processed_delta_model': <cosipy.image_deconvolution.allskyimage.AllSkyImageModel at 0xc9360a110>,\n",
       "  'background_normalization': {'albedo': 0.9799817891961189},\n",
       "  'alpha': 2.0,\n",
       "  'loglikelihood': [419182.7493856037]},\n",
       " {'iteration': 25,\n",
       "  'model': <cosipy.image_deconvolution.allskyimage.AllSkyImageModel at 0xc93700670>,\n",
       "  'delta_model': <cosipy.image_deconvolution.allskyimage.AllSkyImageModel at 0xc93701510>,\n",
       "  'processed_delta_model': <cosipy.image_deconvolution.allskyimage.AllSkyImageModel at 0xc93702320>,\n",
       "  'background_normalization': {'albedo': 0.9804200184058395},\n",
       "  'alpha': 2.0,\n",
       "  'loglikelihood': [419224.44389763917]},\n",
       " {'iteration': 26,\n",
       "  'model': <cosipy.image_deconvolution.allskyimage.AllSkyImageModel at 0xc9360bb20>,\n",
       "  'delta_model': <cosipy.image_deconvolution.allskyimage.AllSkyImageModel at 0xc9360bca0>,\n",
       "  'processed_delta_model': <cosipy.image_deconvolution.allskyimage.AllSkyImageModel at 0xc935c39d0>,\n",
       "  'background_normalization': {'albedo': 0.9808040644678144},\n",
       "  'alpha': 2.0,\n",
       "  'loglikelihood': [419262.48783887096]},\n",
       " {'iteration': 27,\n",
       "  'model': <cosipy.image_deconvolution.allskyimage.AllSkyImageModel at 0xc93702e00>,\n",
       "  'delta_model': <cosipy.image_deconvolution.allskyimage.AllSkyImageModel at 0xc93700a90>,\n",
       "  'processed_delta_model': <cosipy.image_deconvolution.allskyimage.AllSkyImageModel at 0xc936a1240>,\n",
       "  'background_normalization': {'albedo': 0.9811445475083196},\n",
       "  'alpha': 2.0,\n",
       "  'loglikelihood': [419297.3156418806]},\n",
       " {'iteration': 28,\n",
       "  'model': <cosipy.image_deconvolution.allskyimage.AllSkyImageModel at 0xc93701420>,\n",
       "  'delta_model': <cosipy.image_deconvolution.allskyimage.AllSkyImageModel at 0xc93702830>,\n",
       "  'processed_delta_model': <cosipy.image_deconvolution.allskyimage.AllSkyImageModel at 0xc935c3d60>,\n",
       "  'background_normalization': {'albedo': 0.9814501457708779},\n",
       "  'alpha': 2.0,\n",
       "  'loglikelihood': [419329.29936073]},\n",
       " {'iteration': 29,\n",
       "  'model': <cosipy.image_deconvolution.allskyimage.AllSkyImageModel at 0xc9360af80>,\n",
       "  'delta_model': <cosipy.image_deconvolution.allskyimage.AllSkyImageModel at 0xc9360b910>,\n",
       "  'processed_delta_model': <cosipy.image_deconvolution.allskyimage.AllSkyImageModel at 0xc934cba60>,\n",
       "  'background_normalization': {'albedo': 0.9817278823799748},\n",
       "  'alpha': 2.0,\n",
       "  'loglikelihood': [419358.7592438542]},\n",
       " {'iteration': 30,\n",
       "  'model': <cosipy.image_deconvolution.allskyimage.AllSkyImageModel at 0xc91003f70>,\n",
       "  'delta_model': <cosipy.image_deconvolution.allskyimage.AllSkyImageModel at 0xc92396a70>,\n",
       "  'processed_delta_model': <cosipy.image_deconvolution.allskyimage.AllSkyImageModel at 0xc935c0340>,\n",
       "  'background_normalization': {'albedo': 0.9819833894554746},\n",
       "  'alpha': 2.0,\n",
       "  'loglikelihood': [419385.9721169963]},\n",
       " {'iteration': 31,\n",
       "  'model': <cosipy.image_deconvolution.allskyimage.AllSkyImageModel at 0xc93596e90>,\n",
       "  'delta_model': <cosipy.image_deconvolution.allskyimage.AllSkyImageModel at 0xc936be8f0>,\n",
       "  'processed_delta_model': <cosipy.image_deconvolution.allskyimage.AllSkyImageModel at 0xc936bd510>,\n",
       "  'background_normalization': {'albedo': 0.9822211437837377},\n",
       "  'alpha': 2.0,\n",
       "  'loglikelihood': [419411.1781302572]},\n",
       " {'iteration': 32,\n",
       "  'model': <cosipy.image_deconvolution.allskyimage.AllSkyImageModel at 0xc9360b970>,\n",
       "  'delta_model': <cosipy.image_deconvolution.allskyimage.AllSkyImageModel at 0xc9360be20>,\n",
       "  'processed_delta_model': <cosipy.image_deconvolution.allskyimage.AllSkyImageModel at 0xc936beef0>,\n",
       "  'background_normalization': {'albedo': 0.9824446724033365},\n",
       "  'alpha': 2.0,\n",
       "  'loglikelihood': [419434.58626423194]},\n",
       " {'iteration': 33,\n",
       "  'model': <cosipy.image_deconvolution.allskyimage.AllSkyImageModel at 0xc936a19f0>,\n",
       "  'delta_model': <cosipy.image_deconvolution.allskyimage.AllSkyImageModel at 0xc936a1ae0>,\n",
       "  'processed_delta_model': <cosipy.image_deconvolution.allskyimage.AllSkyImageModel at 0xc936bc460>,\n",
       "  'background_normalization': {'albedo': 0.9826567290384426},\n",
       "  'alpha': 2.0,\n",
       "  'loglikelihood': [419456.37887861417]},\n",
       " {'iteration': 34,\n",
       "  'model': <cosipy.image_deconvolution.allskyimage.AllSkyImageModel at 0xc924951e0>,\n",
       "  'delta_model': <cosipy.image_deconvolution.allskyimage.AllSkyImageModel at 0xc934ca1d0>,\n",
       "  'processed_delta_model': <cosipy.image_deconvolution.allskyimage.AllSkyImageModel at 0xc936bdfc0>,\n",
       "  'background_normalization': {'albedo': 0.9828594435217093},\n",
       "  'alpha': 2.0,\n",
       "  'loglikelihood': [419476.7155086895]},\n",
       " {'iteration': 35,\n",
       "  'model': <cosipy.image_deconvolution.allskyimage.AllSkyImageModel at 0xc936a2680>,\n",
       "  'delta_model': <cosipy.image_deconvolution.allskyimage.AllSkyImageModel at 0xc936bca30>,\n",
       "  'processed_delta_model': <cosipy.image_deconvolution.allskyimage.AllSkyImageModel at 0xc936be740>,\n",
       "  'background_normalization': {'albedo': 0.9830544469470661},\n",
       "  'alpha': 2.0,\n",
       "  'loglikelihood': [419495.73606062576]},\n",
       " {'iteration': 36,\n",
       "  'model': <cosipy.image_deconvolution.allskyimage.AllSkyImageModel at 0xc9366cc10>,\n",
       "  'delta_model': <cosipy.image_deconvolution.allskyimage.AllSkyImageModel at 0xc936a3520>,\n",
       "  'processed_delta_model': <cosipy.image_deconvolution.allskyimage.AllSkyImageModel at 0xc936bd6c0>,\n",
       "  'background_normalization': {'albedo': 0.9832429754605946},\n",
       "  'alpha': 2.0,\n",
       "  'loglikelihood': [419513.56351841916]},\n",
       " {'iteration': 37,\n",
       "  'model': <cosipy.image_deconvolution.allskyimage.AllSkyImageModel at 0xc937018d0>,\n",
       "  'delta_model': <cosipy.image_deconvolution.allskyimage.AllSkyImageModel at 0xc93702a40>,\n",
       "  'processed_delta_model': <cosipy.image_deconvolution.allskyimage.AllSkyImageModel at 0xc936bd6f0>,\n",
       "  'background_normalization': {'albedo': 0.9834259555500988},\n",
       "  'alpha': 2.0,\n",
       "  'loglikelihood': [419530.3062484892]},\n",
       " {'iteration': 38,\n",
       "  'model': <cosipy.image_deconvolution.allskyimage.AllSkyImageModel at 0xc93701870>,\n",
       "  'delta_model': <cosipy.image_deconvolution.allskyimage.AllSkyImageModel at 0xc936bc2e0>,\n",
       "  'processed_delta_model': <cosipy.image_deconvolution.allskyimage.AllSkyImageModel at 0xc93700970>,\n",
       "  'background_normalization': {'albedo': 0.9836040735157432},\n",
       "  'alpha': 2.0,\n",
       "  'loglikelihood': [419546.0599689196]},\n",
       " {'iteration': 39,\n",
       "  'model': <cosipy.image_deconvolution.allskyimage.AllSkyImageModel at 0xc937006d0>,\n",
       "  'delta_model': <cosipy.image_deconvolution.allskyimage.AllSkyImageModel at 0xc93703a00>,\n",
       "  'processed_delta_model': <cosipy.image_deconvolution.allskyimage.AllSkyImageModel at 0xc936bc430>,\n",
       "  'background_normalization': {'albedo': 0.9837778315636565},\n",
       "  'alpha': 2.0,\n",
       "  'loglikelihood': [419560.909436545]},\n",
       " {'iteration': 40,\n",
       "  'model': <cosipy.image_deconvolution.allskyimage.AllSkyImageModel at 0xc936be020>,\n",
       "  'delta_model': <cosipy.image_deconvolution.allskyimage.AllSkyImageModel at 0xc936bebc0>,\n",
       "  'processed_delta_model': <cosipy.image_deconvolution.allskyimage.AllSkyImageModel at 0xc936be530>,\n",
       "  'background_normalization': {'albedo': 0.9839475926980296},\n",
       "  'alpha': 2.0,\n",
       "  'loglikelihood': [419574.9298950087]},\n",
       " {'iteration': 41,\n",
       "  'model': <cosipy.image_deconvolution.allskyimage.AllSkyImageModel at 0xc9366d1b0>,\n",
       "  'delta_model': <cosipy.image_deconvolution.allskyimage.AllSkyImageModel at 0xc9366c190>,\n",
       "  'processed_delta_model': <cosipy.image_deconvolution.allskyimage.AllSkyImageModel at 0xc936bc4c0>,\n",
       "  'background_normalization': {'albedo': 0.9841136163173547},\n",
       "  'alpha': 2.0,\n",
       "  'loglikelihood': [419588.1883192825]},\n",
       " {'iteration': 42,\n",
       "  'model': <cosipy.image_deconvolution.allskyimage.AllSkyImageModel at 0xc936a3a90>,\n",
       "  'delta_model': <cosipy.image_deconvolution.allskyimage.AllSkyImageModel at 0xc936bc640>,\n",
       "  'processed_delta_model': <cosipy.image_deconvolution.allskyimage.AllSkyImageModel at 0xc936bf730>,\n",
       "  'background_normalization': {'albedo': 0.9842760861622056},\n",
       "  'alpha': 2.0,\n",
       "  'loglikelihood': [419600.74448627164]},\n",
       " {'iteration': 43,\n",
       "  'model': <cosipy.image_deconvolution.allskyimage.AllSkyImageModel at 0xc936be890>,\n",
       "  'delta_model': <cosipy.image_deconvolution.allskyimage.AllSkyImageModel at 0xc936bc670>,\n",
       "  'processed_delta_model': <cosipy.image_deconvolution.allskyimage.AllSkyImageModel at 0xc936bc3a0>,\n",
       "  'background_normalization': {'albedo': 0.9844351320221638},\n",
       "  'alpha': 2.0,\n",
       "  'loglikelihood': [419612.6518964899]},\n",
       " {'iteration': 44,\n",
       "  'model': <cosipy.image_deconvolution.allskyimage.AllSkyImageModel at 0xc936bdb10>,\n",
       "  'delta_model': <cosipy.image_deconvolution.allskyimage.AllSkyImageModel at 0xc936bec80>,\n",
       "  'processed_delta_model': <cosipy.image_deconvolution.allskyimage.AllSkyImageModel at 0xc93700f70>,\n",
       "  'background_normalization': {'albedo': 0.984590846391934},\n",
       "  'alpha': 2.0,\n",
       "  'loglikelihood': [419623.9585680197]},\n",
       " {'iteration': 45,\n",
       "  'model': <cosipy.image_deconvolution.allskyimage.AllSkyImageModel at 0xc936bf430>,\n",
       "  'delta_model': <cosipy.image_deconvolution.allskyimage.AllSkyImageModel at 0xc936bf700>,\n",
       "  'processed_delta_model': <cosipy.image_deconvolution.allskyimage.AllSkyImageModel at 0xc9372cc10>,\n",
       "  'background_normalization': {'albedo': 0.9847432970746457},\n",
       "  'alpha': 2.0,\n",
       "  'loglikelihood': [419634.70772087073]},\n",
       " {'iteration': 46,\n",
       "  'model': <cosipy.image_deconvolution.allskyimage.AllSkyImageModel at 0xc93776ef0>,\n",
       "  'delta_model': <cosipy.image_deconvolution.allskyimage.AllSkyImageModel at 0xc937758a0>,\n",
       "  'processed_delta_model': <cosipy.image_deconvolution.allskyimage.AllSkyImageModel at 0xc93775270>,\n",
       "  'background_normalization': {'albedo': 0.9848925365610207},\n",
       "  'alpha': 2.0,\n",
       "  'loglikelihood': [419644.93836726644]},\n",
       " {'iteration': 47,\n",
       "  'model': <cosipy.image_deconvolution.allskyimage.AllSkyImageModel at 0xc936bcc10>,\n",
       "  'delta_model': <cosipy.image_deconvolution.allskyimage.AllSkyImageModel at 0xc936bf220>,\n",
       "  'processed_delta_model': <cosipy.image_deconvolution.allskyimage.AllSkyImageModel at 0xc936beb60>,\n",
       "  'background_normalization': {'albedo': 0.9850386088673744},\n",
       "  'alpha': 2.0,\n",
       "  'loglikelihood': [419654.68582116824]},\n",
       " {'iteration': 48,\n",
       "  'model': <cosipy.image_deconvolution.allskyimage.AllSkyImageModel at 0xc936becb0>,\n",
       "  'delta_model': <cosipy.image_deconvolution.allskyimage.AllSkyImageModel at 0xc936bd060>,\n",
       "  'processed_delta_model': <cosipy.image_deconvolution.allskyimage.AllSkyImageModel at 0xc936bff70>,\n",
       "  'background_normalization': {'albedo': 0.9851815543913989},\n",
       "  'alpha': 2.0,\n",
       "  'loglikelihood': [419663.9821384823]},\n",
       " {'iteration': 49,\n",
       "  'model': <cosipy.image_deconvolution.allskyimage.AllSkyImageModel at 0xc9360bb50>,\n",
       "  'delta_model': <cosipy.image_deconvolution.allskyimage.AllSkyImageModel at 0xc9360beb0>,\n",
       "  'processed_delta_model': <cosipy.image_deconvolution.allskyimage.AllSkyImageModel at 0xc93691b10>,\n",
       "  'background_normalization': {'albedo': 0.9853214132384271},\n",
       "  'alpha': 2.0,\n",
       "  'loglikelihood': [419672.85649777134]},\n",
       " {'iteration': 50,\n",
       "  'model': <cosipy.image_deconvolution.allskyimage.AllSkyImageModel at 0xc936bd150>,\n",
       "  'delta_model': <cosipy.image_deconvolution.allskyimage.AllSkyImageModel at 0xc936bdd50>,\n",
       "  'processed_delta_model': <cosipy.image_deconvolution.allskyimage.AllSkyImageModel at 0xc93690490>,\n",
       "  'background_normalization': {'albedo': 0.9854582273832847},\n",
       "  'alpha': 2.0,\n",
       "  'loglikelihood': [419681.33552991366]}]"
      ]
     },
     "execution_count": 60,
     "metadata": {},
     "output_type": "execute_result"
    }
   ],
   "source": [
    "image_deconvolution.results"
   ]
  },
  {
   "cell_type": "markdown",
   "id": "9d32d0a8",
   "metadata": {},
   "source": [
    "# 4. Analyze the results\n",
    "Examples to see/analyze the results are shown below."
   ]
  },
  {
   "cell_type": "markdown",
   "id": "f577c7ac",
   "metadata": {},
   "source": [
    "## Log-likelihood\n",
    "\n",
    "Plotting the log-likelihood vs the number of iterations"
   ]
  },
  {
   "cell_type": "code",
   "execution_count": 61,
   "id": "445ee3d5",
   "metadata": {},
   "outputs": [
    {
     "data": {
      "image/png": "[encoded data removed]",
      "text/plain": [
       "<Figure size 640x480 with 1 Axes>"
      ]
     },
     "metadata": {},
     "output_type": "display_data"
    }
   ],
   "source": [
    "x, y = [], []\n",
    "\n",
    "for result in image_deconvolution.results:\n",
    "    x.append(result['iteration'])\n",
    "    y.append(result['loglikelihood'])\n",
    "    \n",
    "plt.plot(x, y)\n",
    "plt.grid()\n",
    "plt.xlabel(\"iteration\")\n",
    "plt.ylabel(\"loglikelihood\")\n",
    "plt.show()"
   ]
  },
  {
   "cell_type": "markdown",
   "id": "3f085706",
   "metadata": {},
   "source": [
    "## Alpha (the factor used for the acceleration)\n",
    "\n",
    "Plotting $\\alpha$ vs the number of iterations. $\\alpha$ is a parameter to accelerate the EM algorithm (see the beginning of Section 4). If it is too large, reconstructed images may have artifacts."
   ]
  },
  {
   "cell_type": "code",
   "execution_count": 62,
   "id": "1695af05",
   "metadata": {},
   "outputs": [
    {
     "data": {
      "image/png": "[encoded data removed]",
      "text/plain": [
       "<Figure size 640x480 with 1 Axes>"
      ]
     },
     "metadata": {},
     "output_type": "display_data"
    }
   ],
   "source": [
    "x, y = [], []\n",
    "\n",
    "for result in image_deconvolution.results:\n",
    "    x.append(result['iteration'])\n",
    "    y.append(result['alpha'])\n",
    "    \n",
    "plt.plot(x, y)\n",
    "plt.grid()\n",
    "plt.xlabel(\"iteration\")\n",
    "plt.ylabel(\"alpha\")\n",
    "plt.show()"
   ]
  },
  {
   "cell_type": "markdown",
   "id": "b3298aa5",
   "metadata": {},
   "source": [
    "## Background normalization\n",
    "\n",
    "Plotting the background nomalization factor vs the number of iterations. If the backgroud model is accurate and the image is reconstructed perfectly, this factor should be close to 1."
   ]
  },
  {
   "cell_type": "code",
   "execution_count": 63,
   "id": "71ad8d7a",
   "metadata": {},
   "outputs": [
    {
     "data": {
      "image/png": "[encoded data removed]",
      "text/plain": [
       "<Figure size 640x480 with 1 Axes>"
      ]
     },
     "metadata": {},
     "output_type": "display_data"
    }
   ],
   "source": [
    "x, y = [], []\n",
    "\n",
    "for result in image_deconvolution.results:\n",
    "    x.append(result['iteration'])\n",
    "    y.append(result['background_normalization']['albedo'])\n",
    "    \n",
    "plt.plot(x, y)\n",
    "plt.grid()\n",
    "plt.xlabel(\"iteration\")\n",
    "plt.ylabel(\"background_normalization\")\n",
    "plt.show()"
   ]
  },
  {
   "cell_type": "markdown",
   "id": "58e0d3a6",
   "metadata": {},
   "source": [
    "## The reconstructed images"
   ]
  },
  {
   "cell_type": "code",
   "execution_count": 64,
   "id": "94ab604d-12d9-4f81-b8d1-7dcbe793b6e8",
   "metadata": {
    "scrolled": true
   },
   "outputs": [],
   "source": [
    "def plot_reconstructed_image(result, source_position = None): # source_position should be (l,b) in degrees\n",
    "    iteration = result['iteration']\n",
    "    image = result['model']\n",
    "\n",
    "    for energy_index in range(image.axes['Ei'].nbins):\n",
    "        map_healpxmap = HealpixMap(data = image[:,energy_index], unit = image.unit)\n",
    "\n",
    "        _, ax = map_healpxmap.plot('mollview')        \n",
    "        \n",
    "        _.colorbar.set_label(str(image.unit))\n",
    "        \n",
    "        if source_position is not None:\n",
    "            ax.scatter(source_position[0]*u.deg, source_position[1]*u.deg, transform=ax.get_transform('world'), color = 'red')\n",
    "\n",
    "        plt.title(label = f\"iteration = {iteration}, energy_index = {energy_index} ({image.axes['Ei'].bounds[energy_index][0]}-{image.axes['Ei'].bounds[energy_index][1]})\")"
   ]
  },
  {
   "cell_type": "markdown",
   "id": "4b8cdf58",
   "metadata": {},
   "source": [
    "Plotting the reconstructed images in all of the energy bands at the 50th iteration"
   ]
  },
  {
   "cell_type": "code",
   "execution_count": 65,
   "id": "2769b6e5",
   "metadata": {},
   "outputs": [
    {
     "data": {
      "image/png": "[encoded data removed]",
      "text/plain": [
       "<Figure size 600x600 with 2 Axes>"
      ]
     },
     "metadata": {},
     "output_type": "display_data"
    }
   ],
   "source": [
    "iteration = 49\n",
    "\n",
    "plot_reconstructed_image(image_deconvolution.results[iteration])"
   ]
  },
  {
   "cell_type": "markdown",
   "id": "9955eb5c-5c49-4c20-bbe5-32d2d547527a",
   "metadata": {},
   "source": [
    "An example to plot the image in the log scale"
   ]
  },
  {
   "cell_type": "code",
   "execution_count": 66,
   "id": "79bde8df-6fa3-430f-895e-06d7e6f91a9f",
   "metadata": {},
   "outputs": [
    {
     "data": {
      "image/png": "[encoded data removed]",
      "text/plain": [
       "<Figure size 850x540 with 2 Axes>"
      ]
     },
     "metadata": {},
     "output_type": "display_data"
    }
   ],
   "source": [
    "iteration_idx = 49\n",
    "\n",
    "result = image_deconvolution.results[iteration_idx]\n",
    "\n",
    "iteration = result['iteration']\n",
    "image = result['model']\n",
    "\n",
    "data = image[:,0]\n",
    "data[data <= 0 * data.unit] = 1e-12 * data.unit\n",
    "\n",
    "hp.mollview(data, min = 1e-5, norm ='log', unit = str(data.unit), title = f'511 keV image at {iteration}th iteration', cmap = 'magma')\n",
    "\n",
    "plt.show()"
   ]
  },
  {
   "cell_type": "markdown",
   "id": "11691974-ff40-4f23-a17a-59b241f8727c",
   "metadata": {},
   "source": [
    "**Note: when you use a smoothing filter, you may see arfacts like many rings around the galactic center as seen in the next image. This is likely caused by the calculation errors of hp.smoothing and the high contrast of the 511 keV image. It is expected that these artifacts will be mitigated by using finer pixel resolution.**\n",
    "\n",
    "For reference, the parameters used for the image below is:\n",
    "```\n",
    "algorithm: RL\n",
    "parameter:\n",
    "  acceleration: true\n",
    "  alpha_max: 2.0\n",
    "  background_normalization_optimization: true\n",
    "  background_normalization_range:\n",
    "    albedo:\n",
    "    - 0.01\n",
    "    - 10.0\n",
    "  iteration_max: 50\n",
    "  response_weighting: false\n",
    "  response_weighting_index: 0.5\n",
    "  save_results: false\n",
    "  save_results_directory: ./results\n",
    "  smoothing: true\n",
    "  smoothing_FWHM:\n",
    "    unit: deg\n",
    "    value: 2.0\n",
    "```"
   ]
  },
  {
   "cell_type": "code",
   "execution_count": 57,
   "id": "2e91030b-0ae0-4d77-8bf8-e51bb636536c",
   "metadata": {},
   "outputs": [
    {
     "data": {
      "image/png": "[encoded data removed]",
      "text/plain": [
       "<Figure size 850x540 with 2 Axes>"
      ]
     },
     "metadata": {},
     "output_type": "display_data"
    }
   ],
   "source": [
    "iteration_idx = 49\n",
    "\n",
    "result = image_deconvolution.results[iteration_idx]\n",
    "\n",
    "iteration = result['iteration']\n",
    "image = result['model']\n",
    "\n",
    "data = image[:,0]\n",
    "data[data <= 0 * data.unit] = 1e-12 * data.unit\n",
    "\n",
    "hp.mollview(data, min = 1e-5, norm ='log', unit = str(data.unit), title = f'511 keV image at {iteration}th iteration', cmap = 'magma')\n",
    "\n",
    "plt.show()"
   ]
  }
 ],
 "metadata": {
  "kernelspec": {
   "display_name": "Python 3 (ipykernel)",
   "language": "python",
   "name": "python3"
  },
  "language_info": {
   "codemirror_mode": {
    "name": "ipython",
    "version": 3
   },
   "file_extension": ".py",
   "mimetype": "text/x-python",
   "name": "python",
   "nbconvert_exporter": "python",
   "pygments_lexer": "ipython3",
   "version": "3.10.6"
  }
 },
 "nbformat": 4,
 "nbformat_minor": 5
}
