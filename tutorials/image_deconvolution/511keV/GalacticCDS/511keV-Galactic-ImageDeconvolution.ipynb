{
 "cells": [
  {
   "cell_type": "markdown",
   "id": "3edcfe0b-24d7-4321-b355-a6dc730c155d",
   "metadata": {
    "tags": []
   },
   "source": [
    "# Image Deconvolution for 511 keV Extended Sources\n",
    "\n",
    "updated on 2025-03-19\n",
    "\n",
    "This notebook introduces COSI's image deconvolution with the Compton data space (CDS) in the Galactic coordinate system. An example of the image analysis will be presented using the 511keV thin disk 3-month simulation data created for DC2.\n",
    "\n",
    "We have two options on the coordinate system to describe the Compton scattering direction ($\\psi\\chi$) in the image deconvolution, namely Galactic coordinates or detector coordinates. Using Galactic coordinates is intuitive, and the spectral fitting adopts this convention. However, image deconvolution in Galactic coordinates take significant computation time since the detector response needs to be converted into Galactic coordinates for each sky pixel. To reduce the burden on the end-user, a pre-computed converted response is provided in DC2 and DC3 for several main sources (511 keV, Al-26, Ti-44, continuum). These pre-computed responses assume that we analyze 3-month data without extracting time intervals, and the pixel resolution of the model map is already fixed. While there is less flexibility in binning/modeling, it is relatively fast to perform the image deconvolution since the most computationally heavy part, the coordinate conversion of the response, can be skipped.\n",
    "\n",
    "You can also check out the related notebook [511keV-ScAtt-DataReduction.ipynb](https://github.com/cositools/cosipy/blob/main/docs/tutorials/image_deconvolution/511keV/ScAttBinning/511keV-ScAtt-DataReduction.ipynb) for imaging in detector coordinates."
   ]
  },
  {
   "cell_type": "code",
   "execution_count": 1,
   "id": "9e65b271-b137-4fdb-a532-42161d1f2991",
   "metadata": {},
   "outputs": [],
   "source": [
    "import logging\n",
    "import sys\n",
    "logger = logging.getLogger('cosipy')\n",
    "logger.setLevel(logging.INFO)\n",
    "logger.addHandler(logging.StreamHandler(sys.stdout))"
   ]
  },
  {
   "cell_type": "code",
   "execution_count": 2,
   "id": "e751bbd5",
   "metadata": {
    "scrolled": true
   },
   "outputs": [
    {
     "data": {
      "text/html": [
       "<pre style=\"white-space:pre;overflow-x:auto;line-height:normal;font-family:Menlo,'DejaVu Sans Mono',consolas,'Courier New',monospace\"><span style=\"color: #00ff00; text-decoration-color: #00ff00\">13:27:00 </span><span style=\"color: #af5fd7; text-decoration-color: #af5fd7\">WARNING </span> <span style=\"color: #c6c6c6; text-decoration-color: #c6c6c6; font-weight: bold\"> The naima package is not available. Models that depend on it will not be         </span><a href=\"file:///Users/ckierans/Software/COSItools/COSItools/python-env/lib/python3.10/site-packages/astromodels/functions/functions_1D/functions.py\" target=\"_blank\"><span style=\"color: #7f7f7f; text-decoration-color: #7f7f7f\">functions.py</span></a><span style=\"color: #7f7f7f; text-decoration-color: #7f7f7f\">:</span><a href=\"file:///Users/ckierans/Software/COSItools/COSItools/python-env/lib/python3.10/site-packages/astromodels/functions/functions_1D/functions.py#48\" target=\"_blank\"><span style=\"color: #7f7f7f; text-decoration-color: #7f7f7f\">48</span></a>\n",
       "<span style=\"color: #00ff00; text-decoration-color: #00ff00\">         </span>         <span style=\"color: #c6c6c6; text-decoration-color: #c6c6c6; font-weight: bold\">available                                                                         </span><span style=\"color: #7f7f7f; text-decoration-color: #7f7f7f\">               </span>\n",
       "</pre>\n"
      ],
      "text/plain": [
       "\u001b[38;5;46m13:27:00\u001b[0m\u001b[38;5;46m \u001b[0m\u001b[38;5;134mWARNING \u001b[0m \u001b[1;38;5;251m The naima package is not available. Models that depend on it will not be        \u001b[0m\u001b[1;38;5;251m \u001b[0m\u001b]8;id=754529;file:///Users/ckierans/Software/COSItools/COSItools/python-env/lib/python3.10/site-packages/astromodels/functions/functions_1D/functions.py\u001b\\\u001b[2mfunctions.py\u001b[0m\u001b]8;;\u001b\\\u001b[2m:\u001b[0m\u001b]8;id=95796;file:///Users/ckierans/Software/COSItools/COSItools/python-env/lib/python3.10/site-packages/astromodels/functions/functions_1D/functions.py#48\u001b\\\u001b[2m48\u001b[0m\u001b]8;;\u001b\\\n",
       "\u001b[38;5;46m         \u001b[0m         \u001b[1;38;5;251mavailable                                                                        \u001b[0m\u001b[1;38;5;251m \u001b[0m\u001b[2m               \u001b[0m\n"
      ]
     },
     "metadata": {},
     "output_type": "display_data"
    },
    {
     "data": {
      "text/html": [
       "<pre style=\"white-space:pre;overflow-x:auto;line-height:normal;font-family:Menlo,'DejaVu Sans Mono',consolas,'Courier New',monospace\"><span style=\"color: #00ff00; text-decoration-color: #00ff00\">         </span><span style=\"color: #af5fd7; text-decoration-color: #af5fd7\">WARNING </span> <span style=\"color: #c6c6c6; text-decoration-color: #c6c6c6; font-weight: bold\"> The GSL library or the pygsl wrapper cannot be loaded. Models that depend on it  </span><a href=\"file:///Users/ckierans/Software/COSItools/COSItools/python-env/lib/python3.10/site-packages/astromodels/functions/functions_1D/functions.py\" target=\"_blank\"><span style=\"color: #7f7f7f; text-decoration-color: #7f7f7f\">functions.py</span></a><span style=\"color: #7f7f7f; text-decoration-color: #7f7f7f\">:</span><a href=\"file:///Users/ckierans/Software/COSItools/COSItools/python-env/lib/python3.10/site-packages/astromodels/functions/functions_1D/functions.py#69\" target=\"_blank\"><span style=\"color: #7f7f7f; text-decoration-color: #7f7f7f\">69</span></a>\n",
       "<span style=\"color: #00ff00; text-decoration-color: #00ff00\">         </span>         <span style=\"color: #c6c6c6; text-decoration-color: #c6c6c6; font-weight: bold\">will not be available.                                                            </span><span style=\"color: #7f7f7f; text-decoration-color: #7f7f7f\">               </span>\n",
       "</pre>\n"
      ],
      "text/plain": [
       "\u001b[38;5;46m        \u001b[0m\u001b[38;5;46m \u001b[0m\u001b[38;5;134mWARNING \u001b[0m \u001b[1;38;5;251m The GSL library or the pygsl wrapper cannot be loaded. Models that depend on it \u001b[0m\u001b[1;38;5;251m \u001b[0m\u001b]8;id=81265;file:///Users/ckierans/Software/COSItools/COSItools/python-env/lib/python3.10/site-packages/astromodels/functions/functions_1D/functions.py\u001b\\\u001b[2mfunctions.py\u001b[0m\u001b]8;;\u001b\\\u001b[2m:\u001b[0m\u001b]8;id=412843;file:///Users/ckierans/Software/COSItools/COSItools/python-env/lib/python3.10/site-packages/astromodels/functions/functions_1D/functions.py#69\u001b\\\u001b[2m69\u001b[0m\u001b]8;;\u001b\\\n",
       "\u001b[38;5;46m         \u001b[0m         \u001b[1;38;5;251mwill not be available.                                                           \u001b[0m\u001b[1;38;5;251m \u001b[0m\u001b[2m               \u001b[0m\n"
      ]
     },
     "metadata": {},
     "output_type": "display_data"
    },
    {
     "name": "stderr",
     "output_type": "stream",
     "text": [
      "/Users/ckierans/Software/COSItools/COSItools/python-env/lib/python3.10/site-packages/numba-0.58.0-py3.10-macosx-14-arm64.egg/numba/core/decorators.py:262: NumbaDeprecationWarning: \u001b[1mnumba.generated_jit is deprecated. Please see the documentation at: https://numba.readthedocs.io/en/stable/reference/deprecation.html#deprecation-of-generated-jit for more information and advice on a suitable replacement.\u001b[0m\n",
      "  warnings.warn(msg, NumbaDeprecationWarning)\n"
     ]
    },
    {
     "data": {
      "text/html": [
       "<pre style=\"white-space:pre;overflow-x:auto;line-height:normal;font-family:Menlo,'DejaVu Sans Mono',consolas,'Courier New',monospace\"><span style=\"color: #00ff00; text-decoration-color: #00ff00\">         </span><span style=\"color: #af5fd7; text-decoration-color: #af5fd7\">WARNING </span> <span style=\"color: #c6c6c6; text-decoration-color: #c6c6c6; font-weight: bold\"> The ebltable package is not available. Models that depend on it will not be     </span><a href=\"file:///Users/ckierans/Software/COSItools/COSItools/python-env/lib/python3.10/site-packages/astromodels/functions/functions_1D/absorption.py\" target=\"_blank\"><span style=\"color: #7f7f7f; text-decoration-color: #7f7f7f\">absorption.py</span></a><span style=\"color: #7f7f7f; text-decoration-color: #7f7f7f\">:</span><a href=\"file:///Users/ckierans/Software/COSItools/COSItools/python-env/lib/python3.10/site-packages/astromodels/functions/functions_1D/absorption.py#33\" target=\"_blank\"><span style=\"color: #7f7f7f; text-decoration-color: #7f7f7f\">33</span></a>\n",
       "<span style=\"color: #00ff00; text-decoration-color: #00ff00\">         </span>         <span style=\"color: #c6c6c6; text-decoration-color: #c6c6c6; font-weight: bold\">available                                                                        </span><span style=\"color: #7f7f7f; text-decoration-color: #7f7f7f\">                </span>\n",
       "</pre>\n"
      ],
      "text/plain": [
       "\u001b[38;5;46m        \u001b[0m\u001b[38;5;46m \u001b[0m\u001b[38;5;134mWARNING \u001b[0m \u001b[1;38;5;251m The ebltable package is not available. Models that depend on it will not be    \u001b[0m\u001b[1;38;5;251m \u001b[0m\u001b]8;id=104139;file:///Users/ckierans/Software/COSItools/COSItools/python-env/lib/python3.10/site-packages/astromodels/functions/functions_1D/absorption.py\u001b\\\u001b[2mabsorption.py\u001b[0m\u001b]8;;\u001b\\\u001b[2m:\u001b[0m\u001b]8;id=213773;file:///Users/ckierans/Software/COSItools/COSItools/python-env/lib/python3.10/site-packages/astromodels/functions/functions_1D/absorption.py#33\u001b\\\u001b[2m33\u001b[0m\u001b]8;;\u001b\\\n",
       "\u001b[38;5;46m         \u001b[0m         \u001b[1;38;5;251mavailable                                                                       \u001b[0m\u001b[1;38;5;251m \u001b[0m\u001b[2m                \u001b[0m\n"
      ]
     },
     "metadata": {},
     "output_type": "display_data"
    },
    {
     "name": "stderr",
     "output_type": "stream",
     "text": [
      "/Users/ckierans/Software/COSItools/COSItools/python-env/lib/python3.10/site-packages/numba-0.58.0-py3.10-macosx-14-arm64.egg/numba/core/decorators.py:262: NumbaDeprecationWarning: \u001b[1mnumba.generated_jit is deprecated. Please see the documentation at: https://numba.readthedocs.io/en/stable/reference/deprecation.html#deprecation-of-generated-jit for more information and advice on a suitable replacement.\u001b[0m\n",
      "  warnings.warn(msg, NumbaDeprecationWarning)\n"
     ]
    },
    {
     "data": {
      "text/html": [
       "<pre style=\"white-space:pre;overflow-x:auto;line-height:normal;font-family:Menlo,'DejaVu Sans Mono',consolas,'Courier New',monospace\"><span style=\"color: #00ff00; text-decoration-color: #00ff00\">         </span><span style=\"color: #00ffaf; text-decoration-color: #00ffaf\">INFO    </span> <span style=\"color: #c6c6c6; text-decoration-color: #c6c6c6; font-weight: bold\"> Starting 3ML!                                                                     </span><a href=\"file:///Users/ckierans/Software/COSItools/COSItools/python-env/lib/python3.10/site-packages/threeML-2.4.3.dev1-py3.10.egg/threeML/__init__.py\" target=\"_blank\"><span style=\"color: #7f7f7f; text-decoration-color: #7f7f7f\">__init__.py</span></a><span style=\"color: #7f7f7f; text-decoration-color: #7f7f7f\">:</span><a href=\"file:///Users/ckierans/Software/COSItools/COSItools/python-env/lib/python3.10/site-packages/threeML-2.4.3.dev1-py3.10.egg/threeML/__init__.py#39\" target=\"_blank\"><span style=\"color: #7f7f7f; text-decoration-color: #7f7f7f\">39</span></a>\n",
       "</pre>\n"
      ],
      "text/plain": [
       "\u001b[38;5;46m        \u001b[0m\u001b[38;5;46m \u001b[0m\u001b[38;5;49mINFO    \u001b[0m \u001b[1;38;5;251m Starting 3ML!                                                                    \u001b[0m\u001b[1;38;5;251m \u001b[0m\u001b]8;id=163855;file:///Users/ckierans/Software/COSItools/COSItools/python-env/lib/python3.10/site-packages/threeML-2.4.3.dev1-py3.10.egg/threeML/__init__.py\u001b\\\u001b[2m__init__.py\u001b[0m\u001b]8;;\u001b\\\u001b[2m:\u001b[0m\u001b]8;id=349083;file:///Users/ckierans/Software/COSItools/COSItools/python-env/lib/python3.10/site-packages/threeML-2.4.3.dev1-py3.10.egg/threeML/__init__.py#39\u001b\\\u001b[2m39\u001b[0m\u001b]8;;\u001b\\\n"
      ]
     },
     "metadata": {},
     "output_type": "display_data"
    },
    {
     "data": {
      "text/html": [
       "<pre style=\"white-space:pre;overflow-x:auto;line-height:normal;font-family:Menlo,'DejaVu Sans Mono',consolas,'Courier New',monospace\"><span style=\"color: #00ff00; text-decoration-color: #00ff00\">         </span><span style=\"color: #af5fd7; text-decoration-color: #af5fd7\">WARNING </span> <span style=\"color: #c6c6c6; text-decoration-color: #c6c6c6; font-weight: bold\"> WARNINGs here are </span><span style=\"color: #800000; text-decoration-color: #800000; font-weight: bold\">NOT</span><span style=\"color: #c6c6c6; text-decoration-color: #c6c6c6; font-weight: bold\"> errors                                                      </span><a href=\"file:///Users/ckierans/Software/COSItools/COSItools/python-env/lib/python3.10/site-packages/threeML-2.4.3.dev1-py3.10.egg/threeML/__init__.py\" target=\"_blank\"><span style=\"color: #7f7f7f; text-decoration-color: #7f7f7f\">__init__.py</span></a><span style=\"color: #7f7f7f; text-decoration-color: #7f7f7f\">:</span><a href=\"file:///Users/ckierans/Software/COSItools/COSItools/python-env/lib/python3.10/site-packages/threeML-2.4.3.dev1-py3.10.egg/threeML/__init__.py#40\" target=\"_blank\"><span style=\"color: #7f7f7f; text-decoration-color: #7f7f7f\">40</span></a>\n",
       "</pre>\n"
      ],
      "text/plain": [
       "\u001b[38;5;46m        \u001b[0m\u001b[38;5;46m \u001b[0m\u001b[38;5;134mWARNING \u001b[0m \u001b[1;38;5;251m WARNINGs here are \u001b[0m\u001b[1;31mNOT\u001b[0m\u001b[1;38;5;251m errors                                                     \u001b[0m\u001b[1;38;5;251m \u001b[0m\u001b]8;id=669673;file:///Users/ckierans/Software/COSItools/COSItools/python-env/lib/python3.10/site-packages/threeML-2.4.3.dev1-py3.10.egg/threeML/__init__.py\u001b\\\u001b[2m__init__.py\u001b[0m\u001b]8;;\u001b\\\u001b[2m:\u001b[0m\u001b]8;id=659454;file:///Users/ckierans/Software/COSItools/COSItools/python-env/lib/python3.10/site-packages/threeML-2.4.3.dev1-py3.10.egg/threeML/__init__.py#40\u001b\\\u001b[2m40\u001b[0m\u001b]8;;\u001b\\\n"
      ]
     },
     "metadata": {},
     "output_type": "display_data"
    },
    {
     "data": {
      "text/html": [
       "<pre style=\"white-space:pre;overflow-x:auto;line-height:normal;font-family:Menlo,'DejaVu Sans Mono',consolas,'Courier New',monospace\"><span style=\"color: #00ff00; text-decoration-color: #00ff00\">         </span><span style=\"color: #af5fd7; text-decoration-color: #af5fd7\">WARNING </span> <span style=\"color: #c6c6c6; text-decoration-color: #c6c6c6; font-weight: bold\"> but are inform you about optional packages that can be installed                  </span><a href=\"file:///Users/ckierans/Software/COSItools/COSItools/python-env/lib/python3.10/site-packages/threeML-2.4.3.dev1-py3.10.egg/threeML/__init__.py\" target=\"_blank\"><span style=\"color: #7f7f7f; text-decoration-color: #7f7f7f\">__init__.py</span></a><span style=\"color: #7f7f7f; text-decoration-color: #7f7f7f\">:</span><a href=\"file:///Users/ckierans/Software/COSItools/COSItools/python-env/lib/python3.10/site-packages/threeML-2.4.3.dev1-py3.10.egg/threeML/__init__.py#41\" target=\"_blank\"><span style=\"color: #7f7f7f; text-decoration-color: #7f7f7f\">41</span></a>\n",
       "</pre>\n"
      ],
      "text/plain": [
       "\u001b[38;5;46m        \u001b[0m\u001b[38;5;46m \u001b[0m\u001b[38;5;134mWARNING \u001b[0m \u001b[1;38;5;251m but are inform you about optional packages that can be installed                 \u001b[0m\u001b[1;38;5;251m \u001b[0m\u001b]8;id=761623;file:///Users/ckierans/Software/COSItools/COSItools/python-env/lib/python3.10/site-packages/threeML-2.4.3.dev1-py3.10.egg/threeML/__init__.py\u001b\\\u001b[2m__init__.py\u001b[0m\u001b]8;;\u001b\\\u001b[2m:\u001b[0m\u001b]8;id=646897;file:///Users/ckierans/Software/COSItools/COSItools/python-env/lib/python3.10/site-packages/threeML-2.4.3.dev1-py3.10.egg/threeML/__init__.py#41\u001b\\\u001b[2m41\u001b[0m\u001b]8;;\u001b\\\n"
      ]
     },
     "metadata": {},
     "output_type": "display_data"
    },
    {
     "data": {
      "text/html": [
       "<pre style=\"white-space:pre;overflow-x:auto;line-height:normal;font-family:Menlo,'DejaVu Sans Mono',consolas,'Courier New',monospace\"><span style=\"color: #00ff00; text-decoration-color: #00ff00\">         </span><span style=\"color: #af5fd7; text-decoration-color: #af5fd7\">WARNING </span> <span style=\"color: #c6c6c6; text-decoration-color: #c6c6c6; font-weight: bold\"> </span><span style=\"color: #800000; text-decoration-color: #800000; font-weight: bold\"> to disable these messages, turn off start_warning in your config file</span><span style=\"color: #c6c6c6; text-decoration-color: #c6c6c6; font-weight: bold\">            </span><a href=\"file:///Users/ckierans/Software/COSItools/COSItools/python-env/lib/python3.10/site-packages/threeML-2.4.3.dev1-py3.10.egg/threeML/__init__.py\" target=\"_blank\"><span style=\"color: #7f7f7f; text-decoration-color: #7f7f7f\">__init__.py</span></a><span style=\"color: #7f7f7f; text-decoration-color: #7f7f7f\">:</span><a href=\"file:///Users/ckierans/Software/COSItools/COSItools/python-env/lib/python3.10/site-packages/threeML-2.4.3.dev1-py3.10.egg/threeML/__init__.py#44\" target=\"_blank\"><span style=\"color: #7f7f7f; text-decoration-color: #7f7f7f\">44</span></a>\n",
       "</pre>\n"
      ],
      "text/plain": [
       "\u001b[38;5;46m        \u001b[0m\u001b[38;5;46m \u001b[0m\u001b[38;5;134mWARNING \u001b[0m \u001b[1;38;5;251m \u001b[0m\u001b[1;31m to disable these messages, turn off start_warning in your config file\u001b[0m\u001b[1;38;5;251m           \u001b[0m\u001b[1;38;5;251m \u001b[0m\u001b]8;id=763760;file:///Users/ckierans/Software/COSItools/COSItools/python-env/lib/python3.10/site-packages/threeML-2.4.3.dev1-py3.10.egg/threeML/__init__.py\u001b\\\u001b[2m__init__.py\u001b[0m\u001b]8;;\u001b\\\u001b[2m:\u001b[0m\u001b]8;id=740436;file:///Users/ckierans/Software/COSItools/COSItools/python-env/lib/python3.10/site-packages/threeML-2.4.3.dev1-py3.10.egg/threeML/__init__.py#44\u001b\\\u001b[2m44\u001b[0m\u001b]8;;\u001b\\\n"
      ]
     },
     "metadata": {},
     "output_type": "display_data"
    },
    {
     "data": {
      "text/html": [
       "<pre style=\"white-space:pre;overflow-x:auto;line-height:normal;font-family:Menlo,'DejaVu Sans Mono',consolas,'Courier New',monospace\"><span style=\"color: #00ff00; text-decoration-color: #00ff00\">13:27:00 </span><span style=\"color: #af5fd7; text-decoration-color: #af5fd7\">WARNING </span> <span style=\"color: #c6c6c6; text-decoration-color: #c6c6c6; font-weight: bold\"> ROOT minimizer not available                                                </span><a href=\"file:///Users/ckierans/Software/COSItools/COSItools/python-env/lib/python3.10/site-packages/threeML-2.4.3.dev1-py3.10.egg/threeML/minimizer/minimization.py\" target=\"_blank\"><span style=\"color: #7f7f7f; text-decoration-color: #7f7f7f\">minimization.py</span></a><span style=\"color: #7f7f7f; text-decoration-color: #7f7f7f\">:</span><a href=\"file:///Users/ckierans/Software/COSItools/COSItools/python-env/lib/python3.10/site-packages/threeML-2.4.3.dev1-py3.10.egg/threeML/minimizer/minimization.py#1345\" target=\"_blank\"><span style=\"color: #7f7f7f; text-decoration-color: #7f7f7f\">1345</span></a>\n",
       "</pre>\n"
      ],
      "text/plain": [
       "\u001b[38;5;46m13:27:00\u001b[0m\u001b[38;5;46m \u001b[0m\u001b[38;5;134mWARNING \u001b[0m \u001b[1;38;5;251m ROOT minimizer not available                                               \u001b[0m\u001b[1;38;5;251m \u001b[0m\u001b]8;id=616558;file:///Users/ckierans/Software/COSItools/COSItools/python-env/lib/python3.10/site-packages/threeML-2.4.3.dev1-py3.10.egg/threeML/minimizer/minimization.py\u001b\\\u001b[2mminimization.py\u001b[0m\u001b]8;;\u001b\\\u001b[2m:\u001b[0m\u001b]8;id=209381;file:///Users/ckierans/Software/COSItools/COSItools/python-env/lib/python3.10/site-packages/threeML-2.4.3.dev1-py3.10.egg/threeML/minimizer/minimization.py#1345\u001b\\\u001b[2m1345\u001b[0m\u001b]8;;\u001b\\\n"
      ]
     },
     "metadata": {},
     "output_type": "display_data"
    },
    {
     "data": {
      "text/html": [
       "<pre style=\"white-space:pre;overflow-x:auto;line-height:normal;font-family:Menlo,'DejaVu Sans Mono',consolas,'Courier New',monospace\"><span style=\"color: #00ff00; text-decoration-color: #00ff00\">         </span><span style=\"color: #af5fd7; text-decoration-color: #af5fd7\">WARNING </span> <span style=\"color: #c6c6c6; text-decoration-color: #c6c6c6; font-weight: bold\"> Multinest minimizer not available                                           </span><a href=\"file:///Users/ckierans/Software/COSItools/COSItools/python-env/lib/python3.10/site-packages/threeML-2.4.3.dev1-py3.10.egg/threeML/minimizer/minimization.py\" target=\"_blank\"><span style=\"color: #7f7f7f; text-decoration-color: #7f7f7f\">minimization.py</span></a><span style=\"color: #7f7f7f; text-decoration-color: #7f7f7f\">:</span><a href=\"file:///Users/ckierans/Software/COSItools/COSItools/python-env/lib/python3.10/site-packages/threeML-2.4.3.dev1-py3.10.egg/threeML/minimizer/minimization.py#1357\" target=\"_blank\"><span style=\"color: #7f7f7f; text-decoration-color: #7f7f7f\">1357</span></a>\n",
       "</pre>\n"
      ],
      "text/plain": [
       "\u001b[38;5;46m        \u001b[0m\u001b[38;5;46m \u001b[0m\u001b[38;5;134mWARNING \u001b[0m \u001b[1;38;5;251m Multinest minimizer not available                                          \u001b[0m\u001b[1;38;5;251m \u001b[0m\u001b]8;id=272302;file:///Users/ckierans/Software/COSItools/COSItools/python-env/lib/python3.10/site-packages/threeML-2.4.3.dev1-py3.10.egg/threeML/minimizer/minimization.py\u001b\\\u001b[2mminimization.py\u001b[0m\u001b]8;;\u001b\\\u001b[2m:\u001b[0m\u001b]8;id=766828;file:///Users/ckierans/Software/COSItools/COSItools/python-env/lib/python3.10/site-packages/threeML-2.4.3.dev1-py3.10.egg/threeML/minimizer/minimization.py#1357\u001b\\\u001b[2m1357\u001b[0m\u001b]8;;\u001b\\\n"
      ]
     },
     "metadata": {},
     "output_type": "display_data"
    },
    {
     "data": {
      "text/html": [
       "<pre style=\"white-space:pre;overflow-x:auto;line-height:normal;font-family:Menlo,'DejaVu Sans Mono',consolas,'Courier New',monospace\"><span style=\"color: #00ff00; text-decoration-color: #00ff00\">         </span><span style=\"color: #af5fd7; text-decoration-color: #af5fd7\">WARNING </span> <span style=\"color: #c6c6c6; text-decoration-color: #c6c6c6; font-weight: bold\"> PyGMO is not available                                                      </span><a href=\"file:///Users/ckierans/Software/COSItools/COSItools/python-env/lib/python3.10/site-packages/threeML-2.4.3.dev1-py3.10.egg/threeML/minimizer/minimization.py\" target=\"_blank\"><span style=\"color: #7f7f7f; text-decoration-color: #7f7f7f\">minimization.py</span></a><span style=\"color: #7f7f7f; text-decoration-color: #7f7f7f\">:</span><a href=\"file:///Users/ckierans/Software/COSItools/COSItools/python-env/lib/python3.10/site-packages/threeML-2.4.3.dev1-py3.10.egg/threeML/minimizer/minimization.py#1369\" target=\"_blank\"><span style=\"color: #7f7f7f; text-decoration-color: #7f7f7f\">1369</span></a>\n",
       "</pre>\n"
      ],
      "text/plain": [
       "\u001b[38;5;46m        \u001b[0m\u001b[38;5;46m \u001b[0m\u001b[38;5;134mWARNING \u001b[0m \u001b[1;38;5;251m PyGMO is not available                                                     \u001b[0m\u001b[1;38;5;251m \u001b[0m\u001b]8;id=536715;file:///Users/ckierans/Software/COSItools/COSItools/python-env/lib/python3.10/site-packages/threeML-2.4.3.dev1-py3.10.egg/threeML/minimizer/minimization.py\u001b\\\u001b[2mminimization.py\u001b[0m\u001b]8;;\u001b\\\u001b[2m:\u001b[0m\u001b]8;id=952658;file:///Users/ckierans/Software/COSItools/COSItools/python-env/lib/python3.10/site-packages/threeML-2.4.3.dev1-py3.10.egg/threeML/minimizer/minimization.py#1369\u001b\\\u001b[2m1369\u001b[0m\u001b]8;;\u001b\\\n"
      ]
     },
     "metadata": {},
     "output_type": "display_data"
    },
    {
     "data": {
      "text/html": [
       "<pre style=\"white-space:pre;overflow-x:auto;line-height:normal;font-family:Menlo,'DejaVu Sans Mono',consolas,'Courier New',monospace\"><span style=\"color: #00ff00; text-decoration-color: #00ff00\">         </span><span style=\"color: #af5fd7; text-decoration-color: #af5fd7\">WARNING </span> <span style=\"color: #c6c6c6; text-decoration-color: #c6c6c6; font-weight: bold\"> The cthreeML package is not installed. You will not be able to use plugins which  </span><a href=\"file:///Users/ckierans/Software/COSItools/COSItools/python-env/lib/python3.10/site-packages/threeML-2.4.3.dev1-py3.10.egg/threeML/__init__.py\" target=\"_blank\"><span style=\"color: #7f7f7f; text-decoration-color: #7f7f7f\">__init__.py</span></a><span style=\"color: #7f7f7f; text-decoration-color: #7f7f7f\">:</span><a href=\"file:///Users/ckierans/Software/COSItools/COSItools/python-env/lib/python3.10/site-packages/threeML-2.4.3.dev1-py3.10.egg/threeML/__init__.py#94\" target=\"_blank\"><span style=\"color: #7f7f7f; text-decoration-color: #7f7f7f\">94</span></a>\n",
       "<span style=\"color: #00ff00; text-decoration-color: #00ff00\">         </span>         <span style=\"color: #c6c6c6; text-decoration-color: #c6c6c6; font-weight: bold\">require the C/C++ interface (currently HAWC)                                       </span><span style=\"color: #7f7f7f; text-decoration-color: #7f7f7f\">              </span>\n",
       "</pre>\n"
      ],
      "text/plain": [
       "\u001b[38;5;46m        \u001b[0m\u001b[38;5;46m \u001b[0m\u001b[38;5;134mWARNING \u001b[0m \u001b[1;38;5;251m The cthreeML package is not installed. You will not be able to use plugins which \u001b[0m\u001b[1;38;5;251m \u001b[0m\u001b]8;id=82726;file:///Users/ckierans/Software/COSItools/COSItools/python-env/lib/python3.10/site-packages/threeML-2.4.3.dev1-py3.10.egg/threeML/__init__.py\u001b\\\u001b[2m__init__.py\u001b[0m\u001b]8;;\u001b\\\u001b[2m:\u001b[0m\u001b]8;id=510481;file:///Users/ckierans/Software/COSItools/COSItools/python-env/lib/python3.10/site-packages/threeML-2.4.3.dev1-py3.10.egg/threeML/__init__.py#94\u001b\\\u001b[2m94\u001b[0m\u001b]8;;\u001b\\\n",
       "\u001b[38;5;46m         \u001b[0m         \u001b[1;38;5;251mrequire the C/C++ interface \u001b[0m\u001b[1;38;5;251m(\u001b[0m\u001b[1;38;5;251mcurrently HAWC\u001b[0m\u001b[1;38;5;251m)\u001b[0m\u001b[1;38;5;251m                                      \u001b[0m\u001b[1;38;5;251m \u001b[0m\u001b[2m              \u001b[0m\n"
      ]
     },
     "metadata": {},
     "output_type": "display_data"
    },
    {
     "data": {
      "text/html": [
       "<pre style=\"white-space:pre;overflow-x:auto;line-height:normal;font-family:Menlo,'DejaVu Sans Mono',consolas,'Courier New',monospace\"><span style=\"color: #00ff00; text-decoration-color: #00ff00\">         </span><span style=\"color: #af5fd7; text-decoration-color: #af5fd7\">WARNING </span> <span style=\"color: #c6c6c6; text-decoration-color: #c6c6c6; font-weight: bold\"> Could not import plugin HAWCLike.py. Do you have the relative instrument         </span><a href=\"file:///Users/ckierans/Software/COSItools/COSItools/python-env/lib/python3.10/site-packages/threeML-2.4.3.dev1-py3.10.egg/threeML/__init__.py\" target=\"_blank\"><span style=\"color: #7f7f7f; text-decoration-color: #7f7f7f\">__init__.py</span></a><span style=\"color: #7f7f7f; text-decoration-color: #7f7f7f\">:</span><a href=\"file:///Users/ckierans/Software/COSItools/COSItools/python-env/lib/python3.10/site-packages/threeML-2.4.3.dev1-py3.10.egg/threeML/__init__.py#144\" target=\"_blank\"><span style=\"color: #7f7f7f; text-decoration-color: #7f7f7f\">144</span></a>\n",
       "<span style=\"color: #00ff00; text-decoration-color: #00ff00\">         </span>         <span style=\"color: #c6c6c6; text-decoration-color: #c6c6c6; font-weight: bold\">software installed and configured?                                                </span><span style=\"color: #7f7f7f; text-decoration-color: #7f7f7f\">               </span>\n",
       "</pre>\n"
      ],
      "text/plain": [
       "\u001b[38;5;46m        \u001b[0m\u001b[38;5;46m \u001b[0m\u001b[38;5;134mWARNING \u001b[0m \u001b[1;38;5;251m Could not import plugin HAWCLike.py. Do you have the relative instrument        \u001b[0m\u001b[1;38;5;251m \u001b[0m\u001b]8;id=798382;file:///Users/ckierans/Software/COSItools/COSItools/python-env/lib/python3.10/site-packages/threeML-2.4.3.dev1-py3.10.egg/threeML/__init__.py\u001b\\\u001b[2m__init__.py\u001b[0m\u001b]8;;\u001b\\\u001b[2m:\u001b[0m\u001b]8;id=495301;file:///Users/ckierans/Software/COSItools/COSItools/python-env/lib/python3.10/site-packages/threeML-2.4.3.dev1-py3.10.egg/threeML/__init__.py#144\u001b\\\u001b[2m144\u001b[0m\u001b]8;;\u001b\\\n",
       "\u001b[38;5;46m         \u001b[0m         \u001b[1;38;5;251msoftware installed and configured?                                               \u001b[0m\u001b[1;38;5;251m \u001b[0m\u001b[2m               \u001b[0m\n"
      ]
     },
     "metadata": {},
     "output_type": "display_data"
    },
    {
     "data": {
      "text/html": [
       "<pre style=\"white-space:pre;overflow-x:auto;line-height:normal;font-family:Menlo,'DejaVu Sans Mono',consolas,'Courier New',monospace\"><span style=\"color: #00ff00; text-decoration-color: #00ff00\">         </span><span style=\"color: #af5fd7; text-decoration-color: #af5fd7\">WARNING </span> <span style=\"color: #c6c6c6; text-decoration-color: #c6c6c6; font-weight: bold\"> Could not import plugin FermiLATLike.py. Do you have the relative instrument     </span><a href=\"file:///Users/ckierans/Software/COSItools/COSItools/python-env/lib/python3.10/site-packages/threeML-2.4.3.dev1-py3.10.egg/threeML/__init__.py\" target=\"_blank\"><span style=\"color: #7f7f7f; text-decoration-color: #7f7f7f\">__init__.py</span></a><span style=\"color: #7f7f7f; text-decoration-color: #7f7f7f\">:</span><a href=\"file:///Users/ckierans/Software/COSItools/COSItools/python-env/lib/python3.10/site-packages/threeML-2.4.3.dev1-py3.10.egg/threeML/__init__.py#144\" target=\"_blank\"><span style=\"color: #7f7f7f; text-decoration-color: #7f7f7f\">144</span></a>\n",
       "<span style=\"color: #00ff00; text-decoration-color: #00ff00\">         </span>         <span style=\"color: #c6c6c6; text-decoration-color: #c6c6c6; font-weight: bold\">software installed and configured?                                                </span><span style=\"color: #7f7f7f; text-decoration-color: #7f7f7f\">               </span>\n",
       "</pre>\n"
      ],
      "text/plain": [
       "\u001b[38;5;46m        \u001b[0m\u001b[38;5;46m \u001b[0m\u001b[38;5;134mWARNING \u001b[0m \u001b[1;38;5;251m Could not import plugin FermiLATLike.py. Do you have the relative instrument    \u001b[0m\u001b[1;38;5;251m \u001b[0m\u001b]8;id=398089;file:///Users/ckierans/Software/COSItools/COSItools/python-env/lib/python3.10/site-packages/threeML-2.4.3.dev1-py3.10.egg/threeML/__init__.py\u001b\\\u001b[2m__init__.py\u001b[0m\u001b]8;;\u001b\\\u001b[2m:\u001b[0m\u001b]8;id=388318;file:///Users/ckierans/Software/COSItools/COSItools/python-env/lib/python3.10/site-packages/threeML-2.4.3.dev1-py3.10.egg/threeML/__init__.py#144\u001b\\\u001b[2m144\u001b[0m\u001b]8;;\u001b\\\n",
       "\u001b[38;5;46m         \u001b[0m         \u001b[1;38;5;251msoftware installed and configured?                                               \u001b[0m\u001b[1;38;5;251m \u001b[0m\u001b[2m               \u001b[0m\n"
      ]
     },
     "metadata": {},
     "output_type": "display_data"
    },
    {
     "data": {
      "text/html": [
       "<pre style=\"white-space:pre;overflow-x:auto;line-height:normal;font-family:Menlo,'DejaVu Sans Mono',consolas,'Courier New',monospace\"><span style=\"color: #00ff00; text-decoration-color: #00ff00\">         </span><span style=\"color: #af5fd7; text-decoration-color: #af5fd7\">WARNING </span> <span style=\"color: #c6c6c6; text-decoration-color: #c6c6c6; font-weight: bold\"> No fermitools installed                                              </span><a href=\"file:///Users/ckierans/Software/COSItools/COSItools/python-env/lib/python3.10/site-packages/threeML-2.4.3.dev1-py3.10.egg/threeML/utils/data_builders/fermi/lat_transient_builder.py\" target=\"_blank\"><span style=\"color: #7f7f7f; text-decoration-color: #7f7f7f\">lat_transient_builder.py</span></a><span style=\"color: #7f7f7f; text-decoration-color: #7f7f7f\">:</span><a href=\"file:///Users/ckierans/Software/COSItools/COSItools/python-env/lib/python3.10/site-packages/threeML-2.4.3.dev1-py3.10.egg/threeML/utils/data_builders/fermi/lat_transient_builder.py#44\" target=\"_blank\"><span style=\"color: #7f7f7f; text-decoration-color: #7f7f7f\">44</span></a>\n",
       "</pre>\n"
      ],
      "text/plain": [
       "\u001b[38;5;46m        \u001b[0m\u001b[38;5;46m \u001b[0m\u001b[38;5;134mWARNING \u001b[0m \u001b[1;38;5;251m No fermitools installed                                             \u001b[0m\u001b[1;38;5;251m \u001b[0m\u001b]8;id=694358;file:///Users/ckierans/Software/COSItools/COSItools/python-env/lib/python3.10/site-packages/threeML-2.4.3.dev1-py3.10.egg/threeML/utils/data_builders/fermi/lat_transient_builder.py\u001b\\\u001b[2mlat_transient_builder.py\u001b[0m\u001b]8;;\u001b\\\u001b[2m:\u001b[0m\u001b]8;id=697256;file:///Users/ckierans/Software/COSItools/COSItools/python-env/lib/python3.10/site-packages/threeML-2.4.3.dev1-py3.10.egg/threeML/utils/data_builders/fermi/lat_transient_builder.py#44\u001b\\\u001b[2m44\u001b[0m\u001b]8;;\u001b\\\n"
      ]
     },
     "metadata": {},
     "output_type": "display_data"
    },
    {
     "data": {
      "text/html": [
       "<pre style=\"white-space:pre;overflow-x:auto;line-height:normal;font-family:Menlo,'DejaVu Sans Mono',consolas,'Courier New',monospace\"><span style=\"color: #00ff00; text-decoration-color: #00ff00\">         </span><span style=\"color: #af5fd7; text-decoration-color: #af5fd7\">WARNING </span> <span style=\"color: #c6c6c6; text-decoration-color: #c6c6c6; font-weight: bold\"> Env. variable OMP_NUM_THREADS is not set. Please set it to </span><span style=\"color: #c0c0c0; text-decoration-color: #c0c0c0; font-weight: bold\">1</span><span style=\"color: #c6c6c6; text-decoration-color: #c6c6c6; font-weight: bold\"> for optimal         </span><a href=\"file:///Users/ckierans/Software/COSItools/COSItools/python-env/lib/python3.10/site-packages/threeML-2.4.3.dev1-py3.10.egg/threeML/__init__.py\" target=\"_blank\"><span style=\"color: #7f7f7f; text-decoration-color: #7f7f7f\">__init__.py</span></a><span style=\"color: #7f7f7f; text-decoration-color: #7f7f7f\">:</span><a href=\"file:///Users/ckierans/Software/COSItools/COSItools/python-env/lib/python3.10/site-packages/threeML-2.4.3.dev1-py3.10.egg/threeML/__init__.py#387\" target=\"_blank\"><span style=\"color: #7f7f7f; text-decoration-color: #7f7f7f\">387</span></a>\n",
       "<span style=\"color: #00ff00; text-decoration-color: #00ff00\">         </span>         <span style=\"color: #c6c6c6; text-decoration-color: #c6c6c6; font-weight: bold\">performances in 3ML                                                               </span><span style=\"color: #7f7f7f; text-decoration-color: #7f7f7f\">               </span>\n",
       "</pre>\n"
      ],
      "text/plain": [
       "\u001b[38;5;46m        \u001b[0m\u001b[38;5;46m \u001b[0m\u001b[38;5;134mWARNING \u001b[0m \u001b[1;38;5;251m Env. variable OMP_NUM_THREADS is not set. Please set it to \u001b[0m\u001b[1;37m1\u001b[0m\u001b[1;38;5;251m for optimal        \u001b[0m\u001b[1;38;5;251m \u001b[0m\u001b]8;id=483746;file:///Users/ckierans/Software/COSItools/COSItools/python-env/lib/python3.10/site-packages/threeML-2.4.3.dev1-py3.10.egg/threeML/__init__.py\u001b\\\u001b[2m__init__.py\u001b[0m\u001b]8;;\u001b\\\u001b[2m:\u001b[0m\u001b]8;id=949161;file:///Users/ckierans/Software/COSItools/COSItools/python-env/lib/python3.10/site-packages/threeML-2.4.3.dev1-py3.10.egg/threeML/__init__.py#387\u001b\\\u001b[2m387\u001b[0m\u001b]8;;\u001b\\\n",
       "\u001b[38;5;46m         \u001b[0m         \u001b[1;38;5;251mperformances in 3ML                                                              \u001b[0m\u001b[1;38;5;251m \u001b[0m\u001b[2m               \u001b[0m\n"
      ]
     },
     "metadata": {},
     "output_type": "display_data"
    },
    {
     "data": {
      "text/html": [
       "<pre style=\"white-space:pre;overflow-x:auto;line-height:normal;font-family:Menlo,'DejaVu Sans Mono',consolas,'Courier New',monospace\"><span style=\"color: #00ff00; text-decoration-color: #00ff00\">         </span><span style=\"color: #af5fd7; text-decoration-color: #af5fd7\">WARNING </span> <span style=\"color: #c6c6c6; text-decoration-color: #c6c6c6; font-weight: bold\"> Env. variable MKL_NUM_THREADS is not set. Please set it to </span><span style=\"color: #c0c0c0; text-decoration-color: #c0c0c0; font-weight: bold\">1</span><span style=\"color: #c6c6c6; text-decoration-color: #c6c6c6; font-weight: bold\"> for optimal         </span><a href=\"file:///Users/ckierans/Software/COSItools/COSItools/python-env/lib/python3.10/site-packages/threeML-2.4.3.dev1-py3.10.egg/threeML/__init__.py\" target=\"_blank\"><span style=\"color: #7f7f7f; text-decoration-color: #7f7f7f\">__init__.py</span></a><span style=\"color: #7f7f7f; text-decoration-color: #7f7f7f\">:</span><a href=\"file:///Users/ckierans/Software/COSItools/COSItools/python-env/lib/python3.10/site-packages/threeML-2.4.3.dev1-py3.10.egg/threeML/__init__.py#387\" target=\"_blank\"><span style=\"color: #7f7f7f; text-decoration-color: #7f7f7f\">387</span></a>\n",
       "<span style=\"color: #00ff00; text-decoration-color: #00ff00\">         </span>         <span style=\"color: #c6c6c6; text-decoration-color: #c6c6c6; font-weight: bold\">performances in 3ML                                                               </span><span style=\"color: #7f7f7f; text-decoration-color: #7f7f7f\">               </span>\n",
       "</pre>\n"
      ],
      "text/plain": [
       "\u001b[38;5;46m        \u001b[0m\u001b[38;5;46m \u001b[0m\u001b[38;5;134mWARNING \u001b[0m \u001b[1;38;5;251m Env. variable MKL_NUM_THREADS is not set. Please set it to \u001b[0m\u001b[1;37m1\u001b[0m\u001b[1;38;5;251m for optimal        \u001b[0m\u001b[1;38;5;251m \u001b[0m\u001b]8;id=564919;file:///Users/ckierans/Software/COSItools/COSItools/python-env/lib/python3.10/site-packages/threeML-2.4.3.dev1-py3.10.egg/threeML/__init__.py\u001b\\\u001b[2m__init__.py\u001b[0m\u001b]8;;\u001b\\\u001b[2m:\u001b[0m\u001b]8;id=949463;file:///Users/ckierans/Software/COSItools/COSItools/python-env/lib/python3.10/site-packages/threeML-2.4.3.dev1-py3.10.egg/threeML/__init__.py#387\u001b\\\u001b[2m387\u001b[0m\u001b]8;;\u001b\\\n",
       "\u001b[38;5;46m         \u001b[0m         \u001b[1;38;5;251mperformances in 3ML                                                              \u001b[0m\u001b[1;38;5;251m \u001b[0m\u001b[2m               \u001b[0m\n"
      ]
     },
     "metadata": {},
     "output_type": "display_data"
    },
    {
     "data": {
      "text/html": [
       "<pre style=\"white-space:pre;overflow-x:auto;line-height:normal;font-family:Menlo,'DejaVu Sans Mono',consolas,'Courier New',monospace\"><span style=\"color: #00ff00; text-decoration-color: #00ff00\">         </span><span style=\"color: #af5fd7; text-decoration-color: #af5fd7\">WARNING </span> <span style=\"color: #c6c6c6; text-decoration-color: #c6c6c6; font-weight: bold\"> Env. variable NUMEXPR_NUM_THREADS is not set. Please set it to </span><span style=\"color: #c0c0c0; text-decoration-color: #c0c0c0; font-weight: bold\">1</span><span style=\"color: #c6c6c6; text-decoration-color: #c6c6c6; font-weight: bold\"> for optimal     </span><a href=\"file:///Users/ckierans/Software/COSItools/COSItools/python-env/lib/python3.10/site-packages/threeML-2.4.3.dev1-py3.10.egg/threeML/__init__.py\" target=\"_blank\"><span style=\"color: #7f7f7f; text-decoration-color: #7f7f7f\">__init__.py</span></a><span style=\"color: #7f7f7f; text-decoration-color: #7f7f7f\">:</span><a href=\"file:///Users/ckierans/Software/COSItools/COSItools/python-env/lib/python3.10/site-packages/threeML-2.4.3.dev1-py3.10.egg/threeML/__init__.py#387\" target=\"_blank\"><span style=\"color: #7f7f7f; text-decoration-color: #7f7f7f\">387</span></a>\n",
       "<span style=\"color: #00ff00; text-decoration-color: #00ff00\">         </span>         <span style=\"color: #c6c6c6; text-decoration-color: #c6c6c6; font-weight: bold\">performances in 3ML                                                               </span><span style=\"color: #7f7f7f; text-decoration-color: #7f7f7f\">               </span>\n",
       "</pre>\n"
      ],
      "text/plain": [
       "\u001b[38;5;46m        \u001b[0m\u001b[38;5;46m \u001b[0m\u001b[38;5;134mWARNING \u001b[0m \u001b[1;38;5;251m Env. variable NUMEXPR_NUM_THREADS is not set. Please set it to \u001b[0m\u001b[1;37m1\u001b[0m\u001b[1;38;5;251m for optimal    \u001b[0m\u001b[1;38;5;251m \u001b[0m\u001b]8;id=958992;file:///Users/ckierans/Software/COSItools/COSItools/python-env/lib/python3.10/site-packages/threeML-2.4.3.dev1-py3.10.egg/threeML/__init__.py\u001b\\\u001b[2m__init__.py\u001b[0m\u001b]8;;\u001b\\\u001b[2m:\u001b[0m\u001b]8;id=535805;file:///Users/ckierans/Software/COSItools/COSItools/python-env/lib/python3.10/site-packages/threeML-2.4.3.dev1-py3.10.egg/threeML/__init__.py#387\u001b\\\u001b[2m387\u001b[0m\u001b]8;;\u001b\\\n",
       "\u001b[38;5;46m         \u001b[0m         \u001b[1;38;5;251mperformances in 3ML                                                              \u001b[0m\u001b[1;38;5;251m \u001b[0m\u001b[2m               \u001b[0m\n"
      ]
     },
     "metadata": {},
     "output_type": "display_data"
    }
   ],
   "source": [
    "from histpy import Histogram, HealpixAxis, Axis, Axes\n",
    "from mhealpy import HealpixMap\n",
    "from astropy.coordinates import SkyCoord, cartesian_to_spherical, Galactic\n",
    "\n",
    "from cosipy.response import FullDetectorResponse\n",
    "from cosipy.spacecraftfile import SpacecraftFile\n",
    "from cosipy.ts_map.TSMap import TSMap\n",
    "from cosipy.data_io import UnBinnedData, BinnedData\n",
    "from cosipy.image_deconvolution import SpacecraftAttitudeExposureTable, CoordsysConversionMatrix, DataIF_COSI_DC2, ImageDeconvolution\n",
    "from cosipy.util import fetch_wasabi_file\n",
    "\n",
    "# cosipy uses astropy units\n",
    "import astropy.units as u\n",
    "from astropy.units import Quantity\n",
    "from astropy.coordinates import SkyCoord\n",
    "from astropy.time import Time\n",
    "from astropy.table import Table\n",
    "from astropy.io import fits\n",
    "from scoords import Attitude, SpacecraftFrame\n",
    "\n",
    "#3ML is needed for spectral modeling\n",
    "from threeML import *\n",
    "from astromodels import Band\n",
    "\n",
    "#Other standard libraries\n",
    "import os\n",
    "import numpy as np\n",
    "import matplotlib.pyplot as plt\n",
    "from matplotlib.gridspec import GridSpec \n",
    "\n",
    "import healpy as hp\n",
    "from tqdm.autonotebook import tqdm\n",
    "\n",
    "%matplotlib inline"
   ]
  },
  {
   "cell_type": "markdown",
   "id": "00f20cda-81f8-4685-b9c4-f9423e5ebcf7",
   "metadata": {
    "tags": []
   },
   "source": [
    "# 0. Files needed for this notebook\n",
    "\n",
    "From wasabi\n",
    "- cosi-pipeline-public/COSI-SMEX/DC2/Responses/PointSourceReponse/psr_gal_511_DC2.h5.gz (please gunzip it)\n",
    "    - a pre-computed 511 keV line response file converted into the Galactic coordinate system\n",
    "- cosi-pipeline-public/COSI-SMEX/DC2/Data/Sources/511_thin_disk_3months_unbinned_data.fits.gz\n",
    "- cosi-pipeline-public/COSI-SMEX/DC2/Data/Backgrounds/albedo_photons_3months_unbinned_data.fits.gz\n",
    "    - In this notebook, only the albedo gamma-ray background is considered for a tutorial.\n",
    "    - If you want to consider all of the background components, please replace it with cosi-pipeline-public/COSI-SMEX/DC2/Data/Backgrounds/total_bg_3months_unbinned_data.fits.gz\n",
    "    - Note that total_bg_3months_unbinned_data.fits.gz is 14.15 GB.\n",
    "\n",
    "From docs/tutorials/image_deconvolution/511keV/GalacticCDS\n",
    "- inputs_511keV_DC2.yaml\n",
    "- imagedeconvolution_parfile_gal_511keV.yml"
   ]
  },
  {
   "cell_type": "markdown",
   "id": "cbb84ad7-5fcb-4a56-abc3-6acac81c0879",
   "metadata": {},
   "source": [
    "You can download the data and detector response from wasabi. You can skip this cell if you already have downloaded the files."
   ]
  },
  {
   "cell_type": "code",
   "execution_count": null,
   "id": "b8681994-0892-4055-8417-b225194f6377",
   "metadata": {},
   "outputs": [],
   "source": [
    "# Response file:\n",
    "# wasabi path: COSI-SMEX/DC2/Responses/PointSourceReponse/psr_gal_511_DC2.h5.gz\n",
    "# File size: 3.82 GB\n",
    "fetch_wasabi_file('COSI-SMEX/DC2/Responses/PointSourceReponse/psr_gal_511_DC2.h5.gz')\n",
    "os.system('gunzip psr_gal_511_DC2.h5.gz')"
   ]
  },
  {
   "cell_type": "code",
   "execution_count": null,
   "id": "ae368f5f-2d30-4ba6-a152-c5bbb4187471",
   "metadata": {},
   "outputs": [],
   "source": [
    "# Source file (511 keV thin disk model):\n",
    "# wasabi path: COSI-SMEX/DC2/Data/Sources/511_thin_disk_3months_unbinned_data.fits.gz\n",
    "# File size: 202.45 MB\n",
    "fetch_wasabi_file('COSI-SMEX/DC2/Data/Sources/511_thin_disk_3months_unbinned_data.fits.gz')"
   ]
  },
  {
   "cell_type": "code",
   "execution_count": null,
   "id": "dddb7361-a523-42b4-93fe-da0b3ce75deb",
   "metadata": {},
   "outputs": [],
   "source": [
    "# Background file (albedo gamma):\n",
    "# wasabi path: COSI-SMEX/DC2/Data/Backgrounds/albedo_photons_3months_unbinned_data.fits.gz\n",
    "# File size: 2.69 GB\n",
    "fetch_wasabi_file('COSI-SMEX/DC2/Data/Backgrounds/albedo_photons_3months_unbinned_data.fits.gz')"
   ]
  },
  {
   "cell_type": "markdown",
   "id": "26d6eb3a",
   "metadata": {},
   "source": [
    "# 1. Create binned event/background files in the Galactic coordinate system\n",
    "\n",
    "<span style=\"color:red\"> please modify \"path_data\" corresponding to your environment.</span>"
   ]
  },
  {
   "cell_type": "code",
   "execution_count": 1,
   "id": "35f251d6-871d-4138-8709-e411d3a295a5",
   "metadata": {},
   "outputs": [],
   "source": [
    "path_data = \"/path/to/data/\"\n",
    "# exmaple\n",
    "# path_data = \"/Users/ckierans/Software/COSItools/COSItools/cosipy/docs/tutorials/image_deconvolution/511keV/GalacticCDS/\""
   ]
  },
  {
   "cell_type": "markdown",
   "id": "90fec91e-8209-4f03-bbe3-b9acb78682b8",
   "metadata": {},
   "source": [
    "**Source**"
   ]
  },
  {
   "cell_type": "code",
   "execution_count": 5,
   "id": "9cae1835-e54b-4720-b3a6-196c42cbd1ce",
   "metadata": {},
   "outputs": [
    {
     "name": "stdout",
     "output_type": "stream",
     "text": [
      "binning data...\n",
      "Time unit: s\n",
      "Em unit: keV\n",
      "Phi unit: deg\n",
      "PsiChi unit: None\n",
      "CPU times: user 5.28 s, sys: 175 ms, total: 5.45 s\n",
      "Wall time: 5.46 s\n"
     ]
    }
   ],
   "source": [
    "%%time\n",
    "\n",
    "signal_filepath = path_data + \"511_thin_disk_3months_unbinned_data.fits.gz\"\n",
    "\n",
    "binned_signal = BinnedData(input_yaml = \"inputs_511keV_DC2.yaml\")\n",
    "\n",
    "binned_signal.get_binned_data(unbinned_data = signal_filepath, psichi_binning=\"galactic\")"
   ]
  },
  {
   "cell_type": "markdown",
   "id": "3544076d-3475-48d6-9aec-55dab18567c2",
   "metadata": {},
   "source": [
    "**Background**"
   ]
  },
  {
   "cell_type": "code",
   "execution_count": 6,
   "id": "801ba251-96e0-4243-8f55-1678823f1d58",
   "metadata": {},
   "outputs": [
    {
     "name": "stdout",
     "output_type": "stream",
     "text": [
      "binning data...\n",
      "Time unit: s\n",
      "Em unit: keV\n",
      "Phi unit: deg\n",
      "PsiChi unit: None\n",
      "CPU times: user 1min 17s, sys: 2.61 s, total: 1min 20s\n",
      "Wall time: 1min 20s\n"
     ]
    }
   ],
   "source": [
    "%%time\n",
    "\n",
    "bkg_filepath = path_data + \"albedo_photons_3months_unbinned_data.fits.gz\"\n",
    "\n",
    "binned_bkg = BinnedData(input_yaml = \"inputs_511keV_DC2.yaml\")\n",
    "\n",
    "binned_bkg.get_binned_data(unbinned_data = bkg_filepath, psichi_binning=\"galactic\")"
   ]
  },
  {
   "cell_type": "markdown",
   "id": "4eb8577f-d394-49b9-a13f-a527d4512f77",
   "metadata": {},
   "source": [
    "Convert the data into sparse matrices & add the signal to the background"
   ]
  },
  {
   "cell_type": "code",
   "execution_count": 7,
   "id": "f224b957-d0df-4b4b-98dd-90d3a5bda3fb",
   "metadata": {},
   "outputs": [],
   "source": [
    "signal = binned_signal.binned_data.to_dense()\n",
    "bkg = binned_bkg.binned_data.to_dense()\n",
    "event = signal + bkg"
   ]
  },
  {
   "cell_type": "markdown",
   "id": "217e40dd-5587-4c43-bb77-44ddba2a8dbb",
   "metadata": {},
   "source": [
    "Save the binned histograms"
   ]
  },
  {
   "cell_type": "code",
   "execution_count": 8,
   "id": "24289425-380b-4d26-a7c0-cbbd5c58e7b2",
   "metadata": {},
   "outputs": [],
   "source": [
    "signal.write(\"511keV_dc2_galactic_signal.hdf5\", overwrite = True)\n",
    "bkg.write(\"511keV_dc2_galactic_bkg.hdf5\", overwrite = True)\n",
    "event.write(\"511keV_dc2_galactic_event.hdf5\", overwrite = True)"
   ]
  },
  {
   "cell_type": "markdown",
   "id": "badfd194-59f0-46d4-90b3-73cce60207c8",
   "metadata": {},
   "source": [
    "Load the saved files"
   ]
  },
  {
   "cell_type": "code",
   "execution_count": 9,
   "id": "e0f3dcae-5d3c-45af-931d-057d5681859c",
   "metadata": {},
   "outputs": [],
   "source": [
    "signal = Histogram.open(\"511keV_dc2_galactic_signal.hdf5\")\n",
    "bkg = Histogram.open(\"511keV_dc2_galactic_bkg.hdf5\")\n",
    "event = Histogram.open(\"511keV_dc2_galactic_event.hdf5\")"
   ]
  },
  {
   "cell_type": "markdown",
   "id": "0e7bb933-0ec0-47af-a18c-ac241abfea82",
   "metadata": {},
   "source": [
    "In DC2, the number of time bins should be 1 when you perform the image deconvolution using the Galactic CDS.\n",
    "It is because the pre-computed response files in the galactic coordinate have no time axis, and all of the events are assumed to be projected into a single Galactic CDS.\n",
    "In the future, we plan to introduce more flexible binning."
   ]
  },
  {
   "cell_type": "code",
   "execution_count": 10,
   "id": "88efdbfa-aa5e-40b3-bdd6-2635946318e4",
   "metadata": {},
   "outputs": [
    {
     "data": {
      "text/latex": [
       "$[1.8354873 \\times 10^{9},~1.8434673 \\times 10^{9}] \\; \\mathrm{s}$"
      ],
      "text/plain": [
       "<Quantity [1.83548730e+09, 1.84346726e+09] s>"
      ]
     },
     "execution_count": 10,
     "metadata": {},
     "output_type": "execute_result"
    }
   ],
   "source": [
    "bkg.axes['Time'].edges"
   ]
  },
  {
   "cell_type": "markdown",
   "id": "6c259412",
   "metadata": {},
   "source": [
    "# 2. Load the response matrix"
   ]
  },
  {
   "cell_type": "code",
   "execution_count": 11,
   "id": "b5b295cf-0a96-4501-aa4e-4182a21dfe63",
   "metadata": {},
   "outputs": [
    {
     "name": "stdout",
     "output_type": "stream",
     "text": [
      "CPU times: user 2.99 s, sys: 15.6 s, total: 18.6 s\n",
      "Wall time: 25.2 s\n"
     ]
    }
   ],
   "source": [
    "%%time\n",
    "\n",
    "response_path = path_data + \"psr_gal_511_DC2.h5\"\n",
    "\n",
    "image_response = Histogram.open(response_path)"
   ]
  },
  {
   "cell_type": "code",
   "execution_count": 12,
   "id": "fbdbd818-8a58-4d25-a657-d43fc7f88ea4",
   "metadata": {},
   "outputs": [
    {
     "data": {
      "text/plain": [
       "array(['NuLambda', 'Ei', 'Em', 'Phi', 'PsiChi'], dtype='<U8')"
      ]
     },
     "execution_count": 12,
     "metadata": {},
     "output_type": "execute_result"
    }
   ],
   "source": [
    "image_response.axes.labels"
   ]
  },
  {
   "cell_type": "code",
   "execution_count": 13,
   "id": "d60c7d40-0486-44c2-921b-423b9017dbeb",
   "metadata": {},
   "outputs": [
    {
     "data": {
      "text/plain": [
       "(3072, 1, 1, 60, 3072)"
      ]
     },
     "execution_count": 13,
     "metadata": {},
     "output_type": "execute_result"
    }
   ],
   "source": [
    "image_response.contents.shape"
   ]
  },
  {
   "cell_type": "markdown",
   "id": "31ec05ad-90b7-4fad-9ad0-98cfd6483d41",
   "metadata": {},
   "source": [
    "# 3. Imaging deconvolution"
   ]
  },
  {
   "cell_type": "markdown",
   "id": "6e88ca7f",
   "metadata": {
    "jp-MarkdownHeadingCollapsed": true
   },
   "source": [
    "## Brief overview of the image deconvolution\n",
    "\n",
    "Basically, we have to maximize the following likelihood function\n",
    "\n",
    "$$\n",
    "\\log L = \\sum_i X_i \\log \\epsilon_i - \\sum_i \\epsilon_i\n",
    "$$\n",
    "\n",
    "$X_i$: detected counts at $i$-th bin ( $i$ : index of the Compton Data Space)\n",
    "\n",
    "$\\epsilon_i = \\sum_j R_{ij} \\lambda_j + b_i$ : expected counts ( $j$ : index of the model space)\n",
    "\n",
    "$\\lambda_j$ : the model map (basically gamma-ray flux at $j$-th pixel)\n",
    "\n",
    "$b_i$ : the background at $i$-th bin\n",
    "\n",
    "$R_{ij}$ : the response matrix\n",
    "\n",
    "Since we have to optimize the flux in each pixel, and the number of parameters is large, we adopt an iterative approach to find a solution of the above equation. The simplest one is the ML-EM (Maximum Likelihood Expectation Maximization) algorithm. It is also known as the Richardson-Lucy algorithm.\n",
    "\n",
    "$$\n",
    "\\lambda_{j}^{k+1} = \\lambda_{j}^{k} + \\delta \\lambda_{j}^{k}\n",
    "$$\n",
    "$$\n",
    "\\delta \\lambda_{j}^{k} = \\frac{\\lambda_{j}^{k}}{\\sum_{i} R_{ij}} \\sum_{i} \\left(\\frac{ X_{i} }{\\epsilon_{i}} - 1 \\right) R_{ij} \n",
    "$$\n",
    "\n",
    "We refer to $\\delta \\lambda_{j}^{k}$ as the delta map.\n",
    "\n",
    "As for now, the two improved algorithms are implemented in COSIpy.\n",
    "\n",
    "- Accelerated ML-EM algorithm (Knoedlseder+99)\n",
    "\n",
    "$$\n",
    "\\lambda_{j}^{k+1} = \\lambda_{j}^{k} + \\alpha^{k} \\delta \\lambda_{j}^{k}\n",
    "$$\n",
    "$$\n",
    "\\alpha^{k} < \\mathrm{max}(- \\lambda_{j}^{k} / \\delta \\lambda_{j}^{k})\n",
    "$$\n",
    "\n",
    "Practically, in order not to accelerate the algorithm excessively, we set the maximum value of $\\alpha$ ($\\alpha_{\\mathrm{max}}$). Then, $\\alpha$ is calculated as:\n",
    "\n",
    "$$\n",
    "\\alpha^{k} = \\mathrm{min}(\\mathrm{max}(- \\lambda_{j}^{k} / \\delta \\lambda_{j}^{k}), \\alpha_{\\mathrm{max}})\n",
    "$$\n",
    "\n",
    "- Noise damping using gaussian smoothing (Knoedlseder+05, Siegert+20)\n",
    "\n",
    "$$\n",
    "\\lambda_{j}^{k+1} = \\lambda_{j}^{k} + \\alpha^{k} \\left[ w_j \\delta \\lambda_{j}^{k} \\right]_{\\mathrm{gauss}}\n",
    "$$\n",
    "$$\n",
    "w_j = \\left(\\sum_{i} R_{ij}\\right)^\\beta\n",
    "$$\n",
    "\n",
    "$\\left[ ... \\right]_{\\mathrm{gauss}}$ means that the differential image is smoothed by a gaussian filter."
   ]
  },
  {
   "cell_type": "markdown",
   "id": "e0a2582e",
   "metadata": {},
   "source": [
    "## 3-1. Prepare DataInterface containing all necessary datasets"
   ]
  },
  {
   "cell_type": "code",
   "execution_count": 14,
   "id": "de8055f7-4aab-4a17-8751-42493f9e88d6",
   "metadata": {},
   "outputs": [
    {
     "name": "stdout",
     "output_type": "stream",
     "text": [
      "... checking the axis Em of the event and background files...\n",
      "    --> pass (edges)\n",
      "... checking the axis Phi of the event and background files...\n",
      "    --> pass (edges)\n",
      "... checking the axis PsiChi of the event and background files...\n",
      "    --> pass (edges)\n",
      "...checking the axis Em of the event and response files...\n",
      "    --> pass (edges)\n",
      "...checking the axis Phi of the event and response files...\n",
      "    --> pass (edges)\n",
      "...checking the axis PsiChi of the event and response files...\n",
      "    --> pass (edges)\n",
      "The axes in the event and background files are redefined. Now they are consistent with those of the response file.\n",
      "Calculating an exposure map...\n",
      "Finished...\n",
      "CPU times: user 188 ms, sys: 272 ms, total: 461 ms\n",
      "Wall time: 459 ms\n"
     ]
    }
   ],
   "source": [
    "%%time\n",
    "\n",
    "data_interface = DataIF_COSI_DC2.load(name = \"511keV\",\n",
    "                                      event_binned_data = event.project(['Em', 'Phi', 'PsiChi']),\n",
    "                                      dict_bkg_binned_data = {\"albedo\": bkg.project(['Em', 'Phi', 'PsiChi'])},\n",
    "                                      rsp = image_response,\n",
    "                                      coordsys_conv_matrix=None,\n",
    "                                      is_miniDC2_format=False)"
   ]
  },
  {
   "cell_type": "markdown",
   "id": "b1a0269e",
   "metadata": {},
   "source": [
    "## 3-2. Initialize the instance of the image deconvolution class\n",
    "\n",
    "First, we prepare an instance of the ImageDeconvolution class and then register the dataset and parameters for the deconvolution. After that, you can start the calculation."
   ]
  },
  {
   "cell_type": "markdown",
   "id": "79eb910c",
   "metadata": {},
   "source": [
    "<span style=\"color:red\"> please modify this parameter_filepath corresponding to your environment.</span>"
   ]
  },
  {
   "cell_type": "code",
   "execution_count": 15,
   "id": "5fa73486",
   "metadata": {},
   "outputs": [],
   "source": [
    "parameter_filepath = \"imagedeconvolution_parfile_gal_511keV.yml\""
   ]
  },
  {
   "cell_type": "code",
   "execution_count": 16,
   "id": "a4b47308-3e13-400d-bebc-b5d1e093201d",
   "metadata": {},
   "outputs": [],
   "source": [
    "image_deconvolution = ImageDeconvolution()\n",
    "\n",
    "# set data_interface to image_deconvolution\n",
    "image_deconvolution.set_dataset([data_interface])\n",
    "\n",
    "# set a parameter file for the image deconvolution\n",
    "image_deconvolution.read_parameterfile(parameter_filepath)"
   ]
  },
  {
   "cell_type": "markdown",
   "id": "a2345d9d",
   "metadata": {},
   "source": [
    "### Initialize image_deconvolution\n",
    "\n",
    "In this process, a model map is defined following the input parameters, and it is initialized. Also, it prepares ancillary data for the image deconvolution, e.g., the expected counts with the initial model map, gaussian smoothing filter etc.\n",
    "\n",
    "I describe parameters in the parameter file.\n",
    "\n",
    "#### model_property\n",
    "\n",
    "| Name | Unit | Description | Notes |\n",
    "| :---: | :---: | :---: | :---: |\n",
    "| coordinate | str | the coordinate system of the model map | As for now, it must be 'galactic' |\n",
    "| nside | int | NSIDE of the model map | it must be the same as NSIDE of 'lb' axis of the coordinate conversion matrix|\n",
    "| scheme | str | SCHEME of the model map | As for now, it must be 'ring' |\n",
    "| energy_edges | list of float [keV] | The definition of the energy bins of the model map | As for now, it must be the same as that of the response matrix |\n",
    "\n",
    "#### model_initialization\n",
    "\n",
    "| Name | Unit | Description | Notes |\n",
    "| :---: | :---: | :---: | :---: |\n",
    "| algorithm | str | the method name to initialize the model map | As for now, only 'flat' can be used |\n",
    "| parameter_flat:values | list of float [cm-2 s-1 sr-1] | the list of photon fluxes for each energy band | the length of the list should be the same as the length of \"energy_edges\" - 1 |\n",
    "\n",
    "#### deconvolution\n",
    "\n",
    "| Name | Unit | Description | Notes |\n",
    "| :---: | :---: | :---: | :---: |\n",
    "|algorithm | str | the name of the image deconvolution algorithm| As for now, only 'RL' is supported |\n",
    "|||||\n",
    "|parameter_RL:iteration | int | The maximum number of the iteration | |\n",
    "|parameter_RL:acceleration | bool | whether the accelerated ML-EM algorithm (Knoedlseder+99) is used | |\n",
    "|parameter_RL:alpha_max | float | the maximum value for the acceleration parameter | |\n",
    "|parameter_RL:save_results_each_iteration | bool | whether an updated model map, detal map, likelihood etc. are saved at the end of each iteration | |\n",
    "|parameter_RL:response_weighting | bool | whether a delta map is renormalized based on the exposure time on each pixel, namely $w_j = (\\sum_{i} R_{ij})^{\\beta}$ (see Knoedlseder+05, Siegert+20) | |\n",
    "|parameter_RL:response_weighting_index | float | $\\beta$ in the above equation | |\n",
    "|parameter_RL:smoothing | bool | whether a Gaussian filter is used (see Knoedlseder+05, Siegert+20)  | |\n",
    "|parameter_RL:smoothing_FWHM | float, degree | the FWHM of the Gaussian in the filter | |\n",
    "|parameter_RL:background_normalization_fitting | bool | whether the background normalization factor is optimized at each iteration | As for now, the single background normalization factor is used in all of the bins |\n",
    "|parameter_RL:background_normalization_range | list of float | the range of the normalization factor | should be positive |"
   ]
  },
  {
   "cell_type": "code",
   "execution_count": 18,
   "id": "879053e3-ac7b-4a0a-ad58-24e3fb137065",
   "metadata": {},
   "outputs": [],
   "source": [
    "image_deconvolution.initialize()"
   ]
  },
  {
   "cell_type": "markdown",
   "id": "5fa48a9c",
   "metadata": {},
   "source": [
    "### (You can change the parameters as follows)\n",
    "\n",
    "Note that when you modify the parameters, do not forget to run \"initialize\" again!"
   ]
  },
  {
   "cell_type": "code",
   "execution_count": 26,
   "id": "1a658d2a-4dee-4d05-83ae-d7ac06317c73",
   "metadata": {},
   "outputs": [
    {
     "name": "stdout",
     "output_type": "stream",
     "text": [
      "#### Initialization Starts ####\n",
      "<< Instantiating the model class AllSkyImage >>\n",
      "---- parameters ----\n",
      "coordinate: galactic\n",
      "energy_edges:\n",
      "  unit: keV\n",
      "  value:\n",
      "  - 509.0\n",
      "  - 513.0\n",
      "nside: 16\n",
      "scheme: ring\n",
      "unit: cm-2 s-1 sr-1\n",
      "\n",
      "<< Setting initial values of the created model object >>\n",
      "---- parameters ----\n",
      "algorithm: flat\n",
      "parameter:\n",
      "  unit: cm-2 s-1 sr-1\n",
      "  value:\n",
      "  - 1e-4\n",
      "\n",
      "<< Registering the deconvolution algorithm >>\n",
      "Gaussian filter with FWHM of 2.0 deg will be applied to delta images ...\n",
      "---- parameters ----\n",
      "algorithm: RL\n",
      "parameter:\n",
      "  acceleration: true\n",
      "  alpha_max: 2.0\n",
      "  background_normalization_optimization: true\n",
      "  background_normalization_range:\n",
      "    albedo:\n",
      "    - 0.01\n",
      "    - 10.0\n",
      "  iteration_max: 50\n",
      "  response_weighting: false\n",
      "  response_weighting_index: 0.5\n",
      "  save_results: false\n",
      "  save_results_directory: ./results\n",
      "  smoothing: true\n",
      "  smoothing_FWHM:\n",
      "    unit: deg\n",
      "    value: 2.0\n",
      "\n",
      "#### Initialization Finished ####\n"
     ]
    }
   ],
   "source": [
    "image_deconvolution.override_parameter(\"deconvolution:parameter:iteration_max = 50\")\n",
    "image_deconvolution.override_parameter(\"deconvolution:parameter:background_normalization_optimization = True\")\n",
    "image_deconvolution.override_parameter(\"deconvolution:parameter:alpha_max = 2.0\")\n",
    "image_deconvolution.override_parameter(\"deconvolution:parameter:smoothing = True\")\n",
    "image_deconvolution.override_parameter(\"deconvolution:parameter:response_weighting = False\")\n",
    "\n",
    "image_deconvolution.initialize()"
   ]
  },
  {
   "cell_type": "markdown",
   "id": "f764066e",
   "metadata": {},
   "source": [
    "## 3-3. Start the image deconvolution\n",
    "\n",
    "**With MacBook Pro with M1 Max and 64 GB memory, it takes about 1.5 minutes for 50 iterations.**"
   ]
  },
  {
   "cell_type": "code",
   "execution_count": 27,
   "id": "a57fbf71-2fcc-48c4-9ac7-4c545dca67c9",
   "metadata": {
    "scrolled": true
   },
   "outputs": [
    {
     "name": "stdout",
     "output_type": "stream",
     "text": [
      "#### Image Deconvolution Starts ####\n",
      "<< Initialization >>\n",
      "The expected count histograms were calculated with the initial model map.\n"
     ]
    },
    {
     "data": {
      "application/vnd.jupyter.widget-view+json": {
       "model_id": "0f4bac0060a94b2d814085ee814c8895",
       "version_major": 2,
       "version_minor": 0
      },
      "text/plain": [
       "  0%|          | 0/50 [00:00<?, ?it/s]"
      ]
     },
     "metadata": {},
     "output_type": "display_data"
    },
    {
     "name": "stdout",
     "output_type": "stream",
     "text": [
      "## Iteration 1/50 ##\n",
      "<< Pre-processing >>\n",
      "<< E-step >>\n",
      "<< M-step >>\n",
      "<< Post-processing >>\n"
     ]
    },
    {
     "name": "stderr",
     "output_type": "stream",
     "text": [
      "\n",
      "WARNING RuntimeWarning: invalid value encountered in divide\n",
      "\n"
     ]
    },
    {
     "name": "stdout",
     "output_type": "stream",
     "text": [
      "<< Registering Result >>\n",
      "  alpha: 2.0\n",
      "  background_normalization: {'albedo': 1.190086058358472}\n",
      "  loglikelihood: [389617.2136947188]\n",
      "<< Checking Stopping Criteria >>\n",
      "--> Continue\n",
      "## Iteration 2/50 ##\n",
      "<< Pre-processing >>\n",
      "<< E-step >>\n",
      "<< M-step >>\n",
      "<< Post-processing >>\n"
     ]
    },
    {
     "name": "stderr",
     "output_type": "stream",
     "text": [
      "\n",
      "WARNING RuntimeWarning: invalid value encountered in divide\n",
      "\n"
     ]
    },
    {
     "name": "stdout",
     "output_type": "stream",
     "text": [
      "<< Registering Result >>\n",
      "  alpha: 2.0\n",
      "  background_normalization: {'albedo': 1.1025324281907354}\n",
      "  loglikelihood: [397956.03401981713]\n",
      "<< Checking Stopping Criteria >>\n",
      "--> Continue\n",
      "## Iteration 3/50 ##\n",
      "<< Pre-processing >>\n",
      "<< E-step >>\n",
      "<< M-step >>\n",
      "<< Post-processing >>\n"
     ]
    },
    {
     "name": "stderr",
     "output_type": "stream",
     "text": [
      "\n",
      "WARNING RuntimeWarning: invalid value encountered in divide\n",
      "\n"
     ]
    },
    {
     "name": "stdout",
     "output_type": "stream",
     "text": [
      "<< Registering Result >>\n",
      "  alpha: 2.0\n",
      "  background_normalization: {'albedo': 1.0758276259746022}\n",
      "  loglikelihood: [404465.79229713255]\n",
      "<< Checking Stopping Criteria >>\n",
      "--> Continue\n",
      "## Iteration 4/50 ##\n",
      "<< Pre-processing >>\n",
      "<< E-step >>\n",
      "<< M-step >>\n",
      "<< Post-processing >>\n"
     ]
    },
    {
     "name": "stderr",
     "output_type": "stream",
     "text": [
      "\n",
      "WARNING RuntimeWarning: invalid value encountered in divide\n",
      "\n"
     ]
    },
    {
     "name": "stdout",
     "output_type": "stream",
     "text": [
      "<< Registering Result >>\n",
      "  alpha: 2.0\n",
      "  background_normalization: {'albedo': 1.0351083727070371}\n",
      "  loglikelihood: [409349.2311250953]\n",
      "<< Checking Stopping Criteria >>\n",
      "--> Continue\n",
      "## Iteration 5/50 ##\n",
      "<< Pre-processing >>\n",
      "<< E-step >>\n",
      "<< M-step >>\n",
      "<< Post-processing >>\n"
     ]
    },
    {
     "name": "stderr",
     "output_type": "stream",
     "text": [
      "\n",
      "WARNING RuntimeWarning: invalid value encountered in divide\n",
      "\n"
     ]
    },
    {
     "name": "stdout",
     "output_type": "stream",
     "text": [
      "<< Registering Result >>\n",
      "  alpha: 2.0\n",
      "  background_normalization: {'albedo': 1.0068426388311662}\n",
      "  loglikelihood: [412598.8144636641]\n",
      "<< Checking Stopping Criteria >>\n",
      "--> Continue\n",
      "## Iteration 6/50 ##\n",
      "<< Pre-processing >>\n",
      "<< E-step >>\n",
      "<< M-step >>\n",
      "<< Post-processing >>\n"
     ]
    },
    {
     "name": "stderr",
     "output_type": "stream",
     "text": [
      "\n",
      "WARNING RuntimeWarning: invalid value encountered in divide\n",
      "\n"
     ]
    },
    {
     "name": "stdout",
     "output_type": "stream",
     "text": [
      "<< Registering Result >>\n",
      "  alpha: 2.0\n",
      "  background_normalization: {'albedo': 0.985203525561772}\n",
      "  loglikelihood: [414612.16809888487]\n",
      "<< Checking Stopping Criteria >>\n",
      "--> Continue\n",
      "## Iteration 7/50 ##\n",
      "<< Pre-processing >>\n",
      "<< E-step >>\n",
      "<< M-step >>\n",
      "<< Post-processing >>\n"
     ]
    },
    {
     "name": "stderr",
     "output_type": "stream",
     "text": [
      "\n",
      "WARNING RuntimeWarning: invalid value encountered in divide\n",
      "\n"
     ]
    },
    {
     "name": "stdout",
     "output_type": "stream",
     "text": [
      "<< Registering Result >>\n",
      "  alpha: 2.0\n",
      "  background_normalization: {'albedo': 0.9720377178625392}\n",
      "  loglikelihood: [415831.16018643277]\n",
      "<< Checking Stopping Criteria >>\n",
      "--> Continue\n",
      "## Iteration 8/50 ##\n",
      "<< Pre-processing >>\n",
      "<< E-step >>\n",
      "<< M-step >>\n",
      "<< Post-processing >>\n"
     ]
    },
    {
     "name": "stderr",
     "output_type": "stream",
     "text": [
      "\n",
      "WARNING RuntimeWarning: invalid value encountered in divide\n",
      "\n"
     ]
    },
    {
     "name": "stdout",
     "output_type": "stream",
     "text": [
      "<< Registering Result >>\n",
      "  alpha: 2.0\n",
      "  background_normalization: {'albedo': 0.9647474618329356}\n",
      "  loglikelihood: [416595.9482775979]\n",
      "<< Checking Stopping Criteria >>\n",
      "--> Continue\n",
      "## Iteration 9/50 ##\n",
      "<< Pre-processing >>\n",
      "<< E-step >>\n",
      "<< M-step >>\n",
      "<< Post-processing >>\n"
     ]
    },
    {
     "name": "stderr",
     "output_type": "stream",
     "text": [
      "\n",
      "WARNING RuntimeWarning: invalid value encountered in divide\n",
      "\n"
     ]
    },
    {
     "name": "stdout",
     "output_type": "stream",
     "text": [
      "<< Registering Result >>\n",
      "  alpha: 2.0\n",
      "  background_normalization: {'albedo': 0.96179059753804}\n",
      "  loglikelihood: [417110.42937655863]\n",
      "<< Checking Stopping Criteria >>\n",
      "--> Continue\n",
      "## Iteration 10/50 ##\n",
      "<< Pre-processing >>\n",
      "<< E-step >>\n",
      "<< M-step >>\n",
      "<< Post-processing >>\n"
     ]
    },
    {
     "name": "stderr",
     "output_type": "stream",
     "text": [
      "\n",
      "WARNING RuntimeWarning: invalid value encountered in divide\n",
      "\n"
     ]
    },
    {
     "name": "stdout",
     "output_type": "stream",
     "text": [
      "<< Registering Result >>\n",
      "  alpha: 2.0\n",
      "  background_normalization: {'albedo': 0.9614346226442251}\n",
      "  loglikelihood: [417483.5951876107]\n",
      "<< Checking Stopping Criteria >>\n",
      "--> Continue\n",
      "## Iteration 11/50 ##\n",
      "<< Pre-processing >>\n",
      "<< E-step >>\n",
      "<< M-step >>\n",
      "<< Post-processing >>\n"
     ]
    },
    {
     "name": "stderr",
     "output_type": "stream",
     "text": [
      "\n",
      "WARNING RuntimeWarning: invalid value encountered in divide\n",
      "\n"
     ]
    },
    {
     "name": "stdout",
     "output_type": "stream",
     "text": [
      "<< Registering Result >>\n",
      "  alpha: 2.0\n",
      "  background_normalization: {'albedo': 0.9625811931366157}\n",
      "  loglikelihood: [417771.05307625665]\n",
      "<< Checking Stopping Criteria >>\n",
      "--> Continue\n",
      "## Iteration 12/50 ##\n",
      "<< Pre-processing >>\n",
      "<< E-step >>\n",
      "<< M-step >>\n",
      "<< Post-processing >>\n"
     ]
    },
    {
     "name": "stderr",
     "output_type": "stream",
     "text": [
      "\n",
      "WARNING RuntimeWarning: invalid value encountered in divide\n",
      "\n"
     ]
    },
    {
     "name": "stdout",
     "output_type": "stream",
     "text": [
      "<< Registering Result >>\n",
      "  alpha: 2.0\n",
      "  background_normalization: {'albedo': 0.9644431490495357}\n",
      "  loglikelihood: [418001.8934904755]\n",
      "<< Checking Stopping Criteria >>\n",
      "--> Continue\n",
      "## Iteration 13/50 ##\n",
      "<< Pre-processing >>\n",
      "<< E-step >>\n",
      "<< M-step >>\n",
      "<< Post-processing >>\n"
     ]
    },
    {
     "name": "stderr",
     "output_type": "stream",
     "text": [
      "\n",
      "WARNING RuntimeWarning: invalid value encountered in divide\n",
      "\n"
     ]
    },
    {
     "name": "stdout",
     "output_type": "stream",
     "text": [
      "<< Registering Result >>\n",
      "  alpha: 2.0\n",
      "  background_normalization: {'albedo': 0.9665640085606375}\n",
      "  loglikelihood: [418192.437276936]\n",
      "<< Checking Stopping Criteria >>\n",
      "--> Continue\n",
      "## Iteration 14/50 ##\n",
      "<< Pre-processing >>\n",
      "<< E-step >>\n",
      "<< M-step >>\n",
      "<< Post-processing >>\n"
     ]
    },
    {
     "name": "stderr",
     "output_type": "stream",
     "text": [
      "\n",
      "WARNING RuntimeWarning: invalid value encountered in divide\n",
      "\n"
     ]
    },
    {
     "name": "stdout",
     "output_type": "stream",
     "text": [
      "<< Registering Result >>\n",
      "  alpha: 2.0\n",
      "  background_normalization: {'albedo': 0.968674119395793}\n",
      "  loglikelihood: [418352.7239098068]\n",
      "<< Checking Stopping Criteria >>\n",
      "--> Continue\n",
      "## Iteration 15/50 ##\n",
      "<< Pre-processing >>\n",
      "<< E-step >>\n",
      "<< M-step >>\n",
      "<< Post-processing >>\n"
     ]
    },
    {
     "name": "stderr",
     "output_type": "stream",
     "text": [
      "\n",
      "WARNING RuntimeWarning: invalid value encountered in divide\n",
      "\n"
     ]
    },
    {
     "name": "stdout",
     "output_type": "stream",
     "text": [
      "<< Registering Result >>\n",
      "  alpha: 2.0\n",
      "  background_normalization: {'albedo': 0.9706382394572993}\n",
      "  loglikelihood: [418489.4613060552]\n",
      "<< Checking Stopping Criteria >>\n",
      "--> Continue\n",
      "## Iteration 16/50 ##\n",
      "<< Pre-processing >>\n",
      "<< E-step >>\n",
      "<< M-step >>\n",
      "<< Post-processing >>\n"
     ]
    },
    {
     "name": "stderr",
     "output_type": "stream",
     "text": [
      "\n",
      "WARNING RuntimeWarning: invalid value encountered in divide\n",
      "\n"
     ]
    },
    {
     "name": "stdout",
     "output_type": "stream",
     "text": [
      "<< Registering Result >>\n",
      "  alpha: 2.0\n",
      "  background_normalization: {'albedo': 0.9723958488565392}\n",
      "  loglikelihood: [418607.41669238976]\n",
      "<< Checking Stopping Criteria >>\n",
      "--> Continue\n",
      "## Iteration 17/50 ##\n",
      "<< Pre-processing >>\n",
      "<< E-step >>\n",
      "<< M-step >>\n",
      "<< Post-processing >>\n"
     ]
    },
    {
     "name": "stderr",
     "output_type": "stream",
     "text": [
      "\n",
      "WARNING RuntimeWarning: invalid value encountered in divide\n",
      "\n"
     ]
    },
    {
     "name": "stdout",
     "output_type": "stream",
     "text": [
      "<< Registering Result >>\n",
      "  alpha: 2.0\n",
      "  background_normalization: {'albedo': 0.9739318224750361}\n",
      "  loglikelihood: [418710.11975533504]\n",
      "<< Checking Stopping Criteria >>\n",
      "--> Continue\n",
      "## Iteration 18/50 ##\n",
      "<< Pre-processing >>\n",
      "<< E-step >>\n",
      "<< M-step >>\n",
      "<< Post-processing >>\n"
     ]
    },
    {
     "name": "stderr",
     "output_type": "stream",
     "text": [
      "\n",
      "WARNING RuntimeWarning: invalid value encountered in divide\n",
      "\n"
     ]
    },
    {
     "name": "stdout",
     "output_type": "stream",
     "text": [
      "<< Registering Result >>\n",
      "  alpha: 2.0\n",
      "  background_normalization: {'albedo': 0.9752543193453539}\n",
      "  loglikelihood: [418800.25712405774]\n",
      "<< Checking Stopping Criteria >>\n",
      "--> Continue\n",
      "## Iteration 19/50 ##\n",
      "<< Pre-processing >>\n",
      "<< E-step >>\n",
      "<< M-step >>\n",
      "<< Post-processing >>\n"
     ]
    },
    {
     "name": "stderr",
     "output_type": "stream",
     "text": [
      "\n",
      "WARNING RuntimeWarning: invalid value encountered in divide\n",
      "\n"
     ]
    },
    {
     "name": "stdout",
     "output_type": "stream",
     "text": [
      "<< Registering Result >>\n",
      "  alpha: 2.0\n",
      "  background_normalization: {'albedo': 0.976383176028062}\n",
      "  loglikelihood: [418879.9151851268]\n",
      "<< Checking Stopping Criteria >>\n",
      "--> Continue\n",
      "## Iteration 20/50 ##\n",
      "<< Pre-processing >>\n",
      "<< E-step >>\n",
      "<< M-step >>\n",
      "<< Post-processing >>\n"
     ]
    },
    {
     "name": "stderr",
     "output_type": "stream",
     "text": [
      "\n",
      "WARNING RuntimeWarning: invalid value encountered in divide\n",
      "\n"
     ]
    },
    {
     "name": "stdout",
     "output_type": "stream",
     "text": [
      "<< Registering Result >>\n",
      "  alpha: 2.0\n",
      "  background_normalization: {'albedo': 0.9773425535653221}\n",
      "  loglikelihood: [418950.7409154264]\n",
      "<< Checking Stopping Criteria >>\n",
      "--> Continue\n",
      "## Iteration 21/50 ##\n",
      "<< Pre-processing >>\n",
      "<< E-step >>\n",
      "<< M-step >>\n",
      "<< Post-processing >>\n"
     ]
    },
    {
     "name": "stderr",
     "output_type": "stream",
     "text": [
      "\n",
      "WARNING RuntimeWarning: invalid value encountered in divide\n",
      "\n"
     ]
    },
    {
     "name": "stdout",
     "output_type": "stream",
     "text": [
      "<< Registering Result >>\n",
      "  alpha: 2.0\n",
      "  background_normalization: {'albedo': 0.9781571581196771}\n",
      "  loglikelihood: [419014.0532866346]\n",
      "<< Checking Stopping Criteria >>\n",
      "--> Continue\n",
      "## Iteration 22/50 ##\n",
      "<< Pre-processing >>\n",
      "<< E-step >>\n",
      "<< M-step >>\n",
      "<< Post-processing >>\n"
     ]
    },
    {
     "name": "stderr",
     "output_type": "stream",
     "text": [
      "\n",
      "WARNING RuntimeWarning: invalid value encountered in divide\n",
      "\n"
     ]
    },
    {
     "name": "stdout",
     "output_type": "stream",
     "text": [
      "<< Registering Result >>\n",
      "  alpha: 2.0\n",
      "  background_normalization: {'albedo': 0.9788501802820855}\n",
      "  loglikelihood: [419070.9226045032]\n",
      "<< Checking Stopping Criteria >>\n",
      "--> Continue\n",
      "## Iteration 23/50 ##\n",
      "<< Pre-processing >>\n",
      "<< E-step >>\n",
      "<< M-step >>\n",
      "<< Post-processing >>\n"
     ]
    },
    {
     "name": "stderr",
     "output_type": "stream",
     "text": [
      "\n",
      "WARNING RuntimeWarning: invalid value encountered in divide\n",
      "\n"
     ]
    },
    {
     "name": "stdout",
     "output_type": "stream",
     "text": [
      "<< Registering Result >>\n",
      "  alpha: 2.0\n",
      "  background_normalization: {'albedo': 0.9794423976805305}\n",
      "  loglikelihood: [419122.2279511988]\n",
      "<< Checking Stopping Criteria >>\n",
      "--> Continue\n",
      "## Iteration 24/50 ##\n",
      "<< Pre-processing >>\n",
      "<< E-step >>\n",
      "<< M-step >>\n",
      "<< Post-processing >>\n"
     ]
    },
    {
     "name": "stderr",
     "output_type": "stream",
     "text": [
      "\n",
      "WARNING RuntimeWarning: invalid value encountered in divide\n",
      "\n"
     ]
    },
    {
     "name": "stdout",
     "output_type": "stream",
     "text": [
      "<< Registering Result >>\n",
      "  alpha: 2.0\n",
      "  background_normalization: {'albedo': 0.9799518629995342}\n",
      "  loglikelihood: [419168.6992884162]\n",
      "<< Checking Stopping Criteria >>\n",
      "--> Continue\n",
      "## Iteration 25/50 ##\n",
      "<< Pre-processing >>\n",
      "<< E-step >>\n",
      "<< M-step >>\n",
      "<< Post-processing >>\n"
     ]
    },
    {
     "name": "stderr",
     "output_type": "stream",
     "text": [
      "\n",
      "WARNING RuntimeWarning: invalid value encountered in divide\n",
      "\n"
     ]
    },
    {
     "name": "stdout",
     "output_type": "stream",
     "text": [
      "<< Registering Result >>\n",
      "  alpha: 2.0\n",
      "  background_normalization: {'albedo': 0.9803939364654375}\n",
      "  loglikelihood: [419210.9486521132]\n",
      "<< Checking Stopping Criteria >>\n",
      "--> Continue\n",
      "## Iteration 26/50 ##\n",
      "<< Pre-processing >>\n",
      "<< E-step >>\n",
      "<< M-step >>\n",
      "<< Post-processing >>\n"
     ]
    },
    {
     "name": "stderr",
     "output_type": "stream",
     "text": [
      "\n",
      "WARNING RuntimeWarning: invalid value encountered in divide\n",
      "\n"
     ]
    },
    {
     "name": "stdout",
     "output_type": "stream",
     "text": [
      "<< Registering Result >>\n",
      "  alpha: 2.0\n",
      "  background_normalization: {'albedo': 0.9807814807822743}\n",
      "  loglikelihood: [419249.4935313363]\n",
      "<< Checking Stopping Criteria >>\n",
      "--> Continue\n",
      "## Iteration 27/50 ##\n",
      "<< Pre-processing >>\n",
      "<< E-step >>\n",
      "<< M-step >>\n",
      "<< Post-processing >>\n"
     ]
    },
    {
     "name": "stderr",
     "output_type": "stream",
     "text": [
      "\n",
      "WARNING RuntimeWarning: invalid value encountered in divide\n",
      "\n"
     ]
    },
    {
     "name": "stdout",
     "output_type": "stream",
     "text": [
      "<< Registering Result >>\n",
      "  alpha: 2.0\n",
      "  background_normalization: {'albedo': 0.9811251317783504}\n",
      "  loglikelihood: [419284.7746128101]\n",
      "<< Checking Stopping Criteria >>\n",
      "--> Continue\n",
      "## Iteration 28/50 ##\n",
      "<< Pre-processing >>\n",
      "<< E-step >>\n",
      "<< M-step >>\n",
      "<< Post-processing >>\n"
     ]
    },
    {
     "name": "stderr",
     "output_type": "stream",
     "text": [
      "\n",
      "WARNING RuntimeWarning: invalid value encountered in divide\n",
      "\n"
     ]
    },
    {
     "name": "stdout",
     "output_type": "stream",
     "text": [
      "<< Registering Result >>\n",
      "  alpha: 2.0\n",
      "  background_normalization: {'albedo': 0.9814335891804477}\n",
      "  loglikelihood: [419317.1694398428]\n",
      "<< Checking Stopping Criteria >>\n",
      "--> Continue\n",
      "## Iteration 29/50 ##\n",
      "<< Pre-processing >>\n",
      "<< E-step >>\n",
      "<< M-step >>\n",
      "<< Post-processing >>\n"
     ]
    },
    {
     "name": "stderr",
     "output_type": "stream",
     "text": [
      "\n",
      "WARNING RuntimeWarning: invalid value encountered in divide\n",
      "\n"
     ]
    },
    {
     "name": "stdout",
     "output_type": "stream",
     "text": [
      "<< Registering Result >>\n",
      "  alpha: 2.0\n",
      "  background_normalization: {'albedo': 0.981713900478086}\n",
      "  loglikelihood: [419347.00308524887]\n",
      "<< Checking Stopping Criteria >>\n",
      "--> Continue\n",
      "## Iteration 30/50 ##\n",
      "<< Pre-processing >>\n",
      "<< E-step >>\n",
      "<< M-step >>\n",
      "<< Post-processing >>\n"
     ]
    },
    {
     "name": "stderr",
     "output_type": "stream",
     "text": [
      "\n",
      "WARNING RuntimeWarning: invalid value encountered in divide\n",
      "\n"
     ]
    },
    {
     "name": "stdout",
     "output_type": "stream",
     "text": [
      "<< Registering Result >>\n",
      "  alpha: 2.0\n",
      "  background_normalization: {'albedo': 0.9819717230539032}\n",
      "  loglikelihood: [419374.55661984545]\n",
      "<< Checking Stopping Criteria >>\n",
      "--> Continue\n",
      "## Iteration 31/50 ##\n",
      "<< Pre-processing >>\n",
      "<< E-step >>\n",
      "<< M-step >>\n",
      "<< Post-processing >>\n"
     ]
    },
    {
     "name": "stderr",
     "output_type": "stream",
     "text": [
      "\n",
      "WARNING RuntimeWarning: invalid value encountered in divide\n",
      "\n"
     ]
    },
    {
     "name": "stdout",
     "output_type": "stream",
     "text": [
      "<< Registering Result >>\n",
      "  alpha: 2.0\n",
      "  background_normalization: {'albedo': 0.982211558536605}\n",
      "  loglikelihood: [419400.0739325575]\n",
      "<< Checking Stopping Criteria >>\n",
      "--> Continue\n",
      "## Iteration 32/50 ##\n",
      "<< Pre-processing >>\n",
      "<< E-step >>\n",
      "<< M-step >>\n",
      "<< Post-processing >>\n"
     ]
    },
    {
     "name": "stderr",
     "output_type": "stream",
     "text": [
      "\n",
      "WARNING RuntimeWarning: invalid value encountered in divide\n",
      "\n"
     ]
    },
    {
     "name": "stdout",
     "output_type": "stream",
     "text": [
      "<< Registering Result >>\n",
      "  alpha: 2.0\n",
      "  background_normalization: {'albedo': 0.9824369575521196}\n",
      "  loglikelihood: [419423.76729908737]\n",
      "<< Checking Stopping Criteria >>\n",
      "--> Continue\n",
      "## Iteration 33/50 ##\n",
      "<< Pre-processing >>\n",
      "<< E-step >>\n",
      "<< M-step >>\n",
      "<< Post-processing >>\n"
     ]
    },
    {
     "name": "stderr",
     "output_type": "stream",
     "text": [
      "\n",
      "WARNING RuntimeWarning: invalid value encountered in divide\n",
      "\n"
     ]
    },
    {
     "name": "stdout",
     "output_type": "stream",
     "text": [
      "<< Registering Result >>\n",
      "  alpha: 2.0\n",
      "  background_normalization: {'albedo': 0.9826506956695917}\n",
      "  loglikelihood: [419445.8219843218]\n",
      "<< Checking Stopping Criteria >>\n",
      "--> Continue\n",
      "## Iteration 34/50 ##\n",
      "<< Pre-processing >>\n",
      "<< E-step >>\n",
      "<< M-step >>\n",
      "<< Post-processing >>\n"
     ]
    },
    {
     "name": "stderr",
     "output_type": "stream",
     "text": [
      "\n",
      "WARNING RuntimeWarning: invalid value encountered in divide\n",
      "\n"
     ]
    },
    {
     "name": "stdout",
     "output_type": "stream",
     "text": [
      "<< Registering Result >>\n",
      "  alpha: 2.0\n",
      "  background_normalization: {'albedo': 0.982854922583121}\n",
      "  loglikelihood: [419466.40008538635]\n",
      "<< Checking Stopping Criteria >>\n",
      "--> Continue\n",
      "## Iteration 35/50 ##\n",
      "<< Pre-processing >>\n",
      "<< E-step >>\n",
      "<< M-step >>\n",
      "<< Post-processing >>\n"
     ]
    },
    {
     "name": "stderr",
     "output_type": "stream",
     "text": [
      "\n",
      "WARNING RuntimeWarning: invalid value encountered in divide\n",
      "\n"
     ]
    },
    {
     "name": "stdout",
     "output_type": "stream",
     "text": [
      "<< Registering Result >>\n",
      "  alpha: 2.0\n",
      "  background_normalization: {'albedo': 0.983051287193733}\n",
      "  loglikelihood: [419485.6437674919]\n",
      "<< Checking Stopping Criteria >>\n",
      "--> Continue\n",
      "## Iteration 36/50 ##\n",
      "<< Pre-processing >>\n",
      "<< E-step >>\n",
      "<< M-step >>\n",
      "<< Post-processing >>\n"
     ]
    },
    {
     "name": "stderr",
     "output_type": "stream",
     "text": [
      "\n",
      "WARNING RuntimeWarning: invalid value encountered in divide\n",
      "\n"
     ]
    },
    {
     "name": "stdout",
     "output_type": "stream",
     "text": [
      "<< Registering Result >>\n",
      "  alpha: 2.0\n",
      "  background_normalization: {'albedo': 0.9832410414436157}\n",
      "  loglikelihood: [419503.6780063998]\n",
      "<< Checking Stopping Criteria >>\n",
      "--> Continue\n",
      "## Iteration 37/50 ##\n",
      "<< Pre-processing >>\n",
      "<< E-step >>\n",
      "<< M-step >>\n",
      "<< Post-processing >>\n"
     ]
    },
    {
     "name": "stderr",
     "output_type": "stream",
     "text": [
      "\n",
      "WARNING RuntimeWarning: invalid value encountered in divide\n",
      "\n"
     ]
    },
    {
     "name": "stdout",
     "output_type": "stream",
     "text": [
      "<< Registering Result >>\n",
      "  alpha: 2.0\n",
      "  background_normalization: {'albedo': 0.9834251257216035}\n",
      "  loglikelihood: [419520.612924283]\n",
      "<< Checking Stopping Criteria >>\n",
      "--> Continue\n",
      "## Iteration 38/50 ##\n",
      "<< Pre-processing >>\n",
      "<< E-step >>\n",
      "<< M-step >>\n",
      "<< Post-processing >>\n"
     ]
    },
    {
     "name": "stderr",
     "output_type": "stream",
     "text": [
      "\n",
      "WARNING RuntimeWarning: invalid value encountered in divide\n",
      "\n"
     ]
    },
    {
     "name": "stdout",
     "output_type": "stream",
     "text": [
      "<< Registering Result >>\n",
      "  alpha: 2.0\n",
      "  background_normalization: {'albedo': 0.9836042384919219}\n",
      "  loglikelihood: [419536.5457865787]\n",
      "<< Checking Stopping Criteria >>\n",
      "--> Continue\n",
      "## Iteration 39/50 ##\n",
      "<< Pre-processing >>\n",
      "<< E-step >>\n",
      "<< M-step >>\n",
      "<< Post-processing >>\n"
     ]
    },
    {
     "name": "stderr",
     "output_type": "stream",
     "text": [
      "\n",
      "WARNING RuntimeWarning: invalid value encountered in divide\n",
      "\n"
     ]
    },
    {
     "name": "stdout",
     "output_type": "stream",
     "text": [
      "<< Registering Result >>\n",
      "  alpha: 2.0\n",
      "  background_normalization: {'albedo': 0.9837788925664139}\n",
      "  loglikelihood: [419551.5627135319]\n",
      "<< Checking Stopping Criteria >>\n",
      "--> Continue\n",
      "## Iteration 40/50 ##\n",
      "<< Pre-processing >>\n",
      "<< E-step >>\n",
      "<< M-step >>\n",
      "<< Post-processing >>\n"
     ]
    },
    {
     "name": "stderr",
     "output_type": "stream",
     "text": [
      "\n",
      "WARNING RuntimeWarning: invalid value encountered in divide\n",
      "\n"
     ]
    },
    {
     "name": "stdout",
     "output_type": "stream",
     "text": [
      "<< Registering Result >>\n",
      "  alpha: 2.0\n",
      "  background_normalization: {'albedo': 0.9839494601804816}\n",
      "  loglikelihood: [419565.7401499399]\n",
      "<< Checking Stopping Criteria >>\n",
      "--> Continue\n",
      "## Iteration 41/50 ##\n",
      "<< Pre-processing >>\n",
      "<< E-step >>\n",
      "<< M-step >>\n",
      "<< Post-processing >>\n"
     ]
    },
    {
     "name": "stderr",
     "output_type": "stream",
     "text": [
      "\n",
      "WARNING RuntimeWarning: invalid value encountered in divide\n",
      "\n"
     ]
    },
    {
     "name": "stdout",
     "output_type": "stream",
     "text": [
      "<< Registering Result >>\n",
      "  alpha: 1.0\n",
      "  background_normalization: {'albedo': 0.984116208768482}\n",
      "  loglikelihood: [419572.4867705697]\n",
      "<< Checking Stopping Criteria >>\n",
      "--> Continue\n",
      "## Iteration 42/50 ##\n",
      "<< Pre-processing >>\n",
      "<< E-step >>\n",
      "<< M-step >>\n",
      "<< Post-processing >>\n"
     ]
    },
    {
     "name": "stderr",
     "output_type": "stream",
     "text": [
      "\n",
      "WARNING RuntimeWarning: invalid value encountered in divide\n",
      "\n"
     ]
    },
    {
     "name": "stdout",
     "output_type": "stream",
     "text": [
      "<< Registering Result >>\n",
      "  alpha: 2.0\n",
      "  background_normalization: {'albedo': 0.9842208523814644}\n",
      "  loglikelihood: [419585.5328527844]\n",
      "<< Checking Stopping Criteria >>\n",
      "--> Continue\n",
      "## Iteration 43/50 ##\n",
      "<< Pre-processing >>\n",
      "<< E-step >>\n",
      "<< M-step >>\n",
      "<< Post-processing >>\n"
     ]
    },
    {
     "name": "stderr",
     "output_type": "stream",
     "text": [
      "\n",
      "WARNING RuntimeWarning: invalid value encountered in divide\n",
      "\n"
     ]
    },
    {
     "name": "stdout",
     "output_type": "stream",
     "text": [
      "<< Registering Result >>\n",
      "  alpha: 1.0\n",
      "  background_normalization: {'albedo': 0.9843885736808825}\n",
      "  loglikelihood: [419591.7524153979]\n",
      "<< Checking Stopping Criteria >>\n",
      "--> Continue\n",
      "## Iteration 44/50 ##\n",
      "<< Pre-processing >>\n",
      "<< E-step >>\n",
      "<< M-step >>\n",
      "<< Post-processing >>\n"
     ]
    },
    {
     "name": "stderr",
     "output_type": "stream",
     "text": [
      "\n",
      "WARNING RuntimeWarning: invalid value encountered in divide\n",
      "\n"
     ]
    },
    {
     "name": "stdout",
     "output_type": "stream",
     "text": [
      "<< Registering Result >>\n",
      "  alpha: 2.0\n",
      "  background_normalization: {'albedo': 0.9844837010683192}\n",
      "  loglikelihood: [419603.79363648605]\n",
      "<< Checking Stopping Criteria >>\n",
      "--> Continue\n",
      "## Iteration 45/50 ##\n",
      "<< Pre-processing >>\n",
      "<< E-step >>\n",
      "<< M-step >>\n",
      "<< Post-processing >>\n"
     ]
    },
    {
     "name": "stderr",
     "output_type": "stream",
     "text": [
      "\n",
      "WARNING RuntimeWarning: invalid value encountered in divide\n",
      "\n"
     ]
    },
    {
     "name": "stdout",
     "output_type": "stream",
     "text": [
      "<< Registering Result >>\n",
      "  alpha: 1.0\n",
      "  background_normalization: {'albedo': 0.9846384712323909}\n",
      "  loglikelihood: [419609.5439537598]\n",
      "<< Checking Stopping Criteria >>\n",
      "--> Continue\n",
      "## Iteration 46/50 ##\n",
      "<< Pre-processing >>\n",
      "<< E-step >>\n",
      "<< M-step >>\n",
      "<< Post-processing >>\n"
     ]
    },
    {
     "name": "stderr",
     "output_type": "stream",
     "text": [
      "\n",
      "WARNING RuntimeWarning: invalid value encountered in divide\n",
      "\n"
     ]
    },
    {
     "name": "stdout",
     "output_type": "stream",
     "text": [
      "<< Registering Result >>\n",
      "  alpha: 2.0\n",
      "  background_normalization: {'albedo': 0.9847277581997049}\n",
      "  loglikelihood: [419620.69049895124]\n",
      "<< Checking Stopping Criteria >>\n",
      "--> Continue\n",
      "## Iteration 47/50 ##\n",
      "<< Pre-processing >>\n",
      "<< E-step >>\n",
      "<< M-step >>\n",
      "<< Post-processing >>\n"
     ]
    },
    {
     "name": "stderr",
     "output_type": "stream",
     "text": [
      "\n",
      "WARNING RuntimeWarning: invalid value encountered in divide\n",
      "\n"
     ]
    },
    {
     "name": "stdout",
     "output_type": "stream",
     "text": [
      "<< Registering Result >>\n",
      "  alpha: 1.1894819486113895\n",
      "  background_normalization: {'albedo': 0.9848739857873111}\n",
      "  loglikelihood: [419627.0246246506]\n",
      "<< Checking Stopping Criteria >>\n",
      "--> Continue\n",
      "## Iteration 48/50 ##\n",
      "<< Pre-processing >>\n",
      "<< E-step >>\n",
      "<< M-step >>\n",
      "<< Post-processing >>\n"
     ]
    },
    {
     "name": "stderr",
     "output_type": "stream",
     "text": [
      "\n",
      "WARNING RuntimeWarning: invalid value encountered in divide\n",
      "\n"
     ]
    },
    {
     "name": "stdout",
     "output_type": "stream",
     "text": [
      "<< Registering Result >>\n",
      "  alpha: 1.0\n",
      "  background_normalization: {'albedo': 0.9849673547608221}\n",
      "  loglikelihood: [419632.1995547168]\n",
      "<< Checking Stopping Criteria >>\n",
      "--> Continue\n",
      "## Iteration 49/50 ##\n",
      "<< Pre-processing >>\n",
      "<< E-step >>\n",
      "<< M-step >>\n",
      "<< Post-processing >>\n"
     ]
    },
    {
     "name": "stderr",
     "output_type": "stream",
     "text": [
      "\n",
      "WARNING RuntimeWarning: invalid value encountered in divide\n",
      "\n"
     ]
    },
    {
     "name": "stdout",
     "output_type": "stream",
     "text": [
      "<< Registering Result >>\n",
      "  alpha: 1.7923740629190785\n",
      "  background_normalization: {'albedo': 0.9850496725354422}\n",
      "  loglikelihood: [419641.21299348294]\n",
      "<< Checking Stopping Criteria >>\n",
      "--> Continue\n",
      "## Iteration 50/50 ##\n",
      "<< Pre-processing >>\n",
      "<< E-step >>\n",
      "<< M-step >>\n",
      "<< Post-processing >>\n"
     ]
    },
    {
     "name": "stderr",
     "output_type": "stream",
     "text": [
      "\n",
      "WARNING RuntimeWarning: invalid value encountered in divide\n",
      "\n"
     ]
    },
    {
     "name": "stdout",
     "output_type": "stream",
     "text": [
      "<< Registering Result >>\n",
      "  alpha: 1.0\n",
      "  background_normalization: {'albedo': 0.9851735704409244}\n",
      "  loglikelihood: [419646.048862519]\n",
      "<< Checking Stopping Criteria >>\n",
      "--> Stop\n",
      "<< Finalization >>\n",
      "#### Image Deconvolution Finished ####\n",
      "CPU times: user 1min 27s, sys: 5min 22s, total: 6min 49s\n",
      "Wall time: 50 s\n"
     ]
    }
   ],
   "source": [
    "%%time\n",
    "\n",
    "image_deconvolution.run_deconvolution()"
   ]
  },
  {
   "cell_type": "code",
   "execution_count": 19,
   "id": "cc64ea8d",
   "metadata": {
    "scrolled": true
   },
   "outputs": [
    {
     "data": {
      "text/plain": [
       "[{'iteration': 1,\n",
       "  'model': <cosipy.image_deconvolution.allskyimage.AllSkyImageModel at 0x3a3056710>,\n",
       "  'delta_model': <cosipy.image_deconvolution.allskyimage.AllSkyImageModel at 0x3a3056cb0>,\n",
       "  'processed_delta_model': <cosipy.image_deconvolution.allskyimage.AllSkyImageModel at 0x3a3055540>,\n",
       "  'background_normalization': {'albedo': 1.190086058358472},\n",
       "  'alpha': 2.0,\n",
       "  'loglikelihood': [389620.43700901093]},\n",
       " {'iteration': 2,\n",
       "  'model': <cosipy.image_deconvolution.allskyimage.AllSkyImageModel at 0x3a30562c0>,\n",
       "  'delta_model': <cosipy.image_deconvolution.allskyimage.AllSkyImageModel at 0x3a30565c0>,\n",
       "  'processed_delta_model': <cosipy.image_deconvolution.allskyimage.AllSkyImageModel at 0x3a3054130>,\n",
       "  'background_normalization': {'albedo': 1.1025288937649729},\n",
       "  'alpha': 2.0,\n",
       "  'loglikelihood': [397966.1184134454]},\n",
       " {'iteration': 3,\n",
       "  'model': <cosipy.image_deconvolution.allskyimage.AllSkyImageModel at 0x3a3047640>,\n",
       "  'delta_model': <cosipy.image_deconvolution.allskyimage.AllSkyImageModel at 0x3a30454e0>,\n",
       "  'processed_delta_model': <cosipy.image_deconvolution.allskyimage.AllSkyImageModel at 0x3a3047880>,\n",
       "  'background_normalization': {'albedo': 1.0758137427893717},\n",
       "  'alpha': 2.0,\n",
       "  'loglikelihood': [404486.16370658483]},\n",
       " {'iteration': 4,\n",
       "  'model': <cosipy.image_deconvolution.allskyimage.AllSkyImageModel at 0x3a3045240>,\n",
       "  'delta_model': <cosipy.image_deconvolution.allskyimage.AllSkyImageModel at 0x3a30442b0>,\n",
       "  'processed_delta_model': <cosipy.image_deconvolution.allskyimage.AllSkyImageModel at 0x3a3046ad0>,\n",
       "  'background_normalization': {'albedo': 1.0350780054934294},\n",
       "  'alpha': 2.0,\n",
       "  'loglikelihood': [409379.8773129297]},\n",
       " {'iteration': 5,\n",
       "  'model': <cosipy.image_deconvolution.allskyimage.AllSkyImageModel at 0x3a312d6c0>,\n",
       "  'delta_model': <cosipy.image_deconvolution.allskyimage.AllSkyImageModel at 0x3a312c2b0>,\n",
       "  'processed_delta_model': <cosipy.image_deconvolution.allskyimage.AllSkyImageModel at 0x3a312dc60>,\n",
       "  'background_normalization': {'albedo': 1.0067984138659716},\n",
       "  'alpha': 2.0,\n",
       "  'loglikelihood': [412636.6223042265]},\n",
       " {'iteration': 6,\n",
       "  'model': <cosipy.image_deconvolution.allskyimage.AllSkyImageModel at 0x3a318d150>,\n",
       "  'delta_model': <cosipy.image_deconvolution.allskyimage.AllSkyImageModel at 0x3a318d1b0>,\n",
       "  'processed_delta_model': <cosipy.image_deconvolution.allskyimage.AllSkyImageModel at 0x3a312e050>,\n",
       "  'background_normalization': {'albedo': 0.985156644640505},\n",
       "  'alpha': 2.0,\n",
       "  'loglikelihood': [414652.8432038162]},\n",
       " {'iteration': 7,\n",
       "  'model': <cosipy.image_deconvolution.allskyimage.AllSkyImageModel at 0x3a318e2f0>,\n",
       "  'delta_model': <cosipy.image_deconvolution.allskyimage.AllSkyImageModel at 0x3a318e260>,\n",
       "  'processed_delta_model': <cosipy.image_deconvolution.allskyimage.AllSkyImageModel at 0x3a318dea0>,\n",
       "  'background_normalization': {'albedo': 0.9720022993182517},\n",
       "  'alpha': 2.0,\n",
       "  'loglikelihood': [415871.5890431596]},\n",
       " {'iteration': 8,\n",
       "  'model': <cosipy.image_deconvolution.allskyimage.AllSkyImageModel at 0x3a31b8eb0>,\n",
       "  'delta_model': <cosipy.image_deconvolution.allskyimage.AllSkyImageModel at 0x3a31b8e80>,\n",
       "  'processed_delta_model': <cosipy.image_deconvolution.allskyimage.AllSkyImageModel at 0x3a31b9180>,\n",
       "  'background_normalization': {'albedo': 0.9647331909406436},\n",
       "  'alpha': 2.0,\n",
       "  'loglikelihood': [416634.49362002616]},\n",
       " {'iteration': 9,\n",
       "  'model': <cosipy.image_deconvolution.allskyimage.AllSkyImageModel at 0x3a31bb130>,\n",
       "  'delta_model': <cosipy.image_deconvolution.allskyimage.AllSkyImageModel at 0x3a31bafe0>,\n",
       "  'processed_delta_model': <cosipy.image_deconvolution.allskyimage.AllSkyImageModel at 0x3a31b9b10>,\n",
       "  'background_normalization': {'albedo': 0.9618007024814392},\n",
       "  'alpha': 2.0,\n",
       "  'loglikelihood': [417146.494831466]},\n",
       " {'iteration': 10,\n",
       "  'model': <cosipy.image_deconvolution.allskyimage.AllSkyImageModel at 0x3a30976a0>,\n",
       "  'delta_model': <cosipy.image_deconvolution.allskyimage.AllSkyImageModel at 0x3a3095e40>,\n",
       "  'processed_delta_model': <cosipy.image_deconvolution.allskyimage.AllSkyImageModel at 0x3a3096a10>,\n",
       "  'background_normalization': {'albedo': 0.9614669811731035},\n",
       "  'alpha': 2.0,\n",
       "  'loglikelihood': [417517.0766809179]},\n",
       " {'iteration': 11,\n",
       "  'model': <cosipy.image_deconvolution.allskyimage.AllSkyImageModel at 0x3a3045780>,\n",
       "  'delta_model': <cosipy.image_deconvolution.allskyimage.AllSkyImageModel at 0x3a3044490>,\n",
       "  'processed_delta_model': <cosipy.image_deconvolution.allskyimage.AllSkyImageModel at 0x3a3047fa0>,\n",
       "  'background_normalization': {'albedo': 0.9626309655788825},\n",
       "  'alpha': 2.0,\n",
       "  'loglikelihood': [417802.0571046409]},\n",
       " {'iteration': 12,\n",
       "  'model': <cosipy.image_deconvolution.allskyimage.AllSkyImageModel at 0x3a3094be0>,\n",
       "  'delta_model': <cosipy.image_deconvolution.allskyimage.AllSkyImageModel at 0x3a3095720>,\n",
       "  'processed_delta_model': <cosipy.image_deconvolution.allskyimage.AllSkyImageModel at 0x3a3094760>,\n",
       "  'background_normalization': {'albedo': 0.9645047367641191},\n",
       "  'alpha': 2.0,\n",
       "  'loglikelihood': [418030.60138296254]},\n",
       " {'iteration': 13,\n",
       "  'model': <cosipy.image_deconvolution.allskyimage.AllSkyImageModel at 0x3a3095270>,\n",
       "  'delta_model': <cosipy.image_deconvolution.allskyimage.AllSkyImageModel at 0x3a30952a0>,\n",
       "  'processed_delta_model': <cosipy.image_deconvolution.allskyimage.AllSkyImageModel at 0x3a3094e20>,\n",
       "  'background_normalization': {'albedo': 0.9666322970227704},\n",
       "  'alpha': 2.0,\n",
       "  'loglikelihood': [418219.05430964916]},\n",
       " {'iteration': 14,\n",
       "  'model': <cosipy.image_deconvolution.allskyimage.AllSkyImageModel at 0x3a30836a0>,\n",
       "  'delta_model': <cosipy.image_deconvolution.allskyimage.AllSkyImageModel at 0x3a3080d00>,\n",
       "  'processed_delta_model': <cosipy.image_deconvolution.allskyimage.AllSkyImageModel at 0x3a3080190>,\n",
       "  'background_normalization': {'albedo': 0.9687449645442027},\n",
       "  'alpha': 2.0,\n",
       "  'loglikelihood': [418377.4557194025]},\n",
       " {'iteration': 15,\n",
       "  'model': <cosipy.image_deconvolution.allskyimage.AllSkyImageModel at 0x3a3000430>,\n",
       "  'delta_model': <cosipy.image_deconvolution.allskyimage.AllSkyImageModel at 0x3a3001c90>,\n",
       "  'processed_delta_model': <cosipy.image_deconvolution.allskyimage.AllSkyImageModel at 0x112395e70>,\n",
       "  'background_normalization': {'albedo': 0.970708567948022},\n",
       "  'alpha': 2.0,\n",
       "  'loglikelihood': [418512.5036855284]},\n",
       " {'iteration': 16,\n",
       "  'model': <cosipy.image_deconvolution.allskyimage.AllSkyImageModel at 0x3a3082620>,\n",
       "  'delta_model': <cosipy.image_deconvolution.allskyimage.AllSkyImageModel at 0x3a3083e50>,\n",
       "  'processed_delta_model': <cosipy.image_deconvolution.allskyimage.AllSkyImageModel at 0x3a30835b0>,\n",
       "  'background_normalization': {'albedo': 0.9724635379800978},\n",
       "  'alpha': 2.0,\n",
       "  'loglikelihood': [418628.95036220574]},\n",
       " {'iteration': 17,\n",
       "  'model': <cosipy.image_deconvolution.allskyimage.AllSkyImageModel at 0x3a3000250>,\n",
       "  'delta_model': <cosipy.image_deconvolution.allskyimage.AllSkyImageModel at 0x3a3001cf0>,\n",
       "  'processed_delta_model': <cosipy.image_deconvolution.allskyimage.AllSkyImageModel at 0x3a30004c0>,\n",
       "  'background_normalization': {'albedo': 0.9739955171908575},\n",
       "  'alpha': 2.0,\n",
       "  'loglikelihood': [418730.3084008504]},\n",
       " {'iteration': 18,\n",
       "  'model': <cosipy.image_deconvolution.allskyimage.AllSkyImageModel at 0x3a3002e00>,\n",
       "  'delta_model': <cosipy.image_deconvolution.allskyimage.AllSkyImageModel at 0x3a3001fc0>,\n",
       "  'processed_delta_model': <cosipy.image_deconvolution.allskyimage.AllSkyImageModel at 0x3a3003a00>,\n",
       "  'background_normalization': {'albedo': 0.9753132429889781},\n",
       "  'alpha': 2.0,\n",
       "  'loglikelihood': [418819.247143395]},\n",
       " {'iteration': 19,\n",
       "  'model': <cosipy.image_deconvolution.allskyimage.AllSkyImageModel at 0x3a30031f0>,\n",
       "  'delta_model': <cosipy.image_deconvolution.allskyimage.AllSkyImageModel at 0x3a3003dc0>,\n",
       "  'processed_delta_model': <cosipy.image_deconvolution.allskyimage.AllSkyImageModel at 0x3a3003c40>,\n",
       "  'background_normalization': {'albedo': 0.9764369687276027},\n",
       "  'alpha': 2.0,\n",
       "  'loglikelihood': [418897.8365083168]},\n",
       " {'iteration': 20,\n",
       "  'model': <cosipy.image_deconvolution.allskyimage.AllSkyImageModel at 0x3a3000670>,\n",
       "  'delta_model': <cosipy.image_deconvolution.allskyimage.AllSkyImageModel at 0x3a3003340>,\n",
       "  'processed_delta_model': <cosipy.image_deconvolution.allskyimage.AllSkyImageModel at 0x3a3001630>,\n",
       "  'background_normalization': {'albedo': 0.9773911433114139},\n",
       "  'alpha': 2.0,\n",
       "  'loglikelihood': [418967.70833261264]},\n",
       " {'iteration': 21,\n",
       "  'model': <cosipy.image_deconvolution.allskyimage.AllSkyImageModel at 0x3a3081480>,\n",
       "  'delta_model': <cosipy.image_deconvolution.allskyimage.AllSkyImageModel at 0x3a3080b50>,\n",
       "  'processed_delta_model': <cosipy.image_deconvolution.allskyimage.AllSkyImageModel at 0x112397ac0>,\n",
       "  'background_normalization': {'albedo': 0.978200663714772},\n",
       "  'alpha': 2.0,\n",
       "  'loglikelihood': [419030.1679826325]},\n",
       " {'iteration': 22,\n",
       "  'model': <cosipy.image_deconvolution.allskyimage.AllSkyImageModel at 0x3a3082140>,\n",
       "  'delta_model': <cosipy.image_deconvolution.allskyimage.AllSkyImageModel at 0x3a3083f10>,\n",
       "  'processed_delta_model': <cosipy.image_deconvolution.allskyimage.AllSkyImageModel at 0x3a30827d0>,\n",
       "  'background_normalization': {'albedo': 0.9788888402984666},\n",
       "  'alpha': 2.0,\n",
       "  'loglikelihood': [419086.2736994118]},\n",
       " {'iteration': 23,\n",
       "  'model': <cosipy.image_deconvolution.allskyimage.AllSkyImageModel at 0x3a3003190>,\n",
       "  'delta_model': <cosipy.image_deconvolution.allskyimage.AllSkyImageModel at 0x3a3002320>,\n",
       "  'processed_delta_model': <cosipy.image_deconvolution.allskyimage.AllSkyImageModel at 0x3a3002170>,\n",
       "  'background_normalization': {'albedo': 0.9794765199076383},\n",
       "  'alpha': 2.0,\n",
       "  'loglikelihood': [419136.89394879853]},\n",
       " {'iteration': 24,\n",
       "  'model': <cosipy.image_deconvolution.allskyimage.AllSkyImageModel at 0x3a3002590>,\n",
       "  'delta_model': <cosipy.image_deconvolution.allskyimage.AllSkyImageModel at 0x3a30005b0>,\n",
       "  'processed_delta_model': <cosipy.image_deconvolution.allskyimage.AllSkyImageModel at 0x3a30030d0>,\n",
       "  'background_normalization': {'albedo': 0.979981789196119},\n",
       "  'alpha': 2.0,\n",
       "  'loglikelihood': [419182.7493856037]},\n",
       " {'iteration': 25,\n",
       "  'model': <cosipy.image_deconvolution.allskyimage.AllSkyImageModel at 0x3a3036050>,\n",
       "  'delta_model': <cosipy.image_deconvolution.allskyimage.AllSkyImageModel at 0x3a3035ed0>,\n",
       "  'processed_delta_model': <cosipy.image_deconvolution.allskyimage.AllSkyImageModel at 0x3a3035960>,\n",
       "  'background_normalization': {'albedo': 0.9804200184058396},\n",
       "  'alpha': 2.0,\n",
       "  'loglikelihood': [419224.4438976394]},\n",
       " {'iteration': 26,\n",
       "  'model': <cosipy.image_deconvolution.allskyimage.AllSkyImageModel at 0x3a3000d60>,\n",
       "  'delta_model': <cosipy.image_deconvolution.allskyimage.AllSkyImageModel at 0x3a30028c0>,\n",
       "  'processed_delta_model': <cosipy.image_deconvolution.allskyimage.AllSkyImageModel at 0x3a3003490>,\n",
       "  'background_normalization': {'albedo': 0.9808040644678145},\n",
       "  'alpha': 2.0,\n",
       "  'loglikelihood': [419262.48783887096]},\n",
       " {'iteration': 27,\n",
       "  'model': <cosipy.image_deconvolution.allskyimage.AllSkyImageModel at 0x3a30366b0>,\n",
       "  'delta_model': <cosipy.image_deconvolution.allskyimage.AllSkyImageModel at 0x3a3037040>,\n",
       "  'processed_delta_model': <cosipy.image_deconvolution.allskyimage.AllSkyImageModel at 0x3a30375b0>,\n",
       "  'background_normalization': {'albedo': 0.9811445475083197},\n",
       "  'alpha': 2.0,\n",
       "  'loglikelihood': [419297.3156418806]},\n",
       " {'iteration': 28,\n",
       "  'model': <cosipy.image_deconvolution.allskyimage.AllSkyImageModel at 0x3a30d2da0>,\n",
       "  'delta_model': <cosipy.image_deconvolution.allskyimage.AllSkyImageModel at 0x3a30d2e30>,\n",
       "  'processed_delta_model': <cosipy.image_deconvolution.allskyimage.AllSkyImageModel at 0x3a3081750>,\n",
       "  'background_normalization': {'albedo': 0.981450145770878},\n",
       "  'alpha': 2.0,\n",
       "  'loglikelihood': [419329.29936073]},\n",
       " {'iteration': 29,\n",
       "  'model': <cosipy.image_deconvolution.allskyimage.AllSkyImageModel at 0x3a3073910>,\n",
       "  'delta_model': <cosipy.image_deconvolution.allskyimage.AllSkyImageModel at 0x3a3070970>,\n",
       "  'processed_delta_model': <cosipy.image_deconvolution.allskyimage.AllSkyImageModel at 0x3a318ff10>,\n",
       "  'background_normalization': {'albedo': 0.9817278823799749},\n",
       "  'alpha': 2.0,\n",
       "  'loglikelihood': [419358.7592438542]},\n",
       " {'iteration': 30,\n",
       "  'model': <cosipy.image_deconvolution.allskyimage.AllSkyImageModel at 0x3a312d1e0>,\n",
       "  'delta_model': <cosipy.image_deconvolution.allskyimage.AllSkyImageModel at 0x3a318ef20>,\n",
       "  'processed_delta_model': <cosipy.image_deconvolution.allskyimage.AllSkyImageModel at 0x3a312d420>,\n",
       "  'background_normalization': {'albedo': 0.9819833894554747},\n",
       "  'alpha': 2.0,\n",
       "  'loglikelihood': [419385.9721169963]},\n",
       " {'iteration': 31,\n",
       "  'model': <cosipy.image_deconvolution.allskyimage.AllSkyImageModel at 0x3a3036920>,\n",
       "  'delta_model': <cosipy.image_deconvolution.allskyimage.AllSkyImageModel at 0x3a3036c50>,\n",
       "  'processed_delta_model': <cosipy.image_deconvolution.allskyimage.AllSkyImageModel at 0x3a3073850>,\n",
       "  'background_normalization': {'albedo': 0.982221143783738},\n",
       "  'alpha': 2.0,\n",
       "  'loglikelihood': [419411.1781302573]},\n",
       " {'iteration': 32,\n",
       "  'model': <cosipy.image_deconvolution.allskyimage.AllSkyImageModel at 0x3a3000280>,\n",
       "  'delta_model': <cosipy.image_deconvolution.allskyimage.AllSkyImageModel at 0x3a3003760>,\n",
       "  'processed_delta_model': <cosipy.image_deconvolution.allskyimage.AllSkyImageModel at 0x3a312e5c0>,\n",
       "  'background_normalization': {'albedo': 0.9824446724033364},\n",
       "  'alpha': 2.0,\n",
       "  'loglikelihood': [419434.5862642322]},\n",
       " {'iteration': 33,\n",
       "  'model': <cosipy.image_deconvolution.allskyimage.AllSkyImageModel at 0x3a3000640>,\n",
       "  'delta_model': <cosipy.image_deconvolution.allskyimage.AllSkyImageModel at 0x3a30008b0>,\n",
       "  'processed_delta_model': <cosipy.image_deconvolution.allskyimage.AllSkyImageModel at 0x3a3000130>,\n",
       "  'background_normalization': {'albedo': 0.9826567290384427},\n",
       "  'alpha': 2.0,\n",
       "  'loglikelihood': [419456.37887861405]},\n",
       " {'iteration': 34,\n",
       "  'model': <cosipy.image_deconvolution.allskyimage.AllSkyImageModel at 0x3a30022c0>,\n",
       "  'delta_model': <cosipy.image_deconvolution.allskyimage.AllSkyImageModel at 0x3a30012a0>,\n",
       "  'processed_delta_model': <cosipy.image_deconvolution.allskyimage.AllSkyImageModel at 0x3a3001b40>,\n",
       "  'background_normalization': {'albedo': 0.9828594435217094},\n",
       "  'alpha': 2.0,\n",
       "  'loglikelihood': [419476.7155086893]},\n",
       " {'iteration': 35,\n",
       "  'model': <cosipy.image_deconvolution.allskyimage.AllSkyImageModel at 0x3a3023e20>,\n",
       "  'delta_model': <cosipy.image_deconvolution.allskyimage.AllSkyImageModel at 0x3a3021450>,\n",
       "  'processed_delta_model': <cosipy.image_deconvolution.allskyimage.AllSkyImageModel at 0x3a3023fa0>,\n",
       "  'background_normalization': {'albedo': 0.983054446947066},\n",
       "  'alpha': 2.0,\n",
       "  'loglikelihood': [419495.73606062576]},\n",
       " {'iteration': 36,\n",
       "  'model': <cosipy.image_deconvolution.allskyimage.AllSkyImageModel at 0x3a30d2320>,\n",
       "  'delta_model': <cosipy.image_deconvolution.allskyimage.AllSkyImageModel at 0x3a30d2d10>,\n",
       "  'processed_delta_model': <cosipy.image_deconvolution.allskyimage.AllSkyImageModel at 0x3a30d1f30>,\n",
       "  'background_normalization': {'albedo': 0.9832429754605947},\n",
       "  'alpha': 2.0,\n",
       "  'loglikelihood': [419513.56351841916]},\n",
       " {'iteration': 37,\n",
       "  'model': <cosipy.image_deconvolution.allskyimage.AllSkyImageModel at 0x3a3023280>,\n",
       "  'delta_model': <cosipy.image_deconvolution.allskyimage.AllSkyImageModel at 0x3a3021b70>,\n",
       "  'processed_delta_model': <cosipy.image_deconvolution.allskyimage.AllSkyImageModel at 0x3a30226e0>,\n",
       "  'background_normalization': {'albedo': 0.9834259555500987},\n",
       "  'alpha': 2.0,\n",
       "  'loglikelihood': [419530.3062484893]},\n",
       " {'iteration': 38,\n",
       "  'model': <cosipy.image_deconvolution.allskyimage.AllSkyImageModel at 0x112395840>,\n",
       "  'delta_model': <cosipy.image_deconvolution.allskyimage.AllSkyImageModel at 0x3a3000c10>,\n",
       "  'processed_delta_model': <cosipy.image_deconvolution.allskyimage.AllSkyImageModel at 0x112395b10>,\n",
       "  'background_normalization': {'albedo': 0.9836040735157431},\n",
       "  'alpha': 2.0,\n",
       "  'loglikelihood': [419546.0599689197]},\n",
       " {'iteration': 39,\n",
       "  'model': <cosipy.image_deconvolution.allskyimage.AllSkyImageModel at 0x3a3095570>,\n",
       "  'delta_model': <cosipy.image_deconvolution.allskyimage.AllSkyImageModel at 0x3a30972e0>,\n",
       "  'processed_delta_model': <cosipy.image_deconvolution.allskyimage.AllSkyImageModel at 0x3a3081b10>,\n",
       "  'background_normalization': {'albedo': 0.9837778315636562},\n",
       "  'alpha': 2.0,\n",
       "  'loglikelihood': [419560.9094365451]},\n",
       " {'iteration': 40,\n",
       "  'model': <cosipy.image_deconvolution.allskyimage.AllSkyImageModel at 0x3a30020b0>,\n",
       "  'delta_model': <cosipy.image_deconvolution.allskyimage.AllSkyImageModel at 0x3a3001480>,\n",
       "  'processed_delta_model': <cosipy.image_deconvolution.allskyimage.AllSkyImageModel at 0x3a3000820>,\n",
       "  'background_normalization': {'albedo': 0.9839475926980294},\n",
       "  'alpha': 2.0,\n",
       "  'loglikelihood': [419574.9298950087]},\n",
       " {'iteration': 41,\n",
       "  'model': <cosipy.image_deconvolution.allskyimage.AllSkyImageModel at 0x3a3081a80>,\n",
       "  'delta_model': <cosipy.image_deconvolution.allskyimage.AllSkyImageModel at 0x3a318dc30>,\n",
       "  'processed_delta_model': <cosipy.image_deconvolution.allskyimage.AllSkyImageModel at 0x3a3082410>,\n",
       "  'background_normalization': {'albedo': 0.9841136163173546},\n",
       "  'alpha': 2.0,\n",
       "  'loglikelihood': [419588.1883192825]},\n",
       " {'iteration': 42,\n",
       "  'model': <cosipy.image_deconvolution.allskyimage.AllSkyImageModel at 0x3a3022230>,\n",
       "  'delta_model': <cosipy.image_deconvolution.allskyimage.AllSkyImageModel at 0x3a30232b0>,\n",
       "  'processed_delta_model': <cosipy.image_deconvolution.allskyimage.AllSkyImageModel at 0x3a3022800>,\n",
       "  'background_normalization': {'albedo': 0.9842760861622055},\n",
       "  'alpha': 2.0,\n",
       "  'loglikelihood': [419600.74448627164]},\n",
       " {'iteration': 43,\n",
       "  'model': <cosipy.image_deconvolution.allskyimage.AllSkyImageModel at 0x3a3035750>,\n",
       "  'delta_model': <cosipy.image_deconvolution.allskyimage.AllSkyImageModel at 0x3a3034a30>,\n",
       "  'processed_delta_model': <cosipy.image_deconvolution.allskyimage.AllSkyImageModel at 0x3a3037f40>,\n",
       "  'background_normalization': {'albedo': 0.9844351320221637},\n",
       "  'alpha': 2.0,\n",
       "  'loglikelihood': [419612.65189649]},\n",
       " {'iteration': 44,\n",
       "  'model': <cosipy.image_deconvolution.allskyimage.AllSkyImageModel at 0x3a3022ce0>,\n",
       "  'delta_model': <cosipy.image_deconvolution.allskyimage.AllSkyImageModel at 0x3a3021780>,\n",
       "  'processed_delta_model': <cosipy.image_deconvolution.allskyimage.AllSkyImageModel at 0x3a3035c90>,\n",
       "  'background_normalization': {'albedo': 0.9845908463919338},\n",
       "  'alpha': 2.0,\n",
       "  'loglikelihood': [419623.9585680199]},\n",
       " {'iteration': 45,\n",
       "  'model': <cosipy.image_deconvolution.allskyimage.AllSkyImageModel at 0x3a3021de0>,\n",
       "  'delta_model': <cosipy.image_deconvolution.allskyimage.AllSkyImageModel at 0x3a30236d0>,\n",
       "  'processed_delta_model': <cosipy.image_deconvolution.allskyimage.AllSkyImageModel at 0x3a3022860>,\n",
       "  'background_normalization': {'albedo': 0.9847432970746456},\n",
       "  'alpha': 2.0,\n",
       "  'loglikelihood': [419634.7077208706]},\n",
       " {'iteration': 46,\n",
       "  'model': <cosipy.image_deconvolution.allskyimage.AllSkyImageModel at 0x3a30f1bd0>,\n",
       "  'delta_model': <cosipy.image_deconvolution.allskyimage.AllSkyImageModel at 0x3a30f21d0>,\n",
       "  'processed_delta_model': <cosipy.image_deconvolution.allskyimage.AllSkyImageModel at 0x3a3003b80>,\n",
       "  'background_normalization': {'albedo': 0.9848925365610206},\n",
       "  'alpha': 2.0,\n",
       "  'loglikelihood': [419644.9383672667]},\n",
       " {'iteration': 47,\n",
       "  'model': <cosipy.image_deconvolution.allskyimage.AllSkyImageModel at 0x3a3021570>,\n",
       "  'delta_model': <cosipy.image_deconvolution.allskyimage.AllSkyImageModel at 0x3a3021540>,\n",
       "  'processed_delta_model': <cosipy.image_deconvolution.allskyimage.AllSkyImageModel at 0x3a3021720>,\n",
       "  'background_normalization': {'albedo': 0.985038608867374},\n",
       "  'alpha': 2.0,\n",
       "  'loglikelihood': [419654.68582116824]},\n",
       " {'iteration': 48,\n",
       "  'model': <cosipy.image_deconvolution.allskyimage.AllSkyImageModel at 0x3a30239d0>,\n",
       "  'delta_model': <cosipy.image_deconvolution.allskyimage.AllSkyImageModel at 0x3a30223b0>,\n",
       "  'processed_delta_model': <cosipy.image_deconvolution.allskyimage.AllSkyImageModel at 0x3a30214b0>,\n",
       "  'background_normalization': {'albedo': 0.9851815543913988},\n",
       "  'alpha': 2.0,\n",
       "  'loglikelihood': [419663.98213848204]},\n",
       " {'iteration': 49,\n",
       "  'model': <cosipy.image_deconvolution.allskyimage.AllSkyImageModel at 0x3a3083730>,\n",
       "  'delta_model': <cosipy.image_deconvolution.allskyimage.AllSkyImageModel at 0x3a3083a30>,\n",
       "  'processed_delta_model': <cosipy.image_deconvolution.allskyimage.AllSkyImageModel at 0x3a30817b0>,\n",
       "  'background_normalization': {'albedo': 0.985321413238427},\n",
       "  'alpha': 2.0,\n",
       "  'loglikelihood': [419672.85649777134]},\n",
       " {'iteration': 50,\n",
       "  'model': <cosipy.image_deconvolution.allskyimage.AllSkyImageModel at 0x3a30036a0>,\n",
       "  'delta_model': <cosipy.image_deconvolution.allskyimage.AllSkyImageModel at 0x3a3000a60>,\n",
       "  'processed_delta_model': <cosipy.image_deconvolution.allskyimage.AllSkyImageModel at 0x3a30026b0>,\n",
       "  'background_normalization': {'albedo': 0.9854582273832846},\n",
       "  'alpha': 2.0,\n",
       "  'loglikelihood': [419681.33552991366]}]"
      ]
     },
     "execution_count": 19,
     "metadata": {},
     "output_type": "execute_result"
    }
   ],
   "source": [
    "image_deconvolution.results"
   ]
  },
  {
   "cell_type": "markdown",
   "id": "9d32d0a8",
   "metadata": {},
   "source": [
    "# 4. Analyze the results\n",
    "Examples to see/analyze the results are shown below."
   ]
  },
  {
   "cell_type": "markdown",
   "id": "f577c7ac",
   "metadata": {},
   "source": [
    "## Log-likelihood\n",
    "\n",
    "Plotting the log-likelihood vs the number of iterations"
   ]
  },
  {
   "cell_type": "code",
   "execution_count": 20,
   "id": "445ee3d5",
   "metadata": {},
   "outputs": [
    {
     "data": {
      "image/png": "[encoded data removed]",
      "text/plain": [
       "<Figure size 640x480 with 1 Axes>"
      ]
     },
     "metadata": {},
     "output_type": "display_data"
    }
   ],
   "source": [
    "x, y = [], []\n",
    "\n",
    "for result in image_deconvolution.results:\n",
    "    x.append(result['iteration'])\n",
    "    y.append(result['loglikelihood'])\n",
    "    \n",
    "plt.plot(x, y)\n",
    "plt.grid()\n",
    "plt.xlabel(\"iteration\")\n",
    "plt.ylabel(\"loglikelihood\")\n",
    "plt.show()"
   ]
  },
  {
   "cell_type": "markdown",
   "id": "3f085706",
   "metadata": {},
   "source": [
    "## Alpha (the factor used for the acceleration)\n",
    "\n",
    "Plotting $\\alpha$ vs the number of iterations. $\\alpha$ is a parameter to accelerate the EM algorithm (see the beginning of Section 4). If it is too large, reconstructed images may have artifacts."
   ]
  },
  {
   "cell_type": "code",
   "execution_count": 21,
   "id": "1695af05",
   "metadata": {},
   "outputs": [
    {
     "data": {
      "image/png": "[encoded data removed]",
      "text/plain": [
       "<Figure size 640x480 with 1 Axes>"
      ]
     },
     "metadata": {},
     "output_type": "display_data"
    }
   ],
   "source": [
    "x, y = [], []\n",
    "\n",
    "for result in image_deconvolution.results:\n",
    "    x.append(result['iteration'])\n",
    "    y.append(result['alpha'])\n",
    "    \n",
    "plt.plot(x, y)\n",
    "plt.grid()\n",
    "plt.xlabel(\"iteration\")\n",
    "plt.ylabel(\"alpha\")\n",
    "plt.show()"
   ]
  },
  {
   "cell_type": "markdown",
   "id": "b3298aa5",
   "metadata": {},
   "source": [
    "## Background normalization\n",
    "\n",
    "Plotting the background nomalization factor vs the number of iterations. If the backgroud model is accurate and the image is reconstructed perfectly, this factor should be close to 1."
   ]
  },
  {
   "cell_type": "code",
   "execution_count": 22,
   "id": "71ad8d7a",
   "metadata": {},
   "outputs": [
    {
     "data": {
      "image/png": "[encoded data removed]",
      "text/plain": [
       "<Figure size 640x480 with 1 Axes>"
      ]
     },
     "metadata": {},
     "output_type": "display_data"
    }
   ],
   "source": [
    "x, y = [], []\n",
    "\n",
    "for result in image_deconvolution.results:\n",
    "    x.append(result['iteration'])\n",
    "    y.append(result['background_normalization']['albedo'])\n",
    "    \n",
    "plt.plot(x, y)\n",
    "plt.grid()\n",
    "plt.xlabel(\"iteration\")\n",
    "plt.ylabel(\"background_normalization\")\n",
    "plt.show()"
   ]
  },
  {
   "cell_type": "markdown",
   "id": "58e0d3a6",
   "metadata": {},
   "source": [
    "## The reconstructed images"
   ]
  },
  {
   "cell_type": "code",
   "execution_count": 23,
   "id": "94ab604d-12d9-4f81-b8d1-7dcbe793b6e8",
   "metadata": {
    "scrolled": true
   },
   "outputs": [],
   "source": [
    "def plot_reconstructed_image(result, source_position = None): # source_position should be (l,b) in degrees\n",
    "    iteration = result['iteration']\n",
    "    image = result['model']\n",
    "\n",
    "    for energy_index in range(image.axes['Ei'].nbins):\n",
    "        map_healpxmap = HealpixMap(data = image[:,energy_index], unit = image.unit)\n",
    "\n",
    "        _, ax = map_healpxmap.plot('mollview')        \n",
    "        \n",
    "        _.colorbar.set_label(str(image.unit))\n",
    "        \n",
    "        if source_position is not None:\n",
    "            ax.scatter(source_position[0]*u.deg, source_position[1]*u.deg, transform=ax.get_transform('world'), color = 'red')\n",
    "\n",
    "        plt.title(label = f\"iteration = {iteration}, energy_index = {energy_index} ({image.axes['Ei'].bounds[energy_index][0]}-{image.axes['Ei'].bounds[energy_index][1]})\")"
   ]
  },
  {
   "cell_type": "markdown",
   "id": "4b8cdf58",
   "metadata": {},
   "source": [
    "Plotting the reconstructed images in all of the energy bands at the 50th iteration"
   ]
  },
  {
   "cell_type": "code",
   "execution_count": 24,
   "id": "2769b6e5",
   "metadata": {},
   "outputs": [
    {
     "data": {
      "image/png": "[encoded data removed]",
      "text/plain": [
       "<Figure size 600x600 with 2 Axes>"
      ]
     },
     "metadata": {},
     "output_type": "display_data"
    }
   ],
   "source": [
    "iteration = 49\n",
    "\n",
    "plot_reconstructed_image(image_deconvolution.results[iteration])"
   ]
  },
  {
   "cell_type": "markdown",
   "id": "9955eb5c-5c49-4c20-bbe5-32d2d547527a",
   "metadata": {},
   "source": [
    "An example to plot the image in the log scale"
   ]
  },
  {
   "cell_type": "code",
   "execution_count": 25,
   "id": "79bde8df-6fa3-430f-895e-06d7e6f91a9f",
   "metadata": {},
   "outputs": [
    {
     "data": {
      "image/png": "[encoded data removed]",
      "text/plain": [
       "<Figure size 850x540 with 2 Axes>"
      ]
     },
     "metadata": {},
     "output_type": "display_data"
    }
   ],
   "source": [
    "iteration_idx = 49\n",
    "\n",
    "result = image_deconvolution.results[iteration_idx]\n",
    "\n",
    "iteration = result['iteration']\n",
    "image = result['model']\n",
    "\n",
    "data = image[:,0]\n",
    "data[data <= 0 * data.unit] = 1e-12 * data.unit\n",
    "\n",
    "hp.mollview(data, min = 1e-5, norm ='log', unit = str(data.unit), title = f'511 keV image at {iteration}th iteration', cmap = 'magma')\n",
    "\n",
    "plt.show()"
   ]
  },
  {
   "cell_type": "markdown",
   "id": "11691974-ff40-4f23-a17a-59b241f8727c",
   "metadata": {},
   "source": [
    "**Note: when you use a smoothing filter, you may see arfacts like many rings around the galactic center as seen in the next image. This is likely caused by the calculation errors of hp.smoothing and the high contrast of the 511 keV image. It is expected that these artifacts will be mitigated by using finer pixel resolution.**\n",
    "\n",
    "For reference, the parameters used for the image below is:\n",
    "```\n",
    "algorithm: RL\n",
    "parameter:\n",
    "  acceleration: true\n",
    "  alpha_max: 2.0\n",
    "  background_normalization_optimization: true\n",
    "  background_normalization_range:\n",
    "    albedo:\n",
    "    - 0.01\n",
    "    - 10.0\n",
    "  iteration_max: 50\n",
    "  response_weighting: false\n",
    "  response_weighting_index: 0.5\n",
    "  save_results: false\n",
    "  save_results_directory: ./results\n",
    "  smoothing: true\n",
    "  smoothing_FWHM:\n",
    "    unit: deg\n",
    "    value: 2.0\n",
    "```"
   ]
  },
  {
   "cell_type": "code",
   "execution_count": 28,
   "id": "2e91030b-0ae0-4d77-8bf8-e51bb636536c",
   "metadata": {},
   "outputs": [
    {
     "data": {
      "image/png": "[encoded data removed]",
      "text/plain": [
       "<Figure size 850x540 with 2 Axes>"
      ]
     },
     "metadata": {},
     "output_type": "display_data"
    }
   ],
   "source": [
    "iteration_idx = 49\n",
    "\n",
    "result = image_deconvolution.results[iteration_idx]\n",
    "\n",
    "iteration = result['iteration']\n",
    "image = result['model']\n",
    "\n",
    "data = image[:,0]\n",
    "data[data <= 0 * data.unit] = 1e-12 * data.unit\n",
    "\n",
    "hp.mollview(data, min = 1e-5, norm ='log', unit = str(data.unit), title = f'511 keV image at {iteration}th iteration', cmap = 'magma')\n",
    "\n",
    "plt.show()"
   ]
  },
  {
   "cell_type": "code",
   "execution_count": null,
   "id": "fdd4fc0f-daf7-458b-b365-633a30b1de0f",
   "metadata": {},
   "outputs": [],
   "source": []
  }
 ],
 "metadata": {
  "kernelspec": {
   "display_name": "python-env",
   "language": "python",
   "name": "python-env"
  },
  "language_info": {
   "codemirror_mode": {
    "name": "ipython",
    "version": 3
   },
   "file_extension": ".py",
   "mimetype": "text/x-python",
   "name": "python",
   "nbconvert_exporter": "python",
   "pygments_lexer": "ipython3",
   "version": "3.10.15"
  }
 },
 "nbformat": 4,
 "nbformat_minor": 5
}
