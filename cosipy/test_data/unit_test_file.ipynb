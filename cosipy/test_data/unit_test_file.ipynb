{
 "cells": [
  {
   "cell_type": "code",
   "execution_count": null,
   "metadata": {},
   "outputs": [],
   "source": [
    "from cosipy import response\n",
    "from cosipy import test_data\n",
    "from cosipy import BinnedData\n",
    "from histpy import Histogram, Axes, Axis, HealpixAxis\n",
    "import astropy.units as u\n",
    "import numpy as np\n",
    "import healpy as hp"
   ]
  },
  {
   "cell_type": "code",
   "execution_count": null,
   "metadata": {},
   "outputs": [],
   "source": [
    "full_detector_response = response.FullDetectorResponse.open(test_data.path / \"test_full_detector_response.h5\")\n",
    "full_detector_response"
   ]
  },
  {
   "cell_type": "markdown",
   "metadata": {},
   "source": [
    "# Binned Histogram"
   ]
  },
  {
   "cell_type": "code",
   "execution_count": null,
   "metadata": {},
   "outputs": [],
   "source": [
    "analysis = BinnedData(test_data.path / \"inputs_crab.yaml\")\n",
    "analysis"
   ]
  },
  {
   "cell_type": "code",
   "execution_count": null,
   "metadata": {},
   "outputs": [],
   "source": [
    "analysis.energy_bins = full_detector_response.axes['Em'].edges.to(u.keV).value\n",
    "analysis.nside = full_detector_response.axes['PsiChi'].nside\n",
    "\n",
    "assert np.all(full_detector_response.axes['Phi'].widths == full_detector_response.axes['Phi'].widths[0]) == True\n",
    "\n",
    "analysis.phi_pix_size = full_detector_response.axes['Phi'].widths[0].to(u.deg).value\n",
    "\n",
    "analysis.time_bins = 10 #s"
   ]
  },
  {
   "cell_type": "code",
   "execution_count": null,
   "metadata": {},
   "outputs": [],
   "source": [
    "analysis.get_binned_data(test_data.path / \"unbinned_data_MEGAlib_calc.hdf5\", output_name = \"test_event_histogram_localCDS\", psichi_binning = 'local')"
   ]
  },
  {
   "cell_type": "code",
   "execution_count": null,
   "metadata": {},
   "outputs": [],
   "source": [
    "analysis.binned_data.axes['Time'].edges"
   ]
  },
  {
   "cell_type": "code",
   "execution_count": null,
   "metadata": {},
   "outputs": [],
   "source": [
    "np.all(analysis.binned_data.axes['Em'].edges == full_detector_response.axes['Em'].edges)"
   ]
  },
  {
   "cell_type": "code",
   "execution_count": null,
   "metadata": {},
   "outputs": [],
   "source": [
    "# note that axis_scale of the response and event histogram are not consistent (2024-07-04)\n",
    "\n",
    "print(analysis.binned_data.axes['Em'] == full_detector_response.axes['Em'])\n",
    "print(analysis.binned_data.axes['Em'].axis_scale, full_detector_response.axes['Em'].axis_scale)"
   ]
  },
  {
   "cell_type": "code",
   "execution_count": null,
   "metadata": {},
   "outputs": [],
   "source": [
    "analysis.binned_data.axes['Phi'] == full_detector_response.axes['Phi']"
   ]
  },
  {
   "cell_type": "code",
   "execution_count": null,
   "metadata": {},
   "outputs": [],
   "source": [
    "analysis.binned_data.axes['PsiChi'] == full_detector_response.axes['PsiChi']"
   ]
  },
  {
   "cell_type": "code",
   "execution_count": null,
   "metadata": {},
   "outputs": [],
   "source": [
    "analysis.get_binned_data(\"unbinned_data_MEGAlib_calc.hdf5\", output_name = \"test_event_histogram_galacticCDS\", psichi_binning = 'galactic')"
   ]
  },
  {
   "cell_type": "code",
   "execution_count": null,
   "metadata": {},
   "outputs": [],
   "source": [
    "# coordsys becomes different\n",
    "\n",
    "print(analysis.binned_data.axes['PsiChi'].coordsys, full_detector_response.axes['PsiChi'].coordsys)\n",
    "analysis.binned_data.axes['PsiChi'] == full_detector_response.axes['PsiChi']"
   ]
  },
  {
   "cell_type": "code",
   "execution_count": null,
   "metadata": {},
   "outputs": [],
   "source": [
    "analysis.binned_data.axes['Time'].edges\n",
    "# should it be a list of astropy.time.Time?"
   ]
  },
  {
   "cell_type": "markdown",
   "metadata": {},
   "source": [
    "# pre-computed response file (for testing)\n",
    "\n",
    "**the response is not rotated correctly because this is used just for unit test.**"
   ]
  },
  {
   "cell_type": "code",
   "execution_count": null,
   "metadata": {},
   "outputs": [],
   "source": [
    "rsp_axes = [HealpixAxis(nside=1, scheme='ring', coordsys='galactic', label = 'NuLambda'),\n",
    "            full_detector_response.axes['Ei'], full_detector_response.axes['Em'], full_detector_response.axes['Phi'],\n",
    "            HealpixAxis(nside=1, scheme='ring', coordsys='galactic', label = 'PsiChi')]\n",
    "    \n",
    "precomputed_response = Histogram(rsp_axes, unit = full_detector_response.unit * u.s)"
   ]
  },
  {
   "cell_type": "code",
   "execution_count": null,
   "metadata": {},
   "outputs": [],
   "source": [
    "exposure_time = 10 * u.s"
   ]
  },
  {
   "cell_type": "code",
   "execution_count": null,
   "metadata": {},
   "outputs": [],
   "source": [
    "precomputed_response.axes['PsiChi'] == analysis.binned_data.axes['PsiChi']"
   ]
  },
  {
   "cell_type": "code",
   "execution_count": null,
   "metadata": {},
   "outputs": [],
   "source": [
    "precomputed_response.unit"
   ]
  },
  {
   "cell_type": "code",
   "execution_count": null,
   "metadata": {},
   "outputs": [],
   "source": [
    "for ipix in range(hp.nside2npix(full_detector_response.nside)):\n",
    "    precomputed_response[ipix] = full_detector_response[ipix].project(['Ei', 'Em', 'Phi', 'PsiChi']).to_dense().contents * exposure_time"
   ]
  },
  {
   "cell_type": "code",
   "execution_count": null,
   "metadata": {},
   "outputs": [],
   "source": [
    "precomputed_response.write(\"test_precomputed_response.h5\", overwrite=True)"
   ]
  }
 ],
 "metadata": {
  "kernelspec": {
   "display_name": "Python 3",
   "language": "python",
   "name": "python3"
  },
  "language_info": {
   "codemirror_mode": {
    "name": "ipython",
    "version": 3
   },
   "file_extension": ".py",
   "mimetype": "text/x-python",
   "name": "python",
   "nbconvert_exporter": "python",
   "pygments_lexer": "ipython3",
   "version": "3.7.7"
  }
 },
 "nbformat": 4,
 "nbformat_minor": 5
}
