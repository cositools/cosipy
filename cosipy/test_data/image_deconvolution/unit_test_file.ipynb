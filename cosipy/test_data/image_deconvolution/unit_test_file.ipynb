{
 "cells": [
  {
   "cell_type": "markdown",
   "metadata": {
    "tags": []
   },
   "source": [
    "# Files for unit test"
   ]
  },
  {
   "cell_type": "code",
   "execution_count": null,
   "metadata": {},
   "outputs": [],
   "source": [
    "import numpy as np\n",
    "import healpy as hp\n",
    "import astropy.units as u\n",
    "\n",
    "from histpy import Histogram\n",
    "\n",
    "from cosipy import test_data\n",
    "from cosipy.image_deconvolution import CoordsysConversionMatrix, SpacecraftAttitudeExposureTable, AllSkyImageModel, DataIF_COSI_DC2\n",
    "from cosipy.spacecraftfile import SpacecraftFile\n",
    "\n",
    "from cosipy.response import FullDetectorResponse"
   ]
  },
  {
   "cell_type": "code",
   "execution_count": null,
   "metadata": {},
   "outputs": [],
   "source": [
    "nside = 1"
   ]
  },
  {
   "cell_type": "code",
   "execution_count": null,
   "metadata": {},
   "outputs": [],
   "source": [
    "ori = SpacecraftFile.parse_from_file(test_data.path / \"20280301_first_10sec.ori\")\n",
    "ori"
   ]
  },
  {
   "cell_type": "markdown",
   "metadata": {},
   "source": [
    "# Exposure Table"
   ]
  },
  {
   "cell_type": "code",
   "execution_count": null,
   "metadata": {},
   "outputs": [],
   "source": [
    "nside = 1\n",
    "\n",
    "exposure_table = SpacecraftAttitudeExposureTable.from_orientation(ori, nside=nside, start=ori.get_time()[0], stop=ori.get_time()[-1], min_exposure=0, min_num_pointings=1)\n",
    "\n",
    "exposure_table"
   ]
  },
  {
   "cell_type": "code",
   "execution_count": null,
   "metadata": {},
   "outputs": [],
   "source": [
    "exposure_table.to_pickle(test_data.path / \"image_deconvolution\" / \"exposure_table_test_nside1_ring.pickle\")"
   ]
  },
  {
   "cell_type": "code",
   "execution_count": null,
   "metadata": {},
   "outputs": [],
   "source": [
    "exposure_table.save_as_fits(test_data.path / \"image_deconvolution\" / \"exposure_table_test_nside1_ring.fits\", overwrite=True)"
   ]
  },
  {
   "cell_type": "code",
   "execution_count": null,
   "metadata": {},
   "outputs": [],
   "source": [
    "map_pointing_zx = exposure_table.calc_pointing_trajectory_map()"
   ]
  },
  {
   "cell_type": "code",
   "execution_count": null,
   "metadata": {},
   "outputs": [],
   "source": [
    "map_pointing_zx.write(test_data.path / \"image_deconvolution\" / \"map_pointing_zx_test_nside1_ring.hdf5\", overwrite=True)"
   ]
  },
  {
   "cell_type": "code",
   "execution_count": null,
   "metadata": {},
   "outputs": [],
   "source": [
    "hp.mollview(map_pointing_zx.contents[:,0].todense())"
   ]
  },
  {
   "cell_type": "markdown",
   "metadata": {},
   "source": [
    "# CoordsysConversionMatrix using time bins"
   ]
  },
  {
   "cell_type": "code",
   "execution_count": null,
   "metadata": {},
   "outputs": [],
   "source": [
    "full_detector_response = FullDetectorResponse.open(test_data.path / \"test_full_detector_response.h5\")"
   ]
  },
  {
   "cell_type": "code",
   "execution_count": null,
   "metadata": {},
   "outputs": [],
   "source": [
    "full_detector_response"
   ]
  },
  {
   "cell_type": "code",
   "execution_count": null,
   "metadata": {},
   "outputs": [],
   "source": [
    "ccm = CoordsysConversionMatrix.time_binning_ccm(full_detector_response, ori, [ori.get_time()[0].value, ori.get_time()[-1].value] * u.s)"
   ]
  },
  {
   "cell_type": "code",
   "execution_count": null,
   "metadata": {},
   "outputs": [],
   "source": [
    "ccm.axes['Time'].edges"
   ]
  },
  {
   "cell_type": "code",
   "execution_count": null,
   "metadata": {},
   "outputs": [],
   "source": [
    "ccm.write(test_data.path / \"image_deconvolution\" / 'ccm_time_test.hdf5', overwrite=True)"
   ]
  },
  {
   "cell_type": "markdown",
   "metadata": {},
   "source": [
    "# CoordsysConversionMatrix using ScAtt bins"
   ]
  },
  {
   "cell_type": "code",
   "execution_count": null,
   "metadata": {},
   "outputs": [],
   "source": [
    "ccm = CoordsysConversionMatrix.spacecraft_attitude_binning_ccm(full_detector_response, exposure_table)"
   ]
  },
  {
   "cell_type": "code",
   "execution_count": null,
   "metadata": {},
   "outputs": [],
   "source": [
    "ccm_use_averaged_pointing = CoordsysConversionMatrix.spacecraft_attitude_binning_ccm(full_detector_response, exposure_table, use_averaged_pointing = True)"
   ]
  },
  {
   "cell_type": "code",
   "execution_count": null,
   "metadata": {},
   "outputs": [],
   "source": [
    "ccm.write(test_data.path / \"image_deconvolution\" / 'ccm_scatt_use_averaged_pointing_False_test.hdf5', overwrite=True)"
   ]
  },
  {
   "cell_type": "code",
   "execution_count": null,
   "metadata": {},
   "outputs": [],
   "source": [
    "ccm_use_averaged_pointing.write(test_data.path / \"image_deconvolution\" / 'ccm_scatt_use_averaged_pointing_True_test.hdf5', overwrite=True)"
   ]
  },
  {
   "cell_type": "markdown",
   "metadata": {},
   "source": [
    "# AllSkyImageModel"
   ]
  },
  {
   "cell_type": "code",
   "execution_count": null,
   "metadata": {},
   "outputs": [],
   "source": [
    "model = AllSkyImageModel(nside = nside, energy_edges = [100.0, 1000.0] * u.keV)\n",
    "model[:] = 1.0 / u.s / u.sr / u.cm**2"
   ]
  },
  {
   "cell_type": "code",
   "execution_count": null,
   "metadata": {},
   "outputs": [],
   "source": [
    "model.write(test_data.path / \"image_deconvolution\" / 'all_sky_image_model_test_nside1.hdf5', overwrite=True)"
   ]
  },
  {
   "cell_type": "code",
   "execution_count": null,
   "metadata": {},
   "outputs": [],
   "source": []
  },
  {
   "cell_type": "markdown",
   "metadata": {},
   "source": [
    "# Histogram in ScAtt Binning"
   ]
  },
  {
   "cell_type": "code",
   "execution_count": null,
   "metadata": {},
   "outputs": [],
   "source": [
    "from cosipy import response\n",
    "from cosipy import test_data\n",
    "from cosipy import BinnedData\n",
    "from histpy import Histogram, Axes, Axis, HealpixAxis\n",
    "from scoords import Attitude, SpacecraftFrame\n",
    "from astropy.coordinates import SkyCoord, ICRS, Galactic, FK4, FK5\n",
    "import astropy.units as u\n",
    "import numpy as np\n",
    "import healpy as hp"
   ]
  },
  {
   "cell_type": "code",
   "execution_count": null,
   "metadata": {
    "scrolled": true
   },
   "outputs": [],
   "source": [
    "full_detector_response = response.FullDetectorResponse.open(test_data.path / \"test_full_detector_response.h5\")\n",
    "full_detector_response"
   ]
  },
  {
   "cell_type": "code",
   "execution_count": null,
   "metadata": {},
   "outputs": [],
   "source": [
    "analysis = BinnedData(test_data.path / \"inputs_crab.yaml\")\n",
    "analysis"
   ]
  },
  {
   "cell_type": "code",
   "execution_count": null,
   "metadata": {},
   "outputs": [],
   "source": [
    "analysis.energy_bins = full_detector_response.axes['Em'].edges.to(u.keV).value\n",
    "analysis.nside = full_detector_response.axes['PsiChi'].nside\n",
    "\n",
    "assert np.all(full_detector_response.axes['Phi'].widths == full_detector_response.axes['Phi'].widths[0]) == True\n",
    "\n",
    "analysis.phi_pix_size = full_detector_response.axes['Phi'].widths[0].to(u.deg).value\n",
    "\n",
    "analysis.time_bins = 10 #s"
   ]
  },
  {
   "cell_type": "code",
   "execution_count": null,
   "metadata": {},
   "outputs": [],
   "source": [
    "def get_binned_data_scatt(unbinned_event, exposure_table, psichi_binning = 'local', sparse = False):\n",
    "    exposure_dict = {row['healpix_index']: row['scatt_binning_index'] for _, row in exposure_table.iterrows()}\n",
    "        \n",
    "    # from BinnedData.py\n",
    " \n",
    "    # Get energy bins:\n",
    "    energy_bin_edges = np.array(unbinned_event.energy_bins)\n",
    "    \n",
    "    # Get phi bins:\n",
    "    number_phi_bins = int(180./unbinned_event.phi_pix_size)\n",
    "    phi_bin_edges = np.linspace(0,180,number_phi_bins+1)\n",
    "    \n",
    "    # Define psichi axis and data for binning:\n",
    "    if psichi_binning == 'galactic':\n",
    "        psichi_axis = HealpixAxis(nside = unbinned_event.nside, scheme = unbinned_event.scheme, coordsys = 'galactic', label='PsiChi')\n",
    "        coords = SkyCoord(l=unbinned_event.cosi_dataset['Chi galactic']*u.deg, b=unbinned_event.cosi_dataset['Psi galactic']*u.deg, frame = 'galactic')\n",
    "    if psichi_binning == 'local':\n",
    "        psichi_axis = HealpixAxis(nside = unbinned_event.nside, scheme = unbinned_event.scheme, coordsys = SpacecraftFrame(), label='PsiChi')\n",
    "        coords = SkyCoord(lon=unbinned_event.cosi_dataset['Chi local']*u.rad, lat=((np.pi/2.0) - unbinned_event.cosi_dataset['Psi local'])*u.rad, frame = SpacecraftFrame())\n",
    "\n",
    "    # Define scatt axis and data for binning\n",
    "    n_scatt_bins = len(exposure_table)\n",
    "    scatt_axis = Axis(np.arange(n_scatt_bins + 1), label='ScAtt')\n",
    "    \n",
    "    is_nest = True if exposure_table.scheme == 'nested' else False\n",
    "    \n",
    "    nside_scatt = exposure_table.nside\n",
    "    \n",
    "#    zindex = hp.ang2pix(nside_scatt, unbinned_event.cosi_dataset['Zpointings (glon,glat)'].T[0] * 180 / np.pi, \n",
    "#                        unbinned_event.cosi_dataset['Zpointings (glon,glat)'].T[1] * 180 / np.pi, nest=is_nest, lonlat=True)\n",
    "#    xindex = hp.ang2pix(nside_scatt, unbinned_event.cosi_dataset['Xpointings (glon,glat)'].T[0] * 180 / np.pi, \n",
    "#                        unbinned_event.cosi_dataset['Xpointings (glon,glat)'].T[1] * 180 / np.pi, nest=is_nest, lonlat=True)    \n",
    "#    scatt_data = np.array( [ exposure_dict[(z, x)] + 0.5 if (z,x) in exposure_dict.keys() else -1 for z, x in zip(zindex, xindex)] ) # should this \"0.5\" be needed?\n",
    "\n",
    "    # NOTE: test_data.path / \"unbinned_data_MEGAlib_calc.hdf5\" is written in a old format!!!\n",
    "    zindex = hp.ang2pix(nside_scatt, unbinned_event.cosi_dataset['Zpointings'].T[0] * 180 / np.pi, \n",
    "                        unbinned_event.cosi_dataset['Zpointings'].T[1] * 180 / np.pi, nest=is_nest, lonlat=True)\n",
    "    xindex = hp.ang2pix(nside_scatt, unbinned_event.cosi_dataset['Xpointings'].T[0] * 180 / np.pi, \n",
    "                        unbinned_event.cosi_dataset['Xpointings'].T[1] * 180 / np.pi, nest=is_nest, lonlat=True)    \n",
    "    scatt_data = np.array( [ exposure_dict[(z, x)] + 0.5 if (z,x) in exposure_dict.keys() else -1 for z, x in zip(zindex, xindex)] ) # should this \"0.5\" be needed?\n",
    "    \n",
    "    # Initialize histogram:\n",
    "    binned_data = Histogram([scatt_axis,\n",
    "                              Axis(energy_bin_edges*u.keV, label='Em'),\n",
    "                              Axis(phi_bin_edges*u.deg, label='Phi'),\n",
    "                              psichi_axis],\n",
    "                              sparse=sparse)\n",
    "\n",
    "    # Fill histogram:\n",
    "    binned_data.fill(scatt_data, unbinned_event.cosi_dataset['Energies']*u.keV, np.rad2deg(unbinned_event.cosi_dataset['Phi'])*u.deg, coords)    \n",
    "    \n",
    "    return binned_data"
   ]
  },
  {
   "cell_type": "code",
   "execution_count": null,
   "metadata": {},
   "outputs": [],
   "source": [
    "analysis.cosi_dataset = analysis.get_dict_from_hdf5(test_data.path / \"unbinned_data_MEGAlib_calc.hdf5\")"
   ]
  },
  {
   "cell_type": "code",
   "execution_count": null,
   "metadata": {},
   "outputs": [],
   "source": [
    "binned_signal = get_binned_data_scatt(analysis, exposure_table, psichi_binning = 'local', sparse = False)"
   ]
  },
  {
   "cell_type": "code",
   "execution_count": null,
   "metadata": {},
   "outputs": [],
   "source": [
    "binned_signal.write(test_data.path / \"image_deconvolution\" / 'test_event_histogram_localCDS_scatt.h5', overwrite=True)"
   ]
  }
 ],
 "metadata": {
  "kernelspec": {
   "display_name": "Python 3",
   "language": "python",
   "name": "python3"
  },
  "language_info": {
   "codemirror_mode": {
    "name": "ipython",
    "version": 3
   },
   "file_extension": ".py",
   "mimetype": "text/x-python",
   "name": "python",
   "nbconvert_exporter": "python",
   "pygments_lexer": "ipython3",
   "version": "3.7.7"
  }
 },
 "nbformat": 4,
 "nbformat_minor": 5
}
